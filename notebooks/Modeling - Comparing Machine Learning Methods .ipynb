{
 "cells": [
  {
   "cell_type": "code",
   "execution_count": 1,
   "metadata": {},
   "outputs": [
    {
     "data": {
      "text/html": [
       "<div id=\"my_id_menu_nb\">run previous cell, wait for 2 seconds</div>\n",
       "<script>\n",
       "function repeat_indent_string(n){\n",
       "    var a = \"\" ;\n",
       "    for ( ; n > 0 ; --n)\n",
       "        a += \"    \";\n",
       "    return a;\n",
       "}\n",
       "// look up into all sections and builds an automated menu //\n",
       "var update_menu_string = function(begin, lfirst, llast, sformat, send, keep_item, begin_format, end_format) {\n",
       "    var anchors = document.getElementsByClassName(\"section\");\n",
       "    if (anchors.length == 0) {\n",
       "        anchors = document.getElementsByClassName(\"text_cell_render rendered_html\");\n",
       "    }\n",
       "    var i,t;\n",
       "    var text_menu = begin;\n",
       "    var text_memo = \"<pre>\\nlength:\" + anchors.length + \"\\n\";\n",
       "    var ind = \"\";\n",
       "    var memo_level = 1;\n",
       "    var href;\n",
       "    var tags = [];\n",
       "    var main_item = 0;\n",
       "    var format_open = 0;\n",
       "    for (i = 0; i <= llast; i++)\n",
       "        tags.push(\"h\" + i);\n",
       "\n",
       "    for (i = 0; i < anchors.length; i++) {\n",
       "        text_memo += \"**\" + anchors[i].id + \"--\\n\";\n",
       "\n",
       "        var child = null;\n",
       "        for(t = 0; t < tags.length; t++) {\n",
       "            var r = anchors[i].getElementsByTagName(tags[t]);\n",
       "            if (r.length > 0) {\n",
       "child = r[0];\n",
       "break;\n",
       "            }\n",
       "        }\n",
       "        if (child == null) {\n",
       "            text_memo += \"null\\n\";\n",
       "            continue;\n",
       "        }\n",
       "        if (anchors[i].hasAttribute(\"id\")) {\n",
       "            // when converted in RST\n",
       "            href = anchors[i].id;\n",
       "            text_memo += \"#1-\" + href;\n",
       "            // passer à child suivant (le chercher)\n",
       "        }\n",
       "        else if (child.hasAttribute(\"id\")) {\n",
       "            // in a notebook\n",
       "            href = child.id;\n",
       "            text_memo += \"#2-\" + href;\n",
       "        }\n",
       "        else {\n",
       "            text_memo += \"#3-\" + \"*\" + \"\\n\";\n",
       "            continue;\n",
       "        }\n",
       "        var title = child.textContent;\n",
       "        var level = parseInt(child.tagName.substring(1,2));\n",
       "\n",
       "        text_memo += \"--\" + level + \"?\" + lfirst + \"--\" + title + \"\\n\";\n",
       "\n",
       "        if ((level < lfirst) || (level > llast)) {\n",
       "            continue ;\n",
       "        }\n",
       "        if (title.endsWith('¶')) {\n",
       "            title = title.substring(0,title.length-1).replace(\"<\", \"&lt;\")\n",
       "         .replace(\">\", \"&gt;\").replace(\"&\", \"&amp;\");\n",
       "        }\n",
       "        if (title.length == 0) {\n",
       "            continue;\n",
       "        }\n",
       "\n",
       "        while (level < memo_level) {\n",
       "            text_menu += end_format + \"</ul>\\n\";\n",
       "            format_open -= 1;\n",
       "            memo_level -= 1;\n",
       "        }\n",
       "        if (level == lfirst) {\n",
       "            main_item += 1;\n",
       "        }\n",
       "        if (keep_item != -1 && main_item != keep_item + 1) {\n",
       "            // alert(main_item + \" - \" + level + \" - \" + keep_item);\n",
       "            continue;\n",
       "        }\n",
       "        while (level > memo_level) {\n",
       "            text_menu += \"<ul>\\n\";\n",
       "            memo_level += 1;\n",
       "        }\n",
       "        text_menu += repeat_indent_string(level-2);\n",
       "        text_menu += begin_format + sformat.replace(\"__HREF__\", href).replace(\"__TITLE__\", title);\n",
       "        format_open += 1;\n",
       "    }\n",
       "    while (1 < memo_level) {\n",
       "        text_menu += end_format + \"</ul>\\n\";\n",
       "        memo_level -= 1;\n",
       "        format_open -= 1;\n",
       "    }\n",
       "    text_menu += send;\n",
       "    //text_menu += \"\\n\" + text_memo;\n",
       "\n",
       "    while (format_open > 0) {\n",
       "        text_menu += end_format;\n",
       "        format_open -= 1;\n",
       "    }\n",
       "    return text_menu;\n",
       "};\n",
       "var update_menu = function() {\n",
       "    var sbegin = \"\";\n",
       "    var sformat = '<a href=\"#__HREF__\">__TITLE__</a>';\n",
       "    var send = \"\";\n",
       "    var begin_format = '<li>';\n",
       "    var end_format = '</li>';\n",
       "    var keep_item = -1;\n",
       "    var text_menu = update_menu_string(sbegin, 2, 4, sformat, send, keep_item,\n",
       "       begin_format, end_format);\n",
       "    var menu = document.getElementById(\"my_id_menu_nb\");\n",
       "    menu.innerHTML=text_menu;\n",
       "};\n",
       "window.setTimeout(update_menu,2000);\n",
       "            </script>"
      ],
      "text/plain": [
       "<IPython.core.display.HTML object>"
      ]
     },
     "execution_count": 1,
     "metadata": {},
     "output_type": "execute_result"
    }
   ],
   "source": [
    "from jyquickhelper import add_notebook_menu\n",
    "add_notebook_menu()"
   ]
  },
  {
   "cell_type": "code",
   "execution_count": 2,
   "metadata": {
    "collapsed": true
   },
   "outputs": [],
   "source": [
    "import warnings\n",
    "warnings.filterwarnings('ignore')"
   ]
  },
  {
   "cell_type": "markdown",
   "metadata": {},
   "source": [
    "## Let's try to do our best with a few ML model"
   ]
  },
  {
   "cell_type": "code",
   "execution_count": 3,
   "metadata": {
    "scrolled": true
   },
   "outputs": [
    {
     "data": {
      "text/html": [
       "<script>requirejs.config({paths: { 'plotly': ['https://cdn.plot.ly/plotly-latest.min']},});if(!window.Plotly) {{require(['plotly'],function(plotly) {window.Plotly=plotly;});}}</script>"
      ],
      "text/vnd.plotly.v1+html": [
       "<script>requirejs.config({paths: { 'plotly': ['https://cdn.plot.ly/plotly-latest.min']},});if(!window.Plotly) {{require(['plotly'],function(plotly) {window.Plotly=plotly;});}}</script>"
      ]
     },
     "metadata": {},
     "output_type": "display_data"
    }
   ],
   "source": [
    "import pandas as pd\n",
    "import numpy as np\n",
    "import sklearn\n",
    "from sklearn.model_selection import train_test_split\n",
    "import seaborn as sns\n",
    "import matplotlib.pyplot as plt\n",
    "%matplotlib inline\n",
    "\n",
    "import plotly.offline as py\n",
    "py.init_notebook_mode(connected=True)\n",
    "import plotly.graph_objs as go\n",
    "import plotly.tools as tls"
   ]
  },
  {
   "cell_type": "code",
   "execution_count": 4,
   "metadata": {},
   "outputs": [
    {
     "data": {
      "text/plain": [
       "'0.18.1'"
      ]
     },
     "execution_count": 4,
     "metadata": {},
     "output_type": "execute_result"
    }
   ],
   "source": [
    "sklearn.__version__"
   ]
  },
  {
   "cell_type": "code",
   "execution_count": 5,
   "metadata": {},
   "outputs": [
    {
     "name": "stderr",
     "output_type": "stream",
     "text": [
      "C:\\Users\\Delanoue\\Anaconda3\\lib\\site-packages\\sklearn\\ensemble\\weight_boosting.py:29: DeprecationWarning:\n",
      "\n",
      "numpy.core.umath_tests is an internal NumPy module and should not be imported. It will be removed in a future NumPy release.\n",
      "\n",
      "C:\\Users\\Delanoue\\Anaconda3\\lib\\site-packages\\sklearn\\cross_validation.py:44: DeprecationWarning:\n",
      "\n",
      "This module was deprecated in version 0.18 in favor of the model_selection module into which all the refactored classes and functions are moved. Also note that the interface of the new CV iterators are different from that of this module. This module will be removed in 0.20.\n",
      "\n"
     ]
    }
   ],
   "source": [
    "from sklearn.ensemble import (RandomForestClassifier, AdaBoostClassifier,\n",
    "                              GradientBoostingClassifier, ExtraTreesClassifier)\n",
    "\n",
    "from sklearn.cross_validation import KFold"
   ]
  },
  {
   "cell_type": "markdown",
   "metadata": {},
   "source": [
    "## Data Preparation"
   ]
  },
  {
   "cell_type": "markdown",
   "metadata": {},
   "source": [
    "We use the data preparation explained in the notebook called \"Data Preparation for our studies \"\n"
   ]
  },
  {
   "cell_type": "markdown",
   "metadata": {},
   "source": [
    "import pandas as pd\n",
    "import numpy as np\n",
    "from transplant.config import *\n",
    "\n",
    "df = pd.read_csv(PATH_STATIC_CLEAN)[STATIC_CATEGORIES['patient_intraoperative']]\n",
    "declampage_col = list(df.filter(like='declampage_cote_2').columns)\n",
    "declampage_col.append('id_patient')\n",
    "\n",
    "X_intra=df[declampage_col].apply(pd.to_numeric, errors='coerce').dropna(1, how=\"all\")\n",
    "\n",
    "from transplant.data.dataset import Dataset\n",
    "dataset = Dataset()\n",
    "\n",
    "train, test = dataset.get_static()\n",
    "X_train=train[['id_patient', 'target']]\n",
    "X_test=test[['id_patient', 'target']]\n",
    "\n",
    "X_train_intra_with_targ=pd.merge(X_train, X_intra, on='id_patient')\n",
    "X_test_intra_with_targ=pd.merge(X_test, X_intra, on='id_patient')\n",
    "\n",
    "mean_train = X_train_intra_with_targ.mean()\n",
    "\n",
    "train_filled = X_train_intra_with_targ.fillna(mean_train)\n",
    "test_filled = X_test_intra_with_targ.fillna(mean_train)\n",
    "\n",
    "\n",
    "\n",
    "X_train = np.array(train_filled.drop(['target','id_patient'], axis=1))\n",
    "X_test = np.array(test_filled.drop(['target','id_patient'], axis=1))\n",
    "y_train = np.array(train_filled['target'])\n",
    "y_test = np.array(test_filled['target'])\n",
    "X_col = train_filled.drop(['target','id_patient'], axis=1).columns"
   ]
  },
  {
   "cell_type": "code",
   "execution_count": 6,
   "metadata": {},
   "outputs": [],
   "source": [
    "def armand_funct():\n",
    "    \"\"\"\n",
    "    How to : X_train, X_test, y_train ,Y_test, col = armand_funct()\n",
    "    \"\"\"\n",
    "    from transplant.data.dataset import Dataset\n",
    "    \n",
    "    \n",
    "    # To get Target\n",
    "    dataset = Dataset()\n",
    "\n",
    "    train, test = dataset.get_static()\n",
    "    train['is_train'] = 1\n",
    "    test['is_train'] = 0\n",
    "    all_stat = pd.concat([train, test])\n",
    "    all_stat = all_stat[['id_patient', 'target', 'is_train']].copy()\n",
    "    \n",
    "    # Intra\n",
    "    df = pd.read_csv(PATH_STATIC_CLEAN)[STATIC_CATEGORIES['patient_intraoperative']]\n",
    "    declampage = list(df.filter(like='declampage_cote_2').columns)\n",
    "    declampage.append('id_patient')\n",
    "    df = df[declampage]\n",
    "    \n",
    "    # Intra Num\n",
    "    df_num = df.apply(pd.to_numeric, errors='coerce')\n",
    "    \n",
    "    # Merge with all_statto get target \n",
    "    df_num = df_num.merge(all_stat, on='id_patient')\n",
    "    \n",
    "    # Feature engi\n",
    "    df_num['nb_nan_feature'] = pd.isnull(df_num).sum(axis=1)\n",
    "    \n",
    "    df_num = df_num.fillna(-99) # \n",
    "    \n",
    "    \n",
    "    # Split \n",
    "    \n",
    "    y_train = np.array(df_num[df_num['is_train'] == 1]['target'])\n",
    "    y_test = np.array(df_num[df_num['is_train'] == 0]['target'])\n",
    "    \n",
    "    X_train = df_num[df_num['is_train'] == 1].drop(['target', 'id_patient', 'is_train'], axis=1)\n",
    "    X_test = df_num[df_num['is_train'] == 0].drop(['target', 'id_patient', 'is_train'], axis=1)\n",
    "    col = X_train.columns\n",
    "    \n",
    "    return X_train.values, X_test.values, y_train ,y_test, col"
   ]
  },
  {
   "cell_type": "code",
   "execution_count": 7,
   "metadata": {
    "collapsed": true
   },
   "outputs": [],
   "source": [
    "from transplant.data.dataset import Dataset\n",
    "dataset=Dataset()"
   ]
  },
  {
   "cell_type": "code",
   "execution_count": 8,
   "metadata": {},
   "outputs": [],
   "source": [
    "from transplant.data.learningset import Learningset\n",
    "from transplant.config import *\n",
    "learningset = Learningset()\n",
    "\n",
    "#X_train, X_test, y_train, y_test, X_col = learningset.get_static_filled(to_train=True)\n",
    "#X_train, X_test, y_train, y_test, X_col = learningset.get_data_merged_dynamic_flatten_full(\"cls\", False)\n",
    "X_train, X_test, y_train, y_test, X_col = armand_funct()"
   ]
  },
  {
   "cell_type": "code",
   "execution_count": null,
   "metadata": {},
   "outputs": [],
   "source": []
  },
  {
   "cell_type": "code",
   "execution_count": 9,
   "metadata": {},
   "outputs": [
    {
     "data": {
      "text/plain": [
       "((287, 24), (123, 24), (287,), (123,))"
      ]
     },
     "execution_count": 9,
     "metadata": {},
     "output_type": "execute_result"
    }
   ],
   "source": [
    "X_train.shape, X_test.shape, y_train.shape, y_test.shape"
   ]
  },
  {
   "cell_type": "markdown",
   "metadata": {},
   "source": [
    "We need to change the y format in order to make our models work"
   ]
  },
  {
   "cell_type": "code",
   "execution_count": 10,
   "metadata": {},
   "outputs": [],
   "source": [
    "y_train, y_test = y_train.reshape(-1, 1), y_test.reshape(-1, 1)"
   ]
  },
  {
   "cell_type": "code",
   "execution_count": 11,
   "metadata": {},
   "outputs": [
    {
     "data": {
      "text/plain": [
       "((287, 24), (123, 24), (287, 1), (123, 1))"
      ]
     },
     "execution_count": 11,
     "metadata": {},
     "output_type": "execute_result"
    }
   ],
   "source": [
    "X_train.shape, X_test.shape, y_train.shape, y_test.shape"
   ]
  },
  {
   "cell_type": "markdown",
   "metadata": {},
   "source": [
    "## ML Tuning"
   ]
  },
  {
   "cell_type": "code",
   "execution_count": 12,
   "metadata": {
    "collapsed": true
   },
   "outputs": [],
   "source": [
    "cols = X_col  # On a besoin des colonnes pour plus tard\n",
    "# On observe le grand X et pas le petit x ...\n",
    "\n",
    "ntrain = X_train.shape[0]\n",
    "\n",
    "ntest = X_test.shape[0]\n",
    "\n",
    "seed_fix = 5                   # Pour reproduire les résultats"
   ]
  },
  {
   "cell_type": "code",
   "execution_count": 13,
   "metadata": {},
   "outputs": [
    {
     "data": {
      "text/plain": [
       "(287, 123)"
      ]
     },
     "execution_count": 13,
     "metadata": {},
     "output_type": "execute_result"
    }
   ],
   "source": [
    "ntrain, ntest"
   ]
  },
  {
   "cell_type": "code",
   "execution_count": 14,
   "metadata": {
    "collapsed": true
   },
   "outputs": [],
   "source": [
    "class SklearnHelper(object):\n",
    "    def __init__(self, clf, seed=0, params=None):\n",
    "        params['random_state'] = seed\n",
    "        self.clf = clf(**params)\n",
    "\n",
    "    def train(self, x_train, y_train):\n",
    "        self.clf.fit(x_train, y_train)\n",
    "\n",
    "    def predict(self, x):\n",
    "        return self.clf.predict(x)\n",
    "\n",
    "    def fit(self, x, y):\n",
    "        return self.clf.fit(x, y)\n",
    "\n",
    "    def feature_importances(self, x, y):\n",
    "        return self.clf.fit(x, y).feature_importances_"
   ]
  },
  {
   "cell_type": "code",
   "execution_count": 15,
   "metadata": {
    "collapsed": true
   },
   "outputs": [],
   "source": [
    "NFOLDS = 5\n",
    "kf = KFold(ntrain, n_folds=NFOLDS, random_state=seed_fix)\n",
    "\n",
    "\n",
    "def get_oof(clf, x_train, y_train, x_test):\n",
    "    oof_train = np.zeros((ntrain,))\n",
    "    oof_test = np.zeros((ntest,))\n",
    "    oof_test_skf = np.empty((NFOLDS, ntest))\n",
    "\n",
    "    for i, (train_index, test_index) in enumerate(kf):\n",
    "        x_tr = x_train[train_index]\n",
    "        y_tr = y_train[train_index]\n",
    "        x_te = x_train[test_index]\n",
    "\n",
    "        clf.train(x_tr, y_tr)\n",
    "\n",
    "        oof_train[test_index] = clf.predict(x_te)\n",
    "        oof_test_skf[i, :] = clf.predict(x_test)\n",
    "\n",
    "    oof_test[:] = oof_test_skf.mean(axis=0)\n",
    "    return oof_train.reshape(-1, 1), oof_test.reshape(-1, 1)"
   ]
  },
  {
   "cell_type": "code",
   "execution_count": 16,
   "metadata": {
    "collapsed": true
   },
   "outputs": [],
   "source": [
    "rf_params = {\n",
    "    'n_jobs': -1,\n",
    "    'n_estimators': 500,\n",
    "    'warm_start': True,\n",
    "    # 'max_features': 0.2,\n",
    "    'max_depth': 6,\n",
    "    'min_samples_leaf': 2,\n",
    "    'max_features': 'sqrt',\n",
    "    'verbose': 0\n",
    "}"
   ]
  },
  {
   "cell_type": "code",
   "execution_count": 17,
   "metadata": {
    "collapsed": true
   },
   "outputs": [],
   "source": [
    "et_params = {\n",
    "    'n_jobs': -1,\n",
    "    'n_estimators': 500,\n",
    "    # 'max_features': 0.5,\n",
    "    'max_depth': 8,\n",
    "    'min_samples_leaf': 2,\n",
    "    'verbose': 0\n",
    "}"
   ]
  },
  {
   "cell_type": "code",
   "execution_count": 18,
   "metadata": {
    "collapsed": true
   },
   "outputs": [],
   "source": [
    "ada_params = {\n",
    "    'n_estimators': 500,\n",
    "    'learning_rate': 0.75\n",
    "}"
   ]
  },
  {
   "cell_type": "code",
   "execution_count": 19,
   "metadata": {
    "collapsed": true
   },
   "outputs": [],
   "source": [
    "gb_params = {\n",
    "    'n_estimators': 500,\n",
    "    # 'max_features': 0.2,\n",
    "    'max_depth': 5,\n",
    "    'min_samples_leaf': 2,\n",
    "    'verbose': 0\n",
    "}"
   ]
  },
  {
   "cell_type": "code",
   "execution_count": 20,
   "metadata": {
    "collapsed": true
   },
   "outputs": [],
   "source": [
    "rf = SklearnHelper(clf=RandomForestClassifier, seed=seed_fix, params=rf_params)\n",
    "et = SklearnHelper(clf=ExtraTreesClassifier, seed=seed_fix, params=et_params)\n",
    "ada = SklearnHelper(clf=AdaBoostClassifier, seed=seed_fix, params=ada_params)\n",
    "gb = SklearnHelper(clf=GradientBoostingClassifier,\n",
    "                   seed=seed_fix, params=gb_params)"
   ]
  },
  {
   "cell_type": "code",
   "execution_count": 21,
   "metadata": {},
   "outputs": [
    {
     "data": {
      "text/plain": [
       "((287, 24), (287, 1), (123, 24))"
      ]
     },
     "execution_count": 21,
     "metadata": {},
     "output_type": "execute_result"
    }
   ],
   "source": [
    "X_train.shape, y_train.shape, X_test.shape"
   ]
  },
  {
   "cell_type": "markdown",
   "metadata": {},
   "source": [
    "## Learning zone"
   ]
  },
  {
   "cell_type": "code",
   "execution_count": 22,
   "metadata": {},
   "outputs": [
    {
     "name": "stdout",
     "output_type": "stream",
     "text": [
      "I am done learning :D\n",
      "Wall time: 26.9 s\n"
     ]
    }
   ],
   "source": [
    "%%time\n",
    "et_oof_train, et_oof_test = get_oof(\n",
    "    et, X_train, y_train, X_test)  # Extra Trees\n",
    "rf_oof_train, rf_oof_test = get_oof(\n",
    "    rf, X_train, y_train, X_test)  # Random Forest\n",
    "ada_oof_train, ada_oof_test = get_oof(\n",
    "    ada, X_train, y_train, X_test)  # AdaBoost\n",
    "gb_oof_train, gb_oof_test = get_oof(\n",
    "    gb, X_train, y_train, X_test)  # Gradient Boost\n",
    "\n",
    "print(\"I am done learning :D\")"
   ]
  },
  {
   "cell_type": "code",
   "execution_count": 23,
   "metadata": {
    "collapsed": true
   },
   "outputs": [],
   "source": [
    "rf_feature = rf.feature_importances(X_train, y_train)\n",
    "et_feature = et.feature_importances(X_train, y_train)\n",
    "ada_feature = ada.feature_importances(X_train, y_train)\n",
    "gb_feature = gb.feature_importances(X_train, y_train)\n",
    "\n",
    "# On met plutot dans un dataFrame\n",
    "feature_dataframe = pd.DataFrame({'features': cols,\n",
    "                                  'Random Forest Importance des features': rf_feature,\n",
    "                                  'Extra Trees Importance des features': et_feature,\n",
    "                                  'AdaBoost Importance des features': ada_feature,\n",
    "                                  'Gradient Boost Importance des features': gb_feature\n",
    "                                  })"
   ]
  },
  {
   "cell_type": "code",
   "execution_count": 24,
   "metadata": {
    "collapsed": true
   },
   "outputs": [],
   "source": [
    "rf_pred = rf.predict(X_test)\n",
    "et_pred = et.predict(X_test)\n",
    "ada_pred = ada.predict(X_test)\n",
    "gb_pred = gb.predict(X_test)"
   ]
  },
  {
   "cell_type": "markdown",
   "metadata": {},
   "source": [
    "## Classification Reports"
   ]
  },
  {
   "cell_type": "markdown",
   "metadata": {},
   "source": [
    "For the ones who forgot : \n",
    "\n",
    "Compute the precision\n",
    "\n",
    "The precision is the ratio tp / (tp + fp) where tp is the number of true positives and fp the number of false positives. The precision is intuitively the ability of the classifier not to label as positive a sample that is negative.\n",
    "\n",
    "The best value is 1 and the worst value is 0.\n",
    "\n",
    "Compute the recall\n",
    "\n",
    "The recall is the ratio tp / (tp + fn) where tp is the number of true positives and fn the number of false negatives. The recall is intuitively the ability of the classifier to find all the positive samples.\n",
    "\n",
    "The best value is 1 and the worst value is 0.\n",
    "\n",
    "The F1 score can be interpreted as a weighted average of the precision and recall, where an F1 score reaches its best value at 1 and worst score at 0. The relative contribution of precision and recall to the F1 score are equal. The formula for the F1 score is:\n",
    "\n",
    "F1 = 2 (precision recall) / (precision + recall)\n",
    "\n",
    "The support is the number of occurrences of each class in y_true"
   ]
  },
  {
   "cell_type": "code",
   "execution_count": 25,
   "metadata": {
    "collapsed": true
   },
   "outputs": [],
   "source": [
    "from sklearn.metrics import confusion_matrix"
   ]
  },
  {
   "cell_type": "code",
   "execution_count": 26,
   "metadata": {
    "scrolled": true
   },
   "outputs": [
    {
     "data": {
      "text/plain": [
       "array([[60, 12],\n",
       "       [31, 20]])"
      ]
     },
     "execution_count": 26,
     "metadata": {},
     "output_type": "execute_result"
    }
   ],
   "source": [
    "confusion_matrix(y_test, rf_pred)"
   ]
  },
  {
   "cell_type": "code",
   "execution_count": 27,
   "metadata": {},
   "outputs": [
    {
     "data": {
      "text/plain": [
       "array([[65,  7],\n",
       "       [42,  9]])"
      ]
     },
     "execution_count": 27,
     "metadata": {},
     "output_type": "execute_result"
    }
   ],
   "source": [
    "confusion_matrix(y_test, et_pred)"
   ]
  },
  {
   "cell_type": "code",
   "execution_count": 28,
   "metadata": {},
   "outputs": [
    {
     "data": {
      "text/plain": [
       "array([[53, 19],\n",
       "       [27, 24]])"
      ]
     },
     "execution_count": 28,
     "metadata": {},
     "output_type": "execute_result"
    }
   ],
   "source": [
    "confusion_matrix(y_test, ada_pred)"
   ]
  },
  {
   "cell_type": "code",
   "execution_count": 29,
   "metadata": {},
   "outputs": [
    {
     "data": {
      "text/plain": [
       "array([[47, 25],\n",
       "       [27, 24]])"
      ]
     },
     "execution_count": 29,
     "metadata": {},
     "output_type": "execute_result"
    }
   ],
   "source": [
    "confusion_matrix(y_test, gb_pred)"
   ]
  },
  {
   "cell_type": "code",
   "execution_count": 30,
   "metadata": {},
   "outputs": [
    {
     "name": "stdout",
     "output_type": "stream",
     "text": [
      "             precision    recall  f1-score   support\n",
      "\n",
      "          0       0.83      0.66      0.74        91\n",
      "          1       0.39      0.62      0.48        32\n",
      "\n",
      "avg / total       0.72      0.65      0.67       123\n",
      "\n"
     ]
    }
   ],
   "source": [
    "from sklearn import metrics\n",
    "print(metrics.classification_report(rf_pred, y_test))"
   ]
  },
  {
   "cell_type": "code",
   "execution_count": 31,
   "metadata": {},
   "outputs": [
    {
     "name": "stdout",
     "output_type": "stream",
     "text": [
      "             precision    recall  f1-score   support\n",
      "\n",
      "          0       0.90      0.61      0.73       107\n",
      "          1       0.18      0.56      0.27        16\n",
      "\n",
      "avg / total       0.81      0.60      0.67       123\n",
      "\n"
     ]
    }
   ],
   "source": [
    "print(metrics.classification_report(et_pred, y_test))"
   ]
  },
  {
   "cell_type": "code",
   "execution_count": 32,
   "metadata": {},
   "outputs": [
    {
     "name": "stdout",
     "output_type": "stream",
     "text": [
      "             precision    recall  f1-score   support\n",
      "\n",
      "          0       0.74      0.66      0.70        80\n",
      "          1       0.47      0.56      0.51        43\n",
      "\n",
      "avg / total       0.64      0.63      0.63       123\n",
      "\n"
     ]
    }
   ],
   "source": [
    "print(metrics.classification_report(ada_pred, y_test))"
   ]
  },
  {
   "cell_type": "code",
   "execution_count": 33,
   "metadata": {},
   "outputs": [
    {
     "name": "stdout",
     "output_type": "stream",
     "text": [
      "             precision    recall  f1-score   support\n",
      "\n",
      "          0       0.65      0.64      0.64        74\n",
      "          1       0.47      0.49      0.48        49\n",
      "\n",
      "avg / total       0.58      0.58      0.58       123\n",
      "\n"
     ]
    }
   ],
   "source": [
    "print(metrics.classification_report(gb_pred, y_test))"
   ]
  },
  {
   "cell_type": "code",
   "execution_count": null,
   "metadata": {
    "collapsed": true
   },
   "outputs": [],
   "source": []
  },
  {
   "cell_type": "markdown",
   "metadata": {},
   "source": [
    "## Feature Importance Visualisation "
   ]
  },
  {
   "cell_type": "code",
   "execution_count": 34,
   "metadata": {},
   "outputs": [
    {
     "data": {
      "application/vnd.plotly.v1+json": {
       "data": [
        {
         "marker": {
          "color": [
           0.05693671575279371,
           0.033382804546528345,
           0.024617886955711443,
           0.0712880712012704,
           0.04759826826635747,
           0.03460516986564071,
           0.04835770675816788,
           0.042422779762697496,
           0.050101680521372746,
           0.037999861451300534,
           0.07404447498102815,
           0.03783583399292571,
           0.050164777252839535,
           0.005570862145808517,
           0,
           0.1098317199826549,
           0.04063090990055906,
           0.0806645420575275,
           0.04330395197404662,
           0.07289974070987006,
           0,
           0.01060556296265477,
           0,
           0.027136678958244616
          ],
          "colorscale": "Portland",
          "showscale": true,
          "size": 25,
          "sizemode": "diameter",
          "sizeref": 1
         },
         "mode": "markers",
         "text": [
          "PH_declampage_cote_2",
          "PAPS_declampage_cote_2",
          "PA _declampage_cote_2",
          "VT_declampage_cote_2",
          "PaCO2_declampage_cote_2",
          "PAPM_declampage_cote_2",
          "FC_declampage_cote_2",
          "Fr_declampage_cote_2",
          "PaO2_declampage_cote_2",
          "PAPD_declampage_cote_2",
          "NORAD_declampage_cote_2",
          "PEEP_declampage_cote_2",
          "Bicarbonates_declampage_cote_2",
          "NO_declampage_cote_2",
          "Evolution_PAP_declampage_cote_2",
          "SvO2_declampage_cote_2",
          "Lactates_declampage_cote_2",
          "Ic_declampage_cote_2",
          "Hb_declampage_cote_2",
          "Qc_declampage_cote_2",
          "Examen_Echographique_declampage_cote_2",
          "evenements_declampage_cote_2",
          "evenements_declampage_cote_2_commentaires",
          "nb_nan_feature"
         ],
         "type": "scatter",
         "uid": "c8e33814-1c18-11e9-ab17-af1fd6724912",
         "x": [
          "PH_declampage_cote_2",
          "PAPS_declampage_cote_2",
          "PA _declampage_cote_2",
          "VT_declampage_cote_2",
          "PaCO2_declampage_cote_2",
          "PAPM_declampage_cote_2",
          "FC_declampage_cote_2",
          "Fr_declampage_cote_2",
          "PaO2_declampage_cote_2",
          "PAPD_declampage_cote_2",
          "NORAD_declampage_cote_2",
          "PEEP_declampage_cote_2",
          "Bicarbonates_declampage_cote_2",
          "NO_declampage_cote_2",
          "Evolution_PAP_declampage_cote_2",
          "SvO2_declampage_cote_2",
          "Lactates_declampage_cote_2",
          "Ic_declampage_cote_2",
          "Hb_declampage_cote_2",
          "Qc_declampage_cote_2",
          "Examen_Echographique_declampage_cote_2",
          "evenements_declampage_cote_2",
          "evenements_declampage_cote_2_commentaires",
          "nb_nan_feature"
         ],
         "y": [
          0.05693671575279371,
          0.033382804546528345,
          0.024617886955711443,
          0.0712880712012704,
          0.04759826826635747,
          0.03460516986564071,
          0.04835770675816788,
          0.042422779762697496,
          0.050101680521372746,
          0.037999861451300534,
          0.07404447498102815,
          0.03783583399292571,
          0.050164777252839535,
          0.005570862145808517,
          0,
          0.1098317199826549,
          0.04063090990055906,
          0.0806645420575275,
          0.04330395197404662,
          0.07289974070987006,
          0,
          0.01060556296265477,
          0,
          0.027136678958244616
         ]
        }
       ],
       "layout": {
        "autosize": true,
        "hovermode": "closest",
        "showlegend": false,
        "title": "Random Forest Importance des features",
        "yaxis": {
         "gridwidth": 2,
         "ticklen": 5,
         "title": "Importance des features"
        }
       }
      },
      "text/html": [
       "<div id=\"04801880-846a-4e94-bfcb-ccd61aadc2f1\" style=\"height: 525px; width: 100%;\" class=\"plotly-graph-div\"></div><script type=\"text/javascript\">require([\"plotly\"], function(Plotly) { window.PLOTLYENV=window.PLOTLYENV || {};window.PLOTLYENV.BASE_URL=\"https://plot.ly\";Plotly.newPlot(\"04801880-846a-4e94-bfcb-ccd61aadc2f1\", [{\"marker\": {\"color\": [0.05693671575279371, 0.033382804546528345, 0.024617886955711443, 0.0712880712012704, 0.04759826826635747, 0.03460516986564071, 0.04835770675816788, 0.042422779762697496, 0.050101680521372746, 0.037999861451300534, 0.07404447498102815, 0.03783583399292571, 0.050164777252839535, 0.005570862145808517, 0.0, 0.1098317199826549, 0.04063090990055906, 0.0806645420575275, 0.04330395197404662, 0.07289974070987006, 0.0, 0.01060556296265477, 0.0, 0.027136678958244616], \"colorscale\": \"Portland\", \"showscale\": true, \"size\": 25, \"sizemode\": \"diameter\", \"sizeref\": 1}, \"mode\": \"markers\", \"text\": [\"PH_declampage_cote_2\", \"PAPS_declampage_cote_2\", \"PA _declampage_cote_2\", \"VT_declampage_cote_2\", \"PaCO2_declampage_cote_2\", \"PAPM_declampage_cote_2\", \"FC_declampage_cote_2\", \"Fr_declampage_cote_2\", \"PaO2_declampage_cote_2\", \"PAPD_declampage_cote_2\", \"NORAD_declampage_cote_2\", \"PEEP_declampage_cote_2\", \"Bicarbonates_declampage_cote_2\", \"NO_declampage_cote_2\", \"Evolution_PAP_declampage_cote_2\", \"SvO2_declampage_cote_2\", \"Lactates_declampage_cote_2\", \"Ic_declampage_cote_2\", \"Hb_declampage_cote_2\", \"Qc_declampage_cote_2\", \"Examen_Echographique_declampage_cote_2\", \"evenements_declampage_cote_2\", \"evenements_declampage_cote_2_commentaires\", \"nb_nan_feature\"], \"x\": [\"PH_declampage_cote_2\", \"PAPS_declampage_cote_2\", \"PA _declampage_cote_2\", \"VT_declampage_cote_2\", \"PaCO2_declampage_cote_2\", \"PAPM_declampage_cote_2\", \"FC_declampage_cote_2\", \"Fr_declampage_cote_2\", \"PaO2_declampage_cote_2\", \"PAPD_declampage_cote_2\", \"NORAD_declampage_cote_2\", \"PEEP_declampage_cote_2\", \"Bicarbonates_declampage_cote_2\", \"NO_declampage_cote_2\", \"Evolution_PAP_declampage_cote_2\", \"SvO2_declampage_cote_2\", \"Lactates_declampage_cote_2\", \"Ic_declampage_cote_2\", \"Hb_declampage_cote_2\", \"Qc_declampage_cote_2\", \"Examen_Echographique_declampage_cote_2\", \"evenements_declampage_cote_2\", \"evenements_declampage_cote_2_commentaires\", \"nb_nan_feature\"], \"y\": [0.05693671575279371, 0.033382804546528345, 0.024617886955711443, 0.0712880712012704, 0.04759826826635747, 0.03460516986564071, 0.04835770675816788, 0.042422779762697496, 0.050101680521372746, 0.037999861451300534, 0.07404447498102815, 0.03783583399292571, 0.050164777252839535, 0.005570862145808517, 0.0, 0.1098317199826549, 0.04063090990055906, 0.0806645420575275, 0.04330395197404662, 0.07289974070987006, 0.0, 0.01060556296265477, 0.0, 0.027136678958244616], \"type\": \"scatter\", \"uid\": \"c8e33814-1c18-11e9-ab17-af1fd6724912\"}], {\"autosize\": true, \"hovermode\": \"closest\", \"showlegend\": false, \"title\": \"Random Forest Importance des features\", \"yaxis\": {\"gridwidth\": 2, \"ticklen\": 5, \"title\": \"Importance des features\"}}, {\"showLink\": true, \"linkText\": \"Export to plot.ly\"})});</script>"
      ],
      "text/vnd.plotly.v1+html": [
       "<div id=\"04801880-846a-4e94-bfcb-ccd61aadc2f1\" style=\"height: 525px; width: 100%;\" class=\"plotly-graph-div\"></div><script type=\"text/javascript\">require([\"plotly\"], function(Plotly) { window.PLOTLYENV=window.PLOTLYENV || {};window.PLOTLYENV.BASE_URL=\"https://plot.ly\";Plotly.newPlot(\"04801880-846a-4e94-bfcb-ccd61aadc2f1\", [{\"marker\": {\"color\": [0.05693671575279371, 0.033382804546528345, 0.024617886955711443, 0.0712880712012704, 0.04759826826635747, 0.03460516986564071, 0.04835770675816788, 0.042422779762697496, 0.050101680521372746, 0.037999861451300534, 0.07404447498102815, 0.03783583399292571, 0.050164777252839535, 0.005570862145808517, 0.0, 0.1098317199826549, 0.04063090990055906, 0.0806645420575275, 0.04330395197404662, 0.07289974070987006, 0.0, 0.01060556296265477, 0.0, 0.027136678958244616], \"colorscale\": \"Portland\", \"showscale\": true, \"size\": 25, \"sizemode\": \"diameter\", \"sizeref\": 1}, \"mode\": \"markers\", \"text\": [\"PH_declampage_cote_2\", \"PAPS_declampage_cote_2\", \"PA _declampage_cote_2\", \"VT_declampage_cote_2\", \"PaCO2_declampage_cote_2\", \"PAPM_declampage_cote_2\", \"FC_declampage_cote_2\", \"Fr_declampage_cote_2\", \"PaO2_declampage_cote_2\", \"PAPD_declampage_cote_2\", \"NORAD_declampage_cote_2\", \"PEEP_declampage_cote_2\", \"Bicarbonates_declampage_cote_2\", \"NO_declampage_cote_2\", \"Evolution_PAP_declampage_cote_2\", \"SvO2_declampage_cote_2\", \"Lactates_declampage_cote_2\", \"Ic_declampage_cote_2\", \"Hb_declampage_cote_2\", \"Qc_declampage_cote_2\", \"Examen_Echographique_declampage_cote_2\", \"evenements_declampage_cote_2\", \"evenements_declampage_cote_2_commentaires\", \"nb_nan_feature\"], \"x\": [\"PH_declampage_cote_2\", \"PAPS_declampage_cote_2\", \"PA _declampage_cote_2\", \"VT_declampage_cote_2\", \"PaCO2_declampage_cote_2\", \"PAPM_declampage_cote_2\", \"FC_declampage_cote_2\", \"Fr_declampage_cote_2\", \"PaO2_declampage_cote_2\", \"PAPD_declampage_cote_2\", \"NORAD_declampage_cote_2\", \"PEEP_declampage_cote_2\", \"Bicarbonates_declampage_cote_2\", \"NO_declampage_cote_2\", \"Evolution_PAP_declampage_cote_2\", \"SvO2_declampage_cote_2\", \"Lactates_declampage_cote_2\", \"Ic_declampage_cote_2\", \"Hb_declampage_cote_2\", \"Qc_declampage_cote_2\", \"Examen_Echographique_declampage_cote_2\", \"evenements_declampage_cote_2\", \"evenements_declampage_cote_2_commentaires\", \"nb_nan_feature\"], \"y\": [0.05693671575279371, 0.033382804546528345, 0.024617886955711443, 0.0712880712012704, 0.04759826826635747, 0.03460516986564071, 0.04835770675816788, 0.042422779762697496, 0.050101680521372746, 0.037999861451300534, 0.07404447498102815, 0.03783583399292571, 0.050164777252839535, 0.005570862145808517, 0.0, 0.1098317199826549, 0.04063090990055906, 0.0806645420575275, 0.04330395197404662, 0.07289974070987006, 0.0, 0.01060556296265477, 0.0, 0.027136678958244616], \"type\": \"scatter\", \"uid\": \"c8e33814-1c18-11e9-ab17-af1fd6724912\"}], {\"autosize\": true, \"hovermode\": \"closest\", \"showlegend\": false, \"title\": \"Random Forest Importance des features\", \"yaxis\": {\"gridwidth\": 2, \"ticklen\": 5, \"title\": \"Importance des features\"}}, {\"showLink\": true, \"linkText\": \"Export to plot.ly\"})});</script>"
      ]
     },
     "metadata": {},
     "output_type": "display_data"
    }
   ],
   "source": [
    "trace = go.Scatter(x=feature_dataframe['features'].values,\n",
    "                   y=feature_dataframe['Random Forest Importance des features'].values,\n",
    "\n",
    "                   mode='markers',\n",
    "                   marker=dict(\n",
    "    sizemode='diameter',\n",
    "    sizeref=1,\n",
    "    size=25,\n",
    "    # color = np.random.randn(500), #set color equal to a variable\n",
    "    color=feature_dataframe['Random Forest Importance des features'].values,\n",
    "    colorscale='Portland',\n",
    "    showscale=True\n",
    "),\n",
    "    text=feature_dataframe['features'].values\n",
    ")\n",
    "\n",
    "data = [trace]\n",
    "\n",
    "layout = go.Layout(\n",
    "    autosize=True,\n",
    "    title='Random Forest Importance des features',\n",
    "    hovermode='closest',\n",
    "    yaxis=dict(\n",
    "        title='Importance des features',\n",
    "        ticklen=5,\n",
    "        gridwidth=2\n",
    "    ),\n",
    "    showlegend=False\n",
    ")\n",
    "\n",
    "fig = go.Figure(data=data, layout=layout)\n",
    "\n",
    "py.iplot(fig, filename='scatter2010')"
   ]
  },
  {
   "cell_type": "code",
   "execution_count": 35,
   "metadata": {},
   "outputs": [
    {
     "data": {
      "application/vnd.plotly.v1+json": {
       "data": [
        {
         "marker": {
          "color": [
           0.03518810010357444,
           0.041759790252538176,
           0.04476555642219482,
           0.10246992571580138,
           0.06909190708697481,
           0.037907224041517924,
           0.042690518777195735,
           0.053883840950124585,
           0.049000425739506255,
           0.038347763042780335,
           0.053939642848156534,
           0.04830558770342631,
           0.03843895597634285,
           0.03184105225153045,
           0,
           0.0726898045950115,
           0.04000896940240708,
           0.04056999704626295,
           0.029825555181409693,
           0.04425157951415919,
           0,
           0.03783298889115452,
           0,
           0.0451908144579305
          ],
          "colorscale": "Portland",
          "showscale": true,
          "size": 25,
          "sizemode": "diameter",
          "sizeref": 1
         },
         "mode": "markers",
         "text": [
          "PH_declampage_cote_2",
          "PAPS_declampage_cote_2",
          "PA _declampage_cote_2",
          "VT_declampage_cote_2",
          "PaCO2_declampage_cote_2",
          "PAPM_declampage_cote_2",
          "FC_declampage_cote_2",
          "Fr_declampage_cote_2",
          "PaO2_declampage_cote_2",
          "PAPD_declampage_cote_2",
          "NORAD_declampage_cote_2",
          "PEEP_declampage_cote_2",
          "Bicarbonates_declampage_cote_2",
          "NO_declampage_cote_2",
          "Evolution_PAP_declampage_cote_2",
          "SvO2_declampage_cote_2",
          "Lactates_declampage_cote_2",
          "Ic_declampage_cote_2",
          "Hb_declampage_cote_2",
          "Qc_declampage_cote_2",
          "Examen_Echographique_declampage_cote_2",
          "evenements_declampage_cote_2",
          "evenements_declampage_cote_2_commentaires",
          "nb_nan_feature"
         ],
         "type": "scatter",
         "uid": "c8fa6646-1c18-11e9-a1ae-af1fd6724912",
         "x": [
          "PH_declampage_cote_2",
          "PAPS_declampage_cote_2",
          "PA _declampage_cote_2",
          "VT_declampage_cote_2",
          "PaCO2_declampage_cote_2",
          "PAPM_declampage_cote_2",
          "FC_declampage_cote_2",
          "Fr_declampage_cote_2",
          "PaO2_declampage_cote_2",
          "PAPD_declampage_cote_2",
          "NORAD_declampage_cote_2",
          "PEEP_declampage_cote_2",
          "Bicarbonates_declampage_cote_2",
          "NO_declampage_cote_2",
          "Evolution_PAP_declampage_cote_2",
          "SvO2_declampage_cote_2",
          "Lactates_declampage_cote_2",
          "Ic_declampage_cote_2",
          "Hb_declampage_cote_2",
          "Qc_declampage_cote_2",
          "Examen_Echographique_declampage_cote_2",
          "evenements_declampage_cote_2",
          "evenements_declampage_cote_2_commentaires",
          "nb_nan_feature"
         ],
         "y": [
          0.03518810010357444,
          0.041759790252538176,
          0.04476555642219482,
          0.10246992571580138,
          0.06909190708697481,
          0.037907224041517924,
          0.042690518777195735,
          0.053883840950124585,
          0.049000425739506255,
          0.038347763042780335,
          0.053939642848156534,
          0.04830558770342631,
          0.03843895597634285,
          0.03184105225153045,
          0,
          0.0726898045950115,
          0.04000896940240708,
          0.04056999704626295,
          0.029825555181409693,
          0.04425157951415919,
          0,
          0.03783298889115452,
          0,
          0.0451908144579305
         ]
        }
       ],
       "layout": {
        "autosize": true,
        "hovermode": "closest",
        "showlegend": false,
        "title": "Extra Trees Importance des features",
        "yaxis": {
         "gridwidth": 2,
         "ticklen": 5,
         "title": "Importance des features"
        }
       }
      },
      "text/html": [
       "<div id=\"b13f2cc1-37bf-433b-bc02-39d6880d606a\" style=\"height: 525px; width: 100%;\" class=\"plotly-graph-div\"></div><script type=\"text/javascript\">require([\"plotly\"], function(Plotly) { window.PLOTLYENV=window.PLOTLYENV || {};window.PLOTLYENV.BASE_URL=\"https://plot.ly\";Plotly.newPlot(\"b13f2cc1-37bf-433b-bc02-39d6880d606a\", [{\"marker\": {\"color\": [0.03518810010357444, 0.041759790252538176, 0.04476555642219482, 0.10246992571580138, 0.06909190708697481, 0.037907224041517924, 0.042690518777195735, 0.053883840950124585, 0.049000425739506255, 0.038347763042780335, 0.053939642848156534, 0.04830558770342631, 0.03843895597634285, 0.03184105225153045, 0.0, 0.0726898045950115, 0.04000896940240708, 0.04056999704626295, 0.029825555181409693, 0.04425157951415919, 0.0, 0.03783298889115452, 0.0, 0.0451908144579305], \"colorscale\": \"Portland\", \"showscale\": true, \"size\": 25, \"sizemode\": \"diameter\", \"sizeref\": 1}, \"mode\": \"markers\", \"text\": [\"PH_declampage_cote_2\", \"PAPS_declampage_cote_2\", \"PA _declampage_cote_2\", \"VT_declampage_cote_2\", \"PaCO2_declampage_cote_2\", \"PAPM_declampage_cote_2\", \"FC_declampage_cote_2\", \"Fr_declampage_cote_2\", \"PaO2_declampage_cote_2\", \"PAPD_declampage_cote_2\", \"NORAD_declampage_cote_2\", \"PEEP_declampage_cote_2\", \"Bicarbonates_declampage_cote_2\", \"NO_declampage_cote_2\", \"Evolution_PAP_declampage_cote_2\", \"SvO2_declampage_cote_2\", \"Lactates_declampage_cote_2\", \"Ic_declampage_cote_2\", \"Hb_declampage_cote_2\", \"Qc_declampage_cote_2\", \"Examen_Echographique_declampage_cote_2\", \"evenements_declampage_cote_2\", \"evenements_declampage_cote_2_commentaires\", \"nb_nan_feature\"], \"x\": [\"PH_declampage_cote_2\", \"PAPS_declampage_cote_2\", \"PA _declampage_cote_2\", \"VT_declampage_cote_2\", \"PaCO2_declampage_cote_2\", \"PAPM_declampage_cote_2\", \"FC_declampage_cote_2\", \"Fr_declampage_cote_2\", \"PaO2_declampage_cote_2\", \"PAPD_declampage_cote_2\", \"NORAD_declampage_cote_2\", \"PEEP_declampage_cote_2\", \"Bicarbonates_declampage_cote_2\", \"NO_declampage_cote_2\", \"Evolution_PAP_declampage_cote_2\", \"SvO2_declampage_cote_2\", \"Lactates_declampage_cote_2\", \"Ic_declampage_cote_2\", \"Hb_declampage_cote_2\", \"Qc_declampage_cote_2\", \"Examen_Echographique_declampage_cote_2\", \"evenements_declampage_cote_2\", \"evenements_declampage_cote_2_commentaires\", \"nb_nan_feature\"], \"y\": [0.03518810010357444, 0.041759790252538176, 0.04476555642219482, 0.10246992571580138, 0.06909190708697481, 0.037907224041517924, 0.042690518777195735, 0.053883840950124585, 0.049000425739506255, 0.038347763042780335, 0.053939642848156534, 0.04830558770342631, 0.03843895597634285, 0.03184105225153045, 0.0, 0.0726898045950115, 0.04000896940240708, 0.04056999704626295, 0.029825555181409693, 0.04425157951415919, 0.0, 0.03783298889115452, 0.0, 0.0451908144579305], \"type\": \"scatter\", \"uid\": \"c8fa6646-1c18-11e9-a1ae-af1fd6724912\"}], {\"autosize\": true, \"hovermode\": \"closest\", \"showlegend\": false, \"title\": \"Extra Trees Importance des features\", \"yaxis\": {\"gridwidth\": 2, \"ticklen\": 5, \"title\": \"Importance des features\"}}, {\"showLink\": true, \"linkText\": \"Export to plot.ly\"})});</script>"
      ],
      "text/vnd.plotly.v1+html": [
       "<div id=\"b13f2cc1-37bf-433b-bc02-39d6880d606a\" style=\"height: 525px; width: 100%;\" class=\"plotly-graph-div\"></div><script type=\"text/javascript\">require([\"plotly\"], function(Plotly) { window.PLOTLYENV=window.PLOTLYENV || {};window.PLOTLYENV.BASE_URL=\"https://plot.ly\";Plotly.newPlot(\"b13f2cc1-37bf-433b-bc02-39d6880d606a\", [{\"marker\": {\"color\": [0.03518810010357444, 0.041759790252538176, 0.04476555642219482, 0.10246992571580138, 0.06909190708697481, 0.037907224041517924, 0.042690518777195735, 0.053883840950124585, 0.049000425739506255, 0.038347763042780335, 0.053939642848156534, 0.04830558770342631, 0.03843895597634285, 0.03184105225153045, 0.0, 0.0726898045950115, 0.04000896940240708, 0.04056999704626295, 0.029825555181409693, 0.04425157951415919, 0.0, 0.03783298889115452, 0.0, 0.0451908144579305], \"colorscale\": \"Portland\", \"showscale\": true, \"size\": 25, \"sizemode\": \"diameter\", \"sizeref\": 1}, \"mode\": \"markers\", \"text\": [\"PH_declampage_cote_2\", \"PAPS_declampage_cote_2\", \"PA _declampage_cote_2\", \"VT_declampage_cote_2\", \"PaCO2_declampage_cote_2\", \"PAPM_declampage_cote_2\", \"FC_declampage_cote_2\", \"Fr_declampage_cote_2\", \"PaO2_declampage_cote_2\", \"PAPD_declampage_cote_2\", \"NORAD_declampage_cote_2\", \"PEEP_declampage_cote_2\", \"Bicarbonates_declampage_cote_2\", \"NO_declampage_cote_2\", \"Evolution_PAP_declampage_cote_2\", \"SvO2_declampage_cote_2\", \"Lactates_declampage_cote_2\", \"Ic_declampage_cote_2\", \"Hb_declampage_cote_2\", \"Qc_declampage_cote_2\", \"Examen_Echographique_declampage_cote_2\", \"evenements_declampage_cote_2\", \"evenements_declampage_cote_2_commentaires\", \"nb_nan_feature\"], \"x\": [\"PH_declampage_cote_2\", \"PAPS_declampage_cote_2\", \"PA _declampage_cote_2\", \"VT_declampage_cote_2\", \"PaCO2_declampage_cote_2\", \"PAPM_declampage_cote_2\", \"FC_declampage_cote_2\", \"Fr_declampage_cote_2\", \"PaO2_declampage_cote_2\", \"PAPD_declampage_cote_2\", \"NORAD_declampage_cote_2\", \"PEEP_declampage_cote_2\", \"Bicarbonates_declampage_cote_2\", \"NO_declampage_cote_2\", \"Evolution_PAP_declampage_cote_2\", \"SvO2_declampage_cote_2\", \"Lactates_declampage_cote_2\", \"Ic_declampage_cote_2\", \"Hb_declampage_cote_2\", \"Qc_declampage_cote_2\", \"Examen_Echographique_declampage_cote_2\", \"evenements_declampage_cote_2\", \"evenements_declampage_cote_2_commentaires\", \"nb_nan_feature\"], \"y\": [0.03518810010357444, 0.041759790252538176, 0.04476555642219482, 0.10246992571580138, 0.06909190708697481, 0.037907224041517924, 0.042690518777195735, 0.053883840950124585, 0.049000425739506255, 0.038347763042780335, 0.053939642848156534, 0.04830558770342631, 0.03843895597634285, 0.03184105225153045, 0.0, 0.0726898045950115, 0.04000896940240708, 0.04056999704626295, 0.029825555181409693, 0.04425157951415919, 0.0, 0.03783298889115452, 0.0, 0.0451908144579305], \"type\": \"scatter\", \"uid\": \"c8fa6646-1c18-11e9-a1ae-af1fd6724912\"}], {\"autosize\": true, \"hovermode\": \"closest\", \"showlegend\": false, \"title\": \"Extra Trees Importance des features\", \"yaxis\": {\"gridwidth\": 2, \"ticklen\": 5, \"title\": \"Importance des features\"}}, {\"showLink\": true, \"linkText\": \"Export to plot.ly\"})});</script>"
      ]
     },
     "metadata": {},
     "output_type": "display_data"
    }
   ],
   "source": [
    "trace = go.Scatter(\n",
    "    y=feature_dataframe['Extra Trees Importance des features'].values,\n",
    "    x=feature_dataframe['features'].values,\n",
    "    mode='markers',\n",
    "    marker=dict(\n",
    "        sizemode='diameter',\n",
    "        sizeref=1,\n",
    "        size=25,\n",
    "        color=feature_dataframe['Extra Trees Importance des features'].values,\n",
    "        colorscale='Portland',\n",
    "        showscale=True\n",
    "    ),\n",
    "    text=feature_dataframe['features'].values\n",
    ")\n",
    "data = [trace]\n",
    "\n",
    "layout = go.Layout(\n",
    "    autosize=True,\n",
    "    title='Extra Trees Importance des features',\n",
    "    hovermode='closest',\n",
    "\n",
    "    yaxis=dict(\n",
    "        title='Importance des features',\n",
    "        ticklen=5,\n",
    "        gridwidth=2\n",
    "    ),\n",
    "    showlegend=False\n",
    ")\n",
    "fig = go.Figure(data=data, layout=layout)\n",
    "py.iplot(fig, filename='scatter2010')"
   ]
  },
  {
   "cell_type": "code",
   "execution_count": 36,
   "metadata": {},
   "outputs": [
    {
     "data": {
      "application/vnd.plotly.v1+json": {
       "data": [
        {
         "marker": {
          "color": [
           0.082,
           0.054,
           0.054,
           0.072,
           0.038,
           0.028,
           0.076,
           0.038,
           0.062,
           0.072,
           0.044,
           0.004,
           0.086,
           0.002,
           0,
           0.054,
           0.078,
           0.034,
           0.048,
           0.056,
           0,
           0,
           0,
           0.018
          ],
          "colorscale": "Portland",
          "showscale": true,
          "size": 25,
          "sizemode": "diameter",
          "sizeref": 1
         },
         "mode": "markers",
         "text": [
          "PH_declampage_cote_2",
          "PAPS_declampage_cote_2",
          "PA _declampage_cote_2",
          "VT_declampage_cote_2",
          "PaCO2_declampage_cote_2",
          "PAPM_declampage_cote_2",
          "FC_declampage_cote_2",
          "Fr_declampage_cote_2",
          "PaO2_declampage_cote_2",
          "PAPD_declampage_cote_2",
          "NORAD_declampage_cote_2",
          "PEEP_declampage_cote_2",
          "Bicarbonates_declampage_cote_2",
          "NO_declampage_cote_2",
          "Evolution_PAP_declampage_cote_2",
          "SvO2_declampage_cote_2",
          "Lactates_declampage_cote_2",
          "Ic_declampage_cote_2",
          "Hb_declampage_cote_2",
          "Qc_declampage_cote_2",
          "Examen_Echographique_declampage_cote_2",
          "evenements_declampage_cote_2",
          "evenements_declampage_cote_2_commentaires",
          "nb_nan_feature"
         ],
         "type": "scatter",
         "uid": "c9131ab8-1c18-11e9-b37c-af1fd6724912",
         "x": [
          "PH_declampage_cote_2",
          "PAPS_declampage_cote_2",
          "PA _declampage_cote_2",
          "VT_declampage_cote_2",
          "PaCO2_declampage_cote_2",
          "PAPM_declampage_cote_2",
          "FC_declampage_cote_2",
          "Fr_declampage_cote_2",
          "PaO2_declampage_cote_2",
          "PAPD_declampage_cote_2",
          "NORAD_declampage_cote_2",
          "PEEP_declampage_cote_2",
          "Bicarbonates_declampage_cote_2",
          "NO_declampage_cote_2",
          "Evolution_PAP_declampage_cote_2",
          "SvO2_declampage_cote_2",
          "Lactates_declampage_cote_2",
          "Ic_declampage_cote_2",
          "Hb_declampage_cote_2",
          "Qc_declampage_cote_2",
          "Examen_Echographique_declampage_cote_2",
          "evenements_declampage_cote_2",
          "evenements_declampage_cote_2_commentaires",
          "nb_nan_feature"
         ],
         "y": [
          0.082,
          0.054,
          0.054,
          0.072,
          0.038,
          0.028,
          0.076,
          0.038,
          0.062,
          0.072,
          0.044,
          0.004,
          0.086,
          0.002,
          0,
          0.054,
          0.078,
          0.034,
          0.048,
          0.056,
          0,
          0,
          0,
          0.018
         ]
        }
       ],
       "layout": {
        "autosize": true,
        "hovermode": "closest",
        "showlegend": false,
        "title": "AdaBoost Importance des features",
        "yaxis": {
         "gridwidth": 2,
         "ticklen": 5,
         "title": "Importance des features"
        }
       }
      },
      "text/html": [
       "<div id=\"fc9b7879-17e0-4192-a226-cc21af801fd2\" style=\"height: 525px; width: 100%;\" class=\"plotly-graph-div\"></div><script type=\"text/javascript\">require([\"plotly\"], function(Plotly) { window.PLOTLYENV=window.PLOTLYENV || {};window.PLOTLYENV.BASE_URL=\"https://plot.ly\";Plotly.newPlot(\"fc9b7879-17e0-4192-a226-cc21af801fd2\", [{\"marker\": {\"color\": [0.082, 0.054, 0.054, 0.072, 0.038, 0.028, 0.076, 0.038, 0.062, 0.072, 0.044, 0.004, 0.086, 0.002, 0.0, 0.054, 0.078, 0.034, 0.048, 0.056, 0.0, 0.0, 0.0, 0.018], \"colorscale\": \"Portland\", \"showscale\": true, \"size\": 25, \"sizemode\": \"diameter\", \"sizeref\": 1}, \"mode\": \"markers\", \"text\": [\"PH_declampage_cote_2\", \"PAPS_declampage_cote_2\", \"PA _declampage_cote_2\", \"VT_declampage_cote_2\", \"PaCO2_declampage_cote_2\", \"PAPM_declampage_cote_2\", \"FC_declampage_cote_2\", \"Fr_declampage_cote_2\", \"PaO2_declampage_cote_2\", \"PAPD_declampage_cote_2\", \"NORAD_declampage_cote_2\", \"PEEP_declampage_cote_2\", \"Bicarbonates_declampage_cote_2\", \"NO_declampage_cote_2\", \"Evolution_PAP_declampage_cote_2\", \"SvO2_declampage_cote_2\", \"Lactates_declampage_cote_2\", \"Ic_declampage_cote_2\", \"Hb_declampage_cote_2\", \"Qc_declampage_cote_2\", \"Examen_Echographique_declampage_cote_2\", \"evenements_declampage_cote_2\", \"evenements_declampage_cote_2_commentaires\", \"nb_nan_feature\"], \"x\": [\"PH_declampage_cote_2\", \"PAPS_declampage_cote_2\", \"PA _declampage_cote_2\", \"VT_declampage_cote_2\", \"PaCO2_declampage_cote_2\", \"PAPM_declampage_cote_2\", \"FC_declampage_cote_2\", \"Fr_declampage_cote_2\", \"PaO2_declampage_cote_2\", \"PAPD_declampage_cote_2\", \"NORAD_declampage_cote_2\", \"PEEP_declampage_cote_2\", \"Bicarbonates_declampage_cote_2\", \"NO_declampage_cote_2\", \"Evolution_PAP_declampage_cote_2\", \"SvO2_declampage_cote_2\", \"Lactates_declampage_cote_2\", \"Ic_declampage_cote_2\", \"Hb_declampage_cote_2\", \"Qc_declampage_cote_2\", \"Examen_Echographique_declampage_cote_2\", \"evenements_declampage_cote_2\", \"evenements_declampage_cote_2_commentaires\", \"nb_nan_feature\"], \"y\": [0.082, 0.054, 0.054, 0.072, 0.038, 0.028, 0.076, 0.038, 0.062, 0.072, 0.044, 0.004, 0.086, 0.002, 0.0, 0.054, 0.078, 0.034, 0.048, 0.056, 0.0, 0.0, 0.0, 0.018], \"type\": \"scatter\", \"uid\": \"c9131ab8-1c18-11e9-b37c-af1fd6724912\"}], {\"autosize\": true, \"hovermode\": \"closest\", \"showlegend\": false, \"title\": \"AdaBoost Importance des features\", \"yaxis\": {\"gridwidth\": 2, \"ticklen\": 5, \"title\": \"Importance des features\"}}, {\"showLink\": true, \"linkText\": \"Export to plot.ly\"})});</script>"
      ],
      "text/vnd.plotly.v1+html": [
       "<div id=\"fc9b7879-17e0-4192-a226-cc21af801fd2\" style=\"height: 525px; width: 100%;\" class=\"plotly-graph-div\"></div><script type=\"text/javascript\">require([\"plotly\"], function(Plotly) { window.PLOTLYENV=window.PLOTLYENV || {};window.PLOTLYENV.BASE_URL=\"https://plot.ly\";Plotly.newPlot(\"fc9b7879-17e0-4192-a226-cc21af801fd2\", [{\"marker\": {\"color\": [0.082, 0.054, 0.054, 0.072, 0.038, 0.028, 0.076, 0.038, 0.062, 0.072, 0.044, 0.004, 0.086, 0.002, 0.0, 0.054, 0.078, 0.034, 0.048, 0.056, 0.0, 0.0, 0.0, 0.018], \"colorscale\": \"Portland\", \"showscale\": true, \"size\": 25, \"sizemode\": \"diameter\", \"sizeref\": 1}, \"mode\": \"markers\", \"text\": [\"PH_declampage_cote_2\", \"PAPS_declampage_cote_2\", \"PA _declampage_cote_2\", \"VT_declampage_cote_2\", \"PaCO2_declampage_cote_2\", \"PAPM_declampage_cote_2\", \"FC_declampage_cote_2\", \"Fr_declampage_cote_2\", \"PaO2_declampage_cote_2\", \"PAPD_declampage_cote_2\", \"NORAD_declampage_cote_2\", \"PEEP_declampage_cote_2\", \"Bicarbonates_declampage_cote_2\", \"NO_declampage_cote_2\", \"Evolution_PAP_declampage_cote_2\", \"SvO2_declampage_cote_2\", \"Lactates_declampage_cote_2\", \"Ic_declampage_cote_2\", \"Hb_declampage_cote_2\", \"Qc_declampage_cote_2\", \"Examen_Echographique_declampage_cote_2\", \"evenements_declampage_cote_2\", \"evenements_declampage_cote_2_commentaires\", \"nb_nan_feature\"], \"x\": [\"PH_declampage_cote_2\", \"PAPS_declampage_cote_2\", \"PA _declampage_cote_2\", \"VT_declampage_cote_2\", \"PaCO2_declampage_cote_2\", \"PAPM_declampage_cote_2\", \"FC_declampage_cote_2\", \"Fr_declampage_cote_2\", \"PaO2_declampage_cote_2\", \"PAPD_declampage_cote_2\", \"NORAD_declampage_cote_2\", \"PEEP_declampage_cote_2\", \"Bicarbonates_declampage_cote_2\", \"NO_declampage_cote_2\", \"Evolution_PAP_declampage_cote_2\", \"SvO2_declampage_cote_2\", \"Lactates_declampage_cote_2\", \"Ic_declampage_cote_2\", \"Hb_declampage_cote_2\", \"Qc_declampage_cote_2\", \"Examen_Echographique_declampage_cote_2\", \"evenements_declampage_cote_2\", \"evenements_declampage_cote_2_commentaires\", \"nb_nan_feature\"], \"y\": [0.082, 0.054, 0.054, 0.072, 0.038, 0.028, 0.076, 0.038, 0.062, 0.072, 0.044, 0.004, 0.086, 0.002, 0.0, 0.054, 0.078, 0.034, 0.048, 0.056, 0.0, 0.0, 0.0, 0.018], \"type\": \"scatter\", \"uid\": \"c9131ab8-1c18-11e9-b37c-af1fd6724912\"}], {\"autosize\": true, \"hovermode\": \"closest\", \"showlegend\": false, \"title\": \"AdaBoost Importance des features\", \"yaxis\": {\"gridwidth\": 2, \"ticklen\": 5, \"title\": \"Importance des features\"}}, {\"showLink\": true, \"linkText\": \"Export to plot.ly\"})});</script>"
      ]
     },
     "metadata": {},
     "output_type": "display_data"
    }
   ],
   "source": [
    "trace = go.Scatter(\n",
    "    y=feature_dataframe['AdaBoost Importance des features'].values,\n",
    "    x=feature_dataframe['features'].values,\n",
    "    mode='markers',\n",
    "    marker=dict(\n",
    "        sizemode='diameter',\n",
    "        sizeref=1,\n",
    "        size=25,\n",
    "        color=feature_dataframe['AdaBoost Importance des features'].values,\n",
    "        colorscale='Portland',\n",
    "        showscale=True\n",
    "    ),\n",
    "    text=feature_dataframe['features'].values\n",
    ")\n",
    "data = [trace]\n",
    "\n",
    "layout = go.Layout(\n",
    "    autosize=True,\n",
    "    title='AdaBoost Importance des features',\n",
    "    hovermode='closest',\n",
    "    yaxis=dict(\n",
    "        title='Importance des features',\n",
    "        ticklen=5,\n",
    "        gridwidth=2\n",
    "    ),\n",
    "    showlegend=False\n",
    ")\n",
    "fig = go.Figure(data=data, layout=layout)\n",
    "py.iplot(fig, filename='scatter2010')"
   ]
  },
  {
   "cell_type": "code",
   "execution_count": 37,
   "metadata": {},
   "outputs": [
    {
     "data": {
      "application/vnd.plotly.v1+json": {
       "data": [
        {
         "marker": {
          "color": [
           0.06723398919542119,
           0.024927738523541597,
           0.027797861827786367,
           0.05480936281311839,
           0.042347193418560455,
           0.02554256445879352,
           0.0689169040722078,
           0.04894978937355568,
           0.057079654181315026,
           0.05672366941184468,
           0.0877399620235865,
           0.01748104596494268,
           0.06424282351277717,
           0.018441350808706007,
           0,
           0.06363572485230944,
           0.057492536900151985,
           0.03374946451086604,
           0.04574308043779253,
           0.033712204311806805,
           0,
           0.01531526190511898,
           0,
           0.08811781749579732
          ],
          "colorscale": "Portland",
          "showscale": true,
          "size": 25,
          "sizemode": "diameter",
          "sizeref": 1
         },
         "mode": "markers",
         "text": [
          "PH_declampage_cote_2",
          "PAPS_declampage_cote_2",
          "PA _declampage_cote_2",
          "VT_declampage_cote_2",
          "PaCO2_declampage_cote_2",
          "PAPM_declampage_cote_2",
          "FC_declampage_cote_2",
          "Fr_declampage_cote_2",
          "PaO2_declampage_cote_2",
          "PAPD_declampage_cote_2",
          "NORAD_declampage_cote_2",
          "PEEP_declampage_cote_2",
          "Bicarbonates_declampage_cote_2",
          "NO_declampage_cote_2",
          "Evolution_PAP_declampage_cote_2",
          "SvO2_declampage_cote_2",
          "Lactates_declampage_cote_2",
          "Ic_declampage_cote_2",
          "Hb_declampage_cote_2",
          "Qc_declampage_cote_2",
          "Examen_Echographique_declampage_cote_2",
          "evenements_declampage_cote_2",
          "evenements_declampage_cote_2_commentaires",
          "nb_nan_feature"
         ],
         "type": "scatter",
         "uid": "c9278a1c-1c18-11e9-b817-af1fd6724912",
         "x": [
          "PH_declampage_cote_2",
          "PAPS_declampage_cote_2",
          "PA _declampage_cote_2",
          "VT_declampage_cote_2",
          "PaCO2_declampage_cote_2",
          "PAPM_declampage_cote_2",
          "FC_declampage_cote_2",
          "Fr_declampage_cote_2",
          "PaO2_declampage_cote_2",
          "PAPD_declampage_cote_2",
          "NORAD_declampage_cote_2",
          "PEEP_declampage_cote_2",
          "Bicarbonates_declampage_cote_2",
          "NO_declampage_cote_2",
          "Evolution_PAP_declampage_cote_2",
          "SvO2_declampage_cote_2",
          "Lactates_declampage_cote_2",
          "Ic_declampage_cote_2",
          "Hb_declampage_cote_2",
          "Qc_declampage_cote_2",
          "Examen_Echographique_declampage_cote_2",
          "evenements_declampage_cote_2",
          "evenements_declampage_cote_2_commentaires",
          "nb_nan_feature"
         ],
         "y": [
          0.06723398919542119,
          0.024927738523541597,
          0.027797861827786367,
          0.05480936281311839,
          0.042347193418560455,
          0.02554256445879352,
          0.0689169040722078,
          0.04894978937355568,
          0.057079654181315026,
          0.05672366941184468,
          0.0877399620235865,
          0.01748104596494268,
          0.06424282351277717,
          0.018441350808706007,
          0,
          0.06363572485230944,
          0.057492536900151985,
          0.03374946451086604,
          0.04574308043779253,
          0.033712204311806805,
          0,
          0.01531526190511898,
          0,
          0.08811781749579732
         ]
        }
       ],
       "layout": {
        "autosize": true,
        "hovermode": "closest",
        "showlegend": false,
        "title": "Gradient Boosting Importance des features",
        "yaxis": {
         "gridwidth": 2,
         "ticklen": 5,
         "title": "Importance des features"
        }
       }
      },
      "text/html": [
       "<div id=\"85379471-6559-4d8e-ad77-072a64446a5a\" style=\"height: 525px; width: 100%;\" class=\"plotly-graph-div\"></div><script type=\"text/javascript\">require([\"plotly\"], function(Plotly) { window.PLOTLYENV=window.PLOTLYENV || {};window.PLOTLYENV.BASE_URL=\"https://plot.ly\";Plotly.newPlot(\"85379471-6559-4d8e-ad77-072a64446a5a\", [{\"marker\": {\"color\": [0.06723398919542119, 0.024927738523541597, 0.027797861827786367, 0.05480936281311839, 0.042347193418560455, 0.02554256445879352, 0.0689169040722078, 0.04894978937355568, 0.057079654181315026, 0.05672366941184468, 0.0877399620235865, 0.01748104596494268, 0.06424282351277717, 0.018441350808706007, 0.0, 0.06363572485230944, 0.057492536900151985, 0.03374946451086604, 0.04574308043779253, 0.033712204311806805, 0.0, 0.01531526190511898, 0.0, 0.08811781749579732], \"colorscale\": \"Portland\", \"showscale\": true, \"size\": 25, \"sizemode\": \"diameter\", \"sizeref\": 1}, \"mode\": \"markers\", \"text\": [\"PH_declampage_cote_2\", \"PAPS_declampage_cote_2\", \"PA _declampage_cote_2\", \"VT_declampage_cote_2\", \"PaCO2_declampage_cote_2\", \"PAPM_declampage_cote_2\", \"FC_declampage_cote_2\", \"Fr_declampage_cote_2\", \"PaO2_declampage_cote_2\", \"PAPD_declampage_cote_2\", \"NORAD_declampage_cote_2\", \"PEEP_declampage_cote_2\", \"Bicarbonates_declampage_cote_2\", \"NO_declampage_cote_2\", \"Evolution_PAP_declampage_cote_2\", \"SvO2_declampage_cote_2\", \"Lactates_declampage_cote_2\", \"Ic_declampage_cote_2\", \"Hb_declampage_cote_2\", \"Qc_declampage_cote_2\", \"Examen_Echographique_declampage_cote_2\", \"evenements_declampage_cote_2\", \"evenements_declampage_cote_2_commentaires\", \"nb_nan_feature\"], \"x\": [\"PH_declampage_cote_2\", \"PAPS_declampage_cote_2\", \"PA _declampage_cote_2\", \"VT_declampage_cote_2\", \"PaCO2_declampage_cote_2\", \"PAPM_declampage_cote_2\", \"FC_declampage_cote_2\", \"Fr_declampage_cote_2\", \"PaO2_declampage_cote_2\", \"PAPD_declampage_cote_2\", \"NORAD_declampage_cote_2\", \"PEEP_declampage_cote_2\", \"Bicarbonates_declampage_cote_2\", \"NO_declampage_cote_2\", \"Evolution_PAP_declampage_cote_2\", \"SvO2_declampage_cote_2\", \"Lactates_declampage_cote_2\", \"Ic_declampage_cote_2\", \"Hb_declampage_cote_2\", \"Qc_declampage_cote_2\", \"Examen_Echographique_declampage_cote_2\", \"evenements_declampage_cote_2\", \"evenements_declampage_cote_2_commentaires\", \"nb_nan_feature\"], \"y\": [0.06723398919542119, 0.024927738523541597, 0.027797861827786367, 0.05480936281311839, 0.042347193418560455, 0.02554256445879352, 0.0689169040722078, 0.04894978937355568, 0.057079654181315026, 0.05672366941184468, 0.0877399620235865, 0.01748104596494268, 0.06424282351277717, 0.018441350808706007, 0.0, 0.06363572485230944, 0.057492536900151985, 0.03374946451086604, 0.04574308043779253, 0.033712204311806805, 0.0, 0.01531526190511898, 0.0, 0.08811781749579732], \"type\": \"scatter\", \"uid\": \"c9278a1c-1c18-11e9-b817-af1fd6724912\"}], {\"autosize\": true, \"hovermode\": \"closest\", \"showlegend\": false, \"title\": \"Gradient Boosting Importance des features\", \"yaxis\": {\"gridwidth\": 2, \"ticklen\": 5, \"title\": \"Importance des features\"}}, {\"showLink\": true, \"linkText\": \"Export to plot.ly\"})});</script>"
      ],
      "text/vnd.plotly.v1+html": [
       "<div id=\"85379471-6559-4d8e-ad77-072a64446a5a\" style=\"height: 525px; width: 100%;\" class=\"plotly-graph-div\"></div><script type=\"text/javascript\">require([\"plotly\"], function(Plotly) { window.PLOTLYENV=window.PLOTLYENV || {};window.PLOTLYENV.BASE_URL=\"https://plot.ly\";Plotly.newPlot(\"85379471-6559-4d8e-ad77-072a64446a5a\", [{\"marker\": {\"color\": [0.06723398919542119, 0.024927738523541597, 0.027797861827786367, 0.05480936281311839, 0.042347193418560455, 0.02554256445879352, 0.0689169040722078, 0.04894978937355568, 0.057079654181315026, 0.05672366941184468, 0.0877399620235865, 0.01748104596494268, 0.06424282351277717, 0.018441350808706007, 0.0, 0.06363572485230944, 0.057492536900151985, 0.03374946451086604, 0.04574308043779253, 0.033712204311806805, 0.0, 0.01531526190511898, 0.0, 0.08811781749579732], \"colorscale\": \"Portland\", \"showscale\": true, \"size\": 25, \"sizemode\": \"diameter\", \"sizeref\": 1}, \"mode\": \"markers\", \"text\": [\"PH_declampage_cote_2\", \"PAPS_declampage_cote_2\", \"PA _declampage_cote_2\", \"VT_declampage_cote_2\", \"PaCO2_declampage_cote_2\", \"PAPM_declampage_cote_2\", \"FC_declampage_cote_2\", \"Fr_declampage_cote_2\", \"PaO2_declampage_cote_2\", \"PAPD_declampage_cote_2\", \"NORAD_declampage_cote_2\", \"PEEP_declampage_cote_2\", \"Bicarbonates_declampage_cote_2\", \"NO_declampage_cote_2\", \"Evolution_PAP_declampage_cote_2\", \"SvO2_declampage_cote_2\", \"Lactates_declampage_cote_2\", \"Ic_declampage_cote_2\", \"Hb_declampage_cote_2\", \"Qc_declampage_cote_2\", \"Examen_Echographique_declampage_cote_2\", \"evenements_declampage_cote_2\", \"evenements_declampage_cote_2_commentaires\", \"nb_nan_feature\"], \"x\": [\"PH_declampage_cote_2\", \"PAPS_declampage_cote_2\", \"PA _declampage_cote_2\", \"VT_declampage_cote_2\", \"PaCO2_declampage_cote_2\", \"PAPM_declampage_cote_2\", \"FC_declampage_cote_2\", \"Fr_declampage_cote_2\", \"PaO2_declampage_cote_2\", \"PAPD_declampage_cote_2\", \"NORAD_declampage_cote_2\", \"PEEP_declampage_cote_2\", \"Bicarbonates_declampage_cote_2\", \"NO_declampage_cote_2\", \"Evolution_PAP_declampage_cote_2\", \"SvO2_declampage_cote_2\", \"Lactates_declampage_cote_2\", \"Ic_declampage_cote_2\", \"Hb_declampage_cote_2\", \"Qc_declampage_cote_2\", \"Examen_Echographique_declampage_cote_2\", \"evenements_declampage_cote_2\", \"evenements_declampage_cote_2_commentaires\", \"nb_nan_feature\"], \"y\": [0.06723398919542119, 0.024927738523541597, 0.027797861827786367, 0.05480936281311839, 0.042347193418560455, 0.02554256445879352, 0.0689169040722078, 0.04894978937355568, 0.057079654181315026, 0.05672366941184468, 0.0877399620235865, 0.01748104596494268, 0.06424282351277717, 0.018441350808706007, 0.0, 0.06363572485230944, 0.057492536900151985, 0.03374946451086604, 0.04574308043779253, 0.033712204311806805, 0.0, 0.01531526190511898, 0.0, 0.08811781749579732], \"type\": \"scatter\", \"uid\": \"c9278a1c-1c18-11e9-b817-af1fd6724912\"}], {\"autosize\": true, \"hovermode\": \"closest\", \"showlegend\": false, \"title\": \"Gradient Boosting Importance des features\", \"yaxis\": {\"gridwidth\": 2, \"ticklen\": 5, \"title\": \"Importance des features\"}}, {\"showLink\": true, \"linkText\": \"Export to plot.ly\"})});</script>"
      ]
     },
     "metadata": {},
     "output_type": "display_data"
    }
   ],
   "source": [
    "trace = go.Scatter(\n",
    "    y=feature_dataframe['Gradient Boost Importance des features'].values,\n",
    "    x=feature_dataframe['features'].values,\n",
    "    mode='markers',\n",
    "    marker=dict(\n",
    "        sizemode='diameter',\n",
    "        sizeref=1,\n",
    "        size=25,\n",
    "        color=feature_dataframe['Gradient Boost Importance des features'].values,\n",
    "        colorscale='Portland',\n",
    "        showscale=True\n",
    "    ),\n",
    "    text=feature_dataframe['features'].values\n",
    ")\n",
    "data = [trace]\n",
    "\n",
    "layout = go.Layout(\n",
    "    autosize=True,\n",
    "    title='Gradient Boosting Importance des features',\n",
    "    hovermode='closest',\n",
    "    yaxis=dict(\n",
    "        title='Importance des features',\n",
    "        ticklen=5,\n",
    "        gridwidth=2\n",
    "    ),\n",
    "    showlegend=False\n",
    ")\n",
    "fig = go.Figure(data=data, layout=layout)\n",
    "py.iplot(fig, filename='scatter2010')"
   ]
  },
  {
   "cell_type": "code",
   "execution_count": null,
   "metadata": {
    "collapsed": true
   },
   "outputs": [],
   "source": []
  }
 ],
 "metadata": {
  "kernelspec": {
   "display_name": "Python 3",
   "language": "python",
   "name": "python3"
  },
  "language_info": {
   "codemirror_mode": {
    "name": "ipython",
    "version": 3
   },
   "file_extension": ".py",
   "mimetype": "text/x-python",
   "name": "python",
   "nbconvert_exporter": "python",
   "pygments_lexer": "ipython3",
   "version": "3.6.8"
  },
  "varInspector": {
   "cols": {
    "lenName": 16,
    "lenType": 16,
    "lenVar": 40
   },
   "kernels_config": {
    "python": {
     "delete_cmd_postfix": "",
     "delete_cmd_prefix": "del ",
     "library": "var_list.py",
     "varRefreshCmd": "print(var_dic_list())"
    },
    "r": {
     "delete_cmd_postfix": ") ",
     "delete_cmd_prefix": "rm(",
     "library": "var_list.r",
     "varRefreshCmd": "cat(var_dic_list()) "
    }
   },
   "position": {
    "height": "650px",
    "left": "574.924px",
    "right": "20px",
    "top": "65.9848px",
    "width": "690px"
   },
   "types_to_exclude": [
    "module",
    "function",
    "builtin_function_or_method",
    "instance",
    "_Feature"
   ],
   "window_display": false
  }
 },
 "nbformat": 4,
 "nbformat_minor": 2
}
