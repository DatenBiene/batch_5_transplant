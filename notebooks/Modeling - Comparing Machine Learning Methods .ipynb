{
 "cells": [
  {
   "cell_type": "code",
   "execution_count": 1,
   "metadata": {},
   "outputs": [
    {
     "data": {
      "text/html": [
       "<div id=\"my_id_menu_nb\">run previous cell, wait for 2 seconds</div>\n",
       "<script>\n",
       "function repeat_indent_string(n){\n",
       "    var a = \"\" ;\n",
       "    for ( ; n > 0 ; --n)\n",
       "        a += \"    \";\n",
       "    return a;\n",
       "}\n",
       "// look up into all sections and builds an automated menu //\n",
       "var update_menu_string = function(begin, lfirst, llast, sformat, send, keep_item, begin_format, end_format) {\n",
       "    var anchors = document.getElementsByClassName(\"section\");\n",
       "    if (anchors.length == 0) {\n",
       "        anchors = document.getElementsByClassName(\"text_cell_render rendered_html\");\n",
       "    }\n",
       "    var i,t;\n",
       "    var text_menu = begin;\n",
       "    var text_memo = \"<pre>\\nlength:\" + anchors.length + \"\\n\";\n",
       "    var ind = \"\";\n",
       "    var memo_level = 1;\n",
       "    var href;\n",
       "    var tags = [];\n",
       "    var main_item = 0;\n",
       "    var format_open = 0;\n",
       "    for (i = 0; i <= llast; i++)\n",
       "        tags.push(\"h\" + i);\n",
       "\n",
       "    for (i = 0; i < anchors.length; i++) {\n",
       "        text_memo += \"**\" + anchors[i].id + \"--\\n\";\n",
       "\n",
       "        var child = null;\n",
       "        for(t = 0; t < tags.length; t++) {\n",
       "            var r = anchors[i].getElementsByTagName(tags[t]);\n",
       "            if (r.length > 0) {\n",
       "child = r[0];\n",
       "break;\n",
       "            }\n",
       "        }\n",
       "        if (child == null) {\n",
       "            text_memo += \"null\\n\";\n",
       "            continue;\n",
       "        }\n",
       "        if (anchors[i].hasAttribute(\"id\")) {\n",
       "            // when converted in RST\n",
       "            href = anchors[i].id;\n",
       "            text_memo += \"#1-\" + href;\n",
       "            // passer à child suivant (le chercher)\n",
       "        }\n",
       "        else if (child.hasAttribute(\"id\")) {\n",
       "            // in a notebook\n",
       "            href = child.id;\n",
       "            text_memo += \"#2-\" + href;\n",
       "        }\n",
       "        else {\n",
       "            text_memo += \"#3-\" + \"*\" + \"\\n\";\n",
       "            continue;\n",
       "        }\n",
       "        var title = child.textContent;\n",
       "        var level = parseInt(child.tagName.substring(1,2));\n",
       "\n",
       "        text_memo += \"--\" + level + \"?\" + lfirst + \"--\" + title + \"\\n\";\n",
       "\n",
       "        if ((level < lfirst) || (level > llast)) {\n",
       "            continue ;\n",
       "        }\n",
       "        if (title.endsWith('¶')) {\n",
       "            title = title.substring(0,title.length-1).replace(\"<\", \"&lt;\")\n",
       "         .replace(\">\", \"&gt;\").replace(\"&\", \"&amp;\");\n",
       "        }\n",
       "        if (title.length == 0) {\n",
       "            continue;\n",
       "        }\n",
       "\n",
       "        while (level < memo_level) {\n",
       "            text_menu += end_format + \"</ul>\\n\";\n",
       "            format_open -= 1;\n",
       "            memo_level -= 1;\n",
       "        }\n",
       "        if (level == lfirst) {\n",
       "            main_item += 1;\n",
       "        }\n",
       "        if (keep_item != -1 && main_item != keep_item + 1) {\n",
       "            // alert(main_item + \" - \" + level + \" - \" + keep_item);\n",
       "            continue;\n",
       "        }\n",
       "        while (level > memo_level) {\n",
       "            text_menu += \"<ul>\\n\";\n",
       "            memo_level += 1;\n",
       "        }\n",
       "        text_menu += repeat_indent_string(level-2);\n",
       "        text_menu += begin_format + sformat.replace(\"__HREF__\", href).replace(\"__TITLE__\", title);\n",
       "        format_open += 1;\n",
       "    }\n",
       "    while (1 < memo_level) {\n",
       "        text_menu += end_format + \"</ul>\\n\";\n",
       "        memo_level -= 1;\n",
       "        format_open -= 1;\n",
       "    }\n",
       "    text_menu += send;\n",
       "    //text_menu += \"\\n\" + text_memo;\n",
       "\n",
       "    while (format_open > 0) {\n",
       "        text_menu += end_format;\n",
       "        format_open -= 1;\n",
       "    }\n",
       "    return text_menu;\n",
       "};\n",
       "var update_menu = function() {\n",
       "    var sbegin = \"\";\n",
       "    var sformat = '<a href=\"#__HREF__\">__TITLE__</a>';\n",
       "    var send = \"\";\n",
       "    var begin_format = '<li>';\n",
       "    var end_format = '</li>';\n",
       "    var keep_item = -1;\n",
       "    var text_menu = update_menu_string(sbegin, 2, 4, sformat, send, keep_item,\n",
       "       begin_format, end_format);\n",
       "    var menu = document.getElementById(\"my_id_menu_nb\");\n",
       "    menu.innerHTML=text_menu;\n",
       "};\n",
       "window.setTimeout(update_menu,2000);\n",
       "            </script>"
      ],
      "text/plain": [
       "<IPython.core.display.HTML object>"
      ]
     },
     "execution_count": 1,
     "metadata": {},
     "output_type": "execute_result"
    }
   ],
   "source": [
    "from jyquickhelper import add_notebook_menu\n",
    "add_notebook_menu()"
   ]
  },
  {
   "cell_type": "code",
   "execution_count": 2,
   "metadata": {},
   "outputs": [],
   "source": [
    "import warnings\n",
    "warnings.filterwarnings('ignore')"
   ]
  },
  {
   "cell_type": "markdown",
   "metadata": {},
   "source": [
    "## Let's try to do our best with a few ML model"
   ]
  },
  {
   "cell_type": "code",
   "execution_count": 3,
   "metadata": {
    "scrolled": true
   },
   "outputs": [
    {
     "data": {
      "text/html": [
       "<script type=\"text/javascript\">window.PlotlyConfig = {MathJaxConfig: 'local'};</script><script type=\"text/javascript\">if (window.MathJax) {MathJax.Hub.Config({SVG: {font: \"STIX-Web\"}});}</script><script>requirejs.config({paths: { 'plotly': ['https://cdn.plot.ly/plotly-latest.min']},});if(!window._Plotly) {require(['plotly'],function(plotly) {window._Plotly=plotly;});}</script>"
      ],
      "text/vnd.plotly.v1+html": [
       "<script type=\"text/javascript\">window.PlotlyConfig = {MathJaxConfig: 'local'};</script><script type=\"text/javascript\">if (window.MathJax) {MathJax.Hub.Config({SVG: {font: \"STIX-Web\"}});}</script><script>requirejs.config({paths: { 'plotly': ['https://cdn.plot.ly/plotly-latest.min']},});if(!window._Plotly) {require(['plotly'],function(plotly) {window._Plotly=plotly;});}</script>"
      ]
     },
     "metadata": {},
     "output_type": "display_data"
    }
   ],
   "source": [
    "import pandas as pd\n",
    "import numpy as np\n",
    "import sklearn\n",
    "from sklearn.model_selection import train_test_split\n",
    "from sklearn import metrics\n",
    "from sklearn.metrics import confusion_matrix\n",
    "\n",
    "import seaborn as sns\n",
    "import matplotlib.pyplot as plt\n",
    "%matplotlib inline\n",
    "\n",
    "import plotly.offline as py\n",
    "py.init_notebook_mode(connected=True)\n",
    "import plotly.graph_objs as go\n",
    "import plotly.tools as tls\n"
   ]
  },
  {
   "cell_type": "code",
   "execution_count": 4,
   "metadata": {},
   "outputs": [
    {
     "data": {
      "text/plain": [
       "'0.20.2'"
      ]
     },
     "execution_count": 4,
     "metadata": {},
     "output_type": "execute_result"
    }
   ],
   "source": [
    "sklearn.__version__"
   ]
  },
  {
   "cell_type": "code",
   "execution_count": 5,
   "metadata": {},
   "outputs": [],
   "source": [
    "from sklearn.ensemble import (RandomForestClassifier, AdaBoostClassifier,\n",
    "                              GradientBoostingClassifier, ExtraTreesClassifier)\n",
    "\n",
    "from sklearn.model_selection import KFold"
   ]
  },
  {
   "cell_type": "markdown",
   "metadata": {},
   "source": [
    "## Data Preparation"
   ]
  },
  {
   "cell_type": "markdown",
   "metadata": {},
   "source": [
    "We use the data preparation explained in the notebook called \"Data Preparation for our studies \"\n"
   ]
  },
  {
   "cell_type": "markdown",
   "metadata": {},
   "source": [
    "import pandas as pd\n",
    "import numpy as np\n",
    "from transplant.config import *\n",
    "\n",
    "df = pd.read_csv(PATH_STATIC_CLEAN)[STATIC_CATEGORIES['patient_intraoperative']]\n",
    "declampage_col = list(df.filter(like='declampage_cote_2').columns)\n",
    "declampage_col.append('id_patient')\n",
    "\n",
    "X_intra=df[declampage_col].apply(pd.to_numeric, errors='coerce').dropna(1, how=\"all\")\n",
    "\n",
    "from transplant.data.dataset import Dataset\n",
    "dataset = Dataset()\n",
    "\n",
    "train, test = dataset.get_static()\n",
    "X_train=train[['id_patient', 'target']]\n",
    "X_test=test[['id_patient', 'target']]\n",
    "\n",
    "X_train_intra_with_targ=pd.merge(X_train, X_intra, on='id_patient')\n",
    "X_test_intra_with_targ=pd.merge(X_test, X_intra, on='id_patient')\n",
    "\n",
    "mean_train = X_train_intra_with_targ.mean()\n",
    "\n",
    "train_filled = X_train_intra_with_targ.fillna(mean_train)\n",
    "test_filled = X_test_intra_with_targ.fillna(mean_train)\n",
    "\n",
    "\n",
    "\n",
    "X_train = np.array(train_filled.drop(['target','id_patient'], axis=1))\n",
    "X_test = np.array(test_filled.drop(['target','id_patient'], axis=1))\n",
    "y_train = np.array(train_filled['target'])\n",
    "y_test = np.array(test_filled['target'])\n",
    "X_col = train_filled.drop(['target','id_patient'], axis=1).columns"
   ]
  },
  {
   "cell_type": "markdown",
   "metadata": {},
   "source": [
    "def armand_funct():\n",
    "    \"\"\"\n",
    "    How to : X_train, X_test, y_train ,Y_test, col = armand_funct()\n",
    "    \"\"\"\n",
    "    from transplant.data.dataset import Dataset\n",
    "    \n",
    "    \n",
    "    # To get Target\n",
    "    dataset = Dataset()\n",
    "\n",
    "    train, test = dataset.get_static()\n",
    "    train['is_train'] = 1\n",
    "    test['is_train'] = 0\n",
    "    all_stat = pd.concat([train, test])\n",
    "    all_stat = all_stat[['id_patient', 'target', 'is_train']].copy()\n",
    "    \n",
    "    # Intra\n",
    "    df = pd.read_csv(PATH_STATIC_CLEAN)[STATIC_CATEGORIES['patient_intraoperative']]\n",
    "    declampage = list(df.filter(like='declampage_cote_2').columns)\n",
    "    declampage.append('id_patient')\n",
    "    df = df[declampage]\n",
    "    \n",
    "    # Intra Num\n",
    "    df_num = df.apply(pd.to_numeric, errors='coerce')\n",
    "    \n",
    "    # Merge with all_statto get target \n",
    "    df_num = df_num.merge(all_stat, on='id_patient')\n",
    "    \n",
    "    # Feature engi\n",
    "    df_num['nb_nan_feature'] = pd.isnull(df_num).sum(axis=1)\n",
    "    \n",
    "    df_num = df_num.fillna(-99) # \n",
    "    \n",
    "    \n",
    "    # Split \n",
    "    \n",
    "    y_train = np.array(df_num[df_num['is_train'] == 1]['target'])\n",
    "    y_test = np.array(df_num[df_num['is_train'] == 0]['target'])\n",
    "    \n",
    "    X_train = df_num[df_num['is_train'] == 1].drop(['target', 'id_patient', 'is_train'], axis=1)\n",
    "    X_test = df_num[df_num['is_train'] == 0].drop(['target', 'id_patient', 'is_train'], axis=1)\n",
    "    col = X_train.columns\n",
    "    \n",
    "    return X_train.values, X_test.values, y_train ,y_test, col"
   ]
  },
  {
   "cell_type": "code",
   "execution_count": 6,
   "metadata": {},
   "outputs": [],
   "source": [
    "from transplant.data.learningset import Learningset\n",
    "#from transplant.config import *\n",
    "learningset = Learningset()\n",
    "\n",
    "#X_train, X_test, y_train, y_test, X_col = learningset.get_static_filled(to_train=True)\n",
    "#X_train, X_test, y_train, y_test, X_col = learningset.get_data_merged_dynamic_flatten_full(\"cls\", False)\n",
    "#X_train, X_test, y_train, y_test, X_col = armand_funct()\n",
    "\n",
    "train, test = learningset.get_data_merged_dynamic_flatten_full(full_df=True)"
   ]
  },
  {
   "cell_type": "markdown",
   "metadata": {},
   "source": [
    "Choix des features : "
   ]
  },
  {
   "cell_type": "code",
   "execution_count": 7,
   "metadata": {},
   "outputs": [],
   "source": [
    "## RFE avec 4 modèles d'ensemble\n",
    "choix_features_1=['PEEPtotal_std',\n",
    " 'Temp_mean',\n",
    " 'ETCO2_mean',\n",
    " 'FiO2_std',\n",
    " 'LAS',\n",
    " 'Poids',\n",
    " 'SpO2_mean',\n",
    " 'BIS SR_std']\n",
    "\n",
    "## Variables Antoine avec perspective résultats RFE\n",
    "choix_features_4=['FiO2_std','FiO2_mean',\n",
    "                  'SpO2_mean','SpO2_std',\n",
    "                  'PEEPtotal_mean',\n",
    "                  'BIS SR_std',\n",
    "                  'PAPsys_max','PAPsys_std',\n",
    "                  'PASs_mean','PASm_max',\n",
    "                  'LAS',\n",
    "                  'FC_std'\n",
    "                 ]\n",
    "\n",
    "choix_features_5=set(choix_features_4 + choix_features_1)\n",
    "\n",
    "\n",
    "choix_features_6=['B.I.S_std',\n",
    " 'ETCO2_max',\n",
    " 'ETCO2_mean',\n",
    " 'FC_mean',\n",
    " 'FR_max',\n",
    " 'FR_mean',\n",
    " 'FiO2_mean',\n",
    " 'FiO2_std',\n",
    " 'LAS',\n",
    " 'PAPmoy_mean',\n",
    " 'PAPsys_max',\n",
    " 'PASd_mean',\n",
    " 'PASs_mean',\n",
    " 'PEEPtotal_mean',\n",
    " 'PEEPtotal_std',\n",
    " 'PF_donor',\n",
    " 'Poids',\n",
    " 'SpO2_std',\n",
    " 'Temp_mean',\n",
    " 'VT_max',\n",
    " 'VT_std',\n",
    " 'body_mass_index',\n",
    " 'declampage_cote2_done_std',\n",
    " 'oto_score']\n",
    "\n",
    "choix_features_7=set(choix_features_4 + choix_features_6)\n",
    "\n",
    "choix_features_8=['BMI_donor', 'LAS', 'PF_donor', 'Poids', 'Poids_donor', 'Taille', 'age',\n",
    "       'body_mass_index', 'oto_score', 'start_operation_month',\n",
    "       'start_operation_day', 'ends_operation_day', 'ETCO2_mean', 'FC_mean',\n",
    "       'FR_mean', 'FiO2_mean', 'PAPdia_mean', 'PAPmoy_mean', 'PASd_mean',\n",
    "       'PASs_mean', 'PEEPtotal_mean', 'PNIm_mean', 'PNIs_mean', 'Pmax_mean',\n",
    "       'Pmean_mean', 'SpO2_mean', 'Temp_mean', 'VT_mean',\n",
    "       'declampage_cote2_done_mean', 'B.I.S_std', 'ETCO2_std', 'FC_std',\n",
    "       'FiO2_std', 'PAPmoy_std', 'PASd_std', 'PASm_std', 'PASs_std',\n",
    "       'PEEPtotal_std', 'PNIs_std', 'Pmax_std', 'Pmean_std', 'SpO2_std',\n",
    "       'SvO2 (m)_std', 'Temp_std', 'VT_std', 'declampage_cote2_done_std',\n",
    "       'ETCO2_max', 'FR_max', 'PAPmoy_max', 'PAPsys_max', 'PASd_max',\n",
    "       'PASm_max', 'PASs_max', 'PEEPtotal_max', 'PNId_max', 'PNIm_max',\n",
    "       'Pmax_max', 'Pmean_max', 'Temp_max', 'VT_max']\n",
    "\n",
    "choix_features_9=set(choix_features_4 + choix_features_8)\n",
    "\n",
    "choix_features_10=['Poids', 'ends_operation_day', 'ETCO2_mean', 'PASs_mean',\n",
    "       'PEEPtotal_mean', 'Pmax_mean', 'Pmean_mean', 'SpO2_mean', 'Temp_mean',\n",
    "       'VT_mean', 'declampage_cote2_done_mean', 'PASd_std', 'VT_std',\n",
    "       'PASm_max', 'Temp_max']\n",
    "\n",
    "choix_features_11=set(choix_features_4 + choix_features_10)"
   ]
  },
  {
   "cell_type": "code",
   "execution_count": 8,
   "metadata": {},
   "outputs": [],
   "source": [
    "Choix_Features=choix_features_11"
   ]
  },
  {
   "cell_type": "code",
   "execution_count": 9,
   "metadata": {},
   "outputs": [],
   "source": [
    "X_train=train[Choix_Features].values \n",
    "X_test=test[Choix_Features].values\n",
    "y_train=train['target'].values\n",
    "y_test=test['target'].values"
   ]
  },
  {
   "cell_type": "code",
   "execution_count": 10,
   "metadata": {},
   "outputs": [],
   "source": [
    "X_col=train[Choix_Features].columns"
   ]
  },
  {
   "cell_type": "code",
   "execution_count": 11,
   "metadata": {},
   "outputs": [
    {
     "data": {
      "text/plain": [
       "((228, 23), (102, 23), (228,), (102,))"
      ]
     },
     "execution_count": 11,
     "metadata": {},
     "output_type": "execute_result"
    }
   ],
   "source": [
    "X_train.shape, X_test.shape, y_train.shape, y_test.shape"
   ]
  },
  {
   "cell_type": "markdown",
   "metadata": {},
   "source": [
    "We need to change the y format in order to make our models work"
   ]
  },
  {
   "cell_type": "code",
   "execution_count": 12,
   "metadata": {},
   "outputs": [],
   "source": [
    "y_train, y_test = y_train.reshape(-1, 1).ravel() , y_test.reshape(-1, 1).ravel()"
   ]
  },
  {
   "cell_type": "code",
   "execution_count": 13,
   "metadata": {},
   "outputs": [
    {
     "data": {
      "text/plain": [
       "((228, 23), (102, 23), (228,), (102,))"
      ]
     },
     "execution_count": 13,
     "metadata": {},
     "output_type": "execute_result"
    }
   ],
   "source": [
    "X_train.shape, X_test.shape, y_train.shape, y_test.shape"
   ]
  },
  {
   "cell_type": "markdown",
   "metadata": {},
   "source": [
    "## ML Tuning"
   ]
  },
  {
   "cell_type": "code",
   "execution_count": 14,
   "metadata": {},
   "outputs": [],
   "source": [
    "cols = X_col  # On a besoin des colonnes pour plus tard\n",
    "# On observe le grand X et pas le petit x ...\n",
    "\n",
    "ntrain = X_train.shape[0]\n",
    "\n",
    "ntest = X_test.shape[0]\n",
    "\n",
    "seed_fix = 5                   # Pour reproduire les résultats"
   ]
  },
  {
   "cell_type": "code",
   "execution_count": 15,
   "metadata": {},
   "outputs": [
    {
     "data": {
      "text/plain": [
       "(228, 102)"
      ]
     },
     "execution_count": 15,
     "metadata": {},
     "output_type": "execute_result"
    }
   ],
   "source": [
    "ntrain, ntest"
   ]
  },
  {
   "cell_type": "code",
   "execution_count": 16,
   "metadata": {},
   "outputs": [],
   "source": [
    "class SklearnHelper(object):\n",
    "    def __init__(self, clf, seed=0, params=None):\n",
    "        params['random_state'] = seed\n",
    "        self.clf = clf(**params)\n",
    "\n",
    "    def train(self, x_train, y_train):\n",
    "        self.clf.fit(x_train, y_train)\n",
    "\n",
    "    def predict(self, x):\n",
    "        return self.clf.predict(x)\n",
    "\n",
    "    def fit(self, x, y):\n",
    "        return self.clf.fit(x, y)\n",
    "\n",
    "    def feature_importances(self, x, y):\n",
    "        return self.clf.fit(x, y).feature_importances_"
   ]
  },
  {
   "cell_type": "code",
   "execution_count": 17,
   "metadata": {},
   "outputs": [],
   "source": [
    "NFOLDS = 5\n",
    "kf = KFold(n_splits=NFOLDS, random_state=seed_fix)\n",
    "\n",
    "\n",
    "def get_oof(clf, x_train, y_train, x_test):\n",
    "    oof_train = np.zeros((ntrain,))\n",
    "    oof_test = np.zeros((ntest,))\n",
    "    oof_test_skf = np.empty((NFOLDS, ntest))\n",
    "\n",
    "    for i, (train_index, test_index) in enumerate(kf.split(x_train)):\n",
    "        x_tr = x_train[train_index]\n",
    "        y_tr = y_train[train_index]\n",
    "        x_te = x_train[test_index]\n",
    "\n",
    "        clf.train(x_tr, y_tr)\n",
    "\n",
    "        oof_train[test_index] = clf.predict(x_te)\n",
    "        oof_test_skf[i, :] = clf.predict(x_test)\n",
    "\n",
    "    oof_test[:] = oof_test_skf.mean(axis=0)\n",
    "    return oof_train.reshape(-1, 1), oof_test.reshape(-1, 1)"
   ]
  },
  {
   "cell_type": "code",
   "execution_count": 18,
   "metadata": {},
   "outputs": [],
   "source": [
    "rf_params = {\n",
    "    'n_jobs': -1,\n",
    "    'n_estimators': 500,\n",
    "    #'warm_start': True,\n",
    "    # 'max_features': 0.2,\n",
    "    'max_depth': 6,\n",
    "    'min_samples_leaf': 2,\n",
    "    'max_features': 'sqrt',\n",
    "    'verbose': 0\n",
    "}"
   ]
  },
  {
   "cell_type": "code",
   "execution_count": 19,
   "metadata": {},
   "outputs": [],
   "source": [
    "et_params = {\n",
    "    'n_jobs': -1,\n",
    "    'n_estimators': 500,\n",
    "    # 'max_features': 0.5,\n",
    "    'max_depth': 8,\n",
    "    'min_samples_leaf': 2,\n",
    "    'verbose': 0\n",
    "}"
   ]
  },
  {
   "cell_type": "code",
   "execution_count": 20,
   "metadata": {},
   "outputs": [],
   "source": [
    "ada_params = {\n",
    "    'n_estimators': 500,\n",
    "    'learning_rate': 0.75\n",
    "}"
   ]
  },
  {
   "cell_type": "code",
   "execution_count": 21,
   "metadata": {},
   "outputs": [],
   "source": [
    "gb_params = {\n",
    "    'n_estimators': 500,\n",
    "    # 'max_features': 0.2,\n",
    "    'max_depth': 5,\n",
    "    'min_samples_leaf': 2,\n",
    "    'verbose': 0\n",
    "}"
   ]
  },
  {
   "cell_type": "code",
   "execution_count": 22,
   "metadata": {},
   "outputs": [],
   "source": [
    "rf = SklearnHelper(clf=RandomForestClassifier, seed=seed_fix, params=rf_params)\n",
    "et = SklearnHelper(clf=ExtraTreesClassifier, seed=seed_fix, params=et_params)\n",
    "ada = SklearnHelper(clf=AdaBoostClassifier, seed=seed_fix, params=ada_params)\n",
    "gb = SklearnHelper(clf=GradientBoostingClassifier,\n",
    "                   seed=seed_fix, params=gb_params)"
   ]
  },
  {
   "cell_type": "code",
   "execution_count": 23,
   "metadata": {},
   "outputs": [
    {
     "data": {
      "text/plain": [
       "((228, 23), (228,), (102, 23))"
      ]
     },
     "execution_count": 23,
     "metadata": {},
     "output_type": "execute_result"
    }
   ],
   "source": [
    "X_train.shape, y_train.shape, X_test.shape"
   ]
  },
  {
   "cell_type": "markdown",
   "metadata": {},
   "source": [
    "## Learning zone"
   ]
  },
  {
   "cell_type": "code",
   "execution_count": 24,
   "metadata": {},
   "outputs": [
    {
     "name": "stdout",
     "output_type": "stream",
     "text": [
      "I am done learning :D\n",
      "Wall time: 30.9 s\n"
     ]
    }
   ],
   "source": [
    "%%time\n",
    "et_oof_train, et_oof_test = get_oof(\n",
    "    et, X_train, y_train, X_test)  # Extra Trees\n",
    "rf_oof_train, rf_oof_test = get_oof(\n",
    "    rf, X_train, y_train, X_test)  # Random Forest\n",
    "ada_oof_train, ada_oof_test = get_oof(\n",
    "    ada, X_train, y_train, X_test)  # AdaBoost\n",
    "gb_oof_train, gb_oof_test = get_oof(\n",
    "    gb, X_train, y_train, X_test)  # Gradient Boost\n",
    "\n",
    "print(\"I am done learning :D\")"
   ]
  },
  {
   "cell_type": "code",
   "execution_count": 25,
   "metadata": {},
   "outputs": [],
   "source": [
    "rf_feature = rf.feature_importances(X_train, y_train)\n",
    "et_feature = et.feature_importances(X_train, y_train)\n",
    "ada_feature = ada.feature_importances(X_train, y_train)\n",
    "gb_feature = gb.feature_importances(X_train, y_train)\n",
    "\n",
    "# On met plutot dans un dataFrame\n",
    "feature_dataframe = pd.DataFrame({'features': cols,\n",
    "                                  'Random Forest Importance des features': rf_feature,\n",
    "                                  'Extra Trees Importance des features': et_feature,\n",
    "                                  'AdaBoost Importance des features': ada_feature,\n",
    "                                  'Gradient Boost Importance des features': gb_feature\n",
    "                                  })"
   ]
  },
  {
   "cell_type": "code",
   "execution_count": 26,
   "metadata": {},
   "outputs": [],
   "source": [
    "rf_pred = rf.predict(X_test)\n",
    "et_pred = et.predict(X_test)\n",
    "ada_pred = ada.predict(X_test)\n",
    "gb_pred = gb.predict(X_test)"
   ]
  },
  {
   "cell_type": "markdown",
   "metadata": {},
   "source": [
    "## Résultats"
   ]
  },
  {
   "cell_type": "markdown",
   "metadata": {},
   "source": [
    "#### For the ones who forgot : \n",
    "\n",
    "##### Compute the precision\n",
    "\n",
    "The precision is the ratio tp / (tp + fp) where tp is the number of true positives and fp the number of false positives. The precision is intuitively the ability of the classifier not to label as positive a sample that is negative.\n",
    "\n",
    "The best value is 1 and the worst value is 0.\n",
    "\n",
    "##### Compute the recall\n",
    "\n",
    "The recall is the ratio tp / (tp + fn) where tp is the number of true positives and fn the number of false negatives. The recall is intuitively the ability of the classifier to find all the positive samples.\n",
    "\n",
    "The best value is 1 and the worst value is 0.\n",
    "\n",
    "##### F1 score\n",
    "The F1 score can be interpreted as a weighted average of the precision and recall, where an F1 score reaches its best value at 1 and worst score at 0. The relative contribution of precision and recall to the F1 score are equal. The formula for the F1 score is:\n",
    "\n",
    "F1 = 2 (precision recall) / (precision + recall)\n",
    "\n",
    "The support is the number of occurrences of each class in y_true"
   ]
  },
  {
   "cell_type": "markdown",
   "metadata": {},
   "source": [
    "### Random Forest"
   ]
  },
  {
   "cell_type": "code",
   "execution_count": 27,
   "metadata": {},
   "outputs": [
    {
     "name": "stdout",
     "output_type": "stream",
     "text": [
      "Accuracy :\n",
      "0.6470588235294118\n"
     ]
    }
   ],
   "source": [
    "print(\"Accuracy :\")\n",
    "print(metrics.accuracy_score(rf_pred, y_test))"
   ]
  },
  {
   "cell_type": "code",
   "execution_count": 28,
   "metadata": {},
   "outputs": [
    {
     "name": "stdout",
     "output_type": "stream",
     "text": [
      "              precision    recall  f1-score   support\n",
      "\n",
      "           0       0.78      0.67      0.72        69\n",
      "           1       0.47      0.61      0.53        33\n",
      "\n",
      "   micro avg       0.65      0.65      0.65       102\n",
      "   macro avg       0.62      0.64      0.62       102\n",
      "weighted avg       0.68      0.65      0.66       102\n",
      "\n"
     ]
    }
   ],
   "source": [
    "print(metrics.classification_report(rf_pred, y_test))"
   ]
  },
  {
   "cell_type": "code",
   "execution_count": 29,
   "metadata": {
    "scrolled": false
   },
   "outputs": [
    {
     "data": {
      "text/plain": [
       "<matplotlib.axes._subplots.AxesSubplot at 0x1d5d49c03c8>"
      ]
     },
     "execution_count": 29,
     "metadata": {},
     "output_type": "execute_result"
    },
    {
     "data": {
      "image/png": "[encoded data removed]",
      "text/plain": [
       "<Figure size 504x432 with 2 Axes>"
      ]
     },
     "metadata": {
      "needs_background": "light"
     },
     "output_type": "display_data"
    }
   ],
   "source": [
    "colormap = plt.cm.Purples\n",
    "plt.figure(figsize=(7,6))\n",
    "plt.title('Matrice de confusion Proba Random Forest', y=1.05, size=15)\n",
    "sns.heatmap(confusion_matrix(y_test, rf_pred)/ntest,linewidths=0.1, \n",
    "            square=True, cmap=colormap, linecolor='white', annot=True,\n",
    "           vmin=0, vmax=0.6)"
   ]
  },
  {
   "cell_type": "code",
   "execution_count": 30,
   "metadata": {},
   "outputs": [
    {
     "data": {
      "application/vnd.plotly.v1+json": {
       "config": {
        "linkText": "Export to plot.ly",
        "plotlyServerURL": "https://plot.ly",
        "showLink": false
       },
       "data": [
        {
         "marker": {
          "color": [
           0.04759976017113933,
           0.039747617995793814,
           0.06609301784604688,
           0.0361260235285044,
           0.04360009182190055,
           0.028379279098442303,
           0.033531349022930784,
           0.039608668185423565,
           0.03216489622992305,
           0.053795636450184085,
           0.04973194037421025,
           0.07387545384387335,
           0.02193319089339844,
           0.058892213608067734,
           0.03824700568664016,
           0.04090200555027963,
           0.03490341335036378,
           0.032823808038317026,
           0.028767895477120393,
           0.06087145829494839,
           0.04795923859401532,
           0.032859446436924164,
           0.05758658950155237
          ],
          "colorscale": "Portland",
          "showscale": true,
          "size": 25,
          "sizemode": "diameter",
          "sizeref": 1
         },
         "mode": "markers",
         "text": [
          "SpO2_mean",
          "Pmean_mean",
          "PASs_mean",
          "PAPsys_max",
          "declampage_cote2_done_mean",
          "PAPsys_std",
          "Pmax_mean",
          "PASm_max",
          "FiO2_std",
          "VT_mean",
          "LAS",
          "ETCO2_mean",
          "BIS SR_std",
          "Poids",
          "PEEPtotal_mean",
          "SpO2_std",
          "ends_operation_day",
          "Temp_max",
          "FC_std",
          "Temp_mean",
          "VT_std",
          "PASd_std",
          "FiO2_mean"
         ],
         "type": "scatter",
         "uid": "4f0603b1-bd64-4164-a80f-615492481396",
         "x": [
          "SpO2_mean",
          "Pmean_mean",
          "PASs_mean",
          "PAPsys_max",
          "declampage_cote2_done_mean",
          "PAPsys_std",
          "Pmax_mean",
          "PASm_max",
          "FiO2_std",
          "VT_mean",
          "LAS",
          "ETCO2_mean",
          "BIS SR_std",
          "Poids",
          "PEEPtotal_mean",
          "SpO2_std",
          "ends_operation_day",
          "Temp_max",
          "FC_std",
          "Temp_mean",
          "VT_std",
          "PASd_std",
          "FiO2_mean"
         ],
         "y": [
          0.04759976017113933,
          0.039747617995793814,
          0.06609301784604688,
          0.0361260235285044,
          0.04360009182190055,
          0.028379279098442303,
          0.033531349022930784,
          0.039608668185423565,
          0.03216489622992305,
          0.053795636450184085,
          0.04973194037421025,
          0.07387545384387335,
          0.02193319089339844,
          0.058892213608067734,
          0.03824700568664016,
          0.04090200555027963,
          0.03490341335036378,
          0.032823808038317026,
          0.028767895477120393,
          0.06087145829494839,
          0.04795923859401532,
          0.032859446436924164,
          0.05758658950155237
         ]
        }
       ],
       "layout": {
        "autosize": true,
        "hovermode": "closest",
        "showlegend": false,
        "title": {
         "text": "Random Forest Importance des features"
        },
        "yaxis": {
         "gridwidth": 2,
         "ticklen": 5,
         "title": {
          "text": "Importance des features"
         }
        }
       }
      },
      "text/html": [
       "<div id=\"c7d9b8f5-ca47-439e-9794-c67d11aecc82\" style=\"height: 525px; width: 100%;\" class=\"plotly-graph-div\"></div><script type=\"text/javascript\">require([\"plotly\"], function(Plotly) { window.PLOTLYENV=window.PLOTLYENV || {};window.PLOTLYENV.BASE_URL=\"https://plot.ly\";Plotly.newPlot(\"c7d9b8f5-ca47-439e-9794-c67d11aecc82\", [{\"marker\": {\"color\": [0.04759976017113933, 0.039747617995793814, 0.06609301784604688, 0.0361260235285044, 0.04360009182190055, 0.028379279098442303, 0.033531349022930784, 0.039608668185423565, 0.03216489622992305, 0.053795636450184085, 0.04973194037421025, 0.07387545384387335, 0.02193319089339844, 0.058892213608067734, 0.03824700568664016, 0.04090200555027963, 0.03490341335036378, 0.032823808038317026, 0.028767895477120393, 0.06087145829494839, 0.04795923859401532, 0.032859446436924164, 0.05758658950155237], \"colorscale\": \"Portland\", \"showscale\": true, \"size\": 25, \"sizemode\": \"diameter\", \"sizeref\": 1}, \"mode\": \"markers\", \"text\": [\"SpO2_mean\", \"Pmean_mean\", \"PASs_mean\", \"PAPsys_max\", \"declampage_cote2_done_mean\", \"PAPsys_std\", \"Pmax_mean\", \"PASm_max\", \"FiO2_std\", \"VT_mean\", \"LAS\", \"ETCO2_mean\", \"BIS SR_std\", \"Poids\", \"PEEPtotal_mean\", \"SpO2_std\", \"ends_operation_day\", \"Temp_max\", \"FC_std\", \"Temp_mean\", \"VT_std\", \"PASd_std\", \"FiO2_mean\"], \"x\": [\"SpO2_mean\", \"Pmean_mean\", \"PASs_mean\", \"PAPsys_max\", \"declampage_cote2_done_mean\", \"PAPsys_std\", \"Pmax_mean\", \"PASm_max\", \"FiO2_std\", \"VT_mean\", \"LAS\", \"ETCO2_mean\", \"BIS SR_std\", \"Poids\", \"PEEPtotal_mean\", \"SpO2_std\", \"ends_operation_day\", \"Temp_max\", \"FC_std\", \"Temp_mean\", \"VT_std\", \"PASd_std\", \"FiO2_mean\"], \"y\": [0.04759976017113933, 0.039747617995793814, 0.06609301784604688, 0.0361260235285044, 0.04360009182190055, 0.028379279098442303, 0.033531349022930784, 0.039608668185423565, 0.03216489622992305, 0.053795636450184085, 0.04973194037421025, 0.07387545384387335, 0.02193319089339844, 0.058892213608067734, 0.03824700568664016, 0.04090200555027963, 0.03490341335036378, 0.032823808038317026, 0.028767895477120393, 0.06087145829494839, 0.04795923859401532, 0.032859446436924164, 0.05758658950155237], \"type\": \"scatter\", \"uid\": \"4f0603b1-bd64-4164-a80f-615492481396\"}], {\"autosize\": true, \"hovermode\": \"closest\", \"showlegend\": false, \"title\": {\"text\": \"Random Forest Importance des features\"}, \"yaxis\": {\"gridwidth\": 2, \"ticklen\": 5, \"title\": {\"text\": \"Importance des features\"}}}, {\"showLink\": false, \"linkText\": \"Export to plot.ly\", \"plotlyServerURL\": \"https://plot.ly\"})});</script><script type=\"text/javascript\">window.addEventListener(\"resize\", function(){window._Plotly.Plots.resize(document.getElementById(\"c7d9b8f5-ca47-439e-9794-c67d11aecc82\"));});</script>"
      ],
      "text/vnd.plotly.v1+html": [
       "<div id=\"c7d9b8f5-ca47-439e-9794-c67d11aecc82\" style=\"height: 525px; width: 100%;\" class=\"plotly-graph-div\"></div><script type=\"text/javascript\">require([\"plotly\"], function(Plotly) { window.PLOTLYENV=window.PLOTLYENV || {};window.PLOTLYENV.BASE_URL=\"https://plot.ly\";Plotly.newPlot(\"c7d9b8f5-ca47-439e-9794-c67d11aecc82\", [{\"marker\": {\"color\": [0.04759976017113933, 0.039747617995793814, 0.06609301784604688, 0.0361260235285044, 0.04360009182190055, 0.028379279098442303, 0.033531349022930784, 0.039608668185423565, 0.03216489622992305, 0.053795636450184085, 0.04973194037421025, 0.07387545384387335, 0.02193319089339844, 0.058892213608067734, 0.03824700568664016, 0.04090200555027963, 0.03490341335036378, 0.032823808038317026, 0.028767895477120393, 0.06087145829494839, 0.04795923859401532, 0.032859446436924164, 0.05758658950155237], \"colorscale\": \"Portland\", \"showscale\": true, \"size\": 25, \"sizemode\": \"diameter\", \"sizeref\": 1}, \"mode\": \"markers\", \"text\": [\"SpO2_mean\", \"Pmean_mean\", \"PASs_mean\", \"PAPsys_max\", \"declampage_cote2_done_mean\", \"PAPsys_std\", \"Pmax_mean\", \"PASm_max\", \"FiO2_std\", \"VT_mean\", \"LAS\", \"ETCO2_mean\", \"BIS SR_std\", \"Poids\", \"PEEPtotal_mean\", \"SpO2_std\", \"ends_operation_day\", \"Temp_max\", \"FC_std\", \"Temp_mean\", \"VT_std\", \"PASd_std\", \"FiO2_mean\"], \"x\": [\"SpO2_mean\", \"Pmean_mean\", \"PASs_mean\", \"PAPsys_max\", \"declampage_cote2_done_mean\", \"PAPsys_std\", \"Pmax_mean\", \"PASm_max\", \"FiO2_std\", \"VT_mean\", \"LAS\", \"ETCO2_mean\", \"BIS SR_std\", \"Poids\", \"PEEPtotal_mean\", \"SpO2_std\", \"ends_operation_day\", \"Temp_max\", \"FC_std\", \"Temp_mean\", \"VT_std\", \"PASd_std\", \"FiO2_mean\"], \"y\": [0.04759976017113933, 0.039747617995793814, 0.06609301784604688, 0.0361260235285044, 0.04360009182190055, 0.028379279098442303, 0.033531349022930784, 0.039608668185423565, 0.03216489622992305, 0.053795636450184085, 0.04973194037421025, 0.07387545384387335, 0.02193319089339844, 0.058892213608067734, 0.03824700568664016, 0.04090200555027963, 0.03490341335036378, 0.032823808038317026, 0.028767895477120393, 0.06087145829494839, 0.04795923859401532, 0.032859446436924164, 0.05758658950155237], \"type\": \"scatter\", \"uid\": \"4f0603b1-bd64-4164-a80f-615492481396\"}], {\"autosize\": true, \"hovermode\": \"closest\", \"showlegend\": false, \"title\": {\"text\": \"Random Forest Importance des features\"}, \"yaxis\": {\"gridwidth\": 2, \"ticklen\": 5, \"title\": {\"text\": \"Importance des features\"}}}, {\"showLink\": false, \"linkText\": \"Export to plot.ly\", \"plotlyServerURL\": \"https://plot.ly\"})});</script><script type=\"text/javascript\">window.addEventListener(\"resize\", function(){window._Plotly.Plots.resize(document.getElementById(\"c7d9b8f5-ca47-439e-9794-c67d11aecc82\"));});</script>"
      ]
     },
     "metadata": {},
     "output_type": "display_data"
    }
   ],
   "source": [
    "trace = go.Scatter(x=feature_dataframe['features'].values,\n",
    "                   y=feature_dataframe['Random Forest Importance des features'].values,\n",
    "\n",
    "                   mode='markers',\n",
    "                   marker=dict(\n",
    "    sizemode='diameter',\n",
    "    sizeref=1,\n",
    "    size=25,\n",
    "    # color = np.random.randn(500), #set color equal to a variable\n",
    "    color=feature_dataframe['Random Forest Importance des features'].values,\n",
    "    colorscale='Portland',\n",
    "    showscale=True\n",
    "),\n",
    "    text=feature_dataframe['features'].values\n",
    ")\n",
    "\n",
    "data = [trace]\n",
    "\n",
    "layout = go.Layout(\n",
    "    autosize=True,\n",
    "    title='Random Forest Importance des features',\n",
    "    hovermode='closest',\n",
    "    yaxis=dict(\n",
    "        title='Importance des features',\n",
    "        ticklen=5,\n",
    "        gridwidth=2\n",
    "    ),\n",
    "    showlegend=False\n",
    ")\n",
    "\n",
    "fig = go.Figure(data=data, layout=layout)\n",
    "\n",
    "py.iplot(fig, filename='scatter2010')"
   ]
  },
  {
   "cell_type": "markdown",
   "metadata": {},
   "source": [
    "### Extra Tree"
   ]
  },
  {
   "cell_type": "code",
   "execution_count": 31,
   "metadata": {},
   "outputs": [
    {
     "name": "stdout",
     "output_type": "stream",
     "text": [
      "Accuracy :\n",
      "0.5980392156862745\n"
     ]
    }
   ],
   "source": [
    "print(\"Accuracy :\")\n",
    "print(metrics.accuracy_score(et_pred, y_test))"
   ]
  },
  {
   "cell_type": "code",
   "execution_count": 32,
   "metadata": {},
   "outputs": [
    {
     "name": "stdout",
     "output_type": "stream",
     "text": [
      "              precision    recall  f1-score   support\n",
      "\n",
      "           0       0.83      0.61      0.71        80\n",
      "           1       0.28      0.55      0.37        22\n",
      "\n",
      "   micro avg       0.60      0.60      0.60       102\n",
      "   macro avg       0.55      0.58      0.54       102\n",
      "weighted avg       0.71      0.60      0.63       102\n",
      "\n"
     ]
    }
   ],
   "source": [
    "print(metrics.classification_report(et_pred, y_test))"
   ]
  },
  {
   "cell_type": "code",
   "execution_count": 33,
   "metadata": {
    "scrolled": true
   },
   "outputs": [
    {
     "data": {
      "text/plain": [
       "<matplotlib.axes._subplots.AxesSubplot at 0x1d5cbfc7f60>"
      ]
     },
     "execution_count": 33,
     "metadata": {},
     "output_type": "execute_result"
    },
    {
     "data": {
      "image/png": "[encoded data removed]",
      "text/plain": [
       "<Figure size 504x432 with 2 Axes>"
      ]
     },
     "metadata": {
      "needs_background": "light"
     },
     "output_type": "display_data"
    }
   ],
   "source": [
    "colormap = plt.cm.Purples\n",
    "plt.figure(figsize=(7,6))\n",
    "plt.title('Matrice de confusion Proba Extra Tree', y=1.05, size=15)\n",
    "sns.heatmap(confusion_matrix(y_test, et_pred)/ntest,linewidths=0.1, \n",
    "            square=True, cmap=colormap, linecolor='white', annot=True,\n",
    "           vmin=0, vmax=0.6)"
   ]
  },
  {
   "cell_type": "code",
   "execution_count": 34,
   "metadata": {},
   "outputs": [
    {
     "data": {
      "application/vnd.plotly.v1+json": {
       "config": {
        "linkText": "Export to plot.ly",
        "plotlyServerURL": "https://plot.ly",
        "showLink": false
       },
       "data": [
        {
         "marker": {
          "color": [
           0.04297210637654524,
           0.04166407082052739,
           0.043240372575675784,
           0.04442524698573142,
           0.04872044703189711,
           0.027302451578983304,
           0.03147339474792881,
           0.036226715600812115,
           0.03881877761509354,
           0.046171836255208286,
           0.06494241712901032,
           0.06346022012789054,
           0.03302607945523053,
           0.0631435270075182,
           0.035619026951734155,
           0.04531679023031013,
           0.044209276046023226,
           0.02925088432196722,
           0.03452608708866012,
           0.0645766990189258,
           0.044240567500828866,
           0.028701292947494406,
           0.04797171258600366
          ],
          "colorscale": "Portland",
          "showscale": true,
          "size": 25,
          "sizemode": "diameter",
          "sizeref": 1
         },
         "mode": "markers",
         "text": [
          "SpO2_mean",
          "Pmean_mean",
          "PASs_mean",
          "PAPsys_max",
          "declampage_cote2_done_mean",
          "PAPsys_std",
          "Pmax_mean",
          "PASm_max",
          "FiO2_std",
          "VT_mean",
          "LAS",
          "ETCO2_mean",
          "BIS SR_std",
          "Poids",
          "PEEPtotal_mean",
          "SpO2_std",
          "ends_operation_day",
          "Temp_max",
          "FC_std",
          "Temp_mean",
          "VT_std",
          "PASd_std",
          "FiO2_mean"
         ],
         "type": "scatter",
         "uid": "8e69b186-10c2-4602-add2-cdcafc70a0e0",
         "x": [
          "SpO2_mean",
          "Pmean_mean",
          "PASs_mean",
          "PAPsys_max",
          "declampage_cote2_done_mean",
          "PAPsys_std",
          "Pmax_mean",
          "PASm_max",
          "FiO2_std",
          "VT_mean",
          "LAS",
          "ETCO2_mean",
          "BIS SR_std",
          "Poids",
          "PEEPtotal_mean",
          "SpO2_std",
          "ends_operation_day",
          "Temp_max",
          "FC_std",
          "Temp_mean",
          "VT_std",
          "PASd_std",
          "FiO2_mean"
         ],
         "y": [
          0.04297210637654524,
          0.04166407082052739,
          0.043240372575675784,
          0.04442524698573142,
          0.04872044703189711,
          0.027302451578983304,
          0.03147339474792881,
          0.036226715600812115,
          0.03881877761509354,
          0.046171836255208286,
          0.06494241712901032,
          0.06346022012789054,
          0.03302607945523053,
          0.0631435270075182,
          0.035619026951734155,
          0.04531679023031013,
          0.044209276046023226,
          0.02925088432196722,
          0.03452608708866012,
          0.0645766990189258,
          0.044240567500828866,
          0.028701292947494406,
          0.04797171258600366
         ]
        }
       ],
       "layout": {
        "autosize": true,
        "hovermode": "closest",
        "showlegend": false,
        "title": {
         "text": "Extra Trees Importance des features"
        },
        "yaxis": {
         "gridwidth": 2,
         "ticklen": 5,
         "title": {
          "text": "Importance des features"
         }
        }
       }
      },
      "text/html": [
       "<div id=\"f175c022-7227-46a0-aa16-3e186c49d257\" style=\"height: 525px; width: 100%;\" class=\"plotly-graph-div\"></div><script type=\"text/javascript\">require([\"plotly\"], function(Plotly) { window.PLOTLYENV=window.PLOTLYENV || {};window.PLOTLYENV.BASE_URL=\"https://plot.ly\";Plotly.newPlot(\"f175c022-7227-46a0-aa16-3e186c49d257\", [{\"marker\": {\"color\": [0.04297210637654524, 0.04166407082052739, 0.043240372575675784, 0.04442524698573142, 0.04872044703189711, 0.027302451578983304, 0.03147339474792881, 0.036226715600812115, 0.03881877761509354, 0.046171836255208286, 0.06494241712901032, 0.06346022012789054, 0.03302607945523053, 0.0631435270075182, 0.035619026951734155, 0.04531679023031013, 0.044209276046023226, 0.02925088432196722, 0.03452608708866012, 0.0645766990189258, 0.044240567500828866, 0.028701292947494406, 0.04797171258600366], \"colorscale\": \"Portland\", \"showscale\": true, \"size\": 25, \"sizemode\": \"diameter\", \"sizeref\": 1}, \"mode\": \"markers\", \"text\": [\"SpO2_mean\", \"Pmean_mean\", \"PASs_mean\", \"PAPsys_max\", \"declampage_cote2_done_mean\", \"PAPsys_std\", \"Pmax_mean\", \"PASm_max\", \"FiO2_std\", \"VT_mean\", \"LAS\", \"ETCO2_mean\", \"BIS SR_std\", \"Poids\", \"PEEPtotal_mean\", \"SpO2_std\", \"ends_operation_day\", \"Temp_max\", \"FC_std\", \"Temp_mean\", \"VT_std\", \"PASd_std\", \"FiO2_mean\"], \"x\": [\"SpO2_mean\", \"Pmean_mean\", \"PASs_mean\", \"PAPsys_max\", \"declampage_cote2_done_mean\", \"PAPsys_std\", \"Pmax_mean\", \"PASm_max\", \"FiO2_std\", \"VT_mean\", \"LAS\", \"ETCO2_mean\", \"BIS SR_std\", \"Poids\", \"PEEPtotal_mean\", \"SpO2_std\", \"ends_operation_day\", \"Temp_max\", \"FC_std\", \"Temp_mean\", \"VT_std\", \"PASd_std\", \"FiO2_mean\"], \"y\": [0.04297210637654524, 0.04166407082052739, 0.043240372575675784, 0.04442524698573142, 0.04872044703189711, 0.027302451578983304, 0.03147339474792881, 0.036226715600812115, 0.03881877761509354, 0.046171836255208286, 0.06494241712901032, 0.06346022012789054, 0.03302607945523053, 0.0631435270075182, 0.035619026951734155, 0.04531679023031013, 0.044209276046023226, 0.02925088432196722, 0.03452608708866012, 0.0645766990189258, 0.044240567500828866, 0.028701292947494406, 0.04797171258600366], \"type\": \"scatter\", \"uid\": \"8e69b186-10c2-4602-add2-cdcafc70a0e0\"}], {\"autosize\": true, \"hovermode\": \"closest\", \"showlegend\": false, \"title\": {\"text\": \"Extra Trees Importance des features\"}, \"yaxis\": {\"gridwidth\": 2, \"ticklen\": 5, \"title\": {\"text\": \"Importance des features\"}}}, {\"showLink\": false, \"linkText\": \"Export to plot.ly\", \"plotlyServerURL\": \"https://plot.ly\"})});</script><script type=\"text/javascript\">window.addEventListener(\"resize\", function(){window._Plotly.Plots.resize(document.getElementById(\"f175c022-7227-46a0-aa16-3e186c49d257\"));});</script>"
      ],
      "text/vnd.plotly.v1+html": [
       "<div id=\"f175c022-7227-46a0-aa16-3e186c49d257\" style=\"height: 525px; width: 100%;\" class=\"plotly-graph-div\"></div><script type=\"text/javascript\">require([\"plotly\"], function(Plotly) { window.PLOTLYENV=window.PLOTLYENV || {};window.PLOTLYENV.BASE_URL=\"https://plot.ly\";Plotly.newPlot(\"f175c022-7227-46a0-aa16-3e186c49d257\", [{\"marker\": {\"color\": [0.04297210637654524, 0.04166407082052739, 0.043240372575675784, 0.04442524698573142, 0.04872044703189711, 0.027302451578983304, 0.03147339474792881, 0.036226715600812115, 0.03881877761509354, 0.046171836255208286, 0.06494241712901032, 0.06346022012789054, 0.03302607945523053, 0.0631435270075182, 0.035619026951734155, 0.04531679023031013, 0.044209276046023226, 0.02925088432196722, 0.03452608708866012, 0.0645766990189258, 0.044240567500828866, 0.028701292947494406, 0.04797171258600366], \"colorscale\": \"Portland\", \"showscale\": true, \"size\": 25, \"sizemode\": \"diameter\", \"sizeref\": 1}, \"mode\": \"markers\", \"text\": [\"SpO2_mean\", \"Pmean_mean\", \"PASs_mean\", \"PAPsys_max\", \"declampage_cote2_done_mean\", \"PAPsys_std\", \"Pmax_mean\", \"PASm_max\", \"FiO2_std\", \"VT_mean\", \"LAS\", \"ETCO2_mean\", \"BIS SR_std\", \"Poids\", \"PEEPtotal_mean\", \"SpO2_std\", \"ends_operation_day\", \"Temp_max\", \"FC_std\", \"Temp_mean\", \"VT_std\", \"PASd_std\", \"FiO2_mean\"], \"x\": [\"SpO2_mean\", \"Pmean_mean\", \"PASs_mean\", \"PAPsys_max\", \"declampage_cote2_done_mean\", \"PAPsys_std\", \"Pmax_mean\", \"PASm_max\", \"FiO2_std\", \"VT_mean\", \"LAS\", \"ETCO2_mean\", \"BIS SR_std\", \"Poids\", \"PEEPtotal_mean\", \"SpO2_std\", \"ends_operation_day\", \"Temp_max\", \"FC_std\", \"Temp_mean\", \"VT_std\", \"PASd_std\", \"FiO2_mean\"], \"y\": [0.04297210637654524, 0.04166407082052739, 0.043240372575675784, 0.04442524698573142, 0.04872044703189711, 0.027302451578983304, 0.03147339474792881, 0.036226715600812115, 0.03881877761509354, 0.046171836255208286, 0.06494241712901032, 0.06346022012789054, 0.03302607945523053, 0.0631435270075182, 0.035619026951734155, 0.04531679023031013, 0.044209276046023226, 0.02925088432196722, 0.03452608708866012, 0.0645766990189258, 0.044240567500828866, 0.028701292947494406, 0.04797171258600366], \"type\": \"scatter\", \"uid\": \"8e69b186-10c2-4602-add2-cdcafc70a0e0\"}], {\"autosize\": true, \"hovermode\": \"closest\", \"showlegend\": false, \"title\": {\"text\": \"Extra Trees Importance des features\"}, \"yaxis\": {\"gridwidth\": 2, \"ticklen\": 5, \"title\": {\"text\": \"Importance des features\"}}}, {\"showLink\": false, \"linkText\": \"Export to plot.ly\", \"plotlyServerURL\": \"https://plot.ly\"})});</script><script type=\"text/javascript\">window.addEventListener(\"resize\", function(){window._Plotly.Plots.resize(document.getElementById(\"f175c022-7227-46a0-aa16-3e186c49d257\"));});</script>"
      ]
     },
     "metadata": {},
     "output_type": "display_data"
    }
   ],
   "source": [
    "trace = go.Scatter(\n",
    "    y=feature_dataframe['Extra Trees Importance des features'].values,\n",
    "    x=feature_dataframe['features'].values,\n",
    "    mode='markers',\n",
    "    marker=dict(\n",
    "        sizemode='diameter',\n",
    "        sizeref=1,\n",
    "        size=25,\n",
    "        color=feature_dataframe['Extra Trees Importance des features'].values,\n",
    "        colorscale='Portland',\n",
    "        showscale=True\n",
    "    ),\n",
    "    text=feature_dataframe['features'].values\n",
    ")\n",
    "data = [trace]\n",
    "\n",
    "layout = go.Layout(\n",
    "    autosize=True,\n",
    "    title='Extra Trees Importance des features',\n",
    "    hovermode='closest',\n",
    "\n",
    "    yaxis=dict(\n",
    "        title='Importance des features',\n",
    "        ticklen=5,\n",
    "        gridwidth=2\n",
    "    ),\n",
    "    showlegend=False\n",
    ")\n",
    "fig = go.Figure(data=data, layout=layout)\n",
    "py.iplot(fig, filename='scatter2010')"
   ]
  },
  {
   "cell_type": "markdown",
   "metadata": {},
   "source": [
    "### Ada Boost"
   ]
  },
  {
   "cell_type": "code",
   "execution_count": 35,
   "metadata": {},
   "outputs": [
    {
     "name": "stdout",
     "output_type": "stream",
     "text": [
      "Accuracy :\n",
      "0.6274509803921569\n"
     ]
    }
   ],
   "source": [
    "print(\"Accuracy :\")\n",
    "print(metrics.accuracy_score(y_test,ada_pred))"
   ]
  },
  {
   "cell_type": "code",
   "execution_count": 36,
   "metadata": {},
   "outputs": [
    {
     "name": "stdout",
     "output_type": "stream",
     "text": [
      "              precision    recall  f1-score   support\n",
      "\n",
      "           0       0.64      0.69      0.67        55\n",
      "           1       0.60      0.55      0.58        47\n",
      "\n",
      "   micro avg       0.63      0.63      0.63       102\n",
      "   macro avg       0.62      0.62      0.62       102\n",
      "weighted avg       0.63      0.63      0.63       102\n",
      "\n"
     ]
    }
   ],
   "source": [
    "print(metrics.classification_report(ada_pred, y_test))"
   ]
  },
  {
   "cell_type": "code",
   "execution_count": 37,
   "metadata": {
    "scrolled": true
   },
   "outputs": [
    {
     "data": {
      "text/plain": [
       "<matplotlib.axes._subplots.AxesSubplot at 0x1d5cc1074a8>"
      ]
     },
     "execution_count": 37,
     "metadata": {},
     "output_type": "execute_result"
    },
    {
     "data": {
      "image/png": "[encoded data removed]",
      "text/plain": [
       "<Figure size 504x432 with 2 Axes>"
      ]
     },
     "metadata": {
      "needs_background": "light"
     },
     "output_type": "display_data"
    }
   ],
   "source": [
    "colormap = plt.cm.Purples\n",
    "plt.figure(figsize=(7,6))\n",
    "plt.title('Matrice de confusion Proba Ada Boost', y=1.05, size=15)\n",
    "sns.heatmap(confusion_matrix(y_test, ada_pred)/ntest,linewidths=0.1, \n",
    "            square=True, cmap=colormap, linecolor='white', annot=True,\n",
    "           vmin=0, vmax=0.6)"
   ]
  },
  {
   "cell_type": "code",
   "execution_count": 38,
   "metadata": {},
   "outputs": [
    {
     "data": {
      "application/vnd.plotly.v1+json": {
       "config": {
        "linkText": "Export to plot.ly",
        "plotlyServerURL": "https://plot.ly",
        "showLink": false
       },
       "data": [
        {
         "marker": {
          "color": [
           0.028,
           0.044,
           0.07,
           0.036,
           0.034,
           0.016,
           0.048,
           0.058,
           0.018,
           0.064,
           0.044,
           0.064,
           0.016,
           0.062,
           0.044,
           0.036,
           0.04,
           0.022,
           0.042,
           0.064,
           0.062,
           0.058,
           0.03
          ],
          "colorscale": "Portland",
          "showscale": true,
          "size": 25,
          "sizemode": "diameter",
          "sizeref": 1
         },
         "mode": "markers",
         "text": [
          "SpO2_mean",
          "Pmean_mean",
          "PASs_mean",
          "PAPsys_max",
          "declampage_cote2_done_mean",
          "PAPsys_std",
          "Pmax_mean",
          "PASm_max",
          "FiO2_std",
          "VT_mean",
          "LAS",
          "ETCO2_mean",
          "BIS SR_std",
          "Poids",
          "PEEPtotal_mean",
          "SpO2_std",
          "ends_operation_day",
          "Temp_max",
          "FC_std",
          "Temp_mean",
          "VT_std",
          "PASd_std",
          "FiO2_mean"
         ],
         "type": "scatter",
         "uid": "c0522f1e-3b45-4827-ba6c-f4b5009a33bb",
         "x": [
          "SpO2_mean",
          "Pmean_mean",
          "PASs_mean",
          "PAPsys_max",
          "declampage_cote2_done_mean",
          "PAPsys_std",
          "Pmax_mean",
          "PASm_max",
          "FiO2_std",
          "VT_mean",
          "LAS",
          "ETCO2_mean",
          "BIS SR_std",
          "Poids",
          "PEEPtotal_mean",
          "SpO2_std",
          "ends_operation_day",
          "Temp_max",
          "FC_std",
          "Temp_mean",
          "VT_std",
          "PASd_std",
          "FiO2_mean"
         ],
         "y": [
          0.028,
          0.044,
          0.07,
          0.036,
          0.034,
          0.016,
          0.048,
          0.058,
          0.018,
          0.064,
          0.044,
          0.064,
          0.016,
          0.062,
          0.044,
          0.036,
          0.04,
          0.022,
          0.042,
          0.064,
          0.062,
          0.058,
          0.03
         ]
        }
       ],
       "layout": {
        "autosize": true,
        "hovermode": "closest",
        "showlegend": false,
        "title": {
         "text": "AdaBoost Importance des features"
        },
        "yaxis": {
         "gridwidth": 2,
         "ticklen": 5,
         "title": {
          "text": "Importance des features"
         }
        }
       }
      },
      "text/html": [
       "<div id=\"8fa88cd6-e5fb-4913-b990-bdaa068f78e9\" style=\"height: 525px; width: 100%;\" class=\"plotly-graph-div\"></div><script type=\"text/javascript\">require([\"plotly\"], function(Plotly) { window.PLOTLYENV=window.PLOTLYENV || {};window.PLOTLYENV.BASE_URL=\"https://plot.ly\";Plotly.newPlot(\"8fa88cd6-e5fb-4913-b990-bdaa068f78e9\", [{\"marker\": {\"color\": [0.028, 0.044, 0.07, 0.036, 0.034, 0.016, 0.048, 0.058, 0.018, 0.064, 0.044, 0.064, 0.016, 0.062, 0.044, 0.036, 0.04, 0.022, 0.042, 0.064, 0.062, 0.058, 0.03], \"colorscale\": \"Portland\", \"showscale\": true, \"size\": 25, \"sizemode\": \"diameter\", \"sizeref\": 1}, \"mode\": \"markers\", \"text\": [\"SpO2_mean\", \"Pmean_mean\", \"PASs_mean\", \"PAPsys_max\", \"declampage_cote2_done_mean\", \"PAPsys_std\", \"Pmax_mean\", \"PASm_max\", \"FiO2_std\", \"VT_mean\", \"LAS\", \"ETCO2_mean\", \"BIS SR_std\", \"Poids\", \"PEEPtotal_mean\", \"SpO2_std\", \"ends_operation_day\", \"Temp_max\", \"FC_std\", \"Temp_mean\", \"VT_std\", \"PASd_std\", \"FiO2_mean\"], \"x\": [\"SpO2_mean\", \"Pmean_mean\", \"PASs_mean\", \"PAPsys_max\", \"declampage_cote2_done_mean\", \"PAPsys_std\", \"Pmax_mean\", \"PASm_max\", \"FiO2_std\", \"VT_mean\", \"LAS\", \"ETCO2_mean\", \"BIS SR_std\", \"Poids\", \"PEEPtotal_mean\", \"SpO2_std\", \"ends_operation_day\", \"Temp_max\", \"FC_std\", \"Temp_mean\", \"VT_std\", \"PASd_std\", \"FiO2_mean\"], \"y\": [0.028, 0.044, 0.07, 0.036, 0.034, 0.016, 0.048, 0.058, 0.018, 0.064, 0.044, 0.064, 0.016, 0.062, 0.044, 0.036, 0.04, 0.022, 0.042, 0.064, 0.062, 0.058, 0.03], \"type\": \"scatter\", \"uid\": \"c0522f1e-3b45-4827-ba6c-f4b5009a33bb\"}], {\"autosize\": true, \"hovermode\": \"closest\", \"showlegend\": false, \"title\": {\"text\": \"AdaBoost Importance des features\"}, \"yaxis\": {\"gridwidth\": 2, \"ticklen\": 5, \"title\": {\"text\": \"Importance des features\"}}}, {\"showLink\": false, \"linkText\": \"Export to plot.ly\", \"plotlyServerURL\": \"https://plot.ly\"})});</script><script type=\"text/javascript\">window.addEventListener(\"resize\", function(){window._Plotly.Plots.resize(document.getElementById(\"8fa88cd6-e5fb-4913-b990-bdaa068f78e9\"));});</script>"
      ],
      "text/vnd.plotly.v1+html": [
       "<div id=\"8fa88cd6-e5fb-4913-b990-bdaa068f78e9\" style=\"height: 525px; width: 100%;\" class=\"plotly-graph-div\"></div><script type=\"text/javascript\">require([\"plotly\"], function(Plotly) { window.PLOTLYENV=window.PLOTLYENV || {};window.PLOTLYENV.BASE_URL=\"https://plot.ly\";Plotly.newPlot(\"8fa88cd6-e5fb-4913-b990-bdaa068f78e9\", [{\"marker\": {\"color\": [0.028, 0.044, 0.07, 0.036, 0.034, 0.016, 0.048, 0.058, 0.018, 0.064, 0.044, 0.064, 0.016, 0.062, 0.044, 0.036, 0.04, 0.022, 0.042, 0.064, 0.062, 0.058, 0.03], \"colorscale\": \"Portland\", \"showscale\": true, \"size\": 25, \"sizemode\": \"diameter\", \"sizeref\": 1}, \"mode\": \"markers\", \"text\": [\"SpO2_mean\", \"Pmean_mean\", \"PASs_mean\", \"PAPsys_max\", \"declampage_cote2_done_mean\", \"PAPsys_std\", \"Pmax_mean\", \"PASm_max\", \"FiO2_std\", \"VT_mean\", \"LAS\", \"ETCO2_mean\", \"BIS SR_std\", \"Poids\", \"PEEPtotal_mean\", \"SpO2_std\", \"ends_operation_day\", \"Temp_max\", \"FC_std\", \"Temp_mean\", \"VT_std\", \"PASd_std\", \"FiO2_mean\"], \"x\": [\"SpO2_mean\", \"Pmean_mean\", \"PASs_mean\", \"PAPsys_max\", \"declampage_cote2_done_mean\", \"PAPsys_std\", \"Pmax_mean\", \"PASm_max\", \"FiO2_std\", \"VT_mean\", \"LAS\", \"ETCO2_mean\", \"BIS SR_std\", \"Poids\", \"PEEPtotal_mean\", \"SpO2_std\", \"ends_operation_day\", \"Temp_max\", \"FC_std\", \"Temp_mean\", \"VT_std\", \"PASd_std\", \"FiO2_mean\"], \"y\": [0.028, 0.044, 0.07, 0.036, 0.034, 0.016, 0.048, 0.058, 0.018, 0.064, 0.044, 0.064, 0.016, 0.062, 0.044, 0.036, 0.04, 0.022, 0.042, 0.064, 0.062, 0.058, 0.03], \"type\": \"scatter\", \"uid\": \"c0522f1e-3b45-4827-ba6c-f4b5009a33bb\"}], {\"autosize\": true, \"hovermode\": \"closest\", \"showlegend\": false, \"title\": {\"text\": \"AdaBoost Importance des features\"}, \"yaxis\": {\"gridwidth\": 2, \"ticklen\": 5, \"title\": {\"text\": \"Importance des features\"}}}, {\"showLink\": false, \"linkText\": \"Export to plot.ly\", \"plotlyServerURL\": \"https://plot.ly\"})});</script><script type=\"text/javascript\">window.addEventListener(\"resize\", function(){window._Plotly.Plots.resize(document.getElementById(\"8fa88cd6-e5fb-4913-b990-bdaa068f78e9\"));});</script>"
      ]
     },
     "metadata": {},
     "output_type": "display_data"
    }
   ],
   "source": [
    "trace = go.Scatter(\n",
    "    y=feature_dataframe['AdaBoost Importance des features'].values,\n",
    "    x=feature_dataframe['features'].values,\n",
    "    mode='markers',\n",
    "    marker=dict(\n",
    "        sizemode='diameter',\n",
    "        sizeref=1,\n",
    "        size=25,\n",
    "        color=feature_dataframe['AdaBoost Importance des features'].values,\n",
    "        colorscale='Portland',\n",
    "        showscale=True\n",
    "    ),\n",
    "    text=feature_dataframe['features'].values\n",
    ")\n",
    "data = [trace]\n",
    "\n",
    "layout = go.Layout(\n",
    "    autosize=True,\n",
    "    title='AdaBoost Importance des features',\n",
    "    hovermode='closest',\n",
    "    yaxis=dict(\n",
    "        title='Importance des features',\n",
    "        ticklen=5,\n",
    "        gridwidth=2\n",
    "    ),\n",
    "    showlegend=False\n",
    ")\n",
    "fig = go.Figure(data=data, layout=layout)\n",
    "py.iplot(fig, filename='scatter2010')"
   ]
  },
  {
   "cell_type": "markdown",
   "metadata": {},
   "source": [
    "### Gradient Boost"
   ]
  },
  {
   "cell_type": "code",
   "execution_count": 39,
   "metadata": {},
   "outputs": [
    {
     "name": "stdout",
     "output_type": "stream",
     "text": [
      "Accuracy :\n",
      "0.6274509803921569\n"
     ]
    }
   ],
   "source": [
    "print(\"Accuracy :\")\n",
    "print(metrics.accuracy_score(y_test, gb_pred))"
   ]
  },
  {
   "cell_type": "code",
   "execution_count": 40,
   "metadata": {},
   "outputs": [
    {
     "name": "stdout",
     "output_type": "stream",
     "text": [
      "              precision    recall  f1-score   support\n",
      "\n",
      "           0       0.69      0.67      0.68        61\n",
      "           1       0.53      0.56      0.55        41\n",
      "\n",
      "   micro avg       0.63      0.63      0.63       102\n",
      "   macro avg       0.61      0.62      0.62       102\n",
      "weighted avg       0.63      0.63      0.63       102\n",
      "\n"
     ]
    }
   ],
   "source": [
    "print(metrics.classification_report(gb_pred, y_test))"
   ]
  },
  {
   "cell_type": "code",
   "execution_count": 41,
   "metadata": {
    "scrolled": true
   },
   "outputs": [
    {
     "data": {
      "text/plain": [
       "<matplotlib.axes._subplots.AxesSubplot at 0x1d5cc2bbe10>"
      ]
     },
     "execution_count": 41,
     "metadata": {},
     "output_type": "execute_result"
    },
    {
     "data": {
      "image/png": "[encoded data removed]",
      "text/plain": [
       "<Figure size 504x432 with 2 Axes>"
      ]
     },
     "metadata": {
      "needs_background": "light"
     },
     "output_type": "display_data"
    }
   ],
   "source": [
    "colormap = plt.cm.Purples\n",
    "plt.figure(figsize=(7,6))\n",
    "plt.title('Matrice de confusion Proba Gradient Boost', y=1.05, size=15)\n",
    "sns.heatmap(confusion_matrix(y_test, gb_pred)/ntest,linewidths=0.1, \n",
    "            square=True, cmap=colormap, linecolor='white', annot=True,\n",
    "           vmin=0, vmax=0.6)"
   ]
  },
  {
   "cell_type": "code",
   "execution_count": 42,
   "metadata": {},
   "outputs": [
    {
     "data": {
      "application/vnd.plotly.v1+json": {
       "config": {
        "linkText": "Export to plot.ly",
        "plotlyServerURL": "https://plot.ly",
        "showLink": false
       },
       "data": [
        {
         "marker": {
          "color": [
           0.04684485931393959,
           0.02166963138191755,
           0.09518800800755484,
           0.02796010823222836,
           0.03410131584384275,
           0.016182005746031517,
           0.03497233000065603,
           0.04816043931842072,
           0.02195072703797084,
           0.04065351815006049,
           0.06303044052037156,
           0.07378752943055618,
           0.026062407861526377,
           0.06833298328567755,
           0.026919873740247076,
           0.033404521326288635,
           0.021957966368536693,
           0.0365605078914165,
           0.03248779913068015,
           0.0652275604956299,
           0.05634109666852942,
           0.04269666555431588,
           0.0655077046936012
          ],
          "colorscale": "Portland",
          "showscale": true,
          "size": 25,
          "sizemode": "diameter",
          "sizeref": 1
         },
         "mode": "markers",
         "text": [
          "SpO2_mean",
          "Pmean_mean",
          "PASs_mean",
          "PAPsys_max",
          "declampage_cote2_done_mean",
          "PAPsys_std",
          "Pmax_mean",
          "PASm_max",
          "FiO2_std",
          "VT_mean",
          "LAS",
          "ETCO2_mean",
          "BIS SR_std",
          "Poids",
          "PEEPtotal_mean",
          "SpO2_std",
          "ends_operation_day",
          "Temp_max",
          "FC_std",
          "Temp_mean",
          "VT_std",
          "PASd_std",
          "FiO2_mean"
         ],
         "type": "scatter",
         "uid": "0d5d16b3-2f8a-4279-9252-7faa695bad7f",
         "x": [
          "SpO2_mean",
          "Pmean_mean",
          "PASs_mean",
          "PAPsys_max",
          "declampage_cote2_done_mean",
          "PAPsys_std",
          "Pmax_mean",
          "PASm_max",
          "FiO2_std",
          "VT_mean",
          "LAS",
          "ETCO2_mean",
          "BIS SR_std",
          "Poids",
          "PEEPtotal_mean",
          "SpO2_std",
          "ends_operation_day",
          "Temp_max",
          "FC_std",
          "Temp_mean",
          "VT_std",
          "PASd_std",
          "FiO2_mean"
         ],
         "y": [
          0.04684485931393959,
          0.02166963138191755,
          0.09518800800755484,
          0.02796010823222836,
          0.03410131584384275,
          0.016182005746031517,
          0.03497233000065603,
          0.04816043931842072,
          0.02195072703797084,
          0.04065351815006049,
          0.06303044052037156,
          0.07378752943055618,
          0.026062407861526377,
          0.06833298328567755,
          0.026919873740247076,
          0.033404521326288635,
          0.021957966368536693,
          0.0365605078914165,
          0.03248779913068015,
          0.0652275604956299,
          0.05634109666852942,
          0.04269666555431588,
          0.0655077046936012
         ]
        }
       ],
       "layout": {
        "autosize": true,
        "hovermode": "closest",
        "showlegend": false,
        "title": {
         "text": "Gradient Boosting Importance des features"
        },
        "yaxis": {
         "gridwidth": 2,
         "ticklen": 5,
         "title": {
          "text": "Importance des features"
         }
        }
       }
      },
      "text/html": [
       "<div id=\"0bc64e0d-bf14-4369-8005-207fc2900e1a\" style=\"height: 525px; width: 100%;\" class=\"plotly-graph-div\"></div><script type=\"text/javascript\">require([\"plotly\"], function(Plotly) { window.PLOTLYENV=window.PLOTLYENV || {};window.PLOTLYENV.BASE_URL=\"https://plot.ly\";Plotly.newPlot(\"0bc64e0d-bf14-4369-8005-207fc2900e1a\", [{\"marker\": {\"color\": [0.04684485931393959, 0.02166963138191755, 0.09518800800755484, 0.02796010823222836, 0.03410131584384275, 0.016182005746031517, 0.03497233000065603, 0.04816043931842072, 0.02195072703797084, 0.04065351815006049, 0.06303044052037156, 0.07378752943055618, 0.026062407861526377, 0.06833298328567755, 0.026919873740247076, 0.033404521326288635, 0.021957966368536693, 0.0365605078914165, 0.03248779913068015, 0.0652275604956299, 0.05634109666852942, 0.04269666555431588, 0.0655077046936012], \"colorscale\": \"Portland\", \"showscale\": true, \"size\": 25, \"sizemode\": \"diameter\", \"sizeref\": 1}, \"mode\": \"markers\", \"text\": [\"SpO2_mean\", \"Pmean_mean\", \"PASs_mean\", \"PAPsys_max\", \"declampage_cote2_done_mean\", \"PAPsys_std\", \"Pmax_mean\", \"PASm_max\", \"FiO2_std\", \"VT_mean\", \"LAS\", \"ETCO2_mean\", \"BIS SR_std\", \"Poids\", \"PEEPtotal_mean\", \"SpO2_std\", \"ends_operation_day\", \"Temp_max\", \"FC_std\", \"Temp_mean\", \"VT_std\", \"PASd_std\", \"FiO2_mean\"], \"x\": [\"SpO2_mean\", \"Pmean_mean\", \"PASs_mean\", \"PAPsys_max\", \"declampage_cote2_done_mean\", \"PAPsys_std\", \"Pmax_mean\", \"PASm_max\", \"FiO2_std\", \"VT_mean\", \"LAS\", \"ETCO2_mean\", \"BIS SR_std\", \"Poids\", \"PEEPtotal_mean\", \"SpO2_std\", \"ends_operation_day\", \"Temp_max\", \"FC_std\", \"Temp_mean\", \"VT_std\", \"PASd_std\", \"FiO2_mean\"], \"y\": [0.04684485931393959, 0.02166963138191755, 0.09518800800755484, 0.02796010823222836, 0.03410131584384275, 0.016182005746031517, 0.03497233000065603, 0.04816043931842072, 0.02195072703797084, 0.04065351815006049, 0.06303044052037156, 0.07378752943055618, 0.026062407861526377, 0.06833298328567755, 0.026919873740247076, 0.033404521326288635, 0.021957966368536693, 0.0365605078914165, 0.03248779913068015, 0.0652275604956299, 0.05634109666852942, 0.04269666555431588, 0.0655077046936012], \"type\": \"scatter\", \"uid\": \"0d5d16b3-2f8a-4279-9252-7faa695bad7f\"}], {\"autosize\": true, \"hovermode\": \"closest\", \"showlegend\": false, \"title\": {\"text\": \"Gradient Boosting Importance des features\"}, \"yaxis\": {\"gridwidth\": 2, \"ticklen\": 5, \"title\": {\"text\": \"Importance des features\"}}}, {\"showLink\": false, \"linkText\": \"Export to plot.ly\", \"plotlyServerURL\": \"https://plot.ly\"})});</script><script type=\"text/javascript\">window.addEventListener(\"resize\", function(){window._Plotly.Plots.resize(document.getElementById(\"0bc64e0d-bf14-4369-8005-207fc2900e1a\"));});</script>"
      ],
      "text/vnd.plotly.v1+html": [
       "<div id=\"0bc64e0d-bf14-4369-8005-207fc2900e1a\" style=\"height: 525px; width: 100%;\" class=\"plotly-graph-div\"></div><script type=\"text/javascript\">require([\"plotly\"], function(Plotly) { window.PLOTLYENV=window.PLOTLYENV || {};window.PLOTLYENV.BASE_URL=\"https://plot.ly\";Plotly.newPlot(\"0bc64e0d-bf14-4369-8005-207fc2900e1a\", [{\"marker\": {\"color\": [0.04684485931393959, 0.02166963138191755, 0.09518800800755484, 0.02796010823222836, 0.03410131584384275, 0.016182005746031517, 0.03497233000065603, 0.04816043931842072, 0.02195072703797084, 0.04065351815006049, 0.06303044052037156, 0.07378752943055618, 0.026062407861526377, 0.06833298328567755, 0.026919873740247076, 0.033404521326288635, 0.021957966368536693, 0.0365605078914165, 0.03248779913068015, 0.0652275604956299, 0.05634109666852942, 0.04269666555431588, 0.0655077046936012], \"colorscale\": \"Portland\", \"showscale\": true, \"size\": 25, \"sizemode\": \"diameter\", \"sizeref\": 1}, \"mode\": \"markers\", \"text\": [\"SpO2_mean\", \"Pmean_mean\", \"PASs_mean\", \"PAPsys_max\", \"declampage_cote2_done_mean\", \"PAPsys_std\", \"Pmax_mean\", \"PASm_max\", \"FiO2_std\", \"VT_mean\", \"LAS\", \"ETCO2_mean\", \"BIS SR_std\", \"Poids\", \"PEEPtotal_mean\", \"SpO2_std\", \"ends_operation_day\", \"Temp_max\", \"FC_std\", \"Temp_mean\", \"VT_std\", \"PASd_std\", \"FiO2_mean\"], \"x\": [\"SpO2_mean\", \"Pmean_mean\", \"PASs_mean\", \"PAPsys_max\", \"declampage_cote2_done_mean\", \"PAPsys_std\", \"Pmax_mean\", \"PASm_max\", \"FiO2_std\", \"VT_mean\", \"LAS\", \"ETCO2_mean\", \"BIS SR_std\", \"Poids\", \"PEEPtotal_mean\", \"SpO2_std\", \"ends_operation_day\", \"Temp_max\", \"FC_std\", \"Temp_mean\", \"VT_std\", \"PASd_std\", \"FiO2_mean\"], \"y\": [0.04684485931393959, 0.02166963138191755, 0.09518800800755484, 0.02796010823222836, 0.03410131584384275, 0.016182005746031517, 0.03497233000065603, 0.04816043931842072, 0.02195072703797084, 0.04065351815006049, 0.06303044052037156, 0.07378752943055618, 0.026062407861526377, 0.06833298328567755, 0.026919873740247076, 0.033404521326288635, 0.021957966368536693, 0.0365605078914165, 0.03248779913068015, 0.0652275604956299, 0.05634109666852942, 0.04269666555431588, 0.0655077046936012], \"type\": \"scatter\", \"uid\": \"0d5d16b3-2f8a-4279-9252-7faa695bad7f\"}], {\"autosize\": true, \"hovermode\": \"closest\", \"showlegend\": false, \"title\": {\"text\": \"Gradient Boosting Importance des features\"}, \"yaxis\": {\"gridwidth\": 2, \"ticklen\": 5, \"title\": {\"text\": \"Importance des features\"}}}, {\"showLink\": false, \"linkText\": \"Export to plot.ly\", \"plotlyServerURL\": \"https://plot.ly\"})});</script><script type=\"text/javascript\">window.addEventListener(\"resize\", function(){window._Plotly.Plots.resize(document.getElementById(\"0bc64e0d-bf14-4369-8005-207fc2900e1a\"));});</script>"
      ]
     },
     "metadata": {},
     "output_type": "display_data"
    }
   ],
   "source": [
    "trace = go.Scatter(\n",
    "    y=feature_dataframe['Gradient Boost Importance des features'].values,\n",
    "    x=feature_dataframe['features'].values,\n",
    "    mode='markers',\n",
    "    marker=dict(\n",
    "        sizemode='diameter',\n",
    "        sizeref=1,\n",
    "        size=25,\n",
    "        color=feature_dataframe['Gradient Boost Importance des features'].values,\n",
    "        colorscale='Portland',\n",
    "        showscale=True\n",
    "    ),\n",
    "    text=feature_dataframe['features'].values\n",
    ")\n",
    "data = [trace]\n",
    "\n",
    "layout = go.Layout(\n",
    "    autosize=True,\n",
    "    title='Gradient Boosting Importance des features',\n",
    "    hovermode='closest',\n",
    "    yaxis=dict(\n",
    "        title='Importance des features',\n",
    "        ticklen=5,\n",
    "        gridwidth=2\n",
    "    ),\n",
    "    showlegend=False\n",
    ")\n",
    "fig = go.Figure(data=data, layout=layout)\n",
    "py.iplot(fig, filename='scatter2010')"
   ]
  },
  {
   "cell_type": "markdown",
   "metadata": {},
   "source": [
    "## Stacking "
   ]
  },
  {
   "cell_type": "code",
   "execution_count": 43,
   "metadata": {},
   "outputs": [
    {
     "data": {
      "text/html": [
       "<div>\n",
       "<style scoped>\n",
       "    .dataframe tbody tr th:only-of-type {\n",
       "        vertical-align: middle;\n",
       "    }\n",
       "\n",
       "    .dataframe tbody tr th {\n",
       "        vertical-align: top;\n",
       "    }\n",
       "\n",
       "    .dataframe thead th {\n",
       "        text-align: right;\n",
       "    }\n",
       "</style>\n",
       "<table border=\"1\" class=\"dataframe\">\n",
       "  <thead>\n",
       "    <tr style=\"text-align: right;\">\n",
       "      <th></th>\n",
       "      <th>features</th>\n",
       "      <th>Random Forest Importance des features</th>\n",
       "      <th>Extra Trees Importance des features</th>\n",
       "      <th>AdaBoost Importance des features</th>\n",
       "      <th>Gradient Boost Importance des features</th>\n",
       "      <th>mean</th>\n",
       "    </tr>\n",
       "  </thead>\n",
       "  <tbody>\n",
       "    <tr>\n",
       "      <th>0</th>\n",
       "      <td>SpO2_mean</td>\n",
       "      <td>0.047600</td>\n",
       "      <td>0.042972</td>\n",
       "      <td>0.028</td>\n",
       "      <td>0.046845</td>\n",
       "      <td>0.041354</td>\n",
       "    </tr>\n",
       "    <tr>\n",
       "      <th>1</th>\n",
       "      <td>Pmean_mean</td>\n",
       "      <td>0.039748</td>\n",
       "      <td>0.041664</td>\n",
       "      <td>0.044</td>\n",
       "      <td>0.021670</td>\n",
       "      <td>0.036770</td>\n",
       "    </tr>\n",
       "    <tr>\n",
       "      <th>2</th>\n",
       "      <td>PASs_mean</td>\n",
       "      <td>0.066093</td>\n",
       "      <td>0.043240</td>\n",
       "      <td>0.070</td>\n",
       "      <td>0.095188</td>\n",
       "      <td>0.068630</td>\n",
       "    </tr>\n",
       "  </tbody>\n",
       "</table>\n",
       "</div>"
      ],
      "text/plain": [
       "     features  Random Forest Importance des features  \\\n",
       "0   SpO2_mean                               0.047600   \n",
       "1  Pmean_mean                               0.039748   \n",
       "2   PASs_mean                               0.066093   \n",
       "\n",
       "   Extra Trees Importance des features  AdaBoost Importance des features  \\\n",
       "0                             0.042972                             0.028   \n",
       "1                             0.041664                             0.044   \n",
       "2                             0.043240                             0.070   \n",
       "\n",
       "   Gradient Boost Importance des features      mean  \n",
       "0                                0.046845  0.041354  \n",
       "1                                0.021670  0.036770  \n",
       "2                                0.095188  0.068630  "
      ]
     },
     "execution_count": 43,
     "metadata": {},
     "output_type": "execute_result"
    }
   ],
   "source": [
    "feature_dataframe['mean'] = feature_dataframe.mean(axis= 1) # axis = 1 computes the mean row-wise\n",
    "feature_dataframe.head(3)"
   ]
  },
  {
   "cell_type": "code",
   "execution_count": 44,
   "metadata": {},
   "outputs": [
    {
     "data": {
      "application/vnd.plotly.v1+json": {
       "config": {
        "linkText": "Export to plot.ly",
        "plotlyServerURL": "https://plot.ly",
        "showLink": false
       },
       "data": [
        {
         "marker": {
          "color": [
           0.04135418146540604,
           0.03677033004955969,
           0.06863034960731937,
           0.03612784468661605,
           0.040105463674410105,
           0.021965934105864282,
           0.03699426844287891,
           0.0454989557761641,
           0.027733600220746855,
           0.05115524771386321,
           0.05542619950589803,
           0.06878080085058001,
           0.024255419552538834,
           0.06309218097531587,
           0.03619647659465535,
           0.038905829276719595,
           0.035267663941230924,
           0.03015880006292519,
           0.034445445424115165,
           0.06366892945237602,
           0.052635225690843404,
           0.04056435123468362,
           0.05026650169528931
          ],
          "colorscale": "Portland",
          "reversescale": false,
          "showscale": true
         },
         "opacity": 0.6,
         "type": "bar",
         "uid": "e3b4d855-b3fd-439b-9deb-5757e83c9f40",
         "width": 0.5,
         "x": [
          "SpO2_mean",
          "Pmean_mean",
          "PASs_mean",
          "PAPsys_max",
          "declampage_cote2_done_mean",
          "PAPsys_std",
          "Pmax_mean",
          "PASm_max",
          "FiO2_std",
          "VT_mean",
          "LAS",
          "ETCO2_mean",
          "BIS SR_std",
          "Poids",
          "PEEPtotal_mean",
          "SpO2_std",
          "ends_operation_day",
          "Temp_max",
          "FC_std",
          "Temp_mean",
          "VT_std",
          "PASd_std",
          "FiO2_mean"
         ],
         "y": [
          0.04135418146540604,
          0.03677033004955969,
          0.06863034960731937,
          0.03612784468661605,
          0.040105463674410105,
          0.021965934105864282,
          0.03699426844287891,
          0.0454989557761641,
          0.027733600220746855,
          0.05115524771386321,
          0.05542619950589803,
          0.06878080085058001,
          0.024255419552538834,
          0.06309218097531587,
          0.03619647659465535,
          0.038905829276719595,
          0.035267663941230924,
          0.03015880006292519,
          0.034445445424115165,
          0.06366892945237602,
          0.052635225690843404,
          0.04056435123468362,
          0.05026650169528931
         ]
        }
       ],
       "layout": {
        "autosize": true,
        "hovermode": "closest",
        "showlegend": false,
        "title": {
         "text": "Barplots of Mean Feature Importance"
        },
        "yaxis": {
         "gridwidth": 2,
         "ticklen": 5,
         "title": {
          "text": "Feature Importance"
         }
        }
       }
      },
      "text/html": [
       "<div id=\"d8b18e8f-9346-4613-a01e-3a84856ce3a5\" style=\"height: 525px; width: 100%;\" class=\"plotly-graph-div\"></div><script type=\"text/javascript\">require([\"plotly\"], function(Plotly) { window.PLOTLYENV=window.PLOTLYENV || {};window.PLOTLYENV.BASE_URL=\"https://plot.ly\";Plotly.newPlot(\"d8b18e8f-9346-4613-a01e-3a84856ce3a5\", [{\"marker\": {\"color\": [0.04135418146540604, 0.03677033004955969, 0.06863034960731937, 0.03612784468661605, 0.040105463674410105, 0.021965934105864282, 0.03699426844287891, 0.0454989557761641, 0.027733600220746855, 0.05115524771386321, 0.05542619950589803, 0.06878080085058001, 0.024255419552538834, 0.06309218097531587, 0.03619647659465535, 0.038905829276719595, 0.035267663941230924, 0.03015880006292519, 0.034445445424115165, 0.06366892945237602, 0.052635225690843404, 0.04056435123468362, 0.05026650169528931], \"colorscale\": \"Portland\", \"reversescale\": false, \"showscale\": true}, \"opacity\": 0.6, \"width\": 0.5, \"x\": [\"SpO2_mean\", \"Pmean_mean\", \"PASs_mean\", \"PAPsys_max\", \"declampage_cote2_done_mean\", \"PAPsys_std\", \"Pmax_mean\", \"PASm_max\", \"FiO2_std\", \"VT_mean\", \"LAS\", \"ETCO2_mean\", \"BIS SR_std\", \"Poids\", \"PEEPtotal_mean\", \"SpO2_std\", \"ends_operation_day\", \"Temp_max\", \"FC_std\", \"Temp_mean\", \"VT_std\", \"PASd_std\", \"FiO2_mean\"], \"y\": [0.04135418146540604, 0.03677033004955969, 0.06863034960731937, 0.03612784468661605, 0.040105463674410105, 0.021965934105864282, 0.03699426844287891, 0.0454989557761641, 0.027733600220746855, 0.05115524771386321, 0.05542619950589803, 0.06878080085058001, 0.024255419552538834, 0.06309218097531587, 0.03619647659465535, 0.038905829276719595, 0.035267663941230924, 0.03015880006292519, 0.034445445424115165, 0.06366892945237602, 0.052635225690843404, 0.04056435123468362, 0.05026650169528931], \"type\": \"bar\", \"uid\": \"e3b4d855-b3fd-439b-9deb-5757e83c9f40\"}], {\"autosize\": true, \"hovermode\": \"closest\", \"showlegend\": false, \"title\": {\"text\": \"Barplots of Mean Feature Importance\"}, \"yaxis\": {\"gridwidth\": 2, \"ticklen\": 5, \"title\": {\"text\": \"Feature Importance\"}}}, {\"showLink\": false, \"linkText\": \"Export to plot.ly\", \"plotlyServerURL\": \"https://plot.ly\"})});</script><script type=\"text/javascript\">window.addEventListener(\"resize\", function(){window._Plotly.Plots.resize(document.getElementById(\"d8b18e8f-9346-4613-a01e-3a84856ce3a5\"));});</script>"
      ],
      "text/vnd.plotly.v1+html": [
       "<div id=\"d8b18e8f-9346-4613-a01e-3a84856ce3a5\" style=\"height: 525px; width: 100%;\" class=\"plotly-graph-div\"></div><script type=\"text/javascript\">require([\"plotly\"], function(Plotly) { window.PLOTLYENV=window.PLOTLYENV || {};window.PLOTLYENV.BASE_URL=\"https://plot.ly\";Plotly.newPlot(\"d8b18e8f-9346-4613-a01e-3a84856ce3a5\", [{\"marker\": {\"color\": [0.04135418146540604, 0.03677033004955969, 0.06863034960731937, 0.03612784468661605, 0.040105463674410105, 0.021965934105864282, 0.03699426844287891, 0.0454989557761641, 0.027733600220746855, 0.05115524771386321, 0.05542619950589803, 0.06878080085058001, 0.024255419552538834, 0.06309218097531587, 0.03619647659465535, 0.038905829276719595, 0.035267663941230924, 0.03015880006292519, 0.034445445424115165, 0.06366892945237602, 0.052635225690843404, 0.04056435123468362, 0.05026650169528931], \"colorscale\": \"Portland\", \"reversescale\": false, \"showscale\": true}, \"opacity\": 0.6, \"width\": 0.5, \"x\": [\"SpO2_mean\", \"Pmean_mean\", \"PASs_mean\", \"PAPsys_max\", \"declampage_cote2_done_mean\", \"PAPsys_std\", \"Pmax_mean\", \"PASm_max\", \"FiO2_std\", \"VT_mean\", \"LAS\", \"ETCO2_mean\", \"BIS SR_std\", \"Poids\", \"PEEPtotal_mean\", \"SpO2_std\", \"ends_operation_day\", \"Temp_max\", \"FC_std\", \"Temp_mean\", \"VT_std\", \"PASd_std\", \"FiO2_mean\"], \"y\": [0.04135418146540604, 0.03677033004955969, 0.06863034960731937, 0.03612784468661605, 0.040105463674410105, 0.021965934105864282, 0.03699426844287891, 0.0454989557761641, 0.027733600220746855, 0.05115524771386321, 0.05542619950589803, 0.06878080085058001, 0.024255419552538834, 0.06309218097531587, 0.03619647659465535, 0.038905829276719595, 0.035267663941230924, 0.03015880006292519, 0.034445445424115165, 0.06366892945237602, 0.052635225690843404, 0.04056435123468362, 0.05026650169528931], \"type\": \"bar\", \"uid\": \"e3b4d855-b3fd-439b-9deb-5757e83c9f40\"}], {\"autosize\": true, \"hovermode\": \"closest\", \"showlegend\": false, \"title\": {\"text\": \"Barplots of Mean Feature Importance\"}, \"yaxis\": {\"gridwidth\": 2, \"ticklen\": 5, \"title\": {\"text\": \"Feature Importance\"}}}, {\"showLink\": false, \"linkText\": \"Export to plot.ly\", \"plotlyServerURL\": \"https://plot.ly\"})});</script><script type=\"text/javascript\">window.addEventListener(\"resize\", function(){window._Plotly.Plots.resize(document.getElementById(\"d8b18e8f-9346-4613-a01e-3a84856ce3a5\"));});</script>"
      ]
     },
     "metadata": {},
     "output_type": "display_data"
    }
   ],
   "source": [
    "y = feature_dataframe['mean'].values\n",
    "x = feature_dataframe['features'].values\n",
    "data = [go.Bar(\n",
    "            x= x,\n",
    "             y= y,\n",
    "            width = 0.5,\n",
    "            marker=dict(\n",
    "               color = feature_dataframe['mean'].values,\n",
    "            colorscale='Portland',\n",
    "            showscale=True,\n",
    "            reversescale = False\n",
    "            ),\n",
    "            opacity=0.6\n",
    "        )]\n",
    "\n",
    "layout= go.Layout(\n",
    "    autosize= True,\n",
    "    title= 'Barplots of Mean Feature Importance',\n",
    "    hovermode= 'closest',\n",
    "#     xaxis= dict(\n",
    "#         title= 'Pop',\n",
    "#         ticklen= 5,\n",
    "#         zeroline= False,\n",
    "#         gridwidth= 2,\n",
    "#     ),\n",
    "    yaxis=dict(\n",
    "        title= 'Feature Importance',\n",
    "        ticklen= 5,\n",
    "        gridwidth= 2\n",
    "    ),\n",
    "    showlegend= False\n",
    ")\n",
    "fig = go.Figure(data=data, layout=layout)\n",
    "py.iplot(fig, filename='bar-direct-labels')"
   ]
  },
  {
   "cell_type": "code",
   "execution_count": 45,
   "metadata": {},
   "outputs": [
    {
     "data": {
      "text/html": [
       "<div>\n",
       "<style scoped>\n",
       "    .dataframe tbody tr th:only-of-type {\n",
       "        vertical-align: middle;\n",
       "    }\n",
       "\n",
       "    .dataframe tbody tr th {\n",
       "        vertical-align: top;\n",
       "    }\n",
       "\n",
       "    .dataframe thead th {\n",
       "        text-align: right;\n",
       "    }\n",
       "</style>\n",
       "<table border=\"1\" class=\"dataframe\">\n",
       "  <thead>\n",
       "    <tr style=\"text-align: right;\">\n",
       "      <th></th>\n",
       "      <th>RandomForest</th>\n",
       "      <th>ExtraTrees</th>\n",
       "      <th>AdaBoost</th>\n",
       "      <th>GradientBoost</th>\n",
       "    </tr>\n",
       "  </thead>\n",
       "  <tbody>\n",
       "    <tr>\n",
       "      <th>0</th>\n",
       "      <td>0.0</td>\n",
       "      <td>0.0</td>\n",
       "      <td>0.0</td>\n",
       "      <td>0.0</td>\n",
       "    </tr>\n",
       "    <tr>\n",
       "      <th>1</th>\n",
       "      <td>0.0</td>\n",
       "      <td>0.0</td>\n",
       "      <td>0.0</td>\n",
       "      <td>0.0</td>\n",
       "    </tr>\n",
       "    <tr>\n",
       "      <th>2</th>\n",
       "      <td>0.0</td>\n",
       "      <td>1.0</td>\n",
       "      <td>0.0</td>\n",
       "      <td>0.0</td>\n",
       "    </tr>\n",
       "    <tr>\n",
       "      <th>3</th>\n",
       "      <td>0.0</td>\n",
       "      <td>0.0</td>\n",
       "      <td>0.0</td>\n",
       "      <td>0.0</td>\n",
       "    </tr>\n",
       "    <tr>\n",
       "      <th>4</th>\n",
       "      <td>0.0</td>\n",
       "      <td>0.0</td>\n",
       "      <td>0.0</td>\n",
       "      <td>0.0</td>\n",
       "    </tr>\n",
       "  </tbody>\n",
       "</table>\n",
       "</div>"
      ],
      "text/plain": [
       "   RandomForest  ExtraTrees  AdaBoost  GradientBoost\n",
       "0           0.0         0.0       0.0            0.0\n",
       "1           0.0         0.0       0.0            0.0\n",
       "2           0.0         1.0       0.0            0.0\n",
       "3           0.0         0.0       0.0            0.0\n",
       "4           0.0         0.0       0.0            0.0"
      ]
     },
     "execution_count": 45,
     "metadata": {},
     "output_type": "execute_result"
    }
   ],
   "source": [
    "base_predictions_train = pd.DataFrame( {'RandomForest': rf_oof_train.ravel(),\n",
    "     'ExtraTrees': et_oof_train.ravel(),\n",
    "     'AdaBoost': ada_oof_train.ravel(),\n",
    "      'GradientBoost': gb_oof_train.ravel()\n",
    "    })\n",
    "base_predictions_train.head()"
   ]
  },
  {
   "cell_type": "code",
   "execution_count": 46,
   "metadata": {},
   "outputs": [
    {
     "data": {
      "application/vnd.plotly.v1+json": {
       "config": {
        "linkText": "Export to plot.ly",
        "plotlyServerURL": "https://plot.ly",
        "showLink": false
       },
       "data": [
        {
         "colorscale": "Viridis",
         "reversescale": true,
         "showscale": true,
         "type": "heatmap",
         "uid": "3b6be687-9a44-4d0f-b7c2-09077e9a3106",
         "x": [
          "RandomForest",
          "ExtraTrees",
          "AdaBoost",
          "GradientBoost"
         ],
         "y": [
          "RandomForest",
          "ExtraTrees",
          "AdaBoost",
          "GradientBoost"
         ],
         "z": [
          [
           1,
           0.686453980093295,
           0.3821196304113967,
           0.6169115756569954
          ],
          [
           0.686453980093295,
           1,
           0.3617750016314788,
           0.4206697069798464
          ],
          [
           0.3821196304113967,
           0.3617750016314788,
           1,
           0.4725924998092062
          ],
          [
           0.6169115756569954,
           0.4206697069798464,
           0.4725924998092062,
           1
          ]
         ]
        }
       ],
       "layout": {}
      },
      "text/html": [
       "<div id=\"8b774159-391f-4f99-9a93-292ca29370c8\" style=\"height: 525px; width: 100%;\" class=\"plotly-graph-div\"></div><script type=\"text/javascript\">require([\"plotly\"], function(Plotly) { window.PLOTLYENV=window.PLOTLYENV || {};window.PLOTLYENV.BASE_URL=\"https://plot.ly\";Plotly.newPlot(\"8b774159-391f-4f99-9a93-292ca29370c8\", [{\"colorscale\": \"Viridis\", \"reversescale\": true, \"showscale\": true, \"x\": [\"RandomForest\", \"ExtraTrees\", \"AdaBoost\", \"GradientBoost\"], \"y\": [\"RandomForest\", \"ExtraTrees\", \"AdaBoost\", \"GradientBoost\"], \"z\": [[1.0, 0.686453980093295, 0.3821196304113967, 0.6169115756569954], [0.686453980093295, 1.0, 0.3617750016314788, 0.4206697069798464], [0.3821196304113967, 0.3617750016314788, 1.0, 0.4725924998092062], [0.6169115756569954, 0.4206697069798464, 0.4725924998092062, 1.0]], \"type\": \"heatmap\", \"uid\": \"4d4e6f48-b42b-43ed-8d2a-9f711188b34b\"}], {}, {\"showLink\": false, \"linkText\": \"Export to plot.ly\", \"plotlyServerURL\": \"https://plot.ly\"})});</script><script type=\"text/javascript\">window.addEventListener(\"resize\", function(){window._Plotly.Plots.resize(document.getElementById(\"8b774159-391f-4f99-9a93-292ca29370c8\"));});</script>"
      ],
      "text/vnd.plotly.v1+html": [
       "<div id=\"8b774159-391f-4f99-9a93-292ca29370c8\" style=\"height: 525px; width: 100%;\" class=\"plotly-graph-div\"></div><script type=\"text/javascript\">require([\"plotly\"], function(Plotly) { window.PLOTLYENV=window.PLOTLYENV || {};window.PLOTLYENV.BASE_URL=\"https://plot.ly\";Plotly.newPlot(\"8b774159-391f-4f99-9a93-292ca29370c8\", [{\"colorscale\": \"Viridis\", \"reversescale\": true, \"showscale\": true, \"x\": [\"RandomForest\", \"ExtraTrees\", \"AdaBoost\", \"GradientBoost\"], \"y\": [\"RandomForest\", \"ExtraTrees\", \"AdaBoost\", \"GradientBoost\"], \"z\": [[1.0, 0.686453980093295, 0.3821196304113967, 0.6169115756569954], [0.686453980093295, 1.0, 0.3617750016314788, 0.4206697069798464], [0.3821196304113967, 0.3617750016314788, 1.0, 0.4725924998092062], [0.6169115756569954, 0.4206697069798464, 0.4725924998092062, 1.0]], \"type\": \"heatmap\", \"uid\": \"4d4e6f48-b42b-43ed-8d2a-9f711188b34b\"}], {}, {\"showLink\": false, \"linkText\": \"Export to plot.ly\", \"plotlyServerURL\": \"https://plot.ly\"})});</script><script type=\"text/javascript\">window.addEventListener(\"resize\", function(){window._Plotly.Plots.resize(document.getElementById(\"8b774159-391f-4f99-9a93-292ca29370c8\"));});</script>"
      ]
     },
     "metadata": {},
     "output_type": "display_data"
    }
   ],
   "source": [
    "data = [\n",
    "    go.Heatmap(\n",
    "        z= base_predictions_train.astype(float).corr().values ,\n",
    "        x=base_predictions_train.columns.values,\n",
    "        y= base_predictions_train.columns.values,\n",
    "          colorscale='Viridis',\n",
    "            showscale=True,\n",
    "            reversescale = True\n",
    "    )\n",
    "]\n",
    "py.iplot(data, filename='labelled-heatmap')"
   ]
  },
  {
   "cell_type": "code",
   "execution_count": 47,
   "metadata": {},
   "outputs": [],
   "source": [
    "x_train_stack = np.concatenate(( et_oof_train, rf_oof_train, ada_oof_train, gb_oof_train), axis=1)\n",
    "x_test_stack = np.concatenate(( et_oof_test, rf_oof_test, ada_oof_test, gb_oof_test), axis=1)"
   ]
  },
  {
   "cell_type": "code",
   "execution_count": 48,
   "metadata": {},
   "outputs": [],
   "source": [
    "from sklearn.ensemble import GradientBoostingClassifier"
   ]
  },
  {
   "cell_type": "code",
   "execution_count": 49,
   "metadata": {},
   "outputs": [],
   "source": [
    "GBC_stck=GradientBoostingClassifier()"
   ]
  },
  {
   "cell_type": "code",
   "execution_count": 50,
   "metadata": {},
   "outputs": [
    {
     "data": {
      "text/plain": [
       "GradientBoostingClassifier(criterion='friedman_mse', init=None,\n",
       "              learning_rate=0.1, loss='deviance', max_depth=3,\n",
       "              max_features=None, max_leaf_nodes=None,\n",
       "              min_impurity_decrease=0.0, min_impurity_split=None,\n",
       "              min_samples_leaf=1, min_samples_split=2,\n",
       "              min_weight_fraction_leaf=0.0, n_estimators=100,\n",
       "              n_iter_no_change=None, presort='auto', random_state=None,\n",
       "              subsample=1.0, tol=0.0001, validation_fraction=0.1,\n",
       "              verbose=0, warm_start=False)"
      ]
     },
     "execution_count": 50,
     "metadata": {},
     "output_type": "execute_result"
    }
   ],
   "source": [
    "GBC_stck.fit(x_train_stack,y_train)"
   ]
  },
  {
   "cell_type": "code",
   "execution_count": 51,
   "metadata": {},
   "outputs": [
    {
     "data": {
      "text/plain": [
       "array([[42, 17],\n",
       "       [17, 26]], dtype=int64)"
      ]
     },
     "execution_count": 51,
     "metadata": {},
     "output_type": "execute_result"
    }
   ],
   "source": [
    "confusion_matrix(y_test,GBC_stck.predict(x_test_stack))"
   ]
  },
  {
   "cell_type": "code",
   "execution_count": 52,
   "metadata": {},
   "outputs": [
    {
     "data": {
      "text/plain": [
       "0.6666666666666666"
      ]
     },
     "execution_count": 52,
     "metadata": {},
     "output_type": "execute_result"
    }
   ],
   "source": [
    "metrics.accuracy_score(y_test,GBC_stck.predict(x_test_stack))"
   ]
  },
  {
   "cell_type": "code",
   "execution_count": null,
   "metadata": {},
   "outputs": [],
   "source": []
  }
 ],
 "metadata": {
  "kernelspec": {
   "display_name": "Python 3",
   "language": "python",
   "name": "python3"
  },
  "language_info": {
   "codemirror_mode": {
    "name": "ipython",
    "version": 3
   },
   "file_extension": ".py",
   "mimetype": "text/x-python",
   "name": "python",
   "nbconvert_exporter": "python",
   "pygments_lexer": "ipython3",
   "version": "3.6.8"
  },
  "varInspector": {
   "cols": {
    "lenName": 16,
    "lenType": 16,
    "lenVar": 40
   },
   "kernels_config": {
    "python": {
     "delete_cmd_postfix": "",
     "delete_cmd_prefix": "del ",
     "library": "var_list.py",
     "varRefreshCmd": "print(var_dic_list())"
    },
    "r": {
     "delete_cmd_postfix": ") ",
     "delete_cmd_prefix": "rm(",
     "library": "var_list.r",
     "varRefreshCmd": "cat(var_dic_list()) "
    }
   },
   "position": {
    "height": "650px",
    "left": "574.924px",
    "right": "20px",
    "top": "65.9848px",
    "width": "690px"
   },
   "types_to_exclude": [
    "module",
    "function",
    "builtin_function_or_method",
    "instance",
    "_Feature"
   ],
   "window_display": false
  }
 },
 "nbformat": 4,
 "nbformat_minor": 2
}
