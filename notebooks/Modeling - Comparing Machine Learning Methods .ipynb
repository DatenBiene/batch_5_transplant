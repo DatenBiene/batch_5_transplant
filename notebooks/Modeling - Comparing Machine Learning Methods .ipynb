{
 "cells": [
  {
   "cell_type": "code",
   "execution_count": 1,
   "metadata": {},
   "outputs": [
    {
     "data": {
      "text/html": [
       "<div id=\"my_id_menu_nb\">run previous cell, wait for 2 seconds</div>\n",
       "<script>\n",
       "function repeat_indent_string(n){\n",
       "    var a = \"\" ;\n",
       "    for ( ; n > 0 ; --n)\n",
       "        a += \"    \";\n",
       "    return a;\n",
       "}\n",
       "// look up into all sections and builds an automated menu //\n",
       "var update_menu_string = function(begin, lfirst, llast, sformat, send, keep_item, begin_format, end_format) {\n",
       "    var anchors = document.getElementsByClassName(\"section\");\n",
       "    if (anchors.length == 0) {\n",
       "        anchors = document.getElementsByClassName(\"text_cell_render rendered_html\");\n",
       "    }\n",
       "    var i,t;\n",
       "    var text_menu = begin;\n",
       "    var text_memo = \"<pre>\\nlength:\" + anchors.length + \"\\n\";\n",
       "    var ind = \"\";\n",
       "    var memo_level = 1;\n",
       "    var href;\n",
       "    var tags = [];\n",
       "    var main_item = 0;\n",
       "    var format_open = 0;\n",
       "    for (i = 0; i <= llast; i++)\n",
       "        tags.push(\"h\" + i);\n",
       "\n",
       "    for (i = 0; i < anchors.length; i++) {\n",
       "        text_memo += \"**\" + anchors[i].id + \"--\\n\";\n",
       "\n",
       "        var child = null;\n",
       "        for(t = 0; t < tags.length; t++) {\n",
       "            var r = anchors[i].getElementsByTagName(tags[t]);\n",
       "            if (r.length > 0) {\n",
       "child = r[0];\n",
       "break;\n",
       "            }\n",
       "        }\n",
       "        if (child == null) {\n",
       "            text_memo += \"null\\n\";\n",
       "            continue;\n",
       "        }\n",
       "        if (anchors[i].hasAttribute(\"id\")) {\n",
       "            // when converted in RST\n",
       "            href = anchors[i].id;\n",
       "            text_memo += \"#1-\" + href;\n",
       "            // passer à child suivant (le chercher)\n",
       "        }\n",
       "        else if (child.hasAttribute(\"id\")) {\n",
       "            // in a notebook\n",
       "            href = child.id;\n",
       "            text_memo += \"#2-\" + href;\n",
       "        }\n",
       "        else {\n",
       "            text_memo += \"#3-\" + \"*\" + \"\\n\";\n",
       "            continue;\n",
       "        }\n",
       "        var title = child.textContent;\n",
       "        var level = parseInt(child.tagName.substring(1,2));\n",
       "\n",
       "        text_memo += \"--\" + level + \"?\" + lfirst + \"--\" + title + \"\\n\";\n",
       "\n",
       "        if ((level < lfirst) || (level > llast)) {\n",
       "            continue ;\n",
       "        }\n",
       "        if (title.endsWith('¶')) {\n",
       "            title = title.substring(0,title.length-1).replace(\"<\", \"&lt;\")\n",
       "         .replace(\">\", \"&gt;\").replace(\"&\", \"&amp;\");\n",
       "        }\n",
       "        if (title.length == 0) {\n",
       "            continue;\n",
       "        }\n",
       "\n",
       "        while (level < memo_level) {\n",
       "            text_menu += end_format + \"</ul>\\n\";\n",
       "            format_open -= 1;\n",
       "            memo_level -= 1;\n",
       "        }\n",
       "        if (level == lfirst) {\n",
       "            main_item += 1;\n",
       "        }\n",
       "        if (keep_item != -1 && main_item != keep_item + 1) {\n",
       "            // alert(main_item + \" - \" + level + \" - \" + keep_item);\n",
       "            continue;\n",
       "        }\n",
       "        while (level > memo_level) {\n",
       "            text_menu += \"<ul>\\n\";\n",
       "            memo_level += 1;\n",
       "        }\n",
       "        text_menu += repeat_indent_string(level-2);\n",
       "        text_menu += begin_format + sformat.replace(\"__HREF__\", href).replace(\"__TITLE__\", title);\n",
       "        format_open += 1;\n",
       "    }\n",
       "    while (1 < memo_level) {\n",
       "        text_menu += end_format + \"</ul>\\n\";\n",
       "        memo_level -= 1;\n",
       "        format_open -= 1;\n",
       "    }\n",
       "    text_menu += send;\n",
       "    //text_menu += \"\\n\" + text_memo;\n",
       "\n",
       "    while (format_open > 0) {\n",
       "        text_menu += end_format;\n",
       "        format_open -= 1;\n",
       "    }\n",
       "    return text_menu;\n",
       "};\n",
       "var update_menu = function() {\n",
       "    var sbegin = \"\";\n",
       "    var sformat = '<a href=\"#__HREF__\">__TITLE__</a>';\n",
       "    var send = \"\";\n",
       "    var begin_format = '<li>';\n",
       "    var end_format = '</li>';\n",
       "    var keep_item = -1;\n",
       "    var text_menu = update_menu_string(sbegin, 2, 4, sformat, send, keep_item,\n",
       "       begin_format, end_format);\n",
       "    var menu = document.getElementById(\"my_id_menu_nb\");\n",
       "    menu.innerHTML=text_menu;\n",
       "};\n",
       "window.setTimeout(update_menu,2000);\n",
       "            </script>"
      ],
      "text/plain": [
       "<IPython.core.display.HTML object>"
      ]
     },
     "execution_count": 1,
     "metadata": {},
     "output_type": "execute_result"
    }
   ],
   "source": [
    "from jyquickhelper import add_notebook_menu\n",
    "add_notebook_menu()"
   ]
  },
  {
   "cell_type": "code",
   "execution_count": 2,
   "metadata": {},
   "outputs": [],
   "source": [
    "import warnings\n",
    "warnings.filterwarnings('ignore')"
   ]
  },
  {
   "cell_type": "markdown",
   "metadata": {},
   "source": [
    "## Let's try to do our best with a few ML model"
   ]
  },
  {
   "cell_type": "code",
   "execution_count": 3,
   "metadata": {
    "scrolled": true
   },
   "outputs": [
    {
     "data": {
      "text/html": [
       "<script type=\"text/javascript\">window.PlotlyConfig = {MathJaxConfig: 'local'};</script><script type=\"text/javascript\">if (window.MathJax) {MathJax.Hub.Config({SVG: {font: \"STIX-Web\"}});}</script><script>requirejs.config({paths: { 'plotly': ['https://cdn.plot.ly/plotly-latest.min']},});if(!window._Plotly) {require(['plotly'],function(plotly) {window._Plotly=plotly;});}</script>"
      ],
      "text/vnd.plotly.v1+html": [
       "<script type=\"text/javascript\">window.PlotlyConfig = {MathJaxConfig: 'local'};</script><script type=\"text/javascript\">if (window.MathJax) {MathJax.Hub.Config({SVG: {font: \"STIX-Web\"}});}</script><script>requirejs.config({paths: { 'plotly': ['https://cdn.plot.ly/plotly-latest.min']},});if(!window._Plotly) {require(['plotly'],function(plotly) {window._Plotly=plotly;});}</script>"
      ]
     },
     "metadata": {},
     "output_type": "display_data"
    }
   ],
   "source": [
    "import pandas as pd\n",
    "import numpy as np\n",
    "import sklearn\n",
    "from sklearn.model_selection import train_test_split\n",
    "from sklearn import metrics\n",
    "from sklearn.metrics import confusion_matrix\n",
    "\n",
    "import seaborn as sns\n",
    "import matplotlib.pyplot as plt\n",
    "%matplotlib inline\n",
    "\n",
    "import plotly.offline as py\n",
    "py.init_notebook_mode(connected=True)\n",
    "import plotly.graph_objs as go\n",
    "import plotly.tools as tls\n"
   ]
  },
  {
   "cell_type": "code",
   "execution_count": 4,
   "metadata": {},
   "outputs": [
    {
     "data": {
      "text/plain": [
       "'0.20.2'"
      ]
     },
     "execution_count": 4,
     "metadata": {},
     "output_type": "execute_result"
    }
   ],
   "source": [
    "sklearn.__version__"
   ]
  },
  {
   "cell_type": "code",
   "execution_count": 5,
   "metadata": {},
   "outputs": [],
   "source": [
    "from sklearn.ensemble import (RandomForestClassifier, AdaBoostClassifier,\n",
    "                              GradientBoostingClassifier, ExtraTreesClassifier)\n",
    "\n",
    "from sklearn.model_selection import KFold"
   ]
  },
  {
   "cell_type": "markdown",
   "metadata": {},
   "source": [
    "## Data Preparation"
   ]
  },
  {
   "cell_type": "markdown",
   "metadata": {},
   "source": [
    "We use the data preparation explained in the notebook called \"Data Preparation for our studies \"\n"
   ]
  },
  {
   "cell_type": "markdown",
   "metadata": {},
   "source": [
    "import pandas as pd\n",
    "import numpy as np\n",
    "from transplant.config import *\n",
    "\n",
    "df = pd.read_csv(PATH_STATIC_CLEAN)[STATIC_CATEGORIES['patient_intraoperative']]\n",
    "declampage_col = list(df.filter(like='declampage_cote_2').columns)\n",
    "declampage_col.append('id_patient')\n",
    "\n",
    "X_intra=df[declampage_col].apply(pd.to_numeric, errors='coerce').dropna(1, how=\"all\")\n",
    "\n",
    "from transplant.data.dataset import Dataset\n",
    "dataset = Dataset()\n",
    "\n",
    "train, test = dataset.get_static()\n",
    "X_train=train[['id_patient', 'target']]\n",
    "X_test=test[['id_patient', 'target']]\n",
    "\n",
    "X_train_intra_with_targ=pd.merge(X_train, X_intra, on='id_patient')\n",
    "X_test_intra_with_targ=pd.merge(X_test, X_intra, on='id_patient')\n",
    "\n",
    "mean_train = X_train_intra_with_targ.mean()\n",
    "\n",
    "train_filled = X_train_intra_with_targ.fillna(mean_train)\n",
    "test_filled = X_test_intra_with_targ.fillna(mean_train)\n",
    "\n",
    "\n",
    "\n",
    "X_train = np.array(train_filled.drop(['target','id_patient'], axis=1))\n",
    "X_test = np.array(test_filled.drop(['target','id_patient'], axis=1))\n",
    "y_train = np.array(train_filled['target'])\n",
    "y_test = np.array(test_filled['target'])\n",
    "X_col = train_filled.drop(['target','id_patient'], axis=1).columns"
   ]
  },
  {
   "cell_type": "markdown",
   "metadata": {},
   "source": [
    "def armand_funct():\n",
    "    \"\"\"\n",
    "    How to : X_train, X_test, y_train ,Y_test, col = armand_funct()\n",
    "    \"\"\"\n",
    "    from transplant.data.dataset import Dataset\n",
    "    \n",
    "    \n",
    "    # To get Target\n",
    "    dataset = Dataset()\n",
    "\n",
    "    train, test = dataset.get_static()\n",
    "    train['is_train'] = 1\n",
    "    test['is_train'] = 0\n",
    "    all_stat = pd.concat([train, test])\n",
    "    all_stat = all_stat[['id_patient', 'target', 'is_train']].copy()\n",
    "    \n",
    "    # Intra\n",
    "    df = pd.read_csv(PATH_STATIC_CLEAN)[STATIC_CATEGORIES['patient_intraoperative']]\n",
    "    declampage = list(df.filter(like='declampage_cote_2').columns)\n",
    "    declampage.append('id_patient')\n",
    "    df = df[declampage]\n",
    "    \n",
    "    # Intra Num\n",
    "    df_num = df.apply(pd.to_numeric, errors='coerce')\n",
    "    \n",
    "    # Merge with all_statto get target \n",
    "    df_num = df_num.merge(all_stat, on='id_patient')\n",
    "    \n",
    "    # Feature engi\n",
    "    df_num['nb_nan_feature'] = pd.isnull(df_num).sum(axis=1)\n",
    "    \n",
    "    df_num = df_num.fillna(-99) # \n",
    "    \n",
    "    \n",
    "    # Split \n",
    "    \n",
    "    y_train = np.array(df_num[df_num['is_train'] == 1]['target'])\n",
    "    y_test = np.array(df_num[df_num['is_train'] == 0]['target'])\n",
    "    \n",
    "    X_train = df_num[df_num['is_train'] == 1].drop(['target', 'id_patient', 'is_train'], axis=1)\n",
    "    X_test = df_num[df_num['is_train'] == 0].drop(['target', 'id_patient', 'is_train'], axis=1)\n",
    "    col = X_train.columns\n",
    "    \n",
    "    return X_train.values, X_test.values, y_train ,y_test, col"
   ]
  },
  {
   "cell_type": "code",
   "execution_count": 6,
   "metadata": {},
   "outputs": [],
   "source": [
    "from transplant.data.dataset import Dataset\n",
    "dataset=Dataset()"
   ]
  },
  {
   "cell_type": "code",
   "execution_count": 7,
   "metadata": {},
   "outputs": [],
   "source": [
    "from transplant.data.learningset import Learningset\n",
    "from transplant.config import *\n",
    "learningset = Learningset()\n",
    "\n",
    "#X_train, X_test, y_train, y_test, X_col = learningset.get_static_filled(to_train=True)\n",
    "#X_train, X_test, y_train, y_test, X_col = learningset.get_data_merged_dynamic_flatten_full(\"cls\", False)\n",
    "#X_train, X_test, y_train, y_test, X_col = armand_funct()\n",
    "\n",
    "train, test = learningset.get_data_merged_dynamic_flatten_full(full_df=True)"
   ]
  },
  {
   "cell_type": "markdown",
   "metadata": {},
   "source": [
    "Choix des features : "
   ]
  },
  {
   "cell_type": "code",
   "execution_count": 8,
   "metadata": {},
   "outputs": [],
   "source": [
    "## RFE avec 4 modèles d'ensemble\n",
    "choix_features_1=['PEEPtotal_std',\n",
    " 'Temp_mean',\n",
    " 'ETCO2_mean',\n",
    " 'FiO2_std',\n",
    " 'LAS',\n",
    " 'Poids',\n",
    " 'SpO2_mean',\n",
    " 'BIS SR_std']\n",
    "\n",
    "## Variables Antoine avec perspective résultats RFE\n",
    "choix_features_4=['FiO2_std','FiO2_mean',\n",
    "                  'SpO2_mean','SpO2_std',\n",
    "                  'PEEPtotal_mean',\n",
    "                  'BIS SR_std',\n",
    "                  'PAPsys_max','PAPsys_std',\n",
    "                  'PASs_mean','PASm_max',\n",
    "                  'LAS',\n",
    "                  'FC_std'\n",
    "                 ]\n",
    "\n",
    "choix_features_5=set(choix_features_4 + choix_features_1)"
   ]
  },
  {
   "cell_type": "code",
   "execution_count": 9,
   "metadata": {},
   "outputs": [],
   "source": [
    "Choix_Features=choix_features_5"
   ]
  },
  {
   "cell_type": "code",
   "execution_count": 10,
   "metadata": {},
   "outputs": [],
   "source": [
    "X_train=train[Choix_Features].values \n",
    "X_test=test[Choix_Features].values\n",
    "y_train=train['target'].values\n",
    "y_test=test['target'].values"
   ]
  },
  {
   "cell_type": "code",
   "execution_count": 11,
   "metadata": {},
   "outputs": [],
   "source": [
    "X_col=train[Choix_Features].columns"
   ]
  },
  {
   "cell_type": "code",
   "execution_count": 12,
   "metadata": {},
   "outputs": [
    {
     "data": {
      "text/plain": [
       "((241, 16), (101, 16), (241,), (101,))"
      ]
     },
     "execution_count": 12,
     "metadata": {},
     "output_type": "execute_result"
    }
   ],
   "source": [
    "X_train.shape, X_test.shape, y_train.shape, y_test.shape"
   ]
  },
  {
   "cell_type": "markdown",
   "metadata": {},
   "source": [
    "We need to change the y format in order to make our models work"
   ]
  },
  {
   "cell_type": "code",
   "execution_count": 13,
   "metadata": {},
   "outputs": [],
   "source": [
    "y_train, y_test = y_train.reshape(-1, 1), y_test.reshape(-1, 1)"
   ]
  },
  {
   "cell_type": "code",
   "execution_count": 14,
   "metadata": {},
   "outputs": [
    {
     "data": {
      "text/plain": [
       "((241, 16), (101, 16), (241, 1), (101, 1))"
      ]
     },
     "execution_count": 14,
     "metadata": {},
     "output_type": "execute_result"
    }
   ],
   "source": [
    "X_train.shape, X_test.shape, y_train.shape, y_test.shape"
   ]
  },
  {
   "cell_type": "markdown",
   "metadata": {},
   "source": [
    "## ML Tuning"
   ]
  },
  {
   "cell_type": "code",
   "execution_count": 15,
   "metadata": {},
   "outputs": [],
   "source": [
    "cols = X_col  # On a besoin des colonnes pour plus tard\n",
    "# On observe le grand X et pas le petit x ...\n",
    "\n",
    "ntrain = X_train.shape[0]\n",
    "\n",
    "ntest = X_test.shape[0]\n",
    "\n",
    "seed_fix = 5                   # Pour reproduire les résultats"
   ]
  },
  {
   "cell_type": "code",
   "execution_count": 16,
   "metadata": {},
   "outputs": [
    {
     "data": {
      "text/plain": [
       "(241, 101)"
      ]
     },
     "execution_count": 16,
     "metadata": {},
     "output_type": "execute_result"
    }
   ],
   "source": [
    "ntrain, ntest"
   ]
  },
  {
   "cell_type": "code",
   "execution_count": 17,
   "metadata": {},
   "outputs": [],
   "source": [
    "class SklearnHelper(object):\n",
    "    def __init__(self, clf, seed=0, params=None):\n",
    "        params['random_state'] = seed\n",
    "        self.clf = clf(**params)\n",
    "\n",
    "    def train(self, x_train, y_train):\n",
    "        self.clf.fit(x_train, y_train)\n",
    "\n",
    "    def predict(self, x):\n",
    "        return self.clf.predict(x)\n",
    "\n",
    "    def fit(self, x, y):\n",
    "        return self.clf.fit(x, y)\n",
    "\n",
    "    def feature_importances(self, x, y):\n",
    "        return self.clf.fit(x, y).feature_importances_"
   ]
  },
  {
   "cell_type": "code",
   "execution_count": 18,
   "metadata": {},
   "outputs": [],
   "source": [
    "NFOLDS = 5\n",
    "kf = KFold(n_splits=NFOLDS, random_state=seed_fix)\n",
    "\n",
    "\n",
    "def get_oof(clf, x_train, y_train, x_test):\n",
    "    oof_train = np.zeros((ntrain,))\n",
    "    oof_test = np.zeros((ntest,))\n",
    "    oof_test_skf = np.empty((NFOLDS, ntest))\n",
    "\n",
    "    for i, (train_index, test_index) in enumerate(kf.split(x_train)):\n",
    "        x_tr = x_train[train_index]\n",
    "        y_tr = y_train[train_index]\n",
    "        x_te = x_train[test_index]\n",
    "\n",
    "        clf.train(x_tr, y_tr)\n",
    "\n",
    "        oof_train[test_index] = clf.predict(x_te)\n",
    "        oof_test_skf[i, :] = clf.predict(x_test)\n",
    "\n",
    "    oof_test[:] = oof_test_skf.mean(axis=0)\n",
    "    return oof_train.reshape(-1, 1), oof_test.reshape(-1, 1)"
   ]
  },
  {
   "cell_type": "code",
   "execution_count": 19,
   "metadata": {},
   "outputs": [],
   "source": [
    "rf_params = {\n",
    "    'n_jobs': -1,\n",
    "    'n_estimators': 500,\n",
    "    'warm_start': True,\n",
    "    # 'max_features': 0.2,\n",
    "    'max_depth': 6,\n",
    "    'min_samples_leaf': 2,\n",
    "    'max_features': 'sqrt',\n",
    "    'verbose': 0\n",
    "}"
   ]
  },
  {
   "cell_type": "code",
   "execution_count": 20,
   "metadata": {},
   "outputs": [],
   "source": [
    "et_params = {\n",
    "    'n_jobs': -1,\n",
    "    'n_estimators': 500,\n",
    "    # 'max_features': 0.5,\n",
    "    'max_depth': 8,\n",
    "    'min_samples_leaf': 2,\n",
    "    'verbose': 0\n",
    "}"
   ]
  },
  {
   "cell_type": "code",
   "execution_count": 21,
   "metadata": {},
   "outputs": [],
   "source": [
    "ada_params = {\n",
    "    'n_estimators': 500,\n",
    "    'learning_rate': 0.75\n",
    "}"
   ]
  },
  {
   "cell_type": "code",
   "execution_count": 22,
   "metadata": {},
   "outputs": [],
   "source": [
    "gb_params = {\n",
    "    'n_estimators': 500,\n",
    "    # 'max_features': 0.2,\n",
    "    'max_depth': 5,\n",
    "    'min_samples_leaf': 2,\n",
    "    'verbose': 0\n",
    "}"
   ]
  },
  {
   "cell_type": "code",
   "execution_count": 23,
   "metadata": {},
   "outputs": [],
   "source": [
    "rf = SklearnHelper(clf=RandomForestClassifier, seed=seed_fix, params=rf_params)\n",
    "et = SklearnHelper(clf=ExtraTreesClassifier, seed=seed_fix, params=et_params)\n",
    "ada = SklearnHelper(clf=AdaBoostClassifier, seed=seed_fix, params=ada_params)\n",
    "gb = SklearnHelper(clf=GradientBoostingClassifier,\n",
    "                   seed=seed_fix, params=gb_params)"
   ]
  },
  {
   "cell_type": "code",
   "execution_count": 24,
   "metadata": {},
   "outputs": [
    {
     "data": {
      "text/plain": [
       "((241, 16), (241, 1), (101, 16))"
      ]
     },
     "execution_count": 24,
     "metadata": {},
     "output_type": "execute_result"
    }
   ],
   "source": [
    "X_train.shape, y_train.shape, X_test.shape"
   ]
  },
  {
   "cell_type": "markdown",
   "metadata": {},
   "source": [
    "## Learning zone"
   ]
  },
  {
   "cell_type": "code",
   "execution_count": 25,
   "metadata": {},
   "outputs": [
    {
     "name": "stderr",
     "output_type": "stream",
     "text": [
      "C:\\Users\\Delanoue\\Anaconda3\\envs\\env_py36\\lib\\site-packages\\ipykernel_launcher.py:7: DataConversionWarning:\n",
      "\n",
      "A column-vector y was passed when a 1d array was expected. Please change the shape of y to (n_samples,), for example using ravel().\n",
      "\n",
      "C:\\Users\\Delanoue\\Anaconda3\\envs\\env_py36\\lib\\site-packages\\ipykernel_launcher.py:7: DataConversionWarning:\n",
      "\n",
      "A column-vector y was passed when a 1d array was expected. Please change the shape of y to (n_samples,), for example using ravel().\n",
      "\n",
      "C:\\Users\\Delanoue\\Anaconda3\\envs\\env_py36\\lib\\site-packages\\ipykernel_launcher.py:7: DataConversionWarning:\n",
      "\n",
      "A column-vector y was passed when a 1d array was expected. Please change the shape of y to (n_samples,), for example using ravel().\n",
      "\n",
      "C:\\Users\\Delanoue\\Anaconda3\\envs\\env_py36\\lib\\site-packages\\ipykernel_launcher.py:7: DataConversionWarning:\n",
      "\n",
      "A column-vector y was passed when a 1d array was expected. Please change the shape of y to (n_samples,), for example using ravel().\n",
      "\n",
      "C:\\Users\\Delanoue\\Anaconda3\\envs\\env_py36\\lib\\site-packages\\ipykernel_launcher.py:7: DataConversionWarning:\n",
      "\n",
      "A column-vector y was passed when a 1d array was expected. Please change the shape of y to (n_samples,), for example using ravel().\n",
      "\n",
      "C:\\Users\\Delanoue\\Anaconda3\\envs\\env_py36\\lib\\site-packages\\ipykernel_launcher.py:7: DataConversionWarning:\n",
      "\n",
      "A column-vector y was passed when a 1d array was expected. Please change the shape of y to (n_samples,), for example using ravel().\n",
      "\n",
      "C:\\Users\\Delanoue\\Anaconda3\\envs\\env_py36\\lib\\site-packages\\ipykernel_launcher.py:7: DataConversionWarning:\n",
      "\n",
      "A column-vector y was passed when a 1d array was expected. Please change the shape of y to (n_samples,), for example using ravel().\n",
      "\n",
      "C:\\Users\\Delanoue\\Anaconda3\\envs\\env_py36\\lib\\site-packages\\sklearn\\ensemble\\forest.py:308: UserWarning:\n",
      "\n",
      "Warm-start fitting without increasing n_estimators does not fit new trees.\n",
      "\n",
      "C:\\Users\\Delanoue\\Anaconda3\\envs\\env_py36\\lib\\site-packages\\ipykernel_launcher.py:7: DataConversionWarning:\n",
      "\n",
      "A column-vector y was passed when a 1d array was expected. Please change the shape of y to (n_samples,), for example using ravel().\n",
      "\n",
      "C:\\Users\\Delanoue\\Anaconda3\\envs\\env_py36\\lib\\site-packages\\sklearn\\ensemble\\forest.py:308: UserWarning:\n",
      "\n",
      "Warm-start fitting without increasing n_estimators does not fit new trees.\n",
      "\n",
      "C:\\Users\\Delanoue\\Anaconda3\\envs\\env_py36\\lib\\site-packages\\ipykernel_launcher.py:7: DataConversionWarning:\n",
      "\n",
      "A column-vector y was passed when a 1d array was expected. Please change the shape of y to (n_samples,), for example using ravel().\n",
      "\n",
      "C:\\Users\\Delanoue\\Anaconda3\\envs\\env_py36\\lib\\site-packages\\sklearn\\ensemble\\forest.py:308: UserWarning:\n",
      "\n",
      "Warm-start fitting without increasing n_estimators does not fit new trees.\n",
      "\n",
      "C:\\Users\\Delanoue\\Anaconda3\\envs\\env_py36\\lib\\site-packages\\ipykernel_launcher.py:7: DataConversionWarning:\n",
      "\n",
      "A column-vector y was passed when a 1d array was expected. Please change the shape of y to (n_samples,), for example using ravel().\n",
      "\n",
      "C:\\Users\\Delanoue\\Anaconda3\\envs\\env_py36\\lib\\site-packages\\sklearn\\ensemble\\forest.py:308: UserWarning:\n",
      "\n",
      "Warm-start fitting without increasing n_estimators does not fit new trees.\n",
      "\n",
      "C:\\Users\\Delanoue\\Anaconda3\\envs\\env_py36\\lib\\site-packages\\sklearn\\utils\\validation.py:761: DataConversionWarning:\n",
      "\n",
      "A column-vector y was passed when a 1d array was expected. Please change the shape of y to (n_samples, ), for example using ravel().\n",
      "\n",
      "C:\\Users\\Delanoue\\Anaconda3\\envs\\env_py36\\lib\\site-packages\\sklearn\\utils\\validation.py:761: DataConversionWarning:\n",
      "\n",
      "A column-vector y was passed when a 1d array was expected. Please change the shape of y to (n_samples, ), for example using ravel().\n",
      "\n",
      "C:\\Users\\Delanoue\\Anaconda3\\envs\\env_py36\\lib\\site-packages\\sklearn\\utils\\validation.py:761: DataConversionWarning:\n",
      "\n",
      "A column-vector y was passed when a 1d array was expected. Please change the shape of y to (n_samples, ), for example using ravel().\n",
      "\n",
      "C:\\Users\\Delanoue\\Anaconda3\\envs\\env_py36\\lib\\site-packages\\sklearn\\utils\\validation.py:761: DataConversionWarning:\n",
      "\n",
      "A column-vector y was passed when a 1d array was expected. Please change the shape of y to (n_samples, ), for example using ravel().\n",
      "\n",
      "C:\\Users\\Delanoue\\Anaconda3\\envs\\env_py36\\lib\\site-packages\\sklearn\\utils\\validation.py:761: DataConversionWarning:\n",
      "\n",
      "A column-vector y was passed when a 1d array was expected. Please change the shape of y to (n_samples, ), for example using ravel().\n",
      "\n",
      "C:\\Users\\Delanoue\\Anaconda3\\envs\\env_py36\\lib\\site-packages\\sklearn\\utils\\validation.py:761: DataConversionWarning:\n",
      "\n",
      "A column-vector y was passed when a 1d array was expected. Please change the shape of y to (n_samples, ), for example using ravel().\n",
      "\n",
      "C:\\Users\\Delanoue\\Anaconda3\\envs\\env_py36\\lib\\site-packages\\sklearn\\utils\\validation.py:761: DataConversionWarning:\n",
      "\n",
      "A column-vector y was passed when a 1d array was expected. Please change the shape of y to (n_samples, ), for example using ravel().\n",
      "\n",
      "C:\\Users\\Delanoue\\Anaconda3\\envs\\env_py36\\lib\\site-packages\\sklearn\\utils\\validation.py:761: DataConversionWarning:\n",
      "\n",
      "A column-vector y was passed when a 1d array was expected. Please change the shape of y to (n_samples, ), for example using ravel().\n",
      "\n",
      "C:\\Users\\Delanoue\\Anaconda3\\envs\\env_py36\\lib\\site-packages\\sklearn\\utils\\validation.py:761: DataConversionWarning:\n",
      "\n",
      "A column-vector y was passed when a 1d array was expected. Please change the shape of y to (n_samples, ), for example using ravel().\n",
      "\n",
      "C:\\Users\\Delanoue\\Anaconda3\\envs\\env_py36\\lib\\site-packages\\sklearn\\utils\\validation.py:761: DataConversionWarning:\n",
      "\n",
      "A column-vector y was passed when a 1d array was expected. Please change the shape of y to (n_samples, ), for example using ravel().\n",
      "\n"
     ]
    },
    {
     "name": "stdout",
     "output_type": "stream",
     "text": [
      "I am done learning :D\n",
      "Wall time: 25.1 s\n"
     ]
    }
   ],
   "source": [
    "%%time\n",
    "et_oof_train, et_oof_test = get_oof(\n",
    "    et, X_train, y_train, X_test)  # Extra Trees\n",
    "rf_oof_train, rf_oof_test = get_oof(\n",
    "    rf, X_train, y_train, X_test)  # Random Forest\n",
    "ada_oof_train, ada_oof_test = get_oof(\n",
    "    ada, X_train, y_train, X_test)  # AdaBoost\n",
    "gb_oof_train, gb_oof_test = get_oof(\n",
    "    gb, X_train, y_train, X_test)  # Gradient Boost\n",
    "\n",
    "print(\"I am done learning :D\")"
   ]
  },
  {
   "cell_type": "code",
   "execution_count": 26,
   "metadata": {},
   "outputs": [
    {
     "name": "stderr",
     "output_type": "stream",
     "text": [
      "C:\\Users\\Delanoue\\Anaconda3\\envs\\env_py36\\lib\\site-packages\\ipykernel_launcher.py:16: DataConversionWarning:\n",
      "\n",
      "A column-vector y was passed when a 1d array was expected. Please change the shape of y to (n_samples,), for example using ravel().\n",
      "\n",
      "C:\\Users\\Delanoue\\Anaconda3\\envs\\env_py36\\lib\\site-packages\\sklearn\\ensemble\\forest.py:308: UserWarning:\n",
      "\n",
      "Warm-start fitting without increasing n_estimators does not fit new trees.\n",
      "\n",
      "C:\\Users\\Delanoue\\Anaconda3\\envs\\env_py36\\lib\\site-packages\\ipykernel_launcher.py:16: DataConversionWarning:\n",
      "\n",
      "A column-vector y was passed when a 1d array was expected. Please change the shape of y to (n_samples,), for example using ravel().\n",
      "\n",
      "C:\\Users\\Delanoue\\Anaconda3\\envs\\env_py36\\lib\\site-packages\\sklearn\\utils\\validation.py:761: DataConversionWarning:\n",
      "\n",
      "A column-vector y was passed when a 1d array was expected. Please change the shape of y to (n_samples, ), for example using ravel().\n",
      "\n",
      "C:\\Users\\Delanoue\\Anaconda3\\envs\\env_py36\\lib\\site-packages\\sklearn\\utils\\validation.py:761: DataConversionWarning:\n",
      "\n",
      "A column-vector y was passed when a 1d array was expected. Please change the shape of y to (n_samples, ), for example using ravel().\n",
      "\n"
     ]
    }
   ],
   "source": [
    "rf_feature = rf.feature_importances(X_train, y_train)\n",
    "et_feature = et.feature_importances(X_train, y_train)\n",
    "ada_feature = ada.feature_importances(X_train, y_train)\n",
    "gb_feature = gb.feature_importances(X_train, y_train)\n",
    "\n",
    "# On met plutot dans un dataFrame\n",
    "feature_dataframe = pd.DataFrame({'features': cols,\n",
    "                                  'Random Forest Importance des features': rf_feature,\n",
    "                                  'Extra Trees Importance des features': et_feature,\n",
    "                                  'AdaBoost Importance des features': ada_feature,\n",
    "                                  'Gradient Boost Importance des features': gb_feature\n",
    "                                  })"
   ]
  },
  {
   "cell_type": "code",
   "execution_count": 27,
   "metadata": {},
   "outputs": [],
   "source": [
    "rf_pred = rf.predict(X_test)\n",
    "et_pred = et.predict(X_test)\n",
    "ada_pred = ada.predict(X_test)\n",
    "gb_pred = gb.predict(X_test)"
   ]
  },
  {
   "cell_type": "markdown",
   "metadata": {},
   "source": [
    "## Résultats"
   ]
  },
  {
   "cell_type": "markdown",
   "metadata": {},
   "source": [
    "#### For the ones who forgot : \n",
    "\n",
    "##### Compute the precision\n",
    "\n",
    "The precision is the ratio tp / (tp + fp) where tp is the number of true positives and fp the number of false positives. The precision is intuitively the ability of the classifier not to label as positive a sample that is negative.\n",
    "\n",
    "The best value is 1 and the worst value is 0.\n",
    "\n",
    "##### Compute the recall\n",
    "\n",
    "The recall is the ratio tp / (tp + fn) where tp is the number of true positives and fn the number of false negatives. The recall is intuitively the ability of the classifier to find all the positive samples.\n",
    "\n",
    "The best value is 1 and the worst value is 0.\n",
    "\n",
    "##### F1 score\n",
    "The F1 score can be interpreted as a weighted average of the precision and recall, where an F1 score reaches its best value at 1 and worst score at 0. The relative contribution of precision and recall to the F1 score are equal. The formula for the F1 score is:\n",
    "\n",
    "F1 = 2 (precision recall) / (precision + recall)\n",
    "\n",
    "The support is the number of occurrences of each class in y_true"
   ]
  },
  {
   "cell_type": "markdown",
   "metadata": {},
   "source": [
    "### Random Forest"
   ]
  },
  {
   "cell_type": "code",
   "execution_count": 28,
   "metadata": {},
   "outputs": [
    {
     "name": "stdout",
     "output_type": "stream",
     "text": [
      "Accuracy :\n",
      "0.6435643564356436\n"
     ]
    }
   ],
   "source": [
    "print(\"Accuracy :\")\n",
    "print(metrics.accuracy_score(rf_pred, y_test))"
   ]
  },
  {
   "cell_type": "code",
   "execution_count": 29,
   "metadata": {},
   "outputs": [
    {
     "name": "stdout",
     "output_type": "stream",
     "text": [
      "              precision    recall  f1-score   support\n",
      "\n",
      "           0       0.71      0.69      0.70        61\n",
      "           1       0.55      0.57      0.56        40\n",
      "\n",
      "   micro avg       0.64      0.64      0.64       101\n",
      "   macro avg       0.63      0.63      0.63       101\n",
      "weighted avg       0.65      0.64      0.64       101\n",
      "\n"
     ]
    }
   ],
   "source": [
    "print(metrics.classification_report(rf_pred, y_test))"
   ]
  },
  {
   "cell_type": "code",
   "execution_count": 30,
   "metadata": {
    "scrolled": false
   },
   "outputs": [
    {
     "data": {
      "text/plain": [
       "<matplotlib.axes._subplots.AxesSubplot at 0x2483c1f5320>"
      ]
     },
     "execution_count": 30,
     "metadata": {},
     "output_type": "execute_result"
    },
    {
     "data": {
      "image/png": "[encoded data removed]",
      "text/plain": [
       "<Figure size 504x432 with 2 Axes>"
      ]
     },
     "metadata": {
      "needs_background": "light"
     },
     "output_type": "display_data"
    }
   ],
   "source": [
    "colormap = plt.cm.Purples\n",
    "plt.figure(figsize=(7,6))\n",
    "plt.title('Matrice de confusion Proba Random Forest', y=1.05, size=15)\n",
    "sns.heatmap(confusion_matrix(y_test, rf_pred)/ntest,linewidths=0.1, \n",
    "            square=True, cmap=colormap, linecolor='white', annot=True,\n",
    "           vmin=0, vmax=0.6)"
   ]
  },
  {
   "cell_type": "code",
   "execution_count": 31,
   "metadata": {},
   "outputs": [
    {
     "data": {
      "application/vnd.plotly.v1+json": {
       "config": {
        "linkText": "Export to plot.ly",
        "plotlyServerURL": "https://plot.ly",
        "showLink": false
       },
       "data": [
        {
         "marker": {
          "color": [
           0.06233491786391007,
           0.07526432779941447,
           0.08695093229979224,
           0.04963147038518512,
           0.05583701780218163,
           0.08058249460718507,
           0.09114374693036643,
           0.06572718795141519,
           0.05968665883201925,
           0.05445571776233195,
           0.055376163222076315,
           0.042607811423576454,
           0.0518342000448445,
           0.05459014510147319,
           0.01917707123895738,
           0.09480013673527063
          ],
          "colorscale": "Portland",
          "showscale": true,
          "size": 25,
          "sizemode": "diameter",
          "sizeref": 1
         },
         "mode": "markers",
         "text": [
          "FiO2_std",
          "ETCO2_mean",
          "LAS",
          "PASm_max",
          "PEEPtotal_mean",
          "PEEPtotal_std",
          "Temp_mean",
          "Poids",
          "FC_std",
          "SpO2_std",
          "PAPsys_max",
          "PAPsys_std",
          "FiO2_mean",
          "SpO2_mean",
          "BIS SR_std",
          "PASs_mean"
         ],
         "type": "scatter",
         "uid": "df7780df-5f57-40fc-ae13-9f30a8e2f61f",
         "x": [
          "FiO2_std",
          "ETCO2_mean",
          "LAS",
          "PASm_max",
          "PEEPtotal_mean",
          "PEEPtotal_std",
          "Temp_mean",
          "Poids",
          "FC_std",
          "SpO2_std",
          "PAPsys_max",
          "PAPsys_std",
          "FiO2_mean",
          "SpO2_mean",
          "BIS SR_std",
          "PASs_mean"
         ],
         "y": [
          0.06233491786391007,
          0.07526432779941447,
          0.08695093229979224,
          0.04963147038518512,
          0.05583701780218163,
          0.08058249460718507,
          0.09114374693036643,
          0.06572718795141519,
          0.05968665883201925,
          0.05445571776233195,
          0.055376163222076315,
          0.042607811423576454,
          0.0518342000448445,
          0.05459014510147319,
          0.01917707123895738,
          0.09480013673527063
         ]
        }
       ],
       "layout": {
        "autosize": true,
        "hovermode": "closest",
        "showlegend": false,
        "title": {
         "text": "Random Forest Importance des features"
        },
        "yaxis": {
         "gridwidth": 2,
         "ticklen": 5,
         "title": {
          "text": "Importance des features"
         }
        }
       }
      },
      "text/html": [
       "<div id=\"b9a6c180-adaa-4888-bae2-222961adb757\" style=\"height: 525px; width: 100%;\" class=\"plotly-graph-div\"></div><script type=\"text/javascript\">require([\"plotly\"], function(Plotly) { window.PLOTLYENV=window.PLOTLYENV || {};window.PLOTLYENV.BASE_URL=\"https://plot.ly\";Plotly.newPlot(\"b9a6c180-adaa-4888-bae2-222961adb757\", [{\"marker\": {\"color\": [0.06233491786391007, 0.07526432779941447, 0.08695093229979224, 0.04963147038518512, 0.05583701780218163, 0.08058249460718507, 0.09114374693036643, 0.06572718795141519, 0.05968665883201925, 0.05445571776233195, 0.055376163222076315, 0.042607811423576454, 0.0518342000448445, 0.05459014510147319, 0.01917707123895738, 0.09480013673527063], \"colorscale\": \"Portland\", \"showscale\": true, \"size\": 25, \"sizemode\": \"diameter\", \"sizeref\": 1}, \"mode\": \"markers\", \"text\": [\"FiO2_std\", \"ETCO2_mean\", \"LAS\", \"PASm_max\", \"PEEPtotal_mean\", \"PEEPtotal_std\", \"Temp_mean\", \"Poids\", \"FC_std\", \"SpO2_std\", \"PAPsys_max\", \"PAPsys_std\", \"FiO2_mean\", \"SpO2_mean\", \"BIS SR_std\", \"PASs_mean\"], \"x\": [\"FiO2_std\", \"ETCO2_mean\", \"LAS\", \"PASm_max\", \"PEEPtotal_mean\", \"PEEPtotal_std\", \"Temp_mean\", \"Poids\", \"FC_std\", \"SpO2_std\", \"PAPsys_max\", \"PAPsys_std\", \"FiO2_mean\", \"SpO2_mean\", \"BIS SR_std\", \"PASs_mean\"], \"y\": [0.06233491786391007, 0.07526432779941447, 0.08695093229979224, 0.04963147038518512, 0.05583701780218163, 0.08058249460718507, 0.09114374693036643, 0.06572718795141519, 0.05968665883201925, 0.05445571776233195, 0.055376163222076315, 0.042607811423576454, 0.0518342000448445, 0.05459014510147319, 0.01917707123895738, 0.09480013673527063], \"type\": \"scatter\", \"uid\": \"df7780df-5f57-40fc-ae13-9f30a8e2f61f\"}], {\"autosize\": true, \"hovermode\": \"closest\", \"showlegend\": false, \"title\": {\"text\": \"Random Forest Importance des features\"}, \"yaxis\": {\"gridwidth\": 2, \"ticklen\": 5, \"title\": {\"text\": \"Importance des features\"}}}, {\"showLink\": false, \"linkText\": \"Export to plot.ly\", \"plotlyServerURL\": \"https://plot.ly\"})});</script><script type=\"text/javascript\">window.addEventListener(\"resize\", function(){window._Plotly.Plots.resize(document.getElementById(\"b9a6c180-adaa-4888-bae2-222961adb757\"));});</script>"
      ],
      "text/vnd.plotly.v1+html": [
       "<div id=\"b9a6c180-adaa-4888-bae2-222961adb757\" style=\"height: 525px; width: 100%;\" class=\"plotly-graph-div\"></div><script type=\"text/javascript\">require([\"plotly\"], function(Plotly) { window.PLOTLYENV=window.PLOTLYENV || {};window.PLOTLYENV.BASE_URL=\"https://plot.ly\";Plotly.newPlot(\"b9a6c180-adaa-4888-bae2-222961adb757\", [{\"marker\": {\"color\": [0.06233491786391007, 0.07526432779941447, 0.08695093229979224, 0.04963147038518512, 0.05583701780218163, 0.08058249460718507, 0.09114374693036643, 0.06572718795141519, 0.05968665883201925, 0.05445571776233195, 0.055376163222076315, 0.042607811423576454, 0.0518342000448445, 0.05459014510147319, 0.01917707123895738, 0.09480013673527063], \"colorscale\": \"Portland\", \"showscale\": true, \"size\": 25, \"sizemode\": \"diameter\", \"sizeref\": 1}, \"mode\": \"markers\", \"text\": [\"FiO2_std\", \"ETCO2_mean\", \"LAS\", \"PASm_max\", \"PEEPtotal_mean\", \"PEEPtotal_std\", \"Temp_mean\", \"Poids\", \"FC_std\", \"SpO2_std\", \"PAPsys_max\", \"PAPsys_std\", \"FiO2_mean\", \"SpO2_mean\", \"BIS SR_std\", \"PASs_mean\"], \"x\": [\"FiO2_std\", \"ETCO2_mean\", \"LAS\", \"PASm_max\", \"PEEPtotal_mean\", \"PEEPtotal_std\", \"Temp_mean\", \"Poids\", \"FC_std\", \"SpO2_std\", \"PAPsys_max\", \"PAPsys_std\", \"FiO2_mean\", \"SpO2_mean\", \"BIS SR_std\", \"PASs_mean\"], \"y\": [0.06233491786391007, 0.07526432779941447, 0.08695093229979224, 0.04963147038518512, 0.05583701780218163, 0.08058249460718507, 0.09114374693036643, 0.06572718795141519, 0.05968665883201925, 0.05445571776233195, 0.055376163222076315, 0.042607811423576454, 0.0518342000448445, 0.05459014510147319, 0.01917707123895738, 0.09480013673527063], \"type\": \"scatter\", \"uid\": \"df7780df-5f57-40fc-ae13-9f30a8e2f61f\"}], {\"autosize\": true, \"hovermode\": \"closest\", \"showlegend\": false, \"title\": {\"text\": \"Random Forest Importance des features\"}, \"yaxis\": {\"gridwidth\": 2, \"ticklen\": 5, \"title\": {\"text\": \"Importance des features\"}}}, {\"showLink\": false, \"linkText\": \"Export to plot.ly\", \"plotlyServerURL\": \"https://plot.ly\"})});</script><script type=\"text/javascript\">window.addEventListener(\"resize\", function(){window._Plotly.Plots.resize(document.getElementById(\"b9a6c180-adaa-4888-bae2-222961adb757\"));});</script>"
      ]
     },
     "metadata": {},
     "output_type": "display_data"
    }
   ],
   "source": [
    "trace = go.Scatter(x=feature_dataframe['features'].values,\n",
    "                   y=feature_dataframe['Random Forest Importance des features'].values,\n",
    "\n",
    "                   mode='markers',\n",
    "                   marker=dict(\n",
    "    sizemode='diameter',\n",
    "    sizeref=1,\n",
    "    size=25,\n",
    "    # color = np.random.randn(500), #set color equal to a variable\n",
    "    color=feature_dataframe['Random Forest Importance des features'].values,\n",
    "    colorscale='Portland',\n",
    "    showscale=True\n",
    "),\n",
    "    text=feature_dataframe['features'].values\n",
    ")\n",
    "\n",
    "data = [trace]\n",
    "\n",
    "layout = go.Layout(\n",
    "    autosize=True,\n",
    "    title='Random Forest Importance des features',\n",
    "    hovermode='closest',\n",
    "    yaxis=dict(\n",
    "        title='Importance des features',\n",
    "        ticklen=5,\n",
    "        gridwidth=2\n",
    "    ),\n",
    "    showlegend=False\n",
    ")\n",
    "\n",
    "fig = go.Figure(data=data, layout=layout)\n",
    "\n",
    "py.iplot(fig, filename='scatter2010')"
   ]
  },
  {
   "cell_type": "markdown",
   "metadata": {},
   "source": [
    "### Extra Tree"
   ]
  },
  {
   "cell_type": "code",
   "execution_count": 32,
   "metadata": {},
   "outputs": [
    {
     "name": "stdout",
     "output_type": "stream",
     "text": [
      "Accuracy :\n",
      "0.6534653465346535\n"
     ]
    }
   ],
   "source": [
    "print(\"Accuracy :\")\n",
    "print(metrics.accuracy_score(et_pred, y_test))"
   ]
  },
  {
   "cell_type": "code",
   "execution_count": 33,
   "metadata": {},
   "outputs": [
    {
     "name": "stdout",
     "output_type": "stream",
     "text": [
      "              precision    recall  f1-score   support\n",
      "\n",
      "           0       0.81      0.67      0.73        72\n",
      "           1       0.43      0.62      0.51        29\n",
      "\n",
      "   micro avg       0.65      0.65      0.65       101\n",
      "   macro avg       0.62      0.64      0.62       101\n",
      "weighted avg       0.70      0.65      0.67       101\n",
      "\n"
     ]
    }
   ],
   "source": [
    "print(metrics.classification_report(et_pred, y_test))"
   ]
  },
  {
   "cell_type": "code",
   "execution_count": 34,
   "metadata": {
    "scrolled": true
   },
   "outputs": [
    {
     "data": {
      "text/plain": [
       "<matplotlib.axes._subplots.AxesSubplot at 0x2483c3f3898>"
      ]
     },
     "execution_count": 34,
     "metadata": {},
     "output_type": "execute_result"
    },
    {
     "data": {
      "image/png": "[encoded data removed]",
      "text/plain": [
       "<Figure size 504x432 with 2 Axes>"
      ]
     },
     "metadata": {
      "needs_background": "light"
     },
     "output_type": "display_data"
    }
   ],
   "source": [
    "colormap = plt.cm.Purples\n",
    "plt.figure(figsize=(7,6))\n",
    "plt.title('Matrice de confusion Proba Extra Tree', y=1.05, size=15)\n",
    "sns.heatmap(confusion_matrix(y_test, et_pred)/ntest,linewidths=0.1, \n",
    "            square=True, cmap=colormap, linecolor='white', annot=True,\n",
    "           vmin=0, vmax=0.6)"
   ]
  },
  {
   "cell_type": "code",
   "execution_count": 35,
   "metadata": {},
   "outputs": [
    {
     "data": {
      "application/vnd.plotly.v1+json": {
       "config": {
        "linkText": "Export to plot.ly",
        "plotlyServerURL": "https://plot.ly",
        "showLink": false
       },
       "data": [
        {
         "marker": {
          "color": [
           0.05598863549844229,
           0.07803294218413095,
           0.08034542362886657,
           0.05452488696298623,
           0.04997541620024726,
           0.06257172246205175,
           0.07351088240548811,
           0.1042160622663054,
           0.05264776585529489,
           0.051196955991512555,
           0.05956015958113374,
           0.039430839695329206,
           0.07598885028085174,
           0.058721253295898966,
           0.04452597724624765,
           0.05876222644521265
          ],
          "colorscale": "Portland",
          "showscale": true,
          "size": 25,
          "sizemode": "diameter",
          "sizeref": 1
         },
         "mode": "markers",
         "text": [
          "FiO2_std",
          "ETCO2_mean",
          "LAS",
          "PASm_max",
          "PEEPtotal_mean",
          "PEEPtotal_std",
          "Temp_mean",
          "Poids",
          "FC_std",
          "SpO2_std",
          "PAPsys_max",
          "PAPsys_std",
          "FiO2_mean",
          "SpO2_mean",
          "BIS SR_std",
          "PASs_mean"
         ],
         "type": "scatter",
         "uid": "f31b6314-69e1-46d7-aee2-79d28e1d6664",
         "x": [
          "FiO2_std",
          "ETCO2_mean",
          "LAS",
          "PASm_max",
          "PEEPtotal_mean",
          "PEEPtotal_std",
          "Temp_mean",
          "Poids",
          "FC_std",
          "SpO2_std",
          "PAPsys_max",
          "PAPsys_std",
          "FiO2_mean",
          "SpO2_mean",
          "BIS SR_std",
          "PASs_mean"
         ],
         "y": [
          0.05598863549844229,
          0.07803294218413095,
          0.08034542362886657,
          0.05452488696298623,
          0.04997541620024726,
          0.06257172246205175,
          0.07351088240548811,
          0.1042160622663054,
          0.05264776585529489,
          0.051196955991512555,
          0.05956015958113374,
          0.039430839695329206,
          0.07598885028085174,
          0.058721253295898966,
          0.04452597724624765,
          0.05876222644521265
         ]
        }
       ],
       "layout": {
        "autosize": true,
        "hovermode": "closest",
        "showlegend": false,
        "title": {
         "text": "Extra Trees Importance des features"
        },
        "yaxis": {
         "gridwidth": 2,
         "ticklen": 5,
         "title": {
          "text": "Importance des features"
         }
        }
       }
      },
      "text/html": [
       "<div id=\"be2cfc93-f8a1-4065-863f-9a4b46cbc14d\" style=\"height: 525px; width: 100%;\" class=\"plotly-graph-div\"></div><script type=\"text/javascript\">require([\"plotly\"], function(Plotly) { window.PLOTLYENV=window.PLOTLYENV || {};window.PLOTLYENV.BASE_URL=\"https://plot.ly\";Plotly.newPlot(\"be2cfc93-f8a1-4065-863f-9a4b46cbc14d\", [{\"marker\": {\"color\": [0.05598863549844229, 0.07803294218413095, 0.08034542362886657, 0.05452488696298623, 0.04997541620024726, 0.06257172246205175, 0.07351088240548811, 0.1042160622663054, 0.05264776585529489, 0.051196955991512555, 0.05956015958113374, 0.039430839695329206, 0.07598885028085174, 0.058721253295898966, 0.04452597724624765, 0.05876222644521265], \"colorscale\": \"Portland\", \"showscale\": true, \"size\": 25, \"sizemode\": \"diameter\", \"sizeref\": 1}, \"mode\": \"markers\", \"text\": [\"FiO2_std\", \"ETCO2_mean\", \"LAS\", \"PASm_max\", \"PEEPtotal_mean\", \"PEEPtotal_std\", \"Temp_mean\", \"Poids\", \"FC_std\", \"SpO2_std\", \"PAPsys_max\", \"PAPsys_std\", \"FiO2_mean\", \"SpO2_mean\", \"BIS SR_std\", \"PASs_mean\"], \"x\": [\"FiO2_std\", \"ETCO2_mean\", \"LAS\", \"PASm_max\", \"PEEPtotal_mean\", \"PEEPtotal_std\", \"Temp_mean\", \"Poids\", \"FC_std\", \"SpO2_std\", \"PAPsys_max\", \"PAPsys_std\", \"FiO2_mean\", \"SpO2_mean\", \"BIS SR_std\", \"PASs_mean\"], \"y\": [0.05598863549844229, 0.07803294218413095, 0.08034542362886657, 0.05452488696298623, 0.04997541620024726, 0.06257172246205175, 0.07351088240548811, 0.1042160622663054, 0.05264776585529489, 0.051196955991512555, 0.05956015958113374, 0.039430839695329206, 0.07598885028085174, 0.058721253295898966, 0.04452597724624765, 0.05876222644521265], \"type\": \"scatter\", \"uid\": \"f31b6314-69e1-46d7-aee2-79d28e1d6664\"}], {\"autosize\": true, \"hovermode\": \"closest\", \"showlegend\": false, \"title\": {\"text\": \"Extra Trees Importance des features\"}, \"yaxis\": {\"gridwidth\": 2, \"ticklen\": 5, \"title\": {\"text\": \"Importance des features\"}}}, {\"showLink\": false, \"linkText\": \"Export to plot.ly\", \"plotlyServerURL\": \"https://plot.ly\"})});</script><script type=\"text/javascript\">window.addEventListener(\"resize\", function(){window._Plotly.Plots.resize(document.getElementById(\"be2cfc93-f8a1-4065-863f-9a4b46cbc14d\"));});</script>"
      ],
      "text/vnd.plotly.v1+html": [
       "<div id=\"be2cfc93-f8a1-4065-863f-9a4b46cbc14d\" style=\"height: 525px; width: 100%;\" class=\"plotly-graph-div\"></div><script type=\"text/javascript\">require([\"plotly\"], function(Plotly) { window.PLOTLYENV=window.PLOTLYENV || {};window.PLOTLYENV.BASE_URL=\"https://plot.ly\";Plotly.newPlot(\"be2cfc93-f8a1-4065-863f-9a4b46cbc14d\", [{\"marker\": {\"color\": [0.05598863549844229, 0.07803294218413095, 0.08034542362886657, 0.05452488696298623, 0.04997541620024726, 0.06257172246205175, 0.07351088240548811, 0.1042160622663054, 0.05264776585529489, 0.051196955991512555, 0.05956015958113374, 0.039430839695329206, 0.07598885028085174, 0.058721253295898966, 0.04452597724624765, 0.05876222644521265], \"colorscale\": \"Portland\", \"showscale\": true, \"size\": 25, \"sizemode\": \"diameter\", \"sizeref\": 1}, \"mode\": \"markers\", \"text\": [\"FiO2_std\", \"ETCO2_mean\", \"LAS\", \"PASm_max\", \"PEEPtotal_mean\", \"PEEPtotal_std\", \"Temp_mean\", \"Poids\", \"FC_std\", \"SpO2_std\", \"PAPsys_max\", \"PAPsys_std\", \"FiO2_mean\", \"SpO2_mean\", \"BIS SR_std\", \"PASs_mean\"], \"x\": [\"FiO2_std\", \"ETCO2_mean\", \"LAS\", \"PASm_max\", \"PEEPtotal_mean\", \"PEEPtotal_std\", \"Temp_mean\", \"Poids\", \"FC_std\", \"SpO2_std\", \"PAPsys_max\", \"PAPsys_std\", \"FiO2_mean\", \"SpO2_mean\", \"BIS SR_std\", \"PASs_mean\"], \"y\": [0.05598863549844229, 0.07803294218413095, 0.08034542362886657, 0.05452488696298623, 0.04997541620024726, 0.06257172246205175, 0.07351088240548811, 0.1042160622663054, 0.05264776585529489, 0.051196955991512555, 0.05956015958113374, 0.039430839695329206, 0.07598885028085174, 0.058721253295898966, 0.04452597724624765, 0.05876222644521265], \"type\": \"scatter\", \"uid\": \"f31b6314-69e1-46d7-aee2-79d28e1d6664\"}], {\"autosize\": true, \"hovermode\": \"closest\", \"showlegend\": false, \"title\": {\"text\": \"Extra Trees Importance des features\"}, \"yaxis\": {\"gridwidth\": 2, \"ticklen\": 5, \"title\": {\"text\": \"Importance des features\"}}}, {\"showLink\": false, \"linkText\": \"Export to plot.ly\", \"plotlyServerURL\": \"https://plot.ly\"})});</script><script type=\"text/javascript\">window.addEventListener(\"resize\", function(){window._Plotly.Plots.resize(document.getElementById(\"be2cfc93-f8a1-4065-863f-9a4b46cbc14d\"));});</script>"
      ]
     },
     "metadata": {},
     "output_type": "display_data"
    }
   ],
   "source": [
    "trace = go.Scatter(\n",
    "    y=feature_dataframe['Extra Trees Importance des features'].values,\n",
    "    x=feature_dataframe['features'].values,\n",
    "    mode='markers',\n",
    "    marker=dict(\n",
    "        sizemode='diameter',\n",
    "        sizeref=1,\n",
    "        size=25,\n",
    "        color=feature_dataframe['Extra Trees Importance des features'].values,\n",
    "        colorscale='Portland',\n",
    "        showscale=True\n",
    "    ),\n",
    "    text=feature_dataframe['features'].values\n",
    ")\n",
    "data = [trace]\n",
    "\n",
    "layout = go.Layout(\n",
    "    autosize=True,\n",
    "    title='Extra Trees Importance des features',\n",
    "    hovermode='closest',\n",
    "\n",
    "    yaxis=dict(\n",
    "        title='Importance des features',\n",
    "        ticklen=5,\n",
    "        gridwidth=2\n",
    "    ),\n",
    "    showlegend=False\n",
    ")\n",
    "fig = go.Figure(data=data, layout=layout)\n",
    "py.iplot(fig, filename='scatter2010')"
   ]
  },
  {
   "cell_type": "markdown",
   "metadata": {},
   "source": [
    "### Ada Boost"
   ]
  },
  {
   "cell_type": "code",
   "execution_count": 36,
   "metadata": {},
   "outputs": [
    {
     "name": "stdout",
     "output_type": "stream",
     "text": [
      "Accuracy :\n",
      "0.5148514851485149\n"
     ]
    }
   ],
   "source": [
    "print(\"Accuracy :\")\n",
    "print(metrics.accuracy_score(ada_pred, y_test))"
   ]
  },
  {
   "cell_type": "code",
   "execution_count": 37,
   "metadata": {},
   "outputs": [
    {
     "name": "stdout",
     "output_type": "stream",
     "text": [
      "              precision    recall  f1-score   support\n",
      "\n",
      "           0       0.56      0.59      0.57        56\n",
      "           1       0.45      0.42      0.44        45\n",
      "\n",
      "   micro avg       0.51      0.51      0.51       101\n",
      "   macro avg       0.51      0.51      0.51       101\n",
      "weighted avg       0.51      0.51      0.51       101\n",
      "\n"
     ]
    }
   ],
   "source": [
    "print(metrics.classification_report(ada_pred, y_test))"
   ]
  },
  {
   "cell_type": "code",
   "execution_count": 38,
   "metadata": {
    "scrolled": true
   },
   "outputs": [
    {
     "data": {
      "text/plain": [
       "<matplotlib.axes._subplots.AxesSubplot at 0x2483c901e48>"
      ]
     },
     "execution_count": 38,
     "metadata": {},
     "output_type": "execute_result"
    },
    {
     "data": {
      "image/png": "[encoded data removed]",
      "text/plain": [
       "<Figure size 504x432 with 2 Axes>"
      ]
     },
     "metadata": {
      "needs_background": "light"
     },
     "output_type": "display_data"
    }
   ],
   "source": [
    "colormap = plt.cm.Purples\n",
    "plt.figure(figsize=(7,6))\n",
    "plt.title('Matrice de confusion Proba Ada Boost', y=1.05, size=15)\n",
    "sns.heatmap(confusion_matrix(y_test, ada_pred)/ntest,linewidths=0.1, \n",
    "            square=True, cmap=colormap, linecolor='white', annot=True,\n",
    "           vmin=0, vmax=0.6)"
   ]
  },
  {
   "cell_type": "code",
   "execution_count": 39,
   "metadata": {},
   "outputs": [
    {
     "data": {
      "application/vnd.plotly.v1+json": {
       "config": {
        "linkText": "Export to plot.ly",
        "plotlyServerURL": "https://plot.ly",
        "showLink": false
       },
       "data": [
        {
         "marker": {
          "color": [
           0.074,
           0.056,
           0.054,
           0.09,
           0.058,
           0.092,
           0.07,
           0.058,
           0.062,
           0.034,
           0.032,
           0.1,
           0.048,
           0.032,
           0.024,
           0.116
          ],
          "colorscale": "Portland",
          "showscale": true,
          "size": 25,
          "sizemode": "diameter",
          "sizeref": 1
         },
         "mode": "markers",
         "text": [
          "FiO2_std",
          "ETCO2_mean",
          "LAS",
          "PASm_max",
          "PEEPtotal_mean",
          "PEEPtotal_std",
          "Temp_mean",
          "Poids",
          "FC_std",
          "SpO2_std",
          "PAPsys_max",
          "PAPsys_std",
          "FiO2_mean",
          "SpO2_mean",
          "BIS SR_std",
          "PASs_mean"
         ],
         "type": "scatter",
         "uid": "1dc4fe57-e50c-4d63-af0c-3f13b24b0b8e",
         "x": [
          "FiO2_std",
          "ETCO2_mean",
          "LAS",
          "PASm_max",
          "PEEPtotal_mean",
          "PEEPtotal_std",
          "Temp_mean",
          "Poids",
          "FC_std",
          "SpO2_std",
          "PAPsys_max",
          "PAPsys_std",
          "FiO2_mean",
          "SpO2_mean",
          "BIS SR_std",
          "PASs_mean"
         ],
         "y": [
          0.074,
          0.056,
          0.054,
          0.09,
          0.058,
          0.092,
          0.07,
          0.058,
          0.062,
          0.034,
          0.032,
          0.1,
          0.048,
          0.032,
          0.024,
          0.116
         ]
        }
       ],
       "layout": {
        "autosize": true,
        "hovermode": "closest",
        "showlegend": false,
        "title": {
         "text": "AdaBoost Importance des features"
        },
        "yaxis": {
         "gridwidth": 2,
         "ticklen": 5,
         "title": {
          "text": "Importance des features"
         }
        }
       }
      },
      "text/html": [
       "<div id=\"c54371fe-46a2-4a99-aeb4-a036fd558372\" style=\"height: 525px; width: 100%;\" class=\"plotly-graph-div\"></div><script type=\"text/javascript\">require([\"plotly\"], function(Plotly) { window.PLOTLYENV=window.PLOTLYENV || {};window.PLOTLYENV.BASE_URL=\"https://plot.ly\";Plotly.newPlot(\"c54371fe-46a2-4a99-aeb4-a036fd558372\", [{\"marker\": {\"color\": [0.074, 0.056, 0.054, 0.09, 0.058, 0.092, 0.07, 0.058, 0.062, 0.034, 0.032, 0.1, 0.048, 0.032, 0.024, 0.116], \"colorscale\": \"Portland\", \"showscale\": true, \"size\": 25, \"sizemode\": \"diameter\", \"sizeref\": 1}, \"mode\": \"markers\", \"text\": [\"FiO2_std\", \"ETCO2_mean\", \"LAS\", \"PASm_max\", \"PEEPtotal_mean\", \"PEEPtotal_std\", \"Temp_mean\", \"Poids\", \"FC_std\", \"SpO2_std\", \"PAPsys_max\", \"PAPsys_std\", \"FiO2_mean\", \"SpO2_mean\", \"BIS SR_std\", \"PASs_mean\"], \"x\": [\"FiO2_std\", \"ETCO2_mean\", \"LAS\", \"PASm_max\", \"PEEPtotal_mean\", \"PEEPtotal_std\", \"Temp_mean\", \"Poids\", \"FC_std\", \"SpO2_std\", \"PAPsys_max\", \"PAPsys_std\", \"FiO2_mean\", \"SpO2_mean\", \"BIS SR_std\", \"PASs_mean\"], \"y\": [0.074, 0.056, 0.054, 0.09, 0.058, 0.092, 0.07, 0.058, 0.062, 0.034, 0.032, 0.1, 0.048, 0.032, 0.024, 0.116], \"type\": \"scatter\", \"uid\": \"1dc4fe57-e50c-4d63-af0c-3f13b24b0b8e\"}], {\"autosize\": true, \"hovermode\": \"closest\", \"showlegend\": false, \"title\": {\"text\": \"AdaBoost Importance des features\"}, \"yaxis\": {\"gridwidth\": 2, \"ticklen\": 5, \"title\": {\"text\": \"Importance des features\"}}}, {\"showLink\": false, \"linkText\": \"Export to plot.ly\", \"plotlyServerURL\": \"https://plot.ly\"})});</script><script type=\"text/javascript\">window.addEventListener(\"resize\", function(){window._Plotly.Plots.resize(document.getElementById(\"c54371fe-46a2-4a99-aeb4-a036fd558372\"));});</script>"
      ],
      "text/vnd.plotly.v1+html": [
       "<div id=\"c54371fe-46a2-4a99-aeb4-a036fd558372\" style=\"height: 525px; width: 100%;\" class=\"plotly-graph-div\"></div><script type=\"text/javascript\">require([\"plotly\"], function(Plotly) { window.PLOTLYENV=window.PLOTLYENV || {};window.PLOTLYENV.BASE_URL=\"https://plot.ly\";Plotly.newPlot(\"c54371fe-46a2-4a99-aeb4-a036fd558372\", [{\"marker\": {\"color\": [0.074, 0.056, 0.054, 0.09, 0.058, 0.092, 0.07, 0.058, 0.062, 0.034, 0.032, 0.1, 0.048, 0.032, 0.024, 0.116], \"colorscale\": \"Portland\", \"showscale\": true, \"size\": 25, \"sizemode\": \"diameter\", \"sizeref\": 1}, \"mode\": \"markers\", \"text\": [\"FiO2_std\", \"ETCO2_mean\", \"LAS\", \"PASm_max\", \"PEEPtotal_mean\", \"PEEPtotal_std\", \"Temp_mean\", \"Poids\", \"FC_std\", \"SpO2_std\", \"PAPsys_max\", \"PAPsys_std\", \"FiO2_mean\", \"SpO2_mean\", \"BIS SR_std\", \"PASs_mean\"], \"x\": [\"FiO2_std\", \"ETCO2_mean\", \"LAS\", \"PASm_max\", \"PEEPtotal_mean\", \"PEEPtotal_std\", \"Temp_mean\", \"Poids\", \"FC_std\", \"SpO2_std\", \"PAPsys_max\", \"PAPsys_std\", \"FiO2_mean\", \"SpO2_mean\", \"BIS SR_std\", \"PASs_mean\"], \"y\": [0.074, 0.056, 0.054, 0.09, 0.058, 0.092, 0.07, 0.058, 0.062, 0.034, 0.032, 0.1, 0.048, 0.032, 0.024, 0.116], \"type\": \"scatter\", \"uid\": \"1dc4fe57-e50c-4d63-af0c-3f13b24b0b8e\"}], {\"autosize\": true, \"hovermode\": \"closest\", \"showlegend\": false, \"title\": {\"text\": \"AdaBoost Importance des features\"}, \"yaxis\": {\"gridwidth\": 2, \"ticklen\": 5, \"title\": {\"text\": \"Importance des features\"}}}, {\"showLink\": false, \"linkText\": \"Export to plot.ly\", \"plotlyServerURL\": \"https://plot.ly\"})});</script><script type=\"text/javascript\">window.addEventListener(\"resize\", function(){window._Plotly.Plots.resize(document.getElementById(\"c54371fe-46a2-4a99-aeb4-a036fd558372\"));});</script>"
      ]
     },
     "metadata": {},
     "output_type": "display_data"
    }
   ],
   "source": [
    "trace = go.Scatter(\n",
    "    y=feature_dataframe['AdaBoost Importance des features'].values,\n",
    "    x=feature_dataframe['features'].values,\n",
    "    mode='markers',\n",
    "    marker=dict(\n",
    "        sizemode='diameter',\n",
    "        sizeref=1,\n",
    "        size=25,\n",
    "        color=feature_dataframe['AdaBoost Importance des features'].values,\n",
    "        colorscale='Portland',\n",
    "        showscale=True\n",
    "    ),\n",
    "    text=feature_dataframe['features'].values\n",
    ")\n",
    "data = [trace]\n",
    "\n",
    "layout = go.Layout(\n",
    "    autosize=True,\n",
    "    title='AdaBoost Importance des features',\n",
    "    hovermode='closest',\n",
    "    yaxis=dict(\n",
    "        title='Importance des features',\n",
    "        ticklen=5,\n",
    "        gridwidth=2\n",
    "    ),\n",
    "    showlegend=False\n",
    ")\n",
    "fig = go.Figure(data=data, layout=layout)\n",
    "py.iplot(fig, filename='scatter2010')"
   ]
  },
  {
   "cell_type": "markdown",
   "metadata": {},
   "source": [
    "### Gradient Boost"
   ]
  },
  {
   "cell_type": "code",
   "execution_count": 40,
   "metadata": {},
   "outputs": [
    {
     "name": "stdout",
     "output_type": "stream",
     "text": [
      "Accuracy :\n",
      "0.5742574257425742\n"
     ]
    }
   ],
   "source": [
    "print(\"Accuracy :\")\n",
    "print(metrics.accuracy_score(gb_pred, y_test))"
   ]
  },
  {
   "cell_type": "code",
   "execution_count": 41,
   "metadata": {},
   "outputs": [
    {
     "name": "stdout",
     "output_type": "stream",
     "text": [
      "              precision    recall  f1-score   support\n",
      "\n",
      "           0       0.66      0.63      0.64        62\n",
      "           1       0.45      0.49      0.47        39\n",
      "\n",
      "   micro avg       0.57      0.57      0.57       101\n",
      "   macro avg       0.56      0.56      0.56       101\n",
      "weighted avg       0.58      0.57      0.58       101\n",
      "\n"
     ]
    }
   ],
   "source": [
    "print(metrics.classification_report(gb_pred, y_test))"
   ]
  },
  {
   "cell_type": "code",
   "execution_count": 42,
   "metadata": {
    "scrolled": true
   },
   "outputs": [
    {
     "data": {
      "text/plain": [
       "<matplotlib.axes._subplots.AxesSubplot at 0x2483cbe6fd0>"
      ]
     },
     "execution_count": 42,
     "metadata": {},
     "output_type": "execute_result"
    },
    {
     "data": {
      "image/png": "[encoded data removed]",
      "text/plain": [
       "<Figure size 504x432 with 2 Axes>"
      ]
     },
     "metadata": {
      "needs_background": "light"
     },
     "output_type": "display_data"
    }
   ],
   "source": [
    "colormap = plt.cm.Purples\n",
    "plt.figure(figsize=(7,6))\n",
    "plt.title('Matrice de confusion Proba Gradient Boost', y=1.05, size=15)\n",
    "sns.heatmap(confusion_matrix(y_test, gb_pred)/ntest,linewidths=0.1, \n",
    "            square=True, cmap=colormap, linecolor='white', annot=True,\n",
    "           vmin=0, vmax=0.6)"
   ]
  },
  {
   "cell_type": "code",
   "execution_count": 43,
   "metadata": {},
   "outputs": [
    {
     "data": {
      "application/vnd.plotly.v1+json": {
       "config": {
        "linkText": "Export to plot.ly",
        "plotlyServerURL": "https://plot.ly",
        "showLink": false
       },
       "data": [
        {
         "marker": {
          "color": [
           0.07467276371007249,
           0.08260852216193229,
           0.05919655799729524,
           0.04229542784339454,
           0.04527652497377164,
           0.08158907675233171,
           0.108607645422558,
           0.07467527024597924,
           0.0606110600450391,
           0.047836126864144075,
           0.042242155123392265,
           0.027478633680962723,
           0.0605503514073184,
           0.06782644915311045,
           0.01295613897997066,
           0.11157729563872724
          ],
          "colorscale": "Portland",
          "showscale": true,
          "size": 25,
          "sizemode": "diameter",
          "sizeref": 1
         },
         "mode": "markers",
         "text": [
          "FiO2_std",
          "ETCO2_mean",
          "LAS",
          "PASm_max",
          "PEEPtotal_mean",
          "PEEPtotal_std",
          "Temp_mean",
          "Poids",
          "FC_std",
          "SpO2_std",
          "PAPsys_max",
          "PAPsys_std",
          "FiO2_mean",
          "SpO2_mean",
          "BIS SR_std",
          "PASs_mean"
         ],
         "type": "scatter",
         "uid": "35a47e53-c298-4156-b83b-949f1dec34c2",
         "x": [
          "FiO2_std",
          "ETCO2_mean",
          "LAS",
          "PASm_max",
          "PEEPtotal_mean",
          "PEEPtotal_std",
          "Temp_mean",
          "Poids",
          "FC_std",
          "SpO2_std",
          "PAPsys_max",
          "PAPsys_std",
          "FiO2_mean",
          "SpO2_mean",
          "BIS SR_std",
          "PASs_mean"
         ],
         "y": [
          0.07467276371007249,
          0.08260852216193229,
          0.05919655799729524,
          0.04229542784339454,
          0.04527652497377164,
          0.08158907675233171,
          0.108607645422558,
          0.07467527024597924,
          0.0606110600450391,
          0.047836126864144075,
          0.042242155123392265,
          0.027478633680962723,
          0.0605503514073184,
          0.06782644915311045,
          0.01295613897997066,
          0.11157729563872724
         ]
        }
       ],
       "layout": {
        "autosize": true,
        "hovermode": "closest",
        "showlegend": false,
        "title": {
         "text": "Gradient Boosting Importance des features"
        },
        "yaxis": {
         "gridwidth": 2,
         "ticklen": 5,
         "title": {
          "text": "Importance des features"
         }
        }
       }
      },
      "text/html": [
       "<div id=\"5e2ab325-4e35-457c-b801-6bd892d5cf55\" style=\"height: 525px; width: 100%;\" class=\"plotly-graph-div\"></div><script type=\"text/javascript\">require([\"plotly\"], function(Plotly) { window.PLOTLYENV=window.PLOTLYENV || {};window.PLOTLYENV.BASE_URL=\"https://plot.ly\";Plotly.newPlot(\"5e2ab325-4e35-457c-b801-6bd892d5cf55\", [{\"marker\": {\"color\": [0.07467276371007249, 0.08260852216193229, 0.05919655799729524, 0.04229542784339454, 0.04527652497377164, 0.08158907675233171, 0.108607645422558, 0.07467527024597924, 0.0606110600450391, 0.047836126864144075, 0.042242155123392265, 0.027478633680962723, 0.0605503514073184, 0.06782644915311045, 0.01295613897997066, 0.11157729563872724], \"colorscale\": \"Portland\", \"showscale\": true, \"size\": 25, \"sizemode\": \"diameter\", \"sizeref\": 1}, \"mode\": \"markers\", \"text\": [\"FiO2_std\", \"ETCO2_mean\", \"LAS\", \"PASm_max\", \"PEEPtotal_mean\", \"PEEPtotal_std\", \"Temp_mean\", \"Poids\", \"FC_std\", \"SpO2_std\", \"PAPsys_max\", \"PAPsys_std\", \"FiO2_mean\", \"SpO2_mean\", \"BIS SR_std\", \"PASs_mean\"], \"x\": [\"FiO2_std\", \"ETCO2_mean\", \"LAS\", \"PASm_max\", \"PEEPtotal_mean\", \"PEEPtotal_std\", \"Temp_mean\", \"Poids\", \"FC_std\", \"SpO2_std\", \"PAPsys_max\", \"PAPsys_std\", \"FiO2_mean\", \"SpO2_mean\", \"BIS SR_std\", \"PASs_mean\"], \"y\": [0.07467276371007249, 0.08260852216193229, 0.05919655799729524, 0.04229542784339454, 0.04527652497377164, 0.08158907675233171, 0.108607645422558, 0.07467527024597924, 0.0606110600450391, 0.047836126864144075, 0.042242155123392265, 0.027478633680962723, 0.0605503514073184, 0.06782644915311045, 0.01295613897997066, 0.11157729563872724], \"type\": \"scatter\", \"uid\": \"35a47e53-c298-4156-b83b-949f1dec34c2\"}], {\"autosize\": true, \"hovermode\": \"closest\", \"showlegend\": false, \"title\": {\"text\": \"Gradient Boosting Importance des features\"}, \"yaxis\": {\"gridwidth\": 2, \"ticklen\": 5, \"title\": {\"text\": \"Importance des features\"}}}, {\"showLink\": false, \"linkText\": \"Export to plot.ly\", \"plotlyServerURL\": \"https://plot.ly\"})});</script><script type=\"text/javascript\">window.addEventListener(\"resize\", function(){window._Plotly.Plots.resize(document.getElementById(\"5e2ab325-4e35-457c-b801-6bd892d5cf55\"));});</script>"
      ],
      "text/vnd.plotly.v1+html": [
       "<div id=\"5e2ab325-4e35-457c-b801-6bd892d5cf55\" style=\"height: 525px; width: 100%;\" class=\"plotly-graph-div\"></div><script type=\"text/javascript\">require([\"plotly\"], function(Plotly) { window.PLOTLYENV=window.PLOTLYENV || {};window.PLOTLYENV.BASE_URL=\"https://plot.ly\";Plotly.newPlot(\"5e2ab325-4e35-457c-b801-6bd892d5cf55\", [{\"marker\": {\"color\": [0.07467276371007249, 0.08260852216193229, 0.05919655799729524, 0.04229542784339454, 0.04527652497377164, 0.08158907675233171, 0.108607645422558, 0.07467527024597924, 0.0606110600450391, 0.047836126864144075, 0.042242155123392265, 0.027478633680962723, 0.0605503514073184, 0.06782644915311045, 0.01295613897997066, 0.11157729563872724], \"colorscale\": \"Portland\", \"showscale\": true, \"size\": 25, \"sizemode\": \"diameter\", \"sizeref\": 1}, \"mode\": \"markers\", \"text\": [\"FiO2_std\", \"ETCO2_mean\", \"LAS\", \"PASm_max\", \"PEEPtotal_mean\", \"PEEPtotal_std\", \"Temp_mean\", \"Poids\", \"FC_std\", \"SpO2_std\", \"PAPsys_max\", \"PAPsys_std\", \"FiO2_mean\", \"SpO2_mean\", \"BIS SR_std\", \"PASs_mean\"], \"x\": [\"FiO2_std\", \"ETCO2_mean\", \"LAS\", \"PASm_max\", \"PEEPtotal_mean\", \"PEEPtotal_std\", \"Temp_mean\", \"Poids\", \"FC_std\", \"SpO2_std\", \"PAPsys_max\", \"PAPsys_std\", \"FiO2_mean\", \"SpO2_mean\", \"BIS SR_std\", \"PASs_mean\"], \"y\": [0.07467276371007249, 0.08260852216193229, 0.05919655799729524, 0.04229542784339454, 0.04527652497377164, 0.08158907675233171, 0.108607645422558, 0.07467527024597924, 0.0606110600450391, 0.047836126864144075, 0.042242155123392265, 0.027478633680962723, 0.0605503514073184, 0.06782644915311045, 0.01295613897997066, 0.11157729563872724], \"type\": \"scatter\", \"uid\": \"35a47e53-c298-4156-b83b-949f1dec34c2\"}], {\"autosize\": true, \"hovermode\": \"closest\", \"showlegend\": false, \"title\": {\"text\": \"Gradient Boosting Importance des features\"}, \"yaxis\": {\"gridwidth\": 2, \"ticklen\": 5, \"title\": {\"text\": \"Importance des features\"}}}, {\"showLink\": false, \"linkText\": \"Export to plot.ly\", \"plotlyServerURL\": \"https://plot.ly\"})});</script><script type=\"text/javascript\">window.addEventListener(\"resize\", function(){window._Plotly.Plots.resize(document.getElementById(\"5e2ab325-4e35-457c-b801-6bd892d5cf55\"));});</script>"
      ]
     },
     "metadata": {},
     "output_type": "display_data"
    }
   ],
   "source": [
    "trace = go.Scatter(\n",
    "    y=feature_dataframe['Gradient Boost Importance des features'].values,\n",
    "    x=feature_dataframe['features'].values,\n",
    "    mode='markers',\n",
    "    marker=dict(\n",
    "        sizemode='diameter',\n",
    "        sizeref=1,\n",
    "        size=25,\n",
    "        color=feature_dataframe['Gradient Boost Importance des features'].values,\n",
    "        colorscale='Portland',\n",
    "        showscale=True\n",
    "    ),\n",
    "    text=feature_dataframe['features'].values\n",
    ")\n",
    "data = [trace]\n",
    "\n",
    "layout = go.Layout(\n",
    "    autosize=True,\n",
    "    title='Gradient Boosting Importance des features',\n",
    "    hovermode='closest',\n",
    "    yaxis=dict(\n",
    "        title='Importance des features',\n",
    "        ticklen=5,\n",
    "        gridwidth=2\n",
    "    ),\n",
    "    showlegend=False\n",
    ")\n",
    "fig = go.Figure(data=data, layout=layout)\n",
    "py.iplot(fig, filename='scatter2010')"
   ]
  }
 ],
 "metadata": {
  "kernelspec": {
   "display_name": "Python 3",
   "language": "python",
   "name": "python3"
  },
  "language_info": {
   "codemirror_mode": {
    "name": "ipython",
    "version": 3
   },
   "file_extension": ".py",
   "mimetype": "text/x-python",
   "name": "python",
   "nbconvert_exporter": "python",
   "pygments_lexer": "ipython3",

   "version": "3.6.8"

   

  },
  "varInspector": {
   "cols": {
    "lenName": 16,
    "lenType": 16,
    "lenVar": 40
   },
   "kernels_config": {
    "python": {
     "delete_cmd_postfix": "",
     "delete_cmd_prefix": "del ",
     "library": "var_list.py",
     "varRefreshCmd": "print(var_dic_list())"
    },
    "r": {
     "delete_cmd_postfix": ") ",
     "delete_cmd_prefix": "rm(",
     "library": "var_list.r",
     "varRefreshCmd": "cat(var_dic_list()) "
    }
   },
   "position": {
    "height": "650px",
    "left": "574.924px",
    "right": "20px",
    "top": "65.9848px",
    "width": "690px"
   },
   "types_to_exclude": [
    "module",
    "function",
    "builtin_function_or_method",
    "instance",
    "_Feature"
   ],
   "window_display": false
  }
 },
 "nbformat": 4,
 "nbformat_minor": 2
}
