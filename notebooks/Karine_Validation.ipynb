{
 "cells": [
  {
   "cell_type": "code",
   "execution_count": 1,
   "metadata": {},
   "outputs": [],
   "source": [
    "import pandas as pd\n",
    "import numpy as np\n",
    "import seaborn as sns\n",
    "import matplotlib.pyplot as plt\n",
    "import datetime\n",
    "from datetime import timedelta\n",
    "%matplotlib inline\n",
    "\n",
    "from transplant.config import *"
   ]
  },
  {
   "cell_type": "code",
   "execution_count": null,
   "metadata": {},
   "outputs": [],
   "source": []
  },
  {
   "cell_type": "code",
   "execution_count": 2,
   "metadata": {},
   "outputs": [],
   "source": [
    "df_static = pd.read_csv(PATH_STATIC_CLEAN)\n",
    "df_dynamic =  pd.read_csv(PATH_DYNAMIC_CLEAN)"
   ]
  },
  {
   "cell_type": "code",
   "execution_count": null,
   "metadata": {},
   "outputs": [],
   "source": []
  },
  {
   "cell_type": "markdown",
   "metadata": {},
   "source": [
    "## General functions"
   ]
  },
  {
   "cell_type": "code",
   "execution_count": 3,
   "metadata": {},
   "outputs": [],
   "source": [
    "def time_offset_dynamic(df, time_offset=60):\n",
    "    \"\"\"\n",
    "    Function that truncate the dynamic dataset to take into account only the last minutes (time_offset) of the operation\n",
    "    \"\"\"\n",
    "    df['time']= pd.to_datetime(df['time'])\n",
    "    date_min = df['time'].max() - timedelta(minutes=time_offset)\n",
    "    return df[df['time'] >= date_min]"
   ]
  },
  {
   "cell_type": "code",
   "execution_count": 4,
   "metadata": {},
   "outputs": [],
   "source": [
    "def Sufficient_decline(declampage_2,fermeture, decline=1/3, epsilon = 0.001):\n",
    "    \"\"\"\n",
    "    Function that test if the decline of a value between the event 'declampage_cote_2' and 'fermeture' is sufficient\n",
    "    decline : fraction of the value at time 'declampage_2' \n",
    "            (ie \"on veut que la noredraline baisse d'au moins 1/3 de sa valeur\")\n",
    "    epsilon : \"nearly equal\"\n",
    "    \"\"\"\n",
    "    if fermeture > declampage_2:\n",
    "        return False\n",
    "    delta = declampage_2 - fermeture\n",
    "    if delta > decline*declampage_2:\n",
    "        return True\n",
    "    return np.abs(delta - decline*declampage_2)<= epsilon"
   ]
  },
  {
   "cell_type": "markdown",
   "metadata": {},
   "source": [
    "## Test functions"
   ]
  },
  {
   "cell_type": "code",
   "execution_count": 5,
   "metadata": {},
   "outputs": [],
   "source": [
    "def test_PASm_sup(data_dyn, threshold=90, obj=60):\n",
    "    \"\"\"\n",
    "    Test if threshold% of our value (PASm) is > objective /do not take into account PASm = 0\n",
    "    Return boolean\n",
    "    True : \"at the end of surgery, when PASm not equal 0, at least 90% of the values are > 60\"\n",
    "    \"\"\"\n",
    "    df = time_offset_dynamic(data_dyn)\n",
    "    non_zeros = df['PASm'][df['PASm']!=0].count()\n",
    "    nb_ok = df['PASm'][df['PASm']>obj].count()\n",
    "    return (nb_ok/non_zeros)*100>threshold"
   ]
  },
  {
   "cell_type": "code",
   "execution_count": 6,
   "metadata": {},
   "outputs": [],
   "source": [
    "def test_noradrenaline(data,nora_max=1.5, nora_min=1):\n",
    "    \"\"\"\n",
    "    Test if the noradrenaline is sufficiently low :\n",
    "        > 1.5mg/h --> ko\n",
    "        < 1mh/h --> ok\n",
    "        between : see if there is a sufficient decline\n",
    "    \"\"\"\n",
    "    if data['NORAD_fermeture'].values[0] >= nora_max:\n",
    "        return False\n",
    "    elif data['NORAD_fermeture'].values[0] <= nora_min:\n",
    "        return True\n",
    "    else : \n",
    "        return Sufficient_decline(data['NORAD_declampage_cote_2'].values[0],\n",
    "                                  data['NORAD_fermeture'].values[0],\n",
    "                                  decline=1/3, epsilon = 0.001)"
   ]
  },
  {
   "cell_type": "code",
   "execution_count": 7,
   "metadata": {},
   "outputs": [],
   "source": [
    "def test_ratio_pao2_fio2(data,obj):\n",
    "    \"\"\"\n",
    "    Verify if the ratio PaO2/FiO2 ratio is high enough\n",
    "    True : PaO2/FiO2 ratio > obj\n",
    "    \"\"\"\n",
    "    ratio = data['PaO2_fermeture'].values[0] / data['FiO2_fermeture'].values[0]\n",
    "    return ratio >= obj"
   ]
  },
  {
   "cell_type": "code",
   "execution_count": 8,
   "metadata": {},
   "outputs": [],
   "source": [
    "def test_PAP_diminution(data, paps_max=50, paps_min=30):\n",
    "    \"\"\"\n",
    "    True : If PAPS, PAPM, PAPD decrease \n",
    "    /!\\ : lot of nan for  PAPm -> take PAPs\n",
    "    if nan return False\n",
    "    \"\"\"\n",
    "    if data['PAPS_fermeture'].values[0] < paps_min:\n",
    "        return True\n",
    "    elif data['PAPS_fermeture'].values[0] >= paps_max:\n",
    "        return False\n",
    "    else :\n",
    "        return Sufficient_decline(data['PAPS_declampage_cote_2'].values[0],\n",
    "                                  data['PAPS_fermeture'].values[0],\n",
    "                                  decline=1/3, epsilon = 0.001)"
   ]
  },
  {
   "cell_type": "code",
   "execution_count": 9,
   "metadata": {},
   "outputs": [],
   "source": [
    "def test_augm_ratio_pao2_fio2(data,threshold_augm=0):\n",
    "    \"\"\"\n",
    "    Test if ratio sufficiently high or sufficient evolution between the events 'declapage_cote_2' & 'fermeture'\n",
    "    \"\"\"\n",
    "    if test_ratio_pao2_fio2(data,obj=300):\n",
    "        return True\n",
    "    ratio_fermeture = data['PaO2_fermeture'].values[0] / data['FiO2_fermeture'].values[0]\n",
    "    ratio_declampage_cote_2 = data['PaO2_declampage_cote_2'].values[0] / data['FiO2_declampage_cote2'].values[0]\n",
    "    return ratio_fermeture - ratio_declampage_cote_2 > threshold_augm"
   ]
  },
  {
   "cell_type": "code",
   "execution_count": 10,
   "metadata": {},
   "outputs": [],
   "source": [
    "def test_temperature_sup36(data_dyn,threshold=90):\n",
    "    \"\"\"\n",
    "    Test if threshold% of our value (Temp) is > 36° /do not take into account Temp = 0\n",
    "    Return boolean\n",
    "    \"\"\"\n",
    "    df = time_offset_dynamic(data_dyn)\n",
    "    non_zeros = df['Temp'][df['Temp']!=0].count()\n",
    "    nb_ok = df['Temp'][df['Temp']>36].count()\n",
    "    return (nb_ok/non_zeros)*100>threshold"
   ]
  },
  {
   "cell_type": "code",
   "execution_count": 11,
   "metadata": {},
   "outputs": [],
   "source": [
    "def test_NMT_sup(data_dyn, obj=50, threshold=90): #threshold ok ou trop severe ?\n",
    "    \"\"\"\n",
    "    Test if threshold% of our value (NMTratio) is > 50% /do not take into account Temp = 0\n",
    "    \"\"\"\n",
    "    df = time_offset_dynamic()\n",
    "    non_zeros = df['NMTratio'][df['NMTratio']!=0].count()\n",
    "    nb_ok = df['NMTratio'][df['NMTratio']>obj].count() \n",
    "    return (nb_ok/non_zeros)*100>=threshold"
   ]
  },
  {
   "cell_type": "markdown",
   "metadata": {},
   "source": [
    "## Split functions"
   ]
  },
  {
   "cell_type": "code",
   "execution_count": 12,
   "metadata": {},
   "outputs": [],
   "source": [
    "def split_ECMO_during_surgery(data):\n",
    "    \"\"\"\n",
    "    Return boolean \n",
    "    True : presence of ECMO during surgery\n",
    "    False : absence of ECMO during surgery\n",
    "    \"\"\"\n",
    "    if data['ECMO_during_surgery'].values[0]==1:\n",
    "        return \"Node ECMO weaning Test\"\n",
    "    return \"Node ratio-100 test\""
   ]
  },
  {
   "cell_type": "code",
   "execution_count": 13,
   "metadata": {},
   "outputs": [],
   "source": [
    "def split_ECMO_weaning_test(data, data_dyn):\n",
    "    \"\"\"\n",
    "    Return boolean \n",
    "    \"\"\"\n",
    "    sum_True = test_PASm_sup(data_dyn, threshold=90, obj=60) + \\\n",
    "               test_noradrenaline(data, nora_max=1.5, nora_min=1) + \\\n",
    "               test_ratio_pao2_fio2(data, obj=200) + \\\n",
    "               test_PAP_diminution(data, paps_max=50, paps_min=30)\n",
    "    if sum_True == 4:\n",
    "        return \"Node INO weaning Test\"\n",
    "    return \"Transfer to ICU with ECMO and mechanical ventilation\""
   ]
  },
  {
   "cell_type": "code",
   "execution_count": 14,
   "metadata": {},
   "outputs": [],
   "source": [
    "def split_ratio_100(data):\n",
    "    if test_ratio_pao2_fio2(data, obj=100) :\n",
    "        return \"Node INO weaning Test\"\n",
    "    return \"Transfer to ICU with ECMO and mechanical ventilation\""
   ]
  },
  {
   "cell_type": "code",
   "execution_count": 15,
   "metadata": {},
   "outputs": [],
   "source": [
    "def split_INO_weaning_test(data):\n",
    "    \"\"\"\n",
    "    Return boolean \n",
    "    \"\"\"\n",
    "    sum_True = test_augm_ratio_pao2_fio2(data,threshold_augm=0) + \\\n",
    "               test_PAP_diminution(data, paps_max=50, paps_min=30)\n",
    "    if sum_True == 2:\n",
    "        return \"Node ratio-300 test\"\n",
    "    return \"Transfer to ICU with mechanical ventilation and iNO therapy\""
   ]
  },
  {
   "cell_type": "code",
   "execution_count": 16,
   "metadata": {},
   "outputs": [],
   "source": [
    "def split_ratio_300(data):\n",
    "    if test_ratio_pao2_fio2(data, obj=300) :\n",
    "        return \"Node NIV attempt\"\n",
    "    return \"Transfer to ICU with mechanical ventilation\""
   ]
  },
  {
   "cell_type": "code",
   "execution_count": 17,
   "metadata": {},
   "outputs": [],
   "source": [
    "def split_NIV_attempt(data, data_dyn):\n",
    "    \"\"\"\n",
    "    Return boolean \n",
    "    \"\"\"\n",
    "    sum_True = test_temperature_sup36(data_dyn,threshold=90) + \\\n",
    "               test_NMT_sup(data_dyn,obj=50, threshold=90)+ \\\n",
    "               test_PASm_sup(data_dyn, threshold=90, obj=60) + \\\n",
    "               test_noradrenaline(data, nora_max=1.5, nora_min=1) + \\\n",
    "               test_ratio_pao2_fio2(data,obj=300)\n",
    "    if sum_True == 5:\n",
    "        return  \"Transfer to ICU with standard oxygen therapy or NIV\"\n",
    "    return \"Transfer to ICU with mechanical ventilation\""
   ]
  },
  {
   "cell_type": "markdown",
   "metadata": {},
   "source": [
    "## Validation Tree"
   ]
  },
  {
   "cell_type": "code",
   "execution_count": 23,
   "metadata": {},
   "outputs": [],
   "source": [
    "def decision_empirique(df_static,df_dynamic,id_patient):\n",
    "     \n",
    "    df_static_temp = df_static[df_static['id_patient']==id_patient]\n",
    "    df_dynamic_temp = df_dynamic[df_dynamic['id_patient']==id_patient]\n",
    "    \n",
    "                               \n",
    "    if split_ECMO_during_surgery(df_static_temp) == \"Node ECMO weaning Test\":\n",
    "        if split_ECMO_weaning_test(df_static_temp, df_dynamic_temp) == \"Node INO weaning Test\":\n",
    "            if split_INO_weaning_test(df_static_temp) == \"Node ratio-300 test\":\n",
    "                if split_ratio_300(df_static_temp) == \"Node NIV attempt\":\n",
    "                    return split_NIV_attempt(df_static_temp, df_dynamic_temp)\n",
    "                else:\n",
    "                    return split_ratio_300(df_static_temp)\n",
    "            else : \n",
    "                return split_INO_weaning_test(df_static_temp)\n",
    "        else :\n",
    "            return split_ECMO_weaning_test(df_static_temp, df_dynamic_temp)\n",
    "        \n",
    "    else: #Node ratio-100 test\"\n",
    "        if split_ratio_100(df_static_temp) ==\"Node INO weaning Test\":\n",
    "            if split_INO_weaning_test(df_static_temp) == \"Node ratio-300 test\":\n",
    "                if split_ratio_300(df_static_temp) == \"Node NIV attempt\":\n",
    "                    return split_NIV_attempt(df_static_temp, df_dynamic_temp)\n",
    "                else:\n",
    "                    return split_ratio_300(df_static_temp)\n",
    "            else : \n",
    "                return split_INO_weaning_test(df_static_temp)\n",
    "        else : \n",
    "            return split_ratio_100(df_static_temp)"
   ]
  },
  {
   "cell_type": "code",
   "execution_count": null,
   "metadata": {},
   "outputs": [],
   "source": []
  },
  {
   "cell_type": "code",
   "execution_count": 24,
   "metadata": {},
   "outputs": [
    {
     "data": {
      "text/plain": [
       "'Transfer to ICU with mechanical ventilation and iNO therapy'"
      ]
     },
     "execution_count": 24,
     "metadata": {},
     "output_type": "execute_result"
    }
   ],
   "source": [
    "decision_empirique(df_static,df_dynamic,id_patient=145)"
   ]
  },
  {
   "cell_type": "code",
   "execution_count": 34,
   "metadata": {},
   "outputs": [
    {
     "data": {
      "text/plain": [
       "144    0\n",
       "Name: immediate_extubation, dtype: int64"
      ]
     },
     "execution_count": 34,
     "metadata": {},
     "output_type": "execute_result"
    }
   ],
   "source": [
    "df_static['immediate_extubation'][df_static['id_patient']==145]"
   ]
  },
  {
   "cell_type": "code",
   "execution_count": 36,
   "metadata": {},
   "outputs": [
    {
     "data": {
      "text/plain": [
       "144    0\n",
       "Name: NO_dependence, dtype: int64"
      ]
     },
     "execution_count": 36,
     "metadata": {},
     "output_type": "execute_result"
    }
   ],
   "source": [
    "df_static['NO_dependence'][df_static['id_patient']==145]  #NO à 0 ok"
   ]
  },
  {
   "cell_type": "code",
   "execution_count": 25,
   "metadata": {},
   "outputs": [
    {
     "name": "stderr",
     "output_type": "stream",
     "text": [
      "/home/karine/anaconda2/envs/py36/lib/python3.6/site-packages/ipykernel_launcher.py:5: SettingWithCopyWarning: \n",
      "A value is trying to be set on a copy of a slice from a DataFrame.\n",
      "Try using .loc[row_indexer,col_indexer] = value instead\n",
      "\n",
      "See the caveats in the documentation: http://pandas.pydata.org/pandas-docs/stable/indexing.html#indexing-view-versus-copy\n",
      "  \"\"\"\n"
     ]
    },
    {
     "data": {
      "text/plain": [
       "'Transfer to ICU with ECMO and mechanical ventilation'"
      ]
     },
     "execution_count": 25,
     "metadata": {},
     "output_type": "execute_result"
    }
   ],
   "source": [
    "decision_empirique(df_static,df_dynamic,id_patient=3)"
   ]
  },
  {
   "cell_type": "code",
   "execution_count": 37,
   "metadata": {},
   "outputs": [
    {
     "data": {
      "text/plain": [
       "2    0\n",
       "Name: immediate_extubation, dtype: int64"
      ]
     },
     "execution_count": 37,
     "metadata": {},
     "output_type": "execute_result"
    }
   ],
   "source": [
    "df_static['immediate_extubation'][df_static['id_patient']==3]"
   ]
  },
  {
   "cell_type": "code",
   "execution_count": 38,
   "metadata": {},
   "outputs": [
    {
     "data": {
      "text/plain": [
       "2    1.0\n",
       "Name: ECMO, dtype: float64"
      ]
     },
     "execution_count": 38,
     "metadata": {},
     "output_type": "execute_result"
    }
   ],
   "source": [
    "df_static['ECMO'][df_static['id_patient']==3] #ou equivalent CEC"
   ]
  },
  {
   "cell_type": "markdown",
   "metadata": {},
   "source": [
    "## Tests\n",
    "\n",
    "- avec les données postops\n",
    "- avec notre label à nous"
   ]
  },
  {
   "cell_type": "code",
   "execution_count": null,
   "metadata": {},
   "outputs": [],
   "source": []
  }
 ],
 "metadata": {
  "kernelspec": {
   "display_name": "Python 3",
   "language": "python",
   "name": "python3"
  },
  "language_info": {
   "codemirror_mode": {
    "name": "ipython",
    "version": 3
   },
   "file_extension": ".py",
   "mimetype": "text/x-python",
   "name": "python",
   "nbconvert_exporter": "python",
   "pygments_lexer": "ipython3",
   "version": "3.6.8"
  }
 },
 "nbformat": 4,
 "nbformat_minor": 2
}
