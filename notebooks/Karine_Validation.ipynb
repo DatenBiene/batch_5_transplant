{
 "cells": [
  {
   "cell_type": "code",
   "execution_count": 1,
   "metadata": {},
   "outputs": [],
   "source": [
    "import pandas as pd\n",
    "import numpy as np\n",
    "import seaborn as sns\n",
    "import matplotlib.pyplot as plt\n",
    "import datetime\n",
    "%matplotlib inline"
   ]
  },
  {
   "cell_type": "code",
   "execution_count": 2,
   "metadata": {},
   "outputs": [],
   "source": [
    "from transplant.data.dataset import Dataset\n",
    "from transplant.config import *"
   ]
  },
  {
   "cell_type": "code",
   "execution_count": 3,
   "metadata": {},
   "outputs": [],
   "source": [
    "dataset = Dataset()"
   ]
  },
  {
   "cell_type": "code",
   "execution_count": 4,
   "metadata": {},
   "outputs": [
    {
     "name": "stderr",
     "output_type": "stream",
     "text": [
      "/home/karine/anaconda2/envs/py36/lib/python3.6/site-packages/ipykernel_launcher.py:2: FutureWarning: Sorting because non-concatenation axis is not aligned. A future version\n",
      "of pandas will change to not sort by default.\n",
      "\n",
      "To accept the future behavior, pass 'sort=False'.\n",
      "\n",
      "To retain the current behavior and silence the warning, pass 'sort=True'.\n",
      "\n",
      "  \n"
     ]
    }
   ],
   "source": [
    "train, test = dataset.get_static()\n",
    "data_static = pd.concat([train, test])"
   ]
  },
  {
   "cell_type": "code",
   "execution_count": 5,
   "metadata": {},
   "outputs": [],
   "source": [
    "train, test = dataset.get_dynamic()\n",
    "data_dynamic= pd.concat([train, test])"
   ]
  },
  {
   "cell_type": "code",
   "execution_count": null,
   "metadata": {},
   "outputs": [],
   "source": []
  },
  {
   "cell_type": "code",
   "execution_count": 6,
   "metadata": {},
   "outputs": [
    {
     "data": {
      "text/html": [
       "<div>\n",
       "<style scoped>\n",
       "    .dataframe tbody tr th:only-of-type {\n",
       "        vertical-align: middle;\n",
       "    }\n",
       "\n",
       "    .dataframe tbody tr th {\n",
       "        vertical-align: top;\n",
       "    }\n",
       "\n",
       "    .dataframe thead th {\n",
       "        text-align: right;\n",
       "    }\n",
       "</style>\n",
       "<table border=\"1\" class=\"dataframe\">\n",
       "  <thead>\n",
       "    <tr style=\"text-align: right;\">\n",
       "      <th></th>\n",
       "      <th>ATCD_chirugicaux</th>\n",
       "      <th>ATCD_medicaux</th>\n",
       "      <th>Age_donor</th>\n",
       "      <th>Aspirations_donor</th>\n",
       "      <th>BMI_donor</th>\n",
       "      <th>CMV_donneur</th>\n",
       "      <th>CMV_receveur</th>\n",
       "      <th>Donneur_CPT</th>\n",
       "      <th>EBV_donneur</th>\n",
       "      <th>Insuffisance_renale</th>\n",
       "      <th>...</th>\n",
       "      <th>preoperative_mechanical_ventilation</th>\n",
       "      <th>preoperative_pulmonary_hypertension</th>\n",
       "      <th>preoperative_vasopressor</th>\n",
       "      <th>retransplant</th>\n",
       "      <th>sexe</th>\n",
       "      <th>super_urgence</th>\n",
       "      <th>target</th>\n",
       "      <th>thoracic_surgery_history</th>\n",
       "      <th>time_on_waiting_liste</th>\n",
       "      <th>transplanted_twice_during_study_period</th>\n",
       "    </tr>\n",
       "  </thead>\n",
       "  <tbody>\n",
       "    <tr>\n",
       "      <th>194</th>\n",
       "      <td>Non</td>\n",
       "      <td>Mucoviscidose diagnostiquée à l'âge de 12 ans ...</td>\n",
       "      <td>45</td>\n",
       "      <td>3</td>\n",
       "      <td>25.351541</td>\n",
       "      <td>Positif</td>\n",
       "      <td>Positif</td>\n",
       "      <td>6650.0</td>\n",
       "      <td>NaN</td>\n",
       "      <td>0</td>\n",
       "      <td>...</td>\n",
       "      <td>0.0</td>\n",
       "      <td>0.0</td>\n",
       "      <td>0.0</td>\n",
       "      <td>0</td>\n",
       "      <td>0</td>\n",
       "      <td>0</td>\n",
       "      <td>1.0</td>\n",
       "      <td>0</td>\n",
       "      <td>32</td>\n",
       "      <td>0</td>\n",
       "    </tr>\n",
       "    <tr>\n",
       "      <th>313</th>\n",
       "      <td>NaN</td>\n",
       "      <td>ep 2012 \\nRGO</td>\n",
       "      <td>60</td>\n",
       "      <td>1</td>\n",
       "      <td>NaN</td>\n",
       "      <td>Négatif</td>\n",
       "      <td>Positif</td>\n",
       "      <td>5100.0</td>\n",
       "      <td>Positif</td>\n",
       "      <td>0</td>\n",
       "      <td>...</td>\n",
       "      <td>0.0</td>\n",
       "      <td>0.0</td>\n",
       "      <td>0.0</td>\n",
       "      <td>0</td>\n",
       "      <td>1</td>\n",
       "      <td>0</td>\n",
       "      <td>0.0</td>\n",
       "      <td>0</td>\n",
       "      <td>18</td>\n",
       "      <td>0</td>\n",
       "    </tr>\n",
       "    <tr>\n",
       "      <th>52</th>\n",
       "      <td>- appendicectomie\\n- reprise de cicatrices de ...</td>\n",
       "      <td>- Mucoviscidose homozygote DeltaF508, DDB et i...</td>\n",
       "      <td>21</td>\n",
       "      <td>1</td>\n",
       "      <td>20.569330</td>\n",
       "      <td>Négatif</td>\n",
       "      <td>Négatif</td>\n",
       "      <td>6100.0</td>\n",
       "      <td>NaN</td>\n",
       "      <td>0</td>\n",
       "      <td>...</td>\n",
       "      <td>0.0</td>\n",
       "      <td>1.0</td>\n",
       "      <td>0.0</td>\n",
       "      <td>0</td>\n",
       "      <td>0</td>\n",
       "      <td>0</td>\n",
       "      <td>1.0</td>\n",
       "      <td>1</td>\n",
       "      <td>16</td>\n",
       "      <td>0</td>\n",
       "    </tr>\n",
       "    <tr>\n",
       "      <th>132</th>\n",
       "      <td>Appendicectomie</td>\n",
       "      <td>Mucoviscidose découverte à l'âge de 11 ans. Ox...</td>\n",
       "      <td>52</td>\n",
       "      <td>1</td>\n",
       "      <td>24.930748</td>\n",
       "      <td>Négatif</td>\n",
       "      <td>Positif</td>\n",
       "      <td>8100.0</td>\n",
       "      <td>NaN</td>\n",
       "      <td>0</td>\n",
       "      <td>...</td>\n",
       "      <td>0.0</td>\n",
       "      <td>0.0</td>\n",
       "      <td>0.0</td>\n",
       "      <td>0</td>\n",
       "      <td>1</td>\n",
       "      <td>0</td>\n",
       "      <td>1.0</td>\n",
       "      <td>0</td>\n",
       "      <td>44</td>\n",
       "      <td>0</td>\n",
       "    </tr>\n",
       "    <tr>\n",
       "      <th>22</th>\n",
       "      <td>NaN</td>\n",
       "      <td>- mucoviscidose homozygote DeltaF508 diagnosti...</td>\n",
       "      <td>20</td>\n",
       "      <td>3</td>\n",
       "      <td>29.150514</td>\n",
       "      <td>NaN</td>\n",
       "      <td>NaN</td>\n",
       "      <td>7400.0</td>\n",
       "      <td>NaN</td>\n",
       "      <td>0</td>\n",
       "      <td>...</td>\n",
       "      <td>0.0</td>\n",
       "      <td>1.0</td>\n",
       "      <td>0.0</td>\n",
       "      <td>0</td>\n",
       "      <td>0</td>\n",
       "      <td>0</td>\n",
       "      <td>0.0</td>\n",
       "      <td>0</td>\n",
       "      <td>6</td>\n",
       "      <td>0</td>\n",
       "    </tr>\n",
       "  </tbody>\n",
       "</table>\n",
       "<p>5 rows × 43 columns</p>\n",
       "</div>"
      ],
      "text/plain": [
       "                                      ATCD_chirugicaux  \\\n",
       "194                                                Non   \n",
       "313                                                NaN   \n",
       "52   - appendicectomie\\n- reprise de cicatrices de ...   \n",
       "132                                    Appendicectomie   \n",
       "22                                                 NaN   \n",
       "\n",
       "                                         ATCD_medicaux  Age_donor  \\\n",
       "194  Mucoviscidose diagnostiquée à l'âge de 12 ans ...         45   \n",
       "313                                      ep 2012 \\nRGO         60   \n",
       "52   - Mucoviscidose homozygote DeltaF508, DDB et i...         21   \n",
       "132  Mucoviscidose découverte à l'âge de 11 ans. Ox...         52   \n",
       "22   - mucoviscidose homozygote DeltaF508 diagnosti...         20   \n",
       "\n",
       "     Aspirations_donor  BMI_donor CMV_donneur CMV_receveur  Donneur_CPT  \\\n",
       "194                  3  25.351541     Positif      Positif       6650.0   \n",
       "313                  1        NaN     Négatif      Positif       5100.0   \n",
       "52                   1  20.569330     Négatif      Négatif       6100.0   \n",
       "132                  1  24.930748     Négatif      Positif       8100.0   \n",
       "22                   3  29.150514         NaN          NaN       7400.0   \n",
       "\n",
       "    EBV_donneur  Insuffisance_renale                   ...                    \\\n",
       "194         NaN                    0                   ...                     \n",
       "313     Positif                    0                   ...                     \n",
       "52          NaN                    0                   ...                     \n",
       "132         NaN                    0                   ...                     \n",
       "22          NaN                    0                   ...                     \n",
       "\n",
       "    preoperative_mechanical_ventilation  preoperative_pulmonary_hypertension  \\\n",
       "194                                 0.0                                  0.0   \n",
       "313                                 0.0                                  0.0   \n",
       "52                                  0.0                                  1.0   \n",
       "132                                 0.0                                  0.0   \n",
       "22                                  0.0                                  1.0   \n",
       "\n",
       "     preoperative_vasopressor  retransplant  sexe  super_urgence  target  \\\n",
       "194                       0.0             0     0              0     1.0   \n",
       "313                       0.0             0     1              0     0.0   \n",
       "52                        0.0             0     0              0     1.0   \n",
       "132                       0.0             0     1              0     1.0   \n",
       "22                        0.0             0     0              0     0.0   \n",
       "\n",
       "     thoracic_surgery_history  time_on_waiting_liste  \\\n",
       "194                         0                     32   \n",
       "313                         0                     18   \n",
       "52                          1                     16   \n",
       "132                         0                     44   \n",
       "22                          0                      6   \n",
       "\n",
       "     transplanted_twice_during_study_period  \n",
       "194                                       0  \n",
       "313                                       0  \n",
       "52                                        0  \n",
       "132                                       0  \n",
       "22                                        0  \n",
       "\n",
       "[5 rows x 43 columns]"
      ]
     },
     "execution_count": 6,
     "metadata": {},
     "output_type": "execute_result"
    }
   ],
   "source": [
    "data_static.head()"
   ]
  },
  {
   "cell_type": "code",
   "execution_count": 7,
   "metadata": {},
   "outputs": [
    {
     "data": {
      "text/plain": [
       "Index(['ATCD_chirugicaux', 'ATCD_medicaux', 'Age_donor', 'Aspirations_donor',\n",
       "       'BMI_donor', 'CMV_donneur', 'CMV_receveur', 'Donneur_CPT',\n",
       "       'EBV_donneur', 'Insuffisance_renale', 'LAS', 'PAPS', 'PFO', 'PF_donor',\n",
       "       'Poids', 'Poids_donor', 'RX_donor', 'Sex_donor', 'Tabagisme_donor',\n",
       "       'Taille', 'Taille_donor', 'age', 'body_mass_index',\n",
       "       'date_transplantation', 'diabetes', 'heure_arrivee_bloc', 'id_patient',\n",
       "       'other_organ_transplantation', 'oto_score', 'pathologie',\n",
       "       'plasmapherese', 'preoperative_ECMO', 'preoperative_ICU',\n",
       "       'preoperative_mechanical_ventilation',\n",
       "       'preoperative_pulmonary_hypertension', 'preoperative_vasopressor',\n",
       "       'retransplant', 'sexe', 'super_urgence', 'target',\n",
       "       'thoracic_surgery_history', 'time_on_waiting_liste',\n",
       "       'transplanted_twice_during_study_period'],\n",
       "      dtype='object')"
      ]
     },
     "execution_count": 7,
     "metadata": {},
     "output_type": "execute_result"
    }
   ],
   "source": [
    "data_static.columns"
   ]
  },
  {
   "cell_type": "code",
   "execution_count": 8,
   "metadata": {},
   "outputs": [
    {
     "data": {
      "text/plain": [
       "Index(['id_patient', 'time', 'B.I.S', 'BIS SR', 'DC', 'ETCO2', 'FC', 'FR',\n",
       "       'FiO2', 'PAPdia', 'PAPmoy', 'PAPsys', 'PASd', 'PASm', 'PASs',\n",
       "       'PEEPtotal', 'PNId', 'PNIm', 'PNIs', 'Pmax', 'Pmean', 'SpO2',\n",
       "       'SvO2 (m)', 'Temp', 'VT'],\n",
       "      dtype='object')"
      ]
     },
     "execution_count": 8,
     "metadata": {},
     "output_type": "execute_result"
    }
   ],
   "source": [
    "data_dynamic.columns"
   ]
  },
  {
   "cell_type": "code",
   "execution_count": 9,
   "metadata": {},
   "outputs": [],
   "source": [
    "list_ECMO = [col for col in data_static.columns if 'ECMO' in col]"
   ]
  },
  {
   "cell_type": "code",
   "execution_count": 10,
   "metadata": {},
   "outputs": [
    {
     "data": {
      "text/plain": [
       "['preoperative_ECMO']"
      ]
     },
     "execution_count": 10,
     "metadata": {},
     "output_type": "execute_result"
    }
   ],
   "source": [
    "list_ECMO"
   ]
  },
  {
   "cell_type": "code",
   "execution_count": null,
   "metadata": {},
   "outputs": [],
   "source": []
  },
  {
   "cell_type": "markdown",
   "metadata": {},
   "source": [
    "**Take all variables**"
   ]
  },
  {
   "cell_type": "code",
   "execution_count": 26,
   "metadata": {},
   "outputs": [],
   "source": [
    "df_static = pd.read_csv(PATH_STATIC_CLEAN)\n",
    "df_dynamic =  pd.read_csv(PATH_DYNAMIC_CLEAN)"
   ]
  },
  {
   "cell_type": "code",
   "execution_count": 25,
   "metadata": {},
   "outputs": [
    {
     "name": "stdout",
     "output_type": "stream",
     "text": [
      "<class 'pandas.core.frame.DataFrame'> (410, 285)\n"
     ]
    }
   ],
   "source": [
    "print(type(df_static), df_static.shape)"
   ]
  },
  {
   "cell_type": "code",
   "execution_count": 27,
   "metadata": {},
   "outputs": [
    {
     "name": "stdout",
     "output_type": "stream",
     "text": [
      "<class 'pandas.core.frame.DataFrame'> (264543, 39)\n"
     ]
    }
   ],
   "source": [
    "print(type(df_dynamic), df_dynamic.shape)"
   ]
  },
  {
   "cell_type": "code",
   "execution_count": 31,
   "metadata": {},
   "outputs": [
    {
     "data": {
      "text/html": [
       "<div>\n",
       "<style scoped>\n",
       "    .dataframe tbody tr th:only-of-type {\n",
       "        vertical-align: middle;\n",
       "    }\n",
       "\n",
       "    .dataframe tbody tr th {\n",
       "        vertical-align: top;\n",
       "    }\n",
       "\n",
       "    .dataframe thead th {\n",
       "        text-align: right;\n",
       "    }\n",
       "</style>\n",
       "<table border=\"1\" class=\"dataframe\">\n",
       "  <thead>\n",
       "    <tr style=\"text-align: right;\">\n",
       "      <th></th>\n",
       "      <th>id_patient</th>\n",
       "      <th>date_transplantation</th>\n",
       "      <th>heure_arrivee_bloc</th>\n",
       "      <th>pathologie</th>\n",
       "      <th>age</th>\n",
       "      <th>sexe</th>\n",
       "      <th>Poids</th>\n",
       "      <th>Taille</th>\n",
       "      <th>other_organ_transplantation</th>\n",
       "      <th>super_urgence</th>\n",
       "      <th>...</th>\n",
       "      <th>P_F_H0</th>\n",
       "      <th>PGD_H0</th>\n",
       "      <th>P_F_end_surgery</th>\n",
       "      <th>PGD_end_surgery</th>\n",
       "      <th>time_last_PF</th>\n",
       "      <th>PDG_h24</th>\n",
       "      <th>PGD_h48</th>\n",
       "      <th>PGD3</th>\n",
       "      <th>date_de_deces</th>\n",
       "      <th>Survival_days_27_10_2018</th>\n",
       "    </tr>\n",
       "  </thead>\n",
       "  <tbody>\n",
       "    <tr>\n",
       "      <th>0</th>\n",
       "      <td>1</td>\n",
       "      <td>2012-01-05</td>\n",
       "      <td>03:00:00</td>\n",
       "      <td>3</td>\n",
       "      <td>49</td>\n",
       "      <td>0</td>\n",
       "      <td>68.0</td>\n",
       "      <td>160</td>\n",
       "      <td>0</td>\n",
       "      <td>0</td>\n",
       "      <td>...</td>\n",
       "      <td>241.538462</td>\n",
       "      <td>E</td>\n",
       "      <td>210.0</td>\n",
       "      <td>2</td>\n",
       "      <td>192</td>\n",
       "      <td>1.0</td>\n",
       "      <td>1.0</td>\n",
       "      <td>1.0</td>\n",
       "      <td>NaN</td>\n",
       "      <td>2463</td>\n",
       "    </tr>\n",
       "    <tr>\n",
       "      <th>1</th>\n",
       "      <td>2</td>\n",
       "      <td>2012-01-08</td>\n",
       "      <td>03:15:00</td>\n",
       "      <td>1</td>\n",
       "      <td>42</td>\n",
       "      <td>1</td>\n",
       "      <td>49.0</td>\n",
       "      <td>165</td>\n",
       "      <td>0</td>\n",
       "      <td>0</td>\n",
       "      <td>...</td>\n",
       "      <td>NaN</td>\n",
       "      <td>NaN</td>\n",
       "      <td>304.0</td>\n",
       "      <td>1</td>\n",
       "      <td>158</td>\n",
       "      <td>0.0</td>\n",
       "      <td>0.0</td>\n",
       "      <td>0.0</td>\n",
       "      <td>NaN</td>\n",
       "      <td>2461</td>\n",
       "    </tr>\n",
       "    <tr>\n",
       "      <th>2</th>\n",
       "      <td>3</td>\n",
       "      <td>2012-01-11</td>\n",
       "      <td>13:30:00</td>\n",
       "      <td>1</td>\n",
       "      <td>22</td>\n",
       "      <td>1</td>\n",
       "      <td>51.0</td>\n",
       "      <td>173</td>\n",
       "      <td>0</td>\n",
       "      <td>0</td>\n",
       "      <td>...</td>\n",
       "      <td>103.750000</td>\n",
       "      <td>E</td>\n",
       "      <td>222.0</td>\n",
       "      <td>E</td>\n",
       "      <td>141</td>\n",
       "      <td>1.0</td>\n",
       "      <td>0.0</td>\n",
       "      <td>1.0</td>\n",
       "      <td>NaN</td>\n",
       "      <td>2457</td>\n",
       "    </tr>\n",
       "    <tr>\n",
       "      <th>3</th>\n",
       "      <td>4</td>\n",
       "      <td>2012-01-15</td>\n",
       "      <td>07:20:00</td>\n",
       "      <td>2</td>\n",
       "      <td>57</td>\n",
       "      <td>0</td>\n",
       "      <td>65.0</td>\n",
       "      <td>152</td>\n",
       "      <td>0</td>\n",
       "      <td>0</td>\n",
       "      <td>...</td>\n",
       "      <td>286.000000</td>\n",
       "      <td>2</td>\n",
       "      <td>453.0</td>\n",
       "      <td>1</td>\n",
       "      <td>102</td>\n",
       "      <td>0.0</td>\n",
       "      <td>0.0</td>\n",
       "      <td>0.0</td>\n",
       "      <td>2016-02-22</td>\n",
       "      <td>1499</td>\n",
       "    </tr>\n",
       "    <tr>\n",
       "      <th>4</th>\n",
       "      <td>5</td>\n",
       "      <td>2012-01-17</td>\n",
       "      <td>12:15:00</td>\n",
       "      <td>2</td>\n",
       "      <td>49</td>\n",
       "      <td>0</td>\n",
       "      <td>50.0</td>\n",
       "      <td>160</td>\n",
       "      <td>0</td>\n",
       "      <td>0</td>\n",
       "      <td>...</td>\n",
       "      <td>330.000000</td>\n",
       "      <td>1</td>\n",
       "      <td>192.0</td>\n",
       "      <td>3</td>\n",
       "      <td>124</td>\n",
       "      <td>1.0</td>\n",
       "      <td>1.0</td>\n",
       "      <td>1.0</td>\n",
       "      <td>NaN</td>\n",
       "      <td>2451</td>\n",
       "    </tr>\n",
       "  </tbody>\n",
       "</table>\n",
       "<p>5 rows × 285 columns</p>\n",
       "</div>"
      ],
      "text/plain": [
       "   id_patient date_transplantation heure_arrivee_bloc  pathologie  age  sexe  \\\n",
       "0           1           2012-01-05           03:00:00           3   49     0   \n",
       "1           2           2012-01-08           03:15:00           1   42     1   \n",
       "2           3           2012-01-11           13:30:00           1   22     1   \n",
       "3           4           2012-01-15           07:20:00           2   57     0   \n",
       "4           5           2012-01-17           12:15:00           2   49     0   \n",
       "\n",
       "   Poids  Taille  other_organ_transplantation  super_urgence  \\\n",
       "0   68.0     160                            0              0   \n",
       "1   49.0     165                            0              0   \n",
       "2   51.0     173                            0              0   \n",
       "3   65.0     152                            0              0   \n",
       "4   50.0     160                            0              0   \n",
       "\n",
       "             ...                 P_F_H0  PGD_H0  P_F_end_surgery  \\\n",
       "0            ...             241.538462       E            210.0   \n",
       "1            ...                    NaN     NaN            304.0   \n",
       "2            ...             103.750000       E            222.0   \n",
       "3            ...             286.000000       2            453.0   \n",
       "4            ...             330.000000       1            192.0   \n",
       "\n",
       "  PGD_end_surgery  time_last_PF  PDG_h24  PGD_h48 PGD3  date_de_deces  \\\n",
       "0               2           192      1.0      1.0  1.0            NaN   \n",
       "1               1           158      0.0      0.0  0.0            NaN   \n",
       "2               E           141      1.0      0.0  1.0            NaN   \n",
       "3               1           102      0.0      0.0  0.0     2016-02-22   \n",
       "4               3           124      1.0      1.0  1.0            NaN   \n",
       "\n",
       "   Survival_days_27_10_2018  \n",
       "0                      2463  \n",
       "1                      2461  \n",
       "2                      2457  \n",
       "3                      1499  \n",
       "4                      2451  \n",
       "\n",
       "[5 rows x 285 columns]"
      ]
     },
     "execution_count": 31,
     "metadata": {},
     "output_type": "execute_result"
    }
   ],
   "source": [
    "df_static.head()"
   ]
  },
  {
   "cell_type": "code",
   "execution_count": 32,
   "metadata": {},
   "outputs": [
    {
     "data": {
      "text/html": [
       "<div>\n",
       "<style scoped>\n",
       "    .dataframe tbody tr th:only-of-type {\n",
       "        vertical-align: middle;\n",
       "    }\n",
       "\n",
       "    .dataframe tbody tr th {\n",
       "        vertical-align: top;\n",
       "    }\n",
       "\n",
       "    .dataframe thead th {\n",
       "        text-align: right;\n",
       "    }\n",
       "</style>\n",
       "<table border=\"1\" class=\"dataframe\">\n",
       "  <thead>\n",
       "    <tr style=\"text-align: right;\">\n",
       "      <th></th>\n",
       "      <th>id_patient</th>\n",
       "      <th>time</th>\n",
       "      <th>B.I.S</th>\n",
       "      <th>BIS SR</th>\n",
       "      <th>DC</th>\n",
       "      <th>ET Des.</th>\n",
       "      <th>ET Sevo.</th>\n",
       "      <th>ETCO2</th>\n",
       "      <th>ETCO2 (mmHg)</th>\n",
       "      <th>ETO2</th>\n",
       "      <th>...</th>\n",
       "      <th>PNIs</th>\n",
       "      <th>PODmoy</th>\n",
       "      <th>Pmax</th>\n",
       "      <th>Pmean</th>\n",
       "      <th>Pplat</th>\n",
       "      <th>RR(co2)</th>\n",
       "      <th>SpO2</th>\n",
       "      <th>SvO2 (m)</th>\n",
       "      <th>Temp</th>\n",
       "      <th>VT</th>\n",
       "    </tr>\n",
       "  </thead>\n",
       "  <tbody>\n",
       "    <tr>\n",
       "      <th>0</th>\n",
       "      <td>145</td>\n",
       "      <td>2014-05-14 02:12:00</td>\n",
       "      <td>0.0</td>\n",
       "      <td>0.0</td>\n",
       "      <td>NaN</td>\n",
       "      <td>0.0</td>\n",
       "      <td>0.0</td>\n",
       "      <td>0.0</td>\n",
       "      <td>NaN</td>\n",
       "      <td>21.0</td>\n",
       "      <td>...</td>\n",
       "      <td>0.0</td>\n",
       "      <td>NaN</td>\n",
       "      <td>0.0</td>\n",
       "      <td>0.0</td>\n",
       "      <td>0.0</td>\n",
       "      <td>0.0</td>\n",
       "      <td>0</td>\n",
       "      <td>NaN</td>\n",
       "      <td>0.0</td>\n",
       "      <td>0.0</td>\n",
       "    </tr>\n",
       "    <tr>\n",
       "      <th>1</th>\n",
       "      <td>145</td>\n",
       "      <td>2014-05-14 02:13:00</td>\n",
       "      <td>0.0</td>\n",
       "      <td>0.0</td>\n",
       "      <td>NaN</td>\n",
       "      <td>0.0</td>\n",
       "      <td>0.0</td>\n",
       "      <td>0.0</td>\n",
       "      <td>NaN</td>\n",
       "      <td>21.0</td>\n",
       "      <td>...</td>\n",
       "      <td>0.0</td>\n",
       "      <td>NaN</td>\n",
       "      <td>0.0</td>\n",
       "      <td>0.0</td>\n",
       "      <td>0.0</td>\n",
       "      <td>0.0</td>\n",
       "      <td>0</td>\n",
       "      <td>NaN</td>\n",
       "      <td>0.0</td>\n",
       "      <td>0.0</td>\n",
       "    </tr>\n",
       "    <tr>\n",
       "      <th>2</th>\n",
       "      <td>145</td>\n",
       "      <td>2014-05-14 02:14:00</td>\n",
       "      <td>0.0</td>\n",
       "      <td>0.0</td>\n",
       "      <td>NaN</td>\n",
       "      <td>0.0</td>\n",
       "      <td>0.0</td>\n",
       "      <td>0.0</td>\n",
       "      <td>NaN</td>\n",
       "      <td>21.0</td>\n",
       "      <td>...</td>\n",
       "      <td>0.0</td>\n",
       "      <td>NaN</td>\n",
       "      <td>0.0</td>\n",
       "      <td>0.0</td>\n",
       "      <td>0.0</td>\n",
       "      <td>0.0</td>\n",
       "      <td>0</td>\n",
       "      <td>NaN</td>\n",
       "      <td>0.0</td>\n",
       "      <td>0.0</td>\n",
       "    </tr>\n",
       "    <tr>\n",
       "      <th>3</th>\n",
       "      <td>145</td>\n",
       "      <td>2014-05-14 02:15:00</td>\n",
       "      <td>0.0</td>\n",
       "      <td>0.0</td>\n",
       "      <td>NaN</td>\n",
       "      <td>0.0</td>\n",
       "      <td>0.0</td>\n",
       "      <td>0.0</td>\n",
       "      <td>NaN</td>\n",
       "      <td>21.0</td>\n",
       "      <td>...</td>\n",
       "      <td>0.0</td>\n",
       "      <td>NaN</td>\n",
       "      <td>0.0</td>\n",
       "      <td>0.0</td>\n",
       "      <td>0.0</td>\n",
       "      <td>0.0</td>\n",
       "      <td>100</td>\n",
       "      <td>NaN</td>\n",
       "      <td>0.0</td>\n",
       "      <td>0.0</td>\n",
       "    </tr>\n",
       "    <tr>\n",
       "      <th>4</th>\n",
       "      <td>145</td>\n",
       "      <td>2014-05-14 02:16:00</td>\n",
       "      <td>0.0</td>\n",
       "      <td>0.0</td>\n",
       "      <td>NaN</td>\n",
       "      <td>0.0</td>\n",
       "      <td>0.0</td>\n",
       "      <td>0.0</td>\n",
       "      <td>NaN</td>\n",
       "      <td>21.0</td>\n",
       "      <td>...</td>\n",
       "      <td>0.0</td>\n",
       "      <td>NaN</td>\n",
       "      <td>0.0</td>\n",
       "      <td>0.0</td>\n",
       "      <td>0.0</td>\n",
       "      <td>0.0</td>\n",
       "      <td>100</td>\n",
       "      <td>NaN</td>\n",
       "      <td>0.0</td>\n",
       "      <td>0.0</td>\n",
       "    </tr>\n",
       "  </tbody>\n",
       "</table>\n",
       "<p>5 rows × 39 columns</p>\n",
       "</div>"
      ],
      "text/plain": [
       "   id_patient                 time  B.I.S  BIS SR  DC  ET Des.  ET Sevo.  \\\n",
       "0         145  2014-05-14 02:12:00    0.0     0.0 NaN      0.0       0.0   \n",
       "1         145  2014-05-14 02:13:00    0.0     0.0 NaN      0.0       0.0   \n",
       "2         145  2014-05-14 02:14:00    0.0     0.0 NaN      0.0       0.0   \n",
       "3         145  2014-05-14 02:15:00    0.0     0.0 NaN      0.0       0.0   \n",
       "4         145  2014-05-14 02:16:00    0.0     0.0 NaN      0.0       0.0   \n",
       "\n",
       "   ETCO2  ETCO2 (mmHg)  ETO2 ...   PNIs  PODmoy  Pmax  Pmean  Pplat  RR(co2)  \\\n",
       "0    0.0           NaN  21.0 ...    0.0     NaN   0.0    0.0    0.0      0.0   \n",
       "1    0.0           NaN  21.0 ...    0.0     NaN   0.0    0.0    0.0      0.0   \n",
       "2    0.0           NaN  21.0 ...    0.0     NaN   0.0    0.0    0.0      0.0   \n",
       "3    0.0           NaN  21.0 ...    0.0     NaN   0.0    0.0    0.0      0.0   \n",
       "4    0.0           NaN  21.0 ...    0.0     NaN   0.0    0.0    0.0      0.0   \n",
       "\n",
       "   SpO2  SvO2 (m)  Temp   VT  \n",
       "0     0       NaN   0.0  0.0  \n",
       "1     0       NaN   0.0  0.0  \n",
       "2     0       NaN   0.0  0.0  \n",
       "3   100       NaN   0.0  0.0  \n",
       "4   100       NaN   0.0  0.0  \n",
       "\n",
       "[5 rows x 39 columns]"
      ]
     },
     "execution_count": 32,
     "metadata": {},
     "output_type": "execute_result"
    }
   ],
   "source": [
    "df_dynamic.head()"
   ]
  },
  {
   "cell_type": "markdown",
   "metadata": {},
   "source": [
    "### **First split** : ECMO"
   ]
  },
  {
   "cell_type": "code",
   "execution_count": 14,
   "metadata": {},
   "outputs": [],
   "source": [
    "list_ECMO = [col for col in df_static.columns if 'ECMO' in col]"
   ]
  },
  {
   "cell_type": "code",
   "execution_count": 15,
   "metadata": {},
   "outputs": [
    {
     "data": {
      "text/plain": [
       "['preoperative_ECMO',\n",
       " 'postoperative_ECMO',\n",
       " 'only_intraoperative_ECMO',\n",
       " 'ECMO_during_surgery',\n",
       " 'ECMO_duration',\n",
       " 'moment_de_pose_ECMO',\n",
       " 'cause_ECMO',\n",
       " 'ECMO',\n",
       " 'secondary_ECMO',\n",
       " 'delai_recours_ECMO',\n",
       " 'Cause_ECMO_secondaire']"
      ]
     },
     "execution_count": 15,
     "metadata": {},
     "output_type": "execute_result"
    }
   ],
   "source": [
    "list_ECMO"
   ]
  },
  {
   "cell_type": "code",
   "execution_count": 24,
   "metadata": {},
   "outputs": [
    {
     "data": {
      "text/plain": [
       "0    205\n",
       "1    205\n",
       "Name: ECMO_during_surgery, dtype: int64"
      ]
     },
     "execution_count": 24,
     "metadata": {},
     "output_type": "execute_result"
    }
   ],
   "source": [
    "df_static['ECMO_during_surgery'].astype('str').value_counts()"
   ]
  },
  {
   "cell_type": "code",
   "execution_count": null,
   "metadata": {},
   "outputs": [],
   "source": []
  },
  {
   "cell_type": "markdown",
   "metadata": {},
   "source": [
    "### **ECMO YES  : Second split** : ECMO weaning test\n",
    "\n",
    "1) PAM (PAS + 2 x PAD)/3 > 60 mmHg et NORADRENALINE < 1mg/h (pas d'ADRENALINE)\n",
    "2) ECMO flow < 1L/min (info non disponible)\n",
    "3) PaO2/FiO2 ratio > 200 with FiO2 = 50%\n",
    "4) diminution des PAP (s/m/d) -> regarder l'évolution des PAP (Evolution_PAPXXX) : la diminution est un élement positif \n",
    "5) regarder dans les commentaires de l'echocardiographie transoesophagienne (Examen_EchographiqueXXX) "
   ]
  },
  {
   "cell_type": "code",
   "execution_count": 33,
   "metadata": {},
   "outputs": [
    {
     "data": {
      "text/html": [
       "<div>\n",
       "<style scoped>\n",
       "    .dataframe tbody tr th:only-of-type {\n",
       "        vertical-align: middle;\n",
       "    }\n",
       "\n",
       "    .dataframe tbody tr th {\n",
       "        vertical-align: top;\n",
       "    }\n",
       "\n",
       "    .dataframe thead th {\n",
       "        text-align: right;\n",
       "    }\n",
       "</style>\n",
       "<table border=\"1\" class=\"dataframe\">\n",
       "  <thead>\n",
       "    <tr style=\"text-align: right;\">\n",
       "      <th></th>\n",
       "      <th>id_patient</th>\n",
       "      <th>PASm</th>\n",
       "    </tr>\n",
       "  </thead>\n",
       "  <tbody>\n",
       "    <tr>\n",
       "      <th>0</th>\n",
       "      <td>145</td>\n",
       "      <td>0.0</td>\n",
       "    </tr>\n",
       "    <tr>\n",
       "      <th>1</th>\n",
       "      <td>145</td>\n",
       "      <td>0.0</td>\n",
       "    </tr>\n",
       "    <tr>\n",
       "      <th>2</th>\n",
       "      <td>145</td>\n",
       "      <td>0.0</td>\n",
       "    </tr>\n",
       "    <tr>\n",
       "      <th>3</th>\n",
       "      <td>145</td>\n",
       "      <td>0.0</td>\n",
       "    </tr>\n",
       "    <tr>\n",
       "      <th>4</th>\n",
       "      <td>145</td>\n",
       "      <td>0.0</td>\n",
       "    </tr>\n",
       "  </tbody>\n",
       "</table>\n",
       "</div>"
      ],
      "text/plain": [
       "   id_patient  PASm\n",
       "0         145   0.0\n",
       "1         145   0.0\n",
       "2         145   0.0\n",
       "3         145   0.0\n",
       "4         145   0.0"
      ]
     },
     "execution_count": 33,
     "metadata": {},
     "output_type": "execute_result"
    }
   ],
   "source": [
    "#1) PAM (PAS + 2 x PAD)/3 > 60 mmHg (et NORADRENALINE < 1mg/h)\n",
    "\n",
    "#--> PASm \tmmHg \tPression artérielle moyenne \t >60 objectif pendant l'opération // < 40 sévérité de la situation\n",
    "df_dynamic.loc[:,['id_patient','PASm']].head()"
   ]
  },
  {
   "cell_type": "code",
   "execution_count": null,
   "metadata": {},
   "outputs": [],
   "source": [
    "#si pasm n'est pas à 0, est ce que au dessus de 60 ?"
   ]
  },
  {
   "cell_type": "code",
   "execution_count": 34,
   "metadata": {},
   "outputs": [],
   "source": [
    "df_temp = df_dynamic[df_dynamic['id_patient']==145]"
   ]
  },
  {
   "cell_type": "code",
   "execution_count": 42,
   "metadata": {},
   "outputs": [],
   "source": [
    "nb_zeros = df_temp['PASm'][df_temp['PASm']==0].count()\n",
    "nb_non_zero = df_temp['PASm'][df_temp['PASm']>0].count()\n",
    "nb_ok = df_temp['PASm'][df_temp['PASm']>60].count()\n",
    "nb_ko = nb_non_zero-nb_ok"
   ]
  },
  {
   "cell_type": "code",
   "execution_count": 43,
   "metadata": {},
   "outputs": [
    {
     "data": {
      "text/plain": [
       "97.7671451355662"
      ]
     },
     "execution_count": 43,
     "metadata": {},
     "output_type": "execute_result"
    }
   ],
   "source": [
    "(nb_ok/nb_non_zero)*100"
   ]
  },
  {
   "cell_type": "code",
   "execution_count": 46,
   "metadata": {},
   "outputs": [
    {
     "data": {
      "text/plain": [
       "['NORAD_initiale',\n",
       " 'NORAD_clampage_cote_1',\n",
       " 'NORAD_declampage_cote_1',\n",
       " 'NORAD_clampage_cote_2',\n",
       " 'NORAD_declampage_cote_2',\n",
       " 'NORAD_fermeture',\n",
       " ['adrenaline_perop', 'adre_end_surgery']]"
      ]
     },
     "execution_count": 46,
     "metadata": {},
     "output_type": "execute_result"
    }
   ],
   "source": [
    "#noradrenaline\n",
    "list_1 = [col for col in df_static.columns if 'NORAD' in col]\n",
    "list_1.append([col for col in df_static.columns if 'adre' in col])\n",
    "list_1"
   ]
  },
  {
   "cell_type": "code",
   "execution_count": 47,
   "metadata": {},
   "outputs": [
    {
     "data": {
      "text/plain": [
       "0    0.5\n",
       "1    1.2\n",
       "2    2.0\n",
       "3    0.2\n",
       "4    2.5\n",
       "Name: NORAD_fermeture, dtype: float64"
      ]
     },
     "execution_count": 47,
     "metadata": {},
     "output_type": "execute_result"
    }
   ],
   "source": [
    "df_static['NORAD_fermeture'].head()"
   ]
  },
  {
   "cell_type": "code",
   "execution_count": 48,
   "metadata": {},
   "outputs": [
    {
     "data": {
      "text/plain": [
       "0    0.0\n",
       "1    0.0\n",
       "2    0.0\n",
       "3    0.0\n",
       "4    0.0\n",
       "Name: adre_end_surgery, dtype: float64"
      ]
     },
     "execution_count": 48,
     "metadata": {},
     "output_type": "execute_result"
    }
   ],
   "source": [
    "df_static['adre_end_surgery'].head()"
   ]
  },
  {
   "cell_type": "code",
   "execution_count": null,
   "metadata": {},
   "outputs": [],
   "source": []
  }
 ],
 "metadata": {
  "kernelspec": {
   "display_name": "Python 3",
   "language": "python",
   "name": "python3"
  },
  "language_info": {
   "codemirror_mode": {
    "name": "ipython",
    "version": 3
   },
   "file_extension": ".py",
   "mimetype": "text/x-python",
   "name": "python",
   "nbconvert_exporter": "python",
   "pygments_lexer": "ipython3",
   "version": "3.6.8"
  }
 },
 "nbformat": 4,
 "nbformat_minor": 2
}
