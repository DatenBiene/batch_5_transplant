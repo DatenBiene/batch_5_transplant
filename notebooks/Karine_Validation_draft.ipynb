{
 "cells": [
  {
   "cell_type": "code",
   "execution_count": 268,
   "metadata": {},
   "outputs": [],
   "source": [
    "import pandas as pd\n",
    "import numpy as np\n",
    "import seaborn as sns\n",
    "import matplotlib.pyplot as plt\n",
    "import datetime\n",
    "from datetime import timedelta\n",
    "%matplotlib inline"
   ]
  },
  {
   "cell_type": "code",
   "execution_count": 269,
   "metadata": {},
   "outputs": [],
   "source": [
    "from transplant.config import *"
   ]
  },
  {
   "cell_type": "code",
   "execution_count": 3,
   "metadata": {},
   "outputs": [],
   "source": [
    "dataset = Dataset()"
   ]
  },
  {
   "cell_type": "code",
   "execution_count": 4,
   "metadata": {},
   "outputs": [
    {
     "name": "stderr",
     "output_type": "stream",
     "text": [
      "/home/karine/anaconda2/envs/py36/lib/python3.6/site-packages/ipykernel_launcher.py:2: FutureWarning: Sorting because non-concatenation axis is not aligned. A future version\n",
      "of pandas will change to not sort by default.\n",
      "\n",
      "To accept the future behavior, pass 'sort=False'.\n",
      "\n",
      "To retain the current behavior and silence the warning, pass 'sort=True'.\n",
      "\n",
      "  \n"
     ]
    }
   ],
   "source": [
    "train, test = dataset.get_static()\n",
    "data_static = pd.concat([train, test])"
   ]
  },
  {
   "cell_type": "code",
   "execution_count": 5,
   "metadata": {},
   "outputs": [],
   "source": [
    "train, test = dataset.get_dynamic()\n",
    "data_dynamic= pd.concat([train, test])"
   ]
  },
  {
   "cell_type": "code",
   "execution_count": null,
   "metadata": {},
   "outputs": [],
   "source": []
  },
  {
   "cell_type": "code",
   "execution_count": 6,
   "metadata": {},
   "outputs": [
    {
     "data": {
      "text/html": [
       "<div>\n",
       "<style scoped>\n",
       "    .dataframe tbody tr th:only-of-type {\n",
       "        vertical-align: middle;\n",
       "    }\n",
       "\n",
       "    .dataframe tbody tr th {\n",
       "        vertical-align: top;\n",
       "    }\n",
       "\n",
       "    .dataframe thead th {\n",
       "        text-align: right;\n",
       "    }\n",
       "</style>\n",
       "<table border=\"1\" class=\"dataframe\">\n",
       "  <thead>\n",
       "    <tr style=\"text-align: right;\">\n",
       "      <th></th>\n",
       "      <th>ATCD_chirugicaux</th>\n",
       "      <th>ATCD_medicaux</th>\n",
       "      <th>Age_donor</th>\n",
       "      <th>Aspirations_donor</th>\n",
       "      <th>BMI_donor</th>\n",
       "      <th>CMV_donneur</th>\n",
       "      <th>CMV_receveur</th>\n",
       "      <th>Donneur_CPT</th>\n",
       "      <th>EBV_donneur</th>\n",
       "      <th>Insuffisance_renale</th>\n",
       "      <th>...</th>\n",
       "      <th>preoperative_mechanical_ventilation</th>\n",
       "      <th>preoperative_pulmonary_hypertension</th>\n",
       "      <th>preoperative_vasopressor</th>\n",
       "      <th>retransplant</th>\n",
       "      <th>sexe</th>\n",
       "      <th>super_urgence</th>\n",
       "      <th>target</th>\n",
       "      <th>thoracic_surgery_history</th>\n",
       "      <th>time_on_waiting_liste</th>\n",
       "      <th>transplanted_twice_during_study_period</th>\n",
       "    </tr>\n",
       "  </thead>\n",
       "  <tbody>\n",
       "    <tr>\n",
       "      <th>194</th>\n",
       "      <td>Non</td>\n",
       "      <td>Mucoviscidose diagnostiquée à l'âge de 12 ans ...</td>\n",
       "      <td>45</td>\n",
       "      <td>3</td>\n",
       "      <td>25.351541</td>\n",
       "      <td>Positif</td>\n",
       "      <td>Positif</td>\n",
       "      <td>6650.0</td>\n",
       "      <td>NaN</td>\n",
       "      <td>0</td>\n",
       "      <td>...</td>\n",
       "      <td>0.0</td>\n",
       "      <td>0.0</td>\n",
       "      <td>0.0</td>\n",
       "      <td>0</td>\n",
       "      <td>0</td>\n",
       "      <td>0</td>\n",
       "      <td>1.0</td>\n",
       "      <td>0</td>\n",
       "      <td>32</td>\n",
       "      <td>0</td>\n",
       "    </tr>\n",
       "    <tr>\n",
       "      <th>313</th>\n",
       "      <td>NaN</td>\n",
       "      <td>ep 2012 \\nRGO</td>\n",
       "      <td>60</td>\n",
       "      <td>1</td>\n",
       "      <td>NaN</td>\n",
       "      <td>Négatif</td>\n",
       "      <td>Positif</td>\n",
       "      <td>5100.0</td>\n",
       "      <td>Positif</td>\n",
       "      <td>0</td>\n",
       "      <td>...</td>\n",
       "      <td>0.0</td>\n",
       "      <td>0.0</td>\n",
       "      <td>0.0</td>\n",
       "      <td>0</td>\n",
       "      <td>1</td>\n",
       "      <td>0</td>\n",
       "      <td>0.0</td>\n",
       "      <td>0</td>\n",
       "      <td>18</td>\n",
       "      <td>0</td>\n",
       "    </tr>\n",
       "    <tr>\n",
       "      <th>52</th>\n",
       "      <td>- appendicectomie\\n- reprise de cicatrices de ...</td>\n",
       "      <td>- Mucoviscidose homozygote DeltaF508, DDB et i...</td>\n",
       "      <td>21</td>\n",
       "      <td>1</td>\n",
       "      <td>20.569330</td>\n",
       "      <td>Négatif</td>\n",
       "      <td>Négatif</td>\n",
       "      <td>6100.0</td>\n",
       "      <td>NaN</td>\n",
       "      <td>0</td>\n",
       "      <td>...</td>\n",
       "      <td>0.0</td>\n",
       "      <td>1.0</td>\n",
       "      <td>0.0</td>\n",
       "      <td>0</td>\n",
       "      <td>0</td>\n",
       "      <td>0</td>\n",
       "      <td>1.0</td>\n",
       "      <td>1</td>\n",
       "      <td>16</td>\n",
       "      <td>0</td>\n",
       "    </tr>\n",
       "    <tr>\n",
       "      <th>132</th>\n",
       "      <td>Appendicectomie</td>\n",
       "      <td>Mucoviscidose découverte à l'âge de 11 ans. Ox...</td>\n",
       "      <td>52</td>\n",
       "      <td>1</td>\n",
       "      <td>24.930748</td>\n",
       "      <td>Négatif</td>\n",
       "      <td>Positif</td>\n",
       "      <td>8100.0</td>\n",
       "      <td>NaN</td>\n",
       "      <td>0</td>\n",
       "      <td>...</td>\n",
       "      <td>0.0</td>\n",
       "      <td>0.0</td>\n",
       "      <td>0.0</td>\n",
       "      <td>0</td>\n",
       "      <td>1</td>\n",
       "      <td>0</td>\n",
       "      <td>1.0</td>\n",
       "      <td>0</td>\n",
       "      <td>44</td>\n",
       "      <td>0</td>\n",
       "    </tr>\n",
       "    <tr>\n",
       "      <th>22</th>\n",
       "      <td>NaN</td>\n",
       "      <td>- mucoviscidose homozygote DeltaF508 diagnosti...</td>\n",
       "      <td>20</td>\n",
       "      <td>3</td>\n",
       "      <td>29.150514</td>\n",
       "      <td>NaN</td>\n",
       "      <td>NaN</td>\n",
       "      <td>7400.0</td>\n",
       "      <td>NaN</td>\n",
       "      <td>0</td>\n",
       "      <td>...</td>\n",
       "      <td>0.0</td>\n",
       "      <td>1.0</td>\n",
       "      <td>0.0</td>\n",
       "      <td>0</td>\n",
       "      <td>0</td>\n",
       "      <td>0</td>\n",
       "      <td>0.0</td>\n",
       "      <td>0</td>\n",
       "      <td>6</td>\n",
       "      <td>0</td>\n",
       "    </tr>\n",
       "  </tbody>\n",
       "</table>\n",
       "<p>5 rows × 43 columns</p>\n",
       "</div>"
      ],
      "text/plain": [
       "                                      ATCD_chirugicaux  \\\n",
       "194                                                Non   \n",
       "313                                                NaN   \n",
       "52   - appendicectomie\\n- reprise de cicatrices de ...   \n",
       "132                                    Appendicectomie   \n",
       "22                                                 NaN   \n",
       "\n",
       "                                         ATCD_medicaux  Age_donor  \\\n",
       "194  Mucoviscidose diagnostiquée à l'âge de 12 ans ...         45   \n",
       "313                                      ep 2012 \\nRGO         60   \n",
       "52   - Mucoviscidose homozygote DeltaF508, DDB et i...         21   \n",
       "132  Mucoviscidose découverte à l'âge de 11 ans. Ox...         52   \n",
       "22   - mucoviscidose homozygote DeltaF508 diagnosti...         20   \n",
       "\n",
       "     Aspirations_donor  BMI_donor CMV_donneur CMV_receveur  Donneur_CPT  \\\n",
       "194                  3  25.351541     Positif      Positif       6650.0   \n",
       "313                  1        NaN     Négatif      Positif       5100.0   \n",
       "52                   1  20.569330     Négatif      Négatif       6100.0   \n",
       "132                  1  24.930748     Négatif      Positif       8100.0   \n",
       "22                   3  29.150514         NaN          NaN       7400.0   \n",
       "\n",
       "    EBV_donneur  Insuffisance_renale                   ...                    \\\n",
       "194         NaN                    0                   ...                     \n",
       "313     Positif                    0                   ...                     \n",
       "52          NaN                    0                   ...                     \n",
       "132         NaN                    0                   ...                     \n",
       "22          NaN                    0                   ...                     \n",
       "\n",
       "    preoperative_mechanical_ventilation  preoperative_pulmonary_hypertension  \\\n",
       "194                                 0.0                                  0.0   \n",
       "313                                 0.0                                  0.0   \n",
       "52                                  0.0                                  1.0   \n",
       "132                                 0.0                                  0.0   \n",
       "22                                  0.0                                  1.0   \n",
       "\n",
       "     preoperative_vasopressor  retransplant  sexe  super_urgence  target  \\\n",
       "194                       0.0             0     0              0     1.0   \n",
       "313                       0.0             0     1              0     0.0   \n",
       "52                        0.0             0     0              0     1.0   \n",
       "132                       0.0             0     1              0     1.0   \n",
       "22                        0.0             0     0              0     0.0   \n",
       "\n",
       "     thoracic_surgery_history  time_on_waiting_liste  \\\n",
       "194                         0                     32   \n",
       "313                         0                     18   \n",
       "52                          1                     16   \n",
       "132                         0                     44   \n",
       "22                          0                      6   \n",
       "\n",
       "     transplanted_twice_during_study_period  \n",
       "194                                       0  \n",
       "313                                       0  \n",
       "52                                        0  \n",
       "132                                       0  \n",
       "22                                        0  \n",
       "\n",
       "[5 rows x 43 columns]"
      ]
     },
     "execution_count": 6,
     "metadata": {},
     "output_type": "execute_result"
    }
   ],
   "source": [
    "data_static.head()"
   ]
  },
  {
   "cell_type": "code",
   "execution_count": 7,
   "metadata": {},
   "outputs": [
    {
     "data": {
      "text/plain": [
       "Index(['ATCD_chirugicaux', 'ATCD_medicaux', 'Age_donor', 'Aspirations_donor',\n",
       "       'BMI_donor', 'CMV_donneur', 'CMV_receveur', 'Donneur_CPT',\n",
       "       'EBV_donneur', 'Insuffisance_renale', 'LAS', 'PAPS', 'PFO', 'PF_donor',\n",
       "       'Poids', 'Poids_donor', 'RX_donor', 'Sex_donor', 'Tabagisme_donor',\n",
       "       'Taille', 'Taille_donor', 'age', 'body_mass_index',\n",
       "       'date_transplantation', 'diabetes', 'heure_arrivee_bloc', 'id_patient',\n",
       "       'other_organ_transplantation', 'oto_score', 'pathologie',\n",
       "       'plasmapherese', 'preoperative_ECMO', 'preoperative_ICU',\n",
       "       'preoperative_mechanical_ventilation',\n",
       "       'preoperative_pulmonary_hypertension', 'preoperative_vasopressor',\n",
       "       'retransplant', 'sexe', 'super_urgence', 'target',\n",
       "       'thoracic_surgery_history', 'time_on_waiting_liste',\n",
       "       'transplanted_twice_during_study_period'],\n",
       "      dtype='object')"
      ]
     },
     "execution_count": 7,
     "metadata": {},
     "output_type": "execute_result"
    }
   ],
   "source": [
    "data_static.columns"
   ]
  },
  {
   "cell_type": "code",
   "execution_count": 8,
   "metadata": {},
   "outputs": [
    {
     "data": {
      "text/plain": [
       "Index(['id_patient', 'time', 'B.I.S', 'BIS SR', 'DC', 'ETCO2', 'FC', 'FR',\n",
       "       'FiO2', 'PAPdia', 'PAPmoy', 'PAPsys', 'PASd', 'PASm', 'PASs',\n",
       "       'PEEPtotal', 'PNId', 'PNIm', 'PNIs', 'Pmax', 'Pmean', 'SpO2',\n",
       "       'SvO2 (m)', 'Temp', 'VT'],\n",
       "      dtype='object')"
      ]
     },
     "execution_count": 8,
     "metadata": {},
     "output_type": "execute_result"
    }
   ],
   "source": [
    "data_dynamic.columns"
   ]
  },
  {
   "cell_type": "code",
   "execution_count": 9,
   "metadata": {},
   "outputs": [],
   "source": [
    "list_ECMO = [col for col in data_static.columns if 'ECMO' in col]"
   ]
  },
  {
   "cell_type": "code",
   "execution_count": 10,
   "metadata": {},
   "outputs": [
    {
     "data": {
      "text/plain": [
       "['preoperative_ECMO']"
      ]
     },
     "execution_count": 10,
     "metadata": {},
     "output_type": "execute_result"
    }
   ],
   "source": [
    "list_ECMO"
   ]
  },
  {
   "cell_type": "code",
   "execution_count": null,
   "metadata": {},
   "outputs": [],
   "source": []
  },
  {
   "cell_type": "markdown",
   "metadata": {},
   "source": [
    "**Take all variables**"
   ]
  },
  {
   "cell_type": "code",
   "execution_count": 11,
   "metadata": {},
   "outputs": [],
   "source": [
    "df_static = pd.read_csv(PATH_STATIC_CLEAN)\n",
    "df_dynamic =  pd.read_csv(PATH_DYNAMIC_CLEAN)"
   ]
  },
  {
   "cell_type": "code",
   "execution_count": 12,
   "metadata": {},
   "outputs": [
    {
     "name": "stdout",
     "output_type": "stream",
     "text": [
      "<class 'pandas.core.frame.DataFrame'> (410, 285)\n"
     ]
    }
   ],
   "source": [
    "print(type(df_static), df_static.shape)"
   ]
  },
  {
   "cell_type": "code",
   "execution_count": 13,
   "metadata": {},
   "outputs": [
    {
     "name": "stdout",
     "output_type": "stream",
     "text": [
      "<class 'pandas.core.frame.DataFrame'> (264543, 39)\n"
     ]
    }
   ],
   "source": [
    "print(type(df_dynamic), df_dynamic.shape)"
   ]
  },
  {
   "cell_type": "code",
   "execution_count": 14,
   "metadata": {},
   "outputs": [
    {
     "data": {
      "text/html": [
       "<div>\n",
       "<style scoped>\n",
       "    .dataframe tbody tr th:only-of-type {\n",
       "        vertical-align: middle;\n",
       "    }\n",
       "\n",
       "    .dataframe tbody tr th {\n",
       "        vertical-align: top;\n",
       "    }\n",
       "\n",
       "    .dataframe thead th {\n",
       "        text-align: right;\n",
       "    }\n",
       "</style>\n",
       "<table border=\"1\" class=\"dataframe\">\n",
       "  <thead>\n",
       "    <tr style=\"text-align: right;\">\n",
       "      <th></th>\n",
       "      <th>id_patient</th>\n",
       "      <th>date_transplantation</th>\n",
       "      <th>heure_arrivee_bloc</th>\n",
       "      <th>pathologie</th>\n",
       "      <th>age</th>\n",
       "      <th>sexe</th>\n",
       "      <th>Poids</th>\n",
       "      <th>Taille</th>\n",
       "      <th>other_organ_transplantation</th>\n",
       "      <th>super_urgence</th>\n",
       "      <th>...</th>\n",
       "      <th>P_F_H0</th>\n",
       "      <th>PGD_H0</th>\n",
       "      <th>P_F_end_surgery</th>\n",
       "      <th>PGD_end_surgery</th>\n",
       "      <th>time_last_PF</th>\n",
       "      <th>PDG_h24</th>\n",
       "      <th>PGD_h48</th>\n",
       "      <th>PGD3</th>\n",
       "      <th>date_de_deces</th>\n",
       "      <th>Survival_days_27_10_2018</th>\n",
       "    </tr>\n",
       "  </thead>\n",
       "  <tbody>\n",
       "    <tr>\n",
       "      <th>0</th>\n",
       "      <td>1</td>\n",
       "      <td>2012-01-05</td>\n",
       "      <td>03:00:00</td>\n",
       "      <td>3</td>\n",
       "      <td>49</td>\n",
       "      <td>0</td>\n",
       "      <td>68.0</td>\n",
       "      <td>160</td>\n",
       "      <td>0</td>\n",
       "      <td>0</td>\n",
       "      <td>...</td>\n",
       "      <td>241.538462</td>\n",
       "      <td>E</td>\n",
       "      <td>210.0</td>\n",
       "      <td>2</td>\n",
       "      <td>192</td>\n",
       "      <td>1.0</td>\n",
       "      <td>1.0</td>\n",
       "      <td>1.0</td>\n",
       "      <td>NaN</td>\n",
       "      <td>2463</td>\n",
       "    </tr>\n",
       "    <tr>\n",
       "      <th>1</th>\n",
       "      <td>2</td>\n",
       "      <td>2012-01-08</td>\n",
       "      <td>03:15:00</td>\n",
       "      <td>1</td>\n",
       "      <td>42</td>\n",
       "      <td>1</td>\n",
       "      <td>49.0</td>\n",
       "      <td>165</td>\n",
       "      <td>0</td>\n",
       "      <td>0</td>\n",
       "      <td>...</td>\n",
       "      <td>NaN</td>\n",
       "      <td>NaN</td>\n",
       "      <td>304.0</td>\n",
       "      <td>1</td>\n",
       "      <td>158</td>\n",
       "      <td>0.0</td>\n",
       "      <td>0.0</td>\n",
       "      <td>0.0</td>\n",
       "      <td>NaN</td>\n",
       "      <td>2461</td>\n",
       "    </tr>\n",
       "    <tr>\n",
       "      <th>2</th>\n",
       "      <td>3</td>\n",
       "      <td>2012-01-11</td>\n",
       "      <td>13:30:00</td>\n",
       "      <td>1</td>\n",
       "      <td>22</td>\n",
       "      <td>1</td>\n",
       "      <td>51.0</td>\n",
       "      <td>173</td>\n",
       "      <td>0</td>\n",
       "      <td>0</td>\n",
       "      <td>...</td>\n",
       "      <td>103.750000</td>\n",
       "      <td>E</td>\n",
       "      <td>222.0</td>\n",
       "      <td>E</td>\n",
       "      <td>141</td>\n",
       "      <td>1.0</td>\n",
       "      <td>0.0</td>\n",
       "      <td>1.0</td>\n",
       "      <td>NaN</td>\n",
       "      <td>2457</td>\n",
       "    </tr>\n",
       "    <tr>\n",
       "      <th>3</th>\n",
       "      <td>4</td>\n",
       "      <td>2012-01-15</td>\n",
       "      <td>07:20:00</td>\n",
       "      <td>2</td>\n",
       "      <td>57</td>\n",
       "      <td>0</td>\n",
       "      <td>65.0</td>\n",
       "      <td>152</td>\n",
       "      <td>0</td>\n",
       "      <td>0</td>\n",
       "      <td>...</td>\n",
       "      <td>286.000000</td>\n",
       "      <td>2</td>\n",
       "      <td>453.0</td>\n",
       "      <td>1</td>\n",
       "      <td>102</td>\n",
       "      <td>0.0</td>\n",
       "      <td>0.0</td>\n",
       "      <td>0.0</td>\n",
       "      <td>2016-02-22</td>\n",
       "      <td>1499</td>\n",
       "    </tr>\n",
       "    <tr>\n",
       "      <th>4</th>\n",
       "      <td>5</td>\n",
       "      <td>2012-01-17</td>\n",
       "      <td>12:15:00</td>\n",
       "      <td>2</td>\n",
       "      <td>49</td>\n",
       "      <td>0</td>\n",
       "      <td>50.0</td>\n",
       "      <td>160</td>\n",
       "      <td>0</td>\n",
       "      <td>0</td>\n",
       "      <td>...</td>\n",
       "      <td>330.000000</td>\n",
       "      <td>1</td>\n",
       "      <td>192.0</td>\n",
       "      <td>3</td>\n",
       "      <td>124</td>\n",
       "      <td>1.0</td>\n",
       "      <td>1.0</td>\n",
       "      <td>1.0</td>\n",
       "      <td>NaN</td>\n",
       "      <td>2451</td>\n",
       "    </tr>\n",
       "  </tbody>\n",
       "</table>\n",
       "<p>5 rows × 285 columns</p>\n",
       "</div>"
      ],
      "text/plain": [
       "   id_patient date_transplantation heure_arrivee_bloc  pathologie  age  sexe  \\\n",
       "0           1           2012-01-05           03:00:00           3   49     0   \n",
       "1           2           2012-01-08           03:15:00           1   42     1   \n",
       "2           3           2012-01-11           13:30:00           1   22     1   \n",
       "3           4           2012-01-15           07:20:00           2   57     0   \n",
       "4           5           2012-01-17           12:15:00           2   49     0   \n",
       "\n",
       "   Poids  Taille  other_organ_transplantation  super_urgence  \\\n",
       "0   68.0     160                            0              0   \n",
       "1   49.0     165                            0              0   \n",
       "2   51.0     173                            0              0   \n",
       "3   65.0     152                            0              0   \n",
       "4   50.0     160                            0              0   \n",
       "\n",
       "             ...                 P_F_H0  PGD_H0  P_F_end_surgery  \\\n",
       "0            ...             241.538462       E            210.0   \n",
       "1            ...                    NaN     NaN            304.0   \n",
       "2            ...             103.750000       E            222.0   \n",
       "3            ...             286.000000       2            453.0   \n",
       "4            ...             330.000000       1            192.0   \n",
       "\n",
       "  PGD_end_surgery  time_last_PF  PDG_h24  PGD_h48 PGD3  date_de_deces  \\\n",
       "0               2           192      1.0      1.0  1.0            NaN   \n",
       "1               1           158      0.0      0.0  0.0            NaN   \n",
       "2               E           141      1.0      0.0  1.0            NaN   \n",
       "3               1           102      0.0      0.0  0.0     2016-02-22   \n",
       "4               3           124      1.0      1.0  1.0            NaN   \n",
       "\n",
       "   Survival_days_27_10_2018  \n",
       "0                      2463  \n",
       "1                      2461  \n",
       "2                      2457  \n",
       "3                      1499  \n",
       "4                      2451  \n",
       "\n",
       "[5 rows x 285 columns]"
      ]
     },
     "execution_count": 14,
     "metadata": {},
     "output_type": "execute_result"
    }
   ],
   "source": [
    "df_static.head()"
   ]
  },
  {
   "cell_type": "code",
   "execution_count": 15,
   "metadata": {},
   "outputs": [
    {
     "data": {
      "text/html": [
       "<div>\n",
       "<style scoped>\n",
       "    .dataframe tbody tr th:only-of-type {\n",
       "        vertical-align: middle;\n",
       "    }\n",
       "\n",
       "    .dataframe tbody tr th {\n",
       "        vertical-align: top;\n",
       "    }\n",
       "\n",
       "    .dataframe thead th {\n",
       "        text-align: right;\n",
       "    }\n",
       "</style>\n",
       "<table border=\"1\" class=\"dataframe\">\n",
       "  <thead>\n",
       "    <tr style=\"text-align: right;\">\n",
       "      <th></th>\n",
       "      <th>id_patient</th>\n",
       "      <th>time</th>\n",
       "      <th>B.I.S</th>\n",
       "      <th>BIS SR</th>\n",
       "      <th>DC</th>\n",
       "      <th>ET Des.</th>\n",
       "      <th>ET Sevo.</th>\n",
       "      <th>ETCO2</th>\n",
       "      <th>ETCO2 (mmHg)</th>\n",
       "      <th>ETO2</th>\n",
       "      <th>...</th>\n",
       "      <th>PNIs</th>\n",
       "      <th>PODmoy</th>\n",
       "      <th>Pmax</th>\n",
       "      <th>Pmean</th>\n",
       "      <th>Pplat</th>\n",
       "      <th>RR(co2)</th>\n",
       "      <th>SpO2</th>\n",
       "      <th>SvO2 (m)</th>\n",
       "      <th>Temp</th>\n",
       "      <th>VT</th>\n",
       "    </tr>\n",
       "  </thead>\n",
       "  <tbody>\n",
       "    <tr>\n",
       "      <th>0</th>\n",
       "      <td>145</td>\n",
       "      <td>2014-05-14 02:12:00</td>\n",
       "      <td>0.0</td>\n",
       "      <td>0.0</td>\n",
       "      <td>NaN</td>\n",
       "      <td>0.0</td>\n",
       "      <td>0.0</td>\n",
       "      <td>0.0</td>\n",
       "      <td>NaN</td>\n",
       "      <td>21.0</td>\n",
       "      <td>...</td>\n",
       "      <td>0.0</td>\n",
       "      <td>NaN</td>\n",
       "      <td>0.0</td>\n",
       "      <td>0.0</td>\n",
       "      <td>0.0</td>\n",
       "      <td>0.0</td>\n",
       "      <td>0</td>\n",
       "      <td>NaN</td>\n",
       "      <td>0.0</td>\n",
       "      <td>0.0</td>\n",
       "    </tr>\n",
       "    <tr>\n",
       "      <th>1</th>\n",
       "      <td>145</td>\n",
       "      <td>2014-05-14 02:13:00</td>\n",
       "      <td>0.0</td>\n",
       "      <td>0.0</td>\n",
       "      <td>NaN</td>\n",
       "      <td>0.0</td>\n",
       "      <td>0.0</td>\n",
       "      <td>0.0</td>\n",
       "      <td>NaN</td>\n",
       "      <td>21.0</td>\n",
       "      <td>...</td>\n",
       "      <td>0.0</td>\n",
       "      <td>NaN</td>\n",
       "      <td>0.0</td>\n",
       "      <td>0.0</td>\n",
       "      <td>0.0</td>\n",
       "      <td>0.0</td>\n",
       "      <td>0</td>\n",
       "      <td>NaN</td>\n",
       "      <td>0.0</td>\n",
       "      <td>0.0</td>\n",
       "    </tr>\n",
       "    <tr>\n",
       "      <th>2</th>\n",
       "      <td>145</td>\n",
       "      <td>2014-05-14 02:14:00</td>\n",
       "      <td>0.0</td>\n",
       "      <td>0.0</td>\n",
       "      <td>NaN</td>\n",
       "      <td>0.0</td>\n",
       "      <td>0.0</td>\n",
       "      <td>0.0</td>\n",
       "      <td>NaN</td>\n",
       "      <td>21.0</td>\n",
       "      <td>...</td>\n",
       "      <td>0.0</td>\n",
       "      <td>NaN</td>\n",
       "      <td>0.0</td>\n",
       "      <td>0.0</td>\n",
       "      <td>0.0</td>\n",
       "      <td>0.0</td>\n",
       "      <td>0</td>\n",
       "      <td>NaN</td>\n",
       "      <td>0.0</td>\n",
       "      <td>0.0</td>\n",
       "    </tr>\n",
       "    <tr>\n",
       "      <th>3</th>\n",
       "      <td>145</td>\n",
       "      <td>2014-05-14 02:15:00</td>\n",
       "      <td>0.0</td>\n",
       "      <td>0.0</td>\n",
       "      <td>NaN</td>\n",
       "      <td>0.0</td>\n",
       "      <td>0.0</td>\n",
       "      <td>0.0</td>\n",
       "      <td>NaN</td>\n",
       "      <td>21.0</td>\n",
       "      <td>...</td>\n",
       "      <td>0.0</td>\n",
       "      <td>NaN</td>\n",
       "      <td>0.0</td>\n",
       "      <td>0.0</td>\n",
       "      <td>0.0</td>\n",
       "      <td>0.0</td>\n",
       "      <td>100</td>\n",
       "      <td>NaN</td>\n",
       "      <td>0.0</td>\n",
       "      <td>0.0</td>\n",
       "    </tr>\n",
       "    <tr>\n",
       "      <th>4</th>\n",
       "      <td>145</td>\n",
       "      <td>2014-05-14 02:16:00</td>\n",
       "      <td>0.0</td>\n",
       "      <td>0.0</td>\n",
       "      <td>NaN</td>\n",
       "      <td>0.0</td>\n",
       "      <td>0.0</td>\n",
       "      <td>0.0</td>\n",
       "      <td>NaN</td>\n",
       "      <td>21.0</td>\n",
       "      <td>...</td>\n",
       "      <td>0.0</td>\n",
       "      <td>NaN</td>\n",
       "      <td>0.0</td>\n",
       "      <td>0.0</td>\n",
       "      <td>0.0</td>\n",
       "      <td>0.0</td>\n",
       "      <td>100</td>\n",
       "      <td>NaN</td>\n",
       "      <td>0.0</td>\n",
       "      <td>0.0</td>\n",
       "    </tr>\n",
       "  </tbody>\n",
       "</table>\n",
       "<p>5 rows × 39 columns</p>\n",
       "</div>"
      ],
      "text/plain": [
       "   id_patient                 time  B.I.S  BIS SR  DC  ET Des.  ET Sevo.  \\\n",
       "0         145  2014-05-14 02:12:00    0.0     0.0 NaN      0.0       0.0   \n",
       "1         145  2014-05-14 02:13:00    0.0     0.0 NaN      0.0       0.0   \n",
       "2         145  2014-05-14 02:14:00    0.0     0.0 NaN      0.0       0.0   \n",
       "3         145  2014-05-14 02:15:00    0.0     0.0 NaN      0.0       0.0   \n",
       "4         145  2014-05-14 02:16:00    0.0     0.0 NaN      0.0       0.0   \n",
       "\n",
       "   ETCO2  ETCO2 (mmHg)  ETO2 ...   PNIs  PODmoy  Pmax  Pmean  Pplat  RR(co2)  \\\n",
       "0    0.0           NaN  21.0 ...    0.0     NaN   0.0    0.0    0.0      0.0   \n",
       "1    0.0           NaN  21.0 ...    0.0     NaN   0.0    0.0    0.0      0.0   \n",
       "2    0.0           NaN  21.0 ...    0.0     NaN   0.0    0.0    0.0      0.0   \n",
       "3    0.0           NaN  21.0 ...    0.0     NaN   0.0    0.0    0.0      0.0   \n",
       "4    0.0           NaN  21.0 ...    0.0     NaN   0.0    0.0    0.0      0.0   \n",
       "\n",
       "   SpO2  SvO2 (m)  Temp   VT  \n",
       "0     0       NaN   0.0  0.0  \n",
       "1     0       NaN   0.0  0.0  \n",
       "2     0       NaN   0.0  0.0  \n",
       "3   100       NaN   0.0  0.0  \n",
       "4   100       NaN   0.0  0.0  \n",
       "\n",
       "[5 rows x 39 columns]"
      ]
     },
     "execution_count": 15,
     "metadata": {},
     "output_type": "execute_result"
    }
   ],
   "source": [
    "df_dynamic.head()"
   ]
  },
  {
   "cell_type": "markdown",
   "metadata": {},
   "source": [
    "# First Node : ECMO"
   ]
  },
  {
   "cell_type": "code",
   "execution_count": 16,
   "metadata": {},
   "outputs": [],
   "source": [
    "list_ECMO = [col for col in df_static.columns if 'ECMO' in col]"
   ]
  },
  {
   "cell_type": "code",
   "execution_count": 17,
   "metadata": {},
   "outputs": [
    {
     "data": {
      "text/plain": [
       "['preoperative_ECMO',\n",
       " 'postoperative_ECMO',\n",
       " 'only_intraoperative_ECMO',\n",
       " 'ECMO_during_surgery',\n",
       " 'ECMO_duration',\n",
       " 'moment_de_pose_ECMO',\n",
       " 'cause_ECMO',\n",
       " 'ECMO',\n",
       " 'secondary_ECMO',\n",
       " 'delai_recours_ECMO',\n",
       " 'Cause_ECMO_secondaire']"
      ]
     },
     "execution_count": 17,
     "metadata": {},
     "output_type": "execute_result"
    }
   ],
   "source": [
    "list_ECMO"
   ]
  },
  {
   "cell_type": "code",
   "execution_count": 18,
   "metadata": {},
   "outputs": [
    {
     "data": {
      "text/plain": [
       "0    205\n",
       "1    205\n",
       "Name: ECMO_during_surgery, dtype: int64"
      ]
     },
     "execution_count": 18,
     "metadata": {},
     "output_type": "execute_result"
    }
   ],
   "source": [
    "df_static['ECMO_during_surgery'].astype('str').value_counts()"
   ]
  },
  {
   "cell_type": "code",
   "execution_count": 44,
   "metadata": {},
   "outputs": [
    {
     "data": {
      "text/plain": [
       "True"
      ]
     },
     "execution_count": 44,
     "metadata": {},
     "output_type": "execute_result"
    }
   ],
   "source": [
    "df_static['ECMO_during_surgery'][df_static['id_patient']==145].values[0]==0"
   ]
  },
  {
   "cell_type": "code",
   "execution_count": 42,
   "metadata": {},
   "outputs": [],
   "source": [
    "def split_ECMO_during_surgery(data,id_patient):\n",
    "    \"\"\"\n",
    "    Return boolean \n",
    "    True : presence of ECMO during surgery\n",
    "    False : absence of ECMO during surgery\n",
    "    \"\"\"\n",
    "    return data['ECMO_during_surgery'][data['id_patient']==id_patient].values[0]==1"
   ]
  },
  {
   "cell_type": "code",
   "execution_count": 43,
   "metadata": {},
   "outputs": [
    {
     "data": {
      "text/plain": [
       "False"
      ]
     },
     "execution_count": 43,
     "metadata": {},
     "output_type": "execute_result"
    }
   ],
   "source": [
    "split_ECMO_during_surgery(df_static,145)"
   ]
  },
  {
   "cell_type": "code",
   "execution_count": 104,
   "metadata": {},
   "outputs": [
    {
     "name": "stdout",
     "output_type": "stream",
     "text": [
      "410 410\n"
     ]
    }
   ],
   "source": [
    "print(df_static['ECMO_during_surgery'].count(),df_static['ECMO_during_surgery'].shape[0])"
   ]
  },
  {
   "cell_type": "markdown",
   "metadata": {},
   "source": [
    "## ECMO YES  ->  Second node : ECMO weaning test\n",
    "\n",
    "1) PAM (PAS + 2 x PAD)/3 > 60 mmHg et NORADRENALINE < 1mg/h (pas d'ADRENALINE)   \n",
    "--> modif morgan ok si la norad a suffisamment baissé \n",
    "\n",
    "2) ECMO flow < 1L/min (info non disponible)\n",
    "\n",
    "3) PaO2/FiO2 ratio > 200 with FiO2 = 50%  \n",
    "--> modif morgan : on peut ne pas prendre en compte le  FiO2 = 50%   \n",
    "\n",
    "4) diminution des PAP (s/m/d) -> regarder l'évolution des PAP (Evolution_PAPXXX) : la diminution est un élement positif  \n",
    "--> modif morgan : on peut regarder seulement evol de PAPm :  \n",
    "                   si > val normalité --> pas bon,   \n",
    "                   si < 30 --> ok  \n",
    "                   si entre les 2 seuils : regarder si ça a suffisamment baissé\n",
    "                   \n",
    "5) regarder dans les commentaires de l'echocardiographie transoesophagienne (Examen_EchographiqueXXX) "
   ]
  },
  {
   "cell_type": "markdown",
   "metadata": {},
   "source": [
    "1) PAM (PAS + 2 x PAD)/3 > 60 mmHg (et NORADRENALINE < 1mg/h)  \n",
    "--> PASm \tmmHg \tPression artérielle moyenne \t >60 objectif pendant l'opération // < 40 sévérité de la situation"
   ]
  },
  {
   "cell_type": "code",
   "execution_count": 82,
   "metadata": {},
   "outputs": [
    {
     "data": {
      "text/html": [
       "<div>\n",
       "<style scoped>\n",
       "    .dataframe tbody tr th:only-of-type {\n",
       "        vertical-align: middle;\n",
       "    }\n",
       "\n",
       "    .dataframe tbody tr th {\n",
       "        vertical-align: top;\n",
       "    }\n",
       "\n",
       "    .dataframe thead th {\n",
       "        text-align: right;\n",
       "    }\n",
       "</style>\n",
       "<table border=\"1\" class=\"dataframe\">\n",
       "  <thead>\n",
       "    <tr style=\"text-align: right;\">\n",
       "      <th></th>\n",
       "      <th>id_patient</th>\n",
       "      <th>PASm</th>\n",
       "    </tr>\n",
       "  </thead>\n",
       "  <tbody>\n",
       "    <tr>\n",
       "      <th>0</th>\n",
       "      <td>145</td>\n",
       "      <td>0.0</td>\n",
       "    </tr>\n",
       "    <tr>\n",
       "      <th>1</th>\n",
       "      <td>145</td>\n",
       "      <td>0.0</td>\n",
       "    </tr>\n",
       "    <tr>\n",
       "      <th>2</th>\n",
       "      <td>145</td>\n",
       "      <td>0.0</td>\n",
       "    </tr>\n",
       "    <tr>\n",
       "      <th>3</th>\n",
       "      <td>145</td>\n",
       "      <td>0.0</td>\n",
       "    </tr>\n",
       "    <tr>\n",
       "      <th>4</th>\n",
       "      <td>145</td>\n",
       "      <td>0.0</td>\n",
       "    </tr>\n",
       "  </tbody>\n",
       "</table>\n",
       "</div>"
      ],
      "text/plain": [
       "   id_patient  PASm\n",
       "0         145   0.0\n",
       "1         145   0.0\n",
       "2         145   0.0\n",
       "3         145   0.0\n",
       "4         145   0.0"
      ]
     },
     "execution_count": 82,
     "metadata": {},
     "output_type": "execute_result"
    }
   ],
   "source": [
    "df_dynamic.loc[:,['id_patient','PASm']].head()"
   ]
  },
  {
   "cell_type": "code",
   "execution_count": 20,
   "metadata": {},
   "outputs": [],
   "source": [
    "#si pasm n'est pas à 0, est ce que au dessus de 60 ?"
   ]
  },
  {
   "cell_type": "code",
   "execution_count": 188,
   "metadata": {},
   "outputs": [],
   "source": [
    "df_temp = df_dynamic[df_dynamic['id_patient']==145]"
   ]
  },
  {
   "cell_type": "code",
   "execution_count": 22,
   "metadata": {},
   "outputs": [],
   "source": [
    "nb_zeros = df_temp['PASm'][df_temp['PASm']==0].count()\n",
    "nb_non_zero = df_temp['PASm'][df_temp['PASm']>0].count()\n",
    "nb_ok = df_temp['PASm'][df_temp['PASm']>60].count()\n",
    "nb_ko = nb_non_zero-nb_ok"
   ]
  },
  {
   "cell_type": "code",
   "execution_count": 47,
   "metadata": {},
   "outputs": [
    {
     "data": {
      "text/plain": [
       "628"
      ]
     },
     "execution_count": 47,
     "metadata": {},
     "output_type": "execute_result"
    }
   ],
   "source": [
    "df_dynamic['PASm'][(df_dynamic['id_patient']==145)&(df_dynamic['PASm']!=0)].count()"
   ]
  },
  {
   "cell_type": "code",
   "execution_count": 49,
   "metadata": {},
   "outputs": [
    {
     "data": {
      "text/plain": [
       "627"
      ]
     },
     "execution_count": 49,
     "metadata": {},
     "output_type": "execute_result"
    }
   ],
   "source": [
    "nb_non_zero"
   ]
  },
  {
   "cell_type": "code",
   "execution_count": 23,
   "metadata": {},
   "outputs": [
    {
     "data": {
      "text/plain": [
       "97.7671451355662"
      ]
     },
     "execution_count": 23,
     "metadata": {},
     "output_type": "execute_result"
    }
   ],
   "source": [
    "(nb_ok/nb_non_zero)*100"
   ]
  },
  {
   "cell_type": "code",
   "execution_count": 106,
   "metadata": {},
   "outputs": [
    {
     "name": "stdout",
     "output_type": "stream",
     "text": [
      "260782 264543\n"
     ]
    }
   ],
   "source": [
    "print(df_dynamic['PASm'].count(),df_dynamic['PASm'].shape[0])"
   ]
  },
  {
   "cell_type": "code",
   "execution_count": 201,
   "metadata": {},
   "outputs": [],
   "source": [
    "def time_offset_dynamic(df, time_offset=60):\n",
    "    \"\"\"\n",
    "    PB : on regarde seulement les variables à la fin de l'opération et non pendant toute la chirurgie\n",
    "    \"\"\"\n",
    "    df['time']= pd.to_datetime(df['time'])\n",
    "    date_min = df['time'].max() - timedelta(minutes=time_offset)\n",
    "    return df[df['time'] >= date_min]"
   ]
  },
  {
   "cell_type": "code",
   "execution_count": 266,
   "metadata": {},
   "outputs": [],
   "source": [
    "def test_PASm_sup(data, id_patient, threshold=90, obj=60):\n",
    "    \"\"\"\n",
    "    ECMO weaning test - test1 a\n",
    "    Return boolean\n",
    "    True : at the end of surgery (time_offset, when PASm not equal 0, at least (threshold)% of the values are > 60\n",
    "    False : during surgery, when PASm not equal 0, more than (100-threshold)% of the values are <= 60\n",
    "    \"\"\"\n",
    "    df = time_offset_dynamic(data[data['id_patient']==id_patient])\n",
    "    non_zeros = df['PASm'][df['PASm']!=0].count()\n",
    "    nb_ok = df['PASm'][df['PASm']>obj].count()\n",
    "    return (nb_ok/non_zeros)*100>threshold"
   ]
  },
  {
   "cell_type": "code",
   "execution_count": 267,
   "metadata": {},
   "outputs": [
    {
     "name": "stderr",
     "output_type": "stream",
     "text": [
      "/home/karine/anaconda2/envs/py36/lib/python3.6/site-packages/ipykernel_launcher.py:5: SettingWithCopyWarning: \n",
      "A value is trying to be set on a copy of a slice from a DataFrame.\n",
      "Try using .loc[row_indexer,col_indexer] = value instead\n",
      "\n",
      "See the caveats in the documentation: http://pandas.pydata.org/pandas-docs/stable/indexing.html#indexing-view-versus-copy\n",
      "  \"\"\"\n"
     ]
    },
    {
     "data": {
      "text/plain": [
       "True"
      ]
     },
     "execution_count": 267,
     "metadata": {},
     "output_type": "execute_result"
    }
   ],
   "source": [
    "test_PASm_sup(df_dynamic,12,90, obj=60)"
   ]
  },
  {
   "cell_type": "code",
   "execution_count": 24,
   "metadata": {},
   "outputs": [
    {
     "data": {
      "text/plain": [
       "['NORAD_initiale',\n",
       " 'NORAD_clampage_cote_1',\n",
       " 'NORAD_declampage_cote_1',\n",
       " 'NORAD_clampage_cote_2',\n",
       " 'NORAD_declampage_cote_2',\n",
       " 'NORAD_fermeture',\n",
       " ['adrenaline_perop', 'adre_end_surgery']]"
      ]
     },
     "execution_count": 24,
     "metadata": {},
     "output_type": "execute_result"
    }
   ],
   "source": [
    "#noradrenaline < 1mg/h\n",
    "list_1 = [col for col in df_static.columns if 'NORAD' in col]\n",
    "list_1.append([col for col in df_static.columns if 'adre' in col])\n",
    "list_1"
   ]
  },
  {
   "cell_type": "code",
   "execution_count": 25,
   "metadata": {},
   "outputs": [
    {
     "data": {
      "text/plain": [
       "0    0.5\n",
       "1    1.2\n",
       "2    2.0\n",
       "3    0.2\n",
       "4    2.5\n",
       "Name: NORAD_fermeture, dtype: float64"
      ]
     },
     "execution_count": 25,
     "metadata": {},
     "output_type": "execute_result"
    }
   ],
   "source": [
    "df_static['NORAD_fermeture'].head()"
   ]
  },
  {
   "cell_type": "code",
   "execution_count": 52,
   "metadata": {},
   "outputs": [
    {
     "data": {
      "text/plain": [
       "0    1.8\n",
       "1    1.8\n",
       "2    2.4\n",
       "3    0.5\n",
       "4    2.0\n",
       "Name: NORAD_declampage_cote_2, dtype: float64"
      ]
     },
     "execution_count": 52,
     "metadata": {},
     "output_type": "execute_result"
    }
   ],
   "source": [
    "df_static['NORAD_declampage_cote_2'].head()"
   ]
  },
  {
   "cell_type": "code",
   "execution_count": 107,
   "metadata": {},
   "outputs": [
    {
     "name": "stdout",
     "output_type": "stream",
     "text": [
      "376 410\n"
     ]
    }
   ],
   "source": [
    "print(df_static['NORAD_fermeture'].count(),df_static['NORAD_fermeture'].shape[0])"
   ]
  },
  {
   "cell_type": "code",
   "execution_count": 117,
   "metadata": {},
   "outputs": [],
   "source": [
    "def Sufficient_decline(declampage_2,fermeture, decline=1/3, epsilon = 0.001):\n",
    "    if fermeture > declampage_2:\n",
    "        return False\n",
    "    delta = declampage_2 - fermeture\n",
    "    #grande diminution delta < (1/3)*declampage_2\n",
    "    if delta < decline*declampage_2:\n",
    "        return True\n",
    "    #autour de 1/3 ou pas\n",
    "    return np.abs(delta - decline*declampage_2)<= epsilon"
   ]
  },
  {
   "cell_type": "code",
   "execution_count": 112,
   "metadata": {},
   "outputs": [
    {
     "name": "stdout",
     "output_type": "stream",
     "text": [
      "True\n",
      "False\n",
      "False\n"
     ]
    }
   ],
   "source": [
    "print(Sufficient_decline(1.8,1.2, epsilon = 0.001))\n",
    "print(Sufficient_decline(1.8,np.nan, epsilon = 0.001))\n",
    "print(Sufficient_decline(np.nan, 1.2, epsilon = 0.001))"
   ]
  },
  {
   "cell_type": "code",
   "execution_count": 72,
   "metadata": {},
   "outputs": [],
   "source": [
    "def test_noradrenaline(data,id_patient):\n",
    "    \n",
    "    \"\"\"\n",
    "    ECMO weaning test - test1 b\n",
    "    return boolean\n",
    "    True : noradrenaline <1mg/h OU noradrenaline <1.5 avec une baisse entre NORAD_declampage_cote_2 et NORAD_fermeture\n",
    "    False : ^True\n",
    "    \"\"\"\n",
    "    if data['NORAD_fermeture'][data['id_patient']==id_patient].values[0] >= 1.5:\n",
    "        return False\n",
    "    elif data['NORAD_fermeture'][data['id_patient']==id_patient].values[0] < 1:\n",
    "        return True\n",
    "    else : \n",
    "        return Sufficient_decline(data['NORAD_declampage_cote_2'][data['id_patient']==id_patient].values[0],\n",
    "                                  data['NORAD_fermeture'][data['id_patient']==id_patient].values[0],\n",
    "                                  decline=1/3, epsilon = 0.001)"
   ]
  },
  {
   "cell_type": "code",
   "execution_count": 73,
   "metadata": {},
   "outputs": [
    {
     "data": {
      "text/html": [
       "<div>\n",
       "<style scoped>\n",
       "    .dataframe tbody tr th:only-of-type {\n",
       "        vertical-align: middle;\n",
       "    }\n",
       "\n",
       "    .dataframe tbody tr th {\n",
       "        vertical-align: top;\n",
       "    }\n",
       "\n",
       "    .dataframe thead th {\n",
       "        text-align: right;\n",
       "    }\n",
       "</style>\n",
       "<table border=\"1\" class=\"dataframe\">\n",
       "  <thead>\n",
       "    <tr style=\"text-align: right;\">\n",
       "      <th></th>\n",
       "      <th>NORAD_declampage_cote_2</th>\n",
       "      <th>NORAD_fermeture</th>\n",
       "    </tr>\n",
       "  </thead>\n",
       "  <tbody>\n",
       "    <tr>\n",
       "      <th>144</th>\n",
       "      <td>0.0</td>\n",
       "      <td>4.0</td>\n",
       "    </tr>\n",
       "  </tbody>\n",
       "</table>\n",
       "</div>"
      ],
      "text/plain": [
       "     NORAD_declampage_cote_2  NORAD_fermeture\n",
       "144                      0.0              4.0"
      ]
     },
     "execution_count": 73,
     "metadata": {},
     "output_type": "execute_result"
    }
   ],
   "source": [
    "df_static[df_static['id_patient']==145].loc[:,['NORAD_declampage_cote_2','NORAD_fermeture']]"
   ]
  },
  {
   "cell_type": "code",
   "execution_count": 74,
   "metadata": {},
   "outputs": [
    {
     "data": {
      "text/plain": [
       "False"
      ]
     },
     "execution_count": 74,
     "metadata": {},
     "output_type": "execute_result"
    }
   ],
   "source": [
    "test_noradrenaline(df_static,145)"
   ]
  },
  {
   "cell_type": "markdown",
   "metadata": {},
   "source": [
    "2) ECMO flow < 1L/min (info non disponible) ?"
   ]
  },
  {
   "cell_type": "markdown",
   "metadata": {},
   "source": [
    "3) PaO2/FiO2 ratio > 200"
   ]
  },
  {
   "cell_type": "code",
   "execution_count": 84,
   "metadata": {},
   "outputs": [
    {
     "data": {
      "text/plain": [
       "['FiO2_fermeture',\n",
       " 'PH_fermeture',\n",
       " 'PAPS_fermeture',\n",
       " 'PA_fermeture',\n",
       " 'VT_fermeture',\n",
       " 'PaCO2_fermeture',\n",
       " 'PAPM_fermeture',\n",
       " 'FC_fermeture',\n",
       " 'Fr_fermeture',\n",
       " 'PaO2_fermeture',\n",
       " 'PAPD_fermeture',\n",
       " 'NORAD_fermeture',\n",
       " 'PEEP_fermeture',\n",
       " 'Bicarbonates_fermeture',\n",
       " 'NO_fermeture',\n",
       " 'Evolution_fermeture',\n",
       " 'SvO2_fermeture',\n",
       " 'Lactates_fermeture',\n",
       " 'Ic_fermeture',\n",
       " 'Hb_fermeture',\n",
       " 'Qc_fermeture',\n",
       " 'Fibroscopie_fermeture',\n",
       " 'Peridurale_fermeture',\n",
       " 'Fibrinogene_fermeture',\n",
       " 'Diurese_fermeture',\n",
       " 'Drains_D_fermeture',\n",
       " 'Drains_G_fermeture',\n",
       " 'Albumine 20% fermeture']"
      ]
     },
     "execution_count": 84,
     "metadata": {},
     "output_type": "execute_result"
    }
   ],
   "source": [
    "[col for col in df_static.columns if 'fermeture' in col]"
   ]
  },
  {
   "cell_type": "code",
   "execution_count": 85,
   "metadata": {},
   "outputs": [
    {
     "data": {
      "text/plain": [
       "0    181.0\n",
       "1    152.0\n",
       "2    178.0\n",
       "3    453.0\n",
       "4     96.0\n",
       "Name: PaO2_fermeture, dtype: float64"
      ]
     },
     "execution_count": 85,
     "metadata": {},
     "output_type": "execute_result"
    }
   ],
   "source": [
    "df_static['PaO2_fermeture'].head()"
   ]
  },
  {
   "cell_type": "code",
   "execution_count": 86,
   "metadata": {},
   "outputs": [
    {
     "data": {
      "text/plain": [
       "0    0.65\n",
       "1    0.50\n",
       "2    0.80\n",
       "3    1.00\n",
       "4    0.50\n",
       "Name: FiO2_fermeture, dtype: float64"
      ]
     },
     "execution_count": 86,
     "metadata": {},
     "output_type": "execute_result"
    }
   ],
   "source": [
    "df_static['FiO2_fermeture'].head()"
   ]
  },
  {
   "cell_type": "code",
   "execution_count": 88,
   "metadata": {},
   "outputs": [
    {
     "data": {
      "text/plain": [
       "count    404.000000\n",
       "mean       1.039604\n",
       "std        4.940995\n",
       "min        0.350000\n",
       "25%        0.500000\n",
       "50%        1.000000\n",
       "75%        1.000000\n",
       "max      100.000000\n",
       "Name: FiO2_fermeture, dtype: float64"
      ]
     },
     "execution_count": 88,
     "metadata": {},
     "output_type": "execute_result"
    }
   ],
   "source": [
    "df_static['FiO2_fermeture'].describe()"
   ]
  },
  {
   "cell_type": "code",
   "execution_count": 89,
   "metadata": {},
   "outputs": [
    {
     "data": {
      "text/plain": [
       "0    278.461538\n",
       "1    304.000000\n",
       "2    222.500000\n",
       "3    453.000000\n",
       "4    192.000000\n",
       "dtype: float64"
      ]
     },
     "execution_count": 89,
     "metadata": {},
     "output_type": "execute_result"
    }
   ],
   "source": [
    "(df_static['PaO2_fermeture']/df_static['FiO2_fermeture']).head()"
   ]
  },
  {
   "cell_type": "code",
   "execution_count": 144,
   "metadata": {},
   "outputs": [],
   "source": [
    "def test_ratio_pao2_fio2(data,id_patient,obj):\n",
    "    \"\"\"\n",
    "    ECMO weaning test - test3\n",
    "    return bool\n",
    "    True : PaO2/FiO2 ratio > obj\n",
    "    \"\"\"\n",
    "    ratio = data['PaO2_fermeture'][data['id_patient']==id_patient].values[0] / data['FiO2_fermeture'][data['id_patient']==id_patient].values[0]\n",
    "    return ratio >= obj"
   ]
  },
  {
   "cell_type": "code",
   "execution_count": 145,
   "metadata": {},
   "outputs": [
    {
     "data": {
      "text/plain": [
       "True"
      ]
     },
     "execution_count": 145,
     "metadata": {},
     "output_type": "execute_result"
    }
   ],
   "source": [
    "test_ratio_pao2_fio2(df_static, 145, 300)"
   ]
  },
  {
   "cell_type": "code",
   "execution_count": 146,
   "metadata": {},
   "outputs": [
    {
     "data": {
      "text/html": [
       "<div>\n",
       "<style scoped>\n",
       "    .dataframe tbody tr th:only-of-type {\n",
       "        vertical-align: middle;\n",
       "    }\n",
       "\n",
       "    .dataframe tbody tr th {\n",
       "        vertical-align: top;\n",
       "    }\n",
       "\n",
       "    .dataframe thead th {\n",
       "        text-align: right;\n",
       "    }\n",
       "</style>\n",
       "<table border=\"1\" class=\"dataframe\">\n",
       "  <thead>\n",
       "    <tr style=\"text-align: right;\">\n",
       "      <th></th>\n",
       "      <th>PaO2_fermeture</th>\n",
       "      <th>FiO2_fermeture</th>\n",
       "    </tr>\n",
       "  </thead>\n",
       "  <tbody>\n",
       "    <tr>\n",
       "      <th>144</th>\n",
       "      <td>376.0</td>\n",
       "      <td>1.0</td>\n",
       "    </tr>\n",
       "  </tbody>\n",
       "</table>\n",
       "</div>"
      ],
      "text/plain": [
       "     PaO2_fermeture  FiO2_fermeture\n",
       "144           376.0             1.0"
      ]
     },
     "execution_count": 146,
     "metadata": {},
     "output_type": "execute_result"
    }
   ],
   "source": [
    "df_static[df_static['id_patient']==145].loc[:,['PaO2_fermeture','FiO2_fermeture']]"
   ]
  },
  {
   "cell_type": "markdown",
   "metadata": {},
   "source": [
    "4) diminution des PAPM-> normalité et diminution"
   ]
  },
  {
   "cell_type": "code",
   "execution_count": 96,
   "metadata": {},
   "outputs": [
    {
     "data": {
      "text/plain": [
       "0   NaN\n",
       "1   NaN\n",
       "2   NaN\n",
       "3   NaN\n",
       "4   NaN\n",
       "Name: PAPM_fermeture, dtype: float64"
      ]
     },
     "execution_count": 96,
     "metadata": {},
     "output_type": "execute_result"
    }
   ],
   "source": [
    "df_static['PAPM_fermeture'].head()"
   ]
  },
  {
   "cell_type": "code",
   "execution_count": 102,
   "metadata": {},
   "outputs": [
    {
     "name": "stdout",
     "output_type": "stream",
     "text": [
      "212 410\n",
      "228 410\n"
     ]
    }
   ],
   "source": [
    "print(df_static['PAPM_fermeture'].count(),df_static['PAPM_fermeture'].shape[0])\n",
    "print(df_static['PAPM_declampage_cote_2'].count(),df_static['PAPM_declampage_cote_2'].shape[0])"
   ]
  },
  {
   "cell_type": "code",
   "execution_count": 113,
   "metadata": {},
   "outputs": [
    {
     "name": "stdout",
     "output_type": "stream",
     "text": [
      "294 410\n",
      "301 410\n"
     ]
    }
   ],
   "source": [
    "print(df_static['PAPS_fermeture'].count(),df_static['PAPS_fermeture'].shape[0])\n",
    "print(df_static['PAPS_declampage_cote_2'].count(),df_static['PAPS_declampage_cote_2'].shape[0])"
   ]
  },
  {
   "cell_type": "code",
   "execution_count": 103,
   "metadata": {},
   "outputs": [
    {
     "name": "stdout",
     "output_type": "stream",
     "text": [
      "287 410\n",
      "298 410\n"
     ]
    }
   ],
   "source": [
    "print(df_static['PAPD_fermeture'].count(),df_static['PAPD_fermeture'].shape[0])\n",
    "print(df_static['PAPD_declampage_cote_2'].count(),df_static['PAPD_declampage_cote_2'].shape[0])"
   ]
  },
  {
   "cell_type": "code",
   "execution_count": 115,
   "metadata": {},
   "outputs": [],
   "source": [
    "def test_PAP_evolution(data,id_patient):\n",
    "    \"\"\"\n",
    "    ECMO weaning test - test 4\n",
    "    return bool\n",
    "    True : If PAPS, PAPM, PAPD decrease \n",
    "    Att : bcp nan PAPm -> regarder PAPs\n",
    "    if nan return False\n",
    "    \"\"\"\n",
    "    if data['PAPS_fermeture'][data['id_patient']==id_patient].values[0] < 30:\n",
    "        return True\n",
    "    elif data['PAPS_fermeture'][data['id_patient']==id_patient].values[0] >= 50:\n",
    "        return False\n",
    "    else :\n",
    "        return Sufficient_decline(data['PAPS_declampage_cote_2'][data['id_patient']==id_patient].values[0],\n",
    "                                  data['PAPS_fermeture'][data['id_patient']==id_patient].values[0],\n",
    "                                  decline=1/3, epsilon = 0.001)"
   ]
  },
  {
   "cell_type": "code",
   "execution_count": 118,
   "metadata": {},
   "outputs": [
    {
     "data": {
      "text/plain": [
       "False"
      ]
     },
     "execution_count": 118,
     "metadata": {},
     "output_type": "execute_result"
    }
   ],
   "source": [
    "test_PAP_evolution(df_static,145)"
   ]
  },
  {
   "cell_type": "code",
   "execution_count": 119,
   "metadata": {},
   "outputs": [
    {
     "data": {
      "text/html": [
       "<div>\n",
       "<style scoped>\n",
       "    .dataframe tbody tr th:only-of-type {\n",
       "        vertical-align: middle;\n",
       "    }\n",
       "\n",
       "    .dataframe tbody tr th {\n",
       "        vertical-align: top;\n",
       "    }\n",
       "\n",
       "    .dataframe thead th {\n",
       "        text-align: right;\n",
       "    }\n",
       "</style>\n",
       "<table border=\"1\" class=\"dataframe\">\n",
       "  <thead>\n",
       "    <tr style=\"text-align: right;\">\n",
       "      <th></th>\n",
       "      <th>PAPS_declampage_cote_2</th>\n",
       "      <th>PAPS_fermeture</th>\n",
       "    </tr>\n",
       "  </thead>\n",
       "  <tbody>\n",
       "    <tr>\n",
       "      <th>144</th>\n",
       "      <td>26.0</td>\n",
       "      <td>32.0</td>\n",
       "    </tr>\n",
       "  </tbody>\n",
       "</table>\n",
       "</div>"
      ],
      "text/plain": [
       "     PAPS_declampage_cote_2  PAPS_fermeture\n",
       "144                    26.0            32.0"
      ]
     },
     "execution_count": 119,
     "metadata": {},
     "output_type": "execute_result"
    }
   ],
   "source": [
    "df_static[df_static['id_patient']==145].loc[:,['PAPS_declampage_cote_2','PAPS_fermeture']]"
   ]
  },
  {
   "cell_type": "code",
   "execution_count": 140,
   "metadata": {},
   "outputs": [],
   "source": [
    "def split_ECMO_weaning_test(data,id_patient):\n",
    "    \"\"\"\n",
    "    Return boolean \n",
    "    \"\"\"\n",
    "    sum_True = test_PASm_sup(data, id_patient, threshold=90, obj=60) + test_noradrenaline(data,id_patient) + test_ratio_pao2_fio2(data,id_patient,obj=200) + test_PAP_evolution(data,id_patient)\n",
    "    return sum_True == 4"
   ]
  },
  {
   "cell_type": "code",
   "execution_count": null,
   "metadata": {},
   "outputs": [],
   "source": []
  },
  {
   "cell_type": "markdown",
   "metadata": {},
   "source": [
    "## ECMO YES + ECMO weaning test = Success -> THIRD NODE : INO weaning test"
   ]
  },
  {
   "cell_type": "markdown",
   "metadata": {},
   "source": [
    "INO weaning test\n",
    "\n",
    "- augmentation du rapport PaO2/FiO2 ou de la SpO2  \n",
    "-> vu avec morgan : si au dessus de 300 ok meme si n'augmente pas\n",
    "-> entre 100 et 300 on regarde si evolution  \n",
    "- diminution des PAP (s/m/d) -> regarder l'évolution des PAP (Evolution_PAPXXX) : la diminution est un élement positif\n",
    "- regarder dans les commentaires de l'echocardiographie transoesophagienne (Examen_EchographiqueXXX) :"
   ]
  },
  {
   "cell_type": "code",
   "execution_count": 126,
   "metadata": {},
   "outputs": [
    {
     "data": {
      "text/plain": [
       "0    278.461538\n",
       "1    304.000000\n",
       "2    222.500000\n",
       "3    453.000000\n",
       "4    192.000000\n",
       "dtype: float64"
      ]
     },
     "execution_count": 126,
     "metadata": {},
     "output_type": "execute_result"
    }
   ],
   "source": [
    "(df_static['PaO2_fermeture']/df_static['FiO2_fermeture']).head()"
   ]
  },
  {
   "cell_type": "code",
   "execution_count": 128,
   "metadata": {},
   "outputs": [
    {
     "data": {
      "text/plain": [
       "0    241.538462\n",
       "1           NaN\n",
       "2    103.750000\n",
       "3    286.000000\n",
       "4    330.000000\n",
       "dtype: float64"
      ]
     },
     "execution_count": 128,
     "metadata": {},
     "output_type": "execute_result"
    }
   ],
   "source": [
    "(df_static['PaO2_declampage_cote_2']/df_static['FiO2_declampage_cote2']).head()"
   ]
  },
  {
   "cell_type": "code",
   "execution_count": 129,
   "metadata": {},
   "outputs": [
    {
     "data": {
      "text/plain": [
       "0     36.923077\n",
       "1           NaN\n",
       "2    118.750000\n",
       "3    167.000000\n",
       "4   -138.000000\n",
       "dtype: float64"
      ]
     },
     "execution_count": 129,
     "metadata": {},
     "output_type": "execute_result"
    }
   ],
   "source": [
    "(df_static['PaO2_fermeture']/df_static['FiO2_fermeture'] - df_static['PaO2_declampage_cote_2']/df_static['FiO2_declampage_cote2']).head()"
   ]
  },
  {
   "cell_type": "code",
   "execution_count": 130,
   "metadata": {},
   "outputs": [
    {
     "data": {
      "text/plain": [
       "410"
      ]
     },
     "execution_count": 130,
     "metadata": {},
     "output_type": "execute_result"
    }
   ],
   "source": [
    "(df_static['PaO2_fermeture']/df_static['FiO2_fermeture'] - df_static['PaO2_declampage_cote_2']/df_static['FiO2_declampage_cote2']).shape[0]"
   ]
  },
  {
   "cell_type": "code",
   "execution_count": 131,
   "metadata": {},
   "outputs": [
    {
     "data": {
      "text/plain": [
       "339"
      ]
     },
     "execution_count": 131,
     "metadata": {},
     "output_type": "execute_result"
    }
   ],
   "source": [
    "(df_static['PaO2_fermeture']/df_static['FiO2_fermeture'] - df_static['PaO2_declampage_cote_2']/df_static['FiO2_declampage_cote2']).count()"
   ]
  },
  {
   "cell_type": "code",
   "execution_count": 142,
   "metadata": {},
   "outputs": [],
   "source": [
    "def test_augm_ratio_pao2_fio2(data,id_patient):\n",
    "    \"\"\"\n",
    "    INO weaning test - test1\n",
    "    return bool\n",
    "    \"\"\"\n",
    "    if test_ratio_pao2_fio2(data,id_patient,obj=300):\n",
    "        return True\n",
    "    ratio_fermeture = data['PaO2_fermeture'][data['id_patient']==id_patient].values[0] / data['FiO2_fermeture'][data['id_patient']==id_patient].values[0]\n",
    "    ratio_declampage_cote_2 = data['PaO2_declampage_cote_2'][data['id_patient']==id_patient].values[0] / data['FiO2_declampage_cote2'][data['id_patient']==id_patient].values[0]\n",
    "    return ratio_fermeture - ratio_declampage_cote_2 > 0"
   ]
  },
  {
   "cell_type": "code",
   "execution_count": 147,
   "metadata": {},
   "outputs": [
    {
     "data": {
      "text/plain": [
       "True"
      ]
     },
     "execution_count": 147,
     "metadata": {},
     "output_type": "execute_result"
    }
   ],
   "source": [
    "test_augm_ratio_pao2_fio2(df_static,145)"
   ]
  },
  {
   "cell_type": "code",
   "execution_count": 139,
   "metadata": {},
   "outputs": [],
   "source": [
    "def split_INO_weaning_test(data,id_patient):\n",
    "    \"\"\"\n",
    "    Return boolean \n",
    "    \"\"\"\n",
    "    sum_True = test_augm_ratio_pao2_fio2(data,id_patient, threshold) + test_PAP_evolution(data,id_patient)\n",
    "    return sum_True == 2"
   ]
  },
  {
   "cell_type": "code",
   "execution_count": null,
   "metadata": {},
   "outputs": [],
   "source": []
  },
  {
   "cell_type": "markdown",
   "metadata": {},
   "source": [
    "### ECMO YES + ECMO weaning test = Success  + INO weaning test = Sucess"
   ]
  },
  {
   "cell_type": "markdown",
   "metadata": {},
   "source": [
    " - PaO2/FiO2 < 300 OR  absence of extubation criteria  \n",
    " vs \n",
    " - PaO2/FiO2 < 300 AND  presence of extubation criteria"
   ]
  },
  {
   "cell_type": "code",
   "execution_count": 149,
   "metadata": {},
   "outputs": [],
   "source": [
    "def split_ratio_test(data, id_patient):\n",
    "    return test_ratio_pao2_fio2(data,id_patient,obj=300)"
   ]
  },
  {
   "cell_type": "markdown",
   "metadata": {},
   "source": [
    "**ECMO YES + ECMO weaning test = Success  + INO weaning test = Sucess + ratio_test = fail**\n",
    "\n",
    "## NIV attempt\n",
    "\n",
    "- patient Tºc > 36ºc \n",
    "- décurarisé TOF > 90%  \n",
    "-> vu avec Morgan : NMT ratio > 50%   \n",
    "- hémostase clinique et biologique satisfaisante\n",
    "- stabilité hémodynamique (PAM (PAS + 2 x PAD)/3 > 60 mmHg et NORADRENALINE < 1mg/h (pas d'ADRENALINE), lactatémie < 2mmol/L)\n",
    "- rapport PaO2/FiO2 > 300"
   ]
  },
  {
   "cell_type": "code",
   "execution_count": 152,
   "metadata": {},
   "outputs": [
    {
     "data": {
      "text/plain": [
       "[]"
      ]
     },
     "execution_count": 152,
     "metadata": {},
     "output_type": "execute_result"
    }
   ],
   "source": [
    "[col for col in df_static.columns if 'temp' in col.lower()]"
   ]
  },
  {
   "cell_type": "code",
   "execution_count": 153,
   "metadata": {},
   "outputs": [
    {
     "data": {
      "text/plain": [
       "['Temp']"
      ]
     },
     "execution_count": 153,
     "metadata": {},
     "output_type": "execute_result"
    }
   ],
   "source": [
    "[col for col in df_dynamic.columns if 'temp' in col.lower()]"
   ]
  },
  {
   "cell_type": "code",
   "execution_count": 227,
   "metadata": {},
   "outputs": [],
   "source": [
    "def temperature_test(data,id_patient,threshold=90):\n",
    "    \"\"\"\n",
    "    Niv attempt - test1\n",
    "    return bool\n",
    "    \"\"\"\n",
    "    df = time_offset_dynamic(data[data['id_patient']==id_patient])\n",
    "    non_zeros = df['Temp'][df['Temp']!=0].count()\n",
    "    nb_ok = df['Temp'][df['Temp']>36].count()\n",
    "    return (nb_ok/non_zeros)*100>threshold"
   ]
  },
  {
   "cell_type": "code",
   "execution_count": 229,
   "metadata": {},
   "outputs": [
    {
     "name": "stderr",
     "output_type": "stream",
     "text": [
      "/home/karine/anaconda2/envs/py36/lib/python3.6/site-packages/ipykernel_launcher.py:5: SettingWithCopyWarning: \n",
      "A value is trying to be set on a copy of a slice from a DataFrame.\n",
      "Try using .loc[row_indexer,col_indexer] = value instead\n",
      "\n",
      "See the caveats in the documentation: http://pandas.pydata.org/pandas-docs/stable/indexing.html#indexing-view-versus-copy\n",
      "  \"\"\"\n"
     ]
    },
    {
     "data": {
      "text/plain": [
       "True"
      ]
     },
     "execution_count": 229,
     "metadata": {},
     "output_type": "execute_result"
    }
   ],
   "source": [
    "temperature_test(df_dynamic,3,threshold=90)"
   ]
  },
  {
   "cell_type": "code",
   "execution_count": 161,
   "metadata": {},
   "outputs": [
    {
     "name": "stdout",
     "output_type": "stream",
     "text": [
      "[]\n",
      "['NMT TOF', 'NMTratio']\n"
     ]
    }
   ],
   "source": [
    "print([col for col in df_static.columns if 'nmt' in col.lower()])\n",
    "print([col for col in df_dynamic.columns if 'nmt' in col.lower()])"
   ]
  },
  {
   "cell_type": "code",
   "execution_count": 264,
   "metadata": {},
   "outputs": [],
   "source": [
    "def NMT_test(data,id_patient,threshold=70): #threshold ok ou trop severe\n",
    "    \"\"\"\n",
    "    Niv attempt - test2\n",
    "    return bool\n",
    "    \"\"\"\n",
    "    df = time_offset_dynamic(data[data['id_patient']==id_patient])\n",
    "    non_zeros = df['NMTratio'][df['NMTratio']!=0].count()\n",
    "    nb_ok = df['NMTratio'][df['NMTratio']>50].count() \n",
    "    return (nb_ok/non_zeros)*100>=threshold"
   ]
  },
  {
   "cell_type": "code",
   "execution_count": 270,
   "metadata": {},
   "outputs": [],
   "source": [
    "def split_INO_weaning_test(data,id_patient):\n",
    "    \"\"\"\n",
    "    Return boolean \n",
    "    \"\"\"\n",
    "    sum_True = temperature_test(data,id_patient,threshold=90) +NMT_test(data,id_patient,threshold=70) + test_PASm_sup(data, id_patient, threshold=90, obj=60) + test_noradrenaline(data,id_patient) + test_ratio_pao2_fio2(data,id_patient,obj=300)\n",
    "    return sum_True == 5"
   ]
  },
  {
   "cell_type": "markdown",
   "metadata": {},
   "source": [
    "### ECMO YES + ECMO weaning test = Success  + INO weaning test = Fail"
   ]
  },
  {
   "cell_type": "markdown",
   "metadata": {},
   "source": [
    "## FIRST NODE : ECMO YES + ECMO weaning test = Fail -> "
   ]
  },
  {
   "cell_type": "markdown",
   "metadata": {},
   "source": [
    "## FIRST NODE : ECMO NO"
   ]
  },
  {
   "cell_type": "code",
   "execution_count": null,
   "metadata": {},
   "outputs": [],
   "source": []
  },
  {
   "cell_type": "code",
   "execution_count": null,
   "metadata": {},
   "outputs": [],
   "source": []
  },
  {
   "cell_type": "code",
   "execution_count": null,
   "metadata": {},
   "outputs": [],
   "source": []
  }
 ],
 "metadata": {
  "kernelspec": {
   "display_name": "Python 3",
   "language": "python",
   "name": "python3"
  },
  "language_info": {
   "codemirror_mode": {
    "name": "ipython",
    "version": 3
   },
   "file_extension": ".py",
   "mimetype": "text/x-python",
   "name": "python",
   "nbconvert_exporter": "python",
   "pygments_lexer": "ipython3",
   "version": "3.6.8"
  }
 },
 "nbformat": 4,
 "nbformat_minor": 2
}
