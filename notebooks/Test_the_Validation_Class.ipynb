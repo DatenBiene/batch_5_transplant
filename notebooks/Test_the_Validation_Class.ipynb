{
 "cells": [
  {
   "cell_type": "code",
   "execution_count": 1,
   "metadata": {},
   "outputs": [],
   "source": [
    "import pandas as pd\n",
    "import numpy as np\n",
    "import seaborn as sns\n",
    "import matplotlib.pyplot as plt\n",
    "import datetime\n",
    "from datetime import timedelta\n",
    "\n",
    "\n",
    "from transplant.config import *\n",
    "from transplant.data.dataset import Dataset\n",
    "\n",
    "\n",
    "from sklearn.metrics import confusion_matrix\n",
    "from sklearn.metrics import accuracy_score\n",
    "\n",
    "import random\n",
    "\n",
    "\n",
    "%matplotlib inline"
   ]
  },
  {
   "cell_type": "code",
   "execution_count": 2,
   "metadata": {},
   "outputs": [],
   "source": [
    "from transplant.data.validation_tree import *"
   ]
  },
  {
   "cell_type": "code",
   "execution_count": 3,
   "metadata": {},
   "outputs": [],
   "source": [
    "validation = Validation()"
   ]
  },
  {
   "cell_type": "code",
   "execution_count": 4,
   "metadata": {},
   "outputs": [],
   "source": [
    "#Test the validation tree for one instance"
   ]
  },
  {
   "cell_type": "code",
   "execution_count": 5,
   "metadata": {},
   "outputs": [],
   "source": [
    "data_static = validation.get_static()\n",
    "data_dynamic = validation.get_dynamic()"
   ]
  },
  {
   "cell_type": "code",
   "execution_count": 6,
   "metadata": {},
   "outputs": [
    {
     "data": {
      "text/plain": [
       "178"
      ]
     },
     "execution_count": 6,
     "metadata": {},
     "output_type": "execute_result"
    }
   ],
   "source": [
    "id_test = random.choice(data_static.id_patient.values)\n",
    "id_test"
   ]
  },
  {
   "cell_type": "code",
   "execution_count": 7,
   "metadata": {},
   "outputs": [
    {
     "data": {
      "text/plain": [
       "'Transfer to ICU with ECMO and mechanical ventilation'"
      ]
     },
     "execution_count": 7,
     "metadata": {},
     "output_type": "execute_result"
    }
   ],
   "source": [
    "validation.decision_empirique(id_patient=id_test, \n",
    "                              data_static=data_static, \n",
    "                              data_dynamic=data_dynamic,\n",
    "                              regle_nan=True, \n",
    "                              drop_NMT=True)"
   ]
  },
  {
   "cell_type": "code",
   "execution_count": 8,
   "metadata": {},
   "outputs": [
    {
     "data": {
      "text/plain": [
       "1"
      ]
     },
     "execution_count": 8,
     "metadata": {},
     "output_type": "execute_result"
    }
   ],
   "source": [
    "data_static_id=validation.get_static_id(data_static, id_=id_test)\n",
    "data_static_id.immediate_extubation.values[0]"
   ]
  },
  {
   "cell_type": "code",
   "execution_count": 9,
   "metadata": {},
   "outputs": [],
   "source": [
    "#apply the validation tree for all the id patients and get score performance"
   ]
  },
  {
   "cell_type": "code",
   "execution_count": 10,
   "metadata": {},
   "outputs": [],
   "source": [
    "df_results = validation.get_results_dataframe(regle_nan=True, drop_NMT=True)"
   ]
  },
  {
   "cell_type": "code",
   "execution_count": 11,
   "metadata": {},
   "outputs": [
    {
     "data": {
      "text/html": [
       "<div>\n",
       "<style scoped>\n",
       "    .dataframe tbody tr th:only-of-type {\n",
       "        vertical-align: middle;\n",
       "    }\n",
       "\n",
       "    .dataframe tbody tr th {\n",
       "        vertical-align: top;\n",
       "    }\n",
       "\n",
       "    .dataframe thead th {\n",
       "        text-align: right;\n",
       "    }\n",
       "</style>\n",
       "<table border=\"1\" class=\"dataframe\">\n",
       "  <thead>\n",
       "    <tr style=\"text-align: right;\">\n",
       "      <th></th>\n",
       "      <th>id_patient</th>\n",
       "      <th>immediate_extubation</th>\n",
       "      <th>target</th>\n",
       "      <th>result_tree</th>\n",
       "      <th>bianary_result_tree</th>\n",
       "    </tr>\n",
       "  </thead>\n",
       "  <tbody>\n",
       "    <tr>\n",
       "      <th>0</th>\n",
       "      <td>1</td>\n",
       "      <td>0</td>\n",
       "      <td>0</td>\n",
       "      <td>Transfer to ICU with ECMO and mechanical venti...</td>\n",
       "      <td>0</td>\n",
       "    </tr>\n",
       "    <tr>\n",
       "      <th>1</th>\n",
       "      <td>2</td>\n",
       "      <td>1</td>\n",
       "      <td>1</td>\n",
       "      <td>Transfer to ICU with mechanical ventilation</td>\n",
       "      <td>0</td>\n",
       "    </tr>\n",
       "    <tr>\n",
       "      <th>2</th>\n",
       "      <td>3</td>\n",
       "      <td>0</td>\n",
       "      <td>0</td>\n",
       "      <td>Transfer to ICU with ECMO and mechanical venti...</td>\n",
       "      <td>0</td>\n",
       "    </tr>\n",
       "    <tr>\n",
       "      <th>3</th>\n",
       "      <td>4</td>\n",
       "      <td>0</td>\n",
       "      <td>1</td>\n",
       "      <td>Transfer to ICU with mechanical ventilation</td>\n",
       "      <td>0</td>\n",
       "    </tr>\n",
       "    <tr>\n",
       "      <th>4</th>\n",
       "      <td>5</td>\n",
       "      <td>0</td>\n",
       "      <td>0</td>\n",
       "      <td>Transfer to ICU with mechanical ventilation an...</td>\n",
       "      <td>0</td>\n",
       "    </tr>\n",
       "  </tbody>\n",
       "</table>\n",
       "</div>"
      ],
      "text/plain": [
       "   id_patient  immediate_extubation  target  \\\n",
       "0           1                     0       0   \n",
       "1           2                     1       1   \n",
       "2           3                     0       0   \n",
       "3           4                     0       1   \n",
       "4           5                     0       0   \n",
       "\n",
       "                                         result_tree  bianary_result_tree  \n",
       "0  Transfer to ICU with ECMO and mechanical venti...                    0  \n",
       "1        Transfer to ICU with mechanical ventilation                    0  \n",
       "2  Transfer to ICU with ECMO and mechanical venti...                    0  \n",
       "3        Transfer to ICU with mechanical ventilation                    0  \n",
       "4  Transfer to ICU with mechanical ventilation an...                    0  "
      ]
     },
     "execution_count": 11,
     "metadata": {},
     "output_type": "execute_result"
    }
   ],
   "source": [
    "df_results.head()"
   ]
  },
  {
   "cell_type": "code",
   "execution_count": 12,
   "metadata": {},
   "outputs": [
    {
     "data": {
      "text/plain": [
       "Transfer to ICU with ECMO and mechanical ventilation           142\n",
       "Transfer to ICU with mechanical ventilation and iNO therapy     83\n",
       "Transfer to ICU with standard oxygen therapy or NIV             59\n",
       "Transfer to ICU with mechanical ventilation                     46\n",
       "Name: result_tree, dtype: int64"
      ]
     },
     "execution_count": 12,
     "metadata": {},
     "output_type": "execute_result"
    }
   ],
   "source": [
    "df_results.result_tree.value_counts()"
   ]
  },
  {
   "cell_type": "code",
   "execution_count": 13,
   "metadata": {},
   "outputs": [],
   "source": [
    "#predictions of the tree vs 'immediate_extubation'"
   ]
  },
  {
   "cell_type": "code",
   "execution_count": 14,
   "metadata": {},
   "outputs": [
    {
     "name": "stdout",
     "output_type": "stream",
     "text": [
      "accuracy:  0.693939393939394\n",
      "\n",
      "\n",
      "matrice de confusion\n",
      "[[193  23]\n",
      " [ 78  36]]\n",
      "\n",
      "\n",
      "matrice de confusion en pct\n",
      "[[58.48484848  6.96969697]\n",
      " [23.63636364 10.90909091]]\n"
     ]
    }
   ],
   "source": [
    "validation.get_score_and_confusion_matrices_for_immediate_ext(df_results)"
   ]
  },
  {
   "cell_type": "code",
   "execution_count": 15,
   "metadata": {},
   "outputs": [],
   "source": [
    "#predictions of the tree vs target"
   ]
  },
  {
   "cell_type": "code",
   "execution_count": 16,
   "metadata": {},
   "outputs": [
    {
     "name": "stdout",
     "output_type": "stream",
     "text": [
      "accuracy:  0.6121212121212121\n",
      "\n",
      "\n",
      "matrice de confusion\n",
      "[[166  23]\n",
      " [105  36]]\n",
      "\n",
      "\n",
      "matrice de confusion en pct\n",
      "[[50.3030303   6.96969697]\n",
      " [31.81818182 10.90909091]]\n"
     ]
    }
   ],
   "source": [
    "validation.get_score_and_confusion_matrices_for_target(df_results)"
   ]
  },
  {
   "cell_type": "code",
   "execution_count": null,
   "metadata": {},
   "outputs": [],
   "source": []
  },
  {
   "cell_type": "code",
   "execution_count": 17,
   "metadata": {},
   "outputs": [],
   "source": [
    "df_results_nan_false = validation.get_results_dataframe(regle_nan=False, drop_NMT=True)"
   ]
  },
  {
   "cell_type": "code",
   "execution_count": 19,
   "metadata": {},
   "outputs": [
    {
     "name": "stdout",
     "output_type": "stream",
     "text": [
      "accuracy:  0.693939393939394\n",
      "\n",
      "\n",
      "matrice de confusion\n",
      "[[193  23]\n",
      " [ 78  36]]\n",
      "\n",
      "\n",
      "matrice de confusion en pct\n",
      "[[58.48484848  6.96969697]\n",
      " [23.63636364 10.90909091]]\n"
     ]
    }
   ],
   "source": [
    "validation.get_score_and_confusion_matrices_for_immediate_ext(df_results_nan_false)"
   ]
  },
  {
   "cell_type": "code",
   "execution_count": null,
   "metadata": {},
   "outputs": [],
   "source": []
  }
 ],
 "metadata": {
  "kernelspec": {
   "display_name": "Python 3",
   "language": "python",
   "name": "python3"
  },
  "language_info": {
   "codemirror_mode": {
    "name": "ipython",
    "version": 3
   },
   "file_extension": ".py",
   "mimetype": "text/x-python",
   "name": "python",
   "nbconvert_exporter": "python",
   "pygments_lexer": "ipython3",
   "version": "3.6.8"
  }
 },
 "nbformat": 4,
 "nbformat_minor": 2
}
