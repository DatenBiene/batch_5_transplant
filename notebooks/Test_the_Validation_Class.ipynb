{
 "cells": [
  {
   "cell_type": "code",
   "execution_count": 1,
   "metadata": {},
   "outputs": [],
   "source": [
    "import pandas as pd\n",
    "import numpy as np\n",
    "import seaborn as sns\n",
    "import matplotlib.pyplot as plt\n",
    "import datetime\n",
    "from datetime import timedelta\n",
    "\n",
    "\n",
    "from transplant.config import *\n",
    "from transplant.data.dataset import Dataset\n",
    "\n",
    "\n",
    "from sklearn.metrics import confusion_matrix\n",
    "from sklearn.metrics import accuracy_score\n",
    "\n",
    "import random\n",
    "\n",
    "\n",
    "%matplotlib inline"
   ]
  },
  {
   "cell_type": "code",
   "execution_count": 2,
   "metadata": {},
   "outputs": [],
   "source": [
    "from transplant.data.validation_tree import *"
   ]
  },
  {
   "cell_type": "code",
   "execution_count": 3,
   "metadata": {},
   "outputs": [],
   "source": [
    "validation = Validation()"
   ]
  },
  {
   "cell_type": "code",
   "execution_count": 4,
   "metadata": {},
   "outputs": [],
   "source": [
    "#Test the validation tree for one instance"
   ]
  },
  {
   "cell_type": "code",
   "execution_count": 5,
   "metadata": {},
   "outputs": [],
   "source": [
    "data_static = validation.get_static()\n",
    "data_dynamic = validation.get_dynamic()"
   ]
  },
  {
   "cell_type": "code",
   "execution_count": 6,
   "metadata": {},
   "outputs": [
    {
     "data": {
      "text/plain": [
       "179"
      ]
     },
     "execution_count": 6,
     "metadata": {},
     "output_type": "execute_result"
    }
   ],
   "source": [
    "id_test = random.choice(data_static.id_patient.values)\n",
    "id_test"
   ]
  },
  {
   "cell_type": "code",
   "execution_count": 7,
   "metadata": {},
   "outputs": [
    {
     "data": {
      "text/plain": [
       "'Transfer to ICU with mechanical ventilation and iNO therapy'"
      ]
     },
     "execution_count": 7,
     "metadata": {},
     "output_type": "execute_result"
    }
   ],
   "source": [
    "validation.decision_empirique(id_patient=id_test, \n",
    "                              data_static=data_static, \n",
    "                              data_dynamic=data_dynamic,\n",
    "                              regle_nan=True, \n",
    "                              drop_NMT=True)"
   ]
  },
  {
   "cell_type": "code",
   "execution_count": 8,
   "metadata": {},
   "outputs": [
    {
     "data": {
      "text/plain": [
       "0"
      ]
     },
     "execution_count": 8,
     "metadata": {},
     "output_type": "execute_result"
    }
   ],
   "source": [
    "data_static_id=validation.get_static_id(data_static, id_=id_test)\n",
    "data_static_id.immediate_extubation.values[0]"
   ]
  },
  {
   "cell_type": "code",
   "execution_count": 9,
   "metadata": {},
   "outputs": [],
   "source": [
    "#apply the validation tree for all the id patients and get score performance"
   ]
  },
  {
   "cell_type": "code",
   "execution_count": 10,
   "metadata": {},
   "outputs": [],
   "source": [
    "df_results = validation.get_results_dataframe(regle_nan=True, drop_NMT=True)"
   ]
  },
  {
   "cell_type": "code",
   "execution_count": 11,
   "metadata": {},
   "outputs": [
    {
     "data": {
      "text/html": [
       "<div>\n",
       "<style scoped>\n",
       "    .dataframe tbody tr th:only-of-type {\n",
       "        vertical-align: middle;\n",
       "    }\n",
       "\n",
       "    .dataframe tbody tr th {\n",
       "        vertical-align: top;\n",
       "    }\n",
       "\n",
       "    .dataframe thead th {\n",
       "        text-align: right;\n",
       "    }\n",
       "</style>\n",
       "<table border=\"1\" class=\"dataframe\">\n",
       "  <thead>\n",
       "    <tr style=\"text-align: right;\">\n",
       "      <th></th>\n",
       "      <th>id_patient</th>\n",
       "      <th>immediate_extubation</th>\n",
       "      <th>target</th>\n",
       "      <th>result_tree</th>\n",
       "      <th>bianary_result_tree</th>\n",
       "    </tr>\n",
       "  </thead>\n",
       "  <tbody>\n",
       "    <tr>\n",
       "      <th>0</th>\n",
       "      <td>1</td>\n",
       "      <td>0</td>\n",
       "      <td>0</td>\n",
       "      <td>Transfer to ICU with ECMO and mechanical venti...</td>\n",
       "      <td>0</td>\n",
       "    </tr>\n",
       "    <tr>\n",
       "      <th>1</th>\n",
       "      <td>2</td>\n",
       "      <td>1</td>\n",
       "      <td>1</td>\n",
       "      <td>Transfer to ICU with mechanical ventilation</td>\n",
       "      <td>0</td>\n",
       "    </tr>\n",
       "    <tr>\n",
       "      <th>2</th>\n",
       "      <td>3</td>\n",
       "      <td>0</td>\n",
       "      <td>0</td>\n",
       "      <td>Transfer to ICU with ECMO and mechanical venti...</td>\n",
       "      <td>0</td>\n",
       "    </tr>\n",
       "    <tr>\n",
       "      <th>3</th>\n",
       "      <td>4</td>\n",
       "      <td>0</td>\n",
       "      <td>1</td>\n",
       "      <td>Transfer to ICU with mechanical ventilation</td>\n",
       "      <td>0</td>\n",
       "    </tr>\n",
       "    <tr>\n",
       "      <th>4</th>\n",
       "      <td>5</td>\n",
       "      <td>0</td>\n",
       "      <td>0</td>\n",
       "      <td>Transfer to ICU with mechanical ventilation an...</td>\n",
       "      <td>0</td>\n",
       "    </tr>\n",
       "  </tbody>\n",
       "</table>\n",
       "</div>"
      ],
      "text/plain": [
       "   id_patient  immediate_extubation  target  \\\n",
       "0           1                     0       0   \n",
       "1           2                     1       1   \n",
       "2           3                     0       0   \n",
       "3           4                     0       1   \n",
       "4           5                     0       0   \n",
       "\n",
       "                                         result_tree  bianary_result_tree  \n",
       "0  Transfer to ICU with ECMO and mechanical venti...                    0  \n",
       "1        Transfer to ICU with mechanical ventilation                    0  \n",
       "2  Transfer to ICU with ECMO and mechanical venti...                    0  \n",
       "3        Transfer to ICU with mechanical ventilation                    0  \n",
       "4  Transfer to ICU with mechanical ventilation an...                    0  "
      ]
     },
     "execution_count": 11,
     "metadata": {},
     "output_type": "execute_result"
    }
   ],
   "source": [
    "df_results.head()"
   ]
  },
  {
   "cell_type": "code",
   "execution_count": 12,
   "metadata": {},
   "outputs": [
    {
     "data": {
      "text/plain": [
       "Transfer to ICU with ECMO and mechanical ventilation           142\n",
       "Transfer to ICU with mechanical ventilation and iNO therapy     83\n",
       "Transfer to ICU with standard oxygen therapy or NIV             59\n",
       "Transfer to ICU with mechanical ventilation                     46\n",
       "Name: result_tree, dtype: int64"
      ]
     },
     "execution_count": 12,
     "metadata": {},
     "output_type": "execute_result"
    }
   ],
   "source": [
    "df_results.result_tree.value_counts()"
   ]
  },
  {
   "cell_type": "code",
   "execution_count": 13,
   "metadata": {},
   "outputs": [],
   "source": [
    "#predictions of the tree vs 'immediate_extubation'"
   ]
  },
  {
   "cell_type": "code",
   "execution_count": 14,
   "metadata": {},
   "outputs": [
    {
     "name": "stdout",
     "output_type": "stream",
     "text": [
      "accuracy:  0.693939393939394\n",
      "\n",
      "\n",
      "matrice de confusion\n",
      "[[193  23]\n",
      " [ 78  36]]\n",
      "\n",
      "\n",
      "matrice de confusion en pct\n",
      "[[58.48484848  6.96969697]\n",
      " [23.63636364 10.90909091]]\n"
     ]
    }
   ],
   "source": [
    "validation.get_score_and_confusion_matrices_for_immediate_ext(df_results)"
   ]
  },
  {
   "cell_type": "code",
   "execution_count": 15,
   "metadata": {},
   "outputs": [],
   "source": [
    "#predictions of the tree vs target"
   ]
  },
  {
   "cell_type": "code",
   "execution_count": 16,
   "metadata": {},
   "outputs": [
    {
     "name": "stdout",
     "output_type": "stream",
     "text": [
      "accuracy:  0.6121212121212121\n",
      "\n",
      "\n",
      "matrice de confusion\n",
      "[[166  23]\n",
      " [105  36]]\n",
      "\n",
      "\n",
      "matrice de confusion en pct\n",
      "[[50.3030303   6.96969697]\n",
      " [31.81818182 10.90909091]]\n"
     ]
    }
   ],
   "source": [
    "validation.get_score_and_confusion_matrices_for_target(df_results)"
   ]
  },
  {
   "cell_type": "code",
   "execution_count": null,
   "metadata": {},
   "outputs": [],
   "source": []
  },
  {
   "cell_type": "code",
   "execution_count": 17,
   "metadata": {},
   "outputs": [],
   "source": [
    "df_results_nan_false = validation.get_results_dataframe(regle_nan=False, drop_NMT=True)"
   ]
  },
  {
   "cell_type": "code",
   "execution_count": 18,
   "metadata": {},
   "outputs": [
    {
     "name": "stdout",
     "output_type": "stream",
     "text": [
      "accuracy:  0.693939393939394\n",
      "\n",
      "\n",
      "matrice de confusion\n",
      "[[193  23]\n",
      " [ 78  36]]\n",
      "\n",
      "\n",
      "matrice de confusion en pct\n",
      "[[58.48484848  6.96969697]\n",
      " [23.63636364 10.90909091]]\n"
     ]
    }
   ],
   "source": [
    "validation.get_score_and_confusion_matrices_for_immediate_ext(df_results_nan_false)"
   ]
  },
  {
   "cell_type": "code",
   "execution_count": null,
   "metadata": {},
   "outputs": [],
   "source": []
  },
  {
   "cell_type": "markdown",
   "metadata": {},
   "source": [
    "----------------------------------\n",
    "<center> Regarder les patients qu'on aurait du extuber immédiatement d'après l'arbre mais qui ne l'ont pas été en réel </center>  \n",
    "    \n",
    "----------------------------------"
   ]
  },
  {
   "cell_type": "code",
   "execution_count": 19,
   "metadata": {},
   "outputs": [],
   "source": [
    "list_ids = df_results_nan_false.id_patient[(df_results_nan_false['bianary_result_tree']==1) & (df_results_nan_false['immediate_extubation']==0)]"
   ]
  },
  {
   "cell_type": "code",
   "execution_count": 20,
   "metadata": {},
   "outputs": [
    {
     "data": {
      "text/plain": [
       "23"
      ]
     },
     "execution_count": 20,
     "metadata": {},
     "output_type": "execute_result"
    }
   ],
   "source": [
    "len(list_ids)"
   ]
  },
  {
   "cell_type": "code",
   "execution_count": 21,
   "metadata": {},
   "outputs": [],
   "source": [
    "dataset = Dataset()"
   ]
  },
  {
   "cell_type": "code",
   "execution_count": 22,
   "metadata": {},
   "outputs": [],
   "source": [
    "X,Y = dataset.get_static()"
   ]
  },
  {
   "cell_type": "code",
   "execution_count": 23,
   "metadata": {},
   "outputs": [],
   "source": [
    "data_static = pd.concat([X, Y])"
   ]
  },
  {
   "cell_type": "code",
   "execution_count": 31,
   "metadata": {},
   "outputs": [],
   "source": [
    "data_to_test = data_static[['id_patient','date_transplantation','heure_arrivee_bloc']][data_static.id_patient.isin(list_ids)]"
   ]
  },
  {
   "cell_type": "code",
   "execution_count": 32,
   "metadata": {},
   "outputs": [
    {
     "data": {
      "text/html": [
       "<div>\n",
       "<style scoped>\n",
       "    .dataframe tbody tr th:only-of-type {\n",
       "        vertical-align: middle;\n",
       "    }\n",
       "\n",
       "    .dataframe tbody tr th {\n",
       "        vertical-align: top;\n",
       "    }\n",
       "\n",
       "    .dataframe thead th {\n",
       "        text-align: right;\n",
       "    }\n",
       "</style>\n",
       "<table border=\"1\" class=\"dataframe\">\n",
       "  <thead>\n",
       "    <tr style=\"text-align: right;\">\n",
       "      <th></th>\n",
       "      <th>id_patient</th>\n",
       "      <th>date_transplantation</th>\n",
       "      <th>heure_arrivee_bloc</th>\n",
       "    </tr>\n",
       "  </thead>\n",
       "  <tbody>\n",
       "    <tr>\n",
       "      <th>339</th>\n",
       "      <td>340</td>\n",
       "      <td>2017-06-17</td>\n",
       "      <td>09:21:00</td>\n",
       "    </tr>\n",
       "    <tr>\n",
       "      <th>408</th>\n",
       "      <td>410</td>\n",
       "      <td>2018-06-27</td>\n",
       "      <td>18:30:00</td>\n",
       "    </tr>\n",
       "    <tr>\n",
       "      <th>219</th>\n",
       "      <td>220</td>\n",
       "      <td>2015-09-08</td>\n",
       "      <td>00:15:00</td>\n",
       "    </tr>\n",
       "    <tr>\n",
       "      <th>17</th>\n",
       "      <td>18</td>\n",
       "      <td>2012-04-07</td>\n",
       "      <td>07:15:00</td>\n",
       "    </tr>\n",
       "    <tr>\n",
       "      <th>9</th>\n",
       "      <td>10</td>\n",
       "      <td>2012-02-09</td>\n",
       "      <td>14:00:00</td>\n",
       "    </tr>\n",
       "    <tr>\n",
       "      <th>356</th>\n",
       "      <td>357</td>\n",
       "      <td>2017-08-27</td>\n",
       "      <td>07:12:00</td>\n",
       "    </tr>\n",
       "    <tr>\n",
       "      <th>257</th>\n",
       "      <td>258</td>\n",
       "      <td>2016-03-28</td>\n",
       "      <td>13:15:00</td>\n",
       "    </tr>\n",
       "    <tr>\n",
       "      <th>216</th>\n",
       "      <td>217</td>\n",
       "      <td>2015-08-28</td>\n",
       "      <td>07:05:00</td>\n",
       "    </tr>\n",
       "    <tr>\n",
       "      <th>315</th>\n",
       "      <td>316</td>\n",
       "      <td>2017-02-17</td>\n",
       "      <td>10:30:00</td>\n",
       "    </tr>\n",
       "    <tr>\n",
       "      <th>124</th>\n",
       "      <td>125</td>\n",
       "      <td>2014-01-16</td>\n",
       "      <td>00:00:00</td>\n",
       "    </tr>\n",
       "    <tr>\n",
       "      <th>22</th>\n",
       "      <td>23</td>\n",
       "      <td>2012-04-26</td>\n",
       "      <td>22:00:00</td>\n",
       "    </tr>\n",
       "    <tr>\n",
       "      <th>38</th>\n",
       "      <td>39</td>\n",
       "      <td>2012-07-26</td>\n",
       "      <td>09:48:00</td>\n",
       "    </tr>\n",
       "    <tr>\n",
       "      <th>108</th>\n",
       "      <td>109</td>\n",
       "      <td>2013-10-16</td>\n",
       "      <td>03:15:00</td>\n",
       "    </tr>\n",
       "    <tr>\n",
       "      <th>132</th>\n",
       "      <td>133</td>\n",
       "      <td>2014-03-02</td>\n",
       "      <td>03:33:00</td>\n",
       "    </tr>\n",
       "    <tr>\n",
       "      <th>8</th>\n",
       "      <td>9</td>\n",
       "      <td>2012-02-07</td>\n",
       "      <td>03:30:00</td>\n",
       "    </tr>\n",
       "    <tr>\n",
       "      <th>406</th>\n",
       "      <td>408</td>\n",
       "      <td>2018-06-11</td>\n",
       "      <td>08:59:00</td>\n",
       "    </tr>\n",
       "    <tr>\n",
       "      <th>37</th>\n",
       "      <td>38</td>\n",
       "      <td>2012-07-25</td>\n",
       "      <td>04:05:00</td>\n",
       "    </tr>\n",
       "    <tr>\n",
       "      <th>249</th>\n",
       "      <td>250</td>\n",
       "      <td>2016-02-16</td>\n",
       "      <td>09:55:00</td>\n",
       "    </tr>\n",
       "    <tr>\n",
       "      <th>148</th>\n",
       "      <td>149</td>\n",
       "      <td>2014-07-11</td>\n",
       "      <td>21:30:00</td>\n",
       "    </tr>\n",
       "    <tr>\n",
       "      <th>372</th>\n",
       "      <td>373</td>\n",
       "      <td>2017-12-09</td>\n",
       "      <td>04:35:00</td>\n",
       "    </tr>\n",
       "    <tr>\n",
       "      <th>106</th>\n",
       "      <td>107</td>\n",
       "      <td>2013-10-12</td>\n",
       "      <td>04:31:00</td>\n",
       "    </tr>\n",
       "    <tr>\n",
       "      <th>322</th>\n",
       "      <td>323</td>\n",
       "      <td>2017-03-28</td>\n",
       "      <td>05:47:00</td>\n",
       "    </tr>\n",
       "    <tr>\n",
       "      <th>163</th>\n",
       "      <td>164</td>\n",
       "      <td>2014-10-01</td>\n",
       "      <td>04:36:00</td>\n",
       "    </tr>\n",
       "  </tbody>\n",
       "</table>\n",
       "</div>"
      ],
      "text/plain": [
       "     id_patient date_transplantation heure_arrivee_bloc\n",
       "339         340           2017-06-17           09:21:00\n",
       "408         410           2018-06-27           18:30:00\n",
       "219         220           2015-09-08           00:15:00\n",
       "17           18           2012-04-07           07:15:00\n",
       "9            10           2012-02-09           14:00:00\n",
       "356         357           2017-08-27           07:12:00\n",
       "257         258           2016-03-28           13:15:00\n",
       "216         217           2015-08-28           07:05:00\n",
       "315         316           2017-02-17           10:30:00\n",
       "124         125           2014-01-16           00:00:00\n",
       "22           23           2012-04-26           22:00:00\n",
       "38           39           2012-07-26           09:48:00\n",
       "108         109           2013-10-16           03:15:00\n",
       "132         133           2014-03-02           03:33:00\n",
       "8             9           2012-02-07           03:30:00\n",
       "406         408           2018-06-11           08:59:00\n",
       "37           38           2012-07-25           04:05:00\n",
       "249         250           2016-02-16           09:55:00\n",
       "148         149           2014-07-11           21:30:00\n",
       "372         373           2017-12-09           04:35:00\n",
       "106         107           2013-10-12           04:31:00\n",
       "322         323           2017-03-28           05:47:00\n",
       "163         164           2014-10-01           04:36:00"
      ]
     },
     "execution_count": 32,
     "metadata": {},
     "output_type": "execute_result"
    }
   ],
   "source": [
    "data_to_test"
   ]
  },
  {
   "cell_type": "code",
   "execution_count": 30,
   "metadata": {},
   "outputs": [
    {
     "data": {
      "text/plain": [
       "['heure_arrivee_bloc']"
      ]
     },
     "execution_count": 30,
     "metadata": {},
     "output_type": "execute_result"
    }
   ],
   "source": [
    "[x for x in data_static.columns if 'heure' in x]"
   ]
  },
  {
   "cell_type": "code",
   "execution_count": 33,
   "metadata": {},
   "outputs": [
    {
     "data": {
      "text/html": [
       "<div>\n",
       "<style scoped>\n",
       "    .dataframe tbody tr th:only-of-type {\n",
       "        vertical-align: middle;\n",
       "    }\n",
       "\n",
       "    .dataframe tbody tr th {\n",
       "        vertical-align: top;\n",
       "    }\n",
       "\n",
       "    .dataframe thead th {\n",
       "        text-align: right;\n",
       "    }\n",
       "</style>\n",
       "<table border=\"1\" class=\"dataframe\">\n",
       "  <thead>\n",
       "    <tr style=\"text-align: right;\">\n",
       "      <th></th>\n",
       "      <th>id_patient</th>\n",
       "      <th>immediate_extubation</th>\n",
       "      <th>target</th>\n",
       "      <th>result_tree</th>\n",
       "      <th>bianary_result_tree</th>\n",
       "    </tr>\n",
       "  </thead>\n",
       "  <tbody>\n",
       "    <tr>\n",
       "      <th>7</th>\n",
       "      <td>9</td>\n",
       "      <td>0</td>\n",
       "      <td>0</td>\n",
       "      <td>Transfer to ICU with standard oxygen therapy o...</td>\n",
       "      <td>1</td>\n",
       "    </tr>\n",
       "    <tr>\n",
       "      <th>8</th>\n",
       "      <td>10</td>\n",
       "      <td>0</td>\n",
       "      <td>0</td>\n",
       "      <td>Transfer to ICU with standard oxygen therapy o...</td>\n",
       "      <td>1</td>\n",
       "    </tr>\n",
       "    <tr>\n",
       "      <th>16</th>\n",
       "      <td>18</td>\n",
       "      <td>0</td>\n",
       "      <td>0</td>\n",
       "      <td>Transfer to ICU with standard oxygen therapy o...</td>\n",
       "      <td>1</td>\n",
       "    </tr>\n",
       "    <tr>\n",
       "      <th>21</th>\n",
       "      <td>23</td>\n",
       "      <td>0</td>\n",
       "      <td>0</td>\n",
       "      <td>Transfer to ICU with standard oxygen therapy o...</td>\n",
       "      <td>1</td>\n",
       "    </tr>\n",
       "    <tr>\n",
       "      <th>34</th>\n",
       "      <td>38</td>\n",
       "      <td>0</td>\n",
       "      <td>0</td>\n",
       "      <td>Transfer to ICU with standard oxygen therapy o...</td>\n",
       "      <td>1</td>\n",
       "    </tr>\n",
       "    <tr>\n",
       "      <th>35</th>\n",
       "      <td>39</td>\n",
       "      <td>0</td>\n",
       "      <td>0</td>\n",
       "      <td>Transfer to ICU with standard oxygen therapy o...</td>\n",
       "      <td>1</td>\n",
       "    </tr>\n",
       "    <tr>\n",
       "      <th>95</th>\n",
       "      <td>107</td>\n",
       "      <td>0</td>\n",
       "      <td>0</td>\n",
       "      <td>Transfer to ICU with standard oxygen therapy o...</td>\n",
       "      <td>1</td>\n",
       "    </tr>\n",
       "    <tr>\n",
       "      <th>97</th>\n",
       "      <td>109</td>\n",
       "      <td>0</td>\n",
       "      <td>0</td>\n",
       "      <td>Transfer to ICU with standard oxygen therapy o...</td>\n",
       "      <td>1</td>\n",
       "    </tr>\n",
       "    <tr>\n",
       "      <th>111</th>\n",
       "      <td>125</td>\n",
       "      <td>0</td>\n",
       "      <td>0</td>\n",
       "      <td>Transfer to ICU with standard oxygen therapy o...</td>\n",
       "      <td>1</td>\n",
       "    </tr>\n",
       "    <tr>\n",
       "      <th>119</th>\n",
       "      <td>133</td>\n",
       "      <td>0</td>\n",
       "      <td>1</td>\n",
       "      <td>Transfer to ICU with standard oxygen therapy o...</td>\n",
       "      <td>1</td>\n",
       "    </tr>\n",
       "    <tr>\n",
       "      <th>133</th>\n",
       "      <td>149</td>\n",
       "      <td>0</td>\n",
       "      <td>0</td>\n",
       "      <td>Transfer to ICU with standard oxygen therapy o...</td>\n",
       "      <td>1</td>\n",
       "    </tr>\n",
       "    <tr>\n",
       "      <th>146</th>\n",
       "      <td>164</td>\n",
       "      <td>0</td>\n",
       "      <td>0</td>\n",
       "      <td>Transfer to ICU with standard oxygen therapy o...</td>\n",
       "      <td>1</td>\n",
       "    </tr>\n",
       "    <tr>\n",
       "      <th>187</th>\n",
       "      <td>217</td>\n",
       "      <td>0</td>\n",
       "      <td>0</td>\n",
       "      <td>Transfer to ICU with standard oxygen therapy o...</td>\n",
       "      <td>1</td>\n",
       "    </tr>\n",
       "    <tr>\n",
       "      <th>190</th>\n",
       "      <td>220</td>\n",
       "      <td>0</td>\n",
       "      <td>0</td>\n",
       "      <td>Transfer to ICU with standard oxygen therapy o...</td>\n",
       "      <td>1</td>\n",
       "    </tr>\n",
       "    <tr>\n",
       "      <th>218</th>\n",
       "      <td>250</td>\n",
       "      <td>0</td>\n",
       "      <td>0</td>\n",
       "      <td>Transfer to ICU with standard oxygen therapy o...</td>\n",
       "      <td>1</td>\n",
       "    </tr>\n",
       "    <tr>\n",
       "      <th>223</th>\n",
       "      <td>258</td>\n",
       "      <td>0</td>\n",
       "      <td>1</td>\n",
       "      <td>Transfer to ICU with standard oxygen therapy o...</td>\n",
       "      <td>1</td>\n",
       "    </tr>\n",
       "    <tr>\n",
       "      <th>265</th>\n",
       "      <td>316</td>\n",
       "      <td>0</td>\n",
       "      <td>1</td>\n",
       "      <td>Transfer to ICU with standard oxygen therapy o...</td>\n",
       "      <td>1</td>\n",
       "    </tr>\n",
       "    <tr>\n",
       "      <th>272</th>\n",
       "      <td>323</td>\n",
       "      <td>0</td>\n",
       "      <td>0</td>\n",
       "      <td>Transfer to ICU with standard oxygen therapy o...</td>\n",
       "      <td>1</td>\n",
       "    </tr>\n",
       "    <tr>\n",
       "      <th>284</th>\n",
       "      <td>340</td>\n",
       "      <td>0</td>\n",
       "      <td>0</td>\n",
       "      <td>Transfer to ICU with standard oxygen therapy o...</td>\n",
       "      <td>1</td>\n",
       "    </tr>\n",
       "    <tr>\n",
       "      <th>297</th>\n",
       "      <td>357</td>\n",
       "      <td>0</td>\n",
       "      <td>0</td>\n",
       "      <td>Transfer to ICU with standard oxygen therapy o...</td>\n",
       "      <td>1</td>\n",
       "    </tr>\n",
       "    <tr>\n",
       "      <th>307</th>\n",
       "      <td>373</td>\n",
       "      <td>0</td>\n",
       "      <td>1</td>\n",
       "      <td>Transfer to ICU with standard oxygen therapy o...</td>\n",
       "      <td>1</td>\n",
       "    </tr>\n",
       "    <tr>\n",
       "      <th>327</th>\n",
       "      <td>408</td>\n",
       "      <td>0</td>\n",
       "      <td>0</td>\n",
       "      <td>Transfer to ICU with standard oxygen therapy o...</td>\n",
       "      <td>1</td>\n",
       "    </tr>\n",
       "    <tr>\n",
       "      <th>329</th>\n",
       "      <td>410</td>\n",
       "      <td>0</td>\n",
       "      <td>0</td>\n",
       "      <td>Transfer to ICU with standard oxygen therapy o...</td>\n",
       "      <td>1</td>\n",
       "    </tr>\n",
       "  </tbody>\n",
       "</table>\n",
       "</div>"
      ],
      "text/plain": [
       "     id_patient  immediate_extubation  target  \\\n",
       "7             9                     0       0   \n",
       "8            10                     0       0   \n",
       "16           18                     0       0   \n",
       "21           23                     0       0   \n",
       "34           38                     0       0   \n",
       "35           39                     0       0   \n",
       "95          107                     0       0   \n",
       "97          109                     0       0   \n",
       "111         125                     0       0   \n",
       "119         133                     0       1   \n",
       "133         149                     0       0   \n",
       "146         164                     0       0   \n",
       "187         217                     0       0   \n",
       "190         220                     0       0   \n",
       "218         250                     0       0   \n",
       "223         258                     0       1   \n",
       "265         316                     0       1   \n",
       "272         323                     0       0   \n",
       "284         340                     0       0   \n",
       "297         357                     0       0   \n",
       "307         373                     0       1   \n",
       "327         408                     0       0   \n",
       "329         410                     0       0   \n",
       "\n",
       "                                           result_tree  bianary_result_tree  \n",
       "7    Transfer to ICU with standard oxygen therapy o...                    1  \n",
       "8    Transfer to ICU with standard oxygen therapy o...                    1  \n",
       "16   Transfer to ICU with standard oxygen therapy o...                    1  \n",
       "21   Transfer to ICU with standard oxygen therapy o...                    1  \n",
       "34   Transfer to ICU with standard oxygen therapy o...                    1  \n",
       "35   Transfer to ICU with standard oxygen therapy o...                    1  \n",
       "95   Transfer to ICU with standard oxygen therapy o...                    1  \n",
       "97   Transfer to ICU with standard oxygen therapy o...                    1  \n",
       "111  Transfer to ICU with standard oxygen therapy o...                    1  \n",
       "119  Transfer to ICU with standard oxygen therapy o...                    1  \n",
       "133  Transfer to ICU with standard oxygen therapy o...                    1  \n",
       "146  Transfer to ICU with standard oxygen therapy o...                    1  \n",
       "187  Transfer to ICU with standard oxygen therapy o...                    1  \n",
       "190  Transfer to ICU with standard oxygen therapy o...                    1  \n",
       "218  Transfer to ICU with standard oxygen therapy o...                    1  \n",
       "223  Transfer to ICU with standard oxygen therapy o...                    1  \n",
       "265  Transfer to ICU with standard oxygen therapy o...                    1  \n",
       "272  Transfer to ICU with standard oxygen therapy o...                    1  \n",
       "284  Transfer to ICU with standard oxygen therapy o...                    1  \n",
       "297  Transfer to ICU with standard oxygen therapy o...                    1  \n",
       "307  Transfer to ICU with standard oxygen therapy o...                    1  \n",
       "327  Transfer to ICU with standard oxygen therapy o...                    1  \n",
       "329  Transfer to ICU with standard oxygen therapy o...                    1  "
      ]
     },
     "execution_count": 33,
     "metadata": {},
     "output_type": "execute_result"
    }
   ],
   "source": [
    "df_results_nan_false[df_results_nan_false.id_patient.isin(list_ids)]"
   ]
  },
  {
   "cell_type": "code",
   "execution_count": 34,
   "metadata": {},
   "outputs": [
    {
     "data": {
      "text/plain": [
       "0.17391304347826086"
      ]
     },
     "execution_count": 34,
     "metadata": {},
     "output_type": "execute_result"
    }
   ],
   "source": [
    "4/23"
   ]
  },
  {
   "cell_type": "code",
   "execution_count": null,
   "metadata": {},
   "outputs": [],
   "source": []
  },
  {
   "cell_type": "code",
   "execution_count": null,
   "metadata": {},
   "outputs": [],
   "source": []
  },
  {
   "cell_type": "markdown",
   "metadata": {},
   "source": [
    "----------------------------------\n",
    "<center> Regarder les patients qui ont été extubés imm alors que non prévu par l'arbre </center>  \n",
    "    \n",
    "----------------------------------"
   ]
  },
  {
   "cell_type": "code",
   "execution_count": 56,
   "metadata": {},
   "outputs": [],
   "source": [
    "data_static = validation.get_static()\n",
    "data_dynamic = validation.get_dynamic()"
   ]
  },
  {
   "cell_type": "code",
   "execution_count": 36,
   "metadata": {},
   "outputs": [],
   "source": [
    "list_ids = df_results_nan_false.id_patient[(df_results_nan_false['bianary_result_tree']==0) & (df_results_nan_false['immediate_extubation']==1)]"
   ]
  },
  {
   "cell_type": "code",
   "execution_count": 39,
   "metadata": {},
   "outputs": [],
   "source": [
    "sub_df=df_results_nan_false[df_results_nan_false.id_patient.isin(list_ids)]"
   ]
  },
  {
   "cell_type": "code",
   "execution_count": 40,
   "metadata": {},
   "outputs": [
    {
     "data": {
      "text/plain": [
       "Transfer to ICU with mechanical ventilation and iNO therapy    43\n",
       "Transfer to ICU with mechanical ventilation                    20\n",
       "Transfer to ICU with ECMO and mechanical ventilation           15\n",
       "Name: result_tree, dtype: int64"
      ]
     },
     "execution_count": 40,
     "metadata": {},
     "output_type": "execute_result"
    }
   ],
   "source": [
    "sub_df['result_tree'].value_counts()"
   ]
  },
  {
   "cell_type": "code",
   "execution_count": null,
   "metadata": {},
   "outputs": [],
   "source": []
  },
  {
   "cell_type": "markdown",
   "metadata": {},
   "source": [
    "Transfer to ICU with mechanical ventilation and iNO therapy"
   ]
  },
  {
   "cell_type": "code",
   "execution_count": null,
   "metadata": {},
   "outputs": [],
   "source": []
  },
  {
   "cell_type": "code",
   "execution_count": 44,
   "metadata": {},
   "outputs": [],
   "source": [
    "list_ino = sub_df.id_patient[sub_df.result_tree=='Transfer to ICU with mechanical ventilation and iNO therapy']"
   ]
  },
  {
   "cell_type": "code",
   "execution_count": 45,
   "metadata": {},
   "outputs": [
    {
     "data": {
      "text/plain": [
       "(43,)"
      ]
     },
     "execution_count": 45,
     "metadata": {},
     "output_type": "execute_result"
    }
   ],
   "source": [
    "list_ino.shape"
   ]
  },
  {
   "cell_type": "code",
   "execution_count": 69,
   "metadata": {},
   "outputs": [],
   "source": [
    "count_test_augm_ratio_pao2_fio2 = 0\n",
    "count_test_PAP_diminution = 0\n",
    "count_both = 0\n",
    "\n",
    "for id_patient in list_ino:\n",
    "    data_static_id = validation.get_static_id(data_static, id_=id_patient)\n",
    "    data_dynamic_id = validation.get_dynamic_id(data_dynamic, id_=id_patient)\n",
    "    data_dynamic_id_end = validation.get_end_surgery_data_dynamic(data_dynamic_id,time=15, period=15)\n",
    "    \n",
    "    Test1 = validation.test_augm_ratio_pao2_fio2(data_static_id, data_dynamic_id_end, data_dynamic_id, threshold_augm=0, regle_nan=False)\n",
    "    Test2 = validation.test_PAP_diminution(data_dynamic_id_end, paps_max=50, paps_min=32, regle_nan=False)\n",
    "    \n",
    "    if Test1 == False:\n",
    "        if Test2==False:\n",
    "            count_both = count_both+1\n",
    "        else:\n",
    "            count_test_augm_ratio_pao2_fio2=count_test_augm_ratio_pao2_fio2 + 1\n",
    "    if Test2 == False and Test1 :\n",
    "            count_test_PAP_diminution = count_test_PAP_diminution + 1"
   ]
  },
  {
   "cell_type": "code",
   "execution_count": 70,
   "metadata": {
    "scrolled": true
   },
   "outputs": [
    {
     "name": "stdout",
     "output_type": "stream",
     "text": [
      "nombre de test 'augmentation du ratio Pa02/FiO2' negatif :  15\n",
      "nombre de test 'diminution des PAP' negatif :  20\n",
      "nombre de test 'augmentation du ratio Pa02/FiO2' et 'diminution des PAP' negatif :  8\n"
     ]
    }
   ],
   "source": [
    "print(\"nombre de test 'augmentation du ratio Pa02/FiO2' negatif : \", count_test_augm_ratio_pao2_fio2)\n",
    "print(\"nombre de test 'diminution des PAP' negatif : \", count_test_PAP_diminution)\n",
    "print(\"nombre de test 'augmentation du ratio Pa02/FiO2' et 'diminution des PAP' negatif : \", count_both)"
   ]
  },
  {
   "cell_type": "code",
   "execution_count": null,
   "metadata": {},
   "outputs": [],
   "source": []
  },
  {
   "cell_type": "markdown",
   "metadata": {},
   "source": [
    "Transfer to ICU with mechanical ventilation "
   ]
  },
  {
   "cell_type": "code",
   "execution_count": 71,
   "metadata": {},
   "outputs": [],
   "source": [
    "list_mech = sub_df.id_patient[sub_df.result_tree=='Transfer to ICU with mechanical ventilation']"
   ]
  },
  {
   "cell_type": "code",
   "execution_count": 76,
   "metadata": {},
   "outputs": [
    {
     "data": {
      "text/plain": [
       "(20,)"
      ]
     },
     "execution_count": 76,
     "metadata": {},
     "output_type": "execute_result"
    }
   ],
   "source": [
    "list_mech.shape"
   ]
  },
  {
   "cell_type": "code",
   "execution_count": 79,
   "metadata": {},
   "outputs": [
    {
     "name": "stdout",
     "output_type": "stream",
     "text": [
      "nombre de test 'Temp > 36°' negatif :  8\n",
      "nombre de test 'PAsM > 60' negatif :  3\n",
      "nombre de test 'noradrenaline < 1mg/h' negatif :  7\n",
      "nombre de test 'rapport Pa02/fi02 > 300' negatif :  13\n"
     ]
    }
   ],
   "source": [
    "count_test_temp = 0\n",
    "count_test_PASM = 0\n",
    "count_test_noradrenaline = 0\n",
    "count_test_ratio_pao2_fio2 = 0\n",
    "\n",
    "for id_patient in list_mech:\n",
    "    data_static_id = validation.get_static_id(data_static, id_=id_patient)\n",
    "    data_dynamic_id = validation.get_dynamic_id(data_dynamic, id_=id_patient)\n",
    "    data_dynamic_id_end = validation.get_end_surgery_data_dynamic(data_dynamic_id,time=15, period=15)\n",
    "    \n",
    "    Test1_1 = validation.test_temperature_sup36(data_dynamic_id_end,threshold=90, regle_nan=False)\n",
    "    Test1_2 = validation.test_PASm_sup(data_dynamic_id_end, obj=60, threshold=85, regle_nan=False)\n",
    "    Test1_3 = validation.test_noradrenaline(data_static_id, nora_max=1.5, nora_min=1,regle_nan=False)\n",
    "    Test1_4 = validation.test_ratio_pao2_fio2(data_static_id, data_dynamic_id_end, obj=300, threshold=80, regle_nan=False)\n",
    "    \n",
    "    if Test1_1 == False:\n",
    "        count_test_temp = count_test_temp + 1\n",
    "    if Test1_2 == False:\n",
    "        count_test_PASM = count_test_PASM + 1\n",
    "    if Test1_3 == False:\n",
    "        count_test_noradrenaline = count_test_noradrenaline + 1\n",
    "    if Test1_4 == False:\n",
    "        count_test_ratio_pao2_fio2 = count_test_ratio_pao2_fio2 + 1\n",
    "        \n",
    "    \n",
    "print(\"nombre de test 'Temp > 36°' negatif : \", count_test_temp)\n",
    "print(\"nombre de test 'PAsM > 60' negatif : \", count_test_PASM)\n",
    "print(\"nombre de test 'noradrenaline < 1mg/h' negatif : \", count_test_noradrenaline)\n",
    "print(\"nombre de test 'rapport Pa02/fi02 > 300' negatif : \", count_test_ratio_pao2_fio2)"
   ]
  },
  {
   "cell_type": "code",
   "execution_count": null,
   "metadata": {},
   "outputs": [],
   "source": []
  },
  {
   "cell_type": "markdown",
   "metadata": {},
   "source": [
    "Transfer to ICU with ECMO and mechanical ventilation"
   ]
  },
  {
   "cell_type": "code",
   "execution_count": 80,
   "metadata": {},
   "outputs": [],
   "source": [
    "list_ecmo = sub_df.id_patient[sub_df.result_tree=='Transfer to ICU with ECMO and mechanical ventilation']"
   ]
  },
  {
   "cell_type": "code",
   "execution_count": 81,
   "metadata": {},
   "outputs": [
    {
     "data": {
      "text/plain": [
       "(15,)"
      ]
     },
     "execution_count": 81,
     "metadata": {},
     "output_type": "execute_result"
    }
   ],
   "source": [
    "list_ecmo.shape"
   ]
  },
  {
   "cell_type": "code",
   "execution_count": 82,
   "metadata": {},
   "outputs": [
    {
     "name": "stdout",
     "output_type": "stream",
     "text": [
      "nombre de test 'PAsM > 60' negatif :  3\n",
      "nombre de test 'noradrenaline < 1mg/h' negatif :  2\n",
      "nombre de test 'rapport Pa02/fi02 > 100' negatif :  1\n",
      "nombre de test 'rapport Pa02/fi02 > 200' negatif :  6\n",
      "nombre de test 'diminution des PAP' negatif :  6\n"
     ]
    }
   ],
   "source": [
    "count_test_PASM = 0\n",
    "count_test_noradrenaline = 0\n",
    "count_test_ratio_pao2_fio2_100 = 0\n",
    "count_test_ratio_pao2_fio2_200 = 0\n",
    "count_test_PAP_diminution = 0\n",
    "\n",
    "for id_patient in list_ecmo:\n",
    "    data_static_id = validation.get_static_id(data_static, id_=id_patient)\n",
    "    data_dynamic_id = validation.get_dynamic_id(data_dynamic, id_=id_patient)\n",
    "    data_dynamic_id_end = validation.get_end_surgery_data_dynamic(data_dynamic_id,time=15, period=15)\n",
    "    \n",
    "    Test1 = validation.test_PASm_sup(data_dynamic_id_end, obj=60, threshold=85, regle_nan=False)\n",
    "    Test2 = validation.test_noradrenaline(data_static_id, nora_max=1.5, nora_min=1,regle_nan=False)\n",
    "    Test3 = validation.test_ratio_pao2_fio2(data_static_id, data_dynamic_id_end, obj=200, threshold=80, regle_nan=False)\n",
    "    Test4 = validation.test_ratio_pao2_fio2(data_static_id, data_dynamic_id_end, obj=100, threshold=80, regle_nan=False)\n",
    "    Test5 = validation.test_PAP_diminution(data_dynamic_id_end, paps_max=50, paps_min=32, regle_nan=False)\n",
    "    \n",
    "    if Test1 == False:\n",
    "        count_test_PASM = count_test_PASM + 1\n",
    "    if Test2 == False:\n",
    "        count_test_noradrenaline = count_test_noradrenaline + 1\n",
    "    if Test3 == False:\n",
    "        count_test_ratio_pao2_fio2_200 = count_test_ratio_pao2_fio2_200 + 1\n",
    "    if Test4 == False:\n",
    "        count_test_ratio_pao2_fio2_100 = count_test_ratio_pao2_fio2_100 + 1\n",
    "    if Test5 == False : \n",
    "        count_test_PAP_diminution = count_test_PAP_diminution + 1\n",
    "        \n",
    "    \n",
    "print(\"nombre de test 'PAsM > 60' negatif : \", count_test_PASM)\n",
    "print(\"nombre de test 'noradrenaline < 1mg/h' negatif : \", count_test_noradrenaline)\n",
    "print(\"nombre de test 'rapport Pa02/fi02 > 100' negatif : \", count_test_ratio_pao2_fio2_100)\n",
    "print(\"nombre de test 'rapport Pa02/fi02 > 200' negatif : \", count_test_ratio_pao2_fio2_200)\n",
    "print(\"nombre de test 'diminution des PAP' negatif : \", count_test_PAP_diminution)"
   ]
  },
  {
   "cell_type": "code",
   "execution_count": null,
   "metadata": {},
   "outputs": [],
   "source": []
  },
  {
   "cell_type": "code",
   "execution_count": null,
   "metadata": {},
   "outputs": [],
   "source": [
    "#lorsque les décisions ne matchent pas entre arbre et medecin, regarder si complications ou pas"
   ]
  }
 ],
 "metadata": {
  "kernelspec": {
   "display_name": "Python 3",
   "language": "python",
   "name": "python3"
  },
  "language_info": {
   "codemirror_mode": {
    "name": "ipython",
    "version": 3
   },
   "file_extension": ".py",
   "mimetype": "text/x-python",
   "name": "python",
   "nbconvert_exporter": "python",
   "pygments_lexer": "ipython3",
   "version": "3.6.8"
  }
 },
 "nbformat": 4,
 "nbformat_minor": 2
}
