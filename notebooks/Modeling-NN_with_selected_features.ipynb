{
 "cells": [
  {
   "cell_type": "code",
   "execution_count": 1,
   "metadata": {
    "scrolled": true
   },
   "outputs": [
    {
     "data": {
      "text/html": [
       "<div id=\"my_id_menu_nb\">run previous cell, wait for 2 seconds</div>\n",
       "<script>\n",
       "function repeat_indent_string(n){\n",
       "    var a = \"\" ;\n",
       "    for ( ; n > 0 ; --n)\n",
       "        a += \"    \";\n",
       "    return a;\n",
       "}\n",
       "// look up into all sections and builds an automated menu //\n",
       "var update_menu_string = function(begin, lfirst, llast, sformat, send, keep_item, begin_format, end_format) {\n",
       "    var anchors = document.getElementsByClassName(\"section\");\n",
       "    if (anchors.length == 0) {\n",
       "        anchors = document.getElementsByClassName(\"text_cell_render rendered_html\");\n",
       "    }\n",
       "    var i,t;\n",
       "    var text_menu = begin;\n",
       "    var text_memo = \"<pre>\\nlength:\" + anchors.length + \"\\n\";\n",
       "    var ind = \"\";\n",
       "    var memo_level = 1;\n",
       "    var href;\n",
       "    var tags = [];\n",
       "    var main_item = 0;\n",
       "    var format_open = 0;\n",
       "    for (i = 0; i <= llast; i++)\n",
       "        tags.push(\"h\" + i);\n",
       "\n",
       "    for (i = 0; i < anchors.length; i++) {\n",
       "        text_memo += \"**\" + anchors[i].id + \"--\\n\";\n",
       "\n",
       "        var child = null;\n",
       "        for(t = 0; t < tags.length; t++) {\n",
       "            var r = anchors[i].getElementsByTagName(tags[t]);\n",
       "            if (r.length > 0) {\n",
       "child = r[0];\n",
       "break;\n",
       "            }\n",
       "        }\n",
       "        if (child == null) {\n",
       "            text_memo += \"null\\n\";\n",
       "            continue;\n",
       "        }\n",
       "        if (anchors[i].hasAttribute(\"id\")) {\n",
       "            // when converted in RST\n",
       "            href = anchors[i].id;\n",
       "            text_memo += \"#1-\" + href;\n",
       "            // passer à child suivant (le chercher)\n",
       "        }\n",
       "        else if (child.hasAttribute(\"id\")) {\n",
       "            // in a notebook\n",
       "            href = child.id;\n",
       "            text_memo += \"#2-\" + href;\n",
       "        }\n",
       "        else {\n",
       "            text_memo += \"#3-\" + \"*\" + \"\\n\";\n",
       "            continue;\n",
       "        }\n",
       "        var title = child.textContent;\n",
       "        var level = parseInt(child.tagName.substring(1,2));\n",
       "\n",
       "        text_memo += \"--\" + level + \"?\" + lfirst + \"--\" + title + \"\\n\";\n",
       "\n",
       "        if ((level < lfirst) || (level > llast)) {\n",
       "            continue ;\n",
       "        }\n",
       "        if (title.endsWith('¶')) {\n",
       "            title = title.substring(0,title.length-1).replace(\"<\", \"&lt;\")\n",
       "         .replace(\">\", \"&gt;\").replace(\"&\", \"&amp;\");\n",
       "        }\n",
       "        if (title.length == 0) {\n",
       "            continue;\n",
       "        }\n",
       "\n",
       "        while (level < memo_level) {\n",
       "            text_menu += end_format + \"</ul>\\n\";\n",
       "            format_open -= 1;\n",
       "            memo_level -= 1;\n",
       "        }\n",
       "        if (level == lfirst) {\n",
       "            main_item += 1;\n",
       "        }\n",
       "        if (keep_item != -1 && main_item != keep_item + 1) {\n",
       "            // alert(main_item + \" - \" + level + \" - \" + keep_item);\n",
       "            continue;\n",
       "        }\n",
       "        while (level > memo_level) {\n",
       "            text_menu += \"<ul>\\n\";\n",
       "            memo_level += 1;\n",
       "        }\n",
       "        text_menu += repeat_indent_string(level-2);\n",
       "        text_menu += begin_format + sformat.replace(\"__HREF__\", href).replace(\"__TITLE__\", title);\n",
       "        format_open += 1;\n",
       "    }\n",
       "    while (1 < memo_level) {\n",
       "        text_menu += end_format + \"</ul>\\n\";\n",
       "        memo_level -= 1;\n",
       "        format_open -= 1;\n",
       "    }\n",
       "    text_menu += send;\n",
       "    //text_menu += \"\\n\" + text_memo;\n",
       "\n",
       "    while (format_open > 0) {\n",
       "        text_menu += end_format;\n",
       "        format_open -= 1;\n",
       "    }\n",
       "    return text_menu;\n",
       "};\n",
       "var update_menu = function() {\n",
       "    var sbegin = \"\";\n",
       "    var sformat = '<a href=\"#__HREF__\">__TITLE__</a>';\n",
       "    var send = \"\";\n",
       "    var begin_format = '<li>';\n",
       "    var end_format = '</li>';\n",
       "    var keep_item = -1;\n",
       "    var text_menu = update_menu_string(sbegin, 2, 4, sformat, send, keep_item,\n",
       "       begin_format, end_format);\n",
       "    var menu = document.getElementById(\"my_id_menu_nb\");\n",
       "    menu.innerHTML=text_menu;\n",
       "};\n",
       "window.setTimeout(update_menu,2000);\n",
       "            </script>"
      ],
      "text/plain": [
       "<IPython.core.display.HTML object>"
      ]
     },
     "execution_count": 1,
     "metadata": {},
     "output_type": "execute_result"
    }
   ],
   "source": [
    "from jyquickhelper import add_notebook_menu\n",
    "add_notebook_menu()"
   ]
  },
  {
   "cell_type": "code",
   "execution_count": 2,
   "metadata": {},
   "outputs": [],
   "source": [
    "import warnings\n",
    "warnings.filterwarnings('ignore')"
   ]
  },
  {
   "cell_type": "markdown",
   "metadata": {},
   "source": [
    "On utilise keras pour faciliter les prototypes "
   ]
  },
  {
   "cell_type": "markdown",
   "metadata": {},
   "source": [
    "## Librairies "
   ]
  },
  {
   "cell_type": "code",
   "execution_count": 3,
   "metadata": {},
   "outputs": [
    {
     "name": "stderr",
     "output_type": "stream",
     "text": [
      "Using TensorFlow backend.\n"
     ]
    }
   ],
   "source": [
    "import tensorflow as tf\n",
    "import keras\n",
    "from keras.models import Sequential\n",
    "from keras.layers import Dense, Dropout, Activation\n",
    "from keras.optimizers import SGD\n",
    "\n",
    "import numpy as np\n",
    "\n",
    "import seaborn as sns\n",
    "import matplotlib.pyplot as plt\n",
    "%matplotlib inline"
   ]
  },
  {
   "cell_type": "markdown",
   "metadata": {},
   "source": [
    "## Données "
   ]
  },
  {
   "cell_type": "code",
   "execution_count": 4,
   "metadata": {},
   "outputs": [],
   "source": [
    "from transplant.data.learningset import Learningset\n",
    "\n",
    "learningset = Learningset()\n",
    "\n",
    "#X_train, X_test, y_train, y_test, X_col = learningset.get_data_merged_dynamic_flatten_full()\n",
    "train, test = learningset.get_data_merged_dynamic_flatten_full(full_df=True)"
   ]
  },
  {
   "cell_type": "code",
   "execution_count": 5,
   "metadata": {},
   "outputs": [],
   "source": [
    "choix_features=['PEEPtotal_std',\n",
    " 'Temp_mean',\n",
    " 'ETCO2_mean',\n",
    " 'FiO2_std',\n",
    " 'LAS',\n",
    " 'Poids',\n",
    " 'SpO2_mean',\n",
    " 'BIS SR_std']"
   ]
  },
  {
   "cell_type": "code",
   "execution_count": 6,
   "metadata": {},
   "outputs": [],
   "source": [
    "num_feat=len(choix_features)"
   ]
  },
  {
   "cell_type": "code",
   "execution_count": 7,
   "metadata": {},
   "outputs": [],
   "source": [
    "X_train=train[choix_features].values \n",
    "X_test=test[choix_features].values\n",
    "y_train=train['target'].values\n",
    "y_test=test['target'].values"
   ]
  },
  {
   "cell_type": "code",
   "execution_count": 8,
   "metadata": {},
   "outputs": [],
   "source": [
    "y_train, y_test = y_train.reshape(-1, 1), y_test.reshape(-1, 1)"
   ]
  },
  {
   "cell_type": "code",
   "execution_count": 9,
   "metadata": {
    "scrolled": false
   },
   "outputs": [
    {
     "data": {
      "text/plain": [
       "((241, 8), (101, 8), (241, 1), (101, 1))"
      ]
     },
     "execution_count": 9,
     "metadata": {},
     "output_type": "execute_result"
    }
   ],
   "source": [
    "X_train.shape, X_test.shape, y_train.shape, y_test.shape"
   ]
  },
  {
   "cell_type": "code",
   "execution_count": 10,
   "metadata": {
    "scrolled": true
   },
   "outputs": [],
   "source": [
    "y_train = keras.utils.to_categorical(y_train, num_classes=2)\n",
    "y_test = keras.utils.to_categorical(y_test, num_classes=2)"
   ]
  },
  {
   "cell_type": "markdown",
   "metadata": {},
   "source": [
    "## Modèle simple "
   ]
  },
  {
   "cell_type": "code",
   "execution_count": 11,
   "metadata": {},
   "outputs": [
    {
     "name": "stdout",
     "output_type": "stream",
     "text": [
      "Epoch 1/200\n",
      "241/241 [==============================] - 0s 2ms/step - loss: 9.1626 - acc: 0.4315\n",
      "Epoch 2/200\n",
      "241/241 [==============================] - 0s 83us/step - loss: 9.1626 - acc: 0.4315\n",
      "Epoch 3/200\n",
      "241/241 [==============================] - 0s 79us/step - loss: 9.1626 - acc: 0.4315\n",
      "Epoch 4/200\n",
      "241/241 [==============================] - 0s 95us/step - loss: 9.1626 - acc: 0.4315\n",
      "Epoch 5/200\n",
      "241/241 [==============================] - 0s 62us/step - loss: 9.1626 - acc: 0.4315\n",
      "Epoch 6/200\n",
      "241/241 [==============================] - 0s 29us/step - loss: 9.1626 - acc: 0.4315\n",
      "Epoch 7/200\n",
      "241/241 [==============================] - 0s 50us/step - loss: 9.1626 - acc: 0.4315\n",
      "Epoch 8/200\n",
      "241/241 [==============================] - 0s 46us/step - loss: 9.1626 - acc: 0.4315\n",
      "Epoch 9/200\n",
      "241/241 [==============================] - 0s 54us/step - loss: 9.1626 - acc: 0.4315\n",
      "Epoch 10/200\n",
      "241/241 [==============================] - 0s 37us/step - loss: 9.1626 - acc: 0.4315\n",
      "Epoch 11/200\n",
      "241/241 [==============================] - 0s 33us/step - loss: 9.1626 - acc: 0.4315\n",
      "Epoch 12/200\n",
      "241/241 [==============================] - 0s 46us/step - loss: 9.1626 - acc: 0.4315\n",
      "Epoch 13/200\n",
      "241/241 [==============================] - 0s 75us/step - loss: 9.1626 - acc: 0.4315\n",
      "Epoch 14/200\n",
      "241/241 [==============================] - 0s 58us/step - loss: 9.1626 - acc: 0.4315\n",
      "Epoch 15/200\n",
      "241/241 [==============================] - 0s 41us/step - loss: 9.1626 - acc: 0.4315\n",
      "Epoch 16/200\n",
      "241/241 [==============================] - 0s 29us/step - loss: 9.1626 - acc: 0.4315\n",
      "Epoch 17/200\n",
      "241/241 [==============================] - 0s 29us/step - loss: 9.1626 - acc: 0.4315\n",
      "Epoch 18/200\n",
      "241/241 [==============================] - 0s 33us/step - loss: 9.1626 - acc: 0.4315\n",
      "Epoch 19/200\n",
      "241/241 [==============================] - 0s 25us/step - loss: 9.1626 - acc: 0.4315\n",
      "Epoch 20/200\n",
      "241/241 [==============================] - 0s 33us/step - loss: 9.1626 - acc: 0.4315\n",
      "Epoch 21/200\n",
      "241/241 [==============================] - 0s 25us/step - loss: 9.1626 - acc: 0.4315\n",
      "Epoch 22/200\n",
      "241/241 [==============================] - 0s 75us/step - loss: 9.1626 - acc: 0.4315\n",
      "Epoch 23/200\n",
      "241/241 [==============================] - 0s 62us/step - loss: 9.1626 - acc: 0.4315\n",
      "Epoch 24/200\n",
      "241/241 [==============================] - 0s 33us/step - loss: 9.1626 - acc: 0.4315\n",
      "Epoch 25/200\n",
      "241/241 [==============================] - 0s 41us/step - loss: 9.1626 - acc: 0.4315\n",
      "Epoch 26/200\n",
      "241/241 [==============================] - 0s 29us/step - loss: 9.1626 - acc: 0.4315\n",
      "Epoch 27/200\n",
      "241/241 [==============================] - 0s 33us/step - loss: 9.1626 - acc: 0.4315\n",
      "Epoch 28/200\n",
      "241/241 [==============================] - 0s 46us/step - loss: 9.1626 - acc: 0.4315\n",
      "Epoch 29/200\n",
      "241/241 [==============================] - 0s 120us/step - loss: 9.1626 - acc: 0.4315\n",
      "Epoch 30/200\n",
      "241/241 [==============================] - 0s 29us/step - loss: 9.1626 - acc: 0.4315\n",
      "Epoch 31/200\n",
      "241/241 [==============================] - 0s 33us/step - loss: 9.1626 - acc: 0.4315\n",
      "Epoch 32/200\n",
      "241/241 [==============================] - 0s 29us/step - loss: 9.1626 - acc: 0.4315\n",
      "Epoch 33/200\n",
      "241/241 [==============================] - 0s 29us/step - loss: 9.1626 - acc: 0.4315\n",
      "Epoch 34/200\n",
      "241/241 [==============================] - 0s 33us/step - loss: 9.1626 - acc: 0.4315\n",
      "Epoch 35/200\n",
      "241/241 [==============================] - 0s 66us/step - loss: 9.1626 - acc: 0.4315\n",
      "Epoch 36/200\n",
      "241/241 [==============================] - 0s 33us/step - loss: 9.1626 - acc: 0.4315\n",
      "Epoch 37/200\n",
      "241/241 [==============================] - 0s 33us/step - loss: 9.1626 - acc: 0.4315\n",
      "Epoch 38/200\n",
      "241/241 [==============================] - 0s 33us/step - loss: 9.1626 - acc: 0.4315\n",
      "Epoch 39/200\n",
      "241/241 [==============================] - 0s 62us/step - loss: 9.1626 - acc: 0.4315\n",
      "Epoch 40/200\n",
      "241/241 [==============================] - 0s 37us/step - loss: 9.1626 - acc: 0.4315\n",
      "Epoch 41/200\n",
      "241/241 [==============================] - 0s 33us/step - loss: 9.1626 - acc: 0.4315\n",
      "Epoch 42/200\n",
      "241/241 [==============================] - 0s 37us/step - loss: 9.1626 - acc: 0.4315\n",
      "Epoch 43/200\n",
      "241/241 [==============================] - 0s 37us/step - loss: 9.1626 - acc: 0.4315\n",
      "Epoch 44/200\n",
      "241/241 [==============================] - 0s 33us/step - loss: 9.1626 - acc: 0.4315\n",
      "Epoch 45/200\n",
      "241/241 [==============================] - 0s 129us/step - loss: 9.1626 - acc: 0.4315\n",
      "Epoch 46/200\n",
      "241/241 [==============================] - 0s 41us/step - loss: 9.1626 - acc: 0.4315\n",
      "Epoch 47/200\n",
      "241/241 [==============================] - 0s 41us/step - loss: 9.1626 - acc: 0.4315\n",
      "Epoch 48/200\n",
      "241/241 [==============================] - 0s 37us/step - loss: 9.1626 - acc: 0.4315\n",
      "Epoch 49/200\n",
      "241/241 [==============================] - 0s 29us/step - loss: 9.1626 - acc: 0.4315\n",
      "Epoch 50/200\n",
      "241/241 [==============================] - 0s 33us/step - loss: 9.1626 - acc: 0.4315\n",
      "Epoch 51/200\n",
      "241/241 [==============================] - 0s 33us/step - loss: 9.1626 - acc: 0.4315\n",
      "Epoch 52/200\n",
      "241/241 [==============================] - 0s 33us/step - loss: 9.1626 - acc: 0.4315\n",
      "Epoch 53/200\n",
      "241/241 [==============================] - 0s 46us/step - loss: 9.1626 - acc: 0.4315\n",
      "Epoch 54/200\n",
      "241/241 [==============================] - 0s 50us/step - loss: 9.1626 - acc: 0.4315\n",
      "Epoch 55/200\n",
      "241/241 [==============================] - 0s 46us/step - loss: 9.1626 - acc: 0.4315\n",
      "Epoch 56/200\n",
      "241/241 [==============================] - 0s 29us/step - loss: 9.1626 - acc: 0.4315\n",
      "Epoch 57/200\n",
      "241/241 [==============================] - 0s 33us/step - loss: 9.1626 - acc: 0.4315\n",
      "Epoch 58/200\n",
      "241/241 [==============================] - 0s 29us/step - loss: 9.1626 - acc: 0.4315\n",
      "Epoch 59/200\n",
      "241/241 [==============================] - 0s 37us/step - loss: 9.1626 - acc: 0.4315\n",
      "Epoch 60/200\n",
      "241/241 [==============================] - 0s 29us/step - loss: 9.1626 - acc: 0.4315\n",
      "Epoch 61/200\n",
      "241/241 [==============================] - 0s 29us/step - loss: 9.1626 - acc: 0.4315\n",
      "Epoch 62/200\n",
      "241/241 [==============================] - 0s 70us/step - loss: 9.1626 - acc: 0.4315\n",
      "Epoch 63/200\n",
      "241/241 [==============================] - 0s 54us/step - loss: 9.1626 - acc: 0.4315\n",
      "Epoch 64/200\n",
      "241/241 [==============================] - 0s 41us/step - loss: 9.1626 - acc: 0.4315\n",
      "Epoch 65/200\n",
      "241/241 [==============================] - 0s 33us/step - loss: 9.1626 - acc: 0.4315\n",
      "Epoch 66/200\n",
      "241/241 [==============================] - 0s 29us/step - loss: 9.1626 - acc: 0.4315\n",
      "Epoch 67/200\n",
      "241/241 [==============================] - 0s 33us/step - loss: 9.1626 - acc: 0.4315\n",
      "Epoch 68/200\n",
      "241/241 [==============================] - 0s 25us/step - loss: 9.1626 - acc: 0.4315\n",
      "Epoch 69/200\n",
      "241/241 [==============================] - 0s 29us/step - loss: 9.1626 - acc: 0.4315\n",
      "Epoch 70/200\n",
      "241/241 [==============================] - 0s 29us/step - loss: 9.1626 - acc: 0.4315\n",
      "Epoch 71/200\n",
      "241/241 [==============================] - 0s 33us/step - loss: 9.1626 - acc: 0.4315\n",
      "Epoch 72/200\n",
      "241/241 [==============================] - 0s 33us/step - loss: 9.1626 - acc: 0.4315\n",
      "Epoch 73/200\n",
      "241/241 [==============================] - 0s 75us/step - loss: 9.1626 - acc: 0.4315\n",
      "Epoch 74/200\n",
      "241/241 [==============================] - 0s 62us/step - loss: 9.1626 - acc: 0.4315\n",
      "Epoch 75/200\n",
      "241/241 [==============================] - 0s 41us/step - loss: 9.1626 - acc: 0.4315\n",
      "Epoch 76/200\n",
      "241/241 [==============================] - 0s 33us/step - loss: 9.1626 - acc: 0.4315\n",
      "Epoch 77/200\n",
      "241/241 [==============================] - 0s 33us/step - loss: 9.1626 - acc: 0.4315\n",
      "Epoch 78/200\n",
      "241/241 [==============================] - 0s 29us/step - loss: 9.1626 - acc: 0.4315\n",
      "Epoch 79/200\n",
      "241/241 [==============================] - 0s 29us/step - loss: 9.1626 - acc: 0.4315\n",
      "Epoch 80/200\n",
      "241/241 [==============================] - 0s 33us/step - loss: 9.1626 - acc: 0.4315\n",
      "Epoch 81/200\n",
      "241/241 [==============================] - 0s 33us/step - loss: 9.1626 - acc: 0.4315\n",
      "Epoch 82/200\n",
      "241/241 [==============================] - 0s 33us/step - loss: 9.1626 - acc: 0.4315\n",
      "Epoch 83/200\n",
      "241/241 [==============================] - 0s 29us/step - loss: 9.1626 - acc: 0.4315\n",
      "Epoch 84/200\n"
     ]
    },
    {
     "name": "stdout",
     "output_type": "stream",
     "text": [
      "241/241 [==============================] - 0s 33us/step - loss: 9.1626 - acc: 0.4315\n",
      "Epoch 85/200\n",
      "241/241 [==============================] - 0s 29us/step - loss: 9.1626 - acc: 0.4315\n",
      "Epoch 86/200\n",
      "241/241 [==============================] - 0s 33us/step - loss: 9.1626 - acc: 0.4315\n",
      "Epoch 87/200\n",
      "241/241 [==============================] - 0s 29us/step - loss: 9.1626 - acc: 0.4315\n",
      "Epoch 88/200\n",
      "241/241 [==============================] - 0s 75us/step - loss: 9.1626 - acc: 0.4315\n",
      "Epoch 89/200\n",
      "241/241 [==============================] - 0s 50us/step - loss: 9.1626 - acc: 0.4315\n",
      "Epoch 90/200\n",
      "241/241 [==============================] - 0s 29us/step - loss: 9.1626 - acc: 0.4315\n",
      "Epoch 91/200\n",
      "241/241 [==============================] - 0s 33us/step - loss: 9.1626 - acc: 0.4315\n",
      "Epoch 92/200\n",
      "241/241 [==============================] - 0s 29us/step - loss: 9.1626 - acc: 0.4315\n",
      "Epoch 93/200\n",
      "241/241 [==============================] - 0s 33us/step - loss: 9.1626 - acc: 0.4315\n",
      "Epoch 94/200\n",
      "241/241 [==============================] - 0s 33us/step - loss: 9.1626 - acc: 0.4315\n",
      "Epoch 95/200\n",
      "241/241 [==============================] - 0s 29us/step - loss: 9.1626 - acc: 0.4315\n",
      "Epoch 96/200\n",
      "241/241 [==============================] - 0s 33us/step - loss: 9.1626 - acc: 0.4315\n",
      "Epoch 97/200\n",
      "241/241 [==============================] - 0s 33us/step - loss: 9.1626 - acc: 0.4315\n",
      "Epoch 98/200\n",
      "241/241 [==============================] - 0s 33us/step - loss: 9.1626 - acc: 0.4315\n",
      "Epoch 99/200\n",
      "241/241 [==============================] - 0s 33us/step - loss: 9.1626 - acc: 0.4315\n",
      "Epoch 100/200\n",
      "241/241 [==============================] - 0s 33us/step - loss: 9.1626 - acc: 0.4315\n",
      "Epoch 101/200\n",
      "241/241 [==============================] - 0s 25us/step - loss: 9.1626 - acc: 0.4315\n",
      "Epoch 102/200\n",
      "241/241 [==============================] - 0s 33us/step - loss: 9.1626 - acc: 0.4315\n",
      "Epoch 103/200\n",
      "241/241 [==============================] - 0s 83us/step - loss: 9.1626 - acc: 0.4315\n",
      "Epoch 104/200\n",
      "241/241 [==============================] - 0s 50us/step - loss: 9.1626 - acc: 0.4315\n",
      "Epoch 105/200\n",
      "241/241 [==============================] - 0s 33us/step - loss: 9.1626 - acc: 0.4315\n",
      "Epoch 106/200\n",
      "241/241 [==============================] - 0s 33us/step - loss: 9.1626 - acc: 0.4315\n",
      "Epoch 107/200\n",
      "241/241 [==============================] - 0s 33us/step - loss: 9.1626 - acc: 0.4315\n",
      "Epoch 108/200\n",
      "241/241 [==============================] - 0s 33us/step - loss: 9.1626 - acc: 0.4315\n",
      "Epoch 109/200\n",
      "241/241 [==============================] - 0s 33us/step - loss: 9.1626 - acc: 0.4315\n",
      "Epoch 110/200\n",
      "241/241 [==============================] - 0s 29us/step - loss: 9.1626 - acc: 0.4315\n",
      "Epoch 111/200\n",
      "241/241 [==============================] - 0s 29us/step - loss: 9.1626 - acc: 0.4315\n",
      "Epoch 112/200\n",
      "241/241 [==============================] - 0s 29us/step - loss: 9.1626 - acc: 0.4315\n",
      "Epoch 113/200\n",
      "241/241 [==============================] - 0s 29us/step - loss: 9.1626 - acc: 0.4315\n",
      "Epoch 114/200\n",
      "241/241 [==============================] - 0s 33us/step - loss: 9.1626 - acc: 0.4315\n",
      "Epoch 115/200\n",
      "241/241 [==============================] - 0s 29us/step - loss: 9.1626 - acc: 0.4315\n",
      "Epoch 116/200\n",
      "241/241 [==============================] - 0s 33us/step - loss: 9.1626 - acc: 0.4315\n",
      "Epoch 117/200\n",
      "241/241 [==============================] - 0s 29us/step - loss: 9.1626 - acc: 0.4315\n",
      "Epoch 118/200\n",
      "241/241 [==============================] - 0s 33us/step - loss: 9.1626 - acc: 0.4315\n",
      "Epoch 119/200\n",
      "241/241 [==============================] - 0s 25us/step - loss: 9.1626 - acc: 0.4315\n",
      "Epoch 120/200\n",
      "241/241 [==============================] - 0s 29us/step - loss: 9.1626 - acc: 0.4315\n",
      "Epoch 121/200\n",
      "241/241 [==============================] - 0s 29us/step - loss: 9.1626 - acc: 0.4315\n",
      "Epoch 122/200\n",
      "241/241 [==============================] - 0s 25us/step - loss: 9.1626 - acc: 0.4315\n",
      "Epoch 123/200\n",
      "241/241 [==============================] - 0s 33us/step - loss: 9.1626 - acc: 0.4315\n",
      "Epoch 124/200\n",
      "241/241 [==============================] - 0s 29us/step - loss: 9.1626 - acc: 0.4315\n",
      "Epoch 125/200\n",
      "241/241 [==============================] - 0s 33us/step - loss: 9.1626 - acc: 0.4315\n",
      "Epoch 126/200\n",
      "241/241 [==============================] - 0s 29us/step - loss: 9.1626 - acc: 0.4315\n",
      "Epoch 127/200\n",
      "241/241 [==============================] - 0s 33us/step - loss: 9.1626 - acc: 0.4315\n",
      "Epoch 128/200\n",
      "241/241 [==============================] - 0s 29us/step - loss: 9.1626 - acc: 0.4315\n",
      "Epoch 129/200\n",
      "241/241 [==============================] - 0s 33us/step - loss: 9.1626 - acc: 0.4315\n",
      "Epoch 130/200\n",
      "241/241 [==============================] - 0s 100us/step - loss: 9.1626 - acc: 0.4315\n",
      "Epoch 131/200\n",
      "241/241 [==============================] - 0s 41us/step - loss: 9.1626 - acc: 0.4315\n",
      "Epoch 132/200\n",
      "241/241 [==============================] - 0s 41us/step - loss: 9.1626 - acc: 0.4315\n",
      "Epoch 133/200\n",
      "241/241 [==============================] - 0s 41us/step - loss: 9.1626 - acc: 0.4315\n",
      "Epoch 134/200\n",
      "241/241 [==============================] - 0s 58us/step - loss: 9.1626 - acc: 0.4315\n",
      "Epoch 135/200\n",
      "241/241 [==============================] - 0s 37us/step - loss: 9.1626 - acc: 0.4315\n",
      "Epoch 136/200\n",
      "241/241 [==============================] - 0s 46us/step - loss: 9.1626 - acc: 0.4315\n",
      "Epoch 137/200\n",
      "241/241 [==============================] - 0s 33us/step - loss: 9.1626 - acc: 0.4315\n",
      "Epoch 138/200\n",
      "241/241 [==============================] - 0s 33us/step - loss: 9.1626 - acc: 0.4315\n",
      "Epoch 139/200\n",
      "241/241 [==============================] - 0s 33us/step - loss: 9.1626 - acc: 0.4315\n",
      "Epoch 140/200\n",
      "241/241 [==============================] - 0s 29us/step - loss: 9.1626 - acc: 0.4315\n",
      "Epoch 141/200\n",
      "241/241 [==============================] - 0s 33us/step - loss: 9.1626 - acc: 0.4315\n",
      "Epoch 142/200\n",
      "241/241 [==============================] - 0s 33us/step - loss: 9.1626 - acc: 0.4315\n",
      "Epoch 143/200\n",
      "241/241 [==============================] - 0s 37us/step - loss: 9.1626 - acc: 0.4315\n",
      "Epoch 144/200\n",
      "241/241 [==============================] - 0s 79us/step - loss: 9.1626 - acc: 0.4315\n",
      "Epoch 145/200\n",
      "241/241 [==============================] - 0s 33us/step - loss: 9.1626 - acc: 0.4315\n",
      "Epoch 146/200\n",
      "241/241 [==============================] - 0s 33us/step - loss: 9.1626 - acc: 0.4315\n",
      "Epoch 147/200\n",
      "241/241 [==============================] - 0s 33us/step - loss: 9.1626 - acc: 0.4315\n",
      "Epoch 148/200\n",
      "241/241 [==============================] - 0s 42us/step - loss: 9.1626 - acc: 0.4315\n",
      "Epoch 149/200\n",
      "241/241 [==============================] - 0s 41us/step - loss: 9.1626 - acc: 0.4315\n",
      "Epoch 150/200\n",
      "241/241 [==============================] - 0s 58us/step - loss: 9.1626 - acc: 0.4315\n",
      "Epoch 151/200\n",
      "241/241 [==============================] - 0s 108us/step - loss: 9.1626 - acc: 0.4315\n",
      "Epoch 152/200\n",
      "241/241 [==============================] - 0s 33us/step - loss: 9.1626 - acc: 0.4315\n",
      "Epoch 153/200\n",
      "241/241 [==============================] - 0s 41us/step - loss: 9.1626 - acc: 0.4315\n",
      "Epoch 154/200\n",
      "241/241 [==============================] - 0s 50us/step - loss: 9.1626 - acc: 0.4315\n",
      "Epoch 155/200\n",
      "241/241 [==============================] - 0s 41us/step - loss: 9.1626 - acc: 0.4315\n",
      "Epoch 156/200\n",
      "241/241 [==============================] - 0s 29us/step - loss: 9.1626 - acc: 0.4315\n",
      "Epoch 157/200\n",
      "241/241 [==============================] - 0s 33us/step - loss: 9.1626 - acc: 0.4315\n",
      "Epoch 158/200\n",
      "241/241 [==============================] - 0s 37us/step - loss: 9.1626 - acc: 0.4315\n",
      "Epoch 159/200\n",
      "241/241 [==============================] - 0s 116us/step - loss: 9.1626 - acc: 0.4315\n",
      "Epoch 160/200\n",
      "241/241 [==============================] - 0s 33us/step - loss: 9.1626 - acc: 0.4315\n",
      "Epoch 161/200\n",
      "241/241 [==============================] - 0s 33us/step - loss: 9.1626 - acc: 0.4315\n",
      "Epoch 162/200\n",
      "241/241 [==============================] - 0s 75us/step - loss: 9.1626 - acc: 0.4315\n",
      "Epoch 163/200\n",
      "241/241 [==============================] - 0s 33us/step - loss: 9.1626 - acc: 0.4315\n",
      "Epoch 164/200\n",
      "241/241 [==============================] - 0s 33us/step - loss: 9.1626 - acc: 0.4315\n",
      "Epoch 165/200\n",
      "241/241 [==============================] - 0s 46us/step - loss: 9.1626 - acc: 0.4315\n",
      "Epoch 166/200\n",
      "241/241 [==============================] - 0s 46us/step - loss: 9.1626 - acc: 0.4315\n",
      "Epoch 167/200\n"
     ]
    },
    {
     "name": "stdout",
     "output_type": "stream",
     "text": [
      "241/241 [==============================] - 0s 33us/step - loss: 9.1626 - acc: 0.4315\n",
      "Epoch 168/200\n",
      "241/241 [==============================] - 0s 33us/step - loss: 9.1626 - acc: 0.4315\n",
      "Epoch 169/200\n",
      "241/241 [==============================] - 0s 41us/step - loss: 9.1626 - acc: 0.4315\n",
      "Epoch 170/200\n",
      "241/241 [==============================] - 0s 37us/step - loss: 9.1626 - acc: 0.4315\n",
      "Epoch 171/200\n",
      "241/241 [==============================] - 0s 37us/step - loss: 9.1626 - acc: 0.4315\n",
      "Epoch 172/200\n",
      "241/241 [==============================] - 0s 33us/step - loss: 9.1626 - acc: 0.4315\n",
      "Epoch 173/200\n",
      "241/241 [==============================] - 0s 79us/step - loss: 9.1626 - acc: 0.4315\n",
      "Epoch 174/200\n",
      "241/241 [==============================] - 0s 41us/step - loss: 9.1626 - acc: 0.4315\n",
      "Epoch 175/200\n",
      "241/241 [==============================] - 0s 33us/step - loss: 9.1626 - acc: 0.4315\n",
      "Epoch 176/200\n",
      "241/241 [==============================] - 0s 37us/step - loss: 9.1626 - acc: 0.4315\n",
      "Epoch 177/200\n",
      "241/241 [==============================] - 0s 33us/step - loss: 9.1626 - acc: 0.4315\n",
      "Epoch 178/200\n",
      "241/241 [==============================] - 0s 50us/step - loss: 9.1626 - acc: 0.4315\n",
      "Epoch 179/200\n",
      "241/241 [==============================] - 0s 70us/step - loss: 9.1626 - acc: 0.4315\n",
      "Epoch 180/200\n",
      "241/241 [==============================] - 0s 33us/step - loss: 9.1626 - acc: 0.4315\n",
      "Epoch 181/200\n",
      "241/241 [==============================] - 0s 37us/step - loss: 9.1626 - acc: 0.4315\n",
      "Epoch 182/200\n",
      "241/241 [==============================] - 0s 54us/step - loss: 9.1626 - acc: 0.4315\n",
      "Epoch 183/200\n",
      "241/241 [==============================] - 0s 37us/step - loss: 9.1626 - acc: 0.4315\n",
      "Epoch 184/200\n",
      "241/241 [==============================] - 0s 50us/step - loss: 9.1626 - acc: 0.4315\n",
      "Epoch 185/200\n",
      "241/241 [==============================] - 0s 41us/step - loss: 9.1626 - acc: 0.4315\n",
      "Epoch 186/200\n",
      "241/241 [==============================] - 0s 37us/step - loss: 9.1626 - acc: 0.4315\n",
      "Epoch 187/200\n",
      "241/241 [==============================] - 0s 33us/step - loss: 9.1626 - acc: 0.4315\n",
      "Epoch 188/200\n",
      "241/241 [==============================] - 0s 33us/step - loss: 9.1626 - acc: 0.4315\n",
      "Epoch 189/200\n",
      "241/241 [==============================] - 0s 54us/step - loss: 9.1626 - acc: 0.4315\n",
      "Epoch 190/200\n",
      "241/241 [==============================] - 0s 37us/step - loss: 9.1626 - acc: 0.4315\n",
      "Epoch 191/200\n",
      "241/241 [==============================] - 0s 37us/step - loss: 9.1626 - acc: 0.4315\n",
      "Epoch 192/200\n",
      "241/241 [==============================] - 0s 37us/step - loss: 9.1626 - acc: 0.4315\n",
      "Epoch 193/200\n",
      "241/241 [==============================] - 0s 33us/step - loss: 9.1626 - acc: 0.4315\n",
      "Epoch 194/200\n",
      "241/241 [==============================] - 0s 29us/step - loss: 9.1626 - acc: 0.4315\n",
      "Epoch 195/200\n",
      "241/241 [==============================] - 0s 37us/step - loss: 9.1626 - acc: 0.4315\n",
      "Epoch 196/200\n",
      "241/241 [==============================] - 0s 37us/step - loss: 9.1626 - acc: 0.4315\n",
      "Epoch 197/200\n",
      "241/241 [==============================] - 0s 54us/step - loss: 9.1626 - acc: 0.4315\n",
      "Epoch 198/200\n",
      "241/241 [==============================] - 0s 33us/step - loss: 9.1626 - acc: 0.4315\n",
      "Epoch 199/200\n",
      "241/241 [==============================] - 0s 33us/step - loss: 9.1626 - acc: 0.4315\n",
      "Epoch 200/200\n",
      "241/241 [==============================] - 0s 33us/step - loss: 9.1626 - acc: 0.4315\n",
      "101/101 [==============================] - 0s 1ms/step\n"
     ]
    }
   ],
   "source": [
    "model = Sequential()\n",
    "model.add(Dense(num_feat//2, activation='relu', input_dim=num_feat))\n",
    "#model.add(Dropout(0.5))\n",
    "model.add(Dense(2, activation='softmax'))\n",
    "\n",
    "sgd = SGD(lr=0.01, decay=1e-6, momentum=0.9, nesterov=True)\n",
    "model.compile(loss='categorical_crossentropy',\n",
    "              optimizer=sgd,\n",
    "              metrics=['accuracy'])\n",
    "\n",
    "model.fit(X_train, y_train,\n",
    "          epochs=200,\n",
    "          batch_size=200)\n",
    "score = model.evaluate(X_test, y_test, batch_size=50)"
   ]
  },
  {
   "cell_type": "code",
   "execution_count": 12,
   "metadata": {},
   "outputs": [
    {
     "data": {
      "text/plain": [
       "[9.415521245191593, 0.41584158061754584]"
      ]
     },
     "execution_count": 12,
     "metadata": {},
     "output_type": "execute_result"
    }
   ],
   "source": [
    "score "
   ]
  },
  {
   "cell_type": "code",
   "execution_count": 13,
   "metadata": {},
   "outputs": [],
   "source": [
    "from sklearn.metrics import confusion_matrix\n",
    "from sklearn import metrics"
   ]
  },
  {
   "cell_type": "code",
   "execution_count": 14,
   "metadata": {},
   "outputs": [],
   "source": [
    "y_test_pred_cls=np.array(list(map(np.argmax,model.predict(X_test))))\n",
    "y_test_cls=np.array(list(map(np.argmax,y_test)))"
   ]
  },
  {
   "cell_type": "code",
   "execution_count": 15,
   "metadata": {},
   "outputs": [],
   "source": [
    "conf_matrix=confusion_matrix(y_test_cls,y_test_pred_cls)"
   ]
  },
  {
   "cell_type": "code",
   "execution_count": 16,
   "metadata": {
    "scrolled": true
   },
   "outputs": [
    {
     "data": {
      "text/plain": [
       "array([[ 0, 59],\n",
       "       [ 0, 42]], dtype=int64)"
      ]
     },
     "execution_count": 16,
     "metadata": {},
     "output_type": "execute_result"
    }
   ],
   "source": [
    "conf_matrix"
   ]
  },
  {
   "cell_type": "code",
   "execution_count": 17,
   "metadata": {
    "scrolled": true
   },
   "outputs": [
    {
     "name": "stdout",
     "output_type": "stream",
     "text": [
      "              precision    recall  f1-score   support\n",
      "\n",
      "           0       0.00      0.00      0.00        59\n",
      "           1       0.42      1.00      0.59        42\n",
      "\n",
      "   micro avg       0.42      0.42      0.42       101\n",
      "   macro avg       0.21      0.50      0.29       101\n",
      "weighted avg       0.17      0.42      0.24       101\n",
      "\n"
     ]
    },
    {
     "name": "stderr",
     "output_type": "stream",
     "text": [
      "C:\\Users\\Delanoue\\Anaconda3\\envs\\env_py36\\lib\\site-packages\\sklearn\\metrics\\classification.py:1143: UndefinedMetricWarning: Precision and F-score are ill-defined and being set to 0.0 in labels with no predicted samples.\n",
      "  'precision', 'predicted', average, warn_for)\n",
      "C:\\Users\\Delanoue\\Anaconda3\\envs\\env_py36\\lib\\site-packages\\sklearn\\metrics\\classification.py:1143: UndefinedMetricWarning: Precision and F-score are ill-defined and being set to 0.0 in labels with no predicted samples.\n",
      "  'precision', 'predicted', average, warn_for)\n",
      "C:\\Users\\Delanoue\\Anaconda3\\envs\\env_py36\\lib\\site-packages\\sklearn\\metrics\\classification.py:1143: UndefinedMetricWarning: Precision and F-score are ill-defined and being set to 0.0 in labels with no predicted samples.\n",
      "  'precision', 'predicted', average, warn_for)\n"
     ]
    }
   ],
   "source": [
    "print(metrics.classification_report(y_test_cls,y_test_pred_cls))"
   ]
  },
  {
   "cell_type": "code",
   "execution_count": 18,
   "metadata": {},
   "outputs": [
    {
     "data": {
      "text/plain": [
       "<matplotlib.axes._subplots.AxesSubplot at 0x2ccd379bac8>"
      ]
     },
     "execution_count": 18,
     "metadata": {},
     "output_type": "execute_result"
    },
    {
     "data": {
      "image/png": "[encoded data removed]",
      "text/plain": [
       "<Figure size 1008x864 with 2 Axes>"
      ]
     },
     "metadata": {
      "needs_background": "light"
     },
     "output_type": "display_data"
    }
   ],
   "source": [
    "colormap = plt.cm.plasma\n",
    "plt.figure(figsize=(14,12))\n",
    "plt.title('Matrice de confusion', y=1.05, size=15)\n",
    "sns.heatmap(conf_matrix,linewidths=0.1, \n",
    "            square=True, cmap=colormap, linecolor='white', annot=True)"
   ]
  },
  {
   "cell_type": "code",
   "execution_count": null,
   "metadata": {},
   "outputs": [],
   "source": []
  }
 ],
 "metadata": {
  "kernelspec": {
   "display_name": "Python 3",
   "language": "python",
   "name": "python3"
  },
  "language_info": {
   "codemirror_mode": {
    "name": "ipython",
    "version": 3
   },
   "file_extension": ".py",
   "mimetype": "text/x-python",
   "name": "python",
   "nbconvert_exporter": "python",
   "pygments_lexer": "ipython3",
   "version": "3.6.8"
  },
  "varInspector": {
   "cols": {
    "lenName": 16,
    "lenType": 16,
    "lenVar": 40
   },
   "kernels_config": {
    "python": {
     "delete_cmd_postfix": "",
     "delete_cmd_prefix": "del ",
     "library": "var_list.py",
     "varRefreshCmd": "print(var_dic_list())"
    },
    "r": {
     "delete_cmd_postfix": ") ",
     "delete_cmd_prefix": "rm(",
     "library": "var_list.r",
     "varRefreshCmd": "cat(var_dic_list()) "
    }
   },
   "types_to_exclude": [
    "module",
    "function",
    "builtin_function_or_method",
    "instance",
    "_Feature"
   ],
   "window_display": false
  }
 },
 "nbformat": 4,
 "nbformat_minor": 2
}
