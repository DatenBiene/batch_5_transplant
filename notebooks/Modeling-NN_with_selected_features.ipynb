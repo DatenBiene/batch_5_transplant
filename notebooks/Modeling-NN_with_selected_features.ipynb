{
 "cells": [
  {
   "cell_type": "code",
   "execution_count": 1,
   "metadata": {
    "scrolled": true
   },
   "outputs": [],
   "source": [
    "from jyquickhelper import add_notebook_menu\n",
    "add_notebook_menu()"
   ]
  },
  {
   "cell_type": "code",
   "execution_count": 2,
   "metadata": {},
   "outputs": [],
   "source": [
    "import warnings\n",
    "warnings.filterwarnings('ignore')"
   ]
  },
  {
   "cell_type": "markdown",
   "metadata": {},
   "source": [
    "## Neural Network avec selection de features "
   ]
  },
  {
   "cell_type": "markdown",
   "metadata": {},
   "source": [
    "Ici on utilise keras pour faciliter les prototypes."
   ]
  },
  {
   "cell_type": "markdown",
   "metadata": {},
   "source": [
    "## Librairies "
   ]
  },
  {
   "cell_type": "code",
   "execution_count": 3,
   "metadata": {},
   "outputs": [
    {
     "name": "stderr",
     "output_type": "stream",
     "text": [
      "Using TensorFlow backend.\n"
     ]
    }
   ],
   "source": [
    "import tensorflow as tf\n",
    "import keras\n",
    "from keras.models import Sequential\n",
    "from keras.layers import Dense, Dropout, Activation\n",
    "from keras.optimizers import SGD\n",
    "\n",
    "import numpy as np\n",
    "\n",
    "import seaborn as sns\n",
    "import matplotlib.pyplot as plt\n",
    "%matplotlib inline"
   ]
  },
  {
   "cell_type": "markdown",
   "metadata": {},
   "source": [
    "## Données "
   ]
  },
  {
   "cell_type": "code",
   "execution_count": 4,
   "metadata": {},
   "outputs": [],
   "source": [
    "from transplant.data.learningset import Learningset\n",
    "\n",
    "learningset = Learningset()\n",
    "\n",
    "#X_train, X_test, y_train, y_test, X_col = learningset.get_data_merged_dynamic_flatten_full()\n",
    "train, test = learningset.get_data_merged_dynamic_flatten_full(full_df=True)"
   ]
  },
  {
   "cell_type": "code",
   "execution_count": 5,
   "metadata": {},
   "outputs": [],
   "source": [
    "choix_features_1=['PEEPtotal_std',\n",
    " 'Temp_mean',\n",
    " 'ETCO2_mean',\n",
    " 'FiO2_std',\n",
    " 'LAS',\n",
    " 'Poids',\n",
    " 'SpO2_mean',\n",
    " 'BIS SR_std']"
   ]
  },
  {
   "cell_type": "code",
   "execution_count": 6,
   "metadata": {},
   "outputs": [],
   "source": [
    "choix_features_2=['PEEPtotal_std',\n",
    " 'Temp_mean',\n",
    " 'ETCO2_mean',\n",
    " 'FiO2_std',\n",
    " 'LAS',\n",
    " 'Poids',\n",
    " 'SpO2_mean',\n",
    " 'Age_donor',\n",
    " 'LAS',\n",
    " 'PF_donor',\n",
    " 'Poids',\n",
    " 'Tabagisme_donor',\n",
    " 'time_on_waiting_liste',\n",
    " 'start_operation_day',\n",
    " 'ends_operation_day',\n",
    " 'B.I.S_mean',\n",
    " 'VT_mean',\n",
    " 'BIS SR_std',\n",
    " 'SpO2_std',\n",
    " 'B.I.S_max',\n",
    " 'BIS SR_max',\n",
    " 'VT_max',\n",
    " 'FC_min',\n",
    " 'FiO2_min',\n",
    " 'PAPdia_min',\n",
    " 'PASm_min',\n",
    " 'SpO2_min']"
   ]
  },
  {
   "cell_type": "markdown",
   "metadata": {},
   "source": [
    "##### On choisit les features ici :"
   ]
  },
  {
   "cell_type": "code",
   "execution_count": 7,
   "metadata": {},
   "outputs": [],
   "source": [
    "Choix_Features=choix_features_1"
   ]
  },
  {
   "cell_type": "code",
   "execution_count": 8,
   "metadata": {},
   "outputs": [],
   "source": [
    "num_feat=len(Choix_Features)"
   ]
  },
  {
   "cell_type": "code",
   "execution_count": 9,
   "metadata": {},
   "outputs": [],
   "source": [
    "X_train=train[Choix_Features].values \n",
    "X_test=test[Choix_Features].values\n",
    "y_train=train['target'].values\n",
    "y_test=test['target'].values"
   ]
  },
  {
   "cell_type": "code",
   "execution_count": 10,
   "metadata": {},
   "outputs": [],
   "source": [
    "y_train, y_test = y_train.reshape(-1, 1), y_test.reshape(-1, 1)"
   ]
  },
  {
   "cell_type": "code",
   "execution_count": 11,
   "metadata": {
    "scrolled": false
   },
   "outputs": [
    {
     "data": {
      "text/plain": [
       "((241, 8), (101, 8), (241, 1), (101, 1))"
      ]
     },
     "execution_count": 11,
     "metadata": {},
     "output_type": "execute_result"
    }
   ],
   "source": [
    "X_train.shape, X_test.shape, y_train.shape, y_test.shape"
   ]
  },
  {
   "cell_type": "code",
   "execution_count": 12,
   "metadata": {
    "scrolled": true
   },
   "outputs": [],
   "source": [
    "# On utilise plus ça mais au cas où\n",
    "#y_train = keras.utils.to_categorical(y_train, num_classes=2)\n",
    "#y_test = keras.utils.to_categorical(y_test, num_classes=2)"
   ]
  },
  {
   "cell_type": "markdown",
   "metadata": {},
   "source": [
    "##### Ici si on veut centrer réduire nos données ( pas de leakage car on utilise la réduction du train set sur le test set"
   ]
  },
  {
   "cell_type": "code",
   "execution_count": 13,
   "metadata": {
    "scrolled": true
   },
   "outputs": [],
   "source": [
    "from sklearn.preprocessing import StandardScaler\n",
    "\n",
    "reduire_centrer=True\n",
    "\n",
    "\n",
    "if reduire_centrer :\n",
    "    scaler = StandardScaler()\n",
    "    scaler.fit(X_train)\n",
    "\n",
    "    X_train=scaler.transform(X_train)\n",
    "    X_test=scaler.transform(X_test)\n",
    "    \n",
    "##On check avec X_train.mean(axis=0)"
   ]
  },
  {
   "cell_type": "markdown",
   "metadata": {},
   "source": [
    "## Modèle simple "
   ]
  },
  {
   "cell_type": "code",
   "execution_count": 14,
   "metadata": {},
   "outputs": [],
   "source": [
    "import numpy\n",
    "import pandas\n",
    "from keras.models import Sequential\n",
    "from keras.layers import Dense\n",
    "from keras.wrappers.scikit_learn import KerasClassifier\n",
    "from sklearn.model_selection import cross_val_score\n",
    "from sklearn.preprocessing import LabelEncoder\n",
    "from sklearn.model_selection import StratifiedKFold\n",
    "from sklearn.preprocessing import StandardScaler\n",
    "from sklearn.pipeline import Pipeline"
   ]
  },
  {
   "cell_type": "code",
   "execution_count": 15,
   "metadata": {
    "scrolled": false
   },
   "outputs": [],
   "source": [
    "model = Sequential()\n",
    "model.add(Dense(num_feat, input_dim=num_feat, kernel_initializer='normal', activation='relu'))\n",
    "model.add(Dropout(0.5)) #Très efficacee contre overfitting \n",
    "model.add(Dense(num_feat//2,  kernel_initializer='normal', activation='relu'))\n",
    "model.add(Dropout(0.5))\n",
    "model.add(Dense(1, kernel_initializer='normal', activation='sigmoid'))\n",
    "model.compile(loss='binary_crossentropy', optimizer='adam', metrics=['accuracy'])\n",
    "\n"
   ]
  },
  {
   "cell_type": "code",
   "execution_count": 16,
   "metadata": {},
   "outputs": [
    {
     "name": "stdout",
     "output_type": "stream",
     "text": [
      "Epoch 1/100\n",
      "241/241 [==============================] - 1s 3ms/step - loss: 0.6931 - acc: 0.5062\n",
      "Epoch 2/100\n",
      "241/241 [==============================] - 0s 647us/step - loss: 0.6918 - acc: 0.5643\n",
      "Epoch 3/100\n",
      "241/241 [==============================] - 0s 543us/step - loss: 0.6908 - acc: 0.5685\n",
      "Epoch 4/100\n",
      "241/241 [==============================] - ETA: 0s - loss: 0.6899 - acc: 0.568 - 0s 655us/step - loss: 0.6898 - acc: 0.5685\n",
      "Epoch 5/100\n",
      "241/241 [==============================] - 0s 597us/step - loss: 0.6890 - acc: 0.5685\n",
      "Epoch 6/100\n",
      "241/241 [==============================] - 0s 664us/step - loss: 0.6877 - acc: 0.5685\n",
      "Epoch 7/100\n",
      "241/241 [==============================] - 0s 605us/step - loss: 0.6851 - acc: 0.5685\n",
      "Epoch 8/100\n",
      "241/241 [==============================] - 0s 630us/step - loss: 0.6806 - acc: 0.5685\n",
      "Epoch 9/100\n",
      "241/241 [==============================] - 0s 647us/step - loss: 0.6759 - acc: 0.5726\n",
      "Epoch 10/100\n",
      "241/241 [==============================] - 0s 560us/step - loss: 0.6635 - acc: 0.6017\n",
      "Epoch 11/100\n",
      "241/241 [==============================] - 0s 618us/step - loss: 0.6651 - acc: 0.5892\n",
      "Epoch 12/100\n",
      "241/241 [==============================] - 0s 589us/step - loss: 0.6520 - acc: 0.6598\n",
      "Epoch 13/100\n",
      "241/241 [==============================] - 0s 634us/step - loss: 0.6436 - acc: 0.6390\n",
      "Epoch 14/100\n",
      "241/241 [==============================] - 0s 664us/step - loss: 0.6483 - acc: 0.6349\n",
      "Epoch 15/100\n",
      "241/241 [==============================] - 0s 614us/step - loss: 0.6291 - acc: 0.6639\n",
      "Epoch 16/100\n",
      "241/241 [==============================] - 0s 593us/step - loss: 0.6366 - acc: 0.6680\n",
      "Epoch 17/100\n",
      "241/241 [==============================] - 0s 564us/step - loss: 0.6214 - acc: 0.7095\n",
      "Epoch 18/100\n",
      "241/241 [==============================] - 0s 601us/step - loss: 0.6361 - acc: 0.6763\n",
      "Epoch 19/100\n",
      "241/241 [==============================] - 0s 556us/step - loss: 0.6361 - acc: 0.6722\n",
      "Epoch 20/100\n",
      "241/241 [==============================] - 0s 630us/step - loss: 0.6404 - acc: 0.6515\n",
      "Epoch 21/100\n",
      "241/241 [==============================] - 0s 556us/step - loss: 0.6305 - acc: 0.6722\n",
      "Epoch 22/100\n",
      "241/241 [==============================] - 0s 597us/step - loss: 0.6353 - acc: 0.6515\n",
      "Epoch 23/100\n",
      "241/241 [==============================] - 0s 572us/step - loss: 0.6203 - acc: 0.6763\n",
      "Epoch 24/100\n",
      "241/241 [==============================] - 0s 547us/step - loss: 0.6339 - acc: 0.6556\n",
      "Epoch 25/100\n",
      "241/241 [==============================] - 0s 498us/step - loss: 0.6201 - acc: 0.6473\n",
      "Epoch 26/100\n",
      "241/241 [==============================] - 0s 568us/step - loss: 0.6261 - acc: 0.6556\n",
      "Epoch 27/100\n",
      "241/241 [==============================] - 0s 622us/step - loss: 0.6200 - acc: 0.6805 0s - loss: 0.6039 - acc: 0.707\n",
      "Epoch 28/100\n",
      "241/241 [==============================] - 0s 755us/step - loss: 0.6415 - acc: 0.6141\n",
      "Epoch 29/100\n",
      "241/241 [==============================] - 0s 618us/step - loss: 0.6269 - acc: 0.6722\n",
      "Epoch 30/100\n",
      "241/241 [==============================] - 0s 556us/step - loss: 0.6255 - acc: 0.6473\n",
      "Epoch 31/100\n",
      "241/241 [==============================] - 0s 655us/step - loss: 0.6023 - acc: 0.6805\n",
      "Epoch 32/100\n",
      "241/241 [==============================] - 0s 510us/step - loss: 0.6235 - acc: 0.6680\n",
      "Epoch 33/100\n",
      "241/241 [==============================] - 0s 506us/step - loss: 0.6256 - acc: 0.6805\n",
      "Epoch 34/100\n",
      "241/241 [==============================] - 0s 585us/step - loss: 0.6296 - acc: 0.6556\n",
      "Epoch 35/100\n",
      "241/241 [==============================] - 0s 780us/step - loss: 0.6153 - acc: 0.6515\n",
      "Epoch 36/100\n",
      "241/241 [==============================] - 0s 618us/step - loss: 0.6126 - acc: 0.6846\n",
      "Epoch 37/100\n",
      "241/241 [==============================] - 0s 552us/step - loss: 0.6352 - acc: 0.6224\n",
      "Epoch 38/100\n",
      "241/241 [==============================] - 0s 510us/step - loss: 0.6252 - acc: 0.6598\n",
      "Epoch 39/100\n",
      "241/241 [==============================] - 0s 643us/step - loss: 0.6153 - acc: 0.6846\n",
      "Epoch 40/100\n",
      "241/241 [==============================] - 0s 734us/step - loss: 0.6038 - acc: 0.6805\n",
      "Epoch 41/100\n",
      "241/241 [==============================] - 0s 585us/step - loss: 0.6314 - acc: 0.6141\n",
      "Epoch 42/100\n",
      "241/241 [==============================] - 0s 502us/step - loss: 0.6306 - acc: 0.6639\n",
      "Epoch 43/100\n",
      "241/241 [==============================] - 0s 564us/step - loss: 0.6032 - acc: 0.6598\n",
      "Epoch 44/100\n",
      "241/241 [==============================] - 0s 701us/step - loss: 0.6288 - acc: 0.6266\n",
      "Epoch 45/100\n",
      "241/241 [==============================] - 0s 531us/step - loss: 0.6023 - acc: 0.6846\n",
      "Epoch 46/100\n",
      "241/241 [==============================] - 0s 543us/step - loss: 0.6408 - acc: 0.6390\n",
      "Epoch 47/100\n",
      "241/241 [==============================] - 0s 688us/step - loss: 0.6289 - acc: 0.6556\n",
      "Epoch 48/100\n",
      "241/241 [==============================] - 0s 485us/step - loss: 0.6367 - acc: 0.6390\n",
      "Epoch 49/100\n",
      "241/241 [==============================] - 0s 552us/step - loss: 0.6139 - acc: 0.7054\n",
      "Epoch 50/100\n",
      "241/241 [==============================] - 0s 502us/step - loss: 0.6252 - acc: 0.6929\n",
      "Epoch 51/100\n",
      "241/241 [==============================] - 0s 498us/step - loss: 0.6314 - acc: 0.6307\n",
      "Epoch 52/100\n",
      "241/241 [==============================] - 0s 493us/step - loss: 0.6119 - acc: 0.6722\n",
      "Epoch 53/100\n",
      "241/241 [==============================] - 0s 630us/step - loss: 0.6148 - acc: 0.6888\n",
      "Epoch 54/100\n",
      "241/241 [==============================] - 0s 614us/step - loss: 0.6010 - acc: 0.6639\n",
      "Epoch 55/100\n",
      "241/241 [==============================] - 0s 473us/step - loss: 0.6494 - acc: 0.6846\n",
      "Epoch 56/100\n",
      "241/241 [==============================] - 0s 485us/step - loss: 0.6243 - acc: 0.6515\n",
      "Epoch 57/100\n",
      "241/241 [==============================] - 0s 560us/step - loss: 0.6108 - acc: 0.6763\n",
      "Epoch 58/100\n",
      "241/241 [==============================] - 0s 502us/step - loss: 0.6354 - acc: 0.6763\n",
      "Epoch 59/100\n",
      "241/241 [==============================] - 0s 751us/step - loss: 0.6199 - acc: 0.6680\n",
      "Epoch 60/100\n",
      "241/241 [==============================] - 0s 668us/step - loss: 0.5996 - acc: 0.6680\n",
      "Epoch 61/100\n",
      "241/241 [==============================] - 0s 792us/step - loss: 0.6030 - acc: 0.6515\n",
      "Epoch 62/100\n",
      "241/241 [==============================] - 0s 523us/step - loss: 0.6349 - acc: 0.6473\n",
      "Epoch 63/100\n",
      "241/241 [==============================] - 0s 572us/step - loss: 0.6398 - acc: 0.6307\n",
      "Epoch 64/100\n",
      "241/241 [==============================] - 0s 498us/step - loss: 0.6176 - acc: 0.6473\n",
      "Epoch 65/100\n",
      "241/241 [==============================] - 0s 448us/step - loss: 0.6284 - acc: 0.6266\n",
      "Epoch 66/100\n",
      "241/241 [==============================] - 0s 506us/step - loss: 0.5950 - acc: 0.6598\n",
      "Epoch 67/100\n",
      "241/241 [==============================] - 0s 502us/step - loss: 0.6028 - acc: 0.6598\n",
      "Epoch 68/100\n",
      "241/241 [==============================] - 0s 543us/step - loss: 0.6354 - acc: 0.6266\n",
      "Epoch 69/100\n",
      "241/241 [==============================] - 0s 846us/step - loss: 0.6068 - acc: 0.6763\n",
      "Epoch 70/100\n",
      "241/241 [==============================] - 0s 502us/step - loss: 0.6101 - acc: 0.6846\n",
      "Epoch 71/100\n",
      "241/241 [==============================] - 0s 502us/step - loss: 0.6034 - acc: 0.7137\n",
      "Epoch 72/100\n",
      "241/241 [==============================] - 0s 817us/step - loss: 0.6246 - acc: 0.6680\n",
      "Epoch 73/100\n",
      "241/241 [==============================] - 0s 585us/step - loss: 0.5938 - acc: 0.6805\n",
      "Epoch 74/100\n",
      "241/241 [==============================] - 0s 552us/step - loss: 0.6227 - acc: 0.6432\n",
      "Epoch 75/100\n",
      "241/241 [==============================] - 0s 626us/step - loss: 0.5913 - acc: 0.6846\n",
      "Epoch 76/100\n",
      "241/241 [==============================] - 0s 610us/step - loss: 0.6222 - acc: 0.6473\n",
      "Epoch 77/100\n",
      "241/241 [==============================] - 0s 585us/step - loss: 0.6238 - acc: 0.6473\n",
      "Epoch 78/100\n",
      "241/241 [==============================] - 0s 630us/step - loss: 0.6062 - acc: 0.6639\n",
      "Epoch 79/100\n",
      "241/241 [==============================] - 0s 709us/step - loss: 0.6087 - acc: 0.6805\n",
      "Epoch 80/100\n",
      "241/241 [==============================] - 0s 850us/step - loss: 0.5971 - acc: 0.6639\n",
      "Epoch 81/100\n",
      "241/241 [==============================] - 0s 676us/step - loss: 0.6271 - acc: 0.6515\n",
      "Epoch 82/100\n",
      "241/241 [==============================] - 0s 593us/step - loss: 0.5961 - acc: 0.6888\n",
      "Epoch 83/100\n"
     ]
    },
    {
     "name": "stdout",
     "output_type": "stream",
     "text": [
      "241/241 [==============================] - 0s 693us/step - loss: 0.6108 - acc: 0.6722\n",
      "Epoch 84/100\n",
      "241/241 [==============================] - 0s 560us/step - loss: 0.6205 - acc: 0.6432\n",
      "Epoch 85/100\n",
      "241/241 [==============================] - 0s 630us/step - loss: 0.6211 - acc: 0.6639\n",
      "Epoch 86/100\n",
      "241/241 [==============================] - 0s 535us/step - loss: 0.5975 - acc: 0.6763\n",
      "Epoch 87/100\n",
      "241/241 [==============================] - 0s 560us/step - loss: 0.6111 - acc: 0.6763\n",
      "Epoch 88/100\n",
      "241/241 [==============================] - 0s 560us/step - loss: 0.5928 - acc: 0.6763\n",
      "Epoch 89/100\n",
      "241/241 [==============================] - 0s 643us/step - loss: 0.6075 - acc: 0.6680\n",
      "Epoch 90/100\n",
      "241/241 [==============================] - 0s 610us/step - loss: 0.6318 - acc: 0.6639\n",
      "Epoch 91/100\n",
      "241/241 [==============================] - 0s 626us/step - loss: 0.5899 - acc: 0.6846\n",
      "Epoch 92/100\n",
      "241/241 [==============================] - 0s 684us/step - loss: 0.6473 - acc: 0.6763\n",
      "Epoch 93/100\n",
      "241/241 [==============================] - 0s 518us/step - loss: 0.6361 - acc: 0.6058\n",
      "Epoch 94/100\n",
      "241/241 [==============================] - 0s 382us/step - loss: 0.6186 - acc: 0.6639\n",
      "Epoch 95/100\n",
      "241/241 [==============================] - 0s 382us/step - loss: 0.6121 - acc: 0.6805\n",
      "Epoch 96/100\n",
      "241/241 [==============================] - 0s 377us/step - loss: 0.6117 - acc: 0.7054\n",
      "Epoch 97/100\n",
      "241/241 [==============================] - 0s 377us/step - loss: 0.6167 - acc: 0.6432\n",
      "Epoch 98/100\n",
      "241/241 [==============================] - 0s 373us/step - loss: 0.6258 - acc: 0.6722\n",
      "Epoch 99/100\n",
      "241/241 [==============================] - 0s 377us/step - loss: 0.6255 - acc: 0.6349\n",
      "Epoch 100/100\n",
      "241/241 [==============================] - 0s 373us/step - loss: 0.6287 - acc: 0.6349\n"
     ]
    },
    {
     "data": {
      "text/plain": [
       "<keras.callbacks.History at 0x1fd9e9b4b00>"
      ]
     },
     "execution_count": 16,
     "metadata": {},
     "output_type": "execute_result"
    }
   ],
   "source": [
    "model.fit(X_train, y_train,\n",
    "          epochs=100,\n",
    "          batch_size=5)"
   ]
  },
  {
   "cell_type": "code",
   "execution_count": 17,
   "metadata": {},
   "outputs": [],
   "source": [
    "## On overfit de ouf ..."
   ]
  },
  {
   "cell_type": "code",
   "execution_count": 18,
   "metadata": {},
   "outputs": [
    {
     "name": "stdout",
     "output_type": "stream",
     "text": [
      "101/101 [==============================] - 0s 970us/step\n"
     ]
    }
   ],
   "source": [
    "score = model.evaluate(X_test, y_test, batch_size=50)"
   ]
  },
  {
   "cell_type": "code",
   "execution_count": 19,
   "metadata": {},
   "outputs": [
    {
     "data": {
      "text/plain": [
       "[0.6328238473080172, 0.6633663531577233]"
      ]
     },
     "execution_count": 19,
     "metadata": {},
     "output_type": "execute_result"
    }
   ],
   "source": [
    "score "
   ]
  },
  {
   "cell_type": "markdown",
   "metadata": {},
   "source": [
    "## Résultats "
   ]
  },
  {
   "cell_type": "code",
   "execution_count": 20,
   "metadata": {},
   "outputs": [],
   "source": [
    "from sklearn.metrics import confusion_matrix\n",
    "from sklearn import metrics"
   ]
  },
  {
   "cell_type": "code",
   "execution_count": 21,
   "metadata": {},
   "outputs": [],
   "source": [
    "#y_test_pred_cls=np.array(list(map(np.argmax,model.predict(X_test))))\n",
    "#y_test_cls=np.array(list(map(np.argmax,y_test)))\n",
    "y_test_pred_cls=(model.predict(X_test)>0.5)*1"
   ]
  },
  {
   "cell_type": "code",
   "execution_count": 22,
   "metadata": {},
   "outputs": [],
   "source": [
    "conf_matrix=confusion_matrix(y_test,y_test_pred_cls)"
   ]
  },
  {
   "cell_type": "code",
   "execution_count": 23,
   "metadata": {
    "scrolled": true
   },
   "outputs": [
    {
     "data": {
      "text/plain": [
       "array([[0.37623762, 0.20792079],\n",
       "       [0.12871287, 0.28712871]])"
      ]
     },
     "execution_count": 23,
     "metadata": {},
     "output_type": "execute_result"
    }
   ],
   "source": [
    "conf_matrix/(len(y_test))"
   ]
  },
  {
   "cell_type": "code",
   "execution_count": 24,
   "metadata": {},
   "outputs": [],
   "source": [
    "conf_matrix_proba=conf_matrix/(len(y_test))"
   ]
  },
  {
   "cell_type": "code",
   "execution_count": 25,
   "metadata": {
    "scrolled": true
   },
   "outputs": [
    {
     "name": "stdout",
     "output_type": "stream",
     "text": [
      "              precision    recall  f1-score   support\n",
      "\n",
      "           0       0.75      0.64      0.69        59\n",
      "           1       0.58      0.69      0.63        42\n",
      "\n",
      "   micro avg       0.66      0.66      0.66       101\n",
      "   macro avg       0.66      0.67      0.66       101\n",
      "weighted avg       0.68      0.66      0.67       101\n",
      "\n"
     ]
    }
   ],
   "source": [
    "print(metrics.classification_report(y_test,y_test_pred_cls))"
   ]
  },
  {
   "cell_type": "code",
   "execution_count": 26,
   "metadata": {},
   "outputs": [
    {
     "data": {
      "text/plain": [
       "<matplotlib.axes._subplots.AxesSubplot at 0x1fda43c8518>"
      ]
     },
     "execution_count": 26,
     "metadata": {},
     "output_type": "execute_result"
    },
    {
     "data": {
      "image/png": "[encoded data removed]",
      "text/plain": [
       "<Figure size 504x432 with 2 Axes>"
      ]
     },
     "metadata": {
      "needs_background": "light"
     },
     "output_type": "display_data"
    }
   ],
   "source": [
    "colormap = plt.cm.Reds\n",
    "plt.figure(figsize=(7,6))\n",
    "plt.title('Matrice de confusion', y=1.05, size=15)\n",
    "sns.heatmap(conf_matrix,linewidths=0.1, \n",
    "            square=True, cmap=colormap, linecolor='white', annot=True)"
   ]
  },
  {
   "cell_type": "code",
   "execution_count": 27,
   "metadata": {},
   "outputs": [
    {
     "data": {
      "text/plain": [
       "<matplotlib.axes._subplots.AxesSubplot at 0x1fda4e17b00>"
      ]
     },
     "execution_count": 27,
     "metadata": {},
     "output_type": "execute_result"
    },
    {
     "data": {
      "image/png": "[encoded data removed]",
      "text/plain": [
       "<Figure size 504x432 with 2 Axes>"
      ]
     },
     "metadata": {
      "needs_background": "light"
     },
     "output_type": "display_data"
    }
   ],
   "source": [
    "colormap = plt.cm.binary\n",
    "plt.figure(figsize=(7,6))\n",
    "plt.title('Matrice de confusion Proba', y=1.05, size=15)\n",
    "sns.heatmap(conf_matrix_proba,linewidths=0.1, \n",
    "            square=True, cmap=colormap, linecolor='white', annot=True)"
   ]
  },
  {
   "cell_type": "code",
   "execution_count": null,
   "metadata": {},
   "outputs": [],
   "source": []
  }
 ],
 "metadata": {
  "kernelspec": {
   "display_name": "Python 3",
   "language": "python",
   "name": "python3"
  },
  "language_info": {
   "codemirror_mode": {
    "name": "ipython",
    "version": 3
   },
   "file_extension": ".py",
   "mimetype": "text/x-python",
   "name": "python",
   "nbconvert_exporter": "python",
   "pygments_lexer": "ipython3",
   "version": "3.6.8"
  },
  "varInspector": {
   "cols": {
    "lenName": 16,
    "lenType": 16,
    "lenVar": 40
   },
   "kernels_config": {
    "python": {
     "delete_cmd_postfix": "",
     "delete_cmd_prefix": "del ",
     "library": "var_list.py",
     "varRefreshCmd": "print(var_dic_list())"
    },
    "r": {
     "delete_cmd_postfix": ") ",
     "delete_cmd_prefix": "rm(",
     "library": "var_list.r",
     "varRefreshCmd": "cat(var_dic_list()) "
    }
   },
   "types_to_exclude": [
    "module",
    "function",
    "builtin_function_or_method",
    "instance",
    "_Feature"
   ],
   "window_display": false
  }
 },
 "nbformat": 4,
 "nbformat_minor": 2
}
