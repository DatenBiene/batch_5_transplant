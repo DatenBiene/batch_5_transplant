{
 "cells": [
  {
   "cell_type": "code",
   "execution_count": 1,
   "metadata": {},
   "outputs": [],
   "source": [
    "import pandas as pd\n",
    "import numpy as np\n",
    "import seaborn as sns\n",
    "import matplotlib.pyplot as plt\n",
    "import datetime\n",
    "from datetime import timedelta\n",
    "%matplotlib inline\n",
    "\n",
    "from transplant.config import *\n",
    "from transplant.data.dataset import Dataset"
   ]
  },
  {
   "cell_type": "code",
   "execution_count": 2,
   "metadata": {},
   "outputs": [],
   "source": [
    "import random"
   ]
  },
  {
   "cell_type": "code",
   "execution_count": 3,
   "metadata": {},
   "outputs": [],
   "source": [
    "dataset = Dataset()"
   ]
  },
  {
   "cell_type": "code",
   "execution_count": 4,
   "metadata": {},
   "outputs": [],
   "source": [
    "df_static = pd.read_csv(PATH_STATIC_CLEAN)"
   ]
  },
  {
   "cell_type": "code",
   "execution_count": 5,
   "metadata": {},
   "outputs": [],
   "source": [
    "df_dynamic = pd.read_csv(PATH_DYNAMIC_CLEAN, parse_dates=['time'])\n",
    "df_dynamic = dataset._get_declampage_event(df_dynamic)\n",
    "df_dynamic = df_dynamic.groupby('id_patient').apply(dataset._truncate_datetime)"
   ]
  },
  {
   "cell_type": "code",
   "execution_count": 6,
   "metadata": {},
   "outputs": [
    {
     "data": {
      "text/plain": [
       "((410, 285), (188839, 41))"
      ]
     },
     "execution_count": 6,
     "metadata": {},
     "output_type": "execute_result"
    }
   ],
   "source": [
    "df_static.shape, df_dynamic.shape"
   ]
  },
  {
   "cell_type": "code",
   "execution_count": null,
   "metadata": {},
   "outputs": [],
   "source": [
    "#take id_test"
   ]
  },
  {
   "cell_type": "code",
   "execution_count": 9,
   "metadata": {},
   "outputs": [
    {
     "data": {
      "text/plain": [
       "array([  2,   6,  13,  14,  16,  21,  22,  25,  26,  29,  31,  34,  37,\n",
       "        44,  45,  51,  54,  57,  60,  62,  65,  66,  67,  70,  71,  73,\n",
       "        74,  75,  76,  78,  79,  81,  84,  89,  91,  95,  96,  98,  99,\n",
       "       101, 113, 120, 123, 128, 129, 138, 142, 144, 147, 148, 152, 158,\n",
       "       160, 166, 167, 168, 170, 174, 176, 177, 178, 181, 186, 189, 193,\n",
       "       195, 202, 208, 212, 214, 215, 218, 219, 228, 229, 231, 233, 237,\n",
       "       238, 239, 240, 241, 244, 246, 247, 249, 263, 268, 269, 272, 274,\n",
       "       275, 276, 282, 288, 289, 291, 294, 295, 302, 303, 307, 308, 309,\n",
       "       315, 318, 324, 325, 329, 330, 335, 336, 342, 345, 355, 358, 359,\n",
       "       361, 362, 364, 365, 366, 367, 371, 372, 379, 382, 383, 384, 385,\n",
       "       386, 390, 397, 399, 400, 407, 409])"
      ]
     },
     "execution_count": 9,
     "metadata": {},
     "output_type": "execute_result"
    }
   ],
   "source": [
    "ids_immediate = df_static.id_patient[df_static.immediate_extubation == 1].values\n",
    "ids_immediate"
   ]
  },
  {
   "cell_type": "code",
   "execution_count": 110,
   "metadata": {},
   "outputs": [
    {
     "name": "stdout",
     "output_type": "stream",
     "text": [
      "65\n"
     ]
    }
   ],
   "source": [
    "id_test = random.choice(ids_immediate)\n",
    "data_dyn = df_dynamic[df_dynamic.id_patient==id_test]\n",
    "data_stat = df_static[df_static.id_patient == id_test]\n",
    "print(id_test)"
   ]
  },
  {
   "cell_type": "markdown",
   "metadata": {},
   "source": [
    "## General functions"
   ]
  },
  {
   "cell_type": "code",
   "execution_count": 11,
   "metadata": {},
   "outputs": [],
   "source": [
    "def get_end_surgery_data_dynamic(df_dynamic, time=15, period=15) : \n",
    "    \"\"\"\n",
    "    Pour les données dynamiques, permet de regarder les constantes après le deuxième déclampage (env 15min après),\n",
    "    sur une periode de 10min\n",
    "    \"\"\"\n",
    "    date_1 = df_dynamic[df_dynamic.declampage_cote2_done==1].time.min() + timedelta(minutes=time)\n",
    "    date_2 = date_1 + timedelta(minutes=period)\n",
    "    return df_dynamic[(df_dynamic.time >= date_1)&(df_dynamic.time <= date_2)]"
   ]
  },
  {
   "cell_type": "code",
   "execution_count": 12,
   "metadata": {},
   "outputs": [
    {
     "data": {
      "text/plain": [
       "(16, 41)"
      ]
     },
     "execution_count": 12,
     "metadata": {},
     "output_type": "execute_result"
    }
   ],
   "source": [
    "data_dyn_end = get_end_surgery_data_dynamic(data_dyn)\n",
    "data_dyn_end.shape"
   ]
  },
  {
   "cell_type": "code",
   "execution_count": 29,
   "metadata": {},
   "outputs": [],
   "source": [
    "def is_nan(data, column, threshold=0.8):\n",
    "    \"\"\"\n",
    "    Fonction qui verifie si threshold% des données qu'on considère sont des nan\"\n",
    "    \"\"\"\n",
    "    if data[column].isnull().sum()/len(data[column]) > threshold:\n",
    "        return True\n",
    "    return False"
   ]
  },
  {
   "cell_type": "code",
   "execution_count": 13,
   "metadata": {},
   "outputs": [],
   "source": [
    "def time_offset_dynamic(df, time_offset=60):\n",
    "    \"\"\"\n",
    "    Function that truncate the dynamic dataset to take into account only the last minutes (time_offset) of the operation\n",
    "    \"\"\"\n",
    "    df['time']= pd.to_datetime(df['time'])\n",
    "    date_min = df['time'].max() - timedelta(minutes=time_offset)\n",
    "    return df[df['time'] >= date_min]"
   ]
  },
  {
   "cell_type": "code",
   "execution_count": 14,
   "metadata": {},
   "outputs": [],
   "source": [
    "def Sufficient_decline(declampage_2,fermeture, decline=1/3, epsilon = 0.001,regle_nan=True):\n",
    "    \"\"\"\n",
    "    Function that test if the decline of a value between the event 'declampage_cote_2' and 'fermeture' is sufficient\n",
    "    decline : fraction of the value at time 'declampage_2' \n",
    "            (ie \"on veut que la noredraline baisse d'au moins 1/3 de sa valeur\")\n",
    "    epsilon : \"nearly equal\"\n",
    "    \"\"\"\n",
    "    if np.isnan(fermeture) or np.isnan(declampage_2):\n",
    "        return regle_nan\n",
    "    if fermeture > declampage_2:\n",
    "        return False\n",
    "    delta = declampage_2 - fermeture\n",
    "    if delta > decline*declampage_2:\n",
    "        return True\n",
    "    return np.abs(delta - decline*declampage_2)<= epsilon"
   ]
  },
  {
   "cell_type": "markdown",
   "metadata": {},
   "source": [
    "## Test functions"
   ]
  },
  {
   "cell_type": "code",
   "execution_count": null,
   "metadata": {},
   "outputs": [],
   "source": []
  },
  {
   "cell_type": "code",
   "execution_count": 50,
   "metadata": {},
   "outputs": [],
   "source": [
    "def test_PASm_sup(data_dyn, obj=60, threshold=90, regle_nan=True):\n",
    "    \"\"\"\n",
    "    Test if threshold% of our value (PASm) is > objective /do not take into account PASm = 0\n",
    "    Return boolean\n",
    "    True : \"at the end of surgery, when PASm not equal 0, at least 90% of the values are > 60\"\n",
    "    \"\"\"\n",
    "    non_zeros = data_dyn['PASm'][data_dyn['PASm']>0].count() \n",
    "    nb_ok = data_dyn['PASm'][data_dyn['PASm']>obj].count()\n",
    "    \n",
    "    if is_nan(data=data_dyn, column='PASm', threshold=0.8) or non_zeros==0:\n",
    "        #ne peut pas être negatif ou nul -> sinon problème dans les mesures\n",
    "        return regle_nan\n",
    "    \n",
    "    return (nb_ok/non_zeros)*100>=threshold"
   ]
  },
  {
   "cell_type": "code",
   "execution_count": 31,
   "metadata": {},
   "outputs": [
    {
     "data": {
      "text/plain": [
       "id_patient       \n",
       "62          42035     66.0\n",
       "            42036     72.0\n",
       "            42037     79.0\n",
       "            42038    201.0\n",
       "            42039     73.0\n",
       "            42040    101.0\n",
       "            42041     89.0\n",
       "            42042     90.0\n",
       "            42043     85.0\n",
       "            42044     83.0\n",
       "            42045    254.0\n",
       "            42046     79.0\n",
       "            42047    113.0\n",
       "            42048     79.0\n",
       "            42049     77.0\n",
       "            42050     76.0\n",
       "Name: PASm, dtype: float64"
      ]
     },
     "execution_count": 31,
     "metadata": {},
     "output_type": "execute_result"
    }
   ],
   "source": [
    "data_dyn_end.PASm"
   ]
  },
  {
   "cell_type": "code",
   "execution_count": 51,
   "metadata": {},
   "outputs": [
    {
     "data": {
      "text/plain": [
       "True"
      ]
     },
     "execution_count": 51,
     "metadata": {},
     "output_type": "execute_result"
    }
   ],
   "source": [
    "test_PASm_sup(data_dyn_end)"
   ]
  },
  {
   "cell_type": "code",
   "execution_count": 33,
   "metadata": {},
   "outputs": [],
   "source": [
    "def test_noradrenaline(data_stat,nora_max=1.5, nora_min=1, regle_nan=True):\n",
    "    \"\"\"\n",
    "    Test if the noradrenaline is sufficiently low :\n",
    "        > 1.5mg/h --> ko\n",
    "        < 1mh/h --> ok\n",
    "        between : see if there is a sufficient decline\n",
    "    \"\"\"\n",
    "    \n",
    "    if is_nan(data=data_stat, column='NORAD_fermeture', threshold=0.8):\n",
    "        return regle_nan\n",
    "    elif data_stat['NORAD_fermeture'].values[0] >= nora_max:\n",
    "        return False\n",
    "    elif data_stat['NORAD_fermeture'].values[0] <= nora_min:\n",
    "        return True\n",
    "    else : \n",
    "        return Sufficient_decline(data_stat['NORAD_declampage_cote_2'].values[0],\n",
    "                                  data_stat['NORAD_fermeture'].values[0],\n",
    "                                  decline=1/3, epsilon = 0.001)"
   ]
  },
  {
   "cell_type": "code",
   "execution_count": 34,
   "metadata": {},
   "outputs": [
    {
     "data": {
      "text/plain": [
       "True"
      ]
     },
     "execution_count": 34,
     "metadata": {},
     "output_type": "execute_result"
    }
   ],
   "source": [
    "test_noradrenaline(data_stat)"
   ]
  },
  {
   "cell_type": "code",
   "execution_count": null,
   "metadata": {},
   "outputs": [],
   "source": []
  },
  {
   "cell_type": "code",
   "execution_count": 52,
   "metadata": {},
   "outputs": [],
   "source": [
    "def test_ratio_pao2_fio2(data_stat, data_dyn, obj, threshold=80, regle_nan=True):\n",
    "    \"\"\"\n",
    "    Verify if the ratio PaO2/FiO2 ratio is high enough\n",
    "    True : PaO2/FiO2 ratio > obj\n",
    "    \"\"\"\n",
    "    \n",
    "    ratios = data_stat['PaO2_fermeture'].values[0]/(data_dyn['FiO2']/100)\n",
    "    non_zeros = ratios[ratios>0].count()\n",
    "    nb_ok = ratios[ratios>obj].count()\n",
    "    \n",
    "    if ratios.isnull().sum()/len(ratios) > 0.8 or non_zeros==0:\n",
    "        return regle_nan\n",
    "    \n",
    "\n",
    "    return (nb_ok/non_zeros)*100>threshold"
   ]
  },
  {
   "cell_type": "code",
   "execution_count": 84,
   "metadata": {
    "scrolled": true
   },
   "outputs": [
    {
     "data": {
      "text/plain": [
       "id_patient       \n",
       "62          42035    245.588235\n",
       "            42036    298.214286\n",
       "            42037    321.153846\n",
       "            42038    327.450980\n",
       "            42039    334.000000\n",
       "            42040    334.000000\n",
       "            42041    334.000000\n",
       "            42042    334.000000\n",
       "            42043    334.000000\n",
       "            42044    334.000000\n",
       "            42045    334.000000\n",
       "            42046    340.816327\n",
       "            42047    340.816327\n",
       "            42048    340.816327\n",
       "            42049    340.816327\n",
       "            42050    340.816327\n",
       "Name: FiO2, dtype: float64"
      ]
     },
     "execution_count": 84,
     "metadata": {},
     "output_type": "execute_result"
    }
   ],
   "source": [
    "test = data_dyn_end['FiO2']/100\n",
    "data_stat['PaO2_fermeture'].values[0]/test"
   ]
  },
  {
   "cell_type": "code",
   "execution_count": 87,
   "metadata": {},
   "outputs": [
    {
     "name": "stdout",
     "output_type": "stream",
     "text": [
      "16\n",
      "14\n"
     ]
    }
   ],
   "source": [
    "ratios = data_stat['PaO2_fermeture'].values[0]/(data_dyn_end['FiO2']/100)\n",
    "non_zeros = ratios[ratios>0].count()\n",
    "print(non_zeros)\n",
    "nb_ok = ratios[ratios>300].count()\n",
    "print(nb_ok)"
   ]
  },
  {
   "cell_type": "code",
   "execution_count": 88,
   "metadata": {},
   "outputs": [
    {
     "data": {
      "text/plain": [
       "87.5"
      ]
     },
     "execution_count": 88,
     "metadata": {},
     "output_type": "execute_result"
    }
   ],
   "source": [
    "(nb_ok/non_zeros)*100"
   ]
  },
  {
   "cell_type": "code",
   "execution_count": 90,
   "metadata": {},
   "outputs": [
    {
     "data": {
      "text/plain": [
       "11.2"
      ]
     },
     "execution_count": 90,
     "metadata": {},
     "output_type": "execute_result"
    }
   ],
   "source": [
    "0.7*16"
   ]
  },
  {
   "cell_type": "code",
   "execution_count": 37,
   "metadata": {},
   "outputs": [
    {
     "data": {
      "text/plain": [
       "True"
      ]
     },
     "execution_count": 37,
     "metadata": {},
     "output_type": "execute_result"
    }
   ],
   "source": [
    "test_ratio_pao2_fio2(data_stat, data_dyn_end, threshold=90, obj=200, regle_nan=True)"
   ]
  },
  {
   "cell_type": "code",
   "execution_count": 42,
   "metadata": {},
   "outputs": [],
   "source": [
    "def test_PAP_diminution(data_dyn, paps_max=50, paps_min=30, regle_nan=True):\n",
    "    \"\"\"\n",
    "    True : If PAPS, PAPM, PAPD decrease \n",
    "    /!\\ : lot of nan for  PAPm -> take PAPs\n",
    "    if nan return False\n",
    "    \"\"\"\n",
    "    \n",
    "        \n",
    "    if is_nan(data=data_dyn, column='PAPsys', threshold=0.8):\n",
    "        return regle_nan\n",
    "    \n",
    "    #if the last measure are < papsmin\n",
    "    if (data_dyn.PAPsys.values[-5:]<=paps_min).all():\n",
    "        return True\n",
    "    elif(data_dyn.PAPsys.values[-5:]>=paps_max).all():\n",
    "        return False\n",
    "    else :\n",
    "        return Sufficient_decline(data_dyn.PAPsys.values[0],data_dyn.PAPsys.values[-1],decline=1/3, epsilon = 0.001)"
   ]
  },
  {
   "cell_type": "code",
   "execution_count": 43,
   "metadata": {},
   "outputs": [
    {
     "data": {
      "text/html": [
       "<div>\n",
       "<style scoped>\n",
       "    .dataframe tbody tr th:only-of-type {\n",
       "        vertical-align: middle;\n",
       "    }\n",
       "\n",
       "    .dataframe tbody tr th {\n",
       "        vertical-align: top;\n",
       "    }\n",
       "\n",
       "    .dataframe thead th {\n",
       "        text-align: right;\n",
       "    }\n",
       "</style>\n",
       "<table border=\"1\" class=\"dataframe\">\n",
       "  <thead>\n",
       "    <tr style=\"text-align: right;\">\n",
       "      <th></th>\n",
       "      <th></th>\n",
       "      <th>PAPmoy</th>\n",
       "      <th>PAPsys</th>\n",
       "      <th>PAPdia</th>\n",
       "    </tr>\n",
       "    <tr>\n",
       "      <th>id_patient</th>\n",
       "      <th></th>\n",
       "      <th></th>\n",
       "      <th></th>\n",
       "      <th></th>\n",
       "    </tr>\n",
       "  </thead>\n",
       "  <tbody>\n",
       "    <tr>\n",
       "      <th rowspan=\"16\" valign=\"top\">62</th>\n",
       "      <th>42035</th>\n",
       "      <td>27.0</td>\n",
       "      <td>33.0</td>\n",
       "      <td>22.0</td>\n",
       "    </tr>\n",
       "    <tr>\n",
       "      <th>42036</th>\n",
       "      <td>24.0</td>\n",
       "      <td>30.0</td>\n",
       "      <td>19.0</td>\n",
       "    </tr>\n",
       "    <tr>\n",
       "      <th>42037</th>\n",
       "      <td>23.0</td>\n",
       "      <td>29.0</td>\n",
       "      <td>19.0</td>\n",
       "    </tr>\n",
       "    <tr>\n",
       "      <th>42038</th>\n",
       "      <td>22.0</td>\n",
       "      <td>28.0</td>\n",
       "      <td>18.0</td>\n",
       "    </tr>\n",
       "    <tr>\n",
       "      <th>42039</th>\n",
       "      <td>24.0</td>\n",
       "      <td>30.0</td>\n",
       "      <td>19.0</td>\n",
       "    </tr>\n",
       "    <tr>\n",
       "      <th>42040</th>\n",
       "      <td>26.0</td>\n",
       "      <td>33.0</td>\n",
       "      <td>21.0</td>\n",
       "    </tr>\n",
       "    <tr>\n",
       "      <th>42041</th>\n",
       "      <td>27.0</td>\n",
       "      <td>34.0</td>\n",
       "      <td>21.0</td>\n",
       "    </tr>\n",
       "    <tr>\n",
       "      <th>42042</th>\n",
       "      <td>28.0</td>\n",
       "      <td>35.0</td>\n",
       "      <td>22.0</td>\n",
       "    </tr>\n",
       "    <tr>\n",
       "      <th>42043</th>\n",
       "      <td>27.0</td>\n",
       "      <td>33.0</td>\n",
       "      <td>20.0</td>\n",
       "    </tr>\n",
       "    <tr>\n",
       "      <th>42044</th>\n",
       "      <td>28.0</td>\n",
       "      <td>35.0</td>\n",
       "      <td>23.0</td>\n",
       "    </tr>\n",
       "    <tr>\n",
       "      <th>42045</th>\n",
       "      <td>24.0</td>\n",
       "      <td>31.0</td>\n",
       "      <td>19.0</td>\n",
       "    </tr>\n",
       "    <tr>\n",
       "      <th>42046</th>\n",
       "      <td>24.0</td>\n",
       "      <td>30.0</td>\n",
       "      <td>19.0</td>\n",
       "    </tr>\n",
       "    <tr>\n",
       "      <th>42047</th>\n",
       "      <td>24.0</td>\n",
       "      <td>30.0</td>\n",
       "      <td>19.0</td>\n",
       "    </tr>\n",
       "    <tr>\n",
       "      <th>42048</th>\n",
       "      <td>23.0</td>\n",
       "      <td>29.0</td>\n",
       "      <td>18.0</td>\n",
       "    </tr>\n",
       "    <tr>\n",
       "      <th>42049</th>\n",
       "      <td>23.0</td>\n",
       "      <td>29.0</td>\n",
       "      <td>18.0</td>\n",
       "    </tr>\n",
       "    <tr>\n",
       "      <th>42050</th>\n",
       "      <td>22.0</td>\n",
       "      <td>28.0</td>\n",
       "      <td>17.0</td>\n",
       "    </tr>\n",
       "  </tbody>\n",
       "</table>\n",
       "</div>"
      ],
      "text/plain": [
       "                  PAPmoy  PAPsys  PAPdia\n",
       "id_patient                              \n",
       "62         42035    27.0    33.0    22.0\n",
       "           42036    24.0    30.0    19.0\n",
       "           42037    23.0    29.0    19.0\n",
       "           42038    22.0    28.0    18.0\n",
       "           42039    24.0    30.0    19.0\n",
       "           42040    26.0    33.0    21.0\n",
       "           42041    27.0    34.0    21.0\n",
       "           42042    28.0    35.0    22.0\n",
       "           42043    27.0    33.0    20.0\n",
       "           42044    28.0    35.0    23.0\n",
       "           42045    24.0    31.0    19.0\n",
       "           42046    24.0    30.0    19.0\n",
       "           42047    24.0    30.0    19.0\n",
       "           42048    23.0    29.0    18.0\n",
       "           42049    23.0    29.0    18.0\n",
       "           42050    22.0    28.0    17.0"
      ]
     },
     "execution_count": 43,
     "metadata": {},
     "output_type": "execute_result"
    }
   ],
   "source": [
    "data_dyn_end[['PAPmoy','PAPsys','PAPdia']]"
   ]
  },
  {
   "cell_type": "code",
   "execution_count": 44,
   "metadata": {},
   "outputs": [
    {
     "data": {
      "text/plain": [
       "False"
      ]
     },
     "execution_count": 44,
     "metadata": {},
     "output_type": "execute_result"
    }
   ],
   "source": [
    "Sufficient_decline(data_dyn_end.PAPsys.values[0],data_dyn_end.PAPsys.values[-1],decline=1/3, epsilon = 0.001)"
   ]
  },
  {
   "cell_type": "code",
   "execution_count": 45,
   "metadata": {},
   "outputs": [
    {
     "data": {
      "text/plain": [
       "id_patient       \n",
       "62          42035    False\n",
       "            42036     True\n",
       "            42037     True\n",
       "            42038     True\n",
       "            42039     True\n",
       "            42040    False\n",
       "            42041    False\n",
       "            42042    False\n",
       "            42043    False\n",
       "            42044    False\n",
       "            42045    False\n",
       "            42046     True\n",
       "            42047     True\n",
       "            42048     True\n",
       "            42049     True\n",
       "            42050     True\n",
       "Name: PAPsys, dtype: bool"
      ]
     },
     "execution_count": 45,
     "metadata": {},
     "output_type": "execute_result"
    }
   ],
   "source": [
    "data_dyn_end.PAPsys <= 30"
   ]
  },
  {
   "cell_type": "code",
   "execution_count": 46,
   "metadata": {},
   "outputs": [
    {
     "data": {
      "text/plain": [
       "True"
      ]
     },
     "execution_count": 46,
     "metadata": {},
     "output_type": "execute_result"
    }
   ],
   "source": [
    "test_PAP_diminution(data_dyn_end, paps_max=50, paps_min=30, regle_nan=True)"
   ]
  },
  {
   "cell_type": "code",
   "execution_count": null,
   "metadata": {},
   "outputs": [],
   "source": []
  },
  {
   "cell_type": "code",
   "execution_count": null,
   "metadata": {},
   "outputs": [],
   "source": []
  },
  {
   "cell_type": "code",
   "execution_count": 47,
   "metadata": {},
   "outputs": [],
   "source": [
    "def test_augm_ratio_pao2_fio2(data_stat, data_dyn,threshold_augm=0, regle_nan=True):\n",
    "    \"\"\"\n",
    "    Test if ratio sufficiently high or sufficient evolution between the events 'declapage_cote_2' & 'fermeture'\n",
    "    \"\"\"\n",
    "    if test_ratio_pao2_fio2(data_stat, data_dyn, obj=300, threshold=90, regle_nan=regle_nan):\n",
    "        return True\n",
    "\n",
    "    ratio_end = data_stat['PaO2_fermeture'].values[0] / data_dyn['FiO2'].values[-1]\n",
    "    ratio_beg = data_stat['PaO2_declampage_cote_2'].values[0] / data_dyn['FiO2'].values[-1]\n",
    "    if pd.isna(ratio_end - ratio_beg):\n",
    "        return regle_nan\n",
    "    return ratio_end - ratio_beg > threshold_augm"
   ]
  },
  {
   "cell_type": "code",
   "execution_count": 48,
   "metadata": {},
   "outputs": [
    {
     "data": {
      "text/plain": [
       "True"
      ]
     },
     "execution_count": 48,
     "metadata": {},
     "output_type": "execute_result"
    }
   ],
   "source": [
    "test_augm_ratio_pao2_fio2(data_stat, data_dyn_end,threshold_augm=0, regle_nan=True)"
   ]
  },
  {
   "cell_type": "code",
   "execution_count": 49,
   "metadata": {},
   "outputs": [
    {
     "data": {
      "text/plain": [
       "id_patient       \n",
       "62          42035    245.588235\n",
       "            42036    298.214286\n",
       "            42037    321.153846\n",
       "            42038    327.450980\n",
       "            42039    334.000000\n",
       "            42040    334.000000\n",
       "            42041    334.000000\n",
       "            42042    334.000000\n",
       "            42043    334.000000\n",
       "            42044    334.000000\n",
       "            42045    334.000000\n",
       "            42046    340.816327\n",
       "            42047    340.816327\n",
       "            42048    340.816327\n",
       "            42049    340.816327\n",
       "            42050    340.816327\n",
       "Name: FiO2, dtype: float64"
      ]
     },
     "execution_count": 49,
     "metadata": {},
     "output_type": "execute_result"
    }
   ],
   "source": [
    "test = data_dyn_end['FiO2']/100\n",
    "data_stat['PaO2_fermeture'].values[0]/test"
   ]
  },
  {
   "cell_type": "code",
   "execution_count": 54,
   "metadata": {},
   "outputs": [],
   "source": [
    "def test_temperature_sup36(data_dyn,threshold=90,regle_nan=True):\n",
    "    \"\"\"\n",
    "    Test if threshold% of our value (Temp) is > 36° /do not take into account Temp = 0\n",
    "    Return boolean\n",
    "    \"\"\"\n",
    "    \n",
    "    non_zeros = data_dyn.Temp[data_dyn.Temp>0].count()\n",
    "    nb_ok = data_dyn['Temp'][data_dyn['Temp']>36].count()\n",
    "    \n",
    "    if is_nan(data=data_dyn, column='Temp', threshold=0.8) or non_zeros==0:\n",
    "        return regle_nan\n",
    "\n",
    "    return (nb_ok/non_zeros)*100>threshold"
   ]
  },
  {
   "cell_type": "code",
   "execution_count": 55,
   "metadata": {},
   "outputs": [
    {
     "data": {
      "text/plain": [
       "id_patient       \n",
       "62          42035    37.500000\n",
       "            42036    37.500000\n",
       "            42037    37.500000\n",
       "            42038    37.500000\n",
       "            42039    37.500000\n",
       "            42040    37.500000\n",
       "            42041    37.500000\n",
       "            42042    37.500000\n",
       "            42043    37.400002\n",
       "            42044    37.500000\n",
       "            42045    37.400002\n",
       "            42046    37.500000\n",
       "            42047    37.500000\n",
       "            42048    37.500000\n",
       "            42049    37.500000\n",
       "            42050    37.500000\n",
       "Name: Temp, dtype: float64"
      ]
     },
     "execution_count": 55,
     "metadata": {},
     "output_type": "execute_result"
    }
   ],
   "source": [
    "data_dyn_end.Temp"
   ]
  },
  {
   "cell_type": "code",
   "execution_count": 56,
   "metadata": {},
   "outputs": [
    {
     "data": {
      "text/plain": [
       "True"
      ]
     },
     "execution_count": 56,
     "metadata": {},
     "output_type": "execute_result"
    }
   ],
   "source": [
    "test_temperature_sup36(data_dyn_end,threshold=90,regle_nan=True)"
   ]
  },
  {
   "cell_type": "code",
   "execution_count": 68,
   "metadata": {},
   "outputs": [],
   "source": [
    "def test_NMT_sup(data_dyn, obj=50, threshold=90, regle_nan=True): #threshold ok ou trop severe ?\n",
    "    \"\"\"\n",
    "    Test if threshold% of our value (NMTratio) is > 50% /do not take into account Temp = 0\n",
    "    \"\"\"\n",
    "    if is_nan(data=data_dyn, column='NMTratio', threshold=0.8):\n",
    "        return regle_nan\n",
    "    \n",
    "    non_zeros = data_dyn['NMTratio'][data_dyn['NMTratio']>0].count()\n",
    "    nb_ok = data_dyn['NMTratio'][data_dyn['NMTratio']>=obj].count() \n",
    "    \n",
    "    if non_zeros==0:\n",
    "        return False\n",
    "    return (nb_ok/non_zeros)*100>=threshold"
   ]
  },
  {
   "cell_type": "code",
   "execution_count": 69,
   "metadata": {},
   "outputs": [
    {
     "data": {
      "text/plain": [
       "False"
      ]
     },
     "execution_count": 69,
     "metadata": {},
     "output_type": "execute_result"
    }
   ],
   "source": [
    "test_NMT_sup(data_dyn_end, obj=50, threshold=90, regle_nan=True)"
   ]
  },
  {
   "cell_type": "code",
   "execution_count": 63,
   "metadata": {},
   "outputs": [
    {
     "data": {
      "text/html": [
       "<div>\n",
       "<style scoped>\n",
       "    .dataframe tbody tr th:only-of-type {\n",
       "        vertical-align: middle;\n",
       "    }\n",
       "\n",
       "    .dataframe tbody tr th {\n",
       "        vertical-align: top;\n",
       "    }\n",
       "\n",
       "    .dataframe thead th {\n",
       "        text-align: right;\n",
       "    }\n",
       "</style>\n",
       "<table border=\"1\" class=\"dataframe\">\n",
       "  <thead>\n",
       "    <tr style=\"text-align: right;\">\n",
       "      <th></th>\n",
       "      <th></th>\n",
       "      <th>NMTratio</th>\n",
       "      <th>time</th>\n",
       "    </tr>\n",
       "    <tr>\n",
       "      <th>id_patient</th>\n",
       "      <th></th>\n",
       "      <th></th>\n",
       "      <th></th>\n",
       "    </tr>\n",
       "  </thead>\n",
       "  <tbody>\n",
       "    <tr>\n",
       "      <th rowspan=\"16\" valign=\"top\">62</th>\n",
       "      <th>42035</th>\n",
       "      <td>0.0</td>\n",
       "      <td>2013-01-26 21:03:00</td>\n",
       "    </tr>\n",
       "    <tr>\n",
       "      <th>42036</th>\n",
       "      <td>0.0</td>\n",
       "      <td>2013-01-26 21:04:00</td>\n",
       "    </tr>\n",
       "    <tr>\n",
       "      <th>42037</th>\n",
       "      <td>0.0</td>\n",
       "      <td>2013-01-26 21:05:00</td>\n",
       "    </tr>\n",
       "    <tr>\n",
       "      <th>42038</th>\n",
       "      <td>0.0</td>\n",
       "      <td>2013-01-26 21:06:00</td>\n",
       "    </tr>\n",
       "    <tr>\n",
       "      <th>42039</th>\n",
       "      <td>0.0</td>\n",
       "      <td>2013-01-26 21:07:00</td>\n",
       "    </tr>\n",
       "    <tr>\n",
       "      <th>42040</th>\n",
       "      <td>0.0</td>\n",
       "      <td>2013-01-26 21:08:00</td>\n",
       "    </tr>\n",
       "    <tr>\n",
       "      <th>42041</th>\n",
       "      <td>0.0</td>\n",
       "      <td>2013-01-26 21:09:00</td>\n",
       "    </tr>\n",
       "    <tr>\n",
       "      <th>42042</th>\n",
       "      <td>0.0</td>\n",
       "      <td>2013-01-26 21:10:00</td>\n",
       "    </tr>\n",
       "    <tr>\n",
       "      <th>42043</th>\n",
       "      <td>0.0</td>\n",
       "      <td>2013-01-26 21:11:00</td>\n",
       "    </tr>\n",
       "    <tr>\n",
       "      <th>42044</th>\n",
       "      <td>0.0</td>\n",
       "      <td>2013-01-26 21:12:00</td>\n",
       "    </tr>\n",
       "    <tr>\n",
       "      <th>42045</th>\n",
       "      <td>0.0</td>\n",
       "      <td>2013-01-26 21:13:00</td>\n",
       "    </tr>\n",
       "    <tr>\n",
       "      <th>42046</th>\n",
       "      <td>0.0</td>\n",
       "      <td>2013-01-26 21:14:00</td>\n",
       "    </tr>\n",
       "    <tr>\n",
       "      <th>42047</th>\n",
       "      <td>0.0</td>\n",
       "      <td>2013-01-26 21:15:00</td>\n",
       "    </tr>\n",
       "    <tr>\n",
       "      <th>42048</th>\n",
       "      <td>0.0</td>\n",
       "      <td>2013-01-26 21:16:00</td>\n",
       "    </tr>\n",
       "    <tr>\n",
       "      <th>42049</th>\n",
       "      <td>0.0</td>\n",
       "      <td>2013-01-26 21:17:00</td>\n",
       "    </tr>\n",
       "    <tr>\n",
       "      <th>42050</th>\n",
       "      <td>0.0</td>\n",
       "      <td>2013-01-26 21:18:00</td>\n",
       "    </tr>\n",
       "  </tbody>\n",
       "</table>\n",
       "</div>"
      ],
      "text/plain": [
       "                  NMTratio                time\n",
       "id_patient                                    \n",
       "62         42035       0.0 2013-01-26 21:03:00\n",
       "           42036       0.0 2013-01-26 21:04:00\n",
       "           42037       0.0 2013-01-26 21:05:00\n",
       "           42038       0.0 2013-01-26 21:06:00\n",
       "           42039       0.0 2013-01-26 21:07:00\n",
       "           42040       0.0 2013-01-26 21:08:00\n",
       "           42041       0.0 2013-01-26 21:09:00\n",
       "           42042       0.0 2013-01-26 21:10:00\n",
       "           42043       0.0 2013-01-26 21:11:00\n",
       "           42044       0.0 2013-01-26 21:12:00\n",
       "           42045       0.0 2013-01-26 21:13:00\n",
       "           42046       0.0 2013-01-26 21:14:00\n",
       "           42047       0.0 2013-01-26 21:15:00\n",
       "           42048       0.0 2013-01-26 21:16:00\n",
       "           42049       0.0 2013-01-26 21:17:00\n",
       "           42050       0.0 2013-01-26 21:18:00"
      ]
     },
     "execution_count": 63,
     "metadata": {},
     "output_type": "execute_result"
    }
   ],
   "source": [
    "data_dyn_end.loc[:,['NMTratio','time']]"
   ]
  },
  {
   "cell_type": "code",
   "execution_count": 62,
   "metadata": {},
   "outputs": [
    {
     "data": {
      "text/html": [
       "<div>\n",
       "<style scoped>\n",
       "    .dataframe tbody tr th:only-of-type {\n",
       "        vertical-align: middle;\n",
       "    }\n",
       "\n",
       "    .dataframe tbody tr th {\n",
       "        vertical-align: top;\n",
       "    }\n",
       "\n",
       "    .dataframe thead th {\n",
       "        text-align: right;\n",
       "    }\n",
       "</style>\n",
       "<table border=\"1\" class=\"dataframe\">\n",
       "  <thead>\n",
       "    <tr style=\"text-align: right;\">\n",
       "      <th></th>\n",
       "      <th></th>\n",
       "      <th>NMTratio</th>\n",
       "      <th>time</th>\n",
       "    </tr>\n",
       "    <tr>\n",
       "      <th>id_patient</th>\n",
       "      <th></th>\n",
       "      <th></th>\n",
       "      <th></th>\n",
       "    </tr>\n",
       "  </thead>\n",
       "  <tbody>\n",
       "    <tr>\n",
       "      <th rowspan=\"29\" valign=\"top\">62</th>\n",
       "      <th>41862</th>\n",
       "      <td>95.699997</td>\n",
       "      <td>2013-01-26 18:10:00</td>\n",
       "    </tr>\n",
       "    <tr>\n",
       "      <th>41884</th>\n",
       "      <td>102.699997</td>\n",
       "      <td>2013-01-26 18:32:00</td>\n",
       "    </tr>\n",
       "    <tr>\n",
       "      <th>42052</th>\n",
       "      <td>4.800000</td>\n",
       "      <td>2013-01-26 21:20:00</td>\n",
       "    </tr>\n",
       "    <tr>\n",
       "      <th>42053</th>\n",
       "      <td>1.500000</td>\n",
       "      <td>2013-01-26 21:21:00</td>\n",
       "    </tr>\n",
       "    <tr>\n",
       "      <th>42054</th>\n",
       "      <td>2.400000</td>\n",
       "      <td>2013-01-26 21:22:00</td>\n",
       "    </tr>\n",
       "    <tr>\n",
       "      <th>42055</th>\n",
       "      <td>0.800000</td>\n",
       "      <td>2013-01-26 21:23:00</td>\n",
       "    </tr>\n",
       "    <tr>\n",
       "      <th>42056</th>\n",
       "      <td>3.200000</td>\n",
       "      <td>2013-01-26 21:24:00</td>\n",
       "    </tr>\n",
       "    <tr>\n",
       "      <th>42057</th>\n",
       "      <td>4.300000</td>\n",
       "      <td>2013-01-26 21:25:00</td>\n",
       "    </tr>\n",
       "    <tr>\n",
       "      <th>42058</th>\n",
       "      <td>8.100000</td>\n",
       "      <td>2013-01-26 21:26:00</td>\n",
       "    </tr>\n",
       "    <tr>\n",
       "      <th>42059</th>\n",
       "      <td>11.500000</td>\n",
       "      <td>2013-01-26 21:27:00</td>\n",
       "    </tr>\n",
       "    <tr>\n",
       "      <th>42060</th>\n",
       "      <td>10.300000</td>\n",
       "      <td>2013-01-26 21:28:00</td>\n",
       "    </tr>\n",
       "    <tr>\n",
       "      <th>42061</th>\n",
       "      <td>13.200000</td>\n",
       "      <td>2013-01-26 21:29:00</td>\n",
       "    </tr>\n",
       "    <tr>\n",
       "      <th>42062</th>\n",
       "      <td>15.100000</td>\n",
       "      <td>2013-01-26 21:30:00</td>\n",
       "    </tr>\n",
       "    <tr>\n",
       "      <th>42063</th>\n",
       "      <td>21.100000</td>\n",
       "      <td>2013-01-26 21:31:00</td>\n",
       "    </tr>\n",
       "    <tr>\n",
       "      <th>42064</th>\n",
       "      <td>17.500000</td>\n",
       "      <td>2013-01-26 21:32:00</td>\n",
       "    </tr>\n",
       "    <tr>\n",
       "      <th>42065</th>\n",
       "      <td>18.200001</td>\n",
       "      <td>2013-01-26 21:33:00</td>\n",
       "    </tr>\n",
       "    <tr>\n",
       "      <th>42066</th>\n",
       "      <td>19.900000</td>\n",
       "      <td>2013-01-26 21:34:00</td>\n",
       "    </tr>\n",
       "    <tr>\n",
       "      <th>42067</th>\n",
       "      <td>17.700001</td>\n",
       "      <td>2013-01-26 21:35:00</td>\n",
       "    </tr>\n",
       "    <tr>\n",
       "      <th>42068</th>\n",
       "      <td>19.100000</td>\n",
       "      <td>2013-01-26 21:36:00</td>\n",
       "    </tr>\n",
       "    <tr>\n",
       "      <th>42069</th>\n",
       "      <td>19.100000</td>\n",
       "      <td>2013-01-26 21:37:00</td>\n",
       "    </tr>\n",
       "    <tr>\n",
       "      <th>42070</th>\n",
       "      <td>22.900000</td>\n",
       "      <td>2013-01-26 21:38:00</td>\n",
       "    </tr>\n",
       "    <tr>\n",
       "      <th>42071</th>\n",
       "      <td>27.400000</td>\n",
       "      <td>2013-01-26 21:39:00</td>\n",
       "    </tr>\n",
       "    <tr>\n",
       "      <th>42072</th>\n",
       "      <td>16.400000</td>\n",
       "      <td>2013-01-26 21:40:00</td>\n",
       "    </tr>\n",
       "    <tr>\n",
       "      <th>42073</th>\n",
       "      <td>28.600000</td>\n",
       "      <td>2013-01-26 21:41:00</td>\n",
       "    </tr>\n",
       "    <tr>\n",
       "      <th>42074</th>\n",
       "      <td>34.099998</td>\n",
       "      <td>2013-01-26 21:42:00</td>\n",
       "    </tr>\n",
       "    <tr>\n",
       "      <th>42075</th>\n",
       "      <td>36.099998</td>\n",
       "      <td>2013-01-26 21:43:00</td>\n",
       "    </tr>\n",
       "    <tr>\n",
       "      <th>42076</th>\n",
       "      <td>39.099998</td>\n",
       "      <td>2013-01-26 21:44:00</td>\n",
       "    </tr>\n",
       "    <tr>\n",
       "      <th>42077</th>\n",
       "      <td>43.099998</td>\n",
       "      <td>2013-01-26 21:45:00</td>\n",
       "    </tr>\n",
       "    <tr>\n",
       "      <th>42078</th>\n",
       "      <td>62.200001</td>\n",
       "      <td>2013-01-26 21:46:00</td>\n",
       "    </tr>\n",
       "  </tbody>\n",
       "</table>\n",
       "</div>"
      ],
      "text/plain": [
       "                    NMTratio                time\n",
       "id_patient                                      \n",
       "62         41862   95.699997 2013-01-26 18:10:00\n",
       "           41884  102.699997 2013-01-26 18:32:00\n",
       "           42052    4.800000 2013-01-26 21:20:00\n",
       "           42053    1.500000 2013-01-26 21:21:00\n",
       "           42054    2.400000 2013-01-26 21:22:00\n",
       "           42055    0.800000 2013-01-26 21:23:00\n",
       "           42056    3.200000 2013-01-26 21:24:00\n",
       "           42057    4.300000 2013-01-26 21:25:00\n",
       "           42058    8.100000 2013-01-26 21:26:00\n",
       "           42059   11.500000 2013-01-26 21:27:00\n",
       "           42060   10.300000 2013-01-26 21:28:00\n",
       "           42061   13.200000 2013-01-26 21:29:00\n",
       "           42062   15.100000 2013-01-26 21:30:00\n",
       "           42063   21.100000 2013-01-26 21:31:00\n",
       "           42064   17.500000 2013-01-26 21:32:00\n",
       "           42065   18.200001 2013-01-26 21:33:00\n",
       "           42066   19.900000 2013-01-26 21:34:00\n",
       "           42067   17.700001 2013-01-26 21:35:00\n",
       "           42068   19.100000 2013-01-26 21:36:00\n",
       "           42069   19.100000 2013-01-26 21:37:00\n",
       "           42070   22.900000 2013-01-26 21:38:00\n",
       "           42071   27.400000 2013-01-26 21:39:00\n",
       "           42072   16.400000 2013-01-26 21:40:00\n",
       "           42073   28.600000 2013-01-26 21:41:00\n",
       "           42074   34.099998 2013-01-26 21:42:00\n",
       "           42075   36.099998 2013-01-26 21:43:00\n",
       "           42076   39.099998 2013-01-26 21:44:00\n",
       "           42077   43.099998 2013-01-26 21:45:00\n",
       "           42078   62.200001 2013-01-26 21:46:00"
      ]
     },
     "execution_count": 62,
     "metadata": {},
     "output_type": "execute_result"
    }
   ],
   "source": [
    "data_dyn[['NMTratio','time']][data_dyn['NMTratio']>0]"
   ]
  },
  {
   "cell_type": "code",
   "execution_count": 66,
   "metadata": {},
   "outputs": [
    {
     "data": {
      "text/plain": [
       "Index(['id_patient', 'time', 'B.I.S', 'BIS SR', 'DC', 'ET Des.', 'ET Sevo.',\n",
       "       'ETCO2', 'ETCO2 (mmHg)', 'ETO2', 'FC', 'FICO2', 'FICO2 (mmHg)', 'FIN2O',\n",
       "       'FR', 'FR(ecg)', 'FiO2', 'MAC', 'NMT TOF', 'NMTratio', 'PAPdia',\n",
       "       'PAPmoy', 'PAPsys', 'PASd', 'PASm', 'PASs', 'PEEPtotal', 'PNId', 'PNIm',\n",
       "       'PNIs', 'PODmoy', 'Pmax', 'Pmean', 'Pplat', 'RR(co2)', 'SpO2',\n",
       "       'SvO2 (m)', 'Temp', 'VT', 'declampage_cote1_done',\n",
       "       'declampage_cote2_done'],\n",
       "      dtype='object')"
      ]
     },
     "execution_count": 66,
     "metadata": {},
     "output_type": "execute_result"
    }
   ],
   "source": [
    "data_dyn_end.columns"
   ]
  },
  {
   "cell_type": "code",
   "execution_count": 67,
   "metadata": {},
   "outputs": [
    {
     "data": {
      "text/plain": [
       "id_patient       \n",
       "62          42035    0\n",
       "            42036    1\n",
       "            42037    1\n",
       "            42038    1\n",
       "            42039    1\n",
       "            42040    1\n",
       "            42041    1\n",
       "            42042    1\n",
       "            42043    0\n",
       "            42044    2\n",
       "            42045    2\n",
       "            42046    2\n",
       "            42047    2\n",
       "            42048    3\n",
       "            42049    2\n",
       "            42050    2\n",
       "Name: NMT TOF, dtype: int64"
      ]
     },
     "execution_count": 67,
     "metadata": {},
     "output_type": "execute_result"
    }
   ],
   "source": [
    "data_dyn_end['NMT TOF']"
   ]
  },
  {
   "cell_type": "markdown",
   "metadata": {},
   "source": [
    "## Split functions"
   ]
  },
  {
   "cell_type": "code",
   "execution_count": 77,
   "metadata": {},
   "outputs": [],
   "source": [
    "def split_ECMO_during_surgery(data_stat):\n",
    "    \"\"\"\n",
    "    Return boolean \n",
    "    True : presence of ECMO during surgery\n",
    "    False : absence of ECMO during surgery\n",
    "    \"\"\"\n",
    "    if data_stat['ECMO_during_surgery'].values[0]==1:\n",
    "        return \"Node ECMO weaning Test\"\n",
    "    return \"Node ratio-100 test\""
   ]
  },
  {
   "cell_type": "code",
   "execution_count": 78,
   "metadata": {},
   "outputs": [
    {
     "data": {
      "text/plain": [
       "'Node ratio-100 test'"
      ]
     },
     "execution_count": 78,
     "metadata": {},
     "output_type": "execute_result"
    }
   ],
   "source": [
    "split_ECMO_during_surgery(data_stat)"
   ]
  },
  {
   "cell_type": "code",
   "execution_count": 72,
   "metadata": {},
   "outputs": [],
   "source": [
    "def split_ECMO_weaning_test(data_stat, data_dyn,regle_nan=True):\n",
    "    \"\"\"\n",
    "    Return boolean \n",
    "    \"\"\"\n",
    "    sum_True = int(test_PASm_sup(data_dyn, obj=60, threshold=90, regle_nan=regle_nan)) + \\\n",
    "               int(test_noradrenaline(data_stat, nora_max=1.5, nora_min=1, regle_nan=regle_nan)) + \\\n",
    "               int(test_ratio_pao2_fio2(data_stat, data_dyn, obj=200,threshold=90, regle_nan=regle_nan)) + \\\n",
    "               int(test_PAP_diminution(data_dyn, paps_max=50, paps_min=30,regle_nan=regle_nan))\n",
    "    if sum_True == 4:\n",
    "        return \"Node INO weaning Test\"\n",
    "    return \"Transfer to ICU with ECMO and mechanical ventilation\""
   ]
  },
  {
   "cell_type": "code",
   "execution_count": 73,
   "metadata": {},
   "outputs": [],
   "source": [
    "def split_ratio_100(data_stat, data_dyn,regle_nan=True):\n",
    "    if test_ratio_pao2_fio2(data_stat, data_dyn, obj=100,threshold=90, regle_nan=True) :\n",
    "        return \"Node INO weaning Test\"\n",
    "    return \"Transfer to ICU with ECMO and mechanical ventilation\""
   ]
  },
  {
   "cell_type": "code",
   "execution_count": 79,
   "metadata": {},
   "outputs": [
    {
     "data": {
      "text/plain": [
       "'Node INO weaning Test'"
      ]
     },
     "execution_count": 79,
     "metadata": {},
     "output_type": "execute_result"
    }
   ],
   "source": [
    "split_ratio_100(data_stat, data_dyn=data_dyn_end,regle_nan=True)"
   ]
  },
  {
   "cell_type": "code",
   "execution_count": 74,
   "metadata": {},
   "outputs": [],
   "source": [
    "def split_INO_weaning_test(data_stat, data_dyn,regle_nan=True):\n",
    "    \"\"\"\n",
    "    Return boolean \n",
    "    \"\"\"\n",
    "    sum_True = int(test_augm_ratio_pao2_fio2(data_stat, data_dyn,threshold_augm=0, regle_nan=regle_nan)) + \\\n",
    "               int(test_PAP_diminution(data_dyn, paps_max=50, paps_min=30, regle_nan=regle_nan))\n",
    "    if sum_True == 2:\n",
    "        return \"Node ratio-300 test\"\n",
    "    return \"Transfer to ICU with mechanical ventilation and iNO therapy\""
   ]
  },
  {
   "cell_type": "code",
   "execution_count": 80,
   "metadata": {},
   "outputs": [
    {
     "data": {
      "text/plain": [
       "'Node ratio-300 test'"
      ]
     },
     "execution_count": 80,
     "metadata": {},
     "output_type": "execute_result"
    }
   ],
   "source": [
    "split_INO_weaning_test(data_stat, data_dyn=data_dyn_end,regle_nan=True)"
   ]
  },
  {
   "cell_type": "code",
   "execution_count": 91,
   "metadata": {},
   "outputs": [],
   "source": [
    "def split_ratio_300(data_stat, data_dyn,regle_nan=True):\n",
    "    if test_ratio_pao2_fio2(data_stat, data_dyn, obj=300, threshold=80, regle_nan=regle_nan) :\n",
    "        return \"Node NIV attempt\"\n",
    "    return \"Transfer to ICU with mechanical ventilation\""
   ]
  },
  {
   "cell_type": "code",
   "execution_count": 92,
   "metadata": {},
   "outputs": [
    {
     "data": {
      "text/plain": [
       "'Node NIV attempt'"
      ]
     },
     "execution_count": 92,
     "metadata": {},
     "output_type": "execute_result"
    }
   ],
   "source": [
    "split_ratio_300(data_stat, data_dyn=data_dyn_end,regle_nan=True)"
   ]
  },
  {
   "cell_type": "code",
   "execution_count": null,
   "metadata": {},
   "outputs": [],
   "source": []
  },
  {
   "cell_type": "code",
   "execution_count": 125,
   "metadata": {},
   "outputs": [],
   "source": [
    "def split_NIV_attempt(data_stat, data_dyn,data_dyn_tot, regle_nan=True, drop_NMT=True):\n",
    "    \"\"\"\n",
    "    Return boolean \n",
    "    \"\"\"\n",
    "    sum_True = int(test_temperature_sup36(data_dyn,threshold=90, regle_nan=regle_nan)) + \\\n",
    "               int(test_PASm_sup(data_dyn, obj=60, threshold=90, regle_nan=regle_nan)) + \\\n",
    "               int(test_noradrenaline(data_stat, nora_max=1.5, nora_min=1,regle_nan=regle_nan)) + \\\n",
    "               int(test_ratio_pao2_fio2(data_stat, data_dyn, obj=300, threshold=80, regle_nan=regle_nan))\n",
    "    if drop_NMT:\n",
    "        sum_goal=4\n",
    "    else:\n",
    "        sum_True=sum_True+int(test_NMT_sup(data_dyn_tot,obj=50, threshold=80, regle_nan=regle_nan))\n",
    "        sum_goal = 5\n",
    "        \n",
    "    if sum_True == sum_goal:\n",
    "        return  \"Transfer to ICU with standard oxygen therapy or NIV\"\n",
    "    return \"Transfer to ICU with mechanical ventilation\""
   ]
  },
  {
   "cell_type": "code",
   "execution_count": 99,
   "metadata": {},
   "outputs": [
    {
     "data": {
      "text/plain": [
       "'Transfer to ICU with mechanical ventilation'"
      ]
     },
     "execution_count": 99,
     "metadata": {},
     "output_type": "execute_result"
    }
   ],
   "source": [
    "split_NIV_attempt(data_stat, data_dyn_end, regle_nan=True)"
   ]
  },
  {
   "cell_type": "code",
   "execution_count": 101,
   "metadata": {},
   "outputs": [
    {
     "name": "stdout",
     "output_type": "stream",
     "text": [
      "Temperature : True\n",
      "NMT : False\n",
      "PASm : True\n",
      "noradrenaline : True\n",
      "ratio : True\n"
     ]
    }
   ],
   "source": [
    "print(\"Temperature :\", test_temperature_sup36(data_dyn_end,threshold=90, regle_nan=True))\n",
    "print(\"NMT :\",test_NMT_sup(data_dyn_end, obj=50, threshold=0, regle_nan=True))\n",
    "print(\"PASm :\", test_PASm_sup(data_dyn_end, obj=60, threshold=90, regle_nan=True))\n",
    "print(\"noradrenaline :\",test_noradrenaline(data_stat, nora_max=1.5, nora_min=1,regle_nan=True))\n",
    "print(\"ratio :\",test_ratio_pao2_fio2(data_stat, data_dyn_end, obj=300, threshold=80, regle_nan=True))"
   ]
  },
  {
   "cell_type": "code",
   "execution_count": 103,
   "metadata": {},
   "outputs": [
    {
     "data": {
      "text/plain": [
       "137"
      ]
     },
     "execution_count": 103,
     "metadata": {},
     "output_type": "execute_result"
    }
   ],
   "source": [
    "len(ids_immediate)"
   ]
  },
  {
   "cell_type": "code",
   "execution_count": 119,
   "metadata": {},
   "outputs": [
    {
     "data": {
      "text/plain": [
       "Index(['id_patient', 'time', 'B.I.S', 'BIS SR', 'DC', 'ET Des.', 'ET Sevo.',\n",
       "       'ETCO2', 'ETCO2 (mmHg)', 'ETO2', 'FC', 'FICO2', 'FICO2 (mmHg)', 'FIN2O',\n",
       "       'FR', 'FR(ecg)', 'FiO2', 'MAC', 'NMT TOF', 'NMTratio', 'PAPdia',\n",
       "       'PAPmoy', 'PAPsys', 'PASd', 'PASm', 'PASs', 'PEEPtotal', 'PNId', 'PNIm',\n",
       "       'PNIs', 'PODmoy', 'Pmax', 'Pmean', 'Pplat', 'RR(co2)', 'SpO2',\n",
       "       'SvO2 (m)', 'Temp', 'VT', 'declampage_cote1_done',\n",
       "       'declampage_cote2_done'],\n",
       "      dtype='object')"
      ]
     },
     "execution_count": 119,
     "metadata": {},
     "output_type": "execute_result"
    }
   ],
   "source": [
    "df_dynamic.columns"
   ]
  },
  {
   "cell_type": "code",
   "execution_count": 121,
   "metadata": {},
   "outputs": [
    {
     "name": "stderr",
     "output_type": "stream",
     "text": [
      "/home/karine/anaconda2/envs/py36/lib/python3.6/site-packages/ipykernel_launcher.py:5: RuntimeWarning: invalid value encountered in long_scalars\n",
      "  \"\"\"\n"
     ]
    }
   ],
   "source": [
    "result_NMT_end = []\n",
    "result_NMT = []\n",
    "result_Temperature = []\n",
    "for ids in ids_immediate:\n",
    "    data_dyn = df_dynamic[(df_dynamic.id_patient==ids)&(df_dynamic.declampage_cote2_done==1)]\n",
    "    data_stat = df_static[df_static.id_patient == ids]\n",
    "    data_dyn_end = get_end_surgery_data_dynamic(data_dyn)\n",
    "    \n",
    "    result_NMT_end.append(test_NMT_sup(data_dyn_end, obj=50, threshold=80, regle_nan=True))\n",
    "    result_NMT.append(test_NMT_sup(data_dyn, obj=50, threshold=80, regle_nan=True))\n",
    "    result_Temperature.append(test_temperature_sup36(data_dyn_end,threshold=90, regle_nan=True))"
   ]
  },
  {
   "cell_type": "code",
   "execution_count": 122,
   "metadata": {},
   "outputs": [
    {
     "name": "stdout",
     "output_type": "stream",
     "text": [
      "11\n"
     ]
    },
    {
     "data": {
      "text/plain": [
       "array([False, False,  True, False, False, False, False, False, False,\n",
       "       False, False, False, False, False, False, False, False, False,\n",
       "       False, False, False, False, False, False, False, False, False,\n",
       "       False, False, False,  True, False, False, False,  True,  True,\n",
       "       False, False, False, False, False, False,  True, False, False,\n",
       "        True, False, False, False, False, False, False, False, False,\n",
       "       False, False,  True,  True, False, False, False, False, False,\n",
       "       False, False, False, False,  True, False, False, False, False,\n",
       "       False, False, False, False, False, False, False, False, False,\n",
       "       False, False, False, False,  True, False, False, False, False,\n",
       "       False, False, False, False, False, False, False, False, False,\n",
       "       False, False, False, False, False, False, False, False, False,\n",
       "       False, False, False, False, False, False, False, False, False,\n",
       "       False, False, False, False, False, False, False, False, False,\n",
       "       False, False, False, False, False, False, False, False,  True,\n",
       "       False, False])"
      ]
     },
     "execution_count": 122,
     "metadata": {},
     "output_type": "execute_result"
    }
   ],
   "source": [
    "print(np.asarray(result_NMT_end).sum())\n",
    "np.asarray(result_NMT_end)"
   ]
  },
  {
   "cell_type": "code",
   "execution_count": 123,
   "metadata": {},
   "outputs": [
    {
     "name": "stdout",
     "output_type": "stream",
     "text": [
      "17\n"
     ]
    },
    {
     "data": {
      "text/plain": [
       "array([ True, False, False, False, False, False, False, False, False,\n",
       "       False, False, False, False,  True, False, False, False, False,\n",
       "       False, False, False, False,  True, False, False, False, False,\n",
       "       False, False, False, False, False, False, False, False,  True,\n",
       "        True,  True,  True,  True, False, False, False, False, False,\n",
       "        True, False, False, False, False, False, False, False, False,\n",
       "        True, False, False, False, False, False, False, False,  True,\n",
       "       False, False, False, False,  True,  True, False, False, False,\n",
       "       False, False, False,  True, False, False, False, False, False,\n",
       "       False, False, False, False, False, False, False, False, False,\n",
       "       False, False, False, False, False, False, False, False, False,\n",
       "       False, False, False, False, False,  True, False, False, False,\n",
       "       False, False, False, False, False, False, False, False, False,\n",
       "       False, False, False, False,  True, False, False,  True, False,\n",
       "       False, False, False, False, False, False, False, False, False,\n",
       "       False, False])"
      ]
     },
     "execution_count": 123,
     "metadata": {},
     "output_type": "execute_result"
    }
   ],
   "source": [
    "print(np.asarray(result_NMT).sum())\n",
    "np.asarray(result_NMT)"
   ]
  },
  {
   "cell_type": "code",
   "execution_count": 115,
   "metadata": {},
   "outputs": [
    {
     "name": "stdout",
     "output_type": "stream",
     "text": [
      "123\n"
     ]
    },
    {
     "data": {
      "text/plain": [
       "array([ True,  True,  True,  True,  True,  True,  True,  True,  True,\n",
       "        True,  True,  True, False,  True,  True, False,  True, False,\n",
       "        True,  True,  True,  True,  True, False,  True,  True,  True,\n",
       "        True,  True,  True,  True,  True,  True,  True,  True,  True,\n",
       "        True,  True, False,  True,  True,  True, False,  True,  True,\n",
       "        True,  True,  True,  True,  True,  True,  True,  True,  True,\n",
       "        True,  True,  True,  True,  True,  True,  True,  True,  True,\n",
       "        True,  True,  True,  True,  True,  True,  True, False,  True,\n",
       "        True,  True,  True,  True,  True, False,  True,  True,  True,\n",
       "        True,  True,  True,  True,  True,  True,  True,  True,  True,\n",
       "        True,  True,  True,  True,  True, False,  True,  True,  True,\n",
       "       False, False,  True,  True,  True,  True,  True,  True,  True,\n",
       "        True,  True,  True,  True,  True,  True, False,  True,  True,\n",
       "        True,  True,  True,  True,  True,  True,  True,  True,  True,\n",
       "        True, False,  True,  True,  True,  True,  True,  True, False,\n",
       "        True,  True])"
      ]
     },
     "execution_count": 115,
     "metadata": {},
     "output_type": "execute_result"
    }
   ],
   "source": [
    "print(np.asarray(result_Temperature).sum())\n",
    "np.asarray(result_Temperature)"
   ]
  },
  {
   "cell_type": "markdown",
   "metadata": {},
   "source": [
    "## Validation Tree"
   ]
  },
  {
   "cell_type": "code",
   "execution_count": 126,
   "metadata": {},
   "outputs": [],
   "source": [
    "def decision_empirique(df_static,df_dynamic,id_patient, regle_nan=True, drop_NMT=True):\n",
    "    \n",
    "    data_dyn_tot = df_dynamic[(df_dynamic.id_patient==id_patient)&(df_dynamic.declampage_cote2_done==1)]\n",
    "    data_dyn_end = get_end_surgery_data_dynamic(data_dyn)\n",
    "    data_stat = df_static[df_static.id_patient == id_patient]\n",
    "\n",
    "                               \n",
    "    if split_ECMO_during_surgery(data_stat) == \"Node ECMO weaning Test\":\n",
    "        if split_ECMO_weaning_test(data_stat, data_dyn_end,regle_nan=regle_nan) == \"Node INO weaning Test\":\n",
    "            if split_INO_weaning_test(data_stat, data_dyn_end,regle_nan=regle_nan) == \"Node ratio-300 test\":\n",
    "                if split_ratio_300(data_stat, data_dyn_end,regle_nan=regle_nan) == \"Node NIV attempt\":\n",
    "                    return split_NIV_attempt(data_stat, data_dyn=data_dyn_end, data_dyn_tot=data_dyn_tot, \n",
    "                                             regle_nan=regle_nan, drop_NMT=True)\n",
    "                else:\n",
    "                    return split_ratio_300(data_stat, data_dyn_end,regle_nan=regle_nan)\n",
    "            else : \n",
    "                return split_INO_weaning_test(data_stat, data_dyn_end, regle_nan=regle_nan)\n",
    "        else :\n",
    "            return split_ECMO_weaning_test(data_stat, data_dyn_end, regle_nan=regle_nan)\n",
    "        \n",
    "    else: #Node ratio-100 test\"\n",
    "        if split_ratio_100(data_stat, data_dyn_end, regle_nan=regle_nan) ==\"Node INO weaning Test\":\n",
    "            if split_INO_weaning_test(data_stat, data_dyn_end, regle_nan=regle_nan) == \"Node ratio-300 test\":\n",
    "                if split_ratio_300(data_stat, data_dyn_end, regle_nan=regle_nan) == \"Node NIV attempt\":\n",
    "                    return split_NIV_attempt(data_stat, data_dyn=data_dyn_end, data_dyn_tot=data_dyn_tot, \n",
    "                                             regle_nan=regle_nan, drop_NMT=True)\n",
    "                else:\n",
    "                    return split_ratio_300(data_stat, data_dyn_end,regle_nan=regle_nan)\n",
    "            else : \n",
    "                return split_INO_weaning_test(data_stat, data_dyn_end, regle_nan=regle_nan)\n",
    "        else : \n",
    "            return split_ratio_100(data_stat, data_dyn_end, regle_nan=regle_nan)"
   ]
  },
  {
   "cell_type": "markdown",
   "metadata": {},
   "source": [
    "## Tests\n",
    "\n",
    "- avec les données postops\n",
    "- avec notre label à nous"
   ]
  },
  {
   "cell_type": "code",
   "execution_count": 127,
   "metadata": {},
   "outputs": [],
   "source": [
    "def recode_leaf_in_immediate_extubation(leaf):\n",
    "    \"\"\" recode the leaves of the tree with immediate_extubation 0/1\"\"\"\n",
    "    if leaf ==\"Transfer to ICU with standard oxygen therapy or NIV\":\n",
    "        return 1\n",
    "    return 0"
   ]
  },
  {
   "cell_type": "code",
   "execution_count": null,
   "metadata": {},
   "outputs": [],
   "source": []
  },
  {
   "cell_type": "code",
   "execution_count": 149,
   "metadata": {},
   "outputs": [],
   "source": [
    "df_results=df_static[['id_patient','immediate_extubation']]"
   ]
  },
  {
   "cell_type": "code",
   "execution_count": 163,
   "metadata": {},
   "outputs": [],
   "source": [
    "df_results_missing_false = df_static[['id_patient','immediate_extubation']]"
   ]
  },
  {
   "cell_type": "code",
   "execution_count": 150,
   "metadata": {},
   "outputs": [
    {
     "name": "stderr",
     "output_type": "stream",
     "text": [
      "/home/karine/anaconda2/envs/py36/lib/python3.6/site-packages/ipykernel_launcher.py:1: SettingWithCopyWarning: \n",
      "A value is trying to be set on a copy of a slice from a DataFrame.\n",
      "Try using .loc[row_indexer,col_indexer] = value instead\n",
      "\n",
      "See the caveats in the documentation: http://pandas.pydata.org/pandas-docs/stable/indexing.html#indexing-view-versus-copy\n",
      "  \"\"\"Entry point for launching an IPython kernel.\n",
      "/home/karine/anaconda2/envs/py36/lib/python3.6/site-packages/ipykernel_launcher.py:2: SettingWithCopyWarning: \n",
      "A value is trying to be set on a copy of a slice from a DataFrame.\n",
      "Try using .loc[row_indexer,col_indexer] = value instead\n",
      "\n",
      "See the caveats in the documentation: http://pandas.pydata.org/pandas-docs/stable/indexing.html#indexing-view-versus-copy\n",
      "  \n"
     ]
    }
   ],
   "source": [
    "df_results['result_tree'] = \"stop\"\n",
    "df_results['result_tree_immediate_extubation'] = 1"
   ]
  },
  {
   "cell_type": "code",
   "execution_count": 164,
   "metadata": {},
   "outputs": [
    {
     "name": "stderr",
     "output_type": "stream",
     "text": [
      "/home/karine/anaconda2/envs/py36/lib/python3.6/site-packages/ipykernel_launcher.py:1: SettingWithCopyWarning: \n",
      "A value is trying to be set on a copy of a slice from a DataFrame.\n",
      "Try using .loc[row_indexer,col_indexer] = value instead\n",
      "\n",
      "See the caveats in the documentation: http://pandas.pydata.org/pandas-docs/stable/indexing.html#indexing-view-versus-copy\n",
      "  \"\"\"Entry point for launching an IPython kernel.\n",
      "/home/karine/anaconda2/envs/py36/lib/python3.6/site-packages/ipykernel_launcher.py:2: SettingWithCopyWarning: \n",
      "A value is trying to be set on a copy of a slice from a DataFrame.\n",
      "Try using .loc[row_indexer,col_indexer] = value instead\n",
      "\n",
      "See the caveats in the documentation: http://pandas.pydata.org/pandas-docs/stable/indexing.html#indexing-view-versus-copy\n",
      "  \n"
     ]
    }
   ],
   "source": [
    "df_results_missing_false['result_tree'] = \"stop\"\n",
    "df_results_missing_false['result_tree_immediate_extubation'] = 1"
   ]
  },
  {
   "cell_type": "code",
   "execution_count": 151,
   "metadata": {},
   "outputs": [
    {
     "name": "stderr",
     "output_type": "stream",
     "text": [
      "/home/karine/anaconda2/envs/py36/lib/python3.6/site-packages/pandas/core/indexing.py:543: SettingWithCopyWarning: \n",
      "A value is trying to be set on a copy of a slice from a DataFrame.\n",
      "Try using .loc[row_indexer,col_indexer] = value instead\n",
      "\n",
      "See the caveats in the documentation: http://pandas.pydata.org/pandas-docs/stable/indexing.html#indexing-view-versus-copy\n",
      "  self.obj[item] = s\n"
     ]
    }
   ],
   "source": [
    "for index, row in df_results.iterrows():\n",
    "    df_results.iloc[index,2]= decision_empirique(df_static,df_dynamic,id_patient=row['id_patient'], regle_nan=True, drop_NMT=True)"
   ]
  },
  {
   "cell_type": "code",
   "execution_count": 165,
   "metadata": {},
   "outputs": [
    {
     "name": "stderr",
     "output_type": "stream",
     "text": [
      "/home/karine/anaconda2/envs/py36/lib/python3.6/site-packages/pandas/core/indexing.py:543: SettingWithCopyWarning: \n",
      "A value is trying to be set on a copy of a slice from a DataFrame.\n",
      "Try using .loc[row_indexer,col_indexer] = value instead\n",
      "\n",
      "See the caveats in the documentation: http://pandas.pydata.org/pandas-docs/stable/indexing.html#indexing-view-versus-copy\n",
      "  self.obj[item] = s\n"
     ]
    }
   ],
   "source": [
    "for index, row in df_results_missing_false.iterrows():\n",
    "    df_results_missing_false.iloc[index,2]= decision_empirique(df_static,df_dynamic,id_patient=row['id_patient'], regle_nan=False, drop_NMT=True)"
   ]
  },
  {
   "cell_type": "code",
   "execution_count": 152,
   "metadata": {},
   "outputs": [
    {
     "name": "stderr",
     "output_type": "stream",
     "text": [
      "/home/karine/anaconda2/envs/py36/lib/python3.6/site-packages/pandas/core/indexing.py:543: SettingWithCopyWarning: \n",
      "A value is trying to be set on a copy of a slice from a DataFrame.\n",
      "Try using .loc[row_indexer,col_indexer] = value instead\n",
      "\n",
      "See the caveats in the documentation: http://pandas.pydata.org/pandas-docs/stable/indexing.html#indexing-view-versus-copy\n",
      "  self.obj[item] = s\n"
     ]
    }
   ],
   "source": [
    "for index, row in df_results.iterrows():\n",
    "    df_results.iloc[index,3] = recode_leaf_in_immediate_extubation(row['result_tree'])\n",
    "    "
   ]
  },
  {
   "cell_type": "code",
   "execution_count": 166,
   "metadata": {},
   "outputs": [
    {
     "name": "stderr",
     "output_type": "stream",
     "text": [
      "/home/karine/anaconda2/envs/py36/lib/python3.6/site-packages/pandas/core/indexing.py:543: SettingWithCopyWarning: \n",
      "A value is trying to be set on a copy of a slice from a DataFrame.\n",
      "Try using .loc[row_indexer,col_indexer] = value instead\n",
      "\n",
      "See the caveats in the documentation: http://pandas.pydata.org/pandas-docs/stable/indexing.html#indexing-view-versus-copy\n",
      "  self.obj[item] = s\n"
     ]
    }
   ],
   "source": [
    "for index, row in df_results_missing_false.iterrows():\n",
    "    df_results_missing_false.iloc[index,3] = recode_leaf_in_immediate_extubation(row['result_tree'])"
   ]
  },
  {
   "cell_type": "code",
   "execution_count": 168,
   "metadata": {},
   "outputs": [
    {
     "data": {
      "text/html": [
       "<div>\n",
       "<style scoped>\n",
       "    .dataframe tbody tr th:only-of-type {\n",
       "        vertical-align: middle;\n",
       "    }\n",
       "\n",
       "    .dataframe tbody tr th {\n",
       "        vertical-align: top;\n",
       "    }\n",
       "\n",
       "    .dataframe thead th {\n",
       "        text-align: right;\n",
       "    }\n",
       "</style>\n",
       "<table border=\"1\" class=\"dataframe\">\n",
       "  <thead>\n",
       "    <tr style=\"text-align: right;\">\n",
       "      <th></th>\n",
       "      <th>id_patient</th>\n",
       "      <th>immediate_extubation</th>\n",
       "      <th>result_tree</th>\n",
       "      <th>result_tree_immediate_extubation</th>\n",
       "    </tr>\n",
       "  </thead>\n",
       "  <tbody>\n",
       "    <tr>\n",
       "      <th>0</th>\n",
       "      <td>1</td>\n",
       "      <td>0</td>\n",
       "      <td>Transfer to ICU with standard oxygen therapy o...</td>\n",
       "      <td>1</td>\n",
       "    </tr>\n",
       "    <tr>\n",
       "      <th>1</th>\n",
       "      <td>2</td>\n",
       "      <td>1</td>\n",
       "      <td>Transfer to ICU with mechanical ventilation</td>\n",
       "      <td>0</td>\n",
       "    </tr>\n",
       "    <tr>\n",
       "      <th>2</th>\n",
       "      <td>3</td>\n",
       "      <td>0</td>\n",
       "      <td>Transfer to ICU with ECMO and mechanical venti...</td>\n",
       "      <td>0</td>\n",
       "    </tr>\n",
       "    <tr>\n",
       "      <th>3</th>\n",
       "      <td>4</td>\n",
       "      <td>0</td>\n",
       "      <td>Transfer to ICU with standard oxygen therapy o...</td>\n",
       "      <td>1</td>\n",
       "    </tr>\n",
       "    <tr>\n",
       "      <th>4</th>\n",
       "      <td>5</td>\n",
       "      <td>0</td>\n",
       "      <td>Transfer to ICU with mechanical ventilation an...</td>\n",
       "      <td>0</td>\n",
       "    </tr>\n",
       "  </tbody>\n",
       "</table>\n",
       "</div>"
      ],
      "text/plain": [
       "   id_patient  immediate_extubation  \\\n",
       "0           1                     0   \n",
       "1           2                     1   \n",
       "2           3                     0   \n",
       "3           4                     0   \n",
       "4           5                     0   \n",
       "\n",
       "                                         result_tree  \\\n",
       "0  Transfer to ICU with standard oxygen therapy o...   \n",
       "1        Transfer to ICU with mechanical ventilation   \n",
       "2  Transfer to ICU with ECMO and mechanical venti...   \n",
       "3  Transfer to ICU with standard oxygen therapy o...   \n",
       "4  Transfer to ICU with mechanical ventilation an...   \n",
       "\n",
       "   result_tree_immediate_extubation  \n",
       "0                                 1  \n",
       "1                                 0  \n",
       "2                                 0  \n",
       "3                                 1  \n",
       "4                                 0  "
      ]
     },
     "execution_count": 168,
     "metadata": {},
     "output_type": "execute_result"
    }
   ],
   "source": [
    "df_results.head()"
   ]
  },
  {
   "cell_type": "code",
   "execution_count": 167,
   "metadata": {},
   "outputs": [
    {
     "data": {
      "text/html": [
       "<div>\n",
       "<style scoped>\n",
       "    .dataframe tbody tr th:only-of-type {\n",
       "        vertical-align: middle;\n",
       "    }\n",
       "\n",
       "    .dataframe tbody tr th {\n",
       "        vertical-align: top;\n",
       "    }\n",
       "\n",
       "    .dataframe thead th {\n",
       "        text-align: right;\n",
       "    }\n",
       "</style>\n",
       "<table border=\"1\" class=\"dataframe\">\n",
       "  <thead>\n",
       "    <tr style=\"text-align: right;\">\n",
       "      <th></th>\n",
       "      <th>id_patient</th>\n",
       "      <th>immediate_extubation</th>\n",
       "      <th>result_tree</th>\n",
       "      <th>result_tree_immediate_extubation</th>\n",
       "    </tr>\n",
       "  </thead>\n",
       "  <tbody>\n",
       "    <tr>\n",
       "      <th>0</th>\n",
       "      <td>1</td>\n",
       "      <td>0</td>\n",
       "      <td>Transfer to ICU with standard oxygen therapy o...</td>\n",
       "      <td>1</td>\n",
       "    </tr>\n",
       "    <tr>\n",
       "      <th>1</th>\n",
       "      <td>2</td>\n",
       "      <td>1</td>\n",
       "      <td>Transfer to ICU with mechanical ventilation an...</td>\n",
       "      <td>0</td>\n",
       "    </tr>\n",
       "    <tr>\n",
       "      <th>2</th>\n",
       "      <td>3</td>\n",
       "      <td>0</td>\n",
       "      <td>Transfer to ICU with ECMO and mechanical venti...</td>\n",
       "      <td>0</td>\n",
       "    </tr>\n",
       "    <tr>\n",
       "      <th>3</th>\n",
       "      <td>4</td>\n",
       "      <td>0</td>\n",
       "      <td>Transfer to ICU with standard oxygen therapy o...</td>\n",
       "      <td>1</td>\n",
       "    </tr>\n",
       "    <tr>\n",
       "      <th>4</th>\n",
       "      <td>5</td>\n",
       "      <td>0</td>\n",
       "      <td>Transfer to ICU with mechanical ventilation an...</td>\n",
       "      <td>0</td>\n",
       "    </tr>\n",
       "  </tbody>\n",
       "</table>\n",
       "</div>"
      ],
      "text/plain": [
       "   id_patient  immediate_extubation  \\\n",
       "0           1                     0   \n",
       "1           2                     1   \n",
       "2           3                     0   \n",
       "3           4                     0   \n",
       "4           5                     0   \n",
       "\n",
       "                                         result_tree  \\\n",
       "0  Transfer to ICU with standard oxygen therapy o...   \n",
       "1  Transfer to ICU with mechanical ventilation an...   \n",
       "2  Transfer to ICU with ECMO and mechanical venti...   \n",
       "3  Transfer to ICU with standard oxygen therapy o...   \n",
       "4  Transfer to ICU with mechanical ventilation an...   \n",
       "\n",
       "   result_tree_immediate_extubation  \n",
       "0                                 1  \n",
       "1                                 0  \n",
       "2                                 0  \n",
       "3                                 1  \n",
       "4                                 0  "
      ]
     },
     "execution_count": 167,
     "metadata": {},
     "output_type": "execute_result"
    }
   ],
   "source": [
    "df_results_missing_false.head()"
   ]
  },
  {
   "cell_type": "code",
   "execution_count": 154,
   "metadata": {},
   "outputs": [
    {
     "data": {
      "text/plain": [
       "(137, 173, 410)"
      ]
     },
     "execution_count": 154,
     "metadata": {},
     "output_type": "execute_result"
    }
   ],
   "source": [
    "df_results['immediate_extubation'].sum(), df_results['result_tree_immediate_extubation'].sum(), df_results.shape[0]"
   ]
  },
  {
   "cell_type": "code",
   "execution_count": 169,
   "metadata": {},
   "outputs": [
    {
     "data": {
      "text/plain": [
       "(137, 147, 410)"
      ]
     },
     "execution_count": 169,
     "metadata": {},
     "output_type": "execute_result"
    }
   ],
   "source": [
    "df_results_missing_false['immediate_extubation'].sum(), df_results_missing_false['result_tree_immediate_extubation'].sum(), df_results_missing_false.shape[0]"
   ]
  },
  {
   "cell_type": "code",
   "execution_count": 155,
   "metadata": {},
   "outputs": [],
   "source": [
    "from sklearn.metrics import confusion_matrix"
   ]
  },
  {
   "cell_type": "code",
   "execution_count": 156,
   "metadata": {},
   "outputs": [
    {
     "data": {
      "text/html": [
       "<div>\n",
       "<style scoped>\n",
       "    .dataframe tbody tr th:only-of-type {\n",
       "        vertical-align: middle;\n",
       "    }\n",
       "\n",
       "    .dataframe tbody tr th {\n",
       "        vertical-align: top;\n",
       "    }\n",
       "\n",
       "    .dataframe thead th {\n",
       "        text-align: right;\n",
       "    }\n",
       "</style>\n",
       "<table border=\"1\" class=\"dataframe\">\n",
       "  <thead>\n",
       "    <tr style=\"text-align: right;\">\n",
       "      <th></th>\n",
       "      <th>id_patient</th>\n",
       "      <th>immediate_extubation</th>\n",
       "      <th>result_tree</th>\n",
       "      <th>result_tree_immediate_extubation</th>\n",
       "    </tr>\n",
       "  </thead>\n",
       "  <tbody>\n",
       "    <tr>\n",
       "      <th>0</th>\n",
       "      <td>1</td>\n",
       "      <td>0</td>\n",
       "      <td>Transfer to ICU with standard oxygen therapy o...</td>\n",
       "      <td>1</td>\n",
       "    </tr>\n",
       "    <tr>\n",
       "      <th>1</th>\n",
       "      <td>2</td>\n",
       "      <td>1</td>\n",
       "      <td>Transfer to ICU with mechanical ventilation</td>\n",
       "      <td>0</td>\n",
       "    </tr>\n",
       "    <tr>\n",
       "      <th>2</th>\n",
       "      <td>3</td>\n",
       "      <td>0</td>\n",
       "      <td>Transfer to ICU with ECMO and mechanical venti...</td>\n",
       "      <td>0</td>\n",
       "    </tr>\n",
       "    <tr>\n",
       "      <th>3</th>\n",
       "      <td>4</td>\n",
       "      <td>0</td>\n",
       "      <td>Transfer to ICU with standard oxygen therapy o...</td>\n",
       "      <td>1</td>\n",
       "    </tr>\n",
       "    <tr>\n",
       "      <th>4</th>\n",
       "      <td>5</td>\n",
       "      <td>0</td>\n",
       "      <td>Transfer to ICU with mechanical ventilation an...</td>\n",
       "      <td>0</td>\n",
       "    </tr>\n",
       "  </tbody>\n",
       "</table>\n",
       "</div>"
      ],
      "text/plain": [
       "   id_patient  immediate_extubation  \\\n",
       "0           1                     0   \n",
       "1           2                     1   \n",
       "2           3                     0   \n",
       "3           4                     0   \n",
       "4           5                     0   \n",
       "\n",
       "                                         result_tree  \\\n",
       "0  Transfer to ICU with standard oxygen therapy o...   \n",
       "1        Transfer to ICU with mechanical ventilation   \n",
       "2  Transfer to ICU with ECMO and mechanical venti...   \n",
       "3  Transfer to ICU with standard oxygen therapy o...   \n",
       "4  Transfer to ICU with mechanical ventilation an...   \n",
       "\n",
       "   result_tree_immediate_extubation  \n",
       "0                                 1  \n",
       "1                                 0  \n",
       "2                                 0  \n",
       "3                                 1  \n",
       "4                                 0  "
      ]
     },
     "execution_count": 156,
     "metadata": {},
     "output_type": "execute_result"
    }
   ],
   "source": [
    "df_results.head()"
   ]
  },
  {
   "cell_type": "code",
   "execution_count": 161,
   "metadata": {},
   "outputs": [
    {
     "data": {
      "text/plain": [
       "array([[193,  80],\n",
       "       [ 44,  93]])"
      ]
     },
     "execution_count": 161,
     "metadata": {},
     "output_type": "execute_result"
    }
   ],
   "source": [
    "confusion_matrix(y_true=df_results['immediate_extubation'], y_pred=df_results['result_tree_immediate_extubation'])"
   ]
  },
  {
   "cell_type": "code",
   "execution_count": 174,
   "metadata": {},
   "outputs": [
    {
     "data": {
      "text/plain": [
       "array([[47.07317073, 19.51219512],\n",
       "       [10.73170732, 22.68292683]])"
      ]
     },
     "execution_count": 174,
     "metadata": {},
     "output_type": "execute_result"
    }
   ],
   "source": [
    "mat=confusion_matrix(y_true=df_results['immediate_extubation'], y_pred=df_results['result_tree_immediate_extubation'])\n",
    "(mat/df_results_missing_false.shape[0])*100"
   ]
  },
  {
   "cell_type": "code",
   "execution_count": 170,
   "metadata": {},
   "outputs": [
    {
     "data": {
      "text/plain": [
       "array([[208,  65],\n",
       "       [ 55,  82]])"
      ]
     },
     "execution_count": 170,
     "metadata": {},
     "output_type": "execute_result"
    }
   ],
   "source": [
    "confusion_matrix(y_true=df_results_missing_false['immediate_extubation'], y_pred=df_results_missing_false['result_tree_immediate_extubation'])"
   ]
  },
  {
   "cell_type": "code",
   "execution_count": 182,
   "metadata": {},
   "outputs": [
    {
     "data": {
      "text/plain": [
       "137"
      ]
     },
     "execution_count": 182,
     "metadata": {},
     "output_type": "execute_result"
    }
   ],
   "source": [
    "df_results_missing_false['immediate_extubation'].sum()"
   ]
  },
  {
   "cell_type": "code",
   "execution_count": 171,
   "metadata": {},
   "outputs": [],
   "source": [
    "mat=confusion_matrix(y_true=df_results_missing_false['immediate_extubation'], y_pred=df_results_missing_false['result_tree_immediate_extubation'])"
   ]
  },
  {
   "cell_type": "code",
   "execution_count": 173,
   "metadata": {},
   "outputs": [
    {
     "data": {
      "text/plain": [
       "array([[50.73170732, 15.85365854],\n",
       "       [13.41463415, 20.        ]])"
      ]
     },
     "execution_count": 173,
     "metadata": {},
     "output_type": "execute_result"
    }
   ],
   "source": [
    "(mat/df_results_missing_false.shape[0])*100"
   ]
  },
  {
   "cell_type": "code",
   "execution_count": 175,
   "metadata": {},
   "outputs": [],
   "source": [
    "train, test = dataset.get_static()\n",
    "data_static = pd.concat([train, test])\n",
    "df_results = pd.merge(df_results, data_static[['id_patient','target']], how='left', on='id_patient')"
   ]
  },
  {
   "cell_type": "code",
   "execution_count": 177,
   "metadata": {},
   "outputs": [
    {
     "data": {
      "text/html": [
       "<div>\n",
       "<style scoped>\n",
       "    .dataframe tbody tr th:only-of-type {\n",
       "        vertical-align: middle;\n",
       "    }\n",
       "\n",
       "    .dataframe tbody tr th {\n",
       "        vertical-align: top;\n",
       "    }\n",
       "\n",
       "    .dataframe thead th {\n",
       "        text-align: right;\n",
       "    }\n",
       "</style>\n",
       "<table border=\"1\" class=\"dataframe\">\n",
       "  <thead>\n",
       "    <tr style=\"text-align: right;\">\n",
       "      <th></th>\n",
       "      <th>id_patient</th>\n",
       "      <th>immediate_extubation</th>\n",
       "      <th>result_tree</th>\n",
       "      <th>result_tree_immediate_extubation</th>\n",
       "      <th>target</th>\n",
       "    </tr>\n",
       "  </thead>\n",
       "  <tbody>\n",
       "    <tr>\n",
       "      <th>0</th>\n",
       "      <td>1</td>\n",
       "      <td>0</td>\n",
       "      <td>Transfer to ICU with standard oxygen therapy o...</td>\n",
       "      <td>1</td>\n",
       "      <td>0</td>\n",
       "    </tr>\n",
       "    <tr>\n",
       "      <th>1</th>\n",
       "      <td>2</td>\n",
       "      <td>1</td>\n",
       "      <td>Transfer to ICU with mechanical ventilation</td>\n",
       "      <td>0</td>\n",
       "      <td>1</td>\n",
       "    </tr>\n",
       "    <tr>\n",
       "      <th>2</th>\n",
       "      <td>3</td>\n",
       "      <td>0</td>\n",
       "      <td>Transfer to ICU with ECMO and mechanical venti...</td>\n",
       "      <td>0</td>\n",
       "      <td>0</td>\n",
       "    </tr>\n",
       "    <tr>\n",
       "      <th>3</th>\n",
       "      <td>4</td>\n",
       "      <td>0</td>\n",
       "      <td>Transfer to ICU with standard oxygen therapy o...</td>\n",
       "      <td>1</td>\n",
       "      <td>1</td>\n",
       "    </tr>\n",
       "    <tr>\n",
       "      <th>4</th>\n",
       "      <td>5</td>\n",
       "      <td>0</td>\n",
       "      <td>Transfer to ICU with mechanical ventilation an...</td>\n",
       "      <td>0</td>\n",
       "      <td>0</td>\n",
       "    </tr>\n",
       "  </tbody>\n",
       "</table>\n",
       "</div>"
      ],
      "text/plain": [
       "   id_patient  immediate_extubation  \\\n",
       "0           1                     0   \n",
       "1           2                     1   \n",
       "2           3                     0   \n",
       "3           4                     0   \n",
       "4           5                     0   \n",
       "\n",
       "                                         result_tree  \\\n",
       "0  Transfer to ICU with standard oxygen therapy o...   \n",
       "1        Transfer to ICU with mechanical ventilation   \n",
       "2  Transfer to ICU with ECMO and mechanical venti...   \n",
       "3  Transfer to ICU with standard oxygen therapy o...   \n",
       "4  Transfer to ICU with mechanical ventilation an...   \n",
       "\n",
       "   result_tree_immediate_extubation  target  \n",
       "0                                 1       0  \n",
       "1                                 0       1  \n",
       "2                                 0       0  \n",
       "3                                 1       1  \n",
       "4                                 0       0  "
      ]
     },
     "execution_count": 177,
     "metadata": {},
     "output_type": "execute_result"
    }
   ],
   "source": [
    "df_results.head()"
   ]
  },
  {
   "cell_type": "code",
   "execution_count": 178,
   "metadata": {},
   "outputs": [],
   "source": [
    "df_results_missing_false = pd.merge(df_results_missing_false, data_static[['id_patient','target']], how='left', on='id_patient')"
   ]
  },
  {
   "cell_type": "code",
   "execution_count": 179,
   "metadata": {},
   "outputs": [],
   "source": [
    "mat=confusion_matrix(y_true=df_results_missing_false['target'], y_pred=df_results_missing_false['result_tree_immediate_extubation'])"
   ]
  },
  {
   "cell_type": "code",
   "execution_count": 180,
   "metadata": {},
   "outputs": [
    {
     "data": {
      "text/plain": [
       "array([[180,  61],\n",
       "       [ 83,  86]])"
      ]
     },
     "execution_count": 180,
     "metadata": {},
     "output_type": "execute_result"
    }
   ],
   "source": [
    "mat"
   ]
  },
  {
   "cell_type": "code",
   "execution_count": 181,
   "metadata": {},
   "outputs": [
    {
     "data": {
      "text/plain": [
       "array([[43.90243902, 14.87804878],\n",
       "       [20.24390244, 20.97560976]])"
      ]
     },
     "execution_count": 181,
     "metadata": {},
     "output_type": "execute_result"
    }
   ],
   "source": [
    "(mat/df_results_missing_false.shape[0])*100"
   ]
  },
  {
   "cell_type": "code",
   "execution_count": null,
   "metadata": {},
   "outputs": [],
   "source": []
  }
 ],
 "metadata": {
  "kernelspec": {
   "display_name": "Python 3",
   "language": "python",
   "name": "python3"
  },
  "language_info": {
   "codemirror_mode": {
    "name": "ipython",
    "version": 3
   },
   "file_extension": ".py",
   "mimetype": "text/x-python",
   "name": "python",
   "nbconvert_exporter": "python",
   "pygments_lexer": "ipython3",
   "version": "3.6.8"
  }
 },
 "nbformat": 4,
 "nbformat_minor": 2
}
