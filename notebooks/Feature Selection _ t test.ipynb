{
 "cells": [
  {
   "cell_type": "code",
   "execution_count": 1,
   "metadata": {},
   "outputs": [
    {
     "data": {
      "text/html": [
       "<div id=\"my_id_menu_nb\">run previous cell, wait for 2 seconds</div>\n",
       "<script>\n",
       "function repeat_indent_string(n){\n",
       "    var a = \"\" ;\n",
       "    for ( ; n > 0 ; --n)\n",
       "        a += \"    \";\n",
       "    return a;\n",
       "}\n",
       "// look up into all sections and builds an automated menu //\n",
       "var update_menu_string = function(begin, lfirst, llast, sformat, send, keep_item, begin_format, end_format) {\n",
       "    var anchors = document.getElementsByClassName(\"section\");\n",
       "    if (anchors.length == 0) {\n",
       "        anchors = document.getElementsByClassName(\"text_cell_render rendered_html\");\n",
       "    }\n",
       "    var i,t;\n",
       "    var text_menu = begin;\n",
       "    var text_memo = \"<pre>\\nlength:\" + anchors.length + \"\\n\";\n",
       "    var ind = \"\";\n",
       "    var memo_level = 1;\n",
       "    var href;\n",
       "    var tags = [];\n",
       "    var main_item = 0;\n",
       "    var format_open = 0;\n",
       "    for (i = 0; i <= llast; i++)\n",
       "        tags.push(\"h\" + i);\n",
       "\n",
       "    for (i = 0; i < anchors.length; i++) {\n",
       "        text_memo += \"**\" + anchors[i].id + \"--\\n\";\n",
       "\n",
       "        var child = null;\n",
       "        for(t = 0; t < tags.length; t++) {\n",
       "            var r = anchors[i].getElementsByTagName(tags[t]);\n",
       "            if (r.length > 0) {\n",
       "child = r[0];\n",
       "break;\n",
       "            }\n",
       "        }\n",
       "        if (child == null) {\n",
       "            text_memo += \"null\\n\";\n",
       "            continue;\n",
       "        }\n",
       "        if (anchors[i].hasAttribute(\"id\")) {\n",
       "            // when converted in RST\n",
       "            href = anchors[i].id;\n",
       "            text_memo += \"#1-\" + href;\n",
       "            // passer à child suivant (le chercher)\n",
       "        }\n",
       "        else if (child.hasAttribute(\"id\")) {\n",
       "            // in a notebook\n",
       "            href = child.id;\n",
       "            text_memo += \"#2-\" + href;\n",
       "        }\n",
       "        else {\n",
       "            text_memo += \"#3-\" + \"*\" + \"\\n\";\n",
       "            continue;\n",
       "        }\n",
       "        var title = child.textContent;\n",
       "        var level = parseInt(child.tagName.substring(1,2));\n",
       "\n",
       "        text_memo += \"--\" + level + \"?\" + lfirst + \"--\" + title + \"\\n\";\n",
       "\n",
       "        if ((level < lfirst) || (level > llast)) {\n",
       "            continue ;\n",
       "        }\n",
       "        if (title.endsWith('¶')) {\n",
       "            title = title.substring(0,title.length-1).replace(\"<\", \"&lt;\")\n",
       "         .replace(\">\", \"&gt;\").replace(\"&\", \"&amp;\");\n",
       "        }\n",
       "        if (title.length == 0) {\n",
       "            continue;\n",
       "        }\n",
       "\n",
       "        while (level < memo_level) {\n",
       "            text_menu += end_format + \"</ul>\\n\";\n",
       "            format_open -= 1;\n",
       "            memo_level -= 1;\n",
       "        }\n",
       "        if (level == lfirst) {\n",
       "            main_item += 1;\n",
       "        }\n",
       "        if (keep_item != -1 && main_item != keep_item + 1) {\n",
       "            // alert(main_item + \" - \" + level + \" - \" + keep_item);\n",
       "            continue;\n",
       "        }\n",
       "        while (level > memo_level) {\n",
       "            text_menu += \"<ul>\\n\";\n",
       "            memo_level += 1;\n",
       "        }\n",
       "        text_menu += repeat_indent_string(level-2);\n",
       "        text_menu += begin_format + sformat.replace(\"__HREF__\", href).replace(\"__TITLE__\", title);\n",
       "        format_open += 1;\n",
       "    }\n",
       "    while (1 < memo_level) {\n",
       "        text_menu += end_format + \"</ul>\\n\";\n",
       "        memo_level -= 1;\n",
       "        format_open -= 1;\n",
       "    }\n",
       "    text_menu += send;\n",
       "    //text_menu += \"\\n\" + text_memo;\n",
       "\n",
       "    while (format_open > 0) {\n",
       "        text_menu += end_format;\n",
       "        format_open -= 1;\n",
       "    }\n",
       "    return text_menu;\n",
       "};\n",
       "var update_menu = function() {\n",
       "    var sbegin = \"\";\n",
       "    var sformat = '<a href=\"#__HREF__\">__TITLE__</a>';\n",
       "    var send = \"\";\n",
       "    var begin_format = '<li>';\n",
       "    var end_format = '</li>';\n",
       "    var keep_item = -1;\n",
       "    var text_menu = update_menu_string(sbegin, 2, 4, sformat, send, keep_item,\n",
       "       begin_format, end_format);\n",
       "    var menu = document.getElementById(\"my_id_menu_nb\");\n",
       "    menu.innerHTML=text_menu;\n",
       "};\n",
       "window.setTimeout(update_menu,2000);\n",
       "            </script>"
      ],
      "text/plain": [
       "<IPython.core.display.HTML object>"
      ]
     },
     "execution_count": 1,
     "metadata": {},
     "output_type": "execute_result"
    }
   ],
   "source": [
    "from jyquickhelper import add_notebook_menu\n",
    "add_notebook_menu()"
   ]
  },
  {
   "cell_type": "code",
   "execution_count": 2,
   "metadata": {},
   "outputs": [],
   "source": [
    "import warnings\n",
    "warnings.filterwarnings('ignore')"
   ]
  },
  {
   "cell_type": "markdown",
   "metadata": {},
   "source": [
    "On se propose de procéder à une certaine selection des variables en utilisant des méthodes économétriques de significativité des variables."
   ]
  },
  {
   "cell_type": "markdown",
   "metadata": {},
   "source": [
    "L'idée : étudier un problème linéaire de la forme \n",
    "$y= \\beta_0+ \\beta_1x_1 + \\beta_2x_2 + \\beta_3x_3 + ... + \\beta_{num features}x_{num features} + \\epsilon$\n",
    "\n",
    "Puis on test : H_0 : $\\beta_i = 0$ pour tous i  "
   ]
  },
  {
   "cell_type": "markdown",
   "metadata": {},
   "source": [
    "Cele peut nous donner des indications sur quelles variables utiliser \n",
    "\n",
    "#### Problème :\n",
    "\n",
    "Notre target est binaire -> quelles implications ?"
   ]
  },
  {
   "cell_type": "code",
   "execution_count": null,
   "metadata": {},
   "outputs": [],
   "source": []
  },
  {
   "cell_type": "markdown",
   "metadata": {},
   "source": [
    "## Selection de Features par t-test"
   ]
  },
  {
   "cell_type": "code",
   "execution_count": 3,
   "metadata": {},
   "outputs": [],
   "source": [
    "import numpy as np\n",
    "import statsmodels.api as sm"
   ]
  },
  {
   "cell_type": "markdown",
   "metadata": {},
   "source": [
    "## Data"
   ]
  },
  {
   "cell_type": "code",
   "execution_count": 80,
   "metadata": {},
   "outputs": [],
   "source": [
    "from transplant.data.learningset import Learningset\n",
    "\n",
    "learningset = Learningset()\n",
    "\n",
    "X_train, X_test = learningset.get_data_merged_dynamic_flatten_full(full_df=True)\n",
    "#X_train, X_test, y_train, y_test, X_col = learningset.get_data_merged_dynamic_flatten_full()"
   ]
  },
  {
   "cell_type": "code",
   "execution_count": 104,
   "metadata": {},
   "outputs": [],
   "source": [
    "#X_train.dtypes"
   ]
  },
  {
   "cell_type": "code",
   "execution_count": 103,
   "metadata": {},
   "outputs": [],
   "source": [
    "X_col= X_train.columns.drop('target')"
   ]
  },
  {
   "cell_type": "markdown",
   "metadata": {},
   "source": [
    "J'ai eu des petits problèmes avec le format des noms ( ne supporte pas les espaces, les points et les parenthèses )"
   ]
  },
  {
   "cell_type": "code",
   "execution_count": 99,
   "metadata": {},
   "outputs": [],
   "source": [
    "X_train=X_train.rename(columns = {'BIS SR_mean':'BIS_SR_mean','B.I.S_mean':'BIS_mean','SvO2 (m)_mean':'SvO2m_mean',\n",
    "                                  'BIS SR_std':'BIS_SR_std','B.I.S_std':'BIS_std','SvO2 (m)_std':'SvO2m_std',\n",
    "                                 'BIS SR_max':'BIS_SR_max','B.I.S_max':'BIS_max','SvO2 (m)_max':'SvO2m_max',\n",
    "                                 'BIS SR_min':'BIS_SR_min','B.I.S_min':'BIS_min','SvO2 (m)_min':'SvO2m_min'})"
   ]
  },
  {
   "cell_type": "markdown",
   "metadata": {},
   "source": [
    "## Feature selection for test"
   ]
  },
  {
   "cell_type": "markdown",
   "metadata": {},
   "source": [
    "Ce n'est peut être pas une bonne pratique de mettre toutes les variables d'un coup mais on peut essayer"
   ]
  },
  {
   "cell_type": "code",
   "execution_count": 105,
   "metadata": {},
   "outputs": [
    {
     "name": "stdout",
     "output_type": "stream",
     "text": [
      "                            OLS Regression Results                            \n",
      "==============================================================================\n",
      "Dep. Variable:                 target   R-squared:                       0.601\n",
      "Model:                            OLS   Adj. R-squared:                  0.159\n",
      "Method:                 Least Squares   F-statistic:                     1.361\n",
      "Date:                Sat, 26 Jan 2019   Prob (F-statistic):             0.0474\n",
      "Time:                        10:53:55   Log-Likelihood:                -62.036\n",
      "No. Observations:                 241   AIC:                             378.1\n",
      "Df Residuals:                     114   BIC:                             820.6\n",
      "Df Model:                         126                                         \n",
      "Covariance Type:            nonrobust                                         \n",
      "==========================================================================================================\n",
      "                                             coef    std err          t      P>|t|      [0.025      0.975]\n",
      "----------------------------------------------------------------------------------------------------------\n",
      "Intercept                               -444.1663    780.739     -0.569      0.571   -1990.804    1102.472\n",
      "Age_donor                                 -0.0032      0.004     -0.842      0.401      -0.011       0.004\n",
      "Aspirations_donor                         -0.0664      0.052     -1.283      0.202      -0.169       0.036\n",
      "BMI_donor                                  0.0142      0.081      0.174      0.862      -0.147       0.175\n",
      "Donneur_CPT                            -2.201e-05    9.1e-05     -0.242      0.809      -0.000       0.000\n",
      "Insuffisance_renale                       -0.3220      0.455     -0.708      0.480      -1.223       0.579\n",
      "LAS                                       -0.0034      0.006     -0.551      0.583      -0.016       0.009\n",
      "PAPS                                      -0.0009      0.005     -0.169      0.866      -0.011       0.010\n",
      "PFO                                       -0.1043      0.156     -0.669      0.505      -0.413       0.205\n",
      "PF_donor                                   0.0004      0.001      0.549      0.584      -0.001       0.002\n",
      "Poids                                     -0.0167      0.028     -0.591      0.556      -0.073       0.039\n",
      "Poids_donor                               -0.0056      0.029     -0.193      0.847      -0.063       0.052\n",
      "RX_donor                                  -0.0492      0.049     -1.004      0.318      -0.146       0.048\n",
      "Sex_donor                                  0.0239      0.159      0.150      0.881      -0.291       0.339\n",
      "Tabagisme_donor                           -0.0024      0.004     -0.602      0.548      -0.010       0.005\n",
      "Taille                                     0.0168      0.021      0.801      0.425      -0.025       0.058\n",
      "Taille_donor                               0.0115      0.028      0.406      0.686      -0.045       0.068\n",
      "age                                        0.0059      0.005      1.293      0.199      -0.003       0.015\n",
      "body_mass_index                            0.0259      0.079      0.330      0.742      -0.130       0.182\n",
      "diabetes                                  -0.0158      0.106     -0.148      0.882      -0.226       0.195\n",
      "id_patient                                -0.0089      0.012     -0.724      0.471      -0.033       0.015\n",
      "other_organ_transplantation                0.0749      0.437      0.172      0.864      -0.790       0.940\n",
      "oto_score                                  0.0060      0.035      0.173      0.863      -0.063       0.074\n",
      "pathologie                                -0.0009      0.035     -0.025      0.980      -0.071       0.069\n",
      "plasmapherese                              0.0946      0.094      1.003      0.318      -0.092       0.281\n",
      "preoperative_ECMO                          0.0847      0.351      0.242      0.810      -0.610       0.779\n",
      "preoperative_ICU                          -0.2635      0.247     -1.067      0.288      -0.753       0.226\n",
      "preoperative_mechanical_ventilation        0.0782      0.297      0.263      0.793      -0.510       0.666\n",
      "preoperative_pulmonary_hypertension       -0.0694      0.089     -0.781      0.437      -0.246       0.107\n",
      "preoperative_vasopressor                  -0.3241      0.299     -1.086      0.280      -0.915       0.267\n",
      "retransplant                               0.2266      0.402      0.564      0.574      -0.569       1.022\n",
      "sexe                                      -0.1636      0.124     -1.315      0.191      -0.410       0.083\n",
      "super_urgence                              0.3104      0.296      1.049      0.297      -0.276       0.897\n",
      "thoracic_surgery_history                  -0.1526      0.105     -1.454      0.149      -0.361       0.055\n",
      "time_on_waiting_liste                     -0.0011      0.001     -1.290      0.200      -0.003       0.001\n",
      "transplanted_twice_during_study_period    -0.3556      0.464     -0.766      0.445      -1.275       0.564\n",
      "start_operation_year                       0.2339      0.387      0.604      0.547      -0.533       1.001\n",
      "start_operation_month                     -0.1330      0.069     -1.941      0.055      -0.269       0.003\n",
      "start_operation_day                        0.1060      0.143      0.740      0.461      -0.178       0.390\n",
      "ends_operation_year                        0.2339      0.387      0.604      0.547      -0.533       1.001\n",
      "ends_operation_month                      -0.1330      0.069     -1.941      0.055      -0.269       0.003\n",
      "ends_operation_day                        -0.0959      0.143     -0.669      0.505      -0.380       0.188\n",
      "BIS_mean                                  -0.0038      0.008     -0.466      0.642      -0.020       0.012\n",
      "BIS_SR_mean                                0.0521      0.069      0.755      0.452      -0.085       0.189\n",
      "DC_mean                                   -0.0177      0.076     -0.234      0.815      -0.167       0.132\n",
      "ETCO2_mean                                 0.0779      0.077      1.010      0.315      -0.075       0.231\n",
      "FC_mean                                    0.0004      0.004      0.113      0.910      -0.007       0.008\n",
      "FR_mean                                   -0.0261      0.027     -0.973      0.332      -0.079       0.027\n",
      "FiO2_mean                                 -0.0056      0.005     -1.099      0.274      -0.016       0.004\n",
      "PAPdia_mean                               -0.0657      0.056     -1.172      0.244      -0.177       0.045\n",
      "PAPmoy_mean                                0.1670      0.103      1.618      0.109      -0.038       0.371\n",
      "PAPsys_mean                               -0.1033      0.051     -2.019      0.046      -0.205      -0.002\n",
      "PASd_mean                                 -0.0284      0.028     -1.031      0.305      -0.083       0.026\n",
      "PASm_mean                                  0.0219      0.027      0.810      0.419      -0.032       0.076\n",
      "PASs_mean                                  0.0060      0.012      0.494      0.622      -0.018       0.030\n",
      "PEEPtotal_mean                            -0.0616      0.072     -0.851      0.397      -0.205       0.082\n",
      "PNId_mean                                 -0.0922      0.362     -0.255      0.799      -0.809       0.624\n",
      "PNIm_mean                                 -0.1378      0.291     -0.474      0.636      -0.713       0.438\n",
      "PNIs_mean                                  0.1673      0.218      0.769      0.443      -0.264       0.598\n",
      "Pmax_mean                                 -0.0266      0.021     -1.251      0.214      -0.069       0.016\n",
      "Pmean_mean                                 0.0612      0.058      1.049      0.296      -0.054       0.177\n",
      "SpO2_mean                                  0.0100      0.017      0.606      0.546      -0.023       0.043\n",
      "SvO2m_mean                                 0.0022      0.005      0.461      0.646      -0.007       0.011\n",
      "Temp_mean                                 -0.0129      0.006     -2.293      0.024      -0.024      -0.002\n",
      "VT_mean                                    0.0006      0.002      0.422      0.673      -0.002       0.004\n",
      "declampage_cote1_done_mean                -0.8098      1.005     -0.806      0.422      -2.801       1.182\n",
      "declampage_cote2_done_mean                -1.3563      2.539     -0.534      0.594      -6.385       3.673\n",
      "BIS_std                                   -0.0411      0.022     -1.887      0.062      -0.084       0.002\n",
      "BIS_SR_std                                 0.0056      0.108      0.052      0.959      -0.208       0.219\n",
      "DC_std                                    -0.0404      0.143     -0.283      0.777      -0.323       0.242\n",
      "ETCO2_std                                 -0.1798      0.203     -0.886      0.378      -0.582       0.222\n",
      "FC_std                                    -0.0059      0.007     -0.785      0.434      -0.021       0.009\n",
      "FR_std                                     0.0088      0.056      0.155      0.877      -0.103       0.121\n",
      "FiO2_std                                   0.0025      0.011      0.230      0.818      -0.019       0.024\n",
      "PAPdia_std                                 0.1247      0.075      1.671      0.098      -0.023       0.273\n",
      "PAPmoy_std                                -0.2443      0.132     -1.844      0.068      -0.507       0.018\n",
      "PAPsys_std                                 0.1261      0.064      1.985      0.050       0.000       0.252\n",
      "PASd_std                                  -0.0022      0.037     -0.058      0.953      -0.076       0.071\n",
      "PASm_std                                   0.0195      0.023      0.866      0.388      -0.025       0.064\n",
      "PASs_std                                  -0.0191      0.022     -0.850      0.397      -0.064       0.025\n",
      "PEEPtotal_std                              0.0004      0.093      0.004      0.997      -0.184       0.185\n",
      "PNId_std                                   0.0692      0.141      0.490      0.625      -0.211       0.349\n",
      "PNIm_std                                   0.0017      0.155      0.011      0.991      -0.306       0.309\n",
      "PNIs_std                                  -0.0430      0.084     -0.513      0.609      -0.209       0.123\n",
      "Pmax_std                                   0.0368      0.041      0.906      0.367      -0.044       0.117\n",
      "Pmean_std                                 -0.0564      0.106     -0.530      0.597      -0.267       0.154\n",
      "SpO2_std                                  -0.0005      0.012     -0.040      0.969      -0.024       0.023\n",
      "SvO2m_std                                  0.0125      0.010      1.266      0.208      -0.007       0.032\n",
      "Temp_std                                   0.0124      0.016      0.801      0.425      -0.018       0.043\n",
      "VT_std                                    -0.0040      0.003     -1.414      0.160      -0.010       0.002\n",
      "declampage_cote1_done_std                 -3.8580      4.789     -0.806      0.422     -13.344       5.628\n",
      "declampage_cote2_done_std                  1.6754      3.243      0.517      0.606      -4.749       8.100\n",
      "BIS_max                                    0.0105      0.004      2.340      0.021       0.002       0.019\n",
      "BIS_SR_max                                -0.0082      0.011     -0.773      0.441      -0.029       0.013\n",
      "DC_max                                     0.0339      0.028      1.209      0.229      -0.022       0.090\n",
      "ETCO2_max                                  0.0002      0.039      0.005      0.996      -0.077       0.078\n",
      "FC_max                                     0.0018      0.001      1.446      0.151      -0.001       0.004\n",
      "FR_max                                     0.0062      0.004      1.502      0.136      -0.002       0.014\n",
      "FiO2_max                                   0.0151      0.012      1.298      0.197      -0.008       0.038\n",
      "PAPdia_max                                -0.0027      0.002     -1.253      0.213      -0.007       0.002\n",
      "PAPmoy_max                                 0.0058      0.003      2.088      0.039       0.000       0.011\n",
      "PAPsys_max                                -0.0030      0.001     -2.157      0.033      -0.006      -0.000\n",
      "PASd_max                                  -0.0008      0.001     -0.690      0.491      -0.003       0.002\n",
      "PASm_max                                   0.0008      0.001      0.631      0.529      -0.002       0.003\n",
      "PASs_max                                   0.0006      0.002      0.363      0.717      -0.003       0.004\n",
      "PEEPtotal_max                             -0.0029      0.006     -0.484      0.629      -0.015       0.009\n",
      "PNId_max                                  -0.0001      0.009     -0.016      0.987      -0.019       0.018\n",
      "PNIm_max                                   0.0019      0.011      0.169      0.866      -0.020       0.024\n",
      "PNIs_max                                  -0.0010      0.005     -0.191      0.849      -0.011       0.009\n",
      "Pmax_max                                   0.0032      0.007      0.480      0.632      -0.010       0.016\n",
      "Pmean_max                                  0.0069      0.010      0.713      0.478      -0.012       0.026\n",
      "SpO2_max                                  -0.5526      0.587     -0.942      0.348      -1.715       0.610\n",
      "SvO2m_max                                 -0.0057      0.003     -1.853      0.066      -0.012       0.000\n",
      "Temp_max                                  -0.0075      0.009     -0.825      0.411      -0.026       0.011\n",
      "VT_max                                     0.0001      0.000      1.150      0.253   -8.93e-05       0.000\n",
      "declampage_cote1_done_max               -444.1663    780.739     -0.569      0.571   -1990.804    1102.472\n",
      "declampage_cote2_done_max                 -0.6944      0.875     -0.793      0.429      -2.428       1.039\n",
      "BIS_min                                 9.492e-12   1.67e-11      0.569      0.571   -2.36e-11    4.25e-11\n",
      "BIS_SR_min                              6.469e-12   1.14e-11      0.569      0.570    -1.6e-11     2.9e-11\n",
      "DC_min                                 -8.297e-12   1.46e-11     -0.569      0.570   -3.72e-11    2.06e-11\n",
      "ETCO2_min                               1.656e-12   2.91e-12      0.570      0.570    -4.1e-12    7.42e-12\n",
      "FC_min                                    -0.0028      0.002     -1.541      0.126      -0.007       0.001\n",
      "FR_min                                    -0.0488      0.154     -0.318      0.751      -0.353       0.255\n",
      "FiO2_min                                  -0.0019      0.003     -0.590      0.556      -0.008       0.005\n",
      "PAPdia_min                                 0.0070      0.005      1.520      0.131      -0.002       0.016\n",
      "PAPmoy_min                                -0.0089      0.005     -1.679      0.096      -0.019       0.002\n",
      "PAPsys_min                                 0.0030      0.002      2.011      0.047    4.46e-05       0.006\n",
      "PASd_min                               -6.992e-05      0.001     -0.064      0.949      -0.002       0.002\n",
      "PASm_min                                   0.0008      0.001      1.291      0.199      -0.000       0.002\n",
      "PASs_min                                6.164e-06      0.001      0.005      0.996      -0.002       0.002\n",
      "PEEPtotal_min                             -0.0157      0.174     -0.091      0.928      -0.360       0.329\n",
      "PNId_min                                        0          0        nan        nan           0           0\n",
      "PNIm_min                                        0          0        nan        nan           0           0\n",
      "PNIs_min                                        0          0        nan        nan           0           0\n",
      "Pmax_min                                   0.0368      0.128      0.287      0.775      -0.218       0.291\n",
      "Pmean_min                                 -0.0593      0.293     -0.203      0.840      -0.639       0.521\n",
      "SpO2_min                                   0.0027      0.004      0.617      0.539      -0.006       0.011\n",
      "SvO2m_min                                       0          0        nan        nan           0           0\n",
      "Temp_min                                        0          0        nan        nan           0           0\n",
      "VT_min                                          0          0        nan        nan           0           0\n",
      "declampage_cote1_done_min                       0          0        nan        nan           0           0\n",
      "declampage_cote2_done_min                       0          0        nan        nan           0           0\n",
      "==============================================================================\n",
      "Omnibus:                        1.169   Durbin-Watson:                   1.931\n",
      "Prob(Omnibus):                  0.557   Jarque-Bera (JB):                1.028\n",
      "Skew:                           0.159   Prob(JB):                        0.598\n",
      "Kurtosis:                       3.030   Cond. No.                     1.01e+16\n",
      "==============================================================================\n",
      "\n",
      "Warnings:\n",
      "[1] Standard Errors assume that the covariance matrix of the errors is correctly specified.\n",
      "[2] The smallest eigenvalue is 1.14e-22. This might indicate that there are\n",
      "strong multicollinearity problems or that the design matrix is singular.\n"
     ]
    }
   ],
   "source": [
    "liste_full=X_col[0]\n",
    "for i in X_col[1:] :\n",
    "    liste_full+=' + ' + i\n",
    "\n",
    "results = smf.ols('target ~ '+liste_full, data=X_train).fit()\n",
    "print(results.summary())"
   ]
  },
  {
   "cell_type": "code",
   "execution_count": 95,
   "metadata": {},
   "outputs": [],
   "source": [
    "#dir(results) # to see all attributes"
   ]
  },
  {
   "cell_type": "markdown",
   "metadata": {},
   "source": [
    "#### Variables significatives au niveau 10 %\n",
    "\n",
    "On pourrait essayer des modèles avec ça "
   ]
  },
  {
   "cell_type": "code",
   "execution_count": 108,
   "metadata": {},
   "outputs": [
    {
     "data": {
      "text/plain": [
       "start_operation_month    0.054758\n",
       "ends_operation_month     0.054758\n",
       "PAPsys_mean              0.045796\n",
       "Temp_mean                0.023702\n",
       "BIS_std                  0.061687\n",
       "PAPdia_std               0.097504\n",
       "PAPmoy_std               0.067849\n",
       "PAPsys_std               0.049600\n",
       "BIS_max                  0.021007\n",
       "PAPmoy_max               0.039046\n",
       "PAPsys_max               0.033081\n",
       "SvO2m_max                0.066449\n",
       "PAPmoy_min               0.095809\n",
       "PAPsys_min               0.046720\n",
       "dtype: float64"
      ]
     },
     "execution_count": 108,
     "metadata": {},
     "output_type": "execute_result"
    }
   ],
   "source": [
    "results.pvalues[results.pvalues<0.1]"
   ]
  },
  {
   "cell_type": "markdown",
   "metadata": {},
   "source": [
    "## Selections plus fines "
   ]
  },
  {
   "cell_type": "markdown",
   "metadata": {},
   "source": [
    "A poursuivre ..."
   ]
  },
  {
   "cell_type": "code",
   "execution_count": 109,
   "metadata": {},
   "outputs": [
    {
     "data": {
      "text/plain": [
       "'Age_donor + Aspirations_donor + BMI_donor + Donneur_CPT + Insuffisance_renale + LAS + PAPS + PFO + PF_donor + Poids'"
      ]
     },
     "execution_count": 109,
     "metadata": {},
     "output_type": "execute_result"
    }
   ],
   "source": [
    "liste_10_premiers_static=X_train.columns[0]\n",
    "for i in X_train.columns[1:10] :\n",
    "    liste_10_premiers_static+=' + ' + i\n",
    "liste_10_premiers_static"
   ]
  },
  {
   "cell_type": "code",
   "execution_count": 110,
   "metadata": {},
   "outputs": [
    {
     "name": "stdout",
     "output_type": "stream",
     "text": [
      "                            OLS Regression Results                            \n",
      "==============================================================================\n",
      "Dep. Variable:                 target   R-squared:                       0.112\n",
      "Model:                            OLS   Adj. R-squared:                  0.073\n",
      "Method:                 Least Squares   F-statistic:                     2.891\n",
      "Date:                Sat, 26 Jan 2019   Prob (F-statistic):            0.00202\n",
      "Time:                        10:56:34   Log-Likelihood:                -158.37\n",
      "No. Observations:                 241   AIC:                             338.7\n",
      "Df Residuals:                     230   BIC:                             377.1\n",
      "Df Model:                          10                                         \n",
      "Covariance Type:            nonrobust                                         \n",
      "=======================================================================================\n",
      "                          coef    std err          t      P>|t|      [0.025      0.975]\n",
      "---------------------------------------------------------------------------------------\n",
      "Intercept               1.0422      0.410      2.542      0.012       0.234       1.850\n",
      "Age_donor              -0.0028      0.002     -1.352      0.178      -0.007       0.001\n",
      "Aspirations_donor      -0.0602      0.032     -1.852      0.065      -0.124       0.004\n",
      "BMI_donor               0.0058      0.008      0.690      0.491      -0.011       0.022\n",
      "Donneur_CPT           1.54e-05   2.84e-05      0.542      0.588   -4.05e-05    7.13e-05\n",
      "Insuffisance_renale    -0.1270      0.281     -0.451      0.652      -0.682       0.427\n",
      "LAS                    -0.0105      0.003     -3.249      0.001      -0.017      -0.004\n",
      "PAPS                   -0.0002      0.004     -0.053      0.958      -0.007       0.007\n",
      "PFO                    -0.1749      0.117     -1.498      0.135      -0.405       0.055\n",
      "PF_donor                0.0005      0.000      1.394      0.165      -0.000       0.001\n",
      "Poids                  -0.0061      0.002     -2.958      0.003      -0.010      -0.002\n",
      "==============================================================================\n",
      "Omnibus:                        1.011   Durbin-Watson:                   2.004\n",
      "Prob(Omnibus):                  0.603   Jarque-Bera (JB):               27.651\n",
      "Skew:                           0.155   Prob(JB):                     9.90e-07\n",
      "Kurtosis:                       1.370   Cond. No.                     8.36e+04\n",
      "==============================================================================\n",
      "\n",
      "Warnings:\n",
      "[1] Standard Errors assume that the covariance matrix of the errors is correctly specified.\n",
      "[2] The condition number is large, 8.36e+04. This might indicate that there are\n",
      "strong multicollinearity or other numerical problems.\n"
     ]
    }
   ],
   "source": [
    "results = smf.ols('target ~ '+liste_10_premiers_static, data=X_train).fit()\n",
    "\n",
    "print(results.summary())"
   ]
  },
  {
   "cell_type": "code",
   "execution_count": null,
   "metadata": {},
   "outputs": [],
   "source": []
  }
 ],
 "metadata": {
  "kernelspec": {
   "display_name": "Python 3",
   "language": "python",
   "name": "python3"
  },
  "language_info": {
   "codemirror_mode": {
    "name": "ipython",
    "version": 3
   },
   "file_extension": ".py",
   "mimetype": "text/x-python",
   "name": "python",
   "nbconvert_exporter": "python",
   "pygments_lexer": "ipython3",
   "version": "3.7.1"
  }
 },
 "nbformat": 4,
 "nbformat_minor": 2
}
