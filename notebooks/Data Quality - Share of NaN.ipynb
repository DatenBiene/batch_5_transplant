{
 "cells": [
  {
   "cell_type": "markdown",
   "metadata": {},
   "source": [
    "### Exploration - Part de valeurs NaN"
   ]
  },
  {
   "cell_type": "code",
   "execution_count": 18,
   "metadata": {
    "collapsed": true
   },
   "outputs": [],
   "source": [
    "from transplant.visualization.graph import *\n",
    "from transplant.config import * \n",
    "import pandas as pd\n",
    "import numpy as np"
   ]
  },
  {
   "cell_type": "markdown",
   "metadata": {},
   "source": [
    "Notebook pour mesurer la part des valeurs NaN au sein des données dynamiques"
   ]
  },
  {
   "cell_type": "code",
   "execution_count": 3,
   "metadata": {
    "collapsed": true
   },
   "outputs": [],
   "source": [
    "df = pd.read_csv(PATH_DYNAMIC_CLEAN)"
   ]
  },
  {
   "cell_type": "code",
   "execution_count": 57,
   "metadata": {
    "collapsed": true
   },
   "outputs": [],
   "source": [
    "df_stacked = df.set_index(['id_patient', 'time']).stack(dropna=False).reset_index()\n",
    "df_stacked.columns = ['id_patient', 'time', 'metric', 'value']"
   ]
  },
  {
   "cell_type": "code",
   "execution_count": 58,
   "metadata": {
    "collapsed": true
   },
   "outputs": [],
   "source": [
    "df_stacked['nan'] = df_stacked['value'].isna()"
   ]
  },
  {
   "cell_type": "code",
   "execution_count": 60,
   "metadata": {},
   "outputs": [
    {
     "data": {
      "text/plain": [
       "metric\n",
       "PODmoy          0.960598\n",
       "MAC             0.885820\n",
       "FICO2 (mmHg)    0.851900\n",
       "ETCO2 (mmHg)    0.844965\n",
       "Pplat           0.648466\n",
       "DC              0.585287\n",
       "SvO2 (m)        0.526609\n",
       "FR(ecg)         0.517505\n",
       "ET Des.         0.335367\n",
       "BIS SR          0.305904\n",
       "B.I.S           0.296752\n",
       "PAPsys          0.088463\n",
       "PAPmoy          0.088463\n",
       "PAPdia          0.088463\n",
       "PNIm            0.051129\n",
       "PNIs            0.048587\n",
       "PNId            0.048587\n",
       "Temp            0.031480\n",
       "PASm            0.014966\n",
       "PASs            0.014966\n",
       "PASd            0.014966\n",
       "NMTratio        0.013816\n",
       "FR              0.002085\n",
       "VT              0.002085\n",
       "FiO2            0.001106\n",
       "NMT TOF         0.001106\n",
       "PEEPtotal       0.001106\n",
       "FICO2           0.001106\n",
       "ETO2            0.001106\n",
       "Pmax            0.001106\n",
       "ETCO2           0.001106\n",
       "ET Sevo.        0.001106\n",
       "Pmean           0.001106\n",
       "RR(co2)         0.001106\n",
       "FIN2O           0.001106\n",
       "FC              0.000000\n",
       "SpO2            0.000000\n",
       "Name: nan, dtype: float64"
      ]
     },
     "execution_count": 60,
     "metadata": {},
     "output_type": "execute_result"
    }
   ],
   "source": [
    "df_stacked.groupby('metric')['nan'].apply(lambda x: x.sum() / x.count()).sort_values(ascending=False)"
   ]
  },
  {
   "cell_type": "code",
   "execution_count": null,
   "metadata": {
    "collapsed": true
   },
   "outputs": [],
   "source": []
  }
 ],
 "metadata": {
  "kernelspec": {
   "display_name": "Python 3",
   "language": "python",
   "name": "python3"
  },
  "language_info": {
   "codemirror_mode": {
    "name": "ipython",
    "version": 3
   },
   "file_extension": ".py",
   "mimetype": "text/x-python",
   "name": "python",
   "nbconvert_exporter": "python",
   "pygments_lexer": "ipython3",
   "version": "3.6.1"
  }
 },
 "nbformat": 4,
 "nbformat_minor": 2
}
