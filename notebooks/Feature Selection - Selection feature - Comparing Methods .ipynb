{
 "cells": [
  {
   "cell_type": "code",
   "execution_count": 1,
   "metadata": {},
   "outputs": [
    {
     "data": {
      "text/html": [
       "<div id=\"my_id_menu_nb\">run previous cell, wait for 2 seconds</div>\n",
       "<script>\n",
       "function repeat_indent_string(n){\n",
       "    var a = \"\" ;\n",
       "    for ( ; n > 0 ; --n)\n",
       "        a += \"    \";\n",
       "    return a;\n",
       "}\n",
       "// look up into all sections and builds an automated menu //\n",
       "var update_menu_string = function(begin, lfirst, llast, sformat, send, keep_item, begin_format, end_format) {\n",
       "    var anchors = document.getElementsByClassName(\"section\");\n",
       "    if (anchors.length == 0) {\n",
       "        anchors = document.getElementsByClassName(\"text_cell_render rendered_html\");\n",
       "    }\n",
       "    var i,t;\n",
       "    var text_menu = begin;\n",
       "    var text_memo = \"<pre>\\nlength:\" + anchors.length + \"\\n\";\n",
       "    var ind = \"\";\n",
       "    var memo_level = 1;\n",
       "    var href;\n",
       "    var tags = [];\n",
       "    var main_item = 0;\n",
       "    var format_open = 0;\n",
       "    for (i = 0; i <= llast; i++)\n",
       "        tags.push(\"h\" + i);\n",
       "\n",
       "    for (i = 0; i < anchors.length; i++) {\n",
       "        text_memo += \"**\" + anchors[i].id + \"--\\n\";\n",
       "\n",
       "        var child = null;\n",
       "        for(t = 0; t < tags.length; t++) {\n",
       "            var r = anchors[i].getElementsByTagName(tags[t]);\n",
       "            if (r.length > 0) {\n",
       "child = r[0];\n",
       "break;\n",
       "            }\n",
       "        }\n",
       "        if (child == null) {\n",
       "            text_memo += \"null\\n\";\n",
       "            continue;\n",
       "        }\n",
       "        if (anchors[i].hasAttribute(\"id\")) {\n",
       "            // when converted in RST\n",
       "            href = anchors[i].id;\n",
       "            text_memo += \"#1-\" + href;\n",
       "            // passer à child suivant (le chercher)\n",
       "        }\n",
       "        else if (child.hasAttribute(\"id\")) {\n",
       "            // in a notebook\n",
       "            href = child.id;\n",
       "            text_memo += \"#2-\" + href;\n",
       "        }\n",
       "        else {\n",
       "            text_memo += \"#3-\" + \"*\" + \"\\n\";\n",
       "            continue;\n",
       "        }\n",
       "        var title = child.textContent;\n",
       "        var level = parseInt(child.tagName.substring(1,2));\n",
       "\n",
       "        text_memo += \"--\" + level + \"?\" + lfirst + \"--\" + title + \"\\n\";\n",
       "\n",
       "        if ((level < lfirst) || (level > llast)) {\n",
       "            continue ;\n",
       "        }\n",
       "        if (title.endsWith('¶')) {\n",
       "            title = title.substring(0,title.length-1).replace(\"<\", \"&lt;\")\n",
       "         .replace(\">\", \"&gt;\").replace(\"&\", \"&amp;\");\n",
       "        }\n",
       "        if (title.length == 0) {\n",
       "            continue;\n",
       "        }\n",
       "\n",
       "        while (level < memo_level) {\n",
       "            text_menu += end_format + \"</ul>\\n\";\n",
       "            format_open -= 1;\n",
       "            memo_level -= 1;\n",
       "        }\n",
       "        if (level == lfirst) {\n",
       "            main_item += 1;\n",
       "        }\n",
       "        if (keep_item != -1 && main_item != keep_item + 1) {\n",
       "            // alert(main_item + \" - \" + level + \" - \" + keep_item);\n",
       "            continue;\n",
       "        }\n",
       "        while (level > memo_level) {\n",
       "            text_menu += \"<ul>\\n\";\n",
       "            memo_level += 1;\n",
       "        }\n",
       "        text_menu += repeat_indent_string(level-2);\n",
       "        text_menu += begin_format + sformat.replace(\"__HREF__\", href).replace(\"__TITLE__\", title);\n",
       "        format_open += 1;\n",
       "    }\n",
       "    while (1 < memo_level) {\n",
       "        text_menu += end_format + \"</ul>\\n\";\n",
       "        memo_level -= 1;\n",
       "        format_open -= 1;\n",
       "    }\n",
       "    text_menu += send;\n",
       "    //text_menu += \"\\n\" + text_memo;\n",
       "\n",
       "    while (format_open > 0) {\n",
       "        text_menu += end_format;\n",
       "        format_open -= 1;\n",
       "    }\n",
       "    return text_menu;\n",
       "};\n",
       "var update_menu = function() {\n",
       "    var sbegin = \"\";\n",
       "    var sformat = '<a href=\"#__HREF__\">__TITLE__</a>';\n",
       "    var send = \"\";\n",
       "    var begin_format = '<li>';\n",
       "    var end_format = '</li>';\n",
       "    var keep_item = -1;\n",
       "    var text_menu = update_menu_string(sbegin, 2, 4, sformat, send, keep_item,\n",
       "       begin_format, end_format);\n",
       "    var menu = document.getElementById(\"my_id_menu_nb\");\n",
       "    menu.innerHTML=text_menu;\n",
       "};\n",
       "window.setTimeout(update_menu,2000);\n",
       "            </script>"
      ],
      "text/plain": [
       "<IPython.core.display.HTML object>"
      ]
     },
     "execution_count": 1,
     "metadata": {},
     "output_type": "execute_result"
    }
   ],
   "source": [
    "from jyquickhelper import add_notebook_menu\n",
    "add_notebook_menu()"
   ]
  },
  {
   "cell_type": "code",
   "execution_count": 2,
   "metadata": {},
   "outputs": [],
   "source": [
    "import warnings\n",
    "warnings.filterwarnings('ignore')"
   ]
  },
  {
   "cell_type": "markdown",
   "metadata": {},
   "source": [
    "# Comparaisons méthodes de sélection de features "
   ]
  },
  {
   "cell_type": "markdown",
   "metadata": {},
   "source": [
    "Dans ce notebook on essaye de sélectionner des features qui semblent signifiant pour une étude avec des modèles plus poussés.\n",
    "\n",
    "On utilise :\n",
    "\n",
    "    -La fonction SelectKBest utilisé avec une chi2\n",
    "    -Une méthode de Recursive Feature Elimination essayée avec 5 modèles "
   ]
  },
  {
   "cell_type": "markdown",
   "metadata": {},
   "source": [
    "## Librairies "
   ]
  },
  {
   "cell_type": "code",
   "execution_count": 3,
   "metadata": {},
   "outputs": [],
   "source": [
    "import pandas as pd\n",
    "import numpy as np\n",
    "from sklearn.feature_selection import SelectKBest\n",
    "from sklearn.feature_selection import chi2"
   ]
  },
  {
   "cell_type": "markdown",
   "metadata": {},
   "source": [
    "## Data"
   ]
  },
  {
   "cell_type": "code",
   "execution_count": 4,
   "metadata": {
    "scrolled": true
   },
   "outputs": [],
   "source": [
    "from transplant.data.learningset import Learningset\n",
    "\n",
    "learningset = Learningset()\n",
    "\n",
    "X_train, X_test = learningset.get_data_merged_dynamic_flatten_full(full_df=True)"
   ]
  },
  {
   "cell_type": "code",
   "execution_count": 5,
   "metadata": {},
   "outputs": [],
   "source": [
    "X=X_train.drop(['target','id_patient'],axis=1).apply(np.absolute)\n",
    "# Il y a des valeurs négatives mais je ne sais pas où encore\n",
    "Y=X_train['target']\n",
    "\n",
    "X_col=X.columns"
   ]
  },
  {
   "cell_type": "markdown",
   "metadata": {},
   "source": [
    "## Selection Avec SelectKBest et test chi-2"
   ]
  },
  {
   "cell_type": "markdown",
   "metadata": {},
   "source": [
    "Je ne sais pas encore bien ce que cela fait."
   ]
  },
  {
   "cell_type": "code",
   "execution_count": 6,
   "metadata": {},
   "outputs": [],
   "source": [
    "nombre_de_feature=20 # ici on chosit le nombre de variable à \"shortlister\"\n",
    "\n",
    "selection_best_feature = SelectKBest(score_func=chi2, k=nombre_de_feature)\n",
    "selected_feat_fit = selection_best_feature.fit(X, Y)"
   ]
  },
  {
   "cell_type": "code",
   "execution_count": 7,
   "metadata": {},
   "outputs": [
    {
     "data": {
      "text/plain": [
       "Index(['Age_donor', 'LAS', 'PF_donor', 'Poids', 'Tabagisme_donor',\n",
       "       'time_on_waiting_liste', 'start_operation_day', 'ends_operation_day',\n",
       "       'B.I.S_mean', 'VT_mean', 'BIS SR_std', 'SpO2_std', 'B.I.S_max',\n",
       "       'BIS SR_max', 'VT_max', 'FC_min', 'FiO2_min', 'PAPdia_min', 'PASm_min',\n",
       "       'SpO2_min'],\n",
       "      dtype='object')"
      ]
     },
     "execution_count": 7,
     "metadata": {},
     "output_type": "execute_result"
    }
   ],
   "source": [
    "selection_featur_selectKbest=X_col[selected_feat_fit.get_support()]\n",
    "selection_featur_selectKbest"
   ]
  },
  {
   "cell_type": "code",
   "execution_count": null,
   "metadata": {},
   "outputs": [],
   "source": []
  },
  {
   "cell_type": "markdown",
   "metadata": {},
   "source": [
    "## Selection avec Recursive Feature Elimination"
   ]
  },
  {
   "cell_type": "code",
   "execution_count": 8,
   "metadata": {
    "scrolled": true
   },
   "outputs": [],
   "source": [
    "from sklearn.feature_selection import RFE\n",
    "from sklearn.linear_model import LogisticRegression\n",
    "\n",
    "from sklearn.ensemble import (RandomForestClassifier, AdaBoostClassifier,\n",
    "                              GradientBoostingClassifier, ExtraTreesClassifier)\n"
   ]
  },
  {
   "cell_type": "code",
   "execution_count": 9,
   "metadata": {},
   "outputs": [],
   "source": [
    "nombre_de_feature=20 # ici on chosit le nombre de variable à \"shortlister\""
   ]
  },
  {
   "cell_type": "markdown",
   "metadata": {},
   "source": [
    "### RFE with Logistic Regression"
   ]
  },
  {
   "cell_type": "code",
   "execution_count": 10,
   "metadata": {},
   "outputs": [],
   "source": [
    "log_reg = LogisticRegression()\n",
    "rfe_log_reg = RFE(log_reg, nombre_de_feature)\n",
    "fit_log_reg = rfe_log_reg.fit(X, Y)"
   ]
  },
  {
   "cell_type": "code",
   "execution_count": 11,
   "metadata": {},
   "outputs": [
    {
     "data": {
      "text/plain": [
       "Index(['Aspirations_donor', 'PFO', 'preoperative_mechanical_ventilation',\n",
       "       'preoperative_vasopressor', 'retransplant', 'sexe',\n",
       "       'thoracic_surgery_history', 'BIS SR_mean', 'ETCO2_mean', 'PASd_mean',\n",
       "       'PASm_mean', 'PEEPtotal_mean', 'declampage_cote1_done_mean',\n",
       "       'declampage_cote2_done_mean', 'BIS SR_std', 'PNId_std', 'PNIm_std',\n",
       "       'declampage_cote1_done_std', 'declampage_cote2_done_std', 'FR_min'],\n",
       "      dtype='object')"
      ]
     },
     "execution_count": 11,
     "metadata": {},
     "output_type": "execute_result"
    }
   ],
   "source": [
    "selection_featur_logreg=X_col[fit_log_reg.support_]\n",
    "selection_featur_logreg"
   ]
  },
  {
   "cell_type": "markdown",
   "metadata": {},
   "source": [
    "### RFE with Random Forest"
   ]
  },
  {
   "cell_type": "code",
   "execution_count": 12,
   "metadata": {},
   "outputs": [],
   "source": [
    "rf = RandomForestClassifier()\n",
    "rfe_rf = RFE(rf, nombre_de_feature)\n",
    "fit_rf = rfe_rf.fit(X, Y)"
   ]
  },
  {
   "cell_type": "code",
   "execution_count": 13,
   "metadata": {},
   "outputs": [
    {
     "data": {
      "text/plain": [
       "Index(['LAS', 'Poids', 'body_mass_index', 'ETCO2_mean', 'FiO2_mean',\n",
       "       'PASm_mean', 'Pmax_mean', 'SpO2_mean', 'Temp_mean',\n",
       "       'declampage_cote2_done_mean', 'FC_std', 'FiO2_std', 'PASs_std',\n",
       "       'PEEPtotal_std', 'Temp_std', 'VT_std', 'declampage_cote1_done_std',\n",
       "       'FC_max', 'PAPsys_max', 'PASm_max'],\n",
       "      dtype='object')"
      ]
     },
     "execution_count": 13,
     "metadata": {},
     "output_type": "execute_result"
    }
   ],
   "source": [
    "selection_featur_rf=X_col[fit_rf.support_]\n",
    "selection_featur_rf"
   ]
  },
  {
   "cell_type": "markdown",
   "metadata": {},
   "source": [
    "### RFE with AdaBoost"
   ]
  },
  {
   "cell_type": "code",
   "execution_count": 14,
   "metadata": {},
   "outputs": [],
   "source": [
    "ada = AdaBoostClassifier()\n",
    "rfe_ada = RFE(ada, nombre_de_feature)\n",
    "fit_ada = rfe_ada.fit(X, Y)"
   ]
  },
  {
   "cell_type": "code",
   "execution_count": 15,
   "metadata": {},
   "outputs": [
    {
     "data": {
      "text/plain": [
       "Index(['LAS', 'Poids', 'oto_score', 'ETCO2_mean', 'PASs_mean',\n",
       "       'PEEPtotal_mean', 'Pmax_mean', 'SpO2_mean', 'Temp_mean', 'VT_mean',\n",
       "       'FC_std', 'FiO2_std', 'PAPmoy_std', 'PAPsys_std', 'PEEPtotal_std',\n",
       "       'PNId_std', 'Pmax_std', 'SvO2 (m)_std', 'PAPsys_max', 'PASm_max'],\n",
       "      dtype='object')"
      ]
     },
     "execution_count": 15,
     "metadata": {},
     "output_type": "execute_result"
    }
   ],
   "source": [
    "selection_featur_ada=X_col[fit_ada.support_]\n",
    "selection_featur_ada"
   ]
  },
  {
   "cell_type": "markdown",
   "metadata": {},
   "source": [
    "### RFE with Gradient Boosting"
   ]
  },
  {
   "cell_type": "code",
   "execution_count": 16,
   "metadata": {},
   "outputs": [],
   "source": [
    "gb = GradientBoostingClassifier()\n",
    "rfe_gb = RFE(gb, nombre_de_feature)\n",
    "fit_gb = rfe_gb.fit(X, Y)"
   ]
  },
  {
   "cell_type": "code",
   "execution_count": 17,
   "metadata": {},
   "outputs": [
    {
     "data": {
      "text/plain": [
       "Index(['Age_donor', 'LAS', 'Poids', 'body_mass_index', 'oto_score',\n",
       "       'ETCO2_mean', 'FiO2_mean', 'PASs_mean', 'SpO2_mean', 'Temp_mean',\n",
       "       'FC_std', 'FR_std', 'FiO2_std', 'PEEPtotal_std', 'SvO2 (m)_std',\n",
       "       'Temp_std', 'PAPsys_max', 'PASm_max', 'FC_min', 'PASm_min'],\n",
       "      dtype='object')"
      ]
     },
     "execution_count": 17,
     "metadata": {},
     "output_type": "execute_result"
    }
   ],
   "source": [
    "selection_featur_gb=X_col[fit_gb.support_]\n",
    "selection_featur_gb"
   ]
  },
  {
   "cell_type": "markdown",
   "metadata": {},
   "source": [
    "### RFE with Extra Trees "
   ]
  },
  {
   "cell_type": "code",
   "execution_count": 18,
   "metadata": {},
   "outputs": [],
   "source": [
    "et = ExtraTreesClassifier()\n",
    "rfe_et = RFE(et, nombre_de_feature)\n",
    "fit_et = rfe_et.fit(X, Y)"
   ]
  },
  {
   "cell_type": "code",
   "execution_count": 19,
   "metadata": {},
   "outputs": [
    {
     "data": {
      "text/plain": [
       "Index(['LAS', 'Poids', 'body_mass_index', 'oto_score', 'start_operation_day',\n",
       "       'ends_operation_day', 'ETCO2_mean', 'FC_mean', 'FiO2_mean', 'PASs_mean',\n",
       "       'PNIs_mean', 'SpO2_mean', 'Temp_mean', 'declampage_cote2_done_mean',\n",
       "       'FiO2_std', 'PAPsys_std', 'PEEPtotal_std', 'SpO2_std', 'Temp_std',\n",
       "       'PAPdia_max'],\n",
       "      dtype='object')"
      ]
     },
     "execution_count": 19,
     "metadata": {},
     "output_type": "execute_result"
    }
   ],
   "source": [
    "selection_featur_et=X_col[fit_et.support_]\n",
    "selection_featur_et"
   ]
  },
  {
   "cell_type": "markdown",
   "metadata": {},
   "source": [
    "## Comparaison des RFE "
   ]
  },
  {
   "cell_type": "markdown",
   "metadata": {},
   "source": [
    "Principe du vote :"
   ]
  },
  {
   "cell_type": "markdown",
   "metadata": {},
   "source": [
    "Ces features sont dans toutes les listes des méthodes d'ensembles"
   ]
  },
  {
   "cell_type": "code",
   "execution_count": 20,
   "metadata": {},
   "outputs": [
    {
     "data": {
      "text/plain": [
       "{'ETCO2_mean',\n",
       " 'FiO2_std',\n",
       " 'LAS',\n",
       " 'PEEPtotal_std',\n",
       " 'Poids',\n",
       " 'SpO2_mean',\n",
       " 'Temp_mean'}"
      ]
     },
     "execution_count": 20,
     "metadata": {},
     "output_type": "execute_result"
    }
   ],
   "source": [
    "vote_features_ensembles=set(selection_featur_et) & set(selection_featur_rf) & set(selection_featur_ada) & set(selection_featur_gb)\n",
    "vote_features_ensembles"
   ]
  },
  {
   "cell_type": "markdown",
   "metadata": {},
   "source": [
    "Ces features sont dans toutes les méthodes ensemblistes et dans le modèle linéaire"
   ]
  },
  {
   "cell_type": "code",
   "execution_count": 22,
   "metadata": {
    "scrolled": true
   },
   "outputs": [
    {
     "data": {
      "text/plain": [
       "{'ETCO2_mean'}"
      ]
     },
     "execution_count": 22,
     "metadata": {},
     "output_type": "execute_result"
    }
   ],
   "source": [
    "set(selection_featur_logreg) & vote_features_ensembles"
   ]
  },
  {
   "cell_type": "markdown",
   "metadata": {},
   "source": [
    "Ces features sont dans toutes les méthodes ensemblistes et le résultat des tests du chi2"
   ]
  },
  {
   "cell_type": "code",
   "execution_count": 24,
   "metadata": {},
   "outputs": [
    {
     "data": {
      "text/plain": [
       "{'LAS', 'Poids'}"
      ]
     },
     "execution_count": 24,
     "metadata": {},
     "output_type": "execute_result"
    }
   ],
   "source": [
    "vote_features_best_ensemble=set(selection_featur_selectKbest) & vote_features_ensembles\n",
    "vote_features_best_ensemble"
   ]
  },
  {
   "cell_type": "markdown",
   "metadata": {},
   "source": [
    "Ces features sont dans le modèle linéaire et le résultat des tests du chi2"
   ]
  },
  {
   "cell_type": "code",
   "execution_count": 25,
   "metadata": {
    "scrolled": true
   },
   "outputs": [
    {
     "data": {
      "text/plain": [
       "{'BIS SR_std'}"
      ]
     },
     "execution_count": 25,
     "metadata": {},
     "output_type": "execute_result"
    }
   ],
   "source": [
    "vote_features_best_lineaire=set(selection_featur_logreg) & set(selection_featur_selectKbest)\n",
    "vote_features_best_lineaire"
   ]
  },
  {
   "cell_type": "markdown",
   "metadata": {},
   "source": [
    "## Idées de choix de features"
   ]
  },
  {
   "cell_type": "markdown",
   "metadata": {},
   "source": [
    "On peut par exemple utiliser la liste :"
   ]
  },
  {
   "cell_type": "code",
   "execution_count": 26,
   "metadata": {},
   "outputs": [
    {
     "data": {
      "text/plain": [
       "['PEEPtotal_std',\n",
       " 'Temp_mean',\n",
       " 'ETCO2_mean',\n",
       " 'FiO2_std',\n",
       " 'LAS',\n",
       " 'Poids',\n",
       " 'SpO2_mean',\n",
       " 'BIS SR_std']"
      ]
     },
     "execution_count": 26,
     "metadata": {},
     "output_type": "execute_result"
    }
   ],
   "source": [
    "list(vote_features_ensembles)+list(vote_features_best_lineaire)"
   ]
  },
  {
   "cell_type": "markdown",
   "metadata": {},
   "source": [
    "ou pourquoi pas :"
   ]
  },
  {
   "cell_type": "code",
   "execution_count": 27,
   "metadata": {},
   "outputs": [
    {
     "data": {
      "text/plain": [
       "['PEEPtotal_std',\n",
       " 'Temp_mean',\n",
       " 'ETCO2_mean',\n",
       " 'FiO2_std',\n",
       " 'LAS',\n",
       " 'Poids',\n",
       " 'SpO2_mean',\n",
       " 'Age_donor',\n",
       " 'LAS',\n",
       " 'PF_donor',\n",
       " 'Poids',\n",
       " 'Tabagisme_donor',\n",
       " 'time_on_waiting_liste',\n",
       " 'start_operation_day',\n",
       " 'ends_operation_day',\n",
       " 'B.I.S_mean',\n",
       " 'VT_mean',\n",
       " 'BIS SR_std',\n",
       " 'SpO2_std',\n",
       " 'B.I.S_max',\n",
       " 'BIS SR_max',\n",
       " 'VT_max',\n",
       " 'FC_min',\n",
       " 'FiO2_min',\n",
       " 'PAPdia_min',\n",
       " 'PASm_min',\n",
       " 'SpO2_min']"
      ]
     },
     "execution_count": 27,
     "metadata": {},
     "output_type": "execute_result"
    }
   ],
   "source": [
    "list(vote_features_ensembles)+list(selection_featur_selectKbest)"
   ]
  },
  {
   "cell_type": "code",
   "execution_count": null,
   "metadata": {},
   "outputs": [],
   "source": []
  }
 ],
 "metadata": {
  "kernelspec": {
   "display_name": "Python 3",
   "language": "python",
   "name": "python3"
  },
  "language_info": {
   "codemirror_mode": {
    "name": "ipython",
    "version": 3
   },
   "file_extension": ".py",
   "mimetype": "text/x-python",
   "name": "python",
   "nbconvert_exporter": "python",
   "pygments_lexer": "ipython3",
   "version": "3.7.1"
  }
 },
 "nbformat": 4,
 "nbformat_minor": 2
}
