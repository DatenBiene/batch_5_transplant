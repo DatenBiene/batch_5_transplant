{
 "cells": [
  {
   "cell_type": "markdown",
   "metadata": {},
   "source": [
    "# Création automatique des tables de dimensions"
   ]
  },
  {
   "cell_type": "code",
   "execution_count": 3,
   "metadata": {},
   "outputs": [],
   "source": [
    "from scripts.config import *\n",
    "import glob\n",
    "import pandas as pd\n",
    "from tqdm import tqdm"
   ]
  },
  {
   "cell_type": "markdown",
   "metadata": {},
   "source": [
    "## Fixing root path issues in `config.py`"
   ]
  },
  {
   "cell_type": "code",
   "execution_count": 4,
   "metadata": {},
   "outputs": [
    {
     "ename": "AttributeError",
     "evalue": "module 'os' has no attribute 'PathLike'",
     "output_type": "error",
     "traceback": [
      "\u001b[0;31m---------------------------------------------------------------------------\u001b[0m",
      "\u001b[0;31mAttributeError\u001b[0m                            Traceback (most recent call last)",
      "\u001b[0;32m<ipython-input-4-9c779ddf5767>\u001b[0m in \u001b[0;36m<module>\u001b[0;34m()\u001b[0m\n\u001b[1;32m      3\u001b[0m \u001b[0;34m\u001b[0m\u001b[0m\n\u001b[1;32m      4\u001b[0m \u001b[0mos\u001b[0m\u001b[0;34m.\u001b[0m\u001b[0mpath\u001b[0m\u001b[0;34m.\u001b[0m\u001b[0mdirname\u001b[0m\u001b[0;34m(\u001b[0m\u001b[0mos\u001b[0m\u001b[0;34m.\u001b[0m\u001b[0mgetcwd\u001b[0m\u001b[0;34m(\u001b[0m\u001b[0;34m)\u001b[0m\u001b[0;34m)\u001b[0m\u001b[0;34m\u001b[0m\u001b[0m\n\u001b[0;32m----> 5\u001b[0;31m \u001b[0mos\u001b[0m\u001b[0;34m.\u001b[0m\u001b[0mPathLike\u001b[0m\u001b[0;34m(\u001b[0m\u001b[0;34m)\u001b[0m\u001b[0;34m\u001b[0m\u001b[0m\n\u001b[0m",
      "\u001b[0;31mAttributeError\u001b[0m: module 'os' has no attribute 'PathLike'"
     ]
    }
   ],
   "source": [
    "import os\n",
    "import sys\n",
    "\n",
    "os.path.dirname(os.getcwd())\n",
    "os.PathLike()"
   ]
  },
  {
   "cell_type": "markdown",
   "metadata": {},
   "source": [
    "## Resolve files name pattern from upload\n",
    "\n",
    "La solution la plus rapide est d'utiliser une regex et la librairie glob.\n",
    "\n",
    "- `Bloc*.xls*` pour les données des machines ex: __Bloc1D4G.xls__\n",
    "- `base LgTx *.xls*` pour les données des patients et donneur ex: __base LgTx IA 24oct2018__"
   ]
  },
  {
   "cell_type": "code",
   "execution_count": 6,
   "metadata": {},
   "outputs": [
    {
     "name": "stdout",
     "output_type": "stream",
     "text": [
      "Found 8 files\n"
     ]
    },
    {
     "data": {
      "text/plain": [
       "['/Users/yanni-benoit-iyeze/Documents/Data For Good/batch_5_transplant/data/original_data/machines/Bloc3D4G.xls',\n",
       " '/Users/yanni-benoit-iyeze/Documents/Data For Good/batch_5_transplant/data/original_data/machines/Bloc1D4G.xls',\n",
       " '/Users/yanni-benoit-iyeze/Documents/Data For Good/batch_5_transplant/data/original_data/machines/Bloc9D4G.xls',\n",
       " '/Users/yanni-benoit-iyeze/Documents/Data For Good/batch_5_transplant/data/original_data/machines/Bloc7D4G.xls',\n",
       " '/Users/yanni-benoit-iyeze/Documents/Data For Good/batch_5_transplant/data/original_data/machines/Bloc2D4G.xls',\n",
       " '/Users/yanni-benoit-iyeze/Documents/Data For Good/batch_5_transplant/data/original_data/machines/Bloc4D4G.xls',\n",
       " '/Users/yanni-benoit-iyeze/Documents/Data For Good/batch_5_transplant/data/original_data/machines/Bloc8D4G.xls',\n",
       " '/Users/yanni-benoit-iyeze/Documents/Data For Good/batch_5_transplant/data/original_data/machines/Bloc6D4G.xls']"
      ]
     },
     "execution_count": 6,
     "metadata": {},
     "output_type": "execute_result"
    }
   ],
   "source": [
    "path_to_data = DATA_ORIGINAL_MACHINES\n",
    "\n",
    "files = glob.glob('{}{}'.format(path_to_data,FILE_NAME_PATTERN['machines']))\n",
    "\n",
    "print(\"Found {} files\".format(len(files)))\n",
    "files"
   ]
  },
  {
   "cell_type": "code",
   "execution_count": 9,
   "metadata": {},
   "outputs": [
    {
     "name": "stdout",
     "output_type": "stream",
     "text": [
      "base*.xlsx\n",
      "Found 1 files\n"
     ]
    },
    {
     "data": {
      "text/plain": [
       "['/Users/yanni-benoit-iyeze/Documents/Data For Good/batch_5_transplant/data/original_data/patient-donor/base LgTx IA 24oct2018.xlsx']"
      ]
     },
     "execution_count": 9,
     "metadata": {},
     "output_type": "execute_result"
    }
   ],
   "source": [
    "path_to_data = DATA_ORIGINAL_PATIENT\n",
    "\n",
    "print(FILE_NAME_PATTERN['patient-donor'])\n",
    "files = glob.glob('{}{}'.format(path_to_data,FILE_NAME_PATTERN['patient-donor']))\n",
    "\n",
    "print(\"Found {} files\".format(len(files)))\n",
    "files\n"
   ]
  },
  {
   "cell_type": "code",
   "execution_count": 10,
   "metadata": {},
   "outputs": [
    {
     "name": "stderr",
     "output_type": "stream",
     "text": [
      "100%|██████████| 6/6 [00:12<00:00,  2.02s/it]\n"
     ]
    },
    {
     "ename": "TypeError",
     "evalue": "unhashable type: 'slice'",
     "output_type": "error",
     "traceback": [
      "\u001b[0;31m---------------------------------------------------------------------------\u001b[0m",
      "\u001b[0;31mTypeError\u001b[0m                                 Traceback (most recent call last)",
      "\u001b[0;32m<ipython-input-10-307704b63c26>\u001b[0m in \u001b[0;36m<module>\u001b[0;34m()\u001b[0m\n\u001b[1;32m     11\u001b[0m         \u001b[0moutput\u001b[0m\u001b[0;34m.\u001b[0m\u001b[0mupdate\u001b[0m\u001b[0;34m(\u001b[0m\u001b[0minfo\u001b[0m\u001b[0;34m)\u001b[0m\u001b[0;34m\u001b[0m\u001b[0m\n\u001b[1;32m     12\u001b[0m \u001b[0mDIM_MAP_FIELDS\u001b[0m \u001b[0;34m=\u001b[0m \u001b[0moutput\u001b[0m\u001b[0;34m\u001b[0m\u001b[0m\n\u001b[0;32m---> 13\u001b[0;31m \u001b[0moutput\u001b[0m\u001b[0;34m[\u001b[0m\u001b[0;34m:\u001b[0m\u001b[0;36m1\u001b[0m\u001b[0;34m]\u001b[0m\u001b[0;34m\u001b[0m\u001b[0m\n\u001b[0m",
      "\u001b[0;31mTypeError\u001b[0m: unhashable type: 'slice'"
     ]
    }
   ],
   "source": [
    "file = pd.ExcelFile(files[0])\n",
    "output = {}\n",
    "for sheet in tqdm(file.sheet_names):\n",
    "    if sheet not in ['ensemble', 'glossaire']:\n",
    "        df = pd.read_excel(files[0], sheet, index_col=None)\n",
    "        if sheet != 'donneur':\n",
    "            sheet = '{}_{}'.format('patient', sheet)        \n",
    "        info = {\n",
    "        sheet : list(df.columns.values)\n",
    "        }\n",
    "        output.update(info)\n",
    "DIM_MAP_FIELDS = output"
   ]
  },
  {
   "cell_type": "code",
   "execution_count": 11,
   "metadata": {},
   "outputs": [],
   "source": [
    "for name, array in DIM_MAP_FIELDS.items():\n",
    "    df_ = df[df.columns.intersection(array)]\n",
    "    filename = os.path.join('', 'dim_{}.csv'.format(name))\n",
    "    df.to_csv(filename)"
   ]
  },
  {
   "cell_type": "markdown",
   "metadata": {},
   "source": [
    "Déterminer les colonnes partagées par les différentes tables de dimensions."
   ]
  },
  {
   "cell_type": "code",
   "execution_count": 15,
   "metadata": {},
   "outputs": [],
   "source": [
    "df_intra = pd.read_csv('dim_patient_intraoperatoire.csv')\n",
    "df_post = pd.read_csv('dim_patient_postoperatoire.csv')\n",
    "df_pre = pd.read_csv('dim_patient_preoperatoire.csv')"
   ]
  },
  {
   "cell_type": "code",
   "execution_count": 14,
   "metadata": {},
   "outputs": [
    {
     "name": "stdout",
     "output_type": "stream",
     "text": [
      "Index(['Unnamed: 0', 'numero', 'LOS_first_ventilation',\n",
      "       'LOS_total_ventilation', ' immediate_extubation',\n",
      "       'secondary_intubation', 'time_to_secondary_intubation',\n",
      "       'secondary_ECMO', 'delai_recours_ECMO', 'Cause_ECMO_secondaire',\n",
      "       'postoperative_vasopressive_support', 'ACFA', 'PRBC_postop',\n",
      "       'FFP_postop', 'Platelets_postop', 'CVA', 'hemodyalisis', 'tracheostomy',\n",
      "       'reoperation_for_bleeding', 'bleeding', 'lower_limb_complication',\n",
      "       'lower_limb_ischemia', 'scarpa_complication', 'vascular_complications',\n",
      "       'thromboembolic_complication', 'choc_septique',\n",
      "       'cardiac_arrest_during_surgery', 'LOS_ICU', 'LOS_hosp',\n",
      "       'in_hospital_mortality', '30_d_survival', 'P_F_H0', 'PGD_H0',\n",
      "       'P_F_end_surgery', 'PGD_end_surgery', 'time_last_PF', 'PDG_h24',\n",
      "       'PGD_h48', 'PGD3', 'date_de_deces', 'Survival_days_27_10_2018'],\n",
      "      dtype='object')\n",
      "Nb of common columns: 41\n"
     ]
    }
   ],
   "source": [
    "common_columns = df_intra.columns & df_pre.columns & df_post.columns\n",
    "print(common_columns)\n",
    "print(\"Nb of common columns: {}\".format(common_columns.size))"
   ]
  },
  {
   "cell_type": "code",
   "execution_count": 1,
   "metadata": {},
   "outputs": [
    {
     "name": "stdout",
     "output_type": "stream",
     "text": [
      "/Users/yanni-benoit-iyeze/Documents/Data For Good/batch_5_transplant/data/original_data/patient-donor/\n",
      "base*.xlsx\n",
      "['/Users/yanni-benoit-iyeze/Documents/Data For Good/batch_5_transplant/data/original_data/patient-donor/base LgTx IA 24oct2018.xlsx']\n",
      "/Users/yanni-benoit-iyeze/Documents/Data For Good/batch_5_transplant/data/original_data/machines/\n",
      "Bloc*.xls\n",
      "['/Users/yanni-benoit-iyeze/Documents/Data For Good/batch_5_transplant/data/original_data/machines/Bloc3D4G.xls', '/Users/yanni-benoit-iyeze/Documents/Data For Good/batch_5_transplant/data/original_data/machines/Bloc1D4G.xls', '/Users/yanni-benoit-iyeze/Documents/Data For Good/batch_5_transplant/data/original_data/machines/Bloc9D4G.xls', '/Users/yanni-benoit-iyeze/Documents/Data For Good/batch_5_transplant/data/original_data/machines/Bloc7D4G.xls', '/Users/yanni-benoit-iyeze/Documents/Data For Good/batch_5_transplant/data/original_data/machines/Bloc2D4G.xls', '/Users/yanni-benoit-iyeze/Documents/Data For Good/batch_5_transplant/data/original_data/machines/Bloc4D4G.xls', '/Users/yanni-benoit-iyeze/Documents/Data For Good/batch_5_transplant/data/original_data/machines/Bloc8D4G.xls', '/Users/yanni-benoit-iyeze/Documents/Data For Good/batch_5_transplant/data/original_data/machines/Bloc6D4G.xls']\n",
      "Found 1 files ... \n",
      "Importing and cleaning Excel files ...\n",
      "Uploading sheets of the Excel file ...\n"
     ]
    },
    {
     "name": "stderr",
     "output_type": "stream",
     "text": [
      "100%|██████████| 6/6 [00:05<00:00,  1.01it/s]\n"
     ]
    },
    {
     "name": "stdout",
     "output_type": "stream",
     "text": [
      "Found 8 files ... \n",
      "Importing and cleaning Excel files ...\n"
     ]
    },
    {
     "name": "stderr",
     "output_type": "stream",
     "text": [
      "100%|██████████| 8/8 [00:25<00:00,  3.30s/it]\n"
     ]
    },
    {
     "name": "stdout",
     "output_type": "stream",
     "text": [
      "Exporting clean file in  /Users/yanni-benoit-iyeze/Documents/Data For Good/batch_5_transplant/data/clean_data/...\n",
      "Creating the data model in /Users/yanni-benoit-iyeze/Documents/Data For Good/batch_5_transplant/data/clean_data/model/...\n"
     ]
    }
   ],
   "source": [
    "from scripts.parser import Parser\n",
    "parser = Parser()\n",
    "\n",
    "parser.update_tables()"
   ]
  },
  {
   "cell_type": "code",
   "execution_count": null,
   "metadata": {},
   "outputs": [],
   "source": []
  }
 ],
 "metadata": {
  "kernelspec": {
   "display_name": "transplant",
   "language": "python",
   "name": "transplant"
  },
  "language_info": {
   "codemirror_mode": {
    "name": "ipython",
    "version": 3
   },
   "file_extension": ".py",
   "mimetype": "text/x-python",
   "name": "python",
   "nbconvert_exporter": "python",
   "pygments_lexer": "ipython3",
   "version": "3.5.6"
  }
 },
 "nbformat": 4,
 "nbformat_minor": 2
}
