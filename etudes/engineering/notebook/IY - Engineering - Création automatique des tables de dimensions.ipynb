{
 "cells": [
  {
   "cell_type": "markdown",
   "metadata": {},
   "source": [
    "# Création automatique des tables de dimensions"
   ]
  },
  {
   "cell_type": "code",
   "execution_count": 1,
   "metadata": {},
   "outputs": [],
   "source": [
    "from scripts.config import *\n",
    "import glob\n",
    "import pandas as pd"
   ]
  },
  {
   "cell_type": "code",
   "execution_count": 2,
   "metadata": {},
   "outputs": [
    {
     "name": "stdout",
     "output_type": "stream",
     "text": [
      "/Users/yanni-benoit-iyeze/Documents/Data For Good/batch_5_transplant/data/original_data/patient-donor/\n"
     ]
    }
   ],
   "source": [
    "print(DATA_ORIGINAL_PATIENT)\n",
    "\n",
    "path_to_data = DATA_ORIGINAL_PATIENT\n",
    "\n",
    "files = glob.glob('{}*.xlsx'.format(path_to_data))"
   ]
  },
  {
   "cell_type": "code",
   "execution_count": 13,
   "metadata": {},
   "outputs": [
    {
     "data": {
      "text/plain": [
       "dict_keys(['patient_preoperatoire', 'donneur', 'patient_intraoperatoire', 'patient_postoperatoire'])"
      ]
     },
     "execution_count": 13,
     "metadata": {},
     "output_type": "execute_result"
    }
   ],
   "source": [
    "file = pd.ExcelFile(files[0])\n",
    "sheets = file.sheet_names\n",
    "output = {}\n",
    "for sheet in sheets:\n",
    "    if sheet not in ['ensemble', 'glossaire']:\n",
    "        df = pd.read_excel(files[0], sheet, index_col=None)\n",
    "        if sheet != 'donneur':\n",
    "            sheet = '{}_{}'.format('patient', sheet)        \n",
    "        info = {\n",
    "        sheet : list(df.columns.values)\n",
    "        }\n",
    "        output.update(info)\n",
    "DIM_MAP_FIELDS = output\n",
    "output.keys()"
   ]
  },
  {
   "cell_type": "code",
   "execution_count": 12,
   "metadata": {},
   "outputs": [],
   "source": [
    "for name, array in DIM_MAP_FIELDS.items():\n",
    "    df = df[df.columns.intersection(array)]\n",
    "    filename = os.path.join('', 'dim_{}.csv'.format(name))\n",
    "    df.to_csv(filename)"
   ]
  },
  {
   "cell_type": "code",
   "execution_count": null,
   "metadata": {},
   "outputs": [],
   "source": []
  },
  {
   "cell_type": "code",
   "execution_count": null,
   "metadata": {},
   "outputs": [],
   "source": []
  }
 ],
 "metadata": {
  "kernelspec": {
   "display_name": "transplant",
   "language": "python",
   "name": "transplant"
  },
  "language_info": {
   "codemirror_mode": {
    "name": "ipython",
    "version": 3
   },
   "file_extension": ".py",
   "mimetype": "text/x-python",
   "name": "python",
   "nbconvert_exporter": "python",
   "pygments_lexer": "ipython3",
   "version": "3.7.0"
  }
 },
 "nbformat": 4,
 "nbformat_minor": 2
}
