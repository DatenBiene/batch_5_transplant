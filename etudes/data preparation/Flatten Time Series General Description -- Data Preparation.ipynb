{
 "cells": [
  {
   "cell_type": "markdown",
   "metadata": {},
   "source": [
    "Il faut chopper date début, fin , longeur \n",
    "\n",
    "Il faudrait rajouter : \n",
    "\n",
    "    -str deviation \n",
    "    -min \n",
    "    -max\n",
    "    -30 dernières minutes \n",
    "    -etc...\n",
    "    \n",
    "    Mais garder en tête que que ça augmente considérablement la taille de nos features "
   ]
  },
  {
   "cell_type": "code",
   "execution_count": null,
   "metadata": {
    "collapsed": true
   },
   "outputs": [],
   "source": [
    "import warnings\n",
    "warnings.filterwarnings('ignore')"
   ]
  },
  {
   "cell_type": "code",
   "execution_count": null,
   "metadata": {
    "collapsed": true
   },
   "outputs": [],
   "source": [
    "import pandas as pd\n",
    "import numpy as np\n",
    "\n",
    "from transplant.tools.dataset import Dataset\n",
    "dataset=Dataset()"
   ]
  },
  {
   "cell_type": "markdown",
   "metadata": {},
   "source": [
    "Ici on choppe le début , la fin et la longeure de l'opération "
   ]
  },
  {
   "cell_type": "code",
   "execution_count": null,
   "metadata": {},
   "outputs": [],
   "source": [
    "\n",
    "        from transplant.tools.learningset import Learningset\n",
    "        learningset = Learningset()\n",
    "        train_static_0, test_static_0 = learningset.get_static_filled()\n",
    "\n",
    "        train_dynamic_0, test_dynamic_0 = dataset.get_dynamic()\n",
    "\n",
    "        mean_dynamic_train = train_dynamic_0.groupby(['id_patient']).mean().mean()\n",
    "        \n",
    "        train_dynamic_0 = train_dynamic_0.fillna(mean_dynamic_train)\n",
    "        test_dynamic_0 = test_dynamic_0.fillna(mean_dynamic_train)\n",
    "\n",
    "        def add_start_end_length_op_to_static(X_stat, X_dyn):\n",
    "            grouped_time = X_dyn.groupby(['id_patient'])['time']\n",
    "\n",
    "            time_start_df = grouped_time.first().to_frame()\n",
    "            time_start_df.columns = ['start_operation']\n",
    "            time_start_df['id_patient'] = time_start_df.index\n",
    "\n",
    "            X_return = pd.merge(X_stat, time_start_df, on='id_patient')\n",
    "\n",
    "            time_ends_df = grouped_time.last().to_frame()\n",
    "            time_ends_df.columns = ['ends_operation']\n",
    "            time_ends_df['id_patient'] = time_ends_df.index\n",
    "\n",
    "            X_return = pd.merge(X_return, time_ends_df, on='id_patient')\n",
    "\n",
    "            X_return['length_op'] = X_return['ends_operation'] - X_return['start_operation']\n",
    "\n",
    "            return X_return\n",
    "\n",
    "        train_static_1 = add_start_end_length_op_to_static(train_static_0, train_dynamic_0)\n",
    "        test_static_1 = add_start_end_length_op_to_static(test_static_0, test_dynamic_0)\n"
   ]
  },
  {
   "cell_type": "code",
   "execution_count": null,
   "metadata": {
    "collapsed": true
   },
   "outputs": [],
   "source": [
    "from transplant.tools.learningset import Learningset\n",
    "\n",
    "learningset = Learningset()\n",
    "\n",
    "train_static,test_static = learningset.get_static_filled()\n",
    "\n",
    "#Dynamic (flatten)\n",
    "train_dynamic_0, test_dynamic_0 = dataset.get_dynamic()\n",
    "\n",
    "\n",
    "\n",
    "train_dynamic = train_dynamic_0.fillna(0) #Ici contrairement à avant on remplace par des zéro \n",
    "test_dynamic = test_dynamic_0.fillna(0)\n",
    "\n",
    "# Merging\n",
    "def merge_dyn_sta(X_train_static, X_train_dynamic, X_test_static, X_test_dynamic):\n",
    "    return pd.merge(X_train_static, X_train_dynamic, on='id_patient'), pd.merge(X_test_static, X_test_dynamic, on='id_patient')\n"
   ]
  },
  {
   "cell_type": "code",
   "execution_count": null,
   "metadata": {},
   "outputs": [],
   "source": [
    "liste_func=[np.mean,np.std,np.median,max,min]\n",
    "liste_func_name=['mean','std','median','max','min']"
   ]
  },
  {
   "cell_type": "markdown",
   "metadata": {},
   "source": [
    "Avoir le mean"
   ]
  },
  {
   "cell_type": "code",
   "execution_count": null,
   "metadata": {
    "scrolled": true
   },
   "outputs": [],
   "source": [
    "train_glob_0, test_glob_0 = train_static , test_static\n",
    "\n",
    "for i in range(len(liste_func)) :\n",
    "    print('On en est à '+liste_func_name[i])\n",
    "    func=liste_func[i]\n",
    "    \n",
    "    train_grouped=train_dynamic.groupby(['id_patient'], as_index=False) #On enregistre les groupes\n",
    "    test_grouped=test_dynamic.groupby(['id_patient'], as_index=False)\n",
    "    \n",
    "    train_id=train_grouped['id_patient'].apply(np.mean)  #On conserve le id du patient\n",
    "    test_id=test_grouped['id_patient'].apply(np.mean)\n",
    "    \n",
    "   \n",
    "    train_dynamic_flat = train_grouped.apply(func)   #On applique la fonction\n",
    "    test_dynamic_flat = test_grouped.apply(func)\n",
    "\n",
    "    train_dynamic_flat.rename(columns=lambda x: x+'_'+liste_func_name[i] if x!='id_patient' else x, inplace=True)\n",
    "    test_dynamic_flat.rename(columns=lambda x: x+'_'+liste_func_name[i]  if x!='id_patient' else x, inplace=True)\n",
    "    \n",
    "    train_dynamic_flat['id_patient']=train_id\n",
    "    test_dynamic_flat['id_patient']=test_id\n",
    "    \n",
    "    train_glob_0, test_glob_0 = merge_dyn_sta(train_glob_0, train_dynamic_flat, test_glob_0, test_dynamic_flat)\n",
    "    \n"
   ]
  },
  {
   "cell_type": "code",
   "execution_count": null,
   "metadata": {
    "scrolled": true
   },
   "outputs": [],
   "source": []
  },
  {
   "cell_type": "code",
   "execution_count": null,
   "metadata": {},
   "outputs": [],
   "source": [
    "train_glob_0.shape"
   ]
  },
  {
   "cell_type": "code",
   "execution_count": null,
   "metadata": {},
   "outputs": [],
   "source": [
    "print([i for i in train_glob_0.columns])"
   ]
  },
  {
   "cell_type": "code",
   "execution_count": null,
   "metadata": {
    "scrolled": true
   },
   "outputs": [],
   "source": [
    "train_glob_0"
   ]
  },
  {
   "cell_type": "code",
   "execution_count": null,
   "metadata": {},
   "outputs": [],
   "source": []
  },
  {
   "cell_type": "code",
   "execution_count": null,
   "metadata": {},
   "outputs": [],
   "source": [
    "train_dynamic_flat.columns"
   ]
  },
  {
   "cell_type": "code",
   "execution_count": null,
   "metadata": {
    "collapsed": true
   },
   "outputs": [],
   "source": [
    "def center_reduce_data(W_train, W_test):\n",
    "    mean_train = W_train.mean()\n",
    "    std_train = W_test.std()\n",
    "\n",
    "    return (W_train-mean_train)/std_train, (W_test-mean_train)/std_train\n",
    "\n",
    "dic_to_One_Hot = {0: [1, 0], 1: [0, 1]}\n",
    "\n",
    "y_train_cls = np.array(train_glob['target'])\n",
    "y_train_hot = np.array(list(train_glob['target'].map(dic_to_One_Hot)))\n",
    "\n",
    "y_test_cls = np.array(test_glob['target'])\n",
    "y_test_hot = np.array(list(test_glob['target'].map(dic_to_One_Hot)))\n",
    "\n",
    "if centered_reduced:\n",
    "    X_train, X_test = center_reduce_data(train_glob.drop(['target'], axis=1), test_glob.drop(['target'], axis=1))\n",
    "\n",
    "    X_train = np.array(X_train)\n",
    "    X_test = np.array(X_test)\n",
    "\n",
    "else:\n",
    "    X_train = np.array(train_glob.drop(['target'], axis=1))\n",
    "    X_test = np.array(test_glob.drop(['target'], axis=1))\n",
    "\n",
    "        # Return\n",
    "if target_format == \"cls\":\n",
    "    return X_train, X_test, y_train_cls, y_test_cls, train_glob.drop(['target'], axis=1).columns\n",
    "\n",
    "if target_format == \"One_Hot\":\n",
    "    return X_train, X_test, y_train_hot, y_test_hot, train_glob.drop(['target'], axis=1).columns\n"
   ]
  }
 ],
 "metadata": {
  "kernelspec": {
   "display_name": "Python 3",
   "language": "python",
   "name": "python3"
  },
  "language_info": {
   "codemirror_mode": {
    "name": "ipython",
    "version": 3
   },
   "file_extension": ".py",
   "mimetype": "text/x-python",
   "name": "python",
   "nbconvert_exporter": "python",
   "pygments_lexer": "ipython3",
   "version": "3.6.1"
  },
  "varInspector": {
   "cols": {
    "lenName": 16,
    "lenType": 16,
    "lenVar": 40
   },
   "kernels_config": {
    "python": {
     "delete_cmd_postfix": "",
     "delete_cmd_prefix": "del ",
     "library": "var_list.py",
     "varRefreshCmd": "print(var_dic_list())"
    },
    "r": {
     "delete_cmd_postfix": ") ",
     "delete_cmd_prefix": "rm(",
     "library": "var_list.r",
     "varRefreshCmd": "cat(var_dic_list()) "
    }
   },
   "types_to_exclude": [
    "module",
    "function",
    "builtin_function_or_method",
    "instance",
    "_Feature"
   ],
   "window_display": false
  }
 },
 "nbformat": 4,
 "nbformat_minor": 2
}
