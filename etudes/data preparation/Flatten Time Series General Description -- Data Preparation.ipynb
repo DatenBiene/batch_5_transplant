{
 "cells": [
  {
   "cell_type": "markdown",
   "metadata": {},
   "source": [
    "A notebook to explain the function get_data_merged_dynamic_flatten_full(self, target_format=\"cls\", centered_reduced=False)"
   ]
  },
  {
   "cell_type": "code",
   "execution_count": 1,
   "metadata": {},
   "outputs": [
    {
     "name": "stderr",
     "output_type": "stream",
     "text": [
      "C:\\Users\\Delanoue\\Documents\\GitHubRepo\\batch_5_transplant\\transplant\\tools\\learningset.py:133: FutureWarning: 'id_patient' is both a column name and an index level.\n",
      "Defaulting to column but this will raise an ambiguity error in a future version\n",
      "  grouped_time = X_dyn.groupby(['id_patient'])['time']\n",
      "C:\\Users\\Delanoue\\Documents\\GitHubRepo\\batch_5_transplant\\transplant\\tools\\learningset.py:170: FutureWarning: 'id_patient' is both a column name and an index level.\n",
      "Defaulting to column but this will raise an ambiguity error in a future version\n",
      "  train_grouped=train_dynamic_0.drop(['time'],axis=1).groupby(['id_patient'], as_index=False) #On enregistre les groupes\n",
      "C:\\Users\\Delanoue\\Documents\\GitHubRepo\\batch_5_transplant\\transplant\\tools\\learningset.py:171: FutureWarning: 'id_patient' is both a column name and an index level.\n",
      "Defaulting to column but this will raise an ambiguity error in a future version\n",
      "  test_grouped=test_dynamic_0.drop(['time'],axis=1).groupby(['id_patient'], as_index=False)\n"
     ]
    }
   ],
   "source": [
    "from transplant.tools.learningset import Learningset\n",
    "learningset = Learningset()\n",
    "\n",
    "\n",
    "X_train, X_test, y_train, y_test, X_col = learningset.get_data_merged_dynamic_flatten_full(\"cls\", False)"
   ]
  },
  {
   "cell_type": "code",
   "execution_count": 2,
   "metadata": {},
   "outputs": [
    {
     "data": {
      "text/plain": [
       "(182,)"
      ]
     },
     "execution_count": 2,
     "metadata": {},
     "output_type": "execute_result"
    }
   ],
   "source": [
    "X_col.shape"
   ]
  },
  {
   "cell_type": "markdown",
   "metadata": {},
   "source": [
    "Il faut chopper date début, fin , longeur \n",
    "\n",
    "Il faudrait rajouter : \n",
    "\n",
    "    -str deviation \n",
    "    -min \n",
    "    -max\n",
    "    -30 dernières minutes \n",
    "    -etc...\n",
    "    \n",
    "    Mais garder en tête que que ça augmente considérablement la taille de nos features "
   ]
  },
  {
   "cell_type": "code",
   "execution_count": 3,
   "metadata": {
    "collapsed": true
   },
   "outputs": [],
   "source": [
    "import warnings\n",
    "warnings.filterwarnings('ignore')"
   ]
  },
  {
   "cell_type": "code",
   "execution_count": 4,
   "metadata": {
    "collapsed": true
   },
   "outputs": [],
   "source": [
    "import pandas as pd\n",
    "import numpy as np\n",
    "\n",
    "from transplant.tools.dataset import Dataset\n",
    "dataset=Dataset()"
   ]
  },
  {
   "cell_type": "markdown",
   "metadata": {},
   "source": [
    "Ici on choppe le début , la fin et la longeure de l'opération "
   ]
  },
  {
   "cell_type": "code",
   "execution_count": 5,
   "metadata": {
    "collapsed": true
   },
   "outputs": [],
   "source": [
    "from transplant.tools.learningset import Learningset\n",
    "learningset = Learningset()\n",
    "\n",
    "train_static_0, test_static_0 = learningset.get_static_filled()\n",
    "\n",
    "train_dynamic_0, test_dynamic_0 = dataset.get_dynamic()"
   ]
  },
  {
   "cell_type": "code",
   "execution_count": 6,
   "metadata": {
    "collapsed": true
   },
   "outputs": [],
   "source": [
    "train_dynamic_0 = train_dynamic_0.fillna(0)\n",
    "test_dynamic_0 = test_dynamic_0.fillna(0)"
   ]
  },
  {
   "cell_type": "code",
   "execution_count": 56,
   "metadata": {},
   "outputs": [],
   "source": [
    "def add_start_end_length_op_to_static(X_stat, X_dyn):\n",
    "            grouped_time = X_dyn.groupby(['id_patient'])['time']\n",
    "\n",
    "            time_start_df = grouped_time.first().to_frame()\n",
    "            time_start_df.columns = ['start_operation']\n",
    "            time_start_df['id_patient'] = time_start_df.index\n",
    "\n",
    "            X_return = pd.merge(X_stat, time_start_df, on='id_patient')\n",
    "\n",
    "            time_ends_df = grouped_time.last().to_frame()\n",
    "            time_ends_df.columns = ['ends_operation']\n",
    "            time_ends_df['id_patient'] = time_ends_df.index\n",
    "\n",
    "            X_return = pd.merge(X_return, time_ends_df, on='id_patient')\n",
    "\n",
    "            X_return['length_op'] = (X_return['ends_operation'] - X_return['start_operation']).apply(lambda x: x.seconds//60)\n",
    "            \n",
    "            X_return['start_operation_year']=X_return['start_operation'].apply(lambda x: x.year)\n",
    "            X_return['start_operation_month']=X_return['start_operation'].apply(lambda x: x.month)\n",
    "            X_return['start_operation_day']=X_return['start_operation'].apply(lambda x: x.dayofyear)\n",
    "            \n",
    "            \n",
    "            X_return['ends_operation_year']=X_return['ends_operation'].apply(lambda x: x.year)\n",
    "            X_return['ends_operation_month']=X_return['ends_operation'].apply(lambda x: x.month)\n",
    "            X_return['ends_operation_day']=X_return['ends_operation'].apply(lambda x: x.dayofyear)\n",
    "            \n",
    "            print(X_return['length_op'].iloc[0])\n",
    "            print(X_return['ends_operation'].iloc[0])\n",
    "\n",
    "            return X_return.drop(['length_op','ends_operation','start_operation'], axis=1)\n"
   ]
  },
  {
   "cell_type": "code",
   "execution_count": 57,
   "metadata": {},
   "outputs": [
    {
     "name": "stdout",
     "output_type": "stream",
     "text": [
      "473\n",
      "2013-09-09 07:16:00\n",
      "1129\n",
      "2012-06-11 19:53:00\n"
     ]
    }
   ],
   "source": [
    "train_static_1 = add_start_end_length_op_to_static(train_static_0, train_dynamic_0)\n",
    "test_static_1 = add_start_end_length_op_to_static(test_static_0, test_dynamic_0)"
   ]
  },
  {
   "cell_type": "code",
   "execution_count": 58,
   "metadata": {},
   "outputs": [
    {
     "data": {
      "text/html": [
       "<div>\n",
       "<style>\n",
       "    .dataframe thead tr:only-child th {\n",
       "        text-align: right;\n",
       "    }\n",
       "\n",
       "    .dataframe thead th {\n",
       "        text-align: left;\n",
       "    }\n",
       "\n",
       "    .dataframe tbody tr th {\n",
       "        vertical-align: top;\n",
       "    }\n",
       "</style>\n",
       "<table border=\"1\" class=\"dataframe\">\n",
       "  <thead>\n",
       "    <tr style=\"text-align: right;\">\n",
       "      <th></th>\n",
       "      <th>Age_donor</th>\n",
       "      <th>Aspirations_donor</th>\n",
       "      <th>BMI_donor</th>\n",
       "      <th>Donneur_CPT</th>\n",
       "      <th>Insuffisance_renale</th>\n",
       "      <th>LAS</th>\n",
       "      <th>PAPS</th>\n",
       "      <th>PFO</th>\n",
       "      <th>PF_donor</th>\n",
       "      <th>Poids</th>\n",
       "      <th>...</th>\n",
       "      <th>thoracic_surgery_history</th>\n",
       "      <th>time_on_waiting_liste</th>\n",
       "      <th>transplanted_twice_during_study_period</th>\n",
       "      <th>target</th>\n",
       "      <th>start_operation_year</th>\n",
       "      <th>start_operation_month</th>\n",
       "      <th>start_operation_day</th>\n",
       "      <th>ends_operation_year</th>\n",
       "      <th>ends_operation_month</th>\n",
       "      <th>ends_operation_day</th>\n",
       "    </tr>\n",
       "  </thead>\n",
       "  <tbody>\n",
       "    <tr>\n",
       "      <th>0</th>\n",
       "      <td>41</td>\n",
       "      <td>3.0</td>\n",
       "      <td>25.689562</td>\n",
       "      <td>5550.0</td>\n",
       "      <td>0.0</td>\n",
       "      <td>39.3</td>\n",
       "      <td>68.884058</td>\n",
       "      <td>0.0</td>\n",
       "      <td>457.0</td>\n",
       "      <td>43.0</td>\n",
       "      <td>...</td>\n",
       "      <td>0.0</td>\n",
       "      <td>76.0</td>\n",
       "      <td>0.0</td>\n",
       "      <td>1</td>\n",
       "      <td>2013</td>\n",
       "      <td>9</td>\n",
       "      <td>251</td>\n",
       "      <td>2013</td>\n",
       "      <td>9</td>\n",
       "      <td>252</td>\n",
       "    </tr>\n",
       "    <tr>\n",
       "      <th>1</th>\n",
       "      <td>43</td>\n",
       "      <td>2.0</td>\n",
       "      <td>19.531250</td>\n",
       "      <td>4750.0</td>\n",
       "      <td>0.0</td>\n",
       "      <td>31.7</td>\n",
       "      <td>68.884058</td>\n",
       "      <td>0.0</td>\n",
       "      <td>497.0</td>\n",
       "      <td>51.0</td>\n",
       "      <td>...</td>\n",
       "      <td>0.0</td>\n",
       "      <td>47.0</td>\n",
       "      <td>0.0</td>\n",
       "      <td>1</td>\n",
       "      <td>2013</td>\n",
       "      <td>3</td>\n",
       "      <td>64</td>\n",
       "      <td>2013</td>\n",
       "      <td>3</td>\n",
       "      <td>64</td>\n",
       "    </tr>\n",
       "    <tr>\n",
       "      <th>2</th>\n",
       "      <td>51</td>\n",
       "      <td>3.0</td>\n",
       "      <td>28.685145</td>\n",
       "      <td>5250.0</td>\n",
       "      <td>0.0</td>\n",
       "      <td>51.9</td>\n",
       "      <td>55.000000</td>\n",
       "      <td>0.0</td>\n",
       "      <td>240.0</td>\n",
       "      <td>55.0</td>\n",
       "      <td>...</td>\n",
       "      <td>0.0</td>\n",
       "      <td>25.0</td>\n",
       "      <td>0.0</td>\n",
       "      <td>0</td>\n",
       "      <td>2013</td>\n",
       "      <td>7</td>\n",
       "      <td>187</td>\n",
       "      <td>2013</td>\n",
       "      <td>7</td>\n",
       "      <td>187</td>\n",
       "    </tr>\n",
       "    <tr>\n",
       "      <th>3</th>\n",
       "      <td>34</td>\n",
       "      <td>3.0</td>\n",
       "      <td>31.960227</td>\n",
       "      <td>7000.0</td>\n",
       "      <td>1.0</td>\n",
       "      <td>36.3</td>\n",
       "      <td>38.000000</td>\n",
       "      <td>0.0</td>\n",
       "      <td>152.0</td>\n",
       "      <td>65.0</td>\n",
       "      <td>...</td>\n",
       "      <td>1.0</td>\n",
       "      <td>63.0</td>\n",
       "      <td>0.0</td>\n",
       "      <td>0</td>\n",
       "      <td>2015</td>\n",
       "      <td>11</td>\n",
       "      <td>310</td>\n",
       "      <td>2015</td>\n",
       "      <td>11</td>\n",
       "      <td>311</td>\n",
       "    </tr>\n",
       "    <tr>\n",
       "      <th>4</th>\n",
       "      <td>63</td>\n",
       "      <td>0.0</td>\n",
       "      <td>22.892820</td>\n",
       "      <td>4450.0</td>\n",
       "      <td>0.0</td>\n",
       "      <td>37.4</td>\n",
       "      <td>40.000000</td>\n",
       "      <td>0.0</td>\n",
       "      <td>390.0</td>\n",
       "      <td>70.0</td>\n",
       "      <td>...</td>\n",
       "      <td>1.0</td>\n",
       "      <td>17.0</td>\n",
       "      <td>0.0</td>\n",
       "      <td>0</td>\n",
       "      <td>2016</td>\n",
       "      <td>4</td>\n",
       "      <td>93</td>\n",
       "      <td>2016</td>\n",
       "      <td>4</td>\n",
       "      <td>93</td>\n",
       "    </tr>\n",
       "  </tbody>\n",
       "</table>\n",
       "<p>5 rows × 42 columns</p>\n",
       "</div>"
      ],
      "text/plain": [
       "   Age_donor  Aspirations_donor  BMI_donor  Donneur_CPT  Insuffisance_renale  \\\n",
       "0         41                3.0  25.689562       5550.0                  0.0   \n",
       "1         43                2.0  19.531250       4750.0                  0.0   \n",
       "2         51                3.0  28.685145       5250.0                  0.0   \n",
       "3         34                3.0  31.960227       7000.0                  1.0   \n",
       "4         63                0.0  22.892820       4450.0                  0.0   \n",
       "\n",
       "    LAS       PAPS  PFO  PF_donor  Poids         ...          \\\n",
       "0  39.3  68.884058  0.0     457.0   43.0         ...           \n",
       "1  31.7  68.884058  0.0     497.0   51.0         ...           \n",
       "2  51.9  55.000000  0.0     240.0   55.0         ...           \n",
       "3  36.3  38.000000  0.0     152.0   65.0         ...           \n",
       "4  37.4  40.000000  0.0     390.0   70.0         ...           \n",
       "\n",
       "   thoracic_surgery_history  time_on_waiting_liste  \\\n",
       "0                       0.0                   76.0   \n",
       "1                       0.0                   47.0   \n",
       "2                       0.0                   25.0   \n",
       "3                       1.0                   63.0   \n",
       "4                       1.0                   17.0   \n",
       "\n",
       "   transplanted_twice_during_study_period  target  start_operation_year  \\\n",
       "0                                     0.0       1                  2013   \n",
       "1                                     0.0       1                  2013   \n",
       "2                                     0.0       0                  2013   \n",
       "3                                     0.0       0                  2015   \n",
       "4                                     0.0       0                  2016   \n",
       "\n",
       "   start_operation_month  start_operation_day  ends_operation_year  \\\n",
       "0                      9                  251                 2013   \n",
       "1                      3                   64                 2013   \n",
       "2                      7                  187                 2013   \n",
       "3                     11                  310                 2015   \n",
       "4                      4                   93                 2016   \n",
       "\n",
       "   ends_operation_month  ends_operation_day  \n",
       "0                     9                 252  \n",
       "1                     3                  64  \n",
       "2                     7                 187  \n",
       "3                    11                 311  \n",
       "4                     4                  93  \n",
       "\n",
       "[5 rows x 42 columns]"
      ]
     },
     "execution_count": 58,
     "metadata": {},
     "output_type": "execute_result"
    }
   ],
   "source": [
    "train_static_1.head()"
   ]
  },
  {
   "cell_type": "code",
   "execution_count": null,
   "metadata": {
    "collapsed": true
   },
   "outputs": [],
   "source": []
  },
  {
   "cell_type": "code",
   "execution_count": null,
   "metadata": {
    "collapsed": true
   },
   "outputs": [],
   "source": []
  },
  {
   "cell_type": "code",
   "execution_count": null,
   "metadata": {
    "collapsed": true
   },
   "outputs": [],
   "source": [
    "def merge_dyn_sta(X_train_static, X_train_dynamic, X_test_static, X_test_dynamic):\n",
    "    return pd.merge(X_train_static, X_train_dynamic, on='id_patient'), pd.merge(X_test_static, X_test_dynamic, on='id_patient')\n"
   ]
  },
  {
   "cell_type": "code",
   "execution_count": null,
   "metadata": {
    "collapsed": true
   },
   "outputs": [],
   "source": [
    "liste_func=[np.mean,np.std,np.amax,np.amin] #np.median doesn't work ...\n",
    "liste_func_name=['mean','std','max','min']\n",
    "\n"
   ]
  },
  {
   "cell_type": "code",
   "execution_count": null,
   "metadata": {},
   "outputs": [],
   "source": [
    "#train_dynamic_0.drop(['time'],axis=1).groupby(['id_patient'], as_index=False).median()"
   ]
  },
  {
   "cell_type": "code",
   "execution_count": null,
   "metadata": {},
   "outputs": [],
   "source": [
    "#train_dynamic_0.drop(['time'],axis=1).groupby(['id_patient'], as_index=False).apply(np.amin)"
   ]
  },
  {
   "cell_type": "markdown",
   "metadata": {},
   "source": [
    "Avoir le mean"
   ]
  },
  {
   "cell_type": "code",
   "execution_count": null,
   "metadata": {
    "scrolled": true
   },
   "outputs": [],
   "source": [
    "train_glob_0, test_glob_0 = train_static_1 , test_static_1\n",
    "\n",
    "for i in range(len(liste_func)) :\n",
    "    print('On en est à '+liste_func_name[i])\n",
    "    func=liste_func[i]\n",
    "    \n",
    "    train_grouped=train_dynamic_0.drop(['time'],axis=1).groupby(['id_patient'], as_index=False) #On enregistre les groupes\n",
    "    test_grouped=test_dynamic_0.drop(['time'],axis=1).groupby(['id_patient'], as_index=False)\n",
    "    \n",
    "    train_id=train_grouped['id_patient'].apply(np.mean)  #On conserve le id du patient\n",
    "    test_id=test_grouped['id_patient'].apply(np.mean)\n",
    "    \n",
    "   \n",
    "    train_dynamic_flat = train_grouped.apply(func)   #On applique la fonction\n",
    "    test_dynamic_flat = test_grouped.apply(func)\n",
    "\n",
    "    train_dynamic_flat.rename(columns=lambda x: x+'_'+liste_func_name[i] if x!='id_patient' else x, inplace=True)\n",
    "    test_dynamic_flat.rename(columns=lambda x: x+'_'+liste_func_name[i]  if x!='id_patient' else x, inplace=True)\n",
    "    \n",
    "    train_dynamic_flat['id_patient']=train_id\n",
    "    test_dynamic_flat['id_patient']=test_id\n",
    "    print(train_glob_0.shape)\n",
    "    train_glob_0, test_glob_0 = merge_dyn_sta(train_glob_0, train_dynamic_flat, test_glob_0, test_dynamic_flat)\n",
    "    \n"
   ]
  },
  {
   "cell_type": "code",
   "execution_count": null,
   "metadata": {
    "collapsed": true,
    "scrolled": true
   },
   "outputs": [],
   "source": []
  },
  {
   "cell_type": "code",
   "execution_count": null,
   "metadata": {},
   "outputs": [],
   "source": [
    "train_glob_0.columns"
   ]
  },
  {
   "cell_type": "code",
   "execution_count": null,
   "metadata": {
    "collapsed": true
   },
   "outputs": [],
   "source": [
    "target_format = \"cls\"\n",
    "centered_reduced = False"
   ]
  },
  {
   "cell_type": "code",
   "execution_count": null,
   "metadata": {},
   "outputs": [],
   "source": [
    "\n",
    "\n",
    "def center_reduce_data(W_train, W_test):\n",
    "    mean_train = W_train.mean()\n",
    "    std_train = W_test.std()\n",
    "\n",
    "    return (W_train-mean_train)/std_train, (W_test-mean_train)/std_train\n",
    "\n",
    "dic_to_One_Hot = {0: [1, 0], 1: [0, 1]}\n",
    "\n",
    "y_train_cls = np.array(train_glob_0['target'])\n",
    "y_train_hot = np.array(list(train_glob_0['target'].map(dic_to_One_Hot)))\n",
    "\n",
    "y_test_cls = np.array(test_glob_0['target'])\n",
    "y_test_hot = np.array(list(test_glob_0['target'].map(dic_to_One_Hot)))\n",
    "\n",
    "if centered_reduced:\n",
    "    X_train, X_test = center_reduce_data(train_glob_0.drop(['target'], axis=1), test_glob_0.drop(['target'], axis=1))\n",
    "\n",
    "    X_train = np.array(X_train)\n",
    "    X_test = np.array(X_test)\n",
    "\n",
    "else:\n",
    "    X_train = np.array(train_glob_0.drop(['target'], axis=1))\n",
    "    X_test = np.array(test_glob_0.drop(['target'], axis=1))\n",
    "\n",
    "        # Return\n",
    "if target_format == \"cls\":\n",
    "    return X_train, X_test, y_train_cls, y_test_cls, train_glob_0.drop(['target'], axis=1).columns\n",
    "\n",
    "if target_format == \"One_Hot\":\n",
    "    return X_train, X_test, y_train_hot, y_test_hot, train_glob_0.drop(['target'], axis=1).columns\n"
   ]
  },
  {
   "cell_type": "code",
   "execution_count": null,
   "metadata": {
    "collapsed": true
   },
   "outputs": [],
   "source": []
  }
 ],
 "metadata": {
  "kernelspec": {
   "display_name": "Python 3",
   "language": "python",
   "name": "python3"
  },
  "language_info": {
   "codemirror_mode": {
    "name": "ipython",
    "version": 3
   },
   "file_extension": ".py",
   "mimetype": "text/x-python",
   "name": "python",
   "nbconvert_exporter": "python",
   "pygments_lexer": "ipython3",
   "version": "3.6.1"
  },
  "varInspector": {
   "cols": {
    "lenName": 16,
    "lenType": 16,
    "lenVar": 40
   },
   "kernels_config": {
    "python": {
     "delete_cmd_postfix": "",
     "delete_cmd_prefix": "del ",
     "library": "var_list.py",
     "varRefreshCmd": "print(var_dic_list())"
    },
    "r": {
     "delete_cmd_postfix": ") ",
     "delete_cmd_prefix": "rm(",
     "library": "var_list.r",
     "varRefreshCmd": "cat(var_dic_list()) "
    }
   },
   "types_to_exclude": [
    "module",
    "function",
    "builtin_function_or_method",
    "instance",
    "_Feature"
   ],
   "window_display": false
  }
 },
 "nbformat": 4,
 "nbformat_minor": 2
}
