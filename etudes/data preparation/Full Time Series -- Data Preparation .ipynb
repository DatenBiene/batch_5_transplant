{
 "cells": [
  {
   "cell_type": "markdown",
   "metadata": {},
   "source": [
    "In this notebook we explain the function get_data_merged_dynamic in the classe Learningset"
   ]
  },
  {
   "cell_type": "code",
   "execution_count": 1,
   "metadata": {},
   "outputs": [
    {
     "name": "stderr",
     "output_type": "stream",
     "text": [
      "C:\\Users\\Delanoue\\Documents\\GitHubRepo\\batch_5_transplant\\transplant\\tools\\learningset.py:126: FutureWarning: 'id_patient' is both a column name and an index level.\n",
      "Defaulting to column but this will raise an ambiguity error in a future version\n",
      "  mean_dynamic_train = train_dynamic_0.groupby(['id_patient']).mean().mean()\n",
      "C:\\Users\\Delanoue\\Documents\\GitHubRepo\\batch_5_transplant\\transplant\\tools\\learningset.py:132: FutureWarning: 'id_patient' is both a column name and an index level.\n",
      "Defaulting to column but this will raise an ambiguity error in a future version\n",
      "  grouped_time = X_dyn.groupby(['id_patient'])['time']\n",
      "C:\\Users\\Delanoue\\Documents\\GitHubRepo\\batch_5_transplant\\transplant\\tools\\learningset.py:157: FutureWarning: 'id_patient' is both a column name and an index level.\n",
      "Defaulting to column but this will raise an ambiguity error in a future version\n",
      "  grouped = X_dyn.groupby(['id_patient'])\n"
     ]
    },
    {
     "name": "stdout",
     "output_type": "stream",
     "text": [
      "Wall time: 13.7 s\n"
     ]
    }
   ],
   "source": [
    "%%time\n",
    "from transplant.tools.learningset import Learningset\n",
    "\n",
    "learningset = Learningset()\n",
    "\n",
    "X_train, X_test, y_train, y_test, X_col = learningset.get_data_merged_dynamic()"
   ]
  },
  {
   "cell_type": "markdown",
   "metadata": {},
   "source": [
    "# Full Time Series -- Data Preparation "
   ]
  },
  {
   "cell_type": "code",
   "execution_count": 2,
   "metadata": {},
   "outputs": [
    {
     "data": {
      "text/html": [
       "<div id=\"my_id_menu_nb\">run previous cell, wait for 2 seconds</div>\n",
       "<script>\n",
       "function repeat_indent_string(n){\n",
       "    var a = \"\" ;\n",
       "    for ( ; n > 0 ; --n)\n",
       "        a += \"    \";\n",
       "    return a;\n",
       "}\n",
       "// look up into all sections and builds an automated menu //\n",
       "var update_menu_string = function(begin, lfirst, llast, sformat, send, keep_item, begin_format, end_format) {\n",
       "    var anchors = document.getElementsByClassName(\"section\");\n",
       "    if (anchors.length == 0) {\n",
       "        anchors = document.getElementsByClassName(\"text_cell_render rendered_html\");\n",
       "    }\n",
       "    var i,t;\n",
       "    var text_menu = begin;\n",
       "    var text_memo = \"<pre>\\nlength:\" + anchors.length + \"\\n\";\n",
       "    var ind = \"\";\n",
       "    var memo_level = 1;\n",
       "    var href;\n",
       "    var tags = [];\n",
       "    var main_item = 0;\n",
       "    var format_open = 0;\n",
       "    for (i = 0; i <= llast; i++)\n",
       "        tags.push(\"h\" + i);\n",
       "\n",
       "    for (i = 0; i < anchors.length; i++) {\n",
       "        text_memo += \"**\" + anchors[i].id + \"--\\n\";\n",
       "\n",
       "        var child = null;\n",
       "        for(t = 0; t < tags.length; t++) {\n",
       "            var r = anchors[i].getElementsByTagName(tags[t]);\n",
       "            if (r.length > 0) {\n",
       "child = r[0];\n",
       "break;\n",
       "            }\n",
       "        }\n",
       "        if (child == null) {\n",
       "            text_memo += \"null\\n\";\n",
       "            continue;\n",
       "        }\n",
       "        if (anchors[i].hasAttribute(\"id\")) {\n",
       "            // when converted in RST\n",
       "            href = anchors[i].id;\n",
       "            text_memo += \"#1-\" + href;\n",
       "            // passer à child suivant (le chercher)\n",
       "        }\n",
       "        else if (child.hasAttribute(\"id\")) {\n",
       "            // in a notebook\n",
       "            href = child.id;\n",
       "            text_memo += \"#2-\" + href;\n",
       "        }\n",
       "        else {\n",
       "            text_memo += \"#3-\" + \"*\" + \"\\n\";\n",
       "            continue;\n",
       "        }\n",
       "        var title = child.textContent;\n",
       "        var level = parseInt(child.tagName.substring(1,2));\n",
       "\n",
       "        text_memo += \"--\" + level + \"?\" + lfirst + \"--\" + title + \"\\n\";\n",
       "\n",
       "        if ((level < lfirst) || (level > llast)) {\n",
       "            continue ;\n",
       "        }\n",
       "        if (title.endsWith('¶')) {\n",
       "            title = title.substring(0,title.length-1).replace(\"<\", \"&lt;\")\n",
       "         .replace(\">\", \"&gt;\").replace(\"&\", \"&amp;\");\n",
       "        }\n",
       "        if (title.length == 0) {\n",
       "            continue;\n",
       "        }\n",
       "\n",
       "        while (level < memo_level) {\n",
       "            text_menu += end_format + \"</ul>\\n\";\n",
       "            format_open -= 1;\n",
       "            memo_level -= 1;\n",
       "        }\n",
       "        if (level == lfirst) {\n",
       "            main_item += 1;\n",
       "        }\n",
       "        if (keep_item != -1 && main_item != keep_item + 1) {\n",
       "            // alert(main_item + \" - \" + level + \" - \" + keep_item);\n",
       "            continue;\n",
       "        }\n",
       "        while (level > memo_level) {\n",
       "            text_menu += \"<ul>\\n\";\n",
       "            memo_level += 1;\n",
       "        }\n",
       "        text_menu += repeat_indent_string(level-2);\n",
       "        text_menu += begin_format + sformat.replace(\"__HREF__\", href).replace(\"__TITLE__\", title);\n",
       "        format_open += 1;\n",
       "    }\n",
       "    while (1 < memo_level) {\n",
       "        text_menu += end_format + \"</ul>\\n\";\n",
       "        memo_level -= 1;\n",
       "        format_open -= 1;\n",
       "    }\n",
       "    text_menu += send;\n",
       "    //text_menu += \"\\n\" + text_memo;\n",
       "\n",
       "    while (format_open > 0) {\n",
       "        text_menu += end_format;\n",
       "        format_open -= 1;\n",
       "    }\n",
       "    return text_menu;\n",
       "};\n",
       "var update_menu = function() {\n",
       "    var sbegin = \"\";\n",
       "    var sformat = '<a href=\"#__HREF__\">__TITLE__</a>';\n",
       "    var send = \"\";\n",
       "    var begin_format = '<li>';\n",
       "    var end_format = '</li>';\n",
       "    var keep_item = -1;\n",
       "    var text_menu = update_menu_string(sbegin, 2, 4, sformat, send, keep_item,\n",
       "       begin_format, end_format);\n",
       "    var menu = document.getElementById(\"my_id_menu_nb\");\n",
       "    menu.innerHTML=text_menu;\n",
       "};\n",
       "window.setTimeout(update_menu,2000);\n",
       "            </script>"
      ],
      "text/plain": [
       "<IPython.core.display.HTML object>"
      ]
     },
     "execution_count": 2,
     "metadata": {},
     "output_type": "execute_result"
    }
   ],
   "source": [
    "from jyquickhelper import add_notebook_menu\n",
    "add_notebook_menu()"
   ]
  },
  {
   "cell_type": "code",
   "execution_count": 3,
   "metadata": {
    "collapsed": true
   },
   "outputs": [],
   "source": [
    "import warnings\n",
    "warnings.filterwarnings('ignore')"
   ]
  },
  {
   "cell_type": "code",
   "execution_count": 4,
   "metadata": {
    "collapsed": true
   },
   "outputs": [],
   "source": [
    "import pandas as pd\n",
    "import numpy as np\n",
    "\n",
    "#from datetime import datetime"
   ]
  },
  {
   "cell_type": "markdown",
   "metadata": {},
   "source": [
    "## Get Static"
   ]
  },
  {
   "cell_type": "code",
   "execution_count": 5,
   "metadata": {},
   "outputs": [],
   "source": [
    "from transplant.tools.dataset import Dataset\n",
    "\n",
    "dataset = Dataset()"
   ]
  },
  {
   "cell_type": "code",
   "execution_count": 6,
   "metadata": {},
   "outputs": [],
   "source": [
    "from transplant.tools.learningset import Learningset\n",
    "\n",
    "learningset = Learningset()\n",
    "\n",
    "train_static_0, test_static_0 = learningset.get_static_filled()"
   ]
  },
  {
   "cell_type": "markdown",
   "metadata": {},
   "source": [
    "## Get Static"
   ]
  },
  {
   "cell_type": "code",
   "execution_count": 7,
   "metadata": {
    "collapsed": true
   },
   "outputs": [],
   "source": [
    "train_dynamic_0, test_dynamic_0 = dataset.get_dynamic()"
   ]
  },
  {
   "cell_type": "markdown",
   "metadata": {},
   "source": [
    "We need to extract 3 static information from this time series : \n",
    "\n",
    "    -When the operation started\n",
    "    -When it ended\n",
    "    -How long it was"
   ]
  },
  {
   "cell_type": "markdown",
   "metadata": {},
   "source": [
    "## Function to get the beginning, end and length of operation "
   ]
  },
  {
   "cell_type": "code",
   "execution_count": 8,
   "metadata": {},
   "outputs": [],
   "source": [
    "mean_dynamic_train = train_dynamic_0.groupby(['id_patient']).mean().mean()"
   ]
  },
  {
   "cell_type": "code",
   "execution_count": 9,
   "metadata": {
    "collapsed": true
   },
   "outputs": [],
   "source": [
    "train_dynamic_0 = train_dynamic_0.fillna(mean_dynamic_train)\n",
    "test_dynamic_0 = test_dynamic_0.fillna(mean_dynamic_train)"
   ]
  },
  {
   "cell_type": "code",
   "execution_count": 10,
   "metadata": {
    "collapsed": true
   },
   "outputs": [],
   "source": [
    "def add_start_end_length_op_to_static(X_stat, X_dyn):\n",
    "    grouped_time = X_dyn.groupby(['id_patient'])['time']\n",
    "\n",
    "    time_start_df = grouped_time.first().to_frame()\n",
    "    time_start_df.columns = ['start_operation']\n",
    "    time_start_df['id_patient'] = time_start_df.index\n",
    "\n",
    "    X_return = pd.merge(X_stat, time_start_df, on='id_patient')\n",
    "\n",
    "    time_ends_df = grouped_time.last().to_frame()\n",
    "    time_ends_df.columns = ['ends_operation']\n",
    "    time_ends_df['id_patient'] = time_ends_df.index\n",
    "\n",
    "    X_return = pd.merge(X_return, time_ends_df, on='id_patient')\n",
    "\n",
    "    X_return['length_op'] = X_return['ends_operation'] - \\\n",
    "        X_return['start_operation']\n",
    "\n",
    "    return X_return"
   ]
  },
  {
   "cell_type": "code",
   "execution_count": 11,
   "metadata": {},
   "outputs": [],
   "source": [
    "train_static_1 = add_start_end_length_op_to_static(\n",
    "    train_static_0, train_dynamic_0)\n",
    "test_static_1 = add_start_end_length_op_to_static(\n",
    "    test_static_0, test_dynamic_0)"
   ]
  },
  {
   "cell_type": "code",
   "execution_count": 17,
   "metadata": {},
   "outputs": [
    {
     "data": {
      "text/plain": [
       "pandas.core.series.Series"
      ]
     },
     "execution_count": 17,
     "metadata": {},
     "output_type": "execute_result"
    }
   ],
   "source": [
    "type(train_static_1['start_operation'])"
   ]
  },
  {
   "cell_type": "markdown",
   "metadata": {},
   "source": [
    "## Function to obtain the full time series in numpy array"
   ]
  },
  {
   "cell_type": "code",
   "execution_count": 12,
   "metadata": {
    "collapsed": true
   },
   "outputs": [],
   "source": [
    "def get_timeseries_in_array(X_stat, X_dyn, dyn_to_drop=['id_patient', 'time']):\n",
    "\n",
    "    X_return = X_stat\n",
    "\n",
    "    grouped = X_dyn.groupby(['id_patient'])\n",
    "\n",
    "    list_time_serie_col = X_dyn.drop(dyn_to_drop, axis=1).columns\n",
    "\n",
    "    for i in list_time_serie_col:\n",
    "        df_muette = grouped[i].apply(np.array).to_frame()\n",
    "        df_muette['id_patient'] = df_muette.index\n",
    "        X_return = pd.merge(X_return, df_muette, on='id_patient')\n",
    "\n",
    "    return X_return"
   ]
  },
  {
   "cell_type": "code",
   "execution_count": 13,
   "metadata": {},
   "outputs": [],
   "source": [
    "train_merged_dyn_0 = get_timeseries_in_array(train_static_1, train_dynamic_0)\n",
    "test_merged_dyn_0 = get_timeseries_in_array(test_static_1, test_dynamic_0)"
   ]
  },
  {
   "cell_type": "code",
   "execution_count": 14,
   "metadata": {},
   "outputs": [
    {
     "data": {
      "text/html": [
       "<div>\n",
       "<style>\n",
       "    .dataframe thead tr:only-child th {\n",
       "        text-align: right;\n",
       "    }\n",
       "\n",
       "    .dataframe thead th {\n",
       "        text-align: left;\n",
       "    }\n",
       "\n",
       "    .dataframe tbody tr th {\n",
       "        vertical-align: top;\n",
       "    }\n",
       "</style>\n",
       "<table border=\"1\" class=\"dataframe\">\n",
       "  <thead>\n",
       "    <tr style=\"text-align: right;\">\n",
       "      <th></th>\n",
       "      <th>Age_donor</th>\n",
       "      <th>Aspirations_donor</th>\n",
       "      <th>BMI_donor</th>\n",
       "      <th>Donneur_CPT</th>\n",
       "      <th>Insuffisance_renale</th>\n",
       "      <th>LAS</th>\n",
       "      <th>PAPS</th>\n",
       "      <th>PFO</th>\n",
       "      <th>PF_donor</th>\n",
       "      <th>Poids</th>\n",
       "      <th>...</th>\n",
       "      <th>PNIm</th>\n",
       "      <th>PNIs</th>\n",
       "      <th>Pmax</th>\n",
       "      <th>Pmean</th>\n",
       "      <th>Pplat</th>\n",
       "      <th>RR(co2)</th>\n",
       "      <th>SpO2</th>\n",
       "      <th>SvO2 (m)</th>\n",
       "      <th>Temp</th>\n",
       "      <th>VT</th>\n",
       "    </tr>\n",
       "  </thead>\n",
       "  <tbody>\n",
       "    <tr>\n",
       "      <th>0</th>\n",
       "      <td>41</td>\n",
       "      <td>3.0</td>\n",
       "      <td>25.689562</td>\n",
       "      <td>5550.0</td>\n",
       "      <td>0.0</td>\n",
       "      <td>39.3</td>\n",
       "      <td>68.884058</td>\n",
       "      <td>0.0</td>\n",
       "      <td>457.0</td>\n",
       "      <td>43.0</td>\n",
       "      <td>...</td>\n",
       "      <td>[0.0, 0.0, 0.0, 0.0, 0.0, 0.0, 0.0, 0.0, 0.0, ...</td>\n",
       "      <td>[0.0, 98.0, 98.0, 98.0, 99.0, 97.0, 97.0, 98.0...</td>\n",
       "      <td>[0.0, 0.0, 81.0, 0.0, 70.0, 0.0, 0.0, 0.0, 0.0...</td>\n",
       "      <td>[0.0, 0.0, 115.0, 0.0, 102.0, 0.0, 0.0, 0.0, 0...</td>\n",
       "      <td>[0.0, 0.0, 0.0, 0.0, 0.0, 0.0, 0.0, 0.0, 0.0, ...</td>\n",
       "      <td>[374.0, 373.0, 374.0, 374.0, 374.0, 374.0, 374...</td>\n",
       "      <td>[73.54861055381699, 73.54861055381699, 73.5486...</td>\n",
       "      <td>[74.27279525349674, 74.27279525349674, 74.2727...</td>\n",
       "      <td>[89.0338888768584, 89.0338888768584, 89.033888...</td>\n",
       "      <td>[86.52837409798167, 86.52837409798167, 86.5283...</td>\n",
       "    </tr>\n",
       "    <tr>\n",
       "      <th>1</th>\n",
       "      <td>43</td>\n",
       "      <td>2.0</td>\n",
       "      <td>19.531250</td>\n",
       "      <td>4750.0</td>\n",
       "      <td>0.0</td>\n",
       "      <td>31.7</td>\n",
       "      <td>68.884058</td>\n",
       "      <td>0.0</td>\n",
       "      <td>497.0</td>\n",
       "      <td>51.0</td>\n",
       "      <td>...</td>\n",
       "      <td>[0.0, 0.0, 0.0, 0.0, 0.0, 0.0, 0.0, 0.0, 0.0, ...</td>\n",
       "      <td>[0.0, 0.0, 0.0, 0.0, 0.0, 0.0, 0.0, 0.0, 0.0, ...</td>\n",
       "      <td>[0.0, 0.0, 0.0, 0.0, 0.0, 0.0, 0.0, 0.0, 0.0, ...</td>\n",
       "      <td>[0.0, 0.0, 0.0, 0.0, 0.0, 0.0, 0.0, 0.0, 0.0, ...</td>\n",
       "      <td>[39.11492054010727, 39.11492054010727, 39.1149...</td>\n",
       "      <td>[0.0, 0.0, 0.0, 0.0, 0.0, 0.0, 0.0, 0.0, 0.0, ...</td>\n",
       "      <td>[0.0, 0.0, 0.0, 0.0, 0.0, 0.0, 0.0, 0.0, 0.0, ...</td>\n",
       "      <td>[74.27279525349674, 74.27279525349674, 74.2727...</td>\n",
       "      <td>[0.0, 0.0, 0.0, 0.0, 0.0, 0.0, 0.0, 0.0, 0.0, ...</td>\n",
       "      <td>[0.0, 0.0, 0.0, 0.0, 0.0, 0.0, 0.0, 0.0, 0.0, ...</td>\n",
       "    </tr>\n",
       "    <tr>\n",
       "      <th>2</th>\n",
       "      <td>51</td>\n",
       "      <td>3.0</td>\n",
       "      <td>28.685145</td>\n",
       "      <td>5250.0</td>\n",
       "      <td>0.0</td>\n",
       "      <td>51.9</td>\n",
       "      <td>55.000000</td>\n",
       "      <td>0.0</td>\n",
       "      <td>240.0</td>\n",
       "      <td>55.0</td>\n",
       "      <td>...</td>\n",
       "      <td>[37.0, 37.0, 37.0, 37.0, 37.0, 37.0, 37.0, 37....</td>\n",
       "      <td>[0.0, 0.0, 0.0, 82.0, 0.0, 85.0, 0.0, 0.0, 81....</td>\n",
       "      <td>[0.0, 0.0, 0.0, 0.0, 0.0, 0.0, 0.0, 0.0, 0.0, ...</td>\n",
       "      <td>[36.0, 36.0, 36.0, 36.0, 36.0, 36.0, 36.0, 36....</td>\n",
       "      <td>[39.11492054010727, 39.11492054010727, 39.1149...</td>\n",
       "      <td>[0.0, 0.0, 0.0, 99.0, 0.0, 101.0, 0.0, 0.0, 98...</td>\n",
       "      <td>[0.0, 0.0, 0.0, 123.0, 0.0, 126.0, 0.0, 0.0, 1...</td>\n",
       "      <td>[74.27279525349674, 74.27279525349674, 74.2727...</td>\n",
       "      <td>[0.0, 0.0, 0.0, 0.0, 0.0, 0.0, 0.0, 0.0, 0.0, ...</td>\n",
       "      <td>[100.0, 100.0, 100.0, 99.0, 100.0, 99.0, 98.0,...</td>\n",
       "    </tr>\n",
       "    <tr>\n",
       "      <th>3</th>\n",
       "      <td>34</td>\n",
       "      <td>3.0</td>\n",
       "      <td>31.960227</td>\n",
       "      <td>7000.0</td>\n",
       "      <td>1.0</td>\n",
       "      <td>36.3</td>\n",
       "      <td>38.000000</td>\n",
       "      <td>0.0</td>\n",
       "      <td>152.0</td>\n",
       "      <td>65.0</td>\n",
       "      <td>...</td>\n",
       "      <td>[0.0, 126.0, 0.0, 0.0, 98.0, 0.0, 0.0, 0.0, 0....</td>\n",
       "      <td>[0.0, 150.0, 0.0, 0.0, 124.0, 0.0, 0.0, 0.0, 0...</td>\n",
       "      <td>[2.0, 1.0, 1.0, 1.0, 2.0, 1.0, 1.0, 1.0, 1.0, ...</td>\n",
       "      <td>[1.0, 1.0, 1.0, 1.0, 1.0, 1.0, 1.0, 1.0, 1.0, ...</td>\n",
       "      <td>[0.0, 0.0, 0.0, 0.0, 0.0, 0.0, 0.0, 0.0, 0.0, ...</td>\n",
       "      <td>[0.0, 0.0, 0.0, 0.0, 0.0, 0.0, 0.0, 0.0, 0.0, ...</td>\n",
       "      <td>[95.0, 97.0, 97.0, 97.0, 92.0, 94.0, 94.0, 98....</td>\n",
       "      <td>[0.0, 0.0, 0.0, 0.0, 0.0, 0.0, 0.0, 0.0, 0.0, ...</td>\n",
       "      <td>[0.0, 0.0, 0.0, 0.0, 0.0, 0.0, 0.0, 0.0, 0.0, ...</td>\n",
       "      <td>[0.0, 0.0, 0.0, 0.0, 0.0, 0.0, 0.0, 0.0, 0.0, ...</td>\n",
       "    </tr>\n",
       "    <tr>\n",
       "      <th>4</th>\n",
       "      <td>63</td>\n",
       "      <td>0.0</td>\n",
       "      <td>22.892820</td>\n",
       "      <td>4450.0</td>\n",
       "      <td>0.0</td>\n",
       "      <td>37.4</td>\n",
       "      <td>40.000000</td>\n",
       "      <td>0.0</td>\n",
       "      <td>390.0</td>\n",
       "      <td>70.0</td>\n",
       "      <td>...</td>\n",
       "      <td>[0.0, 0.0, 0.0, 0.0, 0.0, 0.0, 0.0, 0.0, 0.0, ...</td>\n",
       "      <td>[0.0, 0.0, 0.0, 0.0, 0.0, 0.0, 0.0, 0.0, 0.0, ...</td>\n",
       "      <td>[0.0, 0.0, 0.0, 0.0, 0.0, 0.0, 0.0, 0.0, 0.0, ...</td>\n",
       "      <td>[0.0, 0.0, 0.0, 0.0, 0.0, 0.0, 0.0, 0.0, 0.0, ...</td>\n",
       "      <td>[39.11492054010727, 39.11492054010727, 39.1149...</td>\n",
       "      <td>[0.0, 0.0, 0.0, 0.0, 0.0, 0.0, 0.0, 0.0, 0.0, ...</td>\n",
       "      <td>[0.0, 0.0, 0.0, 0.0, 0.0, 0.0, 0.0, 0.0, 0.0, ...</td>\n",
       "      <td>[74.27279525349674, 74.27279525349674, 74.2727...</td>\n",
       "      <td>[89.0338888768584, 89.0338888768584, 89.033888...</td>\n",
       "      <td>[0.0, 0.0, 0.0, 0.0, 0.0, 0.0, 0.0, 0.0, 0.0, ...</td>\n",
       "    </tr>\n",
       "  </tbody>\n",
       "</table>\n",
       "<p>5 rows × 75 columns</p>\n",
       "</div>"
      ],
      "text/plain": [
       "   Age_donor  Aspirations_donor  BMI_donor  Donneur_CPT  Insuffisance_renale  \\\n",
       "0         41                3.0  25.689562       5550.0                  0.0   \n",
       "1         43                2.0  19.531250       4750.0                  0.0   \n",
       "2         51                3.0  28.685145       5250.0                  0.0   \n",
       "3         34                3.0  31.960227       7000.0                  1.0   \n",
       "4         63                0.0  22.892820       4450.0                  0.0   \n",
       "\n",
       "    LAS       PAPS  PFO  PF_donor  Poids  \\\n",
       "0  39.3  68.884058  0.0     457.0   43.0   \n",
       "1  31.7  68.884058  0.0     497.0   51.0   \n",
       "2  51.9  55.000000  0.0     240.0   55.0   \n",
       "3  36.3  38.000000  0.0     152.0   65.0   \n",
       "4  37.4  40.000000  0.0     390.0   70.0   \n",
       "\n",
       "                         ...                          \\\n",
       "0                        ...                           \n",
       "1                        ...                           \n",
       "2                        ...                           \n",
       "3                        ...                           \n",
       "4                        ...                           \n",
       "\n",
       "                                                PNIm  \\\n",
       "0  [0.0, 0.0, 0.0, 0.0, 0.0, 0.0, 0.0, 0.0, 0.0, ...   \n",
       "1  [0.0, 0.0, 0.0, 0.0, 0.0, 0.0, 0.0, 0.0, 0.0, ...   \n",
       "2  [37.0, 37.0, 37.0, 37.0, 37.0, 37.0, 37.0, 37....   \n",
       "3  [0.0, 126.0, 0.0, 0.0, 98.0, 0.0, 0.0, 0.0, 0....   \n",
       "4  [0.0, 0.0, 0.0, 0.0, 0.0, 0.0, 0.0, 0.0, 0.0, ...   \n",
       "\n",
       "                                                PNIs  \\\n",
       "0  [0.0, 98.0, 98.0, 98.0, 99.0, 97.0, 97.0, 98.0...   \n",
       "1  [0.0, 0.0, 0.0, 0.0, 0.0, 0.0, 0.0, 0.0, 0.0, ...   \n",
       "2  [0.0, 0.0, 0.0, 82.0, 0.0, 85.0, 0.0, 0.0, 81....   \n",
       "3  [0.0, 150.0, 0.0, 0.0, 124.0, 0.0, 0.0, 0.0, 0...   \n",
       "4  [0.0, 0.0, 0.0, 0.0, 0.0, 0.0, 0.0, 0.0, 0.0, ...   \n",
       "\n",
       "                                                Pmax  \\\n",
       "0  [0.0, 0.0, 81.0, 0.0, 70.0, 0.0, 0.0, 0.0, 0.0...   \n",
       "1  [0.0, 0.0, 0.0, 0.0, 0.0, 0.0, 0.0, 0.0, 0.0, ...   \n",
       "2  [0.0, 0.0, 0.0, 0.0, 0.0, 0.0, 0.0, 0.0, 0.0, ...   \n",
       "3  [2.0, 1.0, 1.0, 1.0, 2.0, 1.0, 1.0, 1.0, 1.0, ...   \n",
       "4  [0.0, 0.0, 0.0, 0.0, 0.0, 0.0, 0.0, 0.0, 0.0, ...   \n",
       "\n",
       "                                               Pmean  \\\n",
       "0  [0.0, 0.0, 115.0, 0.0, 102.0, 0.0, 0.0, 0.0, 0...   \n",
       "1  [0.0, 0.0, 0.0, 0.0, 0.0, 0.0, 0.0, 0.0, 0.0, ...   \n",
       "2  [36.0, 36.0, 36.0, 36.0, 36.0, 36.0, 36.0, 36....   \n",
       "3  [1.0, 1.0, 1.0, 1.0, 1.0, 1.0, 1.0, 1.0, 1.0, ...   \n",
       "4  [0.0, 0.0, 0.0, 0.0, 0.0, 0.0, 0.0, 0.0, 0.0, ...   \n",
       "\n",
       "                                               Pplat  \\\n",
       "0  [0.0, 0.0, 0.0, 0.0, 0.0, 0.0, 0.0, 0.0, 0.0, ...   \n",
       "1  [39.11492054010727, 39.11492054010727, 39.1149...   \n",
       "2  [39.11492054010727, 39.11492054010727, 39.1149...   \n",
       "3  [0.0, 0.0, 0.0, 0.0, 0.0, 0.0, 0.0, 0.0, 0.0, ...   \n",
       "4  [39.11492054010727, 39.11492054010727, 39.1149...   \n",
       "\n",
       "                                             RR(co2)  \\\n",
       "0  [374.0, 373.0, 374.0, 374.0, 374.0, 374.0, 374...   \n",
       "1  [0.0, 0.0, 0.0, 0.0, 0.0, 0.0, 0.0, 0.0, 0.0, ...   \n",
       "2  [0.0, 0.0, 0.0, 99.0, 0.0, 101.0, 0.0, 0.0, 98...   \n",
       "3  [0.0, 0.0, 0.0, 0.0, 0.0, 0.0, 0.0, 0.0, 0.0, ...   \n",
       "4  [0.0, 0.0, 0.0, 0.0, 0.0, 0.0, 0.0, 0.0, 0.0, ...   \n",
       "\n",
       "                                                SpO2  \\\n",
       "0  [73.54861055381699, 73.54861055381699, 73.5486...   \n",
       "1  [0.0, 0.0, 0.0, 0.0, 0.0, 0.0, 0.0, 0.0, 0.0, ...   \n",
       "2  [0.0, 0.0, 0.0, 123.0, 0.0, 126.0, 0.0, 0.0, 1...   \n",
       "3  [95.0, 97.0, 97.0, 97.0, 92.0, 94.0, 94.0, 98....   \n",
       "4  [0.0, 0.0, 0.0, 0.0, 0.0, 0.0, 0.0, 0.0, 0.0, ...   \n",
       "\n",
       "                                            SvO2 (m)  \\\n",
       "0  [74.27279525349674, 74.27279525349674, 74.2727...   \n",
       "1  [74.27279525349674, 74.27279525349674, 74.2727...   \n",
       "2  [74.27279525349674, 74.27279525349674, 74.2727...   \n",
       "3  [0.0, 0.0, 0.0, 0.0, 0.0, 0.0, 0.0, 0.0, 0.0, ...   \n",
       "4  [74.27279525349674, 74.27279525349674, 74.2727...   \n",
       "\n",
       "                                                Temp  \\\n",
       "0  [89.0338888768584, 89.0338888768584, 89.033888...   \n",
       "1  [0.0, 0.0, 0.0, 0.0, 0.0, 0.0, 0.0, 0.0, 0.0, ...   \n",
       "2  [0.0, 0.0, 0.0, 0.0, 0.0, 0.0, 0.0, 0.0, 0.0, ...   \n",
       "3  [0.0, 0.0, 0.0, 0.0, 0.0, 0.0, 0.0, 0.0, 0.0, ...   \n",
       "4  [89.0338888768584, 89.0338888768584, 89.033888...   \n",
       "\n",
       "                                                  VT  \n",
       "0  [86.52837409798167, 86.52837409798167, 86.5283...  \n",
       "1  [0.0, 0.0, 0.0, 0.0, 0.0, 0.0, 0.0, 0.0, 0.0, ...  \n",
       "2  [100.0, 100.0, 100.0, 99.0, 100.0, 99.0, 98.0,...  \n",
       "3  [0.0, 0.0, 0.0, 0.0, 0.0, 0.0, 0.0, 0.0, 0.0, ...  \n",
       "4  [0.0, 0.0, 0.0, 0.0, 0.0, 0.0, 0.0, 0.0, 0.0, ...  \n",
       "\n",
       "[5 rows x 75 columns]"
      ]
     },
     "execution_count": 14,
     "metadata": {},
     "output_type": "execute_result"
    }
   ],
   "source": [
    "train_merged_dyn_0.head()\n"
   ]
  },
  {
   "cell_type": "code",
   "execution_count": null,
   "metadata": {
    "collapsed": true
   },
   "outputs": [],
   "source": []
  }
 ],
 "metadata": {
  "kernelspec": {
   "display_name": "Python 3",
   "language": "python",
   "name": "python3"
  },
  "language_info": {
   "codemirror_mode": {
    "name": "ipython",
    "version": 3
   },
   "file_extension": ".py",
   "mimetype": "text/x-python",
   "name": "python",
   "nbconvert_exporter": "python",
   "pygments_lexer": "ipython3",
   "version": "3.6.1"
  },
  "varInspector": {
   "cols": {
    "lenName": 16,
    "lenType": 16,
    "lenVar": 40
   },
   "kernels_config": {
    "python": {
     "delete_cmd_postfix": "",
     "delete_cmd_prefix": "del ",
     "library": "var_list.py",
     "varRefreshCmd": "print(var_dic_list())"
    },
    "r": {
     "delete_cmd_postfix": ") ",
     "delete_cmd_prefix": "rm(",
     "library": "var_list.r",
     "varRefreshCmd": "cat(var_dic_list()) "
    }
   },
   "types_to_exclude": [
    "module",
    "function",
    "builtin_function_or_method",
    "instance",
    "_Feature"
   ],
   "window_display": false
  }
 },
 "nbformat": 4,
 "nbformat_minor": 2
}
