{
 "cells": [
  {
   "cell_type": "code",
   "execution_count": 1,
   "metadata": {},
   "outputs": [
    {
     "data": {
      "text/html": [
       "<div id=\"my_id_menu_nb\">run previous cell, wait for 2 seconds</div>\n",
       "<script>\n",
       "function repeat_indent_string(n){\n",
       "    var a = \"\" ;\n",
       "    for ( ; n > 0 ; --n)\n",
       "        a += \"    \";\n",
       "    return a;\n",
       "}\n",
       "// look up into all sections and builds an automated menu //\n",
       "var update_menu_string = function(begin, lfirst, llast, sformat, send, keep_item, begin_format, end_format) {\n",
       "    var anchors = document.getElementsByClassName(\"section\");\n",
       "    if (anchors.length == 0) {\n",
       "        anchors = document.getElementsByClassName(\"text_cell_render rendered_html\");\n",
       "    }\n",
       "    var i,t;\n",
       "    var text_menu = begin;\n",
       "    var text_memo = \"<pre>\\nlength:\" + anchors.length + \"\\n\";\n",
       "    var ind = \"\";\n",
       "    var memo_level = 1;\n",
       "    var href;\n",
       "    var tags = [];\n",
       "    var main_item = 0;\n",
       "    var format_open = 0;\n",
       "    for (i = 0; i <= llast; i++)\n",
       "        tags.push(\"h\" + i);\n",
       "\n",
       "    for (i = 0; i < anchors.length; i++) {\n",
       "        text_memo += \"**\" + anchors[i].id + \"--\\n\";\n",
       "\n",
       "        var child = null;\n",
       "        for(t = 0; t < tags.length; t++) {\n",
       "            var r = anchors[i].getElementsByTagName(tags[t]);\n",
       "            if (r.length > 0) {\n",
       "child = r[0];\n",
       "break;\n",
       "            }\n",
       "        }\n",
       "        if (child == null) {\n",
       "            text_memo += \"null\\n\";\n",
       "            continue;\n",
       "        }\n",
       "        if (anchors[i].hasAttribute(\"id\")) {\n",
       "            // when converted in RST\n",
       "            href = anchors[i].id;\n",
       "            text_memo += \"#1-\" + href;\n",
       "            // passer à child suivant (le chercher)\n",
       "        }\n",
       "        else if (child.hasAttribute(\"id\")) {\n",
       "            // in a notebook\n",
       "            href = child.id;\n",
       "            text_memo += \"#2-\" + href;\n",
       "        }\n",
       "        else {\n",
       "            text_memo += \"#3-\" + \"*\" + \"\\n\";\n",
       "            continue;\n",
       "        }\n",
       "        var title = child.textContent;\n",
       "        var level = parseInt(child.tagName.substring(1,2));\n",
       "\n",
       "        text_memo += \"--\" + level + \"?\" + lfirst + \"--\" + title + \"\\n\";\n",
       "\n",
       "        if ((level < lfirst) || (level > llast)) {\n",
       "            continue ;\n",
       "        }\n",
       "        if (title.endsWith('¶')) {\n",
       "            title = title.substring(0,title.length-1).replace(\"<\", \"&lt;\")\n",
       "         .replace(\">\", \"&gt;\").replace(\"&\", \"&amp;\");\n",
       "        }\n",
       "        if (title.length == 0) {\n",
       "            continue;\n",
       "        }\n",
       "\n",
       "        while (level < memo_level) {\n",
       "            text_menu += end_format + \"</ul>\\n\";\n",
       "            format_open -= 1;\n",
       "            memo_level -= 1;\n",
       "        }\n",
       "        if (level == lfirst) {\n",
       "            main_item += 1;\n",
       "        }\n",
       "        if (keep_item != -1 && main_item != keep_item + 1) {\n",
       "            // alert(main_item + \" - \" + level + \" - \" + keep_item);\n",
       "            continue;\n",
       "        }\n",
       "        while (level > memo_level) {\n",
       "            text_menu += \"<ul>\\n\";\n",
       "            memo_level += 1;\n",
       "        }\n",
       "        text_menu += repeat_indent_string(level-2);\n",
       "        text_menu += begin_format + sformat.replace(\"__HREF__\", href).replace(\"__TITLE__\", title);\n",
       "        format_open += 1;\n",
       "    }\n",
       "    while (1 < memo_level) {\n",
       "        text_menu += end_format + \"</ul>\\n\";\n",
       "        memo_level -= 1;\n",
       "        format_open -= 1;\n",
       "    }\n",
       "    text_menu += send;\n",
       "    //text_menu += \"\\n\" + text_memo;\n",
       "\n",
       "    while (format_open > 0) {\n",
       "        text_menu += end_format;\n",
       "        format_open -= 1;\n",
       "    }\n",
       "    return text_menu;\n",
       "};\n",
       "var update_menu = function() {\n",
       "    var sbegin = \"\";\n",
       "    var sformat = '<a href=\"#__HREF__\">__TITLE__</a>';\n",
       "    var send = \"\";\n",
       "    var begin_format = '<li>';\n",
       "    var end_format = '</li>';\n",
       "    var keep_item = -1;\n",
       "    var text_menu = update_menu_string(sbegin, 2, 4, sformat, send, keep_item,\n",
       "       begin_format, end_format);\n",
       "    var menu = document.getElementById(\"my_id_menu_nb\");\n",
       "    menu.innerHTML=text_menu;\n",
       "};\n",
       "window.setTimeout(update_menu,2000);\n",
       "            </script>"
      ],
      "text/plain": [
       "<IPython.core.display.HTML object>"
      ]
     },
     "execution_count": 1,
     "metadata": {},
     "output_type": "execute_result"
    }
   ],
   "source": [
    "from jyquickhelper import add_notebook_menu\n",
    "add_notebook_menu()"
   ]
  },
  {
   "cell_type": "markdown",
   "metadata": {},
   "source": [
    "## Let's try to do our best with a few ML model"
   ]
  },
  {
   "cell_type": "code",
   "execution_count": 2,
   "metadata": {},
   "outputs": [
    {
     "data": {
      "text/html": [
       "<script>requirejs.config({paths: { 'plotly': ['https://cdn.plot.ly/plotly-latest.min']},});if(!window.Plotly) {{require(['plotly'],function(plotly) {window.Plotly=plotly;});}}</script>"
      ],
      "text/vnd.plotly.v1+html": [
       "<script>requirejs.config({paths: { 'plotly': ['https://cdn.plot.ly/plotly-latest.min']},});if(!window.Plotly) {{require(['plotly'],function(plotly) {window.Plotly=plotly;});}}</script>"
      ]
     },
     "metadata": {},
     "output_type": "display_data"
    }
   ],
   "source": [
    "import pandas as pd\n",
    "import numpy as np\n",
    "import sklearn\n",
    "from sklearn.model_selection import train_test_split\n",
    "import seaborn as sns\n",
    "import matplotlib.pyplot as plt\n",
    "%matplotlib inline\n",
    "\n",
    "import plotly.offline as py\n",
    "py.init_notebook_mode(connected=True)\n",
    "import plotly.graph_objs as go\n",
    "import plotly.tools as tls"
   ]
  },
  {
   "cell_type": "code",
   "execution_count": 3,
   "metadata": {},
   "outputs": [
    {
     "name": "stderr",
     "output_type": "stream",
     "text": [
      "C:\\Users\\Delanoue\\Anaconda3\\lib\\site-packages\\sklearn\\ensemble\\weight_boosting.py:29: DeprecationWarning:\n",
      "\n",
      "numpy.core.umath_tests is an internal NumPy module and should not be imported. It will be removed in a future NumPy release.\n",
      "\n",
      "C:\\Users\\Delanoue\\Anaconda3\\lib\\site-packages\\sklearn\\cross_validation.py:44: DeprecationWarning:\n",
      "\n",
      "This module was deprecated in version 0.18 in favor of the model_selection module into which all the refactored classes and functions are moved. Also note that the interface of the new CV iterators are different from that of this module. This module will be removed in 0.20.\n",
      "\n"
     ]
    }
   ],
   "source": [
    "from sklearn.ensemble import (RandomForestClassifier, AdaBoostClassifier, \n",
    "                              GradientBoostingClassifier, ExtraTreesClassifier)\n",
    "\n",
    "from sklearn.cross_validation import KFold"
   ]
  },
  {
   "cell_type": "markdown",
   "metadata": {},
   "source": [
    "## Data Preparation"
   ]
  },
  {
   "cell_type": "markdown",
   "metadata": {},
   "source": [
    "We use the same data preparation we performed in the notebook called \" A bad simple Linear Regression\"\n",
    "\n",
    "\n",
    "In a nutshell :\n",
    "\n",
    "-I replace Nan values with the means from the train table\n",
    "\n",
    "-I creat a One-Hot encoding column but it's useless here ...\n"
   ]
  },
  {
   "cell_type": "code",
   "execution_count": 4,
   "metadata": {
    "collapsed": true
   },
   "outputs": [],
   "source": [
    "from transplant.tools.dataset import Dataset \n",
    "\n",
    "dataset = Dataset()\n",
    "\n",
    "train, test = dataset.get_static()\n",
    "\n",
    "train1=train.apply(pd.to_numeric,errors='coerce').dropna(1, how=\"all\")\n",
    "\n",
    "mean_train1 = train1.mean()\n",
    "\n",
    "train1=train1.fillna(mean_train1)\n",
    "\n",
    "test1=test.apply(pd.to_numeric,errors='coerce').dropna(1, how=\"all\").fillna(mean_train1)\n",
    "\n",
    "drop_test1=[]\n",
    "drop_train1=[]\n",
    "\n",
    "for i in train1.columns :\n",
    "    if not(i in test1.columns) :\n",
    "        drop_train1+=[i]\n",
    "        \n",
    "for i in test1.columns :\n",
    "    if not(i in train1.columns) :\n",
    "        drop_test1+=[i]\n",
    "drop_test1 , drop_train1\n",
    "\n",
    "test1=test1.drop(drop_test1, axis=1)\n",
    "train1=train1.drop(drop_train1, axis=1)\n",
    "\n",
    "train1.shape, test1.shape\n",
    "\n",
    "train2=train1.drop(['target'], axis=1)\n",
    "test2=test1.drop(['target'], axis=1)\n",
    "\n",
    "mean_train2=train2.mean()\n",
    "std_train2=train2.std()\n",
    "\n",
    "train2=(train2-mean_train2)/std_train2\n",
    "test2=(test2-mean_train2)/std_train2\n",
    "\n",
    "dic_to_One_Hot = {0 : [1,0], 1 : [0,1]}\n",
    "\n",
    "X_train=np.array(train2)\n",
    "X_test=np.array(test2)\n",
    "\n",
    "y_train_cls=np.array(train1['target'])\n",
    "y_train=np.array(list(train1['target'].map(dic_to_One_Hot)))\n",
    "\n",
    "y_test_cls=test1['target']\n",
    "y_test=np.array(list(y_test_cls.map(dic_to_One_Hot)))\n",
    "y_test_cls=np.array(y_test_cls)\n",
    "\n"
   ]
  },
  {
   "cell_type": "markdown",
   "metadata": {},
   "source": [
    "## ML Tuning"
   ]
  },
  {
   "cell_type": "code",
   "execution_count": 5,
   "metadata": {},
   "outputs": [],
   "source": [
    "cols = train2.columns.values  #On a besoin des colonnes pour plus tard \n",
    "                                # On observe le grand X et pas le petit x ...\n",
    "\n",
    "ntrain = train2.shape[0]\n",
    "\n",
    "ntest =test2.shape[0]\n",
    "\n",
    "seed_fix = 5                   # Pour reproduire les résultats"
   ]
  },
  {
   "cell_type": "code",
   "execution_count": 6,
   "metadata": {
    "collapsed": true
   },
   "outputs": [],
   "source": [
    "class SklearnHelper(object):\n",
    "    def __init__(self, clf, seed=0, params=None):\n",
    "        params['random_state'] = seed\n",
    "        self.clf = clf(**params)\n",
    "\n",
    "    def train(self, x_train, y_train):\n",
    "        self.clf.fit(x_train, y_train)\n",
    "\n",
    "    def predict(self, x):\n",
    "        return self.clf.predict(x)\n",
    "    \n",
    "    def fit(self,x,y):\n",
    "        return self.clf.fit(x,y)\n",
    "    \n",
    "    def feature_importances(self,x,y):\n",
    "        return self.clf.fit(x,y).feature_importances_"
   ]
  },
  {
   "cell_type": "code",
   "execution_count": 7,
   "metadata": {
    "collapsed": true
   },
   "outputs": [],
   "source": [
    "NFOLDS = 5 \n",
    "kf = KFold(ntrain, n_folds= NFOLDS, random_state=seed_fix)\n",
    "\n",
    "\n",
    "\n",
    "def get_oof(clf, x_train, y_train, x_test):\n",
    "    oof_train = np.zeros((ntrain,))\n",
    "    oof_test = np.zeros((ntest,))\n",
    "    oof_test_skf = np.empty((NFOLDS, ntest))\n",
    "\n",
    "    for i, (train_index, test_index) in enumerate(kf):\n",
    "        x_tr = x_train[train_index]\n",
    "        y_tr = y_train[train_index]\n",
    "        x_te = x_train[test_index]\n",
    "\n",
    "        clf.train(x_tr, y_tr)\n",
    "\n",
    "        oof_train[test_index] = clf.predict(x_te)\n",
    "        oof_test_skf[i, :] = clf.predict(x_test)\n",
    "\n",
    "    oof_test[:] = oof_test_skf.mean(axis=0)\n",
    "    return oof_train.reshape(-1, 1), oof_test.reshape(-1, 1)"
   ]
  },
  {
   "cell_type": "code",
   "execution_count": 8,
   "metadata": {
    "collapsed": true
   },
   "outputs": [],
   "source": [
    "\n",
    "rf_params = {\n",
    "    'n_jobs': -1,\n",
    "    'n_estimators': 500,\n",
    "     'warm_start': True, \n",
    "     #'max_features': 0.2,\n",
    "    'max_depth': 6,\n",
    "    'min_samples_leaf': 2,\n",
    "    'max_features' : 'sqrt',\n",
    "    'verbose': 0\n",
    "}"
   ]
  },
  {
   "cell_type": "code",
   "execution_count": 9,
   "metadata": {
    "collapsed": true
   },
   "outputs": [],
   "source": [
    "et_params = {\n",
    "    'n_jobs': -1,\n",
    "    'n_estimators':500,\n",
    "    #'max_features': 0.5,\n",
    "    'max_depth': 8,\n",
    "    'min_samples_leaf': 2,\n",
    "    'verbose': 0\n",
    "}"
   ]
  },
  {
   "cell_type": "code",
   "execution_count": 10,
   "metadata": {
    "collapsed": true
   },
   "outputs": [],
   "source": [
    "ada_params = {\n",
    "    'n_estimators': 500,\n",
    "    'learning_rate' : 0.75\n",
    "}"
   ]
  },
  {
   "cell_type": "code",
   "execution_count": 11,
   "metadata": {
    "collapsed": true
   },
   "outputs": [],
   "source": [
    "gb_params = {\n",
    "    'n_estimators': 500,\n",
    "     #'max_features': 0.2,\n",
    "    'max_depth': 5,\n",
    "    'min_samples_leaf': 2,\n",
    "    'verbose': 0\n",
    "}"
   ]
  },
  {
   "cell_type": "code",
   "execution_count": 12,
   "metadata": {
    "collapsed": true
   },
   "outputs": [],
   "source": [
    "rf = SklearnHelper(clf=RandomForestClassifier, seed=seed_fix , params=rf_params)\n",
    "et = SklearnHelper(clf=ExtraTreesClassifier, seed=seed_fix, params=et_params)\n",
    "ada = SklearnHelper(clf=AdaBoostClassifier, seed=seed_fix , params=ada_params)\n",
    "gb = SklearnHelper(clf=GradientBoostingClassifier, seed=seed_fix, params=gb_params)"
   ]
  },
  {
   "cell_type": "markdown",
   "metadata": {},
   "source": [
    "## Learning zone"
   ]
  },
  {
   "cell_type": "code",
   "execution_count": 13,
   "metadata": {},
   "outputs": [
    {
     "name": "stderr",
     "output_type": "stream",
     "text": [
      "C:\\Users\\Delanoue\\Anaconda3\\lib\\site-packages\\sklearn\\ensemble\\forest.py:303: UserWarning:\n",
      "\n",
      "Warm-start fitting without increasing n_estimators does not fit new trees.\n",
      "\n"
     ]
    },
    {
     "name": "stdout",
     "output_type": "stream",
     "text": [
      "I am done learning :D\n"
     ]
    }
   ],
   "source": [
    "et_oof_train, et_oof_test = get_oof(et, X_train, y_train_cls, X_test) # Extra Trees\n",
    "rf_oof_train, rf_oof_test = get_oof(rf,X_train, y_train_cls, X_test) # Random Forest\n",
    "ada_oof_train, ada_oof_test = get_oof(ada, X_train, y_train_cls, X_test) # AdaBoost \n",
    "gb_oof_train, gb_oof_test = get_oof(gb,X_train, y_train_cls, X_test) # Gradient Boost\n",
    "\n",
    "print(\"I am done learning :D\")"
   ]
  },
  {
   "cell_type": "code",
   "execution_count": 14,
   "metadata": {},
   "outputs": [
    {
     "name": "stderr",
     "output_type": "stream",
     "text": [
      "C:\\Users\\Delanoue\\Anaconda3\\lib\\site-packages\\sklearn\\ensemble\\forest.py:303: UserWarning:\n",
      "\n",
      "Warm-start fitting without increasing n_estimators does not fit new trees.\n",
      "\n"
     ]
    }
   ],
   "source": [
    "rf_feature = rf.feature_importances(X_train,y_train_cls)\n",
    "et_feature = et.feature_importances(X_train, y_train_cls)\n",
    "ada_feature = ada.feature_importances(X_train, y_train_cls)\n",
    "gb_feature = gb.feature_importances(X_train,y_train_cls)\n",
    "\n",
    "#On met plutot dans un dataFrame\n",
    "feature_dataframe = pd.DataFrame( {'features': cols,\n",
    "     'Random Forest Importance des features': rf_feature,\n",
    "     'Extra Trees Importance des features': et_feature,\n",
    "      'AdaBoost Importance des features': ada_feature,\n",
    "    'Gradient Boost Importance des features': gb_feature\n",
    "    })"
   ]
  },
  {
   "cell_type": "code",
   "execution_count": 15,
   "metadata": {
    "collapsed": true
   },
   "outputs": [],
   "source": [
    "rf_pred=rf.predict(X_test)\n",
    "et_pred=et.predict(X_test)\n",
    "ada_pred=ada.predict(X_test)\n",
    "gb_pred=gb.predict(X_test)"
   ]
  },
  {
   "cell_type": "markdown",
   "metadata": {},
   "source": [
    "## Classification Reports"
   ]
  },
  {
   "cell_type": "code",
   "execution_count": 16,
   "metadata": {},
   "outputs": [
    {
     "name": "stdout",
     "output_type": "stream",
     "text": [
      "             precision    recall  f1-score   support\n",
      "\n",
      "          0       0.68      0.59      0.63        82\n",
      "          1       0.35      0.44      0.39        41\n",
      "\n",
      "avg / total       0.57      0.54      0.55       123\n",
      "\n"
     ]
    }
   ],
   "source": [
    "from sklearn import metrics\n",
    "print(metrics.classification_report(rf_pred, y_test_cls))"
   ]
  },
  {
   "cell_type": "code",
   "execution_count": 17,
   "metadata": {},
   "outputs": [
    {
     "name": "stdout",
     "output_type": "stream",
     "text": [
      "             precision    recall  f1-score   support\n",
      "\n",
      "          0       0.82      0.63      0.71        92\n",
      "          1       0.35      0.58      0.43        31\n",
      "\n",
      "avg / total       0.70      0.62      0.64       123\n",
      "\n"
     ]
    }
   ],
   "source": [
    "print(metrics.classification_report(et_pred, y_test_cls))"
   ]
  },
  {
   "cell_type": "code",
   "execution_count": 18,
   "metadata": {},
   "outputs": [
    {
     "name": "stdout",
     "output_type": "stream",
     "text": [
      "             precision    recall  f1-score   support\n",
      "\n",
      "          0       0.70      0.64      0.67        78\n",
      "          1       0.46      0.53      0.49        45\n",
      "\n",
      "avg / total       0.62      0.60      0.61       123\n",
      "\n"
     ]
    }
   ],
   "source": [
    "print(metrics.classification_report(ada_pred, y_test_cls))"
   ]
  },
  {
   "cell_type": "code",
   "execution_count": 19,
   "metadata": {},
   "outputs": [
    {
     "name": "stdout",
     "output_type": "stream",
     "text": [
      "             precision    recall  f1-score   support\n",
      "\n",
      "          0       0.68      0.65      0.66        74\n",
      "          1       0.50      0.53      0.51        49\n",
      "\n",
      "avg / total       0.61      0.60      0.60       123\n",
      "\n"
     ]
    }
   ],
   "source": [
    "print(metrics.classification_report(gb_pred, y_test_cls))"
   ]
  },
  {
   "cell_type": "markdown",
   "metadata": {},
   "source": [
    "## Feature Importance Visualisation "
   ]
  },
  {
   "cell_type": "code",
   "execution_count": 20,
   "metadata": {},
   "outputs": [
    {
     "data": {
      "application/vnd.plotly.v1+json": {
       "data": [
        {
         "marker": {
          "color": [
           0.07516093690888108,
           0.014144240228553272,
           0.054113747579070025,
           0.04625489418974874,
           0.0004868225589975269,
           0.06783492576786135,
           0.03305349301153785,
           0.00265486872988758,
           0.05535954765709041,
           0.06386327719439101,
           0.05054938027669759,
           0.017415788850629447,
           0.007866052032928651,
           0.03539555826628831,
           0.042437008391496556,
           0.040470188191625005,
           0.053551913221765265,
           0.07384051073012332,
           0.00630568804669689,
           0.06263971872348612,
           0.0012559187198535363,
           0.04579061436595385,
           0.01866656267793537,
           0.006810653143603807,
           0.007317447056148795,
           0.01371391791341716,
           0.008939869156594955,
           0.007006833345653079,
           0.0012326034397593198,
           0.002568122707323348,
           0.007037708514454857,
           0.008410184921196232,
           0.015042856257842609,
           0.05253234407787049,
           0.00027580314463674895
          ],
          "colorscale": "Portland",
          "showscale": true,
          "size": 25,
          "sizemode": "diameter",
          "sizeref": 1
         },
         "mode": "markers",
         "text": [
          "Age_donor",
          "Aspirations_donor",
          "BMI_donor",
          "Donneur_CPT",
          "Insuffisance_renale",
          "LAS",
          "PAPS",
          "PFO",
          "PF_donor",
          "Poids",
          "Poids_donor",
          "RX_donor",
          "Sex_donor",
          "Tabagisme_donor",
          "Taille",
          "Taille_donor",
          "age",
          "body_mass_index",
          "diabetes",
          "id_patient",
          "other_organ_transplantation",
          "oto_score",
          "pathologie",
          "plasmapherese",
          "preoperative_ECMO",
          "preoperative_ICU",
          "preoperative_mechanical_ventilation",
          "preoperative_pulmonary_hypertension",
          "preoperative_vasopressor",
          "retransplant",
          "sexe",
          "super_urgence",
          "thoracic_surgery_history",
          "time_on_waiting_liste",
          "transplanted_twice_during_study_period"
         ],
         "type": "scatter",
         "uid": "8e678c4a-fbda-11e8-aa08-6002921757e3",
         "x": [
          "Age_donor",
          "Aspirations_donor",
          "BMI_donor",
          "Donneur_CPT",
          "Insuffisance_renale",
          "LAS",
          "PAPS",
          "PFO",
          "PF_donor",
          "Poids",
          "Poids_donor",
          "RX_donor",
          "Sex_donor",
          "Tabagisme_donor",
          "Taille",
          "Taille_donor",
          "age",
          "body_mass_index",
          "diabetes",
          "id_patient",
          "other_organ_transplantation",
          "oto_score",
          "pathologie",
          "plasmapherese",
          "preoperative_ECMO",
          "preoperative_ICU",
          "preoperative_mechanical_ventilation",
          "preoperative_pulmonary_hypertension",
          "preoperative_vasopressor",
          "retransplant",
          "sexe",
          "super_urgence",
          "thoracic_surgery_history",
          "time_on_waiting_liste",
          "transplanted_twice_during_study_period"
         ],
         "y": [
          0.07516093690888108,
          0.014144240228553272,
          0.054113747579070025,
          0.04625489418974874,
          0.0004868225589975269,
          0.06783492576786135,
          0.03305349301153785,
          0.00265486872988758,
          0.05535954765709041,
          0.06386327719439101,
          0.05054938027669759,
          0.017415788850629447,
          0.007866052032928651,
          0.03539555826628831,
          0.042437008391496556,
          0.040470188191625005,
          0.053551913221765265,
          0.07384051073012332,
          0.00630568804669689,
          0.06263971872348612,
          0.0012559187198535363,
          0.04579061436595385,
          0.01866656267793537,
          0.006810653143603807,
          0.007317447056148795,
          0.01371391791341716,
          0.008939869156594955,
          0.007006833345653079,
          0.0012326034397593198,
          0.002568122707323348,
          0.007037708514454857,
          0.008410184921196232,
          0.015042856257842609,
          0.05253234407787049,
          0.00027580314463674895
         ]
        }
       ],
       "layout": {
        "autosize": true,
        "hovermode": "closest",
        "showlegend": false,
        "title": "Random Forest Importance des features",
        "yaxis": {
         "gridwidth": 2,
         "ticklen": 5,
         "title": "Importance des features"
        }
       }
      },
      "text/html": [
       "<div id=\"7c54ba4d-04ae-482a-8135-efb9552240a0\" style=\"height: 525px; width: 100%;\" class=\"plotly-graph-div\"></div><script type=\"text/javascript\">require([\"plotly\"], function(Plotly) { window.PLOTLYENV=window.PLOTLYENV || {};window.PLOTLYENV.BASE_URL=\"https://plot.ly\";Plotly.newPlot(\"7c54ba4d-04ae-482a-8135-efb9552240a0\", [{\"marker\": {\"color\": [0.07516093690888108, 0.014144240228553272, 0.054113747579070025, 0.04625489418974874, 0.0004868225589975269, 0.06783492576786135, 0.03305349301153785, 0.00265486872988758, 0.05535954765709041, 0.06386327719439101, 0.05054938027669759, 0.017415788850629447, 0.007866052032928651, 0.03539555826628831, 0.042437008391496556, 0.040470188191625005, 0.053551913221765265, 0.07384051073012332, 0.00630568804669689, 0.06263971872348612, 0.0012559187198535363, 0.04579061436595385, 0.01866656267793537, 0.006810653143603807, 0.007317447056148795, 0.01371391791341716, 0.008939869156594955, 0.007006833345653079, 0.0012326034397593198, 0.002568122707323348, 0.007037708514454857, 0.008410184921196232, 0.015042856257842609, 0.05253234407787049, 0.00027580314463674895], \"colorscale\": \"Portland\", \"showscale\": true, \"size\": 25, \"sizemode\": \"diameter\", \"sizeref\": 1}, \"mode\": \"markers\", \"text\": [\"Age_donor\", \"Aspirations_donor\", \"BMI_donor\", \"Donneur_CPT\", \"Insuffisance_renale\", \"LAS\", \"PAPS\", \"PFO\", \"PF_donor\", \"Poids\", \"Poids_donor\", \"RX_donor\", \"Sex_donor\", \"Tabagisme_donor\", \"Taille\", \"Taille_donor\", \"age\", \"body_mass_index\", \"diabetes\", \"id_patient\", \"other_organ_transplantation\", \"oto_score\", \"pathologie\", \"plasmapherese\", \"preoperative_ECMO\", \"preoperative_ICU\", \"preoperative_mechanical_ventilation\", \"preoperative_pulmonary_hypertension\", \"preoperative_vasopressor\", \"retransplant\", \"sexe\", \"super_urgence\", \"thoracic_surgery_history\", \"time_on_waiting_liste\", \"transplanted_twice_during_study_period\"], \"x\": [\"Age_donor\", \"Aspirations_donor\", \"BMI_donor\", \"Donneur_CPT\", \"Insuffisance_renale\", \"LAS\", \"PAPS\", \"PFO\", \"PF_donor\", \"Poids\", \"Poids_donor\", \"RX_donor\", \"Sex_donor\", \"Tabagisme_donor\", \"Taille\", \"Taille_donor\", \"age\", \"body_mass_index\", \"diabetes\", \"id_patient\", \"other_organ_transplantation\", \"oto_score\", \"pathologie\", \"plasmapherese\", \"preoperative_ECMO\", \"preoperative_ICU\", \"preoperative_mechanical_ventilation\", \"preoperative_pulmonary_hypertension\", \"preoperative_vasopressor\", \"retransplant\", \"sexe\", \"super_urgence\", \"thoracic_surgery_history\", \"time_on_waiting_liste\", \"transplanted_twice_during_study_period\"], \"y\": [0.07516093690888108, 0.014144240228553272, 0.054113747579070025, 0.04625489418974874, 0.0004868225589975269, 0.06783492576786135, 0.03305349301153785, 0.00265486872988758, 0.05535954765709041, 0.06386327719439101, 0.05054938027669759, 0.017415788850629447, 0.007866052032928651, 0.03539555826628831, 0.042437008391496556, 0.040470188191625005, 0.053551913221765265, 0.07384051073012332, 0.00630568804669689, 0.06263971872348612, 0.0012559187198535363, 0.04579061436595385, 0.01866656267793537, 0.006810653143603807, 0.007317447056148795, 0.01371391791341716, 0.008939869156594955, 0.007006833345653079, 0.0012326034397593198, 0.002568122707323348, 0.007037708514454857, 0.008410184921196232, 0.015042856257842609, 0.05253234407787049, 0.00027580314463674895], \"type\": \"scatter\", \"uid\": \"8e678c4a-fbda-11e8-aa08-6002921757e3\"}], {\"autosize\": true, \"hovermode\": \"closest\", \"showlegend\": false, \"title\": \"Random Forest Importance des features\", \"yaxis\": {\"gridwidth\": 2, \"ticklen\": 5, \"title\": \"Importance des features\"}}, {\"showLink\": true, \"linkText\": \"Export to plot.ly\"})});</script>"
      ],
      "text/vnd.plotly.v1+html": [
       "<div id=\"7c54ba4d-04ae-482a-8135-efb9552240a0\" style=\"height: 525px; width: 100%;\" class=\"plotly-graph-div\"></div><script type=\"text/javascript\">require([\"plotly\"], function(Plotly) { window.PLOTLYENV=window.PLOTLYENV || {};window.PLOTLYENV.BASE_URL=\"https://plot.ly\";Plotly.newPlot(\"7c54ba4d-04ae-482a-8135-efb9552240a0\", [{\"marker\": {\"color\": [0.07516093690888108, 0.014144240228553272, 0.054113747579070025, 0.04625489418974874, 0.0004868225589975269, 0.06783492576786135, 0.03305349301153785, 0.00265486872988758, 0.05535954765709041, 0.06386327719439101, 0.05054938027669759, 0.017415788850629447, 0.007866052032928651, 0.03539555826628831, 0.042437008391496556, 0.040470188191625005, 0.053551913221765265, 0.07384051073012332, 0.00630568804669689, 0.06263971872348612, 0.0012559187198535363, 0.04579061436595385, 0.01866656267793537, 0.006810653143603807, 0.007317447056148795, 0.01371391791341716, 0.008939869156594955, 0.007006833345653079, 0.0012326034397593198, 0.002568122707323348, 0.007037708514454857, 0.008410184921196232, 0.015042856257842609, 0.05253234407787049, 0.00027580314463674895], \"colorscale\": \"Portland\", \"showscale\": true, \"size\": 25, \"sizemode\": \"diameter\", \"sizeref\": 1}, \"mode\": \"markers\", \"text\": [\"Age_donor\", \"Aspirations_donor\", \"BMI_donor\", \"Donneur_CPT\", \"Insuffisance_renale\", \"LAS\", \"PAPS\", \"PFO\", \"PF_donor\", \"Poids\", \"Poids_donor\", \"RX_donor\", \"Sex_donor\", \"Tabagisme_donor\", \"Taille\", \"Taille_donor\", \"age\", \"body_mass_index\", \"diabetes\", \"id_patient\", \"other_organ_transplantation\", \"oto_score\", \"pathologie\", \"plasmapherese\", \"preoperative_ECMO\", \"preoperative_ICU\", \"preoperative_mechanical_ventilation\", \"preoperative_pulmonary_hypertension\", \"preoperative_vasopressor\", \"retransplant\", \"sexe\", \"super_urgence\", \"thoracic_surgery_history\", \"time_on_waiting_liste\", \"transplanted_twice_during_study_period\"], \"x\": [\"Age_donor\", \"Aspirations_donor\", \"BMI_donor\", \"Donneur_CPT\", \"Insuffisance_renale\", \"LAS\", \"PAPS\", \"PFO\", \"PF_donor\", \"Poids\", \"Poids_donor\", \"RX_donor\", \"Sex_donor\", \"Tabagisme_donor\", \"Taille\", \"Taille_donor\", \"age\", \"body_mass_index\", \"diabetes\", \"id_patient\", \"other_organ_transplantation\", \"oto_score\", \"pathologie\", \"plasmapherese\", \"preoperative_ECMO\", \"preoperative_ICU\", \"preoperative_mechanical_ventilation\", \"preoperative_pulmonary_hypertension\", \"preoperative_vasopressor\", \"retransplant\", \"sexe\", \"super_urgence\", \"thoracic_surgery_history\", \"time_on_waiting_liste\", \"transplanted_twice_during_study_period\"], \"y\": [0.07516093690888108, 0.014144240228553272, 0.054113747579070025, 0.04625489418974874, 0.0004868225589975269, 0.06783492576786135, 0.03305349301153785, 0.00265486872988758, 0.05535954765709041, 0.06386327719439101, 0.05054938027669759, 0.017415788850629447, 0.007866052032928651, 0.03539555826628831, 0.042437008391496556, 0.040470188191625005, 0.053551913221765265, 0.07384051073012332, 0.00630568804669689, 0.06263971872348612, 0.0012559187198535363, 0.04579061436595385, 0.01866656267793537, 0.006810653143603807, 0.007317447056148795, 0.01371391791341716, 0.008939869156594955, 0.007006833345653079, 0.0012326034397593198, 0.002568122707323348, 0.007037708514454857, 0.008410184921196232, 0.015042856257842609, 0.05253234407787049, 0.00027580314463674895], \"type\": \"scatter\", \"uid\": \"8e678c4a-fbda-11e8-aa08-6002921757e3\"}], {\"autosize\": true, \"hovermode\": \"closest\", \"showlegend\": false, \"title\": \"Random Forest Importance des features\", \"yaxis\": {\"gridwidth\": 2, \"ticklen\": 5, \"title\": \"Importance des features\"}}, {\"showLink\": true, \"linkText\": \"Export to plot.ly\"})});</script>"
      ]
     },
     "metadata": {},
     "output_type": "display_data"
    }
   ],
   "source": [
    "trace = go.Scatter(x = feature_dataframe['features'].values,\n",
    "    y = feature_dataframe['Random Forest Importance des features'].values,\n",
    "    \n",
    "    mode='markers',\n",
    "    marker=dict(\n",
    "        sizemode = 'diameter',\n",
    "        sizeref = 1,\n",
    "        size = 25,\n",
    "        #color = np.random.randn(500), #set color equal to a variable\n",
    "        color = feature_dataframe['Random Forest Importance des features'].values,\n",
    "        colorscale='Portland',\n",
    "        showscale=True\n",
    "    ),\n",
    "    text = feature_dataframe['features'].values\n",
    ")\n",
    "\n",
    "data = [trace]\n",
    "\n",
    "layout= go.Layout(\n",
    "    autosize= True,\n",
    "    title= 'Random Forest Importance des features',\n",
    "    hovermode= 'closest',\n",
    "    yaxis=dict(\n",
    "        title= 'Importance des features',\n",
    "        ticklen= 5,\n",
    "        gridwidth= 2\n",
    "    ),\n",
    "    showlegend= False\n",
    ")\n",
    "\n",
    "fig = go.Figure(data=data, layout=layout)\n",
    "\n",
    "py.iplot(fig,filename='scatter2010')"
   ]
  },
  {
   "cell_type": "code",
   "execution_count": 21,
   "metadata": {},
   "outputs": [
    {
     "data": {
      "application/vnd.plotly.v1+json": {
       "data": [
        {
         "marker": {
          "color": [
           0.05264781941708263,
           0.031377128621618795,
           0.02156126788801791,
           0.028733174087248604,
           0.0026639205264454404,
           0.03556833782492535,
           0.021399813004605597,
           0.011575968414448612,
           0.02784647944996016,
           0.04989279577670698,
           0.025980205431021346,
           0.02910114819277578,
           0.02679724917230757,
           0.044495694849044934,
           0.025241777847616487,
           0.026961668796228102,
           0.030229778770971254,
           0.05356009899894136,
           0.02038620598317828,
           0.04073903231980273,
           0.00397857980391462,
           0.04754131100179561,
           0.029629934006594607,
           0.028194580239880064,
           0.027052896351923452,
           0.0367112018945752,
           0.047572496322422664,
           0.02394752768980846,
           0.008523879988691719,
           0.007085412836229509,
           0.02269965185401289,
           0.022673882310085155,
           0.04822640720900376,
           0.03719857230597843,
           0.002204100812135928
          ],
          "colorscale": "Portland",
          "showscale": true,
          "size": 25,
          "sizemode": "diameter",
          "sizeref": 1
         },
         "mode": "markers",
         "text": [
          "Age_donor",
          "Aspirations_donor",
          "BMI_donor",
          "Donneur_CPT",
          "Insuffisance_renale",
          "LAS",
          "PAPS",
          "PFO",
          "PF_donor",
          "Poids",
          "Poids_donor",
          "RX_donor",
          "Sex_donor",
          "Tabagisme_donor",
          "Taille",
          "Taille_donor",
          "age",
          "body_mass_index",
          "diabetes",
          "id_patient",
          "other_organ_transplantation",
          "oto_score",
          "pathologie",
          "plasmapherese",
          "preoperative_ECMO",
          "preoperative_ICU",
          "preoperative_mechanical_ventilation",
          "preoperative_pulmonary_hypertension",
          "preoperative_vasopressor",
          "retransplant",
          "sexe",
          "super_urgence",
          "thoracic_surgery_history",
          "time_on_waiting_liste",
          "transplanted_twice_during_study_period"
         ],
         "type": "scatter",
         "uid": "8e83266e-fbda-11e8-b9c4-6002921757e3",
         "x": [
          "Age_donor",
          "Aspirations_donor",
          "BMI_donor",
          "Donneur_CPT",
          "Insuffisance_renale",
          "LAS",
          "PAPS",
          "PFO",
          "PF_donor",
          "Poids",
          "Poids_donor",
          "RX_donor",
          "Sex_donor",
          "Tabagisme_donor",
          "Taille",
          "Taille_donor",
          "age",
          "body_mass_index",
          "diabetes",
          "id_patient",
          "other_organ_transplantation",
          "oto_score",
          "pathologie",
          "plasmapherese",
          "preoperative_ECMO",
          "preoperative_ICU",
          "preoperative_mechanical_ventilation",
          "preoperative_pulmonary_hypertension",
          "preoperative_vasopressor",
          "retransplant",
          "sexe",
          "super_urgence",
          "thoracic_surgery_history",
          "time_on_waiting_liste",
          "transplanted_twice_during_study_period"
         ],
         "y": [
          0.05264781941708263,
          0.031377128621618795,
          0.02156126788801791,
          0.028733174087248604,
          0.0026639205264454404,
          0.03556833782492535,
          0.021399813004605597,
          0.011575968414448612,
          0.02784647944996016,
          0.04989279577670698,
          0.025980205431021346,
          0.02910114819277578,
          0.02679724917230757,
          0.044495694849044934,
          0.025241777847616487,
          0.026961668796228102,
          0.030229778770971254,
          0.05356009899894136,
          0.02038620598317828,
          0.04073903231980273,
          0.00397857980391462,
          0.04754131100179561,
          0.029629934006594607,
          0.028194580239880064,
          0.027052896351923452,
          0.0367112018945752,
          0.047572496322422664,
          0.02394752768980846,
          0.008523879988691719,
          0.007085412836229509,
          0.02269965185401289,
          0.022673882310085155,
          0.04822640720900376,
          0.03719857230597843,
          0.002204100812135928
         ]
        }
       ],
       "layout": {
        "autosize": true,
        "hovermode": "closest",
        "showlegend": false,
        "title": "Extra Trees Importance des features",
        "yaxis": {
         "gridwidth": 2,
         "ticklen": 5,
         "title": "Importance des features"
        }
       }
      },
      "text/html": [
       "<div id=\"2005b5d8-646a-4e47-912b-30481d595d55\" style=\"height: 525px; width: 100%;\" class=\"plotly-graph-div\"></div><script type=\"text/javascript\">require([\"plotly\"], function(Plotly) { window.PLOTLYENV=window.PLOTLYENV || {};window.PLOTLYENV.BASE_URL=\"https://plot.ly\";Plotly.newPlot(\"2005b5d8-646a-4e47-912b-30481d595d55\", [{\"marker\": {\"color\": [0.05264781941708263, 0.031377128621618795, 0.02156126788801791, 0.028733174087248604, 0.0026639205264454404, 0.03556833782492535, 0.021399813004605597, 0.011575968414448612, 0.02784647944996016, 0.04989279577670698, 0.025980205431021346, 0.02910114819277578, 0.02679724917230757, 0.044495694849044934, 0.025241777847616487, 0.026961668796228102, 0.030229778770971254, 0.05356009899894136, 0.02038620598317828, 0.04073903231980273, 0.00397857980391462, 0.04754131100179561, 0.029629934006594607, 0.028194580239880064, 0.027052896351923452, 0.0367112018945752, 0.047572496322422664, 0.02394752768980846, 0.008523879988691719, 0.007085412836229509, 0.02269965185401289, 0.022673882310085155, 0.04822640720900376, 0.03719857230597843, 0.002204100812135928], \"colorscale\": \"Portland\", \"showscale\": true, \"size\": 25, \"sizemode\": \"diameter\", \"sizeref\": 1}, \"mode\": \"markers\", \"text\": [\"Age_donor\", \"Aspirations_donor\", \"BMI_donor\", \"Donneur_CPT\", \"Insuffisance_renale\", \"LAS\", \"PAPS\", \"PFO\", \"PF_donor\", \"Poids\", \"Poids_donor\", \"RX_donor\", \"Sex_donor\", \"Tabagisme_donor\", \"Taille\", \"Taille_donor\", \"age\", \"body_mass_index\", \"diabetes\", \"id_patient\", \"other_organ_transplantation\", \"oto_score\", \"pathologie\", \"plasmapherese\", \"preoperative_ECMO\", \"preoperative_ICU\", \"preoperative_mechanical_ventilation\", \"preoperative_pulmonary_hypertension\", \"preoperative_vasopressor\", \"retransplant\", \"sexe\", \"super_urgence\", \"thoracic_surgery_history\", \"time_on_waiting_liste\", \"transplanted_twice_during_study_period\"], \"x\": [\"Age_donor\", \"Aspirations_donor\", \"BMI_donor\", \"Donneur_CPT\", \"Insuffisance_renale\", \"LAS\", \"PAPS\", \"PFO\", \"PF_donor\", \"Poids\", \"Poids_donor\", \"RX_donor\", \"Sex_donor\", \"Tabagisme_donor\", \"Taille\", \"Taille_donor\", \"age\", \"body_mass_index\", \"diabetes\", \"id_patient\", \"other_organ_transplantation\", \"oto_score\", \"pathologie\", \"plasmapherese\", \"preoperative_ECMO\", \"preoperative_ICU\", \"preoperative_mechanical_ventilation\", \"preoperative_pulmonary_hypertension\", \"preoperative_vasopressor\", \"retransplant\", \"sexe\", \"super_urgence\", \"thoracic_surgery_history\", \"time_on_waiting_liste\", \"transplanted_twice_during_study_period\"], \"y\": [0.05264781941708263, 0.031377128621618795, 0.02156126788801791, 0.028733174087248604, 0.0026639205264454404, 0.03556833782492535, 0.021399813004605597, 0.011575968414448612, 0.02784647944996016, 0.04989279577670698, 0.025980205431021346, 0.02910114819277578, 0.02679724917230757, 0.044495694849044934, 0.025241777847616487, 0.026961668796228102, 0.030229778770971254, 0.05356009899894136, 0.02038620598317828, 0.04073903231980273, 0.00397857980391462, 0.04754131100179561, 0.029629934006594607, 0.028194580239880064, 0.027052896351923452, 0.0367112018945752, 0.047572496322422664, 0.02394752768980846, 0.008523879988691719, 0.007085412836229509, 0.02269965185401289, 0.022673882310085155, 0.04822640720900376, 0.03719857230597843, 0.002204100812135928], \"type\": \"scatter\", \"uid\": \"8e83266e-fbda-11e8-b9c4-6002921757e3\"}], {\"autosize\": true, \"hovermode\": \"closest\", \"showlegend\": false, \"title\": \"Extra Trees Importance des features\", \"yaxis\": {\"gridwidth\": 2, \"ticklen\": 5, \"title\": \"Importance des features\"}}, {\"showLink\": true, \"linkText\": \"Export to plot.ly\"})});</script>"
      ],
      "text/vnd.plotly.v1+html": [
       "<div id=\"2005b5d8-646a-4e47-912b-30481d595d55\" style=\"height: 525px; width: 100%;\" class=\"plotly-graph-div\"></div><script type=\"text/javascript\">require([\"plotly\"], function(Plotly) { window.PLOTLYENV=window.PLOTLYENV || {};window.PLOTLYENV.BASE_URL=\"https://plot.ly\";Plotly.newPlot(\"2005b5d8-646a-4e47-912b-30481d595d55\", [{\"marker\": {\"color\": [0.05264781941708263, 0.031377128621618795, 0.02156126788801791, 0.028733174087248604, 0.0026639205264454404, 0.03556833782492535, 0.021399813004605597, 0.011575968414448612, 0.02784647944996016, 0.04989279577670698, 0.025980205431021346, 0.02910114819277578, 0.02679724917230757, 0.044495694849044934, 0.025241777847616487, 0.026961668796228102, 0.030229778770971254, 0.05356009899894136, 0.02038620598317828, 0.04073903231980273, 0.00397857980391462, 0.04754131100179561, 0.029629934006594607, 0.028194580239880064, 0.027052896351923452, 0.0367112018945752, 0.047572496322422664, 0.02394752768980846, 0.008523879988691719, 0.007085412836229509, 0.02269965185401289, 0.022673882310085155, 0.04822640720900376, 0.03719857230597843, 0.002204100812135928], \"colorscale\": \"Portland\", \"showscale\": true, \"size\": 25, \"sizemode\": \"diameter\", \"sizeref\": 1}, \"mode\": \"markers\", \"text\": [\"Age_donor\", \"Aspirations_donor\", \"BMI_donor\", \"Donneur_CPT\", \"Insuffisance_renale\", \"LAS\", \"PAPS\", \"PFO\", \"PF_donor\", \"Poids\", \"Poids_donor\", \"RX_donor\", \"Sex_donor\", \"Tabagisme_donor\", \"Taille\", \"Taille_donor\", \"age\", \"body_mass_index\", \"diabetes\", \"id_patient\", \"other_organ_transplantation\", \"oto_score\", \"pathologie\", \"plasmapherese\", \"preoperative_ECMO\", \"preoperative_ICU\", \"preoperative_mechanical_ventilation\", \"preoperative_pulmonary_hypertension\", \"preoperative_vasopressor\", \"retransplant\", \"sexe\", \"super_urgence\", \"thoracic_surgery_history\", \"time_on_waiting_liste\", \"transplanted_twice_during_study_period\"], \"x\": [\"Age_donor\", \"Aspirations_donor\", \"BMI_donor\", \"Donneur_CPT\", \"Insuffisance_renale\", \"LAS\", \"PAPS\", \"PFO\", \"PF_donor\", \"Poids\", \"Poids_donor\", \"RX_donor\", \"Sex_donor\", \"Tabagisme_donor\", \"Taille\", \"Taille_donor\", \"age\", \"body_mass_index\", \"diabetes\", \"id_patient\", \"other_organ_transplantation\", \"oto_score\", \"pathologie\", \"plasmapherese\", \"preoperative_ECMO\", \"preoperative_ICU\", \"preoperative_mechanical_ventilation\", \"preoperative_pulmonary_hypertension\", \"preoperative_vasopressor\", \"retransplant\", \"sexe\", \"super_urgence\", \"thoracic_surgery_history\", \"time_on_waiting_liste\", \"transplanted_twice_during_study_period\"], \"y\": [0.05264781941708263, 0.031377128621618795, 0.02156126788801791, 0.028733174087248604, 0.0026639205264454404, 0.03556833782492535, 0.021399813004605597, 0.011575968414448612, 0.02784647944996016, 0.04989279577670698, 0.025980205431021346, 0.02910114819277578, 0.02679724917230757, 0.044495694849044934, 0.025241777847616487, 0.026961668796228102, 0.030229778770971254, 0.05356009899894136, 0.02038620598317828, 0.04073903231980273, 0.00397857980391462, 0.04754131100179561, 0.029629934006594607, 0.028194580239880064, 0.027052896351923452, 0.0367112018945752, 0.047572496322422664, 0.02394752768980846, 0.008523879988691719, 0.007085412836229509, 0.02269965185401289, 0.022673882310085155, 0.04822640720900376, 0.03719857230597843, 0.002204100812135928], \"type\": \"scatter\", \"uid\": \"8e83266e-fbda-11e8-b9c4-6002921757e3\"}], {\"autosize\": true, \"hovermode\": \"closest\", \"showlegend\": false, \"title\": \"Extra Trees Importance des features\", \"yaxis\": {\"gridwidth\": 2, \"ticklen\": 5, \"title\": \"Importance des features\"}}, {\"showLink\": true, \"linkText\": \"Export to plot.ly\"})});</script>"
      ]
     },
     "metadata": {},
     "output_type": "display_data"
    }
   ],
   "source": [
    "trace = go.Scatter(\n",
    "    y = feature_dataframe['Extra Trees Importance des features'].values,\n",
    "    x = feature_dataframe['features'].values,\n",
    "    mode='markers',\n",
    "    marker=dict(\n",
    "        sizemode = 'diameter',\n",
    "        sizeref = 1,\n",
    "        size = 25,\n",
    "        color = feature_dataframe['Extra Trees Importance des features'].values,\n",
    "        colorscale='Portland',\n",
    "        showscale=True\n",
    "    ),\n",
    "    text = feature_dataframe['features'].values\n",
    ")\n",
    "data = [trace]\n",
    "\n",
    "layout= go.Layout(\n",
    "    autosize= True,\n",
    "    title= 'Extra Trees Importance des features',\n",
    "    hovermode= 'closest',\n",
    "\n",
    "    yaxis=dict(\n",
    "        title= 'Importance des features',\n",
    "        ticklen= 5,\n",
    "        gridwidth= 2\n",
    "    ),\n",
    "    showlegend= False\n",
    ")\n",
    "fig = go.Figure(data=data, layout=layout)\n",
    "py.iplot(fig,filename='scatter2010')"
   ]
  },
  {
   "cell_type": "code",
   "execution_count": 22,
   "metadata": {},
   "outputs": [
    {
     "data": {
      "application/vnd.plotly.v1+json": {
       "data": [
        {
         "marker": {
          "color": [
           0.072,
           0.02,
           0.062,
           0.052,
           0.002,
           0.106,
           0.026,
           0,
           0.084,
           0.058,
           0.054,
           0.004,
           0,
           0.014,
           0.092,
           0.028,
           0.042,
           0.084,
           0.004,
           0.074,
           0,
           0.026,
           0.01,
           0.002,
           0,
           0.014,
           0.002,
           0,
           0.006,
           0,
           0,
           0.002,
           0.004,
           0.056,
           0
          ],
          "colorscale": "Portland",
          "showscale": true,
          "size": 25,
          "sizemode": "diameter",
          "sizeref": 1
         },
         "mode": "markers",
         "text": [
          "Age_donor",
          "Aspirations_donor",
          "BMI_donor",
          "Donneur_CPT",
          "Insuffisance_renale",
          "LAS",
          "PAPS",
          "PFO",
          "PF_donor",
          "Poids",
          "Poids_donor",
          "RX_donor",
          "Sex_donor",
          "Tabagisme_donor",
          "Taille",
          "Taille_donor",
          "age",
          "body_mass_index",
          "diabetes",
          "id_patient",
          "other_organ_transplantation",
          "oto_score",
          "pathologie",
          "plasmapherese",
          "preoperative_ECMO",
          "preoperative_ICU",
          "preoperative_mechanical_ventilation",
          "preoperative_pulmonary_hypertension",
          "preoperative_vasopressor",
          "retransplant",
          "sexe",
          "super_urgence",
          "thoracic_surgery_history",
          "time_on_waiting_liste",
          "transplanted_twice_during_study_period"
         ],
         "type": "scatter",
         "uid": "8e9bb3e6-fbda-11e8-902e-6002921757e3",
         "x": [
          "Age_donor",
          "Aspirations_donor",
          "BMI_donor",
          "Donneur_CPT",
          "Insuffisance_renale",
          "LAS",
          "PAPS",
          "PFO",
          "PF_donor",
          "Poids",
          "Poids_donor",
          "RX_donor",
          "Sex_donor",
          "Tabagisme_donor",
          "Taille",
          "Taille_donor",
          "age",
          "body_mass_index",
          "diabetes",
          "id_patient",
          "other_organ_transplantation",
          "oto_score",
          "pathologie",
          "plasmapherese",
          "preoperative_ECMO",
          "preoperative_ICU",
          "preoperative_mechanical_ventilation",
          "preoperative_pulmonary_hypertension",
          "preoperative_vasopressor",
          "retransplant",
          "sexe",
          "super_urgence",
          "thoracic_surgery_history",
          "time_on_waiting_liste",
          "transplanted_twice_during_study_period"
         ],
         "y": [
          0.072,
          0.02,
          0.062,
          0.052,
          0.002,
          0.106,
          0.026,
          0,
          0.084,
          0.058,
          0.054,
          0.004,
          0,
          0.014,
          0.092,
          0.028,
          0.042,
          0.084,
          0.004,
          0.074,
          0,
          0.026,
          0.01,
          0.002,
          0,
          0.014,
          0.002,
          0,
          0.006,
          0,
          0,
          0.002,
          0.004,
          0.056,
          0
         ]
        }
       ],
       "layout": {
        "autosize": true,
        "hovermode": "closest",
        "showlegend": false,
        "title": "AdaBoost Importance des features",
        "yaxis": {
         "gridwidth": 2,
         "ticklen": 5,
         "title": "Importance des features"
        }
       }
      },
      "text/html": [
       "<div id=\"6f7ec97e-9f7e-41c3-ad5b-44b18a4949d1\" style=\"height: 525px; width: 100%;\" class=\"plotly-graph-div\"></div><script type=\"text/javascript\">require([\"plotly\"], function(Plotly) { window.PLOTLYENV=window.PLOTLYENV || {};window.PLOTLYENV.BASE_URL=\"https://plot.ly\";Plotly.newPlot(\"6f7ec97e-9f7e-41c3-ad5b-44b18a4949d1\", [{\"marker\": {\"color\": [0.072, 0.02, 0.062, 0.052, 0.002, 0.106, 0.026, 0.0, 0.084, 0.058, 0.054, 0.004, 0.0, 0.014, 0.092, 0.028, 0.042, 0.084, 0.004, 0.074, 0.0, 0.026, 0.01, 0.002, 0.0, 0.014, 0.002, 0.0, 0.006, 0.0, 0.0, 0.002, 0.004, 0.056, 0.0], \"colorscale\": \"Portland\", \"showscale\": true, \"size\": 25, \"sizemode\": \"diameter\", \"sizeref\": 1}, \"mode\": \"markers\", \"text\": [\"Age_donor\", \"Aspirations_donor\", \"BMI_donor\", \"Donneur_CPT\", \"Insuffisance_renale\", \"LAS\", \"PAPS\", \"PFO\", \"PF_donor\", \"Poids\", \"Poids_donor\", \"RX_donor\", \"Sex_donor\", \"Tabagisme_donor\", \"Taille\", \"Taille_donor\", \"age\", \"body_mass_index\", \"diabetes\", \"id_patient\", \"other_organ_transplantation\", \"oto_score\", \"pathologie\", \"plasmapherese\", \"preoperative_ECMO\", \"preoperative_ICU\", \"preoperative_mechanical_ventilation\", \"preoperative_pulmonary_hypertension\", \"preoperative_vasopressor\", \"retransplant\", \"sexe\", \"super_urgence\", \"thoracic_surgery_history\", \"time_on_waiting_liste\", \"transplanted_twice_during_study_period\"], \"x\": [\"Age_donor\", \"Aspirations_donor\", \"BMI_donor\", \"Donneur_CPT\", \"Insuffisance_renale\", \"LAS\", \"PAPS\", \"PFO\", \"PF_donor\", \"Poids\", \"Poids_donor\", \"RX_donor\", \"Sex_donor\", \"Tabagisme_donor\", \"Taille\", \"Taille_donor\", \"age\", \"body_mass_index\", \"diabetes\", \"id_patient\", \"other_organ_transplantation\", \"oto_score\", \"pathologie\", \"plasmapherese\", \"preoperative_ECMO\", \"preoperative_ICU\", \"preoperative_mechanical_ventilation\", \"preoperative_pulmonary_hypertension\", \"preoperative_vasopressor\", \"retransplant\", \"sexe\", \"super_urgence\", \"thoracic_surgery_history\", \"time_on_waiting_liste\", \"transplanted_twice_during_study_period\"], \"y\": [0.072, 0.02, 0.062, 0.052, 0.002, 0.106, 0.026, 0.0, 0.084, 0.058, 0.054, 0.004, 0.0, 0.014, 0.092, 0.028, 0.042, 0.084, 0.004, 0.074, 0.0, 0.026, 0.01, 0.002, 0.0, 0.014, 0.002, 0.0, 0.006, 0.0, 0.0, 0.002, 0.004, 0.056, 0.0], \"type\": \"scatter\", \"uid\": \"8e9bb3e6-fbda-11e8-902e-6002921757e3\"}], {\"autosize\": true, \"hovermode\": \"closest\", \"showlegend\": false, \"title\": \"AdaBoost Importance des features\", \"yaxis\": {\"gridwidth\": 2, \"ticklen\": 5, \"title\": \"Importance des features\"}}, {\"showLink\": true, \"linkText\": \"Export to plot.ly\"})});</script>"
      ],
      "text/vnd.plotly.v1+html": [
       "<div id=\"6f7ec97e-9f7e-41c3-ad5b-44b18a4949d1\" style=\"height: 525px; width: 100%;\" class=\"plotly-graph-div\"></div><script type=\"text/javascript\">require([\"plotly\"], function(Plotly) { window.PLOTLYENV=window.PLOTLYENV || {};window.PLOTLYENV.BASE_URL=\"https://plot.ly\";Plotly.newPlot(\"6f7ec97e-9f7e-41c3-ad5b-44b18a4949d1\", [{\"marker\": {\"color\": [0.072, 0.02, 0.062, 0.052, 0.002, 0.106, 0.026, 0.0, 0.084, 0.058, 0.054, 0.004, 0.0, 0.014, 0.092, 0.028, 0.042, 0.084, 0.004, 0.074, 0.0, 0.026, 0.01, 0.002, 0.0, 0.014, 0.002, 0.0, 0.006, 0.0, 0.0, 0.002, 0.004, 0.056, 0.0], \"colorscale\": \"Portland\", \"showscale\": true, \"size\": 25, \"sizemode\": \"diameter\", \"sizeref\": 1}, \"mode\": \"markers\", \"text\": [\"Age_donor\", \"Aspirations_donor\", \"BMI_donor\", \"Donneur_CPT\", \"Insuffisance_renale\", \"LAS\", \"PAPS\", \"PFO\", \"PF_donor\", \"Poids\", \"Poids_donor\", \"RX_donor\", \"Sex_donor\", \"Tabagisme_donor\", \"Taille\", \"Taille_donor\", \"age\", \"body_mass_index\", \"diabetes\", \"id_patient\", \"other_organ_transplantation\", \"oto_score\", \"pathologie\", \"plasmapherese\", \"preoperative_ECMO\", \"preoperative_ICU\", \"preoperative_mechanical_ventilation\", \"preoperative_pulmonary_hypertension\", \"preoperative_vasopressor\", \"retransplant\", \"sexe\", \"super_urgence\", \"thoracic_surgery_history\", \"time_on_waiting_liste\", \"transplanted_twice_during_study_period\"], \"x\": [\"Age_donor\", \"Aspirations_donor\", \"BMI_donor\", \"Donneur_CPT\", \"Insuffisance_renale\", \"LAS\", \"PAPS\", \"PFO\", \"PF_donor\", \"Poids\", \"Poids_donor\", \"RX_donor\", \"Sex_donor\", \"Tabagisme_donor\", \"Taille\", \"Taille_donor\", \"age\", \"body_mass_index\", \"diabetes\", \"id_patient\", \"other_organ_transplantation\", \"oto_score\", \"pathologie\", \"plasmapherese\", \"preoperative_ECMO\", \"preoperative_ICU\", \"preoperative_mechanical_ventilation\", \"preoperative_pulmonary_hypertension\", \"preoperative_vasopressor\", \"retransplant\", \"sexe\", \"super_urgence\", \"thoracic_surgery_history\", \"time_on_waiting_liste\", \"transplanted_twice_during_study_period\"], \"y\": [0.072, 0.02, 0.062, 0.052, 0.002, 0.106, 0.026, 0.0, 0.084, 0.058, 0.054, 0.004, 0.0, 0.014, 0.092, 0.028, 0.042, 0.084, 0.004, 0.074, 0.0, 0.026, 0.01, 0.002, 0.0, 0.014, 0.002, 0.0, 0.006, 0.0, 0.0, 0.002, 0.004, 0.056, 0.0], \"type\": \"scatter\", \"uid\": \"8e9bb3e6-fbda-11e8-902e-6002921757e3\"}], {\"autosize\": true, \"hovermode\": \"closest\", \"showlegend\": false, \"title\": \"AdaBoost Importance des features\", \"yaxis\": {\"gridwidth\": 2, \"ticklen\": 5, \"title\": \"Importance des features\"}}, {\"showLink\": true, \"linkText\": \"Export to plot.ly\"})});</script>"
      ]
     },
     "metadata": {},
     "output_type": "display_data"
    }
   ],
   "source": [
    "trace = go.Scatter(\n",
    "    y = feature_dataframe['AdaBoost Importance des features'].values,\n",
    "    x = feature_dataframe['features'].values,\n",
    "    mode='markers',\n",
    "    marker=dict(\n",
    "        sizemode = 'diameter',\n",
    "        sizeref = 1,\n",
    "        size = 25,\n",
    "        color = feature_dataframe['AdaBoost Importance des features'].values,\n",
    "        colorscale='Portland',\n",
    "        showscale=True\n",
    "    ),\n",
    "    text = feature_dataframe['features'].values\n",
    ")\n",
    "data = [trace]\n",
    "\n",
    "layout= go.Layout(\n",
    "    autosize= True,\n",
    "    title= 'AdaBoost Importance des features',\n",
    "    hovermode= 'closest',\n",
    "    yaxis=dict(\n",
    "        title= 'Importance des features',\n",
    "        ticklen= 5,\n",
    "        gridwidth= 2\n",
    "    ),\n",
    "    showlegend= False\n",
    ")\n",
    "fig = go.Figure(data=data, layout=layout)\n",
    "py.iplot(fig,filename='scatter2010')"
   ]
  },
  {
   "cell_type": "code",
   "execution_count": 23,
   "metadata": {},
   "outputs": [
    {
     "data": {
      "application/vnd.plotly.v1+json": {
       "data": [
        {
         "marker": {
          "color": [
           0.04649280463493909,
           0.010997024892201862,
           0.040901495548928246,
           0.023415865376380712,
           0.00040482821121172485,
           0.0478225304815982,
           0.024696521509316463,
           0.00041353968889165806,
           0.04056813887739819,
           0.0320037420175862,
           0.03090333638051733,
           0.007733338235174707,
           0.0009757678025142549,
           0.0198134105935211,
           0.02991118542133842,
           0.010215679061516277,
           0.04038226742436061,
           0.04981064150404246,
           0.0013597048467879412,
           0.06038662110394896,
           8.519492264813081e-05,
           0.02344290535950778,
           0.0040799494643283685,
           0.0077587155517175686,
           4.895520033043083e-05,
           0.004529005222360436,
           0.0008089332522127946,
           0.0006626827646709819,
           2.0325407817150153e-06,
           0.0009055266751509438,
           0.0025357393533346657,
           0.0006952012300749407,
           0.006313404733142072,
           0.05292331011756475,
           0
          ],
          "colorscale": "Portland",
          "showscale": true,
          "size": 25,
          "sizemode": "diameter",
          "sizeref": 1
         },
         "mode": "markers",
         "text": [
          "Age_donor",
          "Aspirations_donor",
          "BMI_donor",
          "Donneur_CPT",
          "Insuffisance_renale",
          "LAS",
          "PAPS",
          "PFO",
          "PF_donor",
          "Poids",
          "Poids_donor",
          "RX_donor",
          "Sex_donor",
          "Tabagisme_donor",
          "Taille",
          "Taille_donor",
          "age",
          "body_mass_index",
          "diabetes",
          "id_patient",
          "other_organ_transplantation",
          "oto_score",
          "pathologie",
          "plasmapherese",
          "preoperative_ECMO",
          "preoperative_ICU",
          "preoperative_mechanical_ventilation",
          "preoperative_pulmonary_hypertension",
          "preoperative_vasopressor",
          "retransplant",
          "sexe",
          "super_urgence",
          "thoracic_surgery_history",
          "time_on_waiting_liste",
          "transplanted_twice_during_study_period"
         ],
         "type": "scatter",
         "uid": "8eb7001e-fbda-11e8-a9cb-6002921757e3",
         "x": [
          "Age_donor",
          "Aspirations_donor",
          "BMI_donor",
          "Donneur_CPT",
          "Insuffisance_renale",
          "LAS",
          "PAPS",
          "PFO",
          "PF_donor",
          "Poids",
          "Poids_donor",
          "RX_donor",
          "Sex_donor",
          "Tabagisme_donor",
          "Taille",
          "Taille_donor",
          "age",
          "body_mass_index",
          "diabetes",
          "id_patient",
          "other_organ_transplantation",
          "oto_score",
          "pathologie",
          "plasmapherese",
          "preoperative_ECMO",
          "preoperative_ICU",
          "preoperative_mechanical_ventilation",
          "preoperative_pulmonary_hypertension",
          "preoperative_vasopressor",
          "retransplant",
          "sexe",
          "super_urgence",
          "thoracic_surgery_history",
          "time_on_waiting_liste",
          "transplanted_twice_during_study_period"
         ],
         "y": [
          0.04649280463493909,
          0.010997024892201862,
          0.040901495548928246,
          0.023415865376380712,
          0.00040482821121172485,
          0.0478225304815982,
          0.024696521509316463,
          0.00041353968889165806,
          0.04056813887739819,
          0.0320037420175862,
          0.03090333638051733,
          0.007733338235174707,
          0.0009757678025142549,
          0.0198134105935211,
          0.02991118542133842,
          0.010215679061516277,
          0.04038226742436061,
          0.04981064150404246,
          0.0013597048467879412,
          0.06038662110394896,
          8.519492264813081e-05,
          0.02344290535950778,
          0.0040799494643283685,
          0.0077587155517175686,
          4.895520033043083e-05,
          0.004529005222360436,
          0.0008089332522127946,
          0.0006626827646709819,
          2.0325407817150153e-06,
          0.0009055266751509438,
          0.0025357393533346657,
          0.0006952012300749407,
          0.006313404733142072,
          0.05292331011756475,
          0
         ]
        }
       ],
       "layout": {
        "autosize": true,
        "hovermode": "closest",
        "showlegend": false,
        "title": "Gradient Boosting Importance des features",
        "yaxis": {
         "gridwidth": 2,
         "ticklen": 5,
         "title": "Importance des features"
        }
       }
      },
      "text/html": [
       "<div id=\"6c433849-fcac-42ea-86ca-5e80b9578999\" style=\"height: 525px; width: 100%;\" class=\"plotly-graph-div\"></div><script type=\"text/javascript\">require([\"plotly\"], function(Plotly) { window.PLOTLYENV=window.PLOTLYENV || {};window.PLOTLYENV.BASE_URL=\"https://plot.ly\";Plotly.newPlot(\"6c433849-fcac-42ea-86ca-5e80b9578999\", [{\"marker\": {\"color\": [0.04649280463493909, 0.010997024892201862, 0.040901495548928246, 0.023415865376380712, 0.00040482821121172485, 0.0478225304815982, 0.024696521509316463, 0.00041353968889165806, 0.04056813887739819, 0.0320037420175862, 0.03090333638051733, 0.007733338235174707, 0.0009757678025142549, 0.0198134105935211, 0.02991118542133842, 0.010215679061516277, 0.04038226742436061, 0.04981064150404246, 0.0013597048467879412, 0.06038662110394896, 8.519492264813081e-05, 0.02344290535950778, 0.0040799494643283685, 0.0077587155517175686, 4.895520033043083e-05, 0.004529005222360436, 0.0008089332522127946, 0.0006626827646709819, 2.0325407817150153e-06, 0.0009055266751509438, 0.0025357393533346657, 0.0006952012300749407, 0.006313404733142072, 0.05292331011756475, 0.0], \"colorscale\": \"Portland\", \"showscale\": true, \"size\": 25, \"sizemode\": \"diameter\", \"sizeref\": 1}, \"mode\": \"markers\", \"text\": [\"Age_donor\", \"Aspirations_donor\", \"BMI_donor\", \"Donneur_CPT\", \"Insuffisance_renale\", \"LAS\", \"PAPS\", \"PFO\", \"PF_donor\", \"Poids\", \"Poids_donor\", \"RX_donor\", \"Sex_donor\", \"Tabagisme_donor\", \"Taille\", \"Taille_donor\", \"age\", \"body_mass_index\", \"diabetes\", \"id_patient\", \"other_organ_transplantation\", \"oto_score\", \"pathologie\", \"plasmapherese\", \"preoperative_ECMO\", \"preoperative_ICU\", \"preoperative_mechanical_ventilation\", \"preoperative_pulmonary_hypertension\", \"preoperative_vasopressor\", \"retransplant\", \"sexe\", \"super_urgence\", \"thoracic_surgery_history\", \"time_on_waiting_liste\", \"transplanted_twice_during_study_period\"], \"x\": [\"Age_donor\", \"Aspirations_donor\", \"BMI_donor\", \"Donneur_CPT\", \"Insuffisance_renale\", \"LAS\", \"PAPS\", \"PFO\", \"PF_donor\", \"Poids\", \"Poids_donor\", \"RX_donor\", \"Sex_donor\", \"Tabagisme_donor\", \"Taille\", \"Taille_donor\", \"age\", \"body_mass_index\", \"diabetes\", \"id_patient\", \"other_organ_transplantation\", \"oto_score\", \"pathologie\", \"plasmapherese\", \"preoperative_ECMO\", \"preoperative_ICU\", \"preoperative_mechanical_ventilation\", \"preoperative_pulmonary_hypertension\", \"preoperative_vasopressor\", \"retransplant\", \"sexe\", \"super_urgence\", \"thoracic_surgery_history\", \"time_on_waiting_liste\", \"transplanted_twice_during_study_period\"], \"y\": [0.04649280463493909, 0.010997024892201862, 0.040901495548928246, 0.023415865376380712, 0.00040482821121172485, 0.0478225304815982, 0.024696521509316463, 0.00041353968889165806, 0.04056813887739819, 0.0320037420175862, 0.03090333638051733, 0.007733338235174707, 0.0009757678025142549, 0.0198134105935211, 0.02991118542133842, 0.010215679061516277, 0.04038226742436061, 0.04981064150404246, 0.0013597048467879412, 0.06038662110394896, 8.519492264813081e-05, 0.02344290535950778, 0.0040799494643283685, 0.0077587155517175686, 4.895520033043083e-05, 0.004529005222360436, 0.0008089332522127946, 0.0006626827646709819, 2.0325407817150153e-06, 0.0009055266751509438, 0.0025357393533346657, 0.0006952012300749407, 0.006313404733142072, 0.05292331011756475, 0.0], \"type\": \"scatter\", \"uid\": \"8eb7001e-fbda-11e8-a9cb-6002921757e3\"}], {\"autosize\": true, \"hovermode\": \"closest\", \"showlegend\": false, \"title\": \"Gradient Boosting Importance des features\", \"yaxis\": {\"gridwidth\": 2, \"ticklen\": 5, \"title\": \"Importance des features\"}}, {\"showLink\": true, \"linkText\": \"Export to plot.ly\"})});</script>"
      ],
      "text/vnd.plotly.v1+html": [
       "<div id=\"6c433849-fcac-42ea-86ca-5e80b9578999\" style=\"height: 525px; width: 100%;\" class=\"plotly-graph-div\"></div><script type=\"text/javascript\">require([\"plotly\"], function(Plotly) { window.PLOTLYENV=window.PLOTLYENV || {};window.PLOTLYENV.BASE_URL=\"https://plot.ly\";Plotly.newPlot(\"6c433849-fcac-42ea-86ca-5e80b9578999\", [{\"marker\": {\"color\": [0.04649280463493909, 0.010997024892201862, 0.040901495548928246, 0.023415865376380712, 0.00040482821121172485, 0.0478225304815982, 0.024696521509316463, 0.00041353968889165806, 0.04056813887739819, 0.0320037420175862, 0.03090333638051733, 0.007733338235174707, 0.0009757678025142549, 0.0198134105935211, 0.02991118542133842, 0.010215679061516277, 0.04038226742436061, 0.04981064150404246, 0.0013597048467879412, 0.06038662110394896, 8.519492264813081e-05, 0.02344290535950778, 0.0040799494643283685, 0.0077587155517175686, 4.895520033043083e-05, 0.004529005222360436, 0.0008089332522127946, 0.0006626827646709819, 2.0325407817150153e-06, 0.0009055266751509438, 0.0025357393533346657, 0.0006952012300749407, 0.006313404733142072, 0.05292331011756475, 0.0], \"colorscale\": \"Portland\", \"showscale\": true, \"size\": 25, \"sizemode\": \"diameter\", \"sizeref\": 1}, \"mode\": \"markers\", \"text\": [\"Age_donor\", \"Aspirations_donor\", \"BMI_donor\", \"Donneur_CPT\", \"Insuffisance_renale\", \"LAS\", \"PAPS\", \"PFO\", \"PF_donor\", \"Poids\", \"Poids_donor\", \"RX_donor\", \"Sex_donor\", \"Tabagisme_donor\", \"Taille\", \"Taille_donor\", \"age\", \"body_mass_index\", \"diabetes\", \"id_patient\", \"other_organ_transplantation\", \"oto_score\", \"pathologie\", \"plasmapherese\", \"preoperative_ECMO\", \"preoperative_ICU\", \"preoperative_mechanical_ventilation\", \"preoperative_pulmonary_hypertension\", \"preoperative_vasopressor\", \"retransplant\", \"sexe\", \"super_urgence\", \"thoracic_surgery_history\", \"time_on_waiting_liste\", \"transplanted_twice_during_study_period\"], \"x\": [\"Age_donor\", \"Aspirations_donor\", \"BMI_donor\", \"Donneur_CPT\", \"Insuffisance_renale\", \"LAS\", \"PAPS\", \"PFO\", \"PF_donor\", \"Poids\", \"Poids_donor\", \"RX_donor\", \"Sex_donor\", \"Tabagisme_donor\", \"Taille\", \"Taille_donor\", \"age\", \"body_mass_index\", \"diabetes\", \"id_patient\", \"other_organ_transplantation\", \"oto_score\", \"pathologie\", \"plasmapherese\", \"preoperative_ECMO\", \"preoperative_ICU\", \"preoperative_mechanical_ventilation\", \"preoperative_pulmonary_hypertension\", \"preoperative_vasopressor\", \"retransplant\", \"sexe\", \"super_urgence\", \"thoracic_surgery_history\", \"time_on_waiting_liste\", \"transplanted_twice_during_study_period\"], \"y\": [0.04649280463493909, 0.010997024892201862, 0.040901495548928246, 0.023415865376380712, 0.00040482821121172485, 0.0478225304815982, 0.024696521509316463, 0.00041353968889165806, 0.04056813887739819, 0.0320037420175862, 0.03090333638051733, 0.007733338235174707, 0.0009757678025142549, 0.0198134105935211, 0.02991118542133842, 0.010215679061516277, 0.04038226742436061, 0.04981064150404246, 0.0013597048467879412, 0.06038662110394896, 8.519492264813081e-05, 0.02344290535950778, 0.0040799494643283685, 0.0077587155517175686, 4.895520033043083e-05, 0.004529005222360436, 0.0008089332522127946, 0.0006626827646709819, 2.0325407817150153e-06, 0.0009055266751509438, 0.0025357393533346657, 0.0006952012300749407, 0.006313404733142072, 0.05292331011756475, 0.0], \"type\": \"scatter\", \"uid\": \"8eb7001e-fbda-11e8-a9cb-6002921757e3\"}], {\"autosize\": true, \"hovermode\": \"closest\", \"showlegend\": false, \"title\": \"Gradient Boosting Importance des features\", \"yaxis\": {\"gridwidth\": 2, \"ticklen\": 5, \"title\": \"Importance des features\"}}, {\"showLink\": true, \"linkText\": \"Export to plot.ly\"})});</script>"
      ]
     },
     "metadata": {},
     "output_type": "display_data"
    }
   ],
   "source": [
    "trace = go.Scatter(\n",
    "    y = feature_dataframe['Gradient Boost Importance des features'].values,\n",
    "    x = feature_dataframe['features'].values,\n",
    "    mode='markers',\n",
    "    marker=dict(\n",
    "        sizemode = 'diameter',\n",
    "        sizeref = 1,\n",
    "        size = 25,\n",
    "        color = feature_dataframe['Gradient Boost Importance des features'].values,\n",
    "        colorscale='Portland',\n",
    "        showscale=True\n",
    "    ),\n",
    "    text = feature_dataframe['features'].values\n",
    ")\n",
    "data = [trace]\n",
    "\n",
    "layout= go.Layout(\n",
    "    autosize= True,\n",
    "    title= 'Gradient Boosting Importance des features',\n",
    "    hovermode= 'closest',\n",
    "    yaxis=dict(\n",
    "        title= 'Importance des features',\n",
    "        ticklen= 5,\n",
    "        gridwidth= 2\n",
    "    ),\n",
    "    showlegend= False\n",
    ")\n",
    "fig = go.Figure(data=data, layout=layout)\n",
    "py.iplot(fig,filename='scatter2010')"
   ]
  },
  {
   "cell_type": "code",
   "execution_count": null,
   "metadata": {
    "collapsed": true
   },
   "outputs": [],
   "source": []
  }
 ],
 "metadata": {
  "kernelspec": {
   "display_name": "Python 3",
   "language": "python",
   "name": "python3"
  },
  "language_info": {
   "codemirror_mode": {
    "name": "ipython",
    "version": 3
   },
   "file_extension": ".py",
   "mimetype": "text/x-python",
   "name": "python",
   "nbconvert_exporter": "python",
   "pygments_lexer": "ipython3",
   "version": "3.6.1"
  }
 },
 "nbformat": 4,
 "nbformat_minor": 2
}
