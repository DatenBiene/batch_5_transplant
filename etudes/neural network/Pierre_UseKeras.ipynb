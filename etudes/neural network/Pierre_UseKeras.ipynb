{
 "cells": [
  {
   "cell_type": "markdown",
   "metadata": {},
   "source": [
    "https://ieeexplore.ieee.org/document/8141873\n",
    "\n",
    "https://machinelearningmastery.com/sequence-classification-lstm-recurrent-neural-networks-python-keras/\n"
   ]
  },
  {
   "cell_type": "code",
   "execution_count": 1,
   "metadata": {
    "collapsed": true
   },
   "outputs": [],
   "source": [
    "import warnings\n",
    "warnings.filterwarnings('ignore')"
   ]
  },
  {
   "cell_type": "code",
   "execution_count": 2,
   "metadata": {
    "collapsed": true
   },
   "outputs": [],
   "source": [
    "from sklearn.metrics import confusion_matrix\n",
    "import numpy as np"
   ]
  },
  {
   "cell_type": "code",
   "execution_count": 3,
   "metadata": {
    "scrolled": true
   },
   "outputs": [],
   "source": [
    "from transplant.data.learningset import Learningset\n",
    "from transplant.config import *\n",
    "learningset = Learningset()\n",
    "\n",
    "X_train, X_test, y_train, y_test, X_col = learningset.get_data_merged_dynamic_flatten_full(\"One_Hot\", False)\n",
    "#X_train, X_test, y_train, y_test, X_col = learningset.get_data_merged_dynamic_flatten_full(\"cls\", False)"
   ]
  },
  {
   "cell_type": "code",
   "execution_count": 4,
   "metadata": {
    "collapsed": true
   },
   "outputs": [],
   "source": [
    "#y_train, y_test = y_train.reshape(-1, 1), y_test.reshape(-1, 1)"
   ]
  },
  {
   "cell_type": "code",
   "execution_count": 5,
   "metadata": {},
   "outputs": [
    {
     "data": {
      "text/plain": [
       "((241, 133), (101, 133), (241, 2), (101, 2))"
      ]
     },
     "execution_count": 5,
     "metadata": {},
     "output_type": "execute_result"
    }
   ],
   "source": [
    "X_train.shape, X_test.shape, y_train.shape, y_test.shape"
   ]
  },
  {
   "cell_type": "code",
   "execution_count": 6,
   "metadata": {},
   "outputs": [
    {
     "data": {
      "text/plain": [
       "array([137, 104])"
      ]
     },
     "execution_count": 6,
     "metadata": {},
     "output_type": "execute_result"
    }
   ],
   "source": [
    "y_train.sum(axis=0)"
   ]
  },
  {
   "cell_type": "code",
   "execution_count": 7,
   "metadata": {},
   "outputs": [
    {
     "name": "stderr",
     "output_type": "stream",
     "text": [
      "Using TensorFlow backend.\n"
     ]
    }
   ],
   "source": [
    "from keras.models import Sequential\n",
    "from keras.layers import Dense, Dropout\n"
   ]
  },
  {
   "cell_type": "code",
   "execution_count": 10,
   "metadata": {},
   "outputs": [],
   "source": [
    "model = Sequential()\n",
    "model.add(Dense(130, activation='relu', input_dim=(133))\n",
    "model.add(Dense(2, activation='softmax'))\n",
    "model.compile(optimizer='rmsprop',\n",
    "              loss='binary_crossentropy',\n",
    "              metrics=['accuracy'])"
   ]
  },
  {
   "cell_type": "code",
   "execution_count": 11,
   "metadata": {},
   "outputs": [
    {
     "name": "stdout",
     "output_type": "stream",
     "text": [
      "Epoch 1/10\n",
      "241/241 [==============================] - 0s 2ms/step - loss: 9.1126 - acc: 0.4315\n",
      "Epoch 2/10\n",
      "241/241 [==============================] - 0s 83us/step - loss: 9.1126 - acc: 0.4315\n",
      "Epoch 3/10\n",
      "241/241 [==============================] - 0s 100us/step - loss: 9.1126 - acc: 0.4315\n",
      "Epoch 4/10\n",
      "241/241 [==============================] - 0s 133us/step - loss: 9.1126 - acc: 0.4315\n",
      "Epoch 5/10\n",
      "241/241 [==============================] - 0s 108us/step - loss: 9.1126 - acc: 0.4315\n",
      "Epoch 6/10\n",
      "241/241 [==============================] - 0s 108us/step - loss: 9.1126 - acc: 0.4315\n",
      "Epoch 7/10\n",
      "241/241 [==============================] - ETA: 0s - loss: 7.3739 - acc: 0.540 - 0s 116us/step - loss: 9.1126 - acc: 0.4315\n",
      "Epoch 8/10\n",
      "241/241 [==============================] - 0s 116us/step - loss: 9.1126 - acc: 0.4315\n",
      "Epoch 9/10\n",
      "241/241 [==============================] - 0s 141us/step - loss: 9.1126 - acc: 0.4315\n",
      "Epoch 10/10\n",
      "241/241 [==============================] - 0s 124us/step - loss: 9.1126 - acc: 0.4315\n"
     ]
    },
    {
     "data": {
      "text/plain": [
       "<keras.callbacks.History at 0x27cbfbe6fd0>"
      ]
     },
     "execution_count": 11,
     "metadata": {},
     "output_type": "execute_result"
    }
   ],
   "source": [
    "model.fit(X_train, y_train, epochs=10, batch_size=50)"
   ]
  },
  {
   "cell_type": "code",
   "execution_count": 12,
   "metadata": {
    "scrolled": true
   },
   "outputs": [
    {
     "name": "stdout",
     "output_type": "stream",
     "text": [
      "101/101 [==============================] - 0s 891us/step\n"
     ]
    }
   ],
   "source": [
    "loss_and_metrics = model.evaluate(X_test, y_test, batch_size=28)"
   ]
  },
  {
   "cell_type": "code",
   "execution_count": null,
   "metadata": {
    "collapsed": true
   },
   "outputs": [],
   "source": [
    "classes = model.predict(X_test, batch_size=128)"
   ]
  },
  {
   "cell_type": "code",
   "execution_count": null,
   "metadata": {
    "collapsed": true
   },
   "outputs": [],
   "source": [
    "def argmax(x):\n",
    "    return np.array(list(map(np.argmax, x)))"
   ]
  },
  {
   "cell_type": "code",
   "execution_count": null,
   "metadata": {},
   "outputs": [],
   "source": [
    "confusion_matrix(argmax(y_test),argmax(classes))"
   ]
  },
  {
   "cell_type": "code",
   "execution_count": null,
   "metadata": {},
   "outputs": [],
   "source": [
    "y_test.shape"
   ]
  },
  {
   "cell_type": "code",
   "execution_count": null,
   "metadata": {},
   "outputs": [],
   "source": [
    "argmax(classes)"
   ]
  },
  {
   "cell_type": "markdown",
   "metadata": {},
   "source": [
    "# Tests"
   ]
  },
  {
   "cell_type": "code",
   "execution_count": null,
   "metadata": {
    "collapsed": true
   },
   "outputs": [],
   "source": [
    "def get_data_merged_dynamic(self, target_format=\"cls\"):\n",
    "\n",
    "\n",
    "        from transplant.data.learningset import Learningset\n",
    "        learningset = Learningset()\n",
    "        train_static_0, test_static_0 = learningset.get_static_filled()\n",
    "\n",
    "        train_dynamic_0, test_dynamic_0 = dataset.get_dynamic()\n",
    "\n",
    "        mean_dynamic_train = train_dynamic_0.groupby(['id_patient']).mean().mean()\n",
    "        \n",
    "        train_dynamic_0 = train_dynamic_0.fillna(mean_dynamic_train)\n",
    "        test_dynamic_0 = test_dynamic_0.fillna(mean_dynamic_train)\n",
    "\n",
    "        def add_start_end_length_op_to_static(X_stat, X_dyn):\n",
    "            grouped_time = X_dyn.groupby(['id_patient'])['time']\n",
    "\n",
    "            time_start_df = grouped_time.first().to_frame()\n",
    "            time_start_df.columns = ['start_operation']\n",
    "            time_start_df['id_patient'] = time_start_df.index\n",
    "\n",
    "            X_return = pd.merge(X_stat, time_start_df, on='id_patient')\n",
    "\n",
    "            time_ends_df = grouped_time.last().to_frame()\n",
    "            time_ends_df.columns = ['ends_operation']\n",
    "            time_ends_df['id_patient'] = time_ends_df.index\n",
    "\n",
    "            X_return = pd.merge(X_return, time_ends_df, on='id_patient')\n",
    "\n",
    "            X_return['length_op'] = X_return['ends_operation'] - X_return['start_operation']\n",
    "\n",
    "            return X_return\n",
    "\n",
    "        train_static_1 = add_start_end_length_op_to_static(train_static_0, train_dynamic_0)\n",
    "        test_static_1 = add_start_end_length_op_to_static(test_static_0, test_dynamic_0)\n",
    "\n",
    "        def get_timeseries_in_array(X_stat, X_dyn, dyn_to_drop=['id_patient', 'time']):\n",
    "\n",
    "            X_return = X_stat\n",
    "\n",
    "            grouped = X_dyn.groupby(['id_patient'])\n",
    "\n",
    "            list_time_serie_col = X_dyn.drop(dyn_to_drop, axis=1).columns\n",
    "\n",
    "            for i in list_time_serie_col:\n",
    "                df_muette = grouped[i].apply(np.array).to_frame()\n",
    "                df_muette['id_patient'] = df_muette.index\n",
    "                X_return = pd.merge(X_return, df_muette, on='id_patient')\n",
    "\n",
    "            return X_return\n",
    "            \n",
    "\n",
    "\n",
    "        train_glob = get_timeseries_in_array(train_static_1, train_dynamic_0)\n",
    "        test_glob = get_timeseries_in_array(test_static_1, test_dynamic_0)\n",
    "        \n",
    "\n",
    "\n",
    "\n",
    "        dic_to_One_Hot = {0: [1, 0], 1: [0, 1]}\n",
    "\n",
    "        y_train_cls = np.array(train_glob['target'])\n",
    "        y_train_hot = np.array(list(train_glob['target'].map(dic_to_One_Hot)))\n",
    "\n",
    "        y_test_cls = np.array(test_glob['target'])\n",
    "        y_test_hot = np.array(list(test_glob['target'].map(dic_to_One_Hot)))\n",
    "\n",
    "\n",
    "        X_train = np.array(train_glob.drop(['target'], axis=1))\n",
    "        X_test = np.array(test_glob.drop(['target'], axis=1))\n",
    "\n",
    "        # Return\n",
    "        if target_format == \"cls\":\n",
    "            return X_train, X_test, y_train_cls, y_test_cls, train_glob.drop(['target'], axis=1).columns\n",
    "\n",
    "        if target_format == \"One_Hot\":\n",
    "            return X_train, X_test, y_train_hot, y_test_hot, train_glob.drop(['target'], axis=1).columns"
   ]
  }
 ],
 "metadata": {
  "kernelspec": {
   "display_name": "Python 3",
   "language": "python",
   "name": "python3"
  },
  "language_info": {
   "codemirror_mode": {
    "name": "ipython",
    "version": 3
   },
   "file_extension": ".py",
   "mimetype": "text/x-python",
   "name": "python",
   "nbconvert_exporter": "python",
   "pygments_lexer": "ipython3",
   "version": "3.6.1"
  },
  "varInspector": {
   "cols": {
    "lenName": 16,
    "lenType": 16,
    "lenVar": 40
   },
   "kernels_config": {
    "python": {
     "delete_cmd_postfix": "",
     "delete_cmd_prefix": "del ",
     "library": "var_list.py",
     "varRefreshCmd": "print(var_dic_list())"
    },
    "r": {
     "delete_cmd_postfix": ") ",
     "delete_cmd_prefix": "rm(",
     "library": "var_list.r",
     "varRefreshCmd": "cat(var_dic_list()) "
    }
   },
   "types_to_exclude": [
    "module",
    "function",
    "builtin_function_or_method",
    "instance",
    "_Feature"
   ],
   "window_display": false
  }
 },
 "nbformat": 4,
 "nbformat_minor": 2
}
