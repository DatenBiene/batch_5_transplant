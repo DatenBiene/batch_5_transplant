{
 "cells": [
  {
   "cell_type": "code",
   "execution_count": 1,
   "metadata": {},
   "outputs": [
    {
     "data": {
      "text/html": [
       "<div id=\"my_id_menu_nb\">run previous cell, wait for 2 seconds</div>\n",
       "<script>\n",
       "function repeat_indent_string(n){\n",
       "    var a = \"\" ;\n",
       "    for ( ; n > 0 ; --n)\n",
       "        a += \"    \";\n",
       "    return a;\n",
       "}\n",
       "// look up into all sections and builds an automated menu //\n",
       "var update_menu_string = function(begin, lfirst, llast, sformat, send, keep_item, begin_format, end_format) {\n",
       "    var anchors = document.getElementsByClassName(\"section\");\n",
       "    if (anchors.length == 0) {\n",
       "        anchors = document.getElementsByClassName(\"text_cell_render rendered_html\");\n",
       "    }\n",
       "    var i,t;\n",
       "    var text_menu = begin;\n",
       "    var text_memo = \"<pre>\\nlength:\" + anchors.length + \"\\n\";\n",
       "    var ind = \"\";\n",
       "    var memo_level = 1;\n",
       "    var href;\n",
       "    var tags = [];\n",
       "    var main_item = 0;\n",
       "    var format_open = 0;\n",
       "    for (i = 0; i <= llast; i++)\n",
       "        tags.push(\"h\" + i);\n",
       "\n",
       "    for (i = 0; i < anchors.length; i++) {\n",
       "        text_memo += \"**\" + anchors[i].id + \"--\\n\";\n",
       "\n",
       "        var child = null;\n",
       "        for(t = 0; t < tags.length; t++) {\n",
       "            var r = anchors[i].getElementsByTagName(tags[t]);\n",
       "            if (r.length > 0) {\n",
       "child = r[0];\n",
       "break;\n",
       "            }\n",
       "        }\n",
       "        if (child == null) {\n",
       "            text_memo += \"null\\n\";\n",
       "            continue;\n",
       "        }\n",
       "        if (anchors[i].hasAttribute(\"id\")) {\n",
       "            // when converted in RST\n",
       "            href = anchors[i].id;\n",
       "            text_memo += \"#1-\" + href;\n",
       "            // passer à child suivant (le chercher)\n",
       "        }\n",
       "        else if (child.hasAttribute(\"id\")) {\n",
       "            // in a notebook\n",
       "            href = child.id;\n",
       "            text_memo += \"#2-\" + href;\n",
       "        }\n",
       "        else {\n",
       "            text_memo += \"#3-\" + \"*\" + \"\\n\";\n",
       "            continue;\n",
       "        }\n",
       "        var title = child.textContent;\n",
       "        var level = parseInt(child.tagName.substring(1,2));\n",
       "\n",
       "        text_memo += \"--\" + level + \"?\" + lfirst + \"--\" + title + \"\\n\";\n",
       "\n",
       "        if ((level < lfirst) || (level > llast)) {\n",
       "            continue ;\n",
       "        }\n",
       "        if (title.endsWith('¶')) {\n",
       "            title = title.substring(0,title.length-1).replace(\"<\", \"&lt;\")\n",
       "         .replace(\">\", \"&gt;\").replace(\"&\", \"&amp;\");\n",
       "        }\n",
       "        if (title.length == 0) {\n",
       "            continue;\n",
       "        }\n",
       "\n",
       "        while (level < memo_level) {\n",
       "            text_menu += end_format + \"</ul>\\n\";\n",
       "            format_open -= 1;\n",
       "            memo_level -= 1;\n",
       "        }\n",
       "        if (level == lfirst) {\n",
       "            main_item += 1;\n",
       "        }\n",
       "        if (keep_item != -1 && main_item != keep_item + 1) {\n",
       "            // alert(main_item + \" - \" + level + \" - \" + keep_item);\n",
       "            continue;\n",
       "        }\n",
       "        while (level > memo_level) {\n",
       "            text_menu += \"<ul>\\n\";\n",
       "            memo_level += 1;\n",
       "        }\n",
       "        text_menu += repeat_indent_string(level-2);\n",
       "        text_menu += begin_format + sformat.replace(\"__HREF__\", href).replace(\"__TITLE__\", title);\n",
       "        format_open += 1;\n",
       "    }\n",
       "    while (1 < memo_level) {\n",
       "        text_menu += end_format + \"</ul>\\n\";\n",
       "        memo_level -= 1;\n",
       "        format_open -= 1;\n",
       "    }\n",
       "    text_menu += send;\n",
       "    //text_menu += \"\\n\" + text_memo;\n",
       "\n",
       "    while (format_open > 0) {\n",
       "        text_menu += end_format;\n",
       "        format_open -= 1;\n",
       "    }\n",
       "    return text_menu;\n",
       "};\n",
       "var update_menu = function() {\n",
       "    var sbegin = \"\";\n",
       "    var sformat = '<a href=\"#__HREF__\">__TITLE__</a>';\n",
       "    var send = \"\";\n",
       "    var begin_format = '<li>';\n",
       "    var end_format = '</li>';\n",
       "    var keep_item = -1;\n",
       "    var text_menu = update_menu_string(sbegin, 2, 4, sformat, send, keep_item,\n",
       "       begin_format, end_format);\n",
       "    var menu = document.getElementById(\"my_id_menu_nb\");\n",
       "    menu.innerHTML=text_menu;\n",
       "};\n",
       "window.setTimeout(update_menu,2000);\n",
       "            </script>"
      ],
      "text/plain": [
       "<IPython.core.display.HTML object>"
      ]
     },
     "execution_count": 1,
     "metadata": {},
     "output_type": "execute_result"
    }
   ],
   "source": [
    "from jyquickhelper import add_notebook_menu\n",
    "add_notebook_menu()"
   ]
  },
  {
   "cell_type": "markdown",
   "metadata": {},
   "source": [
    "# Première petite analyse en machine learning "
   ]
  },
  {
   "cell_type": "markdown",
   "metadata": {},
   "source": [
    "C'est une petite routine que j'aime bien mettre en route quand je commence un projet.\n",
    "Pour l'instant rien de très rigoureux mais pas mal pour commencer à s'ammuser."
   ]
  },
  {
   "cell_type": "code",
   "execution_count": 2,
   "metadata": {},
   "outputs": [
    {
     "data": {
      "text/html": [
       "<script>requirejs.config({paths: { 'plotly': ['https://cdn.plot.ly/plotly-latest.min']},});if(!window.Plotly) {{require(['plotly'],function(plotly) {window.Plotly=plotly;});}}</script>"
      ],
      "text/vnd.plotly.v1+html": [
       "<script>requirejs.config({paths: { 'plotly': ['https://cdn.plot.ly/plotly-latest.min']},});if(!window.Plotly) {{require(['plotly'],function(plotly) {window.Plotly=plotly;});}}</script>"
      ]
     },
     "metadata": {},
     "output_type": "display_data"
    }
   ],
   "source": [
    "import pandas as pd\n",
    "import numpy as np\n",
    "import sklearn\n",
    "from sklearn.model_selection import train_test_split\n",
    "import seaborn as sns\n",
    "import matplotlib.pyplot as plt\n",
    "%matplotlib inline\n",
    "\n",
    "import plotly.offline as py\n",
    "py.init_notebook_mode(connected=True)\n",
    "import plotly.graph_objs as go\n",
    "import plotly.tools as tls"
   ]
  },
  {
   "cell_type": "markdown",
   "metadata": {},
   "source": [
    "Je ne sais pas si c'est une bonne chose à faire mais les warnings m'embêtent donc : "
   ]
  },
  {
   "cell_type": "code",
   "execution_count": 3,
   "metadata": {
    "collapsed": true
   },
   "outputs": [],
   "source": [
    "import warnings\n",
    "warnings.filterwarnings('ignore')"
   ]
  },
  {
   "cell_type": "markdown",
   "metadata": {},
   "source": [
    "Les classifiers classiques qu'on se proposent d'utiliser dans un premier temps :"
   ]
  },
  {
   "cell_type": "code",
   "execution_count": 4,
   "metadata": {
    "collapsed": true
   },
   "outputs": [],
   "source": [
    "from sklearn.ensemble import (RandomForestClassifier, AdaBoostClassifier, \n",
    "                              GradientBoostingClassifier, ExtraTreesClassifier)\n",
    "\n",
    "from sklearn.cross_validation import KFold"
   ]
  },
  {
   "cell_type": "markdown",
   "metadata": {},
   "source": [
    "## Les données "
   ]
  },
  {
   "cell_type": "markdown",
   "metadata": {},
   "source": [
    "On va travailer dans un premier temps avec la table \"dim_patient_preoperatoire.csv.csv\" "
   ]
  },
  {
   "cell_type": "code",
   "execution_count": 5,
   "metadata": {
    "scrolled": true
   },
   "outputs": [
    {
     "data": {
      "text/plain": [
       "(411, 30)"
      ]
     },
     "execution_count": 5,
     "metadata": {},
     "output_type": "execute_result"
    }
   ],
   "source": [
    "dim_patient_preoperatoire=pd.read_csv(\"dim_patient_preoperatoire.csv\") ; dim_patient_preoperatoire.shape"
   ]
  },
  {
   "cell_type": "code",
   "execution_count": 6,
   "metadata": {},
   "outputs": [
    {
     "data": {
      "text/html": [
       "<div>\n",
       "<style>\n",
       "    .dataframe thead tr:only-child th {\n",
       "        text-align: right;\n",
       "    }\n",
       "\n",
       "    .dataframe thead th {\n",
       "        text-align: left;\n",
       "    }\n",
       "\n",
       "    .dataframe tbody tr th {\n",
       "        vertical-align: top;\n",
       "    }\n",
       "</style>\n",
       "<table border=\"1\" class=\"dataframe\">\n",
       "  <thead>\n",
       "    <tr style=\"text-align: right;\">\n",
       "      <th></th>\n",
       "      <th>Unnamed: 0</th>\n",
       "      <th>numero</th>\n",
       "      <th>date_transplantation</th>\n",
       "      <th>heure_arrivee_bloc</th>\n",
       "      <th>pathologie</th>\n",
       "      <th>age</th>\n",
       "      <th>sexe</th>\n",
       "      <th>Poids</th>\n",
       "      <th>Taille</th>\n",
       "      <th>other_organ_transplantation</th>\n",
       "      <th>...</th>\n",
       "      <th>body_mass_index</th>\n",
       "      <th>diabetes</th>\n",
       "      <th>preoperative_pulmonary_hypertension</th>\n",
       "      <th>PAPS</th>\n",
       "      <th>Insuffisance_renale</th>\n",
       "      <th>CMV_receveur</th>\n",
       "      <th>plasmapherese</th>\n",
       "      <th>preoperative_ECMO</th>\n",
       "      <th>ATCD_chirugicaux</th>\n",
       "      <th>thoracic_surgery_history</th>\n",
       "    </tr>\n",
       "  </thead>\n",
       "  <tbody>\n",
       "    <tr>\n",
       "      <th>0</th>\n",
       "      <td>0</td>\n",
       "      <td>1</td>\n",
       "      <td>2012-01-05</td>\n",
       "      <td>03:00:00</td>\n",
       "      <td>3</td>\n",
       "      <td>49</td>\n",
       "      <td>0</td>\n",
       "      <td>68.0</td>\n",
       "      <td>160</td>\n",
       "      <td>0</td>\n",
       "      <td>...</td>\n",
       "      <td>26.562500</td>\n",
       "      <td>0</td>\n",
       "      <td>1.0</td>\n",
       "      <td>66.0</td>\n",
       "      <td>0</td>\n",
       "      <td>NaN</td>\n",
       "      <td>1</td>\n",
       "      <td>0.0</td>\n",
       "      <td>-7 grossesses et une MFIU au 8ième mois de la ...</td>\n",
       "      <td>0</td>\n",
       "    </tr>\n",
       "    <tr>\n",
       "      <th>1</th>\n",
       "      <td>1</td>\n",
       "      <td>2</td>\n",
       "      <td>2012-01-08</td>\n",
       "      <td>03:15:00</td>\n",
       "      <td>1</td>\n",
       "      <td>42</td>\n",
       "      <td>1</td>\n",
       "      <td>49.0</td>\n",
       "      <td>165</td>\n",
       "      <td>0</td>\n",
       "      <td>...</td>\n",
       "      <td>17.998163</td>\n",
       "      <td>1</td>\n",
       "      <td>0.0</td>\n",
       "      <td>32.0</td>\n",
       "      <td>0</td>\n",
       "      <td>NaN</td>\n",
       "      <td>0</td>\n",
       "      <td>0.0</td>\n",
       "      <td>- 1993 : résection du grêle pour invagination ...</td>\n",
       "      <td>1</td>\n",
       "    </tr>\n",
       "    <tr>\n",
       "      <th>2</th>\n",
       "      <td>2</td>\n",
       "      <td>3</td>\n",
       "      <td>2012-01-11</td>\n",
       "      <td>13:30:00</td>\n",
       "      <td>1</td>\n",
       "      <td>22</td>\n",
       "      <td>1</td>\n",
       "      <td>51.0</td>\n",
       "      <td>173</td>\n",
       "      <td>0</td>\n",
       "      <td>...</td>\n",
       "      <td>17.040329</td>\n",
       "      <td>1</td>\n",
       "      <td>0.0</td>\n",
       "      <td>35.0</td>\n",
       "      <td>0</td>\n",
       "      <td>NaN</td>\n",
       "      <td>0</td>\n",
       "      <td>0.0</td>\n",
       "      <td>- Cure de RGO sous coelioscopie 06/01/2011\\n- ...</td>\n",
       "      <td>1</td>\n",
       "    </tr>\n",
       "    <tr>\n",
       "      <th>3</th>\n",
       "      <td>3</td>\n",
       "      <td>4</td>\n",
       "      <td>2012-01-15</td>\n",
       "      <td>07:20:00</td>\n",
       "      <td>2</td>\n",
       "      <td>57</td>\n",
       "      <td>0</td>\n",
       "      <td>65.0</td>\n",
       "      <td>152</td>\n",
       "      <td>0</td>\n",
       "      <td>...</td>\n",
       "      <td>28.133657</td>\n",
       "      <td>0</td>\n",
       "      <td>0.0</td>\n",
       "      <td>NaN</td>\n",
       "      <td>0</td>\n",
       "      <td>NaN</td>\n",
       "      <td>1</td>\n",
       "      <td>0.0</td>\n",
       "      <td>-1984 : PTH droite \\n-1992 : ligature bilatéra...</td>\n",
       "      <td>0</td>\n",
       "    </tr>\n",
       "    <tr>\n",
       "      <th>4</th>\n",
       "      <td>4</td>\n",
       "      <td>5</td>\n",
       "      <td>2012-01-17</td>\n",
       "      <td>12:15:00</td>\n",
       "      <td>2</td>\n",
       "      <td>49</td>\n",
       "      <td>0</td>\n",
       "      <td>50.0</td>\n",
       "      <td>160</td>\n",
       "      <td>0</td>\n",
       "      <td>...</td>\n",
       "      <td>19.531250</td>\n",
       "      <td>0</td>\n",
       "      <td>0.0</td>\n",
       "      <td>NaN</td>\n",
       "      <td>0</td>\n",
       "      <td>NaN</td>\n",
       "      <td>0</td>\n",
       "      <td>0.0</td>\n",
       "      <td>- Appendicectomie\\n- Méatotomie\\n- Amygdalecto...</td>\n",
       "      <td>0</td>\n",
       "    </tr>\n",
       "  </tbody>\n",
       "</table>\n",
       "<p>5 rows × 30 columns</p>\n",
       "</div>"
      ],
      "text/plain": [
       "   Unnamed: 0  numero date_transplantation heure_arrivee_bloc  pathologie  \\\n",
       "0           0       1           2012-01-05           03:00:00           3   \n",
       "1           1       2           2012-01-08           03:15:00           1   \n",
       "2           2       3           2012-01-11           13:30:00           1   \n",
       "3           3       4           2012-01-15           07:20:00           2   \n",
       "4           4       5           2012-01-17           12:15:00           2   \n",
       "\n",
       "   age  sexe  Poids  Taille  other_organ_transplantation  \\\n",
       "0   49     0   68.0     160                            0   \n",
       "1   42     1   49.0     165                            0   \n",
       "2   22     1   51.0     173                            0   \n",
       "3   57     0   65.0     152                            0   \n",
       "4   49     0   50.0     160                            0   \n",
       "\n",
       "            ...             body_mass_index  diabetes  \\\n",
       "0           ...                   26.562500         0   \n",
       "1           ...                   17.998163         1   \n",
       "2           ...                   17.040329         1   \n",
       "3           ...                   28.133657         0   \n",
       "4           ...                   19.531250         0   \n",
       "\n",
       "   preoperative_pulmonary_hypertension  PAPS Insuffisance_renale  \\\n",
       "0                                  1.0  66.0                   0   \n",
       "1                                  0.0  32.0                   0   \n",
       "2                                  0.0  35.0                   0   \n",
       "3                                  0.0   NaN                   0   \n",
       "4                                  0.0   NaN                   0   \n",
       "\n",
       "   CMV_receveur  plasmapherese  preoperative_ECMO  \\\n",
       "0           NaN              1                0.0   \n",
       "1           NaN              0                0.0   \n",
       "2           NaN              0                0.0   \n",
       "3           NaN              1                0.0   \n",
       "4           NaN              0                0.0   \n",
       "\n",
       "                                    ATCD_chirugicaux thoracic_surgery_history  \n",
       "0  -7 grossesses et une MFIU au 8ième mois de la ...                        0  \n",
       "1  - 1993 : résection du grêle pour invagination ...                        1  \n",
       "2  - Cure de RGO sous coelioscopie 06/01/2011\\n- ...                        1  \n",
       "3  -1984 : PTH droite \\n-1992 : ligature bilatéra...                        0  \n",
       "4  - Appendicectomie\\n- Méatotomie\\n- Amygdalecto...                        0  \n",
       "\n",
       "[5 rows x 30 columns]"
      ]
     },
     "execution_count": 6,
     "metadata": {},
     "output_type": "execute_result"
    }
   ],
   "source": [
    "dim_patient_preoperatoire.head()"
   ]
  },
  {
   "cell_type": "markdown",
   "metadata": {},
   "source": [
    "Les variables cibles sont 'immediate_extubation' et 'secondary_intubation'"
   ]
  },
  {
   "cell_type": "code",
   "execution_count": 17,
   "metadata": {},
   "outputs": [
    {
     "name": "stdout",
     "output_type": "stream",
     "text": [
      "<class 'pandas.core.frame.DataFrame'>\n",
      "RangeIndex: 428 entries, 0 to 427\n",
      "Data columns (total 41 columns):\n",
      "Unnamed: 0                            428 non-null int64\n",
      "numero                                411 non-null float64\n",
      "LOS_first_ventilation                 410 non-null float64\n",
      "LOS_total_ventilation                 410 non-null float64\n",
      " immediate_extubation                 410 non-null float64\n",
      "secondary_intubation                  408 non-null float64\n",
      "time_to_secondary_intubation          142 non-null float64\n",
      "secondary_ECMO                        408 non-null float64\n",
      "delai_recours_ECMO                    120 non-null float64\n",
      "Cause_ECMO_secondaire                 120 non-null float64\n",
      "postoperative_vasopressive_support    408 non-null float64\n",
      "ACFA                                  408 non-null float64\n",
      "PRBC_postop                           408 non-null float64\n",
      "FFP_postop                            408 non-null float64\n",
      "Platelets_postop                      408 non-null float64\n",
      "CVA                                   408 non-null float64\n",
      "hemodyalisis                          408 non-null float64\n",
      "tracheostomy                          408 non-null float64\n",
      "reoperation_for_bleeding              408 non-null float64\n",
      "bleeding                              408 non-null float64\n",
      "lower_limb_complication               408 non-null float64\n",
      "lower_limb_ischemia                   408 non-null float64\n",
      "scarpa_complication                   408 non-null float64\n",
      "vascular_complications                408 non-null float64\n",
      "thromboembolic_complication           408 non-null float64\n",
      "choc_septique                         408 non-null float64\n",
      "cardiac_arrest_during_surgery         408 non-null float64\n",
      "LOS_ICU                               408 non-null float64\n",
      "LOS_hosp                              408 non-null float64\n",
      "in_hospital_mortality                 408 non-null float64\n",
      "30_d_survival                         408 non-null float64\n",
      "P_F_H0                                411 non-null object\n",
      "PGD_H0                                410 non-null object\n",
      "P_F_end_surgery                       410 non-null float64\n",
      "PGD_end_surgery                       410 non-null object\n",
      "time_last_PF                          410 non-null float64\n",
      "PDG_h24                               408 non-null float64\n",
      "PGD_h48                               408 non-null float64\n",
      "PGD3                                  408 non-null float64\n",
      "date_de_deces                         83 non-null object\n",
      "Survival_days_27_10_2018              428 non-null object\n",
      "dtypes: float64(35), int64(1), object(5)\n",
      "memory usage: 137.2+ KB\n"
     ]
    }
   ],
   "source": [
    "dim_patient_post = pd.read_csv('dim_patient_postoperatoire.csv')\n",
    "dim_patient_post.info()\n",
    "\n"
   ]
  },
  {
   "cell_type": "code",
   "execution_count": 19,
   "metadata": {},
   "outputs": [],
   "source": [
    "\n",
    "extubation = dim_patient_post[['numero',' immediate_extubation','secondary_intubation']]\n",
    "dim_patient_preoperatoire = pd.merge(dim_patient_preoperatoire, extubation, on='numero')"
   ]
  },
  {
   "cell_type": "code",
   "execution_count": 21,
   "metadata": {
    "scrolled": true
   },
   "outputs": [
    {
     "data": {
      "text/html": [
       "<div>\n",
       "<style>\n",
       "    .dataframe thead tr:only-child th {\n",
       "        text-align: right;\n",
       "    }\n",
       "\n",
       "    .dataframe thead th {\n",
       "        text-align: left;\n",
       "    }\n",
       "\n",
       "    .dataframe tbody tr th {\n",
       "        vertical-align: top;\n",
       "    }\n",
       "</style>\n",
       "<table border=\"1\" class=\"dataframe\">\n",
       "  <thead>\n",
       "    <tr style=\"text-align: right;\">\n",
       "      <th></th>\n",
       "      <th>immediate_extubation</th>\n",
       "      <th>secondary_intubation</th>\n",
       "    </tr>\n",
       "  </thead>\n",
       "  <tbody>\n",
       "    <tr>\n",
       "      <th>0</th>\n",
       "      <td>0.0</td>\n",
       "      <td>0.0</td>\n",
       "    </tr>\n",
       "    <tr>\n",
       "      <th>1</th>\n",
       "      <td>1.0</td>\n",
       "      <td>0.0</td>\n",
       "    </tr>\n",
       "    <tr>\n",
       "      <th>2</th>\n",
       "      <td>0.0</td>\n",
       "      <td>0.0</td>\n",
       "    </tr>\n",
       "    <tr>\n",
       "      <th>3</th>\n",
       "      <td>0.0</td>\n",
       "      <td>0.0</td>\n",
       "    </tr>\n",
       "    <tr>\n",
       "      <th>4</th>\n",
       "      <td>0.0</td>\n",
       "      <td>0.0</td>\n",
       "    </tr>\n",
       "  </tbody>\n",
       "</table>\n",
       "</div>"
      ],
      "text/plain": [
       "    immediate_extubation  secondary_intubation\n",
       "0                    0.0                   0.0\n",
       "1                    1.0                   0.0\n",
       "2                    0.0                   0.0\n",
       "3                    0.0                   0.0\n",
       "4                    0.0                   0.0"
      ]
     },
     "execution_count": 21,
     "metadata": {},
     "output_type": "execute_result"
    }
   ],
   "source": [
    "dim_patient_preoperatoire.loc[:,[' immediate_extubation','secondary_intubation']].head()"
   ]
  },
  {
   "cell_type": "code",
   "execution_count": 22,
   "metadata": {},
   "outputs": [
    {
     "data": {
      "text/html": [
       "<div>\n",
       "<style>\n",
       "    .dataframe thead tr:only-child th {\n",
       "        text-align: right;\n",
       "    }\n",
       "\n",
       "    .dataframe thead th {\n",
       "        text-align: left;\n",
       "    }\n",
       "\n",
       "    .dataframe tbody tr th {\n",
       "        vertical-align: top;\n",
       "    }\n",
       "</style>\n",
       "<table border=\"1\" class=\"dataframe\">\n",
       "  <thead>\n",
       "    <tr style=\"text-align: right;\">\n",
       "      <th></th>\n",
       "      <th>immediate_extubation</th>\n",
       "      <th>secondary_intubation</th>\n",
       "    </tr>\n",
       "  </thead>\n",
       "  <tbody>\n",
       "    <tr>\n",
       "      <th>count</th>\n",
       "      <td>0.0</td>\n",
       "      <td>408.000000</td>\n",
       "    </tr>\n",
       "    <tr>\n",
       "      <th>mean</th>\n",
       "      <td>NaN</td>\n",
       "      <td>0.122549</td>\n",
       "    </tr>\n",
       "    <tr>\n",
       "      <th>std</th>\n",
       "      <td>NaN</td>\n",
       "      <td>0.328321</td>\n",
       "    </tr>\n",
       "    <tr>\n",
       "      <th>min</th>\n",
       "      <td>NaN</td>\n",
       "      <td>0.000000</td>\n",
       "    </tr>\n",
       "    <tr>\n",
       "      <th>25%</th>\n",
       "      <td>NaN</td>\n",
       "      <td>0.000000</td>\n",
       "    </tr>\n",
       "    <tr>\n",
       "      <th>50%</th>\n",
       "      <td>NaN</td>\n",
       "      <td>0.000000</td>\n",
       "    </tr>\n",
       "    <tr>\n",
       "      <th>75%</th>\n",
       "      <td>NaN</td>\n",
       "      <td>0.000000</td>\n",
       "    </tr>\n",
       "    <tr>\n",
       "      <th>max</th>\n",
       "      <td>NaN</td>\n",
       "      <td>1.000000</td>\n",
       "    </tr>\n",
       "  </tbody>\n",
       "</table>\n",
       "</div>"
      ],
      "text/plain": [
       "       immediate_extubation  secondary_intubation\n",
       "count                   0.0            408.000000\n",
       "mean                    NaN              0.122549\n",
       "std                     NaN              0.328321\n",
       "min                     NaN              0.000000\n",
       "25%                     NaN              0.000000\n",
       "50%                     NaN              0.000000\n",
       "75%                     NaN              0.000000\n",
       "max                     NaN              1.000000"
      ]
     },
     "execution_count": 22,
     "metadata": {},
     "output_type": "execute_result"
    }
   ],
   "source": [
    "dim_patient_preoperatoire.loc[:,['immediate_extubation','secondary_intubation']].describe()"
   ]
  },
  {
   "cell_type": "markdown",
   "metadata": {},
   "source": [
    "Regardons quel genre de variables nous avons pour jouer"
   ]
  },
  {
   "cell_type": "code",
   "execution_count": 23,
   "metadata": {},
   "outputs": [
    {
     "name": "stdout",
     "output_type": "stream",
     "text": [
      "<class 'pandas.core.frame.DataFrame'>\n",
      "Int64Index: 411 entries, 0 to 410\n",
      "Data columns (total 32 columns):\n",
      "Unnamed: 0                                411 non-null int64\n",
      "numero                                    411 non-null object\n",
      "date_transplantation                      411 non-null object\n",
      "heure_arrivee_bloc                        407 non-null object\n",
      "pathologie                                411 non-null int64\n",
      "age                                       411 non-null int64\n",
      "sexe                                      411 non-null int64\n",
      "Poids                                     411 non-null float64\n",
      "Taille                                    411 non-null int64\n",
      "other_organ_transplantation               411 non-null int64\n",
      "super_urgence                             411 non-null int64\n",
      "retransplant                              411 non-null int64\n",
      "transplanted_twice_during_study_period    411 non-null int64\n",
      "time_on_waiting_liste                     411 non-null int64\n",
      "LAS                                       373 non-null object\n",
      "preoperative_ICU                          409 non-null float64\n",
      "preoperative_vasopressor                  409 non-null float64\n",
      "preoperative_mechanical_ventilation       409 non-null float64\n",
      "ATCD_medicaux                             410 non-null object\n",
      "PFO                                       408 non-null object\n",
      "body_mass_index                           411 non-null float64\n",
      "diabetes                                  411 non-null int64\n",
      "preoperative_pulmonary_hypertension       402 non-null float64\n",
      "PAPS                                      197 non-null float64\n",
      "Insuffisance_renale                       411 non-null int64\n",
      "CMV_receveur                              373 non-null object\n",
      "plasmapherese                             411 non-null int64\n",
      "preoperative_ECMO                         410 non-null float64\n",
      "ATCD_chirugicaux                          392 non-null object\n",
      "thoracic_surgery_history                  411 non-null int64\n",
      " immediate_extubation                     410 non-null float64\n",
      "secondary_intubation                      408 non-null float64\n",
      "dtypes: float64(10), int64(14), object(8)\n",
      "memory usage: 106.0+ KB\n"
     ]
    }
   ],
   "source": [
    "dim_patient_preoperatoire.info()"
   ]
  },
  {
   "cell_type": "code",
   "execution_count": 53,
   "metadata": {},
   "outputs": [
    {
     "data": {
      "text/html": [
       "<div>\n",
       "<style>\n",
       "    .dataframe thead tr:only-child th {\n",
       "        text-align: right;\n",
       "    }\n",
       "\n",
       "    .dataframe thead th {\n",
       "        text-align: left;\n",
       "    }\n",
       "\n",
       "    .dataframe tbody tr th {\n",
       "        vertical-align: top;\n",
       "    }\n",
       "</style>\n",
       "<table border=\"1\" class=\"dataframe\">\n",
       "  <thead>\n",
       "    <tr style=\"text-align: right;\">\n",
       "      <th></th>\n",
       "      <th>Unnamed: 0</th>\n",
       "      <th>numero</th>\n",
       "      <th>date_transplantation</th>\n",
       "      <th>heure_arrivee_bloc</th>\n",
       "      <th>pathologie</th>\n",
       "      <th>age</th>\n",
       "      <th>sexe</th>\n",
       "      <th>Poids</th>\n",
       "      <th>Taille</th>\n",
       "      <th>other_organ_transplantation</th>\n",
       "      <th>...</th>\n",
       "      <th>preoperative_pulmonary_hypertension</th>\n",
       "      <th>PAPS</th>\n",
       "      <th>Insuffisance_renale</th>\n",
       "      <th>CMV_receveur</th>\n",
       "      <th>plasmapherese</th>\n",
       "      <th>preoperative_ECMO</th>\n",
       "      <th>ATCD_chirugicaux</th>\n",
       "      <th>thoracic_surgery_history</th>\n",
       "      <th>immediate_extubation</th>\n",
       "      <th>secondary_intubation</th>\n",
       "    </tr>\n",
       "  </thead>\n",
       "  <tbody>\n",
       "    <tr>\n",
       "      <th>0</th>\n",
       "      <td>0</td>\n",
       "      <td>1</td>\n",
       "      <td>2012-01-05</td>\n",
       "      <td>03:00:00</td>\n",
       "      <td>3</td>\n",
       "      <td>49</td>\n",
       "      <td>0</td>\n",
       "      <td>68.0</td>\n",
       "      <td>160</td>\n",
       "      <td>0</td>\n",
       "      <td>...</td>\n",
       "      <td>1.0</td>\n",
       "      <td>66.0</td>\n",
       "      <td>0</td>\n",
       "      <td>NaN</td>\n",
       "      <td>1</td>\n",
       "      <td>0.0</td>\n",
       "      <td>-7 grossesses et une MFIU au 8ième mois de la ...</td>\n",
       "      <td>0</td>\n",
       "      <td>0.0</td>\n",
       "      <td>0.0</td>\n",
       "    </tr>\n",
       "    <tr>\n",
       "      <th>1</th>\n",
       "      <td>1</td>\n",
       "      <td>2</td>\n",
       "      <td>2012-01-08</td>\n",
       "      <td>03:15:00</td>\n",
       "      <td>1</td>\n",
       "      <td>42</td>\n",
       "      <td>1</td>\n",
       "      <td>49.0</td>\n",
       "      <td>165</td>\n",
       "      <td>0</td>\n",
       "      <td>...</td>\n",
       "      <td>0.0</td>\n",
       "      <td>32.0</td>\n",
       "      <td>0</td>\n",
       "      <td>NaN</td>\n",
       "      <td>0</td>\n",
       "      <td>0.0</td>\n",
       "      <td>- 1993 : résection du grêle pour invagination ...</td>\n",
       "      <td>1</td>\n",
       "      <td>1.0</td>\n",
       "      <td>0.0</td>\n",
       "    </tr>\n",
       "    <tr>\n",
       "      <th>2</th>\n",
       "      <td>2</td>\n",
       "      <td>3</td>\n",
       "      <td>2012-01-11</td>\n",
       "      <td>13:30:00</td>\n",
       "      <td>1</td>\n",
       "      <td>22</td>\n",
       "      <td>1</td>\n",
       "      <td>51.0</td>\n",
       "      <td>173</td>\n",
       "      <td>0</td>\n",
       "      <td>...</td>\n",
       "      <td>0.0</td>\n",
       "      <td>35.0</td>\n",
       "      <td>0</td>\n",
       "      <td>NaN</td>\n",
       "      <td>0</td>\n",
       "      <td>0.0</td>\n",
       "      <td>- Cure de RGO sous coelioscopie 06/01/2011\\n- ...</td>\n",
       "      <td>1</td>\n",
       "      <td>0.0</td>\n",
       "      <td>0.0</td>\n",
       "    </tr>\n",
       "    <tr>\n",
       "      <th>3</th>\n",
       "      <td>3</td>\n",
       "      <td>4</td>\n",
       "      <td>2012-01-15</td>\n",
       "      <td>07:20:00</td>\n",
       "      <td>2</td>\n",
       "      <td>57</td>\n",
       "      <td>0</td>\n",
       "      <td>65.0</td>\n",
       "      <td>152</td>\n",
       "      <td>0</td>\n",
       "      <td>...</td>\n",
       "      <td>0.0</td>\n",
       "      <td>NaN</td>\n",
       "      <td>0</td>\n",
       "      <td>NaN</td>\n",
       "      <td>1</td>\n",
       "      <td>0.0</td>\n",
       "      <td>-1984 : PTH droite \\n-1992 : ligature bilatéra...</td>\n",
       "      <td>0</td>\n",
       "      <td>0.0</td>\n",
       "      <td>0.0</td>\n",
       "    </tr>\n",
       "    <tr>\n",
       "      <th>4</th>\n",
       "      <td>4</td>\n",
       "      <td>5</td>\n",
       "      <td>2012-01-17</td>\n",
       "      <td>12:15:00</td>\n",
       "      <td>2</td>\n",
       "      <td>49</td>\n",
       "      <td>0</td>\n",
       "      <td>50.0</td>\n",
       "      <td>160</td>\n",
       "      <td>0</td>\n",
       "      <td>...</td>\n",
       "      <td>0.0</td>\n",
       "      <td>NaN</td>\n",
       "      <td>0</td>\n",
       "      <td>NaN</td>\n",
       "      <td>0</td>\n",
       "      <td>0.0</td>\n",
       "      <td>- Appendicectomie\\n- Méatotomie\\n- Amygdalecto...</td>\n",
       "      <td>0</td>\n",
       "      <td>0.0</td>\n",
       "      <td>0.0</td>\n",
       "    </tr>\n",
       "  </tbody>\n",
       "</table>\n",
       "<p>5 rows × 32 columns</p>\n",
       "</div>"
      ],
      "text/plain": [
       "   Unnamed: 0 numero date_transplantation heure_arrivee_bloc  pathologie  age  \\\n",
       "0           0      1           2012-01-05           03:00:00           3   49   \n",
       "1           1      2           2012-01-08           03:15:00           1   42   \n",
       "2           2      3           2012-01-11           13:30:00           1   22   \n",
       "3           3      4           2012-01-15           07:20:00           2   57   \n",
       "4           4      5           2012-01-17           12:15:00           2   49   \n",
       "\n",
       "   sexe  Poids  Taille  other_organ_transplantation         ...           \\\n",
       "0     0   68.0     160                            0         ...            \n",
       "1     1   49.0     165                            0         ...            \n",
       "2     1   51.0     173                            0         ...            \n",
       "3     0   65.0     152                            0         ...            \n",
       "4     0   50.0     160                            0         ...            \n",
       "\n",
       "   preoperative_pulmonary_hypertension  PAPS  Insuffisance_renale  \\\n",
       "0                                  1.0  66.0                    0   \n",
       "1                                  0.0  32.0                    0   \n",
       "2                                  0.0  35.0                    0   \n",
       "3                                  0.0   NaN                    0   \n",
       "4                                  0.0   NaN                    0   \n",
       "\n",
       "   CMV_receveur plasmapherese  preoperative_ECMO  \\\n",
       "0           NaN             1                0.0   \n",
       "1           NaN             0                0.0   \n",
       "2           NaN             0                0.0   \n",
       "3           NaN             1                0.0   \n",
       "4           NaN             0                0.0   \n",
       "\n",
       "                                    ATCD_chirugicaux  \\\n",
       "0  -7 grossesses et une MFIU au 8ième mois de la ...   \n",
       "1  - 1993 : résection du grêle pour invagination ...   \n",
       "2  - Cure de RGO sous coelioscopie 06/01/2011\\n- ...   \n",
       "3  -1984 : PTH droite \\n-1992 : ligature bilatéra...   \n",
       "4  - Appendicectomie\\n- Méatotomie\\n- Amygdalecto...   \n",
       "\n",
       "   thoracic_surgery_history  immediate_extubation secondary_intubation  \n",
       "0                         0                   0.0                  0.0  \n",
       "1                         1                   1.0                  0.0  \n",
       "2                         1                   0.0                  0.0  \n",
       "3                         0                   0.0                  0.0  \n",
       "4                         0                   0.0                  0.0  \n",
       "\n",
       "[5 rows x 32 columns]"
      ]
     },
     "execution_count": 53,
     "metadata": {},
     "output_type": "execute_result"
    }
   ],
   "source": [
    "dim_patient_preoperatoire[Unnamed:]"
   ]
  },
  {
   "cell_type": "markdown",
   "metadata": {},
   "source": [
    "Il y a au moins 5 colonnes 'object' (càd des string)... On se propose de voir leur tête :"
   ]
  },
  {
   "cell_type": "code",
   "execution_count": 24,
   "metadata": {},
   "outputs": [
    {
     "data": {
      "text/html": [
       "<div>\n",
       "<style>\n",
       "    .dataframe thead tr:only-child th {\n",
       "        text-align: right;\n",
       "    }\n",
       "\n",
       "    .dataframe thead th {\n",
       "        text-align: left;\n",
       "    }\n",
       "\n",
       "    .dataframe tbody tr th {\n",
       "        vertical-align: top;\n",
       "    }\n",
       "</style>\n",
       "<table border=\"1\" class=\"dataframe\">\n",
       "  <thead>\n",
       "    <tr style=\"text-align: right;\">\n",
       "      <th></th>\n",
       "      <th>numero</th>\n",
       "      <th>date_transplantation</th>\n",
       "      <th>heure_arrivee_bloc</th>\n",
       "      <th>LAS</th>\n",
       "      <th>ATCD_medicaux</th>\n",
       "      <th>PFO</th>\n",
       "      <th>CMV_receveur</th>\n",
       "      <th>ATCD_chirugicaux</th>\n",
       "    </tr>\n",
       "  </thead>\n",
       "  <tbody>\n",
       "    <tr>\n",
       "      <th>0</th>\n",
       "      <td>1</td>\n",
       "      <td>2012-01-05</td>\n",
       "      <td>03:00:00</td>\n",
       "      <td>43.2</td>\n",
       "      <td>-insuffisance respiratoire terminale et DDB so...</td>\n",
       "      <td>0</td>\n",
       "      <td>NaN</td>\n",
       "      <td>-7 grossesses et une MFIU au 8ième mois de la ...</td>\n",
       "    </tr>\n",
       "    <tr>\n",
       "      <th>1</th>\n",
       "      <td>2</td>\n",
       "      <td>2012-01-08</td>\n",
       "      <td>03:15:00</td>\n",
       "      <td>38.5</td>\n",
       "      <td>- mucoviscidose delta F 508 homozygote :  O2 c...</td>\n",
       "      <td>1</td>\n",
       "      <td>NaN</td>\n",
       "      <td>- 1993 : résection du grêle pour invagination ...</td>\n",
       "    </tr>\n",
       "    <tr>\n",
       "      <th>2</th>\n",
       "      <td>3</td>\n",
       "      <td>2012-01-11</td>\n",
       "      <td>13:30:00</td>\n",
       "      <td>61</td>\n",
       "      <td>Mucoviscidose, déjà greffé des deux poumons en...</td>\n",
       "      <td>0</td>\n",
       "      <td>NaN</td>\n",
       "      <td>- Cure de RGO sous coelioscopie 06/01/2011\\n- ...</td>\n",
       "    </tr>\n",
       "    <tr>\n",
       "      <th>3</th>\n",
       "      <td>4</td>\n",
       "      <td>2012-01-15</td>\n",
       "      <td>07:20:00</td>\n",
       "      <td>30.8</td>\n",
       "      <td>-insuffisance respiratoire terminale sur emphy...</td>\n",
       "      <td>0</td>\n",
       "      <td>NaN</td>\n",
       "      <td>-1984 : PTH droite \\n-1992 : ligature bilatéra...</td>\n",
       "    </tr>\n",
       "    <tr>\n",
       "      <th>4</th>\n",
       "      <td>5</td>\n",
       "      <td>2012-01-17</td>\n",
       "      <td>12:15:00</td>\n",
       "      <td>31.5</td>\n",
       "      <td>- BPCO post tabagique (Tiffeneau 23%, CPT 132%...</td>\n",
       "      <td>0</td>\n",
       "      <td>NaN</td>\n",
       "      <td>- Appendicectomie\\n- Méatotomie\\n- Amygdalecto...</td>\n",
       "    </tr>\n",
       "  </tbody>\n",
       "</table>\n",
       "</div>"
      ],
      "text/plain": [
       "  numero date_transplantation heure_arrivee_bloc   LAS  \\\n",
       "0      1           2012-01-05           03:00:00  43.2   \n",
       "1      2           2012-01-08           03:15:00  38.5   \n",
       "2      3           2012-01-11           13:30:00    61   \n",
       "3      4           2012-01-15           07:20:00  30.8   \n",
       "4      5           2012-01-17           12:15:00  31.5   \n",
       "\n",
       "                                       ATCD_medicaux PFO CMV_receveur  \\\n",
       "0  -insuffisance respiratoire terminale et DDB so...   0          NaN   \n",
       "1  - mucoviscidose delta F 508 homozygote :  O2 c...   1          NaN   \n",
       "2  Mucoviscidose, déjà greffé des deux poumons en...   0          NaN   \n",
       "3  -insuffisance respiratoire terminale sur emphy...   0          NaN   \n",
       "4  - BPCO post tabagique (Tiffeneau 23%, CPT 132%...   0          NaN   \n",
       "\n",
       "                                    ATCD_chirugicaux  \n",
       "0  -7 grossesses et une MFIU au 8ième mois de la ...  \n",
       "1  - 1993 : résection du grêle pour invagination ...  \n",
       "2  - Cure de RGO sous coelioscopie 06/01/2011\\n- ...  \n",
       "3  -1984 : PTH droite \\n-1992 : ligature bilatéra...  \n",
       "4  - Appendicectomie\\n- Méatotomie\\n- Amygdalecto...  "
      ]
     },
     "execution_count": 24,
     "metadata": {},
     "output_type": "execute_result"
    }
   ],
   "source": [
    "dim_patient_preoperatoire.select_dtypes(include=['object']).head()"
   ]
  },
  {
   "cell_type": "markdown",
   "metadata": {},
   "source": [
    "Clairment il y a pleins de choses interessantes à faire là mais je le ferai plus tard "
   ]
  },
  {
   "cell_type": "markdown",
   "metadata": {},
   "source": [
    "On regarde tout de suite les corrélations très fortes pour cette table : (comme il y a beaucoup de variable on filtre les corrélations plus négigeables ...)"
   ]
  },
  {
   "cell_type": "code",
   "execution_count": 25,
   "metadata": {},
   "outputs": [
    {
     "data": {
      "text/plain": [
       "(4, 4)"
      ]
     },
     "execution_count": 25,
     "metadata": {},
     "output_type": "execute_result"
    }
   ],
   "source": [
    "dimpa_corr=dim_patient_preoperatoire.corr()\n",
    "dimpa_corr_tres_forte=dimpa_corr[(dimpa_corr<-0.75) | ((dimpa_corr>=0.75) & (dimpa_corr<1))].dropna(how='all').dropna(axis=1,how='all')\n",
    "dimpa_corr_tres_forte.shape"
   ]
  },
  {
   "cell_type": "code",
   "execution_count": 26,
   "metadata": {},
   "outputs": [
    {
     "data": {
      "text/plain": [
       "<matplotlib.axes._subplots.AxesSubplot at 0x29049369b70>"
      ]
     },
     "execution_count": 26,
     "metadata": {},
     "output_type": "execute_result"
    },
    {
     "data": {
      "image/png": "[encoded data removed]",
      "text/plain": [
       "<matplotlib.figure.Figure at 0x29049317eb8>"
      ]
     },
     "metadata": {},
     "output_type": "display_data"
    }
   ],
   "source": [
    "colormap = plt.cm.Spectral\n",
    "plt.figure(figsize=(14,12))\n",
    "plt.title('Très Fortes Correlations Positives et Négatives par Pearson', y=1.05, size=15)\n",
    "sns.heatmap(dimpa_corr_tres_forte,linewidths=0.1,vmax=1.0, \n",
    "            square=True, cmap=colormap, linecolor='white', annot=True)"
   ]
  },
  {
   "cell_type": "markdown",
   "metadata": {},
   "source": [
    "Mais on oublie pas qu'il y a encore plus de correlations fortes au sens de Pearson :"
   ]
  },
  {
   "cell_type": "code",
   "execution_count": 27,
   "metadata": {},
   "outputs": [
    {
     "data": {
      "text/plain": [
       "(11, 11)"
      ]
     },
     "execution_count": 27,
     "metadata": {},
     "output_type": "execute_result"
    }
   ],
   "source": [
    "dimpa_corr_forte=dimpa_corr[(dimpa_corr<-0.5) | ((dimpa_corr>=0.5) & (dimpa_corr<1))].dropna(how='all').dropna(axis=1,how='all')\n",
    "dimpa_corr_forte.shape"
   ]
  },
  {
   "cell_type": "code",
   "execution_count": 28,
   "metadata": {},
   "outputs": [
    {
     "data": {
      "text/plain": [
       "<matplotlib.axes._subplots.AxesSubplot at 0x290497cdeb8>"
      ]
     },
     "execution_count": 28,
     "metadata": {},
     "output_type": "execute_result"
    },
    {
     "data": {
      "image/png": "[encoded data removed]",
      "text/plain": [
       "<matplotlib.figure.Figure at 0x290497d7c50>"
      ]
     },
     "metadata": {},
     "output_type": "display_data"
    }
   ],
   "source": [
    "colormap = plt.cm.Spectral\n",
    "plt.figure(figsize=(14,12))\n",
    "plt.title('Fortes Correlations Positives et Négatives par Pearson (Nombreuses donc brouillon)', y=1.05, size=15)\n",
    "sns.heatmap(dimpa_corr_forte,linewidths=0.1,vmax=1.0, \n",
    "            square=True, cmap=colormap, linecolor='white', annot=True)"
   ]
  },
  {
   "cell_type": "markdown",
   "metadata": {},
   "source": [
    "#### Il faudrait analyser ces corrélations !!!\n"
   ]
  },
  {
   "cell_type": "markdown",
   "metadata": {},
   "source": [
    "## Comparaison classifieurs "
   ]
  },
  {
   "cell_type": "markdown",
   "metadata": {},
   "source": [
    "On avait vu qu'il y avait beaucoup de type \"object\" donc on se propose de les enlever puis enlever les données \"manquantes\" :"
   ]
  },
  {
   "cell_type": "code",
   "execution_count": 29,
   "metadata": {},
   "outputs": [
    {
     "data": {
      "text/plain": [
       "(411, 24)"
      ]
     },
     "execution_count": 29,
     "metadata": {},
     "output_type": "execute_result"
    }
   ],
   "source": [
    "dim_patient_preoperatoire_so=dim_patient_preoperatoire.select_dtypes(exclude=['object'])\n",
    "dim_patient_preoperatoire_so.shape"
   ]
  },
  {
   "cell_type": "code",
   "execution_count": 30,
   "metadata": {},
   "outputs": [
    {
     "data": {
      "text/plain": [
       "(195, 24)"
      ]
     },
     "execution_count": 30,
     "metadata": {},
     "output_type": "execute_result"
    }
   ],
   "source": [
    "dim_patient_preoperatoire_so=dim_patient_preoperatoire_so.dropna()\n",
    "dim_patient_preoperatoire_so.shape"
   ]
  },
  {
   "cell_type": "markdown",
   "metadata": {},
   "source": [
    "#### Oulala si on enlève les Nan il y a plus rien !! Très problèmatique !"
   ]
  },
  {
   "cell_type": "markdown",
   "metadata": {},
   "source": [
    "## Ici on pique la data préparation de Guillaume"
   ]
  },
  {
   "cell_type": "markdown",
   "metadata": {
    "collapsed": true
   },
   "source": [
    "df_Bloc = pd.read_csv('clean_Bloc_files.csv', sep=',', index_col =[36,37], engine='c')\n",
    "\n",
    "df_donor = pd.read_csv('dim_donor.csv', sep=',', index_col =0, engine='c')\n",
    "\n",
    "df_patient = pd.read_csv('dim_patient.csv', sep=',', index_col =0, engine='c')\n",
    "\n",
    "[df_patient, df_donor]\n",
    "\n",
    "df_global = pd.concat([df_patient, df_donor], axis=1)#, sort = False)"
   ]
  },
  {
   "cell_type": "markdown",
   "metadata": {},
   "source": [
    "col_date_lst = ['date_transplantation', 'date_sortie_bloc','heure_arrivee_rea','date_de_deces']\n",
    "col_post_lst = ['time_to_secondary_intubation']\n",
    "\n",
    "col_to_delete_lst = []\n",
    "col_to_delete_lst.extend(col_date_lst)\n",
    "col_to_delete_lst.extend(col_post_lst)\n",
    "col_to_delete_lst"
   ]
  },
  {
   "cell_type": "markdown",
   "metadata": {
    "collapsed": true
   },
   "source": [
    "df_global.drop(col_to_delete_lst, axis=1, inplace=True)"
   ]
  },
  {
   "cell_type": "markdown",
   "metadata": {},
   "source": [
    "df_global = df_global.loc[df_global['immediate_extubation'] == 1]\n",
    "col_to_delete_lst = ['immediate_extubation','los_total_ventilation']\n",
    "df_global.drop(col_to_delete_lst, axis=1, inplace=True)\n",
    "\n",
    "df_y = df_global['secondary_intubation']\n",
    "col_to_delete_lst = ['secondary_intubation']\n",
    "df_X = df_global.drop(col_to_delete_lst, axis=1)\n",
    "\n",
    "df_X.replace(to_replace=['?', 'NF'], value=pd.np.nan, inplace=True)\n",
    "df_X.replace(to_replace=['E'], value=-1, inplace=True)\n",
    "df_X.fillna(value=pd.np.nan, inplace=True)"
   ]
  },
  {
   "cell_type": "code",
   "execution_count": 31,
   "metadata": {},
   "outputs": [
    {
     "data": {
      "text/plain": [
       "Index(['Unnamed: 0', 'pathologie', 'age', 'sexe', 'Poids', 'Taille',\n",
       "       'other_organ_transplantation', 'super_urgence', 'retransplant',\n",
       "       'transplanted_twice_during_study_period', 'time_on_waiting_liste',\n",
       "       'preoperative_ICU', 'preoperative_vasopressor',\n",
       "       'preoperative_mechanical_ventilation', 'body_mass_index', 'diabetes',\n",
       "       'preoperative_pulmonary_hypertension', 'PAPS', 'Insuffisance_renale',\n",
       "       'plasmapherese', 'preoperative_ECMO', 'thoracic_surgery_history',\n",
       "       ' immediate_extubation', 'secondary_intubation'],\n",
       "      dtype='object')"
      ]
     },
     "execution_count": 31,
     "metadata": {},
     "output_type": "execute_result"
    }
   ],
   "source": [
    "dim_patient_preoperatoire_so.columns"
   ]
  },
  {
   "cell_type": "markdown",
   "metadata": {},
   "source": [
    "Attention il y a un espace au début de  ' immediate_extubation' !!!"
   ]
  },
  {
   "cell_type": "markdown",
   "metadata": {},
   "source": [
    "### Quels sont les données avec lesquelles on travail ? : Ici Train et Test split !\n",
    "(On pose des seeds pour la reproductibilité priliminaire ...)"
   ]
  },
  {
   "cell_type": "code",
   "execution_count": 32,
   "metadata": {
    "collapsed": true
   },
   "outputs": [],
   "source": [
    "\n",
    "X=dim_patient_preoperatoire_so.drop([' immediate_extubation','secondary_intubation'], 1) #On enlève les variables cibles \n",
    "Y=dim_patient_preoperatoire_so.loc[:,[' immediate_extubation']] #avant de regarder 'secondary_intubation'\n",
    "\n",
    "\n",
    "X_train, X_test, Y_train, Y_test = train_test_split( X, Y, test_size=0.33, random_state=42)\n",
    "\n",
    "\n",
    "\n",
    "\n",
    "x_train=X_train.fillna(value=0).values\n",
    "x_test=X_test.fillna(value=0).values\n",
    "\n",
    "y_train=Y_train.fillna(value=0).values\n",
    "y_test= Y_test.fillna(value=0).values"
   ]
  },
  {
   "cell_type": "markdown",
   "metadata": {},
   "source": [
    "(P.S. : je me rend compte que mes notations sont des mauvaises pratiques ... Je mets un grand X quand c'est une df et un petit x quand je convertis en array ...)"
   ]
  },
  {
   "cell_type": "markdown",
   "metadata": {},
   "source": [
    "Des données utiles pour plus tard"
   ]
  },
  {
   "cell_type": "code",
   "execution_count": 33,
   "metadata": {
    "collapsed": true
   },
   "outputs": [],
   "source": [
    "\n",
    "cols = X_train.columns.values  #On a besoin des colonnes pour plus tard \n",
    "                                # On observe le grand X et pas le petit x ...\n",
    "\n",
    "ntrain = x_train.shape[0]\n",
    "\n",
    "ntest = x_test.shape[0]\n",
    "\n",
    "seed_fix = 5                   # Pour reproduire les résultats"
   ]
  },
  {
   "cell_type": "markdown",
   "metadata": {},
   "source": [
    "A partir d'ici on va créer des classes pour ne pas avoir à recopier trop souvent les mêmes choses et faciliter l'extension si on veux faire du stacking."
   ]
  },
  {
   "cell_type": "code",
   "execution_count": 34,
   "metadata": {
    "collapsed": true
   },
   "outputs": [],
   "source": [
    "class SklearnHelper(object):\n",
    "    def __init__(self, clf, seed=0, params=None):\n",
    "        params['random_state'] = seed\n",
    "        self.clf = clf(**params)\n",
    "\n",
    "    def train(self, x_train, y_train):\n",
    "        self.clf.fit(x_train, y_train)\n",
    "\n",
    "    def predict(self, x):\n",
    "        return self.clf.predict(x)\n",
    "    \n",
    "    def fit(self,x,y):\n",
    "        return self.clf.fit(x,y)\n",
    "    \n",
    "    def feature_importances(self,x,y):\n",
    "        return self.clf.fit(x,y).feature_importances_\n",
    "    "
   ]
  },
  {
   "cell_type": "code",
   "execution_count": 35,
   "metadata": {
    "collapsed": true
   },
   "outputs": [],
   "source": [
    "\n",
    "NFOLDS = 5 \n",
    "kf = KFold(ntrain, n_folds= NFOLDS, random_state=seed_fix)\n",
    "\n",
    "\n",
    "\n",
    "def get_oof(clf, x_train, y_train, x_test):\n",
    "    oof_train = np.zeros((ntrain,))\n",
    "    oof_test = np.zeros((ntest,))\n",
    "    oof_test_skf = np.empty((NFOLDS, ntest))\n",
    "\n",
    "    for i, (train_index, test_index) in enumerate(kf):\n",
    "        x_tr = x_train[train_index]\n",
    "        y_tr = y_train[train_index]\n",
    "        x_te = x_train[test_index]\n",
    "\n",
    "        clf.train(x_tr, y_tr)\n",
    "\n",
    "        oof_train[test_index] = clf.predict(x_te)\n",
    "        oof_test_skf[i, :] = clf.predict(x_test)\n",
    "\n",
    "    oof_test[:] = oof_test_skf.mean(axis=0)\n",
    "    return oof_train.reshape(-1, 1), oof_test.reshape(-1, 1)"
   ]
  },
  {
   "cell_type": "markdown",
   "metadata": {},
   "source": [
    "Les paramètres pour chaque classifieurs "
   ]
  },
  {
   "cell_type": "markdown",
   "metadata": {},
   "source": [
    "Random Forest"
   ]
  },
  {
   "cell_type": "code",
   "execution_count": 36,
   "metadata": {
    "collapsed": true
   },
   "outputs": [],
   "source": [
    "rf_params = {\n",
    "    'n_jobs': -1,\n",
    "    'n_estimators': 500,\n",
    "     'warm_start': True, \n",
    "     #'max_features': 0.2,\n",
    "    'max_depth': 6,\n",
    "    'min_samples_leaf': 2,\n",
    "    'max_features' : 'sqrt',\n",
    "    'verbose': 0\n",
    "}"
   ]
  },
  {
   "cell_type": "markdown",
   "metadata": {},
   "source": [
    "Extra Trees \n"
   ]
  },
  {
   "cell_type": "code",
   "execution_count": 37,
   "metadata": {
    "collapsed": true
   },
   "outputs": [],
   "source": [
    "et_params = {\n",
    "    'n_jobs': -1,\n",
    "    'n_estimators':500,\n",
    "    #'max_features': 0.5,\n",
    "    'max_depth': 8,\n",
    "    'min_samples_leaf': 2,\n",
    "    'verbose': 0\n",
    "}\n"
   ]
  },
  {
   "cell_type": "markdown",
   "metadata": {},
   "source": [
    "AdaBoost "
   ]
  },
  {
   "cell_type": "code",
   "execution_count": 38,
   "metadata": {
    "collapsed": true
   },
   "outputs": [],
   "source": [
    "ada_params = {\n",
    "    'n_estimators': 500,\n",
    "    'learning_rate' : 0.75\n",
    "}\n"
   ]
  },
  {
   "cell_type": "markdown",
   "metadata": {},
   "source": [
    "Gradient Boosting"
   ]
  },
  {
   "cell_type": "code",
   "execution_count": 39,
   "metadata": {
    "collapsed": true
   },
   "outputs": [],
   "source": [
    "gb_params = {\n",
    "    'n_estimators': 500,\n",
    "     #'max_features': 0.2,\n",
    "    'max_depth': 5,\n",
    "    'min_samples_leaf': 2,\n",
    "    'verbose': 0\n",
    "}"
   ]
  },
  {
   "cell_type": "markdown",
   "metadata": {},
   "source": [
    "Les modèles utilisés :"
   ]
  },
  {
   "cell_type": "code",
   "execution_count": 40,
   "metadata": {
    "collapsed": true
   },
   "outputs": [],
   "source": [
    "rf = SklearnHelper(clf=RandomForestClassifier, seed=seed_fix , params=rf_params)\n",
    "et = SklearnHelper(clf=ExtraTreesClassifier, seed=seed_fix, params=et_params)\n",
    "ada = SklearnHelper(clf=AdaBoostClassifier, seed=seed_fix , params=ada_params)\n",
    "gb = SklearnHelper(clf=GradientBoostingClassifier, seed=seed_fix, params=gb_params)"
   ]
  },
  {
   "cell_type": "markdown",
   "metadata": {
    "collapsed": true
   },
   "source": [
    "Là on peut enfin lancer nos modèles !"
   ]
  },
  {
   "cell_type": "code",
   "execution_count": 41,
   "metadata": {},
   "outputs": [
    {
     "name": "stdout",
     "output_type": "stream",
     "text": [
      "Apprentissage terminé :D\n"
     ]
    }
   ],
   "source": [
    "et_oof_train, et_oof_test = get_oof(et, x_train, y_train, x_test) # Extra Trees\n",
    "rf_oof_train, rf_oof_test = get_oof(rf,x_train, y_train, x_test) # Random Forest\n",
    "ada_oof_train, ada_oof_test = get_oof(ada, x_train, y_train, x_test) # AdaBoost \n",
    "gb_oof_train, gb_oof_test = get_oof(gb,x_train, y_train, x_test) # Gradient Boost\n",
    "\n",
    "print(\"Apprentissage terminé :D\")"
   ]
  },
  {
   "cell_type": "markdown",
   "metadata": {},
   "source": [
    "On récupère l'importance des variables et on va les comparer pour une meilleure interprétation des modèles :"
   ]
  },
  {
   "cell_type": "code",
   "execution_count": 42,
   "metadata": {
    "collapsed": true
   },
   "outputs": [],
   "source": [
    "rf_feature = rf.feature_importances(x_train,y_train)\n",
    "et_feature = et.feature_importances(x_train, y_train)\n",
    "ada_feature = ada.feature_importances(x_train, y_train)\n",
    "gb_feature = gb.feature_importances(x_train,y_train)\n",
    "\n",
    "#On met plutot dans un dataFrame\n",
    "feature_dataframe = pd.DataFrame( {'features': cols,\n",
    "     'Random Forest Importance des features': rf_feature,\n",
    "     'Extra Trees Importance des features': et_feature,\n",
    "      'AdaBoost Importance des features': ada_feature,\n",
    "    'Gradient Boost Importance des features': gb_feature\n",
    "    })"
   ]
  },
  {
   "cell_type": "markdown",
   "metadata": {},
   "source": [
    "Et les prédictions respectives :"
   ]
  },
  {
   "cell_type": "markdown",
   "metadata": {},
   "source": [
    "## Les Réslutats de nos prédictions !"
   ]
  },
  {
   "cell_type": "code",
   "execution_count": 43,
   "metadata": {
    "collapsed": true
   },
   "outputs": [],
   "source": [
    "rf_pred=rf.predict(X_test)\n",
    "et_pred=et.predict(X_test)\n",
    "ada_pred=ada.predict(X_test)\n",
    "gb_pred=gb.predict(X_test)"
   ]
  },
  {
   "cell_type": "code",
   "execution_count": 44,
   "metadata": {
    "scrolled": true
   },
   "outputs": [
    {
     "name": "stdout",
     "output_type": "stream",
     "text": [
      "             precision    recall  f1-score   support\n",
      "\n",
      "        0.0       0.98      0.66      0.78        61\n",
      "        1.0       0.12      0.75      0.21         4\n",
      "\n",
      "avg / total       0.92      0.66      0.75        65\n",
      "\n"
     ]
    }
   ],
   "source": [
    "from sklearn import metrics\n",
    "print(metrics.classification_report(rf_pred, y_test))"
   ]
  },
  {
   "cell_type": "code",
   "execution_count": 45,
   "metadata": {},
   "outputs": [
    {
     "name": "stdout",
     "output_type": "stream",
     "text": [
      "             precision    recall  f1-score   support\n",
      "\n",
      "        0.0       0.90      0.66      0.76        56\n",
      "        1.0       0.21      0.56      0.30         9\n",
      "\n",
      "avg / total       0.81      0.65      0.70        65\n",
      "\n"
     ]
    }
   ],
   "source": [
    "print(metrics.classification_report(et_pred, y_test))"
   ]
  },
  {
   "cell_type": "code",
   "execution_count": 46,
   "metadata": {},
   "outputs": [
    {
     "name": "stdout",
     "output_type": "stream",
     "text": [
      "             precision    recall  f1-score   support\n",
      "\n",
      "        0.0       0.73      0.67      0.70        45\n",
      "        1.0       0.38      0.45      0.41        20\n",
      "\n",
      "avg / total       0.62      0.60      0.61        65\n",
      "\n"
     ]
    }
   ],
   "source": [
    "print(metrics.classification_report(ada_pred, y_test))"
   ]
  },
  {
   "cell_type": "code",
   "execution_count": 47,
   "metadata": {},
   "outputs": [
    {
     "name": "stdout",
     "output_type": "stream",
     "text": [
      "             precision    recall  f1-score   support\n",
      "\n",
      "        0.0       0.85      0.64      0.73        55\n",
      "        1.0       0.17      0.40      0.24        10\n",
      "\n",
      "avg / total       0.75      0.60      0.65        65\n",
      "\n"
     ]
    }
   ],
   "source": [
    "print(metrics.classification_report(gb_pred, y_test))"
   ]
  },
  {
   "cell_type": "markdown",
   "metadata": {},
   "source": [
    "Pour ceux qui auraient oublié : \n",
    "\n",
    "Compute the precision\n",
    "\n",
    "The precision is the ratio tp / (tp + fp) where tp is the number of true positives and fp the number of false positives. The precision is intuitively the ability of the classifier not to label as positive a sample that is negative.\n",
    "\n",
    "The best value is 1 and the worst value is 0.\n",
    "\n",
    "\n",
    "Compute the recall\n",
    "\n",
    "The recall is the ratio tp / (tp + fn) where tp is the number of true positives and fn the number of false negatives. The recall is intuitively the ability of the classifier to find all the positive samples.\n",
    "\n",
    "The best value is 1 and the worst value is 0.\n",
    "\n",
    "\n",
    "The F1 score can be interpreted as a weighted average of the precision and recall, where an F1 score reaches its best value at 1 and worst score at 0. The relative contribution of precision and recall to the F1 score are equal. The formula for the F1 score is:\n",
    "\n",
    "F1 = 2 * (precision * recall) / (precision + recall)\n",
    "\n",
    "\n",
    "The support is the number of occurrences of each class in y_true"
   ]
  },
  {
   "cell_type": "markdown",
   "metadata": {},
   "source": [
    "# Visualisation des Résultats"
   ]
  },
  {
   "cell_type": "markdown",
   "metadata": {},
   "source": [
    "Bon là j'ai un peu modifié un graph que j'aime bien qui aide à visualiser ce qui se passe pour chaque classifieur :"
   ]
  },
  {
   "cell_type": "markdown",
   "metadata": {},
   "source": [
    "Le feature_importances_ est en fait le coefficiednt de Gini ( ou Gini importance) :\n",
    "\n",
    "En tous cas pour :\n",
    "\n",
    "-DecisionTreeClassifier\n",
    "\n",
    "\n",
    "\n",
    "\n",
    "https://fr.wikipedia.org/wiki/Coefficient_de_Gini\n",
    "https://stats.stackexchange.com/questions/92419/relative-importance-of-a-set-of-predictors-in-a-random-forests-classification-in/92843#92843\n",
    "https://homes.cs.washington.edu/~shapiro/EE596/notes/InfoGain.pdf"
   ]
  },
  {
   "cell_type": "markdown",
   "metadata": {},
   "source": [
    "## Random Forest"
   ]
  },
  {
   "cell_type": "code",
   "execution_count": 48,
   "metadata": {},
   "outputs": [
    {
     "data": {
      "application/vnd.plotly.v1+json": {
       "data": [
        {
         "marker": {
          "color": [
           0.1033843544622101,
           0.07319506912797467,
           0.12571682212152976,
           0.01635578237304972,
           0.09300563906651839,
           0.08502728500070168,
           0.0035264810644576802,
           0.005988458048018256,
           0.0029030344710930705,
           0.00021258457914037046,
           0.14761179796148927,
           0.00707096930370691,
           0.0012227374451766213,
           0.001321713389308852,
           0.11537169755968951,
           0.013953516527774528,
           0.04331234832645709,
           0.11728915818942393,
           0.0009623028012367458,
           0.019908024864438444,
           0.001959077464317123,
           0.02070114585228724
          ],
          "colorscale": "Portland",
          "showscale": true,
          "size": 25,
          "sizemode": "diameter",
          "sizeref": 1
         },
         "mode": "markers",
         "text": [
          "Unnamed: 0",
          "pathologie",
          "age",
          "sexe",
          "Poids",
          "Taille",
          "other_organ_transplantation",
          "super_urgence",
          "retransplant",
          "transplanted_twice_during_study_period",
          "time_on_waiting_liste",
          "preoperative_ICU",
          "preoperative_vasopressor",
          "preoperative_mechanical_ventilation",
          "body_mass_index",
          "diabetes",
          "preoperative_pulmonary_hypertension",
          "PAPS",
          "Insuffisance_renale",
          "plasmapherese",
          "preoperative_ECMO",
          "thoracic_surgery_history"
         ],
         "type": "scatter",
         "uid": "da591b58-e5c1-11e8-b722-87e74ea61965",
         "x": [
          "Unnamed: 0",
          "pathologie",
          "age",
          "sexe",
          "Poids",
          "Taille",
          "other_organ_transplantation",
          "super_urgence",
          "retransplant",
          "transplanted_twice_during_study_period",
          "time_on_waiting_liste",
          "preoperative_ICU",
          "preoperative_vasopressor",
          "preoperative_mechanical_ventilation",
          "body_mass_index",
          "diabetes",
          "preoperative_pulmonary_hypertension",
          "PAPS",
          "Insuffisance_renale",
          "plasmapherese",
          "preoperative_ECMO",
          "thoracic_surgery_history"
         ],
         "y": [
          0.1033843544622101,
          0.07319506912797467,
          0.12571682212152976,
          0.01635578237304972,
          0.09300563906651839,
          0.08502728500070168,
          0.0035264810644576802,
          0.005988458048018256,
          0.0029030344710930705,
          0.00021258457914037046,
          0.14761179796148927,
          0.00707096930370691,
          0.0012227374451766213,
          0.001321713389308852,
          0.11537169755968951,
          0.013953516527774528,
          0.04331234832645709,
          0.11728915818942393,
          0.0009623028012367458,
          0.019908024864438444,
          0.001959077464317123,
          0.02070114585228724
         ]
        }
       ],
       "layout": {
        "autosize": true,
        "hovermode": "closest",
        "showlegend": false,
        "title": "Random Forest Importance des features",
        "yaxis": {
         "gridwidth": 2,
         "ticklen": 5,
         "title": "Importance des features"
        }
       }
      },
      "text/html": [
       "<div id=\"0f150545-8e43-428e-badc-649316f447df\" style=\"height: 525px; width: 100%;\" class=\"plotly-graph-div\"></div><script type=\"text/javascript\">require([\"plotly\"], function(Plotly) { window.PLOTLYENV=window.PLOTLYENV || {};window.PLOTLYENV.BASE_URL=\"https://plot.ly\";Plotly.newPlot(\"0f150545-8e43-428e-badc-649316f447df\", [{\"marker\": {\"color\": [0.1033843544622101, 0.07319506912797467, 0.12571682212152976, 0.01635578237304972, 0.09300563906651839, 0.08502728500070168, 0.0035264810644576802, 0.005988458048018256, 0.0029030344710930705, 0.00021258457914037046, 0.14761179796148927, 0.00707096930370691, 0.0012227374451766213, 0.001321713389308852, 0.11537169755968951, 0.013953516527774528, 0.04331234832645709, 0.11728915818942393, 0.0009623028012367458, 0.019908024864438444, 0.001959077464317123, 0.02070114585228724], \"colorscale\": \"Portland\", \"showscale\": true, \"size\": 25, \"sizemode\": \"diameter\", \"sizeref\": 1}, \"mode\": \"markers\", \"text\": [\"Unnamed: 0\", \"pathologie\", \"age\", \"sexe\", \"Poids\", \"Taille\", \"other_organ_transplantation\", \"super_urgence\", \"retransplant\", \"transplanted_twice_during_study_period\", \"time_on_waiting_liste\", \"preoperative_ICU\", \"preoperative_vasopressor\", \"preoperative_mechanical_ventilation\", \"body_mass_index\", \"diabetes\", \"preoperative_pulmonary_hypertension\", \"PAPS\", \"Insuffisance_renale\", \"plasmapherese\", \"preoperative_ECMO\", \"thoracic_surgery_history\"], \"x\": [\"Unnamed: 0\", \"pathologie\", \"age\", \"sexe\", \"Poids\", \"Taille\", \"other_organ_transplantation\", \"super_urgence\", \"retransplant\", \"transplanted_twice_during_study_period\", \"time_on_waiting_liste\", \"preoperative_ICU\", \"preoperative_vasopressor\", \"preoperative_mechanical_ventilation\", \"body_mass_index\", \"diabetes\", \"preoperative_pulmonary_hypertension\", \"PAPS\", \"Insuffisance_renale\", \"plasmapherese\", \"preoperative_ECMO\", \"thoracic_surgery_history\"], \"y\": [0.1033843544622101, 0.07319506912797467, 0.12571682212152976, 0.01635578237304972, 0.09300563906651839, 0.08502728500070168, 0.0035264810644576802, 0.005988458048018256, 0.0029030344710930705, 0.00021258457914037046, 0.14761179796148927, 0.00707096930370691, 0.0012227374451766213, 0.001321713389308852, 0.11537169755968951, 0.013953516527774528, 0.04331234832645709, 0.11728915818942393, 0.0009623028012367458, 0.019908024864438444, 0.001959077464317123, 0.02070114585228724], \"type\": \"scatter\", \"uid\": \"da591b58-e5c1-11e8-b722-87e74ea61965\"}], {\"autosize\": true, \"hovermode\": \"closest\", \"showlegend\": false, \"title\": \"Random Forest Importance des features\", \"yaxis\": {\"gridwidth\": 2, \"ticklen\": 5, \"title\": \"Importance des features\"}}, {\"showLink\": true, \"linkText\": \"Export to plot.ly\"})});</script>"
      ],
      "text/vnd.plotly.v1+html": [
       "<div id=\"0f150545-8e43-428e-badc-649316f447df\" style=\"height: 525px; width: 100%;\" class=\"plotly-graph-div\"></div><script type=\"text/javascript\">require([\"plotly\"], function(Plotly) { window.PLOTLYENV=window.PLOTLYENV || {};window.PLOTLYENV.BASE_URL=\"https://plot.ly\";Plotly.newPlot(\"0f150545-8e43-428e-badc-649316f447df\", [{\"marker\": {\"color\": [0.1033843544622101, 0.07319506912797467, 0.12571682212152976, 0.01635578237304972, 0.09300563906651839, 0.08502728500070168, 0.0035264810644576802, 0.005988458048018256, 0.0029030344710930705, 0.00021258457914037046, 0.14761179796148927, 0.00707096930370691, 0.0012227374451766213, 0.001321713389308852, 0.11537169755968951, 0.013953516527774528, 0.04331234832645709, 0.11728915818942393, 0.0009623028012367458, 0.019908024864438444, 0.001959077464317123, 0.02070114585228724], \"colorscale\": \"Portland\", \"showscale\": true, \"size\": 25, \"sizemode\": \"diameter\", \"sizeref\": 1}, \"mode\": \"markers\", \"text\": [\"Unnamed: 0\", \"pathologie\", \"age\", \"sexe\", \"Poids\", \"Taille\", \"other_organ_transplantation\", \"super_urgence\", \"retransplant\", \"transplanted_twice_during_study_period\", \"time_on_waiting_liste\", \"preoperative_ICU\", \"preoperative_vasopressor\", \"preoperative_mechanical_ventilation\", \"body_mass_index\", \"diabetes\", \"preoperative_pulmonary_hypertension\", \"PAPS\", \"Insuffisance_renale\", \"plasmapherese\", \"preoperative_ECMO\", \"thoracic_surgery_history\"], \"x\": [\"Unnamed: 0\", \"pathologie\", \"age\", \"sexe\", \"Poids\", \"Taille\", \"other_organ_transplantation\", \"super_urgence\", \"retransplant\", \"transplanted_twice_during_study_period\", \"time_on_waiting_liste\", \"preoperative_ICU\", \"preoperative_vasopressor\", \"preoperative_mechanical_ventilation\", \"body_mass_index\", \"diabetes\", \"preoperative_pulmonary_hypertension\", \"PAPS\", \"Insuffisance_renale\", \"plasmapherese\", \"preoperative_ECMO\", \"thoracic_surgery_history\"], \"y\": [0.1033843544622101, 0.07319506912797467, 0.12571682212152976, 0.01635578237304972, 0.09300563906651839, 0.08502728500070168, 0.0035264810644576802, 0.005988458048018256, 0.0029030344710930705, 0.00021258457914037046, 0.14761179796148927, 0.00707096930370691, 0.0012227374451766213, 0.001321713389308852, 0.11537169755968951, 0.013953516527774528, 0.04331234832645709, 0.11728915818942393, 0.0009623028012367458, 0.019908024864438444, 0.001959077464317123, 0.02070114585228724], \"type\": \"scatter\", \"uid\": \"da591b58-e5c1-11e8-b722-87e74ea61965\"}], {\"autosize\": true, \"hovermode\": \"closest\", \"showlegend\": false, \"title\": \"Random Forest Importance des features\", \"yaxis\": {\"gridwidth\": 2, \"ticklen\": 5, \"title\": \"Importance des features\"}}, {\"showLink\": true, \"linkText\": \"Export to plot.ly\"})});</script>"
      ]
     },
     "metadata": {},
     "output_type": "display_data"
    }
   ],
   "source": [
    "trace = go.Scatter(x = feature_dataframe['features'].values,\n",
    "    y = feature_dataframe['Random Forest Importance des features'].values,\n",
    "    \n",
    "    mode='markers',\n",
    "    marker=dict(\n",
    "        sizemode = 'diameter',\n",
    "        sizeref = 1,\n",
    "        size = 25,\n",
    "        #color = np.random.randn(500), #set color equal to a variable\n",
    "        color = feature_dataframe['Random Forest Importance des features'].values,\n",
    "        colorscale='Portland',\n",
    "        showscale=True\n",
    "    ),\n",
    "    text = feature_dataframe['features'].values\n",
    ")\n",
    "\n",
    "data = [trace]\n",
    "\n",
    "layout= go.Layout(\n",
    "    autosize= True,\n",
    "    title= 'Random Forest Importance des features',\n",
    "    hovermode= 'closest',\n",
    "    yaxis=dict(\n",
    "        title= 'Importance des features',\n",
    "        ticklen= 5,\n",
    "        gridwidth= 2\n",
    "    ),\n",
    "    showlegend= False\n",
    ")\n",
    "\n",
    "fig = go.Figure(data=data, layout=layout)\n",
    "\n",
    "py.iplot(fig,filename='scatter2010')\n",
    "\n"
   ]
  },
  {
   "cell_type": "markdown",
   "metadata": {},
   "source": [
    "## Extra Trees"
   ]
  },
  {
   "cell_type": "code",
   "execution_count": 49,
   "metadata": {},
   "outputs": [
    {
     "data": {
      "application/vnd.plotly.v1+json": {
       "data": [
        {
         "marker": {
          "color": [
           0.049431985946388264,
           0.12373639852472536,
           0.08057755370919908,
           0.030122061097990895,
           0.06232884175806958,
           0.05870165117323805,
           0.011497723521070698,
           0.01761065914738908,
           0.007991676367625879,
           0.001666856039215762,
           0.0740164460732879,
           0.02995817624981643,
           0.002221807125410812,
           0.003466794941060409,
           0.0599314267057696,
           0.08339333658085833,
           0.11385475346797287,
           0.04973182842601959,
           0.007518494327144201,
           0.09054773797996452,
           0.006190882532476896,
           0.035502908305305676
          ],
          "colorscale": "Portland",
          "showscale": true,
          "size": 25,
          "sizemode": "diameter",
          "sizeref": 1
         },
         "mode": "markers",
         "text": [
          "Unnamed: 0",
          "pathologie",
          "age",
          "sexe",
          "Poids",
          "Taille",
          "other_organ_transplantation",
          "super_urgence",
          "retransplant",
          "transplanted_twice_during_study_period",
          "time_on_waiting_liste",
          "preoperative_ICU",
          "preoperative_vasopressor",
          "preoperative_mechanical_ventilation",
          "body_mass_index",
          "diabetes",
          "preoperative_pulmonary_hypertension",
          "PAPS",
          "Insuffisance_renale",
          "plasmapherese",
          "preoperative_ECMO",
          "thoracic_surgery_history"
         ],
         "type": "scatter",
         "uid": "da6a08a8-e5c1-11e8-be51-87e74ea61965",
         "x": [
          "Unnamed: 0",
          "pathologie",
          "age",
          "sexe",
          "Poids",
          "Taille",
          "other_organ_transplantation",
          "super_urgence",
          "retransplant",
          "transplanted_twice_during_study_period",
          "time_on_waiting_liste",
          "preoperative_ICU",
          "preoperative_vasopressor",
          "preoperative_mechanical_ventilation",
          "body_mass_index",
          "diabetes",
          "preoperative_pulmonary_hypertension",
          "PAPS",
          "Insuffisance_renale",
          "plasmapherese",
          "preoperative_ECMO",
          "thoracic_surgery_history"
         ],
         "y": [
          0.049431985946388264,
          0.12373639852472536,
          0.08057755370919908,
          0.030122061097990895,
          0.06232884175806958,
          0.05870165117323805,
          0.011497723521070698,
          0.01761065914738908,
          0.007991676367625879,
          0.001666856039215762,
          0.0740164460732879,
          0.02995817624981643,
          0.002221807125410812,
          0.003466794941060409,
          0.0599314267057696,
          0.08339333658085833,
          0.11385475346797287,
          0.04973182842601959,
          0.007518494327144201,
          0.09054773797996452,
          0.006190882532476896,
          0.035502908305305676
         ]
        }
       ],
       "layout": {
        "autosize": true,
        "hovermode": "closest",
        "showlegend": false,
        "title": "Extra Trees Importance des features",
        "yaxis": {
         "gridwidth": 2,
         "ticklen": 5,
         "title": "Importance des features"
        }
       }
      },
      "text/html": [
       "<div id=\"fd8232a3-c8f6-4bf4-87c6-9cd6c4a8adf6\" style=\"height: 525px; width: 100%;\" class=\"plotly-graph-div\"></div><script type=\"text/javascript\">require([\"plotly\"], function(Plotly) { window.PLOTLYENV=window.PLOTLYENV || {};window.PLOTLYENV.BASE_URL=\"https://plot.ly\";Plotly.newPlot(\"fd8232a3-c8f6-4bf4-87c6-9cd6c4a8adf6\", [{\"marker\": {\"color\": [0.049431985946388264, 0.12373639852472536, 0.08057755370919908, 0.030122061097990895, 0.06232884175806958, 0.05870165117323805, 0.011497723521070698, 0.01761065914738908, 0.007991676367625879, 0.001666856039215762, 0.0740164460732879, 0.02995817624981643, 0.002221807125410812, 0.003466794941060409, 0.0599314267057696, 0.08339333658085833, 0.11385475346797287, 0.04973182842601959, 0.007518494327144201, 0.09054773797996452, 0.006190882532476896, 0.035502908305305676], \"colorscale\": \"Portland\", \"showscale\": true, \"size\": 25, \"sizemode\": \"diameter\", \"sizeref\": 1}, \"mode\": \"markers\", \"text\": [\"Unnamed: 0\", \"pathologie\", \"age\", \"sexe\", \"Poids\", \"Taille\", \"other_organ_transplantation\", \"super_urgence\", \"retransplant\", \"transplanted_twice_during_study_period\", \"time_on_waiting_liste\", \"preoperative_ICU\", \"preoperative_vasopressor\", \"preoperative_mechanical_ventilation\", \"body_mass_index\", \"diabetes\", \"preoperative_pulmonary_hypertension\", \"PAPS\", \"Insuffisance_renale\", \"plasmapherese\", \"preoperative_ECMO\", \"thoracic_surgery_history\"], \"x\": [\"Unnamed: 0\", \"pathologie\", \"age\", \"sexe\", \"Poids\", \"Taille\", \"other_organ_transplantation\", \"super_urgence\", \"retransplant\", \"transplanted_twice_during_study_period\", \"time_on_waiting_liste\", \"preoperative_ICU\", \"preoperative_vasopressor\", \"preoperative_mechanical_ventilation\", \"body_mass_index\", \"diabetes\", \"preoperative_pulmonary_hypertension\", \"PAPS\", \"Insuffisance_renale\", \"plasmapherese\", \"preoperative_ECMO\", \"thoracic_surgery_history\"], \"y\": [0.049431985946388264, 0.12373639852472536, 0.08057755370919908, 0.030122061097990895, 0.06232884175806958, 0.05870165117323805, 0.011497723521070698, 0.01761065914738908, 0.007991676367625879, 0.001666856039215762, 0.0740164460732879, 0.02995817624981643, 0.002221807125410812, 0.003466794941060409, 0.0599314267057696, 0.08339333658085833, 0.11385475346797287, 0.04973182842601959, 0.007518494327144201, 0.09054773797996452, 0.006190882532476896, 0.035502908305305676], \"type\": \"scatter\", \"uid\": \"da6a08a8-e5c1-11e8-be51-87e74ea61965\"}], {\"autosize\": true, \"hovermode\": \"closest\", \"showlegend\": false, \"title\": \"Extra Trees Importance des features\", \"yaxis\": {\"gridwidth\": 2, \"ticklen\": 5, \"title\": \"Importance des features\"}}, {\"showLink\": true, \"linkText\": \"Export to plot.ly\"})});</script>"
      ],
      "text/vnd.plotly.v1+html": [
       "<div id=\"fd8232a3-c8f6-4bf4-87c6-9cd6c4a8adf6\" style=\"height: 525px; width: 100%;\" class=\"plotly-graph-div\"></div><script type=\"text/javascript\">require([\"plotly\"], function(Plotly) { window.PLOTLYENV=window.PLOTLYENV || {};window.PLOTLYENV.BASE_URL=\"https://plot.ly\";Plotly.newPlot(\"fd8232a3-c8f6-4bf4-87c6-9cd6c4a8adf6\", [{\"marker\": {\"color\": [0.049431985946388264, 0.12373639852472536, 0.08057755370919908, 0.030122061097990895, 0.06232884175806958, 0.05870165117323805, 0.011497723521070698, 0.01761065914738908, 0.007991676367625879, 0.001666856039215762, 0.0740164460732879, 0.02995817624981643, 0.002221807125410812, 0.003466794941060409, 0.0599314267057696, 0.08339333658085833, 0.11385475346797287, 0.04973182842601959, 0.007518494327144201, 0.09054773797996452, 0.006190882532476896, 0.035502908305305676], \"colorscale\": \"Portland\", \"showscale\": true, \"size\": 25, \"sizemode\": \"diameter\", \"sizeref\": 1}, \"mode\": \"markers\", \"text\": [\"Unnamed: 0\", \"pathologie\", \"age\", \"sexe\", \"Poids\", \"Taille\", \"other_organ_transplantation\", \"super_urgence\", \"retransplant\", \"transplanted_twice_during_study_period\", \"time_on_waiting_liste\", \"preoperative_ICU\", \"preoperative_vasopressor\", \"preoperative_mechanical_ventilation\", \"body_mass_index\", \"diabetes\", \"preoperative_pulmonary_hypertension\", \"PAPS\", \"Insuffisance_renale\", \"plasmapherese\", \"preoperative_ECMO\", \"thoracic_surgery_history\"], \"x\": [\"Unnamed: 0\", \"pathologie\", \"age\", \"sexe\", \"Poids\", \"Taille\", \"other_organ_transplantation\", \"super_urgence\", \"retransplant\", \"transplanted_twice_during_study_period\", \"time_on_waiting_liste\", \"preoperative_ICU\", \"preoperative_vasopressor\", \"preoperative_mechanical_ventilation\", \"body_mass_index\", \"diabetes\", \"preoperative_pulmonary_hypertension\", \"PAPS\", \"Insuffisance_renale\", \"plasmapherese\", \"preoperative_ECMO\", \"thoracic_surgery_history\"], \"y\": [0.049431985946388264, 0.12373639852472536, 0.08057755370919908, 0.030122061097990895, 0.06232884175806958, 0.05870165117323805, 0.011497723521070698, 0.01761065914738908, 0.007991676367625879, 0.001666856039215762, 0.0740164460732879, 0.02995817624981643, 0.002221807125410812, 0.003466794941060409, 0.0599314267057696, 0.08339333658085833, 0.11385475346797287, 0.04973182842601959, 0.007518494327144201, 0.09054773797996452, 0.006190882532476896, 0.035502908305305676], \"type\": \"scatter\", \"uid\": \"da6a08a8-e5c1-11e8-be51-87e74ea61965\"}], {\"autosize\": true, \"hovermode\": \"closest\", \"showlegend\": false, \"title\": \"Extra Trees Importance des features\", \"yaxis\": {\"gridwidth\": 2, \"ticklen\": 5, \"title\": \"Importance des features\"}}, {\"showLink\": true, \"linkText\": \"Export to plot.ly\"})});</script>"
      ]
     },
     "metadata": {},
     "output_type": "display_data"
    }
   ],
   "source": [
    "trace = go.Scatter(\n",
    "    y = feature_dataframe['Extra Trees Importance des features'].values,\n",
    "    x = feature_dataframe['features'].values,\n",
    "    mode='markers',\n",
    "    marker=dict(\n",
    "        sizemode = 'diameter',\n",
    "        sizeref = 1,\n",
    "        size = 25,\n",
    "        color = feature_dataframe['Extra Trees Importance des features'].values,\n",
    "        colorscale='Portland',\n",
    "        showscale=True\n",
    "    ),\n",
    "    text = feature_dataframe['features'].values\n",
    ")\n",
    "data = [trace]\n",
    "\n",
    "layout= go.Layout(\n",
    "    autosize= True,\n",
    "    title= 'Extra Trees Importance des features',\n",
    "    hovermode= 'closest',\n",
    "\n",
    "    yaxis=dict(\n",
    "        title= 'Importance des features',\n",
    "        ticklen= 5,\n",
    "        gridwidth= 2\n",
    "    ),\n",
    "    showlegend= False\n",
    ")\n",
    "fig = go.Figure(data=data, layout=layout)\n",
    "py.iplot(fig,filename='scatter2010')\n"
   ]
  },
  {
   "cell_type": "markdown",
   "metadata": {},
   "source": [
    "## AdaBoost"
   ]
  },
  {
   "cell_type": "code",
   "execution_count": 50,
   "metadata": {},
   "outputs": [
    {
     "data": {
      "application/vnd.plotly.v1+json": {
       "data": [
        {
         "marker": {
          "color": [
           0.252,
           0.028,
           0.068,
           0,
           0.086,
           0.132,
           0.002,
           0,
           0.004,
           0.002,
           0.144,
           0.01,
           0.006,
           0.01,
           0.124,
           0.022,
           0.002,
           0.096,
           0,
           0,
           0,
           0.012
          ],
          "colorscale": "Portland",
          "showscale": true,
          "size": 25,
          "sizemode": "diameter",
          "sizeref": 1
         },
         "mode": "markers",
         "text": [
          "Unnamed: 0",
          "pathologie",
          "age",
          "sexe",
          "Poids",
          "Taille",
          "other_organ_transplantation",
          "super_urgence",
          "retransplant",
          "transplanted_twice_during_study_period",
          "time_on_waiting_liste",
          "preoperative_ICU",
          "preoperative_vasopressor",
          "preoperative_mechanical_ventilation",
          "body_mass_index",
          "diabetes",
          "preoperative_pulmonary_hypertension",
          "PAPS",
          "Insuffisance_renale",
          "plasmapherese",
          "preoperative_ECMO",
          "thoracic_surgery_history"
         ],
         "type": "scatter",
         "uid": "da7a811e-e5c1-11e8-908b-87e74ea61965",
         "x": [
          "Unnamed: 0",
          "pathologie",
          "age",
          "sexe",
          "Poids",
          "Taille",
          "other_organ_transplantation",
          "super_urgence",
          "retransplant",
          "transplanted_twice_during_study_period",
          "time_on_waiting_liste",
          "preoperative_ICU",
          "preoperative_vasopressor",
          "preoperative_mechanical_ventilation",
          "body_mass_index",
          "diabetes",
          "preoperative_pulmonary_hypertension",
          "PAPS",
          "Insuffisance_renale",
          "plasmapherese",
          "preoperative_ECMO",
          "thoracic_surgery_history"
         ],
         "y": [
          0.252,
          0.028,
          0.068,
          0,
          0.086,
          0.132,
          0.002,
          0,
          0.004,
          0.002,
          0.144,
          0.01,
          0.006,
          0.01,
          0.124,
          0.022,
          0.002,
          0.096,
          0,
          0,
          0,
          0.012
         ]
        }
       ],
       "layout": {
        "autosize": true,
        "hovermode": "closest",
        "showlegend": false,
        "title": "AdaBoost Importance des features",
        "yaxis": {
         "gridwidth": 2,
         "ticklen": 5,
         "title": "Importance des features"
        }
       }
      },
      "text/html": [
       "<div id=\"135b1b0e-1d51-4511-a966-f09107013e41\" style=\"height: 525px; width: 100%;\" class=\"plotly-graph-div\"></div><script type=\"text/javascript\">require([\"plotly\"], function(Plotly) { window.PLOTLYENV=window.PLOTLYENV || {};window.PLOTLYENV.BASE_URL=\"https://plot.ly\";Plotly.newPlot(\"135b1b0e-1d51-4511-a966-f09107013e41\", [{\"marker\": {\"color\": [0.252, 0.028, 0.068, 0.0, 0.086, 0.132, 0.002, 0.0, 0.004, 0.002, 0.144, 0.01, 0.006, 0.01, 0.124, 0.022, 0.002, 0.096, 0.0, 0.0, 0.0, 0.012], \"colorscale\": \"Portland\", \"showscale\": true, \"size\": 25, \"sizemode\": \"diameter\", \"sizeref\": 1}, \"mode\": \"markers\", \"text\": [\"Unnamed: 0\", \"pathologie\", \"age\", \"sexe\", \"Poids\", \"Taille\", \"other_organ_transplantation\", \"super_urgence\", \"retransplant\", \"transplanted_twice_during_study_period\", \"time_on_waiting_liste\", \"preoperative_ICU\", \"preoperative_vasopressor\", \"preoperative_mechanical_ventilation\", \"body_mass_index\", \"diabetes\", \"preoperative_pulmonary_hypertension\", \"PAPS\", \"Insuffisance_renale\", \"plasmapherese\", \"preoperative_ECMO\", \"thoracic_surgery_history\"], \"x\": [\"Unnamed: 0\", \"pathologie\", \"age\", \"sexe\", \"Poids\", \"Taille\", \"other_organ_transplantation\", \"super_urgence\", \"retransplant\", \"transplanted_twice_during_study_period\", \"time_on_waiting_liste\", \"preoperative_ICU\", \"preoperative_vasopressor\", \"preoperative_mechanical_ventilation\", \"body_mass_index\", \"diabetes\", \"preoperative_pulmonary_hypertension\", \"PAPS\", \"Insuffisance_renale\", \"plasmapherese\", \"preoperative_ECMO\", \"thoracic_surgery_history\"], \"y\": [0.252, 0.028, 0.068, 0.0, 0.086, 0.132, 0.002, 0.0, 0.004, 0.002, 0.144, 0.01, 0.006, 0.01, 0.124, 0.022, 0.002, 0.096, 0.0, 0.0, 0.0, 0.012], \"type\": \"scatter\", \"uid\": \"da7a811e-e5c1-11e8-908b-87e74ea61965\"}], {\"autosize\": true, \"hovermode\": \"closest\", \"showlegend\": false, \"title\": \"AdaBoost Importance des features\", \"yaxis\": {\"gridwidth\": 2, \"ticklen\": 5, \"title\": \"Importance des features\"}}, {\"showLink\": true, \"linkText\": \"Export to plot.ly\"})});</script>"
      ],
      "text/vnd.plotly.v1+html": [
       "<div id=\"135b1b0e-1d51-4511-a966-f09107013e41\" style=\"height: 525px; width: 100%;\" class=\"plotly-graph-div\"></div><script type=\"text/javascript\">require([\"plotly\"], function(Plotly) { window.PLOTLYENV=window.PLOTLYENV || {};window.PLOTLYENV.BASE_URL=\"https://plot.ly\";Plotly.newPlot(\"135b1b0e-1d51-4511-a966-f09107013e41\", [{\"marker\": {\"color\": [0.252, 0.028, 0.068, 0.0, 0.086, 0.132, 0.002, 0.0, 0.004, 0.002, 0.144, 0.01, 0.006, 0.01, 0.124, 0.022, 0.002, 0.096, 0.0, 0.0, 0.0, 0.012], \"colorscale\": \"Portland\", \"showscale\": true, \"size\": 25, \"sizemode\": \"diameter\", \"sizeref\": 1}, \"mode\": \"markers\", \"text\": [\"Unnamed: 0\", \"pathologie\", \"age\", \"sexe\", \"Poids\", \"Taille\", \"other_organ_transplantation\", \"super_urgence\", \"retransplant\", \"transplanted_twice_during_study_period\", \"time_on_waiting_liste\", \"preoperative_ICU\", \"preoperative_vasopressor\", \"preoperative_mechanical_ventilation\", \"body_mass_index\", \"diabetes\", \"preoperative_pulmonary_hypertension\", \"PAPS\", \"Insuffisance_renale\", \"plasmapherese\", \"preoperative_ECMO\", \"thoracic_surgery_history\"], \"x\": [\"Unnamed: 0\", \"pathologie\", \"age\", \"sexe\", \"Poids\", \"Taille\", \"other_organ_transplantation\", \"super_urgence\", \"retransplant\", \"transplanted_twice_during_study_period\", \"time_on_waiting_liste\", \"preoperative_ICU\", \"preoperative_vasopressor\", \"preoperative_mechanical_ventilation\", \"body_mass_index\", \"diabetes\", \"preoperative_pulmonary_hypertension\", \"PAPS\", \"Insuffisance_renale\", \"plasmapherese\", \"preoperative_ECMO\", \"thoracic_surgery_history\"], \"y\": [0.252, 0.028, 0.068, 0.0, 0.086, 0.132, 0.002, 0.0, 0.004, 0.002, 0.144, 0.01, 0.006, 0.01, 0.124, 0.022, 0.002, 0.096, 0.0, 0.0, 0.0, 0.012], \"type\": \"scatter\", \"uid\": \"da7a811e-e5c1-11e8-908b-87e74ea61965\"}], {\"autosize\": true, \"hovermode\": \"closest\", \"showlegend\": false, \"title\": \"AdaBoost Importance des features\", \"yaxis\": {\"gridwidth\": 2, \"ticklen\": 5, \"title\": \"Importance des features\"}}, {\"showLink\": true, \"linkText\": \"Export to plot.ly\"})});</script>"
      ]
     },
     "metadata": {},
     "output_type": "display_data"
    }
   ],
   "source": [
    "trace = go.Scatter(\n",
    "    y = feature_dataframe['AdaBoost Importance des features'].values,\n",
    "    x = feature_dataframe['features'].values,\n",
    "    mode='markers',\n",
    "    marker=dict(\n",
    "        sizemode = 'diameter',\n",
    "        sizeref = 1,\n",
    "        size = 25,\n",
    "        color = feature_dataframe['AdaBoost Importance des features'].values,\n",
    "        colorscale='Portland',\n",
    "        showscale=True\n",
    "    ),\n",
    "    text = feature_dataframe['features'].values\n",
    ")\n",
    "data = [trace]\n",
    "\n",
    "layout= go.Layout(\n",
    "    autosize= True,\n",
    "    title= 'AdaBoost Importance des features',\n",
    "    hovermode= 'closest',\n",
    "    yaxis=dict(\n",
    "        title= 'Importance des features',\n",
    "        ticklen= 5,\n",
    "        gridwidth= 2\n",
    "    ),\n",
    "    showlegend= False\n",
    ")\n",
    "fig = go.Figure(data=data, layout=layout)\n",
    "py.iplot(fig,filename='scatter2010')\n"
   ]
  },
  {
   "cell_type": "markdown",
   "metadata": {},
   "source": [
    "## Gradient Boost"
   ]
  },
  {
   "cell_type": "code",
   "execution_count": 51,
   "metadata": {},
   "outputs": [
    {
     "data": {
      "application/vnd.plotly.v1+json": {
       "data": [
        {
         "marker": {
          "color": [
           0.06629378604149297,
           0.02261315194320615,
           0.0522106580422737,
           0.006924740640388881,
           0.031057426312959876,
           0.03797854648657934,
           0.000760072823823655,
           0.0005648911257368494,
           0,
           0,
           0.08268191028690282,
           0.003765814221736071,
           0.0014369839174542018,
           0,
           0.0856795022697348,
           0.009161895623983988,
           0.004010409127997888,
           0.04382450065545923,
           0,
           0.005260514352916752,
           0.00012925639800138742,
           0.005645939729351524
          ],
          "colorscale": "Portland",
          "showscale": true,
          "size": 25,
          "sizemode": "diameter",
          "sizeref": 1
         },
         "mode": "markers",
         "text": [
          "Unnamed: 0",
          "pathologie",
          "age",
          "sexe",
          "Poids",
          "Taille",
          "other_organ_transplantation",
          "super_urgence",
          "retransplant",
          "transplanted_twice_during_study_period",
          "time_on_waiting_liste",
          "preoperative_ICU",
          "preoperative_vasopressor",
          "preoperative_mechanical_ventilation",
          "body_mass_index",
          "diabetes",
          "preoperative_pulmonary_hypertension",
          "PAPS",
          "Insuffisance_renale",
          "plasmapherese",
          "preoperative_ECMO",
          "thoracic_surgery_history"
         ],
         "type": "scatter",
         "uid": "da8ca6e4-e5c1-11e8-b563-87e74ea61965",
         "x": [
          "Unnamed: 0",
          "pathologie",
          "age",
          "sexe",
          "Poids",
          "Taille",
          "other_organ_transplantation",
          "super_urgence",
          "retransplant",
          "transplanted_twice_during_study_period",
          "time_on_waiting_liste",
          "preoperative_ICU",
          "preoperative_vasopressor",
          "preoperative_mechanical_ventilation",
          "body_mass_index",
          "diabetes",
          "preoperative_pulmonary_hypertension",
          "PAPS",
          "Insuffisance_renale",
          "plasmapherese",
          "preoperative_ECMO",
          "thoracic_surgery_history"
         ],
         "y": [
          0.06629378604149297,
          0.02261315194320615,
          0.0522106580422737,
          0.006924740640388881,
          0.031057426312959876,
          0.03797854648657934,
          0.000760072823823655,
          0.0005648911257368494,
          0,
          0,
          0.08268191028690282,
          0.003765814221736071,
          0.0014369839174542018,
          0,
          0.0856795022697348,
          0.009161895623983988,
          0.004010409127997888,
          0.04382450065545923,
          0,
          0.005260514352916752,
          0.00012925639800138742,
          0.005645939729351524
         ]
        }
       ],
       "layout": {
        "autosize": true,
        "hovermode": "closest",
        "showlegend": false,
        "title": "Gradient Boosting Importance des features",
        "yaxis": {
         "gridwidth": 2,
         "ticklen": 5,
         "title": "Importance des features"
        }
       }
      },
      "text/html": [
       "<div id=\"89ff0d3b-6154-4508-9965-27dac2af4516\" style=\"height: 525px; width: 100%;\" class=\"plotly-graph-div\"></div><script type=\"text/javascript\">require([\"plotly\"], function(Plotly) { window.PLOTLYENV=window.PLOTLYENV || {};window.PLOTLYENV.BASE_URL=\"https://plot.ly\";Plotly.newPlot(\"89ff0d3b-6154-4508-9965-27dac2af4516\", [{\"marker\": {\"color\": [0.06629378604149297, 0.02261315194320615, 0.0522106580422737, 0.006924740640388881, 0.031057426312959876, 0.03797854648657934, 0.000760072823823655, 0.0005648911257368494, 0.0, 0.0, 0.08268191028690282, 0.003765814221736071, 0.0014369839174542018, 0.0, 0.0856795022697348, 0.009161895623983988, 0.004010409127997888, 0.04382450065545923, 0.0, 0.005260514352916752, 0.00012925639800138742, 0.005645939729351524], \"colorscale\": \"Portland\", \"showscale\": true, \"size\": 25, \"sizemode\": \"diameter\", \"sizeref\": 1}, \"mode\": \"markers\", \"text\": [\"Unnamed: 0\", \"pathologie\", \"age\", \"sexe\", \"Poids\", \"Taille\", \"other_organ_transplantation\", \"super_urgence\", \"retransplant\", \"transplanted_twice_during_study_period\", \"time_on_waiting_liste\", \"preoperative_ICU\", \"preoperative_vasopressor\", \"preoperative_mechanical_ventilation\", \"body_mass_index\", \"diabetes\", \"preoperative_pulmonary_hypertension\", \"PAPS\", \"Insuffisance_renale\", \"plasmapherese\", \"preoperative_ECMO\", \"thoracic_surgery_history\"], \"x\": [\"Unnamed: 0\", \"pathologie\", \"age\", \"sexe\", \"Poids\", \"Taille\", \"other_organ_transplantation\", \"super_urgence\", \"retransplant\", \"transplanted_twice_during_study_period\", \"time_on_waiting_liste\", \"preoperative_ICU\", \"preoperative_vasopressor\", \"preoperative_mechanical_ventilation\", \"body_mass_index\", \"diabetes\", \"preoperative_pulmonary_hypertension\", \"PAPS\", \"Insuffisance_renale\", \"plasmapherese\", \"preoperative_ECMO\", \"thoracic_surgery_history\"], \"y\": [0.06629378604149297, 0.02261315194320615, 0.0522106580422737, 0.006924740640388881, 0.031057426312959876, 0.03797854648657934, 0.000760072823823655, 0.0005648911257368494, 0.0, 0.0, 0.08268191028690282, 0.003765814221736071, 0.0014369839174542018, 0.0, 0.0856795022697348, 0.009161895623983988, 0.004010409127997888, 0.04382450065545923, 0.0, 0.005260514352916752, 0.00012925639800138742, 0.005645939729351524], \"type\": \"scatter\", \"uid\": \"da8ca6e4-e5c1-11e8-b563-87e74ea61965\"}], {\"autosize\": true, \"hovermode\": \"closest\", \"showlegend\": false, \"title\": \"Gradient Boosting Importance des features\", \"yaxis\": {\"gridwidth\": 2, \"ticklen\": 5, \"title\": \"Importance des features\"}}, {\"showLink\": true, \"linkText\": \"Export to plot.ly\"})});</script>"
      ],
      "text/vnd.plotly.v1+html": [
       "<div id=\"89ff0d3b-6154-4508-9965-27dac2af4516\" style=\"height: 525px; width: 100%;\" class=\"plotly-graph-div\"></div><script type=\"text/javascript\">require([\"plotly\"], function(Plotly) { window.PLOTLYENV=window.PLOTLYENV || {};window.PLOTLYENV.BASE_URL=\"https://plot.ly\";Plotly.newPlot(\"89ff0d3b-6154-4508-9965-27dac2af4516\", [{\"marker\": {\"color\": [0.06629378604149297, 0.02261315194320615, 0.0522106580422737, 0.006924740640388881, 0.031057426312959876, 0.03797854648657934, 0.000760072823823655, 0.0005648911257368494, 0.0, 0.0, 0.08268191028690282, 0.003765814221736071, 0.0014369839174542018, 0.0, 0.0856795022697348, 0.009161895623983988, 0.004010409127997888, 0.04382450065545923, 0.0, 0.005260514352916752, 0.00012925639800138742, 0.005645939729351524], \"colorscale\": \"Portland\", \"showscale\": true, \"size\": 25, \"sizemode\": \"diameter\", \"sizeref\": 1}, \"mode\": \"markers\", \"text\": [\"Unnamed: 0\", \"pathologie\", \"age\", \"sexe\", \"Poids\", \"Taille\", \"other_organ_transplantation\", \"super_urgence\", \"retransplant\", \"transplanted_twice_during_study_period\", \"time_on_waiting_liste\", \"preoperative_ICU\", \"preoperative_vasopressor\", \"preoperative_mechanical_ventilation\", \"body_mass_index\", \"diabetes\", \"preoperative_pulmonary_hypertension\", \"PAPS\", \"Insuffisance_renale\", \"plasmapherese\", \"preoperative_ECMO\", \"thoracic_surgery_history\"], \"x\": [\"Unnamed: 0\", \"pathologie\", \"age\", \"sexe\", \"Poids\", \"Taille\", \"other_organ_transplantation\", \"super_urgence\", \"retransplant\", \"transplanted_twice_during_study_period\", \"time_on_waiting_liste\", \"preoperative_ICU\", \"preoperative_vasopressor\", \"preoperative_mechanical_ventilation\", \"body_mass_index\", \"diabetes\", \"preoperative_pulmonary_hypertension\", \"PAPS\", \"Insuffisance_renale\", \"plasmapherese\", \"preoperative_ECMO\", \"thoracic_surgery_history\"], \"y\": [0.06629378604149297, 0.02261315194320615, 0.0522106580422737, 0.006924740640388881, 0.031057426312959876, 0.03797854648657934, 0.000760072823823655, 0.0005648911257368494, 0.0, 0.0, 0.08268191028690282, 0.003765814221736071, 0.0014369839174542018, 0.0, 0.0856795022697348, 0.009161895623983988, 0.004010409127997888, 0.04382450065545923, 0.0, 0.005260514352916752, 0.00012925639800138742, 0.005645939729351524], \"type\": \"scatter\", \"uid\": \"da8ca6e4-e5c1-11e8-b563-87e74ea61965\"}], {\"autosize\": true, \"hovermode\": \"closest\", \"showlegend\": false, \"title\": \"Gradient Boosting Importance des features\", \"yaxis\": {\"gridwidth\": 2, \"ticklen\": 5, \"title\": \"Importance des features\"}}, {\"showLink\": true, \"linkText\": \"Export to plot.ly\"})});</script>"
      ]
     },
     "metadata": {},
     "output_type": "display_data"
    }
   ],
   "source": [
    "trace = go.Scatter(\n",
    "    y = feature_dataframe['Gradient Boost Importance des features'].values,\n",
    "    x = feature_dataframe['features'].values,\n",
    "    mode='markers',\n",
    "    marker=dict(\n",
    "        sizemode = 'diameter',\n",
    "        sizeref = 1,\n",
    "        size = 25,\n",
    "        color = feature_dataframe['Gradient Boost Importance des features'].values,\n",
    "        colorscale='Portland',\n",
    "        showscale=True\n",
    "    ),\n",
    "    text = feature_dataframe['features'].values\n",
    ")\n",
    "data = [trace]\n",
    "\n",
    "layout= go.Layout(\n",
    "    autosize= True,\n",
    "    title= 'Gradient Boosting Importance des features',\n",
    "    hovermode= 'closest',\n",
    "    yaxis=dict(\n",
    "        title= 'Importance des features',\n",
    "        ticklen= 5,\n",
    "        gridwidth= 2\n",
    "    ),\n",
    "    showlegend= False\n",
    ")\n",
    "fig = go.Figure(data=data, layout=layout)\n",
    "py.iplot(fig,filename='scatter2010')"
   ]
  },
  {
   "cell_type": "code",
   "execution_count": null,
   "metadata": {
    "collapsed": true
   },
   "outputs": [],
   "source": []
  },
  {
   "cell_type": "code",
   "execution_count": null,
   "metadata": {
    "collapsed": true
   },
   "outputs": [],
   "source": []
  },
  {
   "cell_type": "code",
   "execution_count": null,
   "metadata": {
    "collapsed": true
   },
   "outputs": [],
   "source": []
  }
 ],
 "metadata": {
  "kernelspec": {
   "display_name": "Python 3",
   "language": "python",
   "name": "python3"
  },
  "language_info": {
   "codemirror_mode": {
    "name": "ipython",
    "version": 3
   },
   "file_extension": ".py",
   "mimetype": "text/x-python",
   "name": "python",
   "nbconvert_exporter": "python",
   "pygments_lexer": "ipython3",
   "version": "3.6.1"
  }
 },
 "nbformat": 4,
 "nbformat_minor": 2
}
