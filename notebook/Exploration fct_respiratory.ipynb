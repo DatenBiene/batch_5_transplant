{
 "cells": [
  {
   "cell_type": "markdown",
   "metadata": {
    "deletable": true,
    "editable": true
   },
   "source": [
    "## Analyse exploratoire série temporelle - fct_respiratory"
   ]
  },
  {
   "cell_type": "code",
   "execution_count": null,
   "metadata": {
    "collapsed": false,
    "deletable": true,
    "editable": true
   },
   "outputs": [],
   "source": [
    "import pandas as pd\n",
    "import numpy as np\n",
    "from datetime import datetime\n",
    "import seaborn as sns\n",
    "import pandas_profiling\n",
    "import matplotlib.pyplot as plt\n",
    "%matplotlib inline\n",
    "from scipy import stats"
   ]
  },
  {
   "cell_type": "code",
   "execution_count": 6,
   "metadata": {
    "collapsed": true,
    "deletable": true,
    "editable": true
   },
   "outputs": [],
   "source": [
    "columns = ['etco2','eto2','fico2','fin2o','fr','fr_ecg','fio2','mac','peeptotal','pmax','pmean','pplat','rr_co2','spo2','svo2__m','vt']"
   ]
  },
  {
   "cell_type": "code",
   "execution_count": 21,
   "metadata": {
    "collapsed": false,
    "deletable": true,
    "editable": true
   },
   "outputs": [],
   "source": [
    "#read data \n",
    "\n",
    "fct_respiratory = pd.read_csv('fct_respiratory.csv')\n",
    "dim_patient = pd.read_csv('dim_patient.csv')\n",
    "dates = dim_patient[['id_patient','date_transplantation']]\n",
    "\n",
    "#merge two dataframes per id_patient\n",
    "\n",
    "df = pd.merge(fct_respiratory, dates, on='id_patient')\n",
    "df['timestamp'] = df['date_transplantation'] + '-' +df['time']\n",
    "\n",
    "#remove time = 0 \n",
    "\n",
    "df = df[df['time'] != '0']\n",
    "\n",
    "df['timestamp'] = pd.to_datetime(df['timestamp'])"
   ]
  },
  {
   "cell_type": "code",
   "execution_count": 22,
   "metadata": {
    "collapsed": false,
    "deletable": true,
    "editable": true
   },
   "outputs": [],
   "source": [
    "df_melt = pd.melt(df, id_vars=['id_patient','timestamp'], value_vars=columns)"
   ]
  },
  {
   "cell_type": "code",
   "execution_count": 8,
   "metadata": {
    "collapsed": false,
    "deletable": true,
    "editable": true
   },
   "outputs": [],
   "source": [
    "def plot_respiratory(df, id_patient, col):\n",
    "    print 'Displaying respiratory measures for patient # {}'.format(id_patient)\n",
    "    g = sns.FacetGrid(df[df['id_patient'] == id_patient], col=\"variable\", col_wrap=4, sharey=False)\n",
    "    g = g.map(plt.plot, \"timestamp\", col)"
   ]
  },
  {
   "cell_type": "code",
   "execution_count": 9,
   "metadata": {
    "collapsed": true,
    "deletable": true,
    "editable": true
   },
   "outputs": [],
   "source": [
    "def plot_metric_patient(df, metric, id_patient, col):\n",
    "    print 'Displaying respiratory measure {} for patient # {}'.format(metric, id_patient)\n",
    "    df_tmp = df[df['id_patient'] == id_patient]\n",
    "    df_tmp[df_tmp.variable == metric].plot(x='timestamp', y=col)"
   ]
  },
  {
   "cell_type": "markdown",
   "metadata": {
    "deletable": true,
    "editable": true
   },
   "source": [
    "## Supprimer les valeurs anormales"
   ]
  },
  {
   "cell_type": "markdown",
   "metadata": {
    "deletable": true,
    "editable": true
   },
   "source": [
    "Un des challenges dans le traitement des timeseries est la présence de valeurs anormales. Ces valeurs peuvent apparaitre car un instrument de mesure n'est pas correctement configuré etc.. Voici un exemple de valeur anormale: "
   ]
  },
  {
   "cell_type": "code",
   "execution_count": 10,
   "metadata": {
    "collapsed": false,
    "deletable": true,
    "editable": true
   },
   "outputs": [
    {
     "name": "stdout",
     "output_type": "stream",
     "text": [
      "Displaying respiratory measure svo2__m for patient # 381\n"
     ]
    },
    {
     "data": {
      "image/png": "[encoded data removed]",
      "text/plain": [
       "<matplotlib.figure.Figure at 0x111b9f1d0>"
      ]
     },
     "metadata": {},
     "output_type": "display_data"
    }
   ],
   "source": [
    "plot_metric_patient(df_melt, 'svo2__m', 381, 'value')"
   ]
  },
  {
   "cell_type": "markdown",
   "metadata": {
    "deletable": true,
    "editable": true
   },
   "source": [
    "Dans l'exemple ci-dessus une minute du set a une valeur anormale. Nous proposons ici de réaliser un simple check en checkant toute valeur supérieur à un certain quantile (0.99, 0.95 etc..). Si la valeur est en dehors du quantile, nous retournons la mesure précédente: "
   ]
  },
  {
   "cell_type": "code",
   "execution_count": 11,
   "metadata": {
    "collapsed": false,
    "deletable": true,
    "editable": true
   },
   "outputs": [],
   "source": [
    "def above_quantile(x):\n",
    "    result = {'q_high': x['value'].quantile(0.95), \n",
    "              'q_low': x['value'].quantile(0.05)}\n",
    "    return pd.Series(result, name='quantiles')\n",
    "\n",
    "df_melt['shift'] = df_melt.groupby(['id_patient','variable']).value.shift(1)\n",
    "quant_df = df_melt.groupby(['id_patient', 'variable']).apply(above_quantile).reset_index()\n",
    "df_melt_2 = pd.merge(df_melt, quant_df)"
   ]
  },
  {
   "cell_type": "code",
   "execution_count": 12,
   "metadata": {
    "collapsed": false,
    "deletable": true,
    "editable": true
   },
   "outputs": [],
   "source": [
    "def previous_value(value, q_high, q_low, shift):\n",
    "    if (value > q_high) | (value < q_low):\n",
    "        return shift\n",
    "    else: \n",
    "        return value"
   ]
  },
  {
   "cell_type": "code",
   "execution_count": 13,
   "metadata": {
    "collapsed": false,
    "deletable": true,
    "editable": true
   },
   "outputs": [],
   "source": [
    "v = np.vectorize(previous_value)\n",
    "df_melt_2['value_2'] = v(df_melt_2['value'], df_melt_2['q_high'], df_melt_2['q_low'], df_melt_2['shift'])"
   ]
  },
  {
   "cell_type": "markdown",
   "metadata": {
    "deletable": true,
    "editable": true
   },
   "source": [
    "Si nous visualisons cette même mesure, nous avons supprimé la mesure anormale: "
   ]
  },
  {
   "cell_type": "code",
   "execution_count": 14,
   "metadata": {
    "collapsed": false,
    "deletable": true,
    "editable": true
   },
   "outputs": [
    {
     "name": "stdout",
     "output_type": "stream",
     "text": [
      "Displaying respiratory measure svo2__m for patient # 381\n"
     ]
    },
    {
     "data": {
      "image/png": "[encoded data removed]",
      "text/plain": [
       "<matplotlib.figure.Figure at 0x111b9f910>"
      ]
     },
     "metadata": {},
     "output_type": "display_data"
    }
   ],
   "source": [
    "plot_metric_patient(df_melt_2, 'svo2__m', 381, 'value_2')"
   ]
  },
  {
   "cell_type": "markdown",
   "metadata": {
    "deletable": true,
    "editable": true
   },
   "source": [
    "## Lisser les valeurs temporelles en utilisant une rolling window"
   ]
  },
  {
   "cell_type": "markdown",
   "metadata": {
    "deletable": true,
    "editable": true
   },
   "source": [
    "Dans cette partie, nous montrons comment nous pouvons simplement lisser les valeurs pics en recourant à une moyenne lissée sur différentes périodes. "
   ]
  },
  {
   "cell_type": "markdown",
   "metadata": {
    "deletable": true,
    "editable": true
   },
   "source": [
    "La fonction .rolling permet de préciser différentes \"window\". Nous appliquons la moyenne sur la colonne value_2: "
   ]
  },
  {
   "cell_type": "code",
   "execution_count": 15,
   "metadata": {
    "collapsed": false,
    "deletable": true,
    "editable": true
   },
   "outputs": [],
   "source": [
    "r_0 = df_melt_2.groupby(['id_patient', 'variable']).rolling(1, min_periods =1, on='timestamp').value_2.mean()\n",
    "r_5 = df_melt_2.groupby(['id_patient', 'variable']).rolling(5, min_periods =1, on='timestamp').value_2.mean()\n",
    "r_10 = df_melt_2.groupby(['id_patient', 'variable']).rolling(10, min_periods =1, on='timestamp').value_2.mean()\n",
    "r_15 = df_melt_2.groupby(['id_patient', 'variable']).rolling(15, min_periods =1, on='timestamp').value_2.mean()\n",
    "r_20 = df_melt_2.groupby(['id_patient', 'variable']).rolling(20, min_periods =1, on='timestamp').value_2.mean()"
   ]
  },
  {
   "cell_type": "code",
   "execution_count": 16,
   "metadata": {
    "collapsed": false,
    "deletable": true,
    "editable": true
   },
   "outputs": [],
   "source": [
    "df_roll = pd.concat([r_0, r_5, r_10, r_15, r_20], axis=1)\n",
    "df_roll.columns = ['r_0', 'r_5', 'r_10', 'r_15', 'r_20']\n",
    "df_roll = df_roll.reset_index(level=1)"
   ]
  },
  {
   "cell_type": "code",
   "execution_count": 19,
   "metadata": {
    "collapsed": false
   },
   "outputs": [],
   "source": [
    "df_roll['norm_max'] = 3"
   ]
  },
  {
   "cell_type": "markdown",
   "metadata": {
    "deletable": true,
    "editable": true
   },
   "source": [
    "Nous sélectionnons un patient et une variable d'intérêt à visualiser: "
   ]
  },
  {
   "cell_type": "code",
   "execution_count": 24,
   "metadata": {
    "collapsed": true,
    "deletable": true,
    "editable": true
   },
   "outputs": [],
   "source": [
    "df1 = df_roll.loc[361, :][df_roll.loc[361, :].variable == 'etco2']"
   ]
  },
  {
   "cell_type": "code",
   "execution_count": 28,
   "metadata": {
    "collapsed": false,
    "deletable": true,
    "editable": true
   },
   "outputs": [
    {
     "data": {
      "text/plain": [
       "<matplotlib.legend.Legend at 0x111c39590>"
      ]
     },
     "execution_count": 28,
     "metadata": {},
     "output_type": "execute_result"
    },
    {
     "data": {
      "image/png": "[encoded data removed]",
      "text/plain": [
       "<matplotlib.figure.Figure at 0x112318410>"
      ]
     },
     "metadata": {},
     "output_type": "display_data"
    }
   ],
   "source": [
    "plt.figure(figsize=(15, 10))\n",
    "plt.grid(True)\n",
    "plt.plot(df1['r_10'], label='roll_10')\n",
    "plt.legend(loc=2)"
   ]
  },
  {
   "cell_type": "code",
   "execution_count": null,
   "metadata": {
    "collapsed": true
   },
   "outputs": [],
   "source": []
  }
 ],
 "metadata": {
  "kernelspec": {
   "display_name": "Python 2",
   "language": "python",
   "name": "python2"
  },
  "language_info": {
   "codemirror_mode": {
    "name": "ipython",
    "version": 2
   },
   "file_extension": ".py",
   "mimetype": "text/x-python",
   "name": "python",
   "nbconvert_exporter": "python",
   "pygments_lexer": "ipython2",
   "version": "2.7.10"
  }
 },
 "nbformat": 4,
 "nbformat_minor": 2
}
