{
 "cells": [
  {
   "cell_type": "markdown",
   "metadata": {},
   "source": [
    "In this notebook you will find the feature engineering part "
   ]
  },
  {
   "cell_type": "code",
   "execution_count": 2,
   "metadata": {},
   "outputs": [],
   "source": [
    "import pandas as pd\n",
    "import numpy as np\n",
    "import matplotlib.pyplot as plt"
   ]
  },
  {
   "cell_type": "code",
   "execution_count": 3,
   "metadata": {},
   "outputs": [],
   "source": [
    "dim_patient = pd.read_csv('../../../data/dim_patient_donor.csv')"
   ]
  },
  {
   "cell_type": "markdown",
   "metadata": {},
   "source": [
    "split columns regarding type : for final encoding "
   ]
  },
  {
   "cell_type": "code",
   "execution_count": 8,
   "metadata": {},
   "outputs": [],
   "source": [
    "feat = pd.read_csv(\"../features_config/features_dtypes.csv\")\n",
    "var_continuous = feat[feat.type == 'quantitative'].features.tolist()\n",
    "var_category = feat[feat.type == 'categorical'].features.tolist()"
   ]
  },
  {
   "cell_type": "code",
   "execution_count": 9,
   "metadata": {},
   "outputs": [],
   "source": [
    "var_continuous = [ i for i in var_continuous if i in dim_patient.columns]\n",
    "var_category = [ i for i in var_category if i in dim_patient.columns]"
   ]
  },
  {
   "cell_type": "code",
   "execution_count": 10,
   "metadata": {},
   "outputs": [],
   "source": [
    "dim_patient = pd.concat([dim_patient, pd.get_dummies(dim_patient[var_category])] , axis = 1)\n",
    "dim_patient.drop(var_category, axis = 1, inplace = True)\n"
   ]
  },
  {
   "cell_type": "code",
   "execution_count": 13,
   "metadata": {},
   "outputs": [],
   "source": [
    "dim_patient.date_transplantation = pd.to_datetime(dim_patient.date_transplantation)\n",
    "dim_patient['month'] = dim_patient.date_transplantation.dt.month\n",
    "dim_patient['dayofweek'] = dim_patient.date_transplantation.dt.dayofweek\n",
    "\n",
    "dim_patient['diff transplantation sortie'] = pd.to_datetime(dim_patient.date_transplantation) - pd.to_datetime(dim_patient.date_sortie_bloc)\n",
    "dim_patient['diff transplantation sortie']= dim_patient['diff transplantation sortie'].dt.days \n",
    "\n",
    "dim_patient.heure_arrivee_rea = dim_patient.heure_arrivee_rea.map(lambda x : x.split(':')[0])\n",
    "dim_patient.drop([\"date_transplantation\", \"heure_arrivee_rea\", \"date_sortie_bloc\"], axis = 1, inplace = True)\n",
    "\n",
    "\n",
    "dim_patient = dim_patient.replace(\"NF\", np.nan).fillna(0)\n",
    "dim_patient[var_continuous] = dim_patient[var_continuous].astype(float)\n",
    "X = dim_patient.drop(\"target\", axis = 1)\n",
    "y = pd.get_dummies(dim_patient.target)[\"successful IE\"]\n",
    "\n",
    "X.drop([X.columns[21], X.columns[22], X.columns[20]], axis = 1, inplace = True)\n",
    "X.drop(\"id_patient\", axis = 1 , inplace = True)"
   ]
  },
  {
   "cell_type": "code",
   "execution_count": 14,
   "metadata": {},
   "outputs": [],
   "source": [
    "X.to_csv('../../../data/X.csv', index = False)\n",
    "pd.DataFrame(data = {'target' : y}).to_csv('../../../data/y.csv', index = False)"
   ]
  },
  {
   "cell_type": "code",
   "execution_count": null,
   "metadata": {},
   "outputs": [],
   "source": []
  }
 ],
 "metadata": {
  "kernelspec": {
   "display_name": "Python 3",
   "language": "python",
   "name": "python3"
  },
  "language_info": {
   "codemirror_mode": {
    "name": "ipython",
    "version": 3
   },
   "file_extension": ".py",
   "mimetype": "text/x-python",
   "name": "python",
   "nbconvert_exporter": "python",
   "pygments_lexer": "ipython3",
   "version": "3.6.4"
  }
 },
 "nbformat": 4,
 "nbformat_minor": 2
}
