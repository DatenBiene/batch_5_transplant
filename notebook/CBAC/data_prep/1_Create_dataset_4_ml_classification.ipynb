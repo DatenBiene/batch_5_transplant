{
 "cells": [
  {
   "cell_type": "markdown",
   "metadata": {
    "slideshow": {
     "slide_type": "slide"
    }
   },
   "source": [
    "<h1> <center> Create dataset 4 ML classification </center> </h1>"
   ]
  },
  {
   "cell_type": "code",
   "execution_count": 166,
   "metadata": {
    "slideshow": {
     "slide_type": "slide"
    }
   },
   "outputs": [],
   "source": [
    "import pandas as pd\n",
    "import numpy as np \n",
    "import warnings\n",
    "\n",
    "warnings.filterwarnings('ignore')\n",
    "%matplotlib inline "
   ]
  },
  {
   "cell_type": "markdown",
   "metadata": {
    "slideshow": {
     "slide_type": "slide"
    }
   },
   "source": [
    "in this notebook you will find : \n",
    "\n",
    "* **Step 1** : Define Features types > Categorical / Numerical / Text\n",
    "* **Step 2** : Build the target > based on two columns `IMMEDIATE_EXTUBATION` and `SECONDARY_EXTUBATION`\n",
    "* **Step 3** : Select a subset of patient > drop useless patients\n",
    "* **Step 4** : Export the new data ready for feature engineering > folder : `data/data_merged.csv`"
   ]
  },
  {
   "cell_type": "code",
   "execution_count": 167,
   "metadata": {
    "slideshow": {
     "slide_type": "subslide"
    }
   },
   "outputs": [],
   "source": [
    "dim_patient_intraoperatoire = pd.read_csv(\"../../../data/dim_patient_intraoperatoire.csv\")\n",
    "dim_donneur = pd.read_csv(\"../../../data/dim_donneur.csv\")\n",
    "dim_patient_preoperatoire = pd.read_csv(\"../../../data/dim_patient_preoperatoire.csv\")\n",
    "dim_patient_postoperatoire = pd.read_csv(\"../../../data/dim_patient_postoperatoire.csv\")\n",
    "\n",
    "data = pd.merge(dim_patient_preoperatoire, dim_donneur, how = 'left', on = \"numero\")\n",
    "data = pd.merge(data, dim_patient_postoperatoire[[\"numero\", \" immediate_extubation\", \"secondary_intubation\"]], how = 'left', on = 'numero').rename(columns = {' immediate_extubation':  'immediate_extubation'})"
   ]
  },
  {
   "cell_type": "markdown",
   "metadata": {
    "slideshow": {
     "slide_type": "slide"
    }
   },
   "source": [
    "# Define features type "
   ]
  },
  {
   "cell_type": "code",
   "execution_count": 168,
   "metadata": {
    "slideshow": {
     "slide_type": "subslide"
    }
   },
   "outputs": [],
   "source": [
    "id_col = \"numero\"\n",
    "\n",
    "cat_col = [\n",
    "    \"date_transplantation\", \n",
    "    \"heure_arrivee_bloc\",\n",
    "    \"pathologie\", \n",
    "    \"age\", \n",
    "    \"sex\", \n",
    "    \"other_organ_transplantation\", \n",
    "    \"transplanted_twice_during_study_period\", \n",
    "    \"super_urgence\", \n",
    "    \"retransplant\", \n",
    "    \"preoperative_ICU\", \n",
    "    \"preoperative_vasopressor\",\n",
    "    \"preoperative_mechanical_ventilation\",\n",
    "    \"PFO\", \n",
    "    \"diabetes\", \n",
    "    \"preoperative_pulmonary_hypertension\"\n",
    "    \"Insuffisance_renale\", \n",
    "    \"CMV_receveur\", \n",
    "    \"plasmapherese\", \n",
    "    \"preoperative_ECMO\", \n",
    "    \"ATCD_chirugicaux\", \n",
    "    \"thoracic_surgery_history\", \n",
    "    \"CMV_donneur\", \n",
    "    \"EBV_donneur\", \n",
    "    \"Sex_donor\", \n",
    "    \"BMI_donor\"\n",
    "]\n",
    "\n",
    "num_col = [\n",
    "    \"Poids\", \n",
    "    \"Taille\", \n",
    "    \"time_on_waiting_liste\", \n",
    "    \"LAS\", \n",
    "    \"body_mass_index\",\n",
    "    \"PAPS\", \n",
    "    \"Age_donor\", \n",
    "    \"Poids_donor\", \n",
    "    \"Taille_donor\", \n",
    "    \"Donneur_CPT\",\n",
    "    \"Tabagisme_donor\",\n",
    "    \"Aspirations_donor\", \n",
    "    \"RX_donor\", \n",
    "    \"PF_donor\",\n",
    "    \"oto_score\"   \n",
    "]\n",
    "\n",
    "text = [\n",
    "    \"ATCD_medicaux\", \n",
    "    \"ATCD_chirugicaux\"\n",
    "]\n",
    "target = [\n",
    "    'immediate_extubation', \n",
    "    'secondary_intubation'\n",
    "    \n",
    "]\n",
    "col_drop = [\"Unnamed: 0_x\", \"Unnamed: 0_y\"]"
   ]
  },
  {
   "cell_type": "markdown",
   "metadata": {
    "slideshow": {
     "slide_type": "slide"
    }
   },
   "source": [
    "## Build the target"
   ]
  },
  {
   "cell_type": "code",
   "execution_count": 1,
   "metadata": {
    "slideshow": {
     "slide_type": "subslide"
    }
   },
   "outputs": [
    {
     "ename": "NameError",
     "evalue": "name 'data' is not defined",
     "output_type": "error",
     "traceback": [
      "\u001b[0;31m---------------------------------------------------------------------------\u001b[0m",
      "\u001b[0;31mNameError\u001b[0m                                 Traceback (most recent call last)",
      "\u001b[0;32m<ipython-input-1-f59d86524535>\u001b[0m in \u001b[0;36m<module>\u001b[0;34m()\u001b[0m\n\u001b[0;32m----> 1\u001b[0;31m \u001b[0mdata\u001b[0m\u001b[0;34m.\u001b[0m\u001b[0mdrop\u001b[0m\u001b[0;34m(\u001b[0m\u001b[0mcol_drop\u001b[0m\u001b[0;34m,\u001b[0m \u001b[0maxis\u001b[0m \u001b[0;34m=\u001b[0m \u001b[0;36m1\u001b[0m\u001b[0;34m,\u001b[0m \u001b[0minplace\u001b[0m \u001b[0;34m=\u001b[0m \u001b[0;32mTrue\u001b[0m\u001b[0;34m)\u001b[0m\u001b[0;34m\u001b[0m\u001b[0m\n\u001b[0m\u001b[1;32m      2\u001b[0m \u001b[0mdata\u001b[0m\u001b[0;34m.\u001b[0m\u001b[0mcolumns\u001b[0m \u001b[0;34m=\u001b[0m \u001b[0;34m[\u001b[0m\u001b[0mi\u001b[0m\u001b[0;34m.\u001b[0m\u001b[0mlower\u001b[0m\u001b[0;34m(\u001b[0m\u001b[0;34m)\u001b[0m \u001b[0;32mfor\u001b[0m \u001b[0mi\u001b[0m \u001b[0;32min\u001b[0m \u001b[0mdata\u001b[0m\u001b[0;34m.\u001b[0m\u001b[0mcolumns\u001b[0m\u001b[0;34m]\u001b[0m\u001b[0;34m\u001b[0m\u001b[0m\n\u001b[1;32m      3\u001b[0m \u001b[0;34m\u001b[0m\u001b[0m\n\u001b[1;32m      4\u001b[0m \u001b[0mdata\u001b[0m\u001b[0;34m[\u001b[0m\u001b[0;34m\"target\"\u001b[0m\u001b[0;34m]\u001b[0m  \u001b[0;34m=\u001b[0m \u001b[0mnp\u001b[0m\u001b[0;34m.\u001b[0m\u001b[0mnan\u001b[0m\u001b[0;34m\u001b[0m\u001b[0m\n\u001b[1;32m      5\u001b[0m \u001b[0mdata\u001b[0m\u001b[0;34m[\u001b[0m\u001b[0;34m\"target\"\u001b[0m\u001b[0;34m]\u001b[0m\u001b[0;34m[\u001b[0m\u001b[0;34m(\u001b[0m\u001b[0mdata\u001b[0m\u001b[0;34m[\u001b[0m\u001b[0;34m\"immediate_extubation\"\u001b[0m\u001b[0;34m]\u001b[0m \u001b[0;34m==\u001b[0m \u001b[0;36m1\u001b[0m\u001b[0;34m)\u001b[0m \u001b[0;34m&\u001b[0m \u001b[0;34m(\u001b[0m\u001b[0mdata\u001b[0m\u001b[0;34m[\u001b[0m\u001b[0;34m\"secondary_intubation\"\u001b[0m\u001b[0;34m]\u001b[0m \u001b[0;34m==\u001b[0m \u001b[0;36m1\u001b[0m\u001b[0;34m)\u001b[0m\u001b[0;34m]\u001b[0m \u001b[0;34m=\u001b[0m \u001b[0;34m\"unsuccessful IE\"\u001b[0m\u001b[0;34m\u001b[0m\u001b[0m\n",
      "\u001b[0;31mNameError\u001b[0m: name 'data' is not defined"
     ]
    }
   ],
   "source": [
    "data.drop(col_drop, axis = 1, inplace = True)\n",
    "data.columns = [i.lower() for i in data.columns]\n",
    "\n",
    "data[\"target\"]  = np.nan\n",
    "data[\"target\"][(data[\"immediate_extubation\"] == 1) & (data[\"secondary_intubation\"] == 1)] = \"unsuccessful IE\"\n",
    "data[\"target\"][(data[\"immediate_extubation\"] == 1) & (data[\"secondary_intubation\"] == 0)] = \"successful IE\"\n",
    "\n",
    "data[data.target.notnull()][['target', 'immediate_extubation', \"secondary_intubation\"]].head()"
   ]
  },
  {
   "cell_type": "code",
   "execution_count": 170,
   "metadata": {
    "slideshow": {
     "slide_type": "subslide"
    }
   },
   "outputs": [
    {
     "name": "stdout",
     "output_type": "stream",
     "text": [
      "effectif unsuccessful IE 16\n",
      "effectif successful IE 119\n",
      "effectif NO IE 239\n",
      "effectif Auto IE 34\n",
      "\n",
      "\n",
      "Missing values in the target \n",
      " \n",
      " immediate_extubation    1\n",
      "secondary_intubation    3\n",
      "dtype: int64\n"
     ]
    }
   ],
   "source": [
    "print(\"effectif unsuccessful IE {}\".format(((data[\"immediate_extubation\"] == 1) & (data[\"secondary_intubation\"] == 1)).sum()))\n",
    "print(\"effectif successful IE {}\".format(((data[\"immediate_extubation\"] == 1) & (data[\"secondary_intubation\"] == 0)).sum()))\n",
    "print(\"effectif NO IE {}\".format(((data[\"immediate_extubation\"] == 0) & (data[\"secondary_intubation\"] == 0)).sum()))\n",
    "print(\"effectif Auto IE {}\".format(((data[\"immediate_extubation\"] == 0) & (data[\"secondary_intubation\"] == 1)).sum()))\n",
    "print('\\n')\n",
    "print(\"Missing values in the target \\n \\n\", data[[\"immediate_extubation\", \"secondary_intubation\"]].isnull().sum())"
   ]
  },
  {
   "cell_type": "code",
   "execution_count": 171,
   "metadata": {
    "slideshow": {
     "slide_type": "subslide"
    }
   },
   "outputs": [],
   "source": [
    "data.drop(['secondary_intubation','immediate_extubation'], inplace = True, axis = 1 )"
   ]
  },
  {
   "cell_type": "markdown",
   "metadata": {},
   "source": [
    "### select subset of patients"
   ]
  },
  {
   "cell_type": "code",
   "execution_count": 172,
   "metadata": {},
   "outputs": [],
   "source": [
    "data = data[data.target.notnull()]"
   ]
  },
  {
   "cell_type": "code",
   "execution_count": 173,
   "metadata": {},
   "outputs": [
    {
     "data": {
      "text/plain": [
       "'Nombre de match entre les tables fct_ et dim_patient 74'"
      ]
     },
     "execution_count": 173,
     "metadata": {},
     "output_type": "execute_result"
    }
   ],
   "source": [
    "fct_temp = pd.read_csv('../../../data/fct_temperature.csv')\n",
    "fct_temp['numero'] = fct_temp['id_patient']\n",
    "fct_temp = fct_temp.drop_duplicates(['numero'])\n",
    "n = pd.merge(data, fct_temp, how = 'inner', on = 'numero').shape[0]\n",
    "\n",
    "\n",
    "\"Nombre de match entre les tables fct_ et dim_patient {}\".format(n)"
   ]
  },
  {
   "cell_type": "code",
   "execution_count": 174,
   "metadata": {},
   "outputs": [
    {
     "name": "stdout",
     "output_type": "stream",
     "text": [
      "Dataset shape :  (135, 43)\n"
     ]
    },
    {
     "data": {
      "text/plain": [
       "successful IE      88.148148\n",
       "unsuccessful IE    11.851852\n",
       "Name: target, dtype: float64"
      ]
     },
     "execution_count": 174,
     "metadata": {},
     "output_type": "execute_result"
    }
   ],
   "source": [
    "print(\"Dataset shape :  {}\" .format(data.shape))\n",
    "data.target.value_counts()/len(data) * 100"
   ]
  },
  {
   "cell_type": "code",
   "execution_count": 175,
   "metadata": {},
   "outputs": [],
   "source": [
    "data = data.replace(\"NF\", np.nan)"
   ]
  },
  {
   "cell_type": "markdown",
   "metadata": {},
   "source": [
    "# Export"
   ]
  },
  {
   "cell_type": "code",
   "execution_count": 176,
   "metadata": {},
   "outputs": [],
   "source": [
    "data.to_csv('../../../data/data_merged.csv' , index = False)"
   ]
  },
  {
   "cell_type": "code",
   "execution_count": null,
   "metadata": {},
   "outputs": [],
   "source": []
  }
 ],
 "metadata": {
  "celltoolbar": "Slideshow",
  "kernelspec": {
   "display_name": "Python 3",
   "language": "python",
   "name": "python3"
  },
  "language_info": {
   "codemirror_mode": {
    "name": "ipython",
    "version": 3
   },
   "file_extension": ".py",
   "mimetype": "text/x-python",
   "name": "python",
   "nbconvert_exporter": "python",
   "pygments_lexer": "ipython3",
   "version": "3.7.0"
  }
 },
 "nbformat": 4,
 "nbformat_minor": 2
}
